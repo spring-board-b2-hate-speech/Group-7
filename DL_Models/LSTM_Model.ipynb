{
 "cells": [
  {
   "cell_type": "markdown",
   "id": "e568a5a0-a074-47bc-858e-a61cce09230b",
   "metadata": {},
   "source": [
    "# Long Short-Term Memory (LSTM)"
   ]
  },
  {
   "cell_type": "markdown",
   "id": "7c8e90ac-a710-4711-9b51-6345224c1c38",
   "metadata": {},
   "source": [
    "LSTM (Long Short-Term Memory) is a type of recurrent neural network (RNN) architecture designed to address the vanishing gradient problem that can occur when training traditional RNNs. It is particularly effective for modeling sequential data, where each element in the sequence depends on previous elements."
   ]
  },
  {
   "cell_type": "code",
   "execution_count": 1,
   "id": "85818240-7afe-4907-af13-81d9a010fd0a",
   "metadata": {},
   "outputs": [],
   "source": [
    "import pandas as pd\n",
    "train_file = r\"C:\\Users\\BHARGAVI\\Downloads\\project_data\\ghc_train.csv\"\n",
    "test_file = r\"C:\\Users\\BHARGAVI\\Downloads\\project_data\\ghc_test.csv\"\n",
    "\n",
    "# Load CSV files into pandas DataFrames\n",
    "train_df = pd.read_csv(train_file)\n",
    "test_df=pd.read_csv(test_file)"
   ]
  },
  {
   "cell_type": "markdown",
   "id": "cc0d1c3b-5486-4cc6-8f40-28e7dd07960d",
   "metadata": {},
   "source": [
    "# Preprocessing and Tokenizing for DL Models"
   ]
  },
  {
   "cell_type": "code",
   "execution_count": 2,
   "id": "3897f585-a84b-44ba-b2d9-9dde90c4f31a",
   "metadata": {},
   "outputs": [],
   "source": [
    "import pandas as pd\n",
    "\n",
    "# Function to map original labels to binary values\n",
    "def map_labels(df):\n",
    "    label_mapping = {'__label__0': 0, '__label__1': 1}\n",
    "    if 'label' in df.columns:\n",
    "        df['label'] = df['label'].map(label_mapping)\n",
    "    return df\n",
    "\n",
    "# Function to ensure text column is string type and handle missing values\n",
    "def preprocess_text_column(df):\n",
    "    df['text'] = df['text'].fillna('').astype(str)\n",
    "    return df\n",
    "    \n",
    "# Apply functions to preprocess train_df and test_df\n",
    "train_df = map_labels(train_df)\n",
    "test_df = map_labels(test_df)\n",
    "\n",
    "train_df = preprocess_text_column(train_df)\n",
    "test_df = preprocess_text_column(test_df)\n"
   ]
  },
  {
   "cell_type": "code",
   "execution_count": 3,
   "id": "6e466fd1-ee63-42d4-91f3-6fa62d0703f7",
   "metadata": {},
   "outputs": [],
   "source": [
    "import pandas as pd\n",
    "from tensorflow.keras.preprocessing.text import Tokenizer\n",
    "from tensorflow.keras.preprocessing.sequence import pad_sequences\n",
    "\n",
    "# Function to tokenize text data\n",
    "def tokenize_texts(train_texts, test_texts, num_words=None):\n",
    "    # Convert all values to strings to ensure tokenizer compatibility\n",
    "    train_texts = [str(text) for text in train_texts]\n",
    "    test_texts = [str(text) for text in test_texts]\n",
    "    \n",
    "    tokenizer = Tokenizer(num_words=num_words)\n",
    "    tokenizer.fit_on_texts(train_texts)\n",
    "    \n",
    "    X_train_seq = tokenizer.texts_to_sequences(train_texts)\n",
    "    X_test_seq = tokenizer.texts_to_sequences(test_texts)\n",
    "    \n",
    "    return tokenizer, X_train_seq, X_test_seq\n",
    "\n",
    "# Function to pad sequences\n",
    "def pad_sequences_data(X_train_seq, X_test_seq, max_sequence_length):\n",
    "    X_train_padded = pad_sequences(X_train_seq, maxlen=max_sequence_length)\n",
    "    X_test_padded = pad_sequences(X_test_seq, maxlen=max_sequence_length)\n",
    "    return X_train_padded, X_test_padded\n",
    "\n",
    "# Function to extract labels\n",
    "def extract_labels(train_data, test_data):\n",
    "    y_train = train_data['label'].values\n",
    "    y_test = test_data['label'].values\n",
    "    return y_train, y_test\n",
    "\n",
    "tokenizer, X_train_seq, X_test_seq = tokenize_texts(train_df['text'], test_df['text'], num_words=5000)\n",
    "X_train_padded, X_test_padded = pad_sequences_data(X_train_seq, X_test_seq, max_sequence_length=100)\n",
    "y_train, y_test = extract_labels(train_df, test_df)\n"
   ]
  },
  {
   "cell_type": "markdown",
   "id": "96d85edf-6f5b-401a-a70e-cbf709087ea2",
   "metadata": {},
   "source": [
    "# One LSTM Layer with 100 Neurons"
   ]
  },
  {
   "cell_type": "code",
   "execution_count": 5,
   "id": "73e7c099-d597-4c6a-9c11-695410625749",
   "metadata": {},
   "outputs": [
    {
     "name": "stdout",
     "output_type": "stream",
     "text": [
      "Epoch 1/5\n"
     ]
    },
    {
     "name": "stderr",
     "output_type": "stream",
     "text": [
      "C:\\Users\\BHARGAVI\\AppData\\Local\\Programs\\Python\\Python312\\Lib\\site-packages\\keras\\src\\layers\\core\\embedding.py:90: UserWarning: Argument `input_length` is deprecated. Just remove it.\n",
      "  warnings.warn(\n"
     ]
    },
    {
     "name": "stdout",
     "output_type": "stream",
     "text": [
      "\u001b[1m477/477\u001b[0m \u001b[32m━━━━━━━━━━━━━━━━━━━━\u001b[0m\u001b[37m\u001b[0m \u001b[1m115s\u001b[0m 233ms/step - accuracy: 0.6929 - loss: 0.5586 - val_accuracy: 0.8191 - val_loss: 0.4436\n",
      "Epoch 2/5\n",
      "\u001b[1m477/477\u001b[0m \u001b[32m━━━━━━━━━━━━━━━━━━━━\u001b[0m\u001b[37m\u001b[0m \u001b[1m117s\u001b[0m 245ms/step - accuracy: 0.9009 - loss: 0.2678 - val_accuracy: 0.8072 - val_loss: 0.5131\n",
      "Epoch 3/5\n",
      "\u001b[1m477/477\u001b[0m \u001b[32m━━━━━━━━━━━━━━━━━━━━\u001b[0m\u001b[37m\u001b[0m \u001b[1m116s\u001b[0m 244ms/step - accuracy: 0.9347 - loss: 0.1866 - val_accuracy: 0.8180 - val_loss: 0.5341\n",
      "Epoch 4/5\n",
      "\u001b[1m477/477\u001b[0m \u001b[32m━━━━━━━━━━━━━━━━━━━━\u001b[0m\u001b[37m\u001b[0m \u001b[1m122s\u001b[0m 255ms/step - accuracy: 0.9553 - loss: 0.1309 - val_accuracy: 0.8531 - val_loss: 0.5536\n",
      "Epoch 5/5\n",
      "\u001b[1m477/477\u001b[0m \u001b[32m━━━━━━━━━━━━━━━━━━━━\u001b[0m\u001b[37m\u001b[0m \u001b[1m115s\u001b[0m 241ms/step - accuracy: 0.9681 - loss: 0.0974 - val_accuracy: 0.8278 - val_loss: 0.6449\n",
      "\u001b[1m173/173\u001b[0m \u001b[32m━━━━━━━━━━━━━━━━━━━━\u001b[0m\u001b[37m\u001b[0m \u001b[1m8s\u001b[0m 44ms/step - accuracy: 0.8260 - loss: 0.4458\n",
      "\u001b[1m173/173\u001b[0m \u001b[32m━━━━━━━━━━━━━━━━━━━━\u001b[0m\u001b[37m\u001b[0m \u001b[1m10s\u001b[0m 56ms/step\n",
      "LSTM Model Classification Report with Adjusted Threshold:\n",
      "               precision    recall  f1-score   support\n",
      "\n",
      "     Class 0       0.95      0.77      0.85      4803\n",
      "     Class 1       0.32      0.72      0.44       707\n",
      "\n",
      "    accuracy                           0.76      5510\n",
      "   macro avg       0.63      0.74      0.64      5510\n",
      "weighted avg       0.87      0.76      0.80      5510\n",
      "\n",
      "Confusion Matrix:\n",
      " [[3699 1104]\n",
      " [ 199  508]]\n"
     ]
    },
    {
     "data": {
      "image/png": "[encoded data removed]",
      "text/plain": [
       "<Figure size 800x600 with 1 Axes>"
      ]
     },
     "metadata": {},
     "output_type": "display_data"
    }
   ],
   "source": [
    "import pandas as pd\n",
    "import numpy as np\n",
    "import matplotlib.pyplot as plt\n",
    "import seaborn as sns\n",
    "from sklearn.model_selection import train_test_split\n",
    "from tensorflow.keras.preprocessing.text import Tokenizer\n",
    "from tensorflow.keras.preprocessing.sequence import pad_sequences\n",
    "from tensorflow.keras.models import Sequential\n",
    "from tensorflow.keras.layers import Embedding, LSTM, Dense, Dropout, Bidirectional\n",
    "from tensorflow.keras.callbacks import EarlyStopping\n",
    "from sklearn.metrics import classification_report, confusion_matrix\n",
    "from imblearn.over_sampling import RandomOverSampler\n",
    "\n",
    "# Load datasets\n",
    "train_df = pd.read_csv(r\"C:\\Users\\BHARGAVI\\Downloads\\project_data\\ghc_train.csv\")\n",
    "test_df = pd.read_csv(r\"C:\\Users\\BHARGAVI\\Downloads\\project_data\\ghc_test.csv\")\n",
    "\n",
    "# Replace NaN values with empty strings\n",
    "train_df['text'] = train_df['text'].fillna('')\n",
    "test_df['text'] = test_df['text'].fillna('')\n",
    "\n",
    "# Extract texts and labels\n",
    "X = train_df['text'].values.astype(str)\n",
    "y = train_df['label'].values\n",
    "\n",
    "# Split the data\n",
    "X_train, X_val, y_train, y_val = train_test_split(X, y, test_size=0.2, random_state=42)\n",
    "\n",
    "# Tokenize texts\n",
    "tokenizer = Tokenizer(num_words=5000)\n",
    "tokenizer.fit_on_texts(X_train)\n",
    "X_train_seq = tokenizer.texts_to_sequences(X_train)\n",
    "X_val_seq = tokenizer.texts_to_sequences(X_val)\n",
    "X_test_seq = tokenizer.texts_to_sequences(test_df['text'].values.astype(str))\n",
    "\n",
    "# Pad sequences\n",
    "max_len = 100  # Maximum sequence length\n",
    "X_train_padded = pad_sequences(X_train_seq, maxlen=max_len, padding='post')\n",
    "X_val_padded = pad_sequences(X_val_seq, maxlen=max_len, padding='post')\n",
    "X_test_padded = pad_sequences(X_test_seq, maxlen=max_len, padding='post')\n",
    "\n",
    "# Apply Random Oversampling to balance the training data\n",
    "ros = RandomOverSampler(random_state=42)\n",
    "X_train_resampled, y_train_resampled = ros.fit_resample(X_train_padded, y_train)\n",
    "\n",
    "# Define LSTM model\n",
    "lstm_model = Sequential()\n",
    "lstm_model.add(Embedding(input_dim=5000, output_dim=128, input_length=max_len))\n",
    "lstm_model.add(Bidirectional(LSTM(100, dropout=0.2, recurrent_dropout=0.2)))\n",
    "lstm_model.add(Dropout(0.2))\n",
    "lstm_model.add(Dense(1, activation='sigmoid'))  # For binary classification\n",
    "\n",
    "# Compile the model\n",
    "lstm_model.compile(loss='binary_crossentropy', optimizer='adam', metrics=['accuracy'])\n",
    "\n",
    "# Define early stopping\n",
    "early_stopping = EarlyStopping(monitor='val_loss', patience=5, restore_best_weights=True)\n",
    "\n",
    "# Train the model with oversampled data\n",
    "history = lstm_model.fit(X_train_resampled, y_train_resampled, epochs=5, batch_size=64,\n",
    "                         validation_data=(X_val_padded, y_val),\n",
    "                         callbacks=[early_stopping])\n",
    "\n",
    "# Evaluate LSTM model\n",
    "lstm_loss, lstm_accuracy = lstm_model.evaluate(X_test_padded, test_df['label'].values)\n",
    "lstm_y_pred = lstm_model.predict(X_test_padded)\n",
    "lstm_y_pred_classes = (lstm_y_pred > 0.5).astype(int).flatten()\n",
    "\n",
    "# Adjust threshold for classification to reduce false negatives\n",
    "threshold = 0.3\n",
    "lstm_y_pred_classes_adjusted = (lstm_y_pred > threshold).astype(int).flatten()\n",
    "\n",
    "# Print classification report\n",
    "lstm_report = classification_report(test_df['label'].values, lstm_y_pred_classes_adjusted, target_names=['Class 0', 'Class 1'])\n",
    "print(\"LSTM Model Classification Report with Adjusted Threshold:\\n\", lstm_report)\n",
    "\n",
    "# Print confusion matrix\n",
    "lstm_conf_matrix = confusion_matrix(test_df['label'].values, lstm_y_pred_classes_adjusted)\n",
    "print(\"Confusion Matrix:\\n\", lstm_conf_matrix)\n",
    "\n",
    "# Plot confusion matrix\n",
    "plt.figure(figsize=(8, 6))\n",
    "sns.heatmap(lstm_conf_matrix, annot=True, fmt='d', cmap='Blues', cbar=False,\n",
    "            xticklabels=['Predicted Class 0', 'Predicted Class 1'],\n",
    "            yticklabels=['Actual Class 0', 'Actual Class 1'])\n",
    "plt.xlabel('Predicted Label')\n",
    "plt.ylabel('True Label')\n",
    "plt.title('Confusion Matrix')\n",
    "plt.show()\n"
   ]
  },
  {
   "cell_type": "markdown",
   "id": "bebe0588-05e6-4fe7-ae65-ea899f90a613",
   "metadata": {},
   "source": [
    "# One LSTM Layer with 64 Neurons\n"
   ]
  },
  {
   "cell_type": "code",
   "execution_count": 4,
   "id": "3d5f512f-9a7f-4951-9452-28469dbfc8a6",
   "metadata": {},
   "outputs": [
    {
     "name": "stdout",
     "output_type": "stream",
     "text": [
      "Epoch 1/5\n"
     ]
    },
    {
     "name": "stderr",
     "output_type": "stream",
     "text": [
      "C:\\Users\\BHARGAVI\\AppData\\Local\\Programs\\Python\\Python312\\Lib\\site-packages\\keras\\src\\layers\\core\\embedding.py:90: UserWarning: Argument `input_length` is deprecated. Just remove it.\n",
      "  warnings.warn(\n"
     ]
    },
    {
     "name": "stdout",
     "output_type": "stream",
     "text": [
      "\u001b[1m477/477\u001b[0m \u001b[32m━━━━━━━━━━━━━━━━━━━━\u001b[0m\u001b[37m\u001b[0m \u001b[1m110s\u001b[0m 218ms/step - accuracy: 0.6957 - loss: 0.5564 - val_accuracy: 0.8391 - val_loss: 0.3956\n",
      "Epoch 2/5\n",
      "\u001b[1m477/477\u001b[0m \u001b[32m━━━━━━━━━━━━━━━━━━━━\u001b[0m\u001b[37m\u001b[0m \u001b[1m104s\u001b[0m 218ms/step - accuracy: 0.9028 - loss: 0.2646 - val_accuracy: 0.8308 - val_loss: 0.4933\n",
      "Epoch 3/5\n",
      "\u001b[1m477/477\u001b[0m \u001b[32m━━━━━━━━━━━━━━━━━━━━\u001b[0m\u001b[37m\u001b[0m \u001b[1m142s\u001b[0m 218ms/step - accuracy: 0.9354 - loss: 0.1839 - val_accuracy: 0.8368 - val_loss: 0.5459\n",
      "Epoch 4/5\n",
      "\u001b[1m477/477\u001b[0m \u001b[32m━━━━━━━━━━━━━━━━━━━━\u001b[0m\u001b[37m\u001b[0m \u001b[1m107s\u001b[0m 223ms/step - accuracy: 0.9586 - loss: 0.1279 - val_accuracy: 0.8494 - val_loss: 0.6088\n",
      "Epoch 5/5\n",
      "\u001b[1m477/477\u001b[0m \u001b[32m━━━━━━━━━━━━━━━━━━━━\u001b[0m\u001b[37m\u001b[0m \u001b[1m141s\u001b[0m 219ms/step - accuracy: 0.9662 - loss: 0.1020 - val_accuracy: 0.8393 - val_loss: 0.6557\n",
      "\u001b[1m173/173\u001b[0m \u001b[32m━━━━━━━━━━━━━━━━━━━━\u001b[0m\u001b[37m\u001b[0m \u001b[1m5s\u001b[0m 26ms/step - accuracy: 0.8421 - loss: 0.4010\n",
      "\u001b[1m173/173\u001b[0m \u001b[32m━━━━━━━━━━━━━━━━━━━━\u001b[0m\u001b[37m\u001b[0m \u001b[1m5s\u001b[0m 26ms/step\n",
      "LSTM Model Classification Report with Adjusted Threshold:\n",
      "               precision    recall  f1-score   support\n",
      "\n",
      "     Class 0       0.95      0.82      0.88      4803\n",
      "     Class 1       0.36      0.68      0.47       707\n",
      "\n",
      "    accuracy                           0.81      5510\n",
      "   macro avg       0.65      0.75      0.68      5510\n",
      "weighted avg       0.87      0.81      0.83      5510\n",
      "\n",
      "Confusion Matrix:\n",
      " [[3958  845]\n",
      " [ 225  482]]\n"
     ]
    },
    {
     "data": {
      "image/png": "[encoded data removed]",
      "text/plain": [
       "<Figure size 800x600 with 1 Axes>"
      ]
     },
     "metadata": {},
     "output_type": "display_data"
    }
   ],
   "source": [
    "import pandas as pd\n",
    "import numpy as np\n",
    "import matplotlib.pyplot as plt\n",
    "import seaborn as sns\n",
    "from sklearn.model_selection import train_test_split\n",
    "from tensorflow.keras.preprocessing.text import Tokenizer\n",
    "from tensorflow.keras.preprocessing.sequence import pad_sequences\n",
    "from tensorflow.keras.models import Sequential\n",
    "from tensorflow.keras.layers import Embedding, LSTM, Dense, Dropout, Bidirectional\n",
    "from tensorflow.keras.callbacks import EarlyStopping\n",
    "from sklearn.metrics import classification_report, confusion_matrix\n",
    "from imblearn.over_sampling import RandomOverSampler\n",
    "\n",
    "# Load datasets\n",
    "train_df = pd.read_csv(r\"C:\\Users\\BHARGAVI\\Downloads\\project_data\\ghc_train.csv\")\n",
    "test_df = pd.read_csv(r\"C:\\Users\\BHARGAVI\\Downloads\\project_data\\ghc_test.csv\")\n",
    "\n",
    "# Replace NaN values with empty strings\n",
    "train_df['text'] = train_df['text'].fillna('')\n",
    "test_df['text'] = test_df['text'].fillna('')\n",
    "\n",
    "# Extract texts and labels\n",
    "X = train_df['text'].values.astype(str)\n",
    "y = train_df['label'].values\n",
    "\n",
    "# Split the data\n",
    "X_train, X_val, y_train, y_val = train_test_split(X, y, test_size=0.2, random_state=42)\n",
    "\n",
    "# Tokenize texts\n",
    "tokenizer = Tokenizer(num_words=5000)\n",
    "tokenizer.fit_on_texts(X_train)\n",
    "X_train_seq = tokenizer.texts_to_sequences(X_train)\n",
    "X_val_seq = tokenizer.texts_to_sequences(X_val)\n",
    "X_test_seq = tokenizer.texts_to_sequences(test_df['text'].values.astype(str))\n",
    "\n",
    "# Pad sequences\n",
    "max_len = 100  # Maximum sequence length\n",
    "X_train_padded = pad_sequences(X_train_seq, maxlen=max_len, padding='post')\n",
    "X_val_padded = pad_sequences(X_val_seq, maxlen=max_len, padding='post')\n",
    "X_test_padded = pad_sequences(X_test_seq, maxlen=max_len, padding='post')\n",
    "\n",
    "# Apply Random Oversampling to balance the training data\n",
    "ros = RandomOverSampler(random_state=42)\n",
    "X_train_resampled, y_train_resampled = ros.fit_resample(X_train_padded, y_train)\n",
    "\n",
    "# Define LSTM model with 64 neurons\n",
    "lstm_model = Sequential()\n",
    "lstm_model.add(Embedding(input_dim=5000, output_dim=128, input_length=max_len))\n",
    "lstm_model.add(Bidirectional(LSTM(64, dropout=0.2, recurrent_dropout=0.2)))\n",
    "lstm_model.add(Dropout(0.2))\n",
    "lstm_model.add(Dense(1, activation='sigmoid'))  # For binary classification\n",
    "\n",
    "# Compile the model\n",
    "lstm_model.compile(loss='binary_crossentropy', optimizer='adam', metrics=['accuracy'])\n",
    "\n",
    "# Define early stopping\n",
    "early_stopping = EarlyStopping(monitor='val_loss', patience=5, restore_best_weights=True)\n",
    "\n",
    "# Train the model with oversampled data\n",
    "history = lstm_model.fit(X_train_resampled, y_train_resampled, epochs=5, batch_size=64,\n",
    "                         validation_data=(X_val_padded, y_val),\n",
    "                         callbacks=[early_stopping])\n",
    "\n",
    "# Evaluate LSTM model\n",
    "lstm_loss, lstm_accuracy = lstm_model.evaluate(X_test_padded, test_df['label'].values)\n",
    "lstm_y_pred = lstm_model.predict(X_test_padded)\n",
    "lstm_y_pred_classes = (lstm_y_pred > 0.5).astype(int).flatten()\n",
    "\n",
    "# Adjust threshold for classification to reduce false negatives\n",
    "threshold = 0.3\n",
    "lstm_y_pred_classes_adjusted = (lstm_y_pred > threshold).astype(int).flatten()\n",
    "\n",
    "# Print classification report\n",
    "lstm_report = classification_report(test_df['label'].values, lstm_y_pred_classes_adjusted, target_names=['Class 0', 'Class 1'])\n",
    "print(\"LSTM Model Classification Report with Adjusted Threshold:\\n\", lstm_report)\n",
    "\n",
    "# Print confusion matrix\n",
    "lstm_conf_matrix = confusion_matrix(test_df['label'].values, lstm_y_pred_classes_adjusted)\n",
    "print(\"Confusion Matrix:\\n\", lstm_conf_matrix)\n",
    "\n",
    "# Plot confusion matrix\n",
    "plt.figure(figsize=(8, 6))\n",
    "sns.heatmap(lstm_conf_matrix, annot=True, fmt='d', cmap='Blues', cbar=False,\n",
    "            xticklabels=['Predicted Class 0', 'Predicted Class 1'],\n",
    "            yticklabels=['Actual Class 0', 'Actual Class 1'])\n",
    "plt.xlabel('Predicted Label')\n",
    "plt.ylabel('True Label')\n",
    "plt.title('Confusion Matrix')\n",
    "plt.show()\n"
   ]
  },
  {
   "cell_type": "code",
   "execution_count": null,
   "id": "3ccd0199-7556-4bae-828d-a3063fc2166a",
   "metadata": {},
   "outputs": [],
   "source": []
  }
 ],
 "metadata": {
  "kernelspec": {
   "display_name": "Python 3 (ipykernel)",
   "language": "python",
   "name": "python3"
  },
  "language_info": {
   "codemirror_mode": {
    "name": "ipython",
    "version": 3
   },
   "file_extension": ".py",
   "mimetype": "text/x-python",
   "name": "python",
   "nbconvert_exporter": "python",
   "pygments_lexer": "ipython3",
   "version": "3.12.3"
  }
 },
 "nbformat": 4,
 "nbformat_minor": 5
}
