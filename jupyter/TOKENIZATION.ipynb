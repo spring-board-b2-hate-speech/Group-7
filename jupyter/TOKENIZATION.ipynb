{
 "cells": [
  {
   "cell_type": "code",
   "execution_count": 1,
   "id": "664b3e2c-0c2f-45fe-810b-28f5615b7642",
   "metadata": {},
   "outputs": [],
   "source": [
    "import pandas as pd\n",
    "from sklearn.preprocessing import StandardScaler\n",
    "# Load the TSV files\n",
    "train_file_path = r'C:\\Users\\BHARGAVI\\Downloads\\project_data\\ghc_train.tsv'\n",
    "test_file_path = r'C:\\Users\\BHARGAVI\\Downloads\\project_data\\ghc_test.tsv'\n",
    "train_data = pd.read_csv(train_file_path, sep='\\t')\n",
    "test_data = pd.read_csv(test_file_path, sep='\\t')"
   ]
  },
  {
   "cell_type": "markdown",
   "id": "f72dcb0d-9a64-4acf-a76b-68854ff849a3",
   "metadata": {},
   "source": [
    "TOKENIZATION (Using NLTK (Natural Language Toolkit)). NLTK is a popular library for text processing and provides various tokenizers for different purposes."
   ]
  },
  {
   "cell_type": "code",
   "execution_count": 2,
   "id": "21d4a03c-2759-47de-b317-b3185163e079",
   "metadata": {},
   "outputs": [
    {
     "name": "stdout",
     "output_type": "stream",
     "text": [
      "                                                    text  hd  cv  vo  \\\n",
      "0      He most likely converted to islam due to his n...   0   0   0   \n",
      "1      So Ford lied about being a psychologist. Recor...   0   0   0   \n",
      "2         Jobs. Education. Ending abuse of Nation. CA43.   0   0   0   \n",
      "3      I share a lot of your values, & like many who ...   0   0   0   \n",
      "4      I am so ready to get back to blogging! www.ben...   0   0   0   \n",
      "...                                                  ...  ..  ..  ..   \n",
      "22031  I'm a fan of western civilization, and one bed...   0   0   0   \n",
      "22032  Or ... is she saying that Muslims don't know h...   0   0   0   \n",
      "22033  Thank you to all my followers that follow me e...   0   0   0   \n",
      "22034  Wednesday music. https://www.youtube.com/watch...   0   0   0   \n",
      "22035  This is a really Big Surprise!  https://www.wn...   0   0   0   \n",
      "\n",
      "                                          tokenized_text  \n",
      "0      [He, most, likely, converted, to, islam, due, ...  \n",
      "1      [So, Ford, lied, about, being, a, psychologist...  \n",
      "2      [Jobs, ., Education, ., Ending, abuse, of, Nat...  \n",
      "3      [I, share, a, lot, of, your, values, ,, &, lik...  \n",
      "4      [I, am, so, ready, to, get, back, to, blogging...  \n",
      "...                                                  ...  \n",
      "22031  [I, 'm, a, fan, of, western, civilization, ,, ...  \n",
      "22032  [Or, ..., is, she, saying, that, Muslims, do, ...  \n",
      "22033  [Thank, you, to, all, my, followers, that, fol...  \n",
      "22034  [Wednesday, music, ., https, :, //www.youtube....  \n",
      "22035  [This, is, a, really, Big, Surprise, !, https,...  \n",
      "\n",
      "[22036 rows x 5 columns]\n"
     ]
    }
   ],
   "source": [
    "import pandas as pd\n",
    "import nltk\n",
    "from nltk.tokenize import word_tokenize\n",
    "\n",
    "# Example DataFrame\n",
    "train_data = pd.read_csv(train_file_path, sep='\\t')\n",
    "df = pd.DataFrame(train_data)\n",
    "\n",
    "# Tokenize a specific column using NLTK\n",
    "def tokenize_text(text):\n",
    "    return word_tokenize(text)\n",
    "\n",
    "df['tokenized_text'] = df['text'].apply(tokenize_text)\n",
    "\n",
    "# Print the DataFrame with tokenized text\n",
    "print(df)\n"
   ]
  },
  {
   "cell_type": "markdown",
   "id": "f9e85e80-a2c9-4975-bb12-8e4357ab077e",
   "metadata": {},
   "source": [
    "Using Regular Expressions (Regex)\n",
    "Regex can be used for more customized tokenization based on specific patterns."
   ]
  },
  {
   "cell_type": "code",
   "execution_count": 5,
   "id": "47a6b642-1a8b-4c21-87a8-bd20c92876cb",
   "metadata": {},
   "outputs": [
    {
     "name": "stdout",
     "output_type": "stream",
     "text": [
      "                                                    text  hd  cv  vo  \\\n",
      "0      He most likely converted to islam due to his n...   0   0   0   \n",
      "1      So Ford lied about being a psychologist. Recor...   0   0   0   \n",
      "2         Jobs. Education. Ending abuse of Nation. CA43.   0   0   0   \n",
      "3      I share a lot of your values, & like many who ...   0   0   0   \n",
      "4      I am so ready to get back to blogging! www.ben...   0   0   0   \n",
      "...                                                  ...  ..  ..  ..   \n",
      "22031  I'm a fan of western civilization, and one bed...   0   0   0   \n",
      "22032  Or ... is she saying that Muslims don't know h...   0   0   0   \n",
      "22033  Thank you to all my followers that follow me e...   0   0   0   \n",
      "22034  Wednesday music. https://www.youtube.com/watch...   0   0   0   \n",
      "22035  This is a really Big Surprise!  https://www.wn...   0   0   0   \n",
      "\n",
      "                                                  tokens  \n",
      "0      [He, most, likely, converted, to, islam, due, ...  \n",
      "1      [So, Ford, lied, about, being, a, psychologist...  \n",
      "2      [Jobs, Education, Ending, abuse, of, Nation, C...  \n",
      "3      [I, share, a, lot, of, your, values, like, man...  \n",
      "4      [I, am, so, ready, to, get, back, to, blogging...  \n",
      "...                                                  ...  \n",
      "22031  [I, m, a, fan, of, western, civilization, and,...  \n",
      "22032  [Or, is, she, saying, that, Muslims, don, t, k...  \n",
      "22033  [Thank, you, to, all, my, followers, that, fol...  \n",
      "22034  [Wednesday, music, https, www, youtube, com, w...  \n",
      "22035  [This, is, a, really, Big, Surprise, https, ww...  \n",
      "\n",
      "[22036 rows x 5 columns]\n"
     ]
    }
   ],
   "source": [
    "import pandas as pd\n",
    "import re\n",
    "# Example DataFrame\n",
    "train_data = pd.read_csv(train_file_path, sep='\\t')\n",
    "df = pd.DataFrame(train_data)\n",
    "# Tokenization using regular expressions\n",
    "df['tokens'] = df['text'].apply(lambda x: re.findall(r'\\b\\w+\\b', x))\n",
    "\n",
    "# Print the DataFrame with tokens\n",
    "print(df)"
   ]
  },
  {
   "cell_type": "code",
   "execution_count": null,
   "id": "f7e303e7-0f90-4d01-98d9-e3aa96072db0",
   "metadata": {},
   "outputs": [],
   "source": []
  }
 ],
 "metadata": {
  "kernelspec": {
   "display_name": "Python 3 (ipykernel)",
   "language": "python",
   "name": "python3"
  },
  "language_info": {
   "codemirror_mode": {
    "name": "ipython",
    "version": 3
   },
   "file_extension": ".py",
   "mimetype": "text/x-python",
   "name": "python",
   "nbconvert_exporter": "python",
   "pygments_lexer": "ipython3",
   "version": "3.12.3"
  }
 },
 "nbformat": 4,
 "nbformat_minor": 5
}
