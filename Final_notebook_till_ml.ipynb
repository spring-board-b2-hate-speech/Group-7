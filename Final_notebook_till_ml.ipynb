{
 "cells": [
  {
   "cell_type": "code",
   "execution_count": 35,
   "id": "e147fedc",
   "metadata": {},
   "outputs": [],
   "source": [
    "# Basic Python package\n",
    "import pandas as pd\n",
    "import numpy as np\n",
    "import seaborn as sns\n",
    "import matplotlib.pyplot as plt\n",
    "import string \n",
    "import re"
   ]
  },
  {
   "cell_type": "code",
   "execution_count": 36,
   "id": "ef575e94",
   "metadata": {},
   "outputs": [],
   "source": [
    "# Load the TSV files\n",
    "train_file_path = r'C:\\Users\\prits\\Downloads\\Data\\ghc_train.tsv'\n",
    "df = pd.read_csv(train_file_path, sep='\\t')"
   ]
  },
  {
   "cell_type": "markdown",
   "id": "1fe9c4c2",
   "metadata": {},
   "source": [
    "# DATA CLEANING"
   ]
  },
  {
   "cell_type": "code",
   "execution_count": 3,
   "id": "d2591075",
   "metadata": {},
   "outputs": [
    {
     "data": {
      "text/plain": [
       "Index(['text', 'hd', 'cv', 'vo'], dtype='object')"
      ]
     },
     "execution_count": 3,
     "metadata": {},
     "output_type": "execute_result"
    }
   ],
   "source": [
    "#To know are the columns in our dataset\n",
    "# Columns: Assault on Human Dignity (hd), Calls for Violence (cv), Vulgarity/Offensive Language directed at an individual (vo)\n",
    "df.columns"
   ]
  },
  {
   "cell_type": "code",
   "execution_count": 4,
   "id": "9b9089f4",
   "metadata": {},
   "outputs": [
    {
     "data": {
      "text/html": [
       "<div>\n",
       "<style scoped>\n",
       "    .dataframe tbody tr th:only-of-type {\n",
       "        vertical-align: middle;\n",
       "    }\n",
       "\n",
       "    .dataframe tbody tr th {\n",
       "        vertical-align: top;\n",
       "    }\n",
       "\n",
       "    .dataframe thead th {\n",
       "        text-align: right;\n",
       "    }\n",
       "</style>\n",
       "<table border=\"1\" class=\"dataframe\">\n",
       "  <thead>\n",
       "    <tr style=\"text-align: right;\">\n",
       "      <th></th>\n",
       "      <th>text</th>\n",
       "      <th>hd</th>\n",
       "      <th>cv</th>\n",
       "      <th>vo</th>\n",
       "    </tr>\n",
       "  </thead>\n",
       "  <tbody>\n",
       "    <tr>\n",
       "      <th>0</th>\n",
       "      <td>He most likely converted to islam due to his n...</td>\n",
       "      <td>0</td>\n",
       "      <td>0</td>\n",
       "      <td>0</td>\n",
       "    </tr>\n",
       "    <tr>\n",
       "      <th>1</th>\n",
       "      <td>So Ford lied about being a psychologist. Recor...</td>\n",
       "      <td>0</td>\n",
       "      <td>0</td>\n",
       "      <td>0</td>\n",
       "    </tr>\n",
       "    <tr>\n",
       "      <th>2</th>\n",
       "      <td>Jobs. Education. Ending abuse of Nation. CA43.</td>\n",
       "      <td>0</td>\n",
       "      <td>0</td>\n",
       "      <td>0</td>\n",
       "    </tr>\n",
       "    <tr>\n",
       "      <th>3</th>\n",
       "      <td>I share a lot of your values, &amp; like many who ...</td>\n",
       "      <td>0</td>\n",
       "      <td>0</td>\n",
       "      <td>0</td>\n",
       "    </tr>\n",
       "    <tr>\n",
       "      <th>4</th>\n",
       "      <td>I am so ready to get back to blogging! www.ben...</td>\n",
       "      <td>0</td>\n",
       "      <td>0</td>\n",
       "      <td>0</td>\n",
       "    </tr>\n",
       "    <tr>\n",
       "      <th>5</th>\n",
       "      <td>taking a look at new opportunity called FX Pro...</td>\n",
       "      <td>0</td>\n",
       "      <td>0</td>\n",
       "      <td>0</td>\n",
       "    </tr>\n",
       "    <tr>\n",
       "      <th>6</th>\n",
       "      <td>Reflecting back when I was in school with Spec...</td>\n",
       "      <td>0</td>\n",
       "      <td>0</td>\n",
       "      <td>0</td>\n",
       "    </tr>\n",
       "    <tr>\n",
       "      <th>7</th>\n",
       "      <td>Let's be honest everyone, last year there were...</td>\n",
       "      <td>0</td>\n",
       "      <td>0</td>\n",
       "      <td>0</td>\n",
       "    </tr>\n",
       "    <tr>\n",
       "      <th>8</th>\n",
       "      <td>2007 Nuke plant in Syria</td>\n",
       "      <td>0</td>\n",
       "      <td>0</td>\n",
       "      <td>0</td>\n",
       "    </tr>\n",
       "    <tr>\n",
       "      <th>9</th>\n",
       "      <td>NBC's Chuck Todd Thinks He's Figured It All Ou...</td>\n",
       "      <td>0</td>\n",
       "      <td>0</td>\n",
       "      <td>0</td>\n",
       "    </tr>\n",
       "  </tbody>\n",
       "</table>\n",
       "</div>"
      ],
      "text/plain": [
       "                                                text  hd  cv  vo\n",
       "0  He most likely converted to islam due to his n...   0   0   0\n",
       "1  So Ford lied about being a psychologist. Recor...   0   0   0\n",
       "2     Jobs. Education. Ending abuse of Nation. CA43.   0   0   0\n",
       "3  I share a lot of your values, & like many who ...   0   0   0\n",
       "4  I am so ready to get back to blogging! www.ben...   0   0   0\n",
       "5  taking a look at new opportunity called FX Pro...   0   0   0\n",
       "6  Reflecting back when I was in school with Spec...   0   0   0\n",
       "7  Let's be honest everyone, last year there were...   0   0   0\n",
       "8                          2007 Nuke plant in Syria    0   0   0\n",
       "9  NBC's Chuck Todd Thinks He's Figured It All Ou...   0   0   0"
      ]
     },
     "execution_count": 4,
     "metadata": {},
     "output_type": "execute_result"
    }
   ],
   "source": [
    "#Top 10 rows in our dataset\n",
    "df.head(10)"
   ]
  },
  {
   "cell_type": "code",
   "execution_count": 5,
   "id": "39a13d35",
   "metadata": {},
   "outputs": [
    {
     "data": {
      "text/html": [
       "<div>\n",
       "<style scoped>\n",
       "    .dataframe tbody tr th:only-of-type {\n",
       "        vertical-align: middle;\n",
       "    }\n",
       "\n",
       "    .dataframe tbody tr th {\n",
       "        vertical-align: top;\n",
       "    }\n",
       "\n",
       "    .dataframe thead th {\n",
       "        text-align: right;\n",
       "    }\n",
       "</style>\n",
       "<table border=\"1\" class=\"dataframe\">\n",
       "  <thead>\n",
       "    <tr style=\"text-align: right;\">\n",
       "      <th></th>\n",
       "      <th>hd</th>\n",
       "      <th>cv</th>\n",
       "      <th>vo</th>\n",
       "    </tr>\n",
       "  </thead>\n",
       "  <tbody>\n",
       "    <tr>\n",
       "      <th>count</th>\n",
       "      <td>22036.000000</td>\n",
       "      <td>22036.000000</td>\n",
       "      <td>22036.000000</td>\n",
       "    </tr>\n",
       "    <tr>\n",
       "      <th>mean</th>\n",
       "      <td>0.084271</td>\n",
       "      <td>0.005945</td>\n",
       "      <td>0.062579</td>\n",
       "    </tr>\n",
       "    <tr>\n",
       "      <th>std</th>\n",
       "      <td>0.277800</td>\n",
       "      <td>0.076875</td>\n",
       "      <td>0.242210</td>\n",
       "    </tr>\n",
       "    <tr>\n",
       "      <th>min</th>\n",
       "      <td>0.000000</td>\n",
       "      <td>0.000000</td>\n",
       "      <td>0.000000</td>\n",
       "    </tr>\n",
       "    <tr>\n",
       "      <th>25%</th>\n",
       "      <td>0.000000</td>\n",
       "      <td>0.000000</td>\n",
       "      <td>0.000000</td>\n",
       "    </tr>\n",
       "    <tr>\n",
       "      <th>50%</th>\n",
       "      <td>0.000000</td>\n",
       "      <td>0.000000</td>\n",
       "      <td>0.000000</td>\n",
       "    </tr>\n",
       "    <tr>\n",
       "      <th>75%</th>\n",
       "      <td>0.000000</td>\n",
       "      <td>0.000000</td>\n",
       "      <td>0.000000</td>\n",
       "    </tr>\n",
       "    <tr>\n",
       "      <th>max</th>\n",
       "      <td>1.000000</td>\n",
       "      <td>1.000000</td>\n",
       "      <td>1.000000</td>\n",
       "    </tr>\n",
       "  </tbody>\n",
       "</table>\n",
       "</div>"
      ],
      "text/plain": [
       "                 hd            cv            vo\n",
       "count  22036.000000  22036.000000  22036.000000\n",
       "mean       0.084271      0.005945      0.062579\n",
       "std        0.277800      0.076875      0.242210\n",
       "min        0.000000      0.000000      0.000000\n",
       "25%        0.000000      0.000000      0.000000\n",
       "50%        0.000000      0.000000      0.000000\n",
       "75%        0.000000      0.000000      0.000000\n",
       "max        1.000000      1.000000      1.000000"
      ]
     },
     "execution_count": 5,
     "metadata": {},
     "output_type": "execute_result"
    }
   ],
   "source": [
    "#Describe function to find total count,etc\n",
    "df.describe()"
   ]
  },
  {
   "cell_type": "code",
   "execution_count": 37,
   "id": "a21851ae",
   "metadata": {},
   "outputs": [
    {
     "data": {
      "text/plain": [
       "text    22036\n",
       "hd      22036\n",
       "cv      22036\n",
       "vo      22036\n",
       "dtype: int64"
      ]
     },
     "execution_count": 37,
     "metadata": {},
     "output_type": "execute_result"
    }
   ],
   "source": [
    "df.count()"
   ]
  },
  {
   "cell_type": "code",
   "execution_count": 38,
   "id": "854fb46b",
   "metadata": {},
   "outputs": [
    {
     "name": "stdout",
     "output_type": "stream",
     "text": [
      "text    0\n",
      "hd      0\n",
      "cv      0\n",
      "vo      0\n",
      "dtype: int64\n"
     ]
    }
   ],
   "source": [
    "#CHECKING IF THERE IS ANY NULL VALUES\n",
    "print(df.isnull().sum())"
   ]
  },
  {
   "cell_type": "code",
   "execution_count": 9,
   "id": "ee292669",
   "metadata": {},
   "outputs": [
    {
     "data": {
      "text/plain": [
       "72"
      ]
     },
     "execution_count": 9,
     "metadata": {},
     "output_type": "execute_result"
    }
   ],
   "source": [
    "#CHECKING IF THERE IS ANY DUPLICATE VALUES\n",
    "df.duplicated().sum()\n"
   ]
  },
  {
   "cell_type": "code",
   "execution_count": 10,
   "id": "f7173243",
   "metadata": {},
   "outputs": [],
   "source": [
    "# removing the duplicates and keeing just the first occurrence\n",
    "df = df.drop_duplicates()"
   ]
  },
  {
   "cell_type": "code",
   "execution_count": 11,
   "id": "99cbe096",
   "metadata": {},
   "outputs": [
    {
     "data": {
      "text/plain": [
       "0"
      ]
     },
     "execution_count": 11,
     "metadata": {},
     "output_type": "execute_result"
    }
   ],
   "source": [
    "#again checking for duplicates \n",
    "df.duplicated().sum()"
   ]
  },
  {
   "cell_type": "markdown",
   "id": "c90ec1d5",
   "metadata": {},
   "source": [
    "# PIE CHART FOR VISUALISATION"
   ]
  },
  {
   "cell_type": "code",
   "execution_count": 12,
   "id": "37fb8dc4",
   "metadata": {},
   "outputs": [
    {
     "data": {
      "image/png": "[encoded data removed]",
      "text/plain": [
       "<Figure size 576x576 with 1 Axes>"
      ]
     },
     "metadata": {},
     "output_type": "display_data"
    }
   ],
   "source": [
    "import matplotlib.pyplot as plt\n",
    "\n",
    "# Sum the values of each column\n",
    "hd_sum = df['hd'].sum()\n",
    "cv_sum = df['cv'].sum()\n",
    "vo_sum = df['vo'].sum()\n",
    "\n",
    "# Create a list of sums and corresponding labels\n",
    "sums = [hd_sum, cv_sum, vo_sum]\n",
    "labels = ['hd', 'cv', 'vo']\n",
    "\n",
    "# Create a pie chart\n",
    "plt.figure(figsize=(8, 8))\n",
    "plt.pie(sums, labels=labels, autopct='%1.1f%%', startangle=140)\n",
    "plt.title('Distribution of hd, cv, and vo in the Dataset')\n",
    "plt.axis('equal')  # Equal aspect ratio ensures that pie is drawn as a circle.\n",
    "plt.show()\n"
   ]
  },
  {
   "cell_type": "markdown",
   "id": "8e633fa5",
   "metadata": {},
   "source": [
    "# Punctuation Removal"
   ]
  },
  {
   "cell_type": "code",
   "execution_count": 13,
   "id": "56d4ab9a",
   "metadata": {},
   "outputs": [
    {
     "name": "stdout",
     "output_type": "stream",
     "text": [
      "<bound method NDFrame.head of                                                     text  hd  cv  vo\n",
      "0      He most likely converted to islam due to his n...   0   0   0\n",
      "1      So Ford lied about being a psychologist Record...   0   0   0\n",
      "2             Jobs Education Ending abuse of Nation CA43   0   0   0\n",
      "3      I share a lot of your values  like many who do...   0   0   0\n",
      "4      I am so ready to get back to blogging wwwbenbr...   0   0   0\n",
      "...                                                  ...  ..  ..  ..\n",
      "22031  Im a fan of western civilization and one bedro...   0   0   0\n",
      "22032  Or  is she saying that Muslims dont know how t...   0   0   0\n",
      "22033  Thank you to all my followers that follow me e...   0   0   0\n",
      "22034  Wednesday music httpswwwyoutubecomwatchvfI2Z1l...   0   0   0\n",
      "22035  This is a really Big Surprise  httpswwwwndcom2...   0   0   0\n",
      "\n",
      "[21964 rows x 4 columns]>\n"
     ]
    }
   ],
   "source": [
    "# Remove punctuations and symbols\n",
    "def remove_punctuation(text):\n",
    "    if isinstance(text, str):\n",
    "        return text.translate(str.maketrans('', \"\", string.punctuation))\n",
    "    return text\n",
    "# Apply the function to all string cells in the DataFrame\n",
    "df = df.applymap(remove_punctuation)\n",
    "print(df.head)"
   ]
  },
  {
   "cell_type": "code",
   "execution_count": 14,
   "id": "5b45c822",
   "metadata": {},
   "outputs": [],
   "source": [
    "#removing double quotes\n",
    "import re\n",
    "\n",
    "def remove_quotes(text):\n",
    "    if isinstance(text, str):\n",
    "        return re.sub(r'[“”]', '', text)\n",
    "    else:\n",
    "        return text\n",
    "\n",
    "df = df.applymap(remove_quotes)\n"
   ]
  },
  {
   "cell_type": "markdown",
   "id": "c0a781c8",
   "metadata": {},
   "source": [
    "# STOPWORDS REMOVAL "
   ]
  },
  {
   "cell_type": "code",
   "execution_count": 18,
   "id": "b5bfbbfa",
   "metadata": {},
   "outputs": [
    {
     "name": "stderr",
     "output_type": "stream",
     "text": [
      "[nltk_data] Downloading package punkt to\n",
      "[nltk_data]     C:\\Users\\prits\\AppData\\Roaming\\nltk_data...\n",
      "[nltk_data]   Package punkt is already up-to-date!\n",
      "[nltk_data] Downloading package stopwords to\n",
      "[nltk_data]     C:\\Users\\prits\\AppData\\Roaming\\nltk_data...\n",
      "[nltk_data]   Package stopwords is already up-to-date!\n"
     ]
    },
    {
     "name": "stdout",
     "output_type": "stream",
     "text": [
      "{'so', \"mightn't\", \"wasn't\", \"that'll\", 'whom', 'were', 'the', 'are', 'during', 'down', \"it's\", 'such', \"she's\", 'those', \"you're\", 'how', \"don't\", 'aren', 'my', \"won't\", 'against', 'itself', 'him', 'now', 'because', 'couldn', 'nor', 'until', 'myself', \"you'd\", 'herself', 'being', 'wouldn', 'an', 'had', 'up', 'more', 'own', 'but', 'having', 'themselves', 'and', 'hers', 'shan', 'once', 'not', 'just', 'if', 'm', \"isn't\", 'when', 'me', 'ourselves', 'our', 'theirs', 'have', 'won', 'do', 'this', 'through', 'd', 'same', 'after', 'needn', 'their', \"aren't\", 'again', 'in', 'didn', 'further', 'hasn', 'his', 'wasn', 'hadn', 'no', 'who', 'here', 'most', 'll', 'weren', 'yourself', 'doing', 'was', 'by', 'then', 'did', 'he', 'there', 'doesn', 'you', \"haven't\", 'only', 'she', 'why', 'been', 'these', \"shan't\", 'some', 're', 'out', 'its', 'few', \"couldn't\", 'yours', 'don', 'all', \"mustn't\", \"didn't\", 'between', 'each', \"needn't\", 'should', 'as', 'at', 'very', 'than', 'from', 'ours', 'your', 'for', 'isn', 'about', 'shouldn', \"weren't\", 'above', 'that', 'which', 'does', 'it', 'is', \"hadn't\", 'ma', 'himself', \"should've\", 'her', \"doesn't\", \"hasn't\", 'too', 'any', 'with', 'other', 'what', 'y', 'we', \"you'll\", 'into', 'a', 'where', 'can', 'haven', 'yourselves', \"you've\", 'off', 'will', \"wouldn't\", 'has', 'over', 'before', 'they', 'i', 't', 'mustn', \"shouldn't\", 'of', 'both', 'while', 'under', 'o', 'be', 'to', 've', 'ain', 'mightn', 'am', 's', 'them', 'on', 'or', 'below'}\n",
      "Cleaned DataFrame:\n",
      "                                                text  hd  cv  vo\n",
      "0  likely converted islam due nature suitable isl...   0   0   0\n",
      "1  Ford lied psychologist . Records seem indicate...   0   0   0\n",
      "2    Jobs . Education . Ending abuse Nation . CA43 .   0   0   0\n",
      "3  share lot values , & like many , n't call alt ...   0   0   0\n",
      "4  ready get back blogging ! www.benbrihouse.com ...   0   0   0\n"
     ]
    }
   ],
   "source": [
    "import nltk\n",
    "from nltk.corpus import stopwords\n",
    "from nltk.tokenize import word_tokenize\n",
    "\n",
    "#stopwords are commonly used words in a language that are often ignored  or filtered out in natural language processing\n",
    "#tasks beacuase they carry less meaningful information compared to other words\n",
    "# Download the necessary NLTK resources\n",
    "nltk.download('punkt')\n",
    "nltk.download('stopwords')\n",
    "\n",
    "# Get the list of stopwords\n",
    "stop_words = set(stopwords.words('english'))\n",
    "print(stop_words)\n",
    "\n",
    "# Define a function to remove stopwords\n",
    "def remove_stopwords(text):\n",
    "    if isinstance(text, str):\n",
    "        words = word_tokenize(text)\n",
    "        return ' '.join([word for word in words if word.lower() not in stop_words])\n",
    "    return text\n",
    "\n",
    "# Function to process a chunk\n",
    "def process_chunk(chunk):\n",
    "    return chunk.applymap(remove_stopwords)\n",
    "\n",
    "# Process the train dataset in chunks\n",
    "train_processed_chunks = []\n",
    "chunk_size = 21976\n",
    "for chunk in pd.read_csv(train_file_path, sep='\\t', chunksize=chunk_size):\n",
    "    processed_chunk = process_chunk(chunk)\n",
    "    train_processed_chunks.append(processed_chunk)\n",
    "\n",
    "# Concatenate all processed chunks into a single DataFrame for train data\n",
    "df_cleaned = pd.concat(train_processed_chunks, ignore_index=True)\n",
    "\n",
    "# Display a few rows of the cleaned train DataFrame\n",
    "print(\"Cleaned DataFrame:\")\n",
    "print(df_cleaned.head())\n",
    "\n"
   ]
  },
  {
   "cell_type": "markdown",
   "id": "bb591613",
   "metadata": {},
   "source": [
    "# STEMMING"
   ]
  },
  {
   "cell_type": "code",
   "execution_count": 19,
   "id": "2cfc5e6c",
   "metadata": {},
   "outputs": [
    {
     "name": "stdout",
     "output_type": "stream",
     "text": [
      "Cleaned DataFrame:\n",
      "                                                text  hd  cv  vo\n",
      "0  he most like convert to islam due to hi natur ...   0   0   0\n",
      "1  so ford lie about be a psychologist . record s...   0   0   0\n",
      "2           job . educ . end abus of nation . ca43 .   0   0   0\n",
      "3  i share a lot of your valu , & like mani who d...   0   0   0\n",
      "4  i am so readi to get back to blog ! www.benbri...   0   0   0\n"
     ]
    }
   ],
   "source": [
    "import nltk\n",
    "from nltk.stem import PorterStemmer\n",
    "from nltk.tokenize import word_tokenize\n",
    "\n",
    "#Stemming is an NLP technique used to reducce words to their base or root form. \n",
    "#for eg, the words \"running\", \"runner\", and \"ran\" can all be reduced to the stem \"run\"\n",
    "\n",
    "# Initialize the PorterStemmer\n",
    "stemmer = PorterStemmer()\n",
    "\n",
    "# Define a function to perform stemming\n",
    "def stem_text(text):\n",
    "    if isinstance(text, str):\n",
    "        words = word_tokenize(text)\n",
    "        return ' '.join([stemmer.stem(word) for word in words])\n",
    "    return text\n",
    "\n",
    "# Function to process a chunk\n",
    "def process_chunk(chunk):\n",
    "    return chunk.applymap(stem_text)\n",
    "\n",
    "# Process the train dataset in chunks\n",
    "train_processed_chunks = []\n",
    "chunk_size = 21976  \n",
    "for chunk in pd.read_csv(train_file_path, sep='\\t', chunksize=chunk_size):\n",
    "    processed_chunk = process_chunk(chunk)\n",
    "    train_processed_chunks.append(processed_chunk)\n",
    "\n",
    "# Concatenate all processed chunks into a single DataFrame for train data\n",
    "df= pd.concat(train_processed_chunks, ignore_index=True)\n",
    "\n",
    "# Display a few rows of the cleaned train DataFrame\n",
    "print(\"Cleaned DataFrame:\")\n",
    "print(df.head())\n",
    "\n"
   ]
  },
  {
   "cell_type": "markdown",
   "id": "370bc140",
   "metadata": {},
   "source": [
    "# LEMMITIZATION"
   ]
  },
  {
   "cell_type": "code",
   "execution_count": 28,
   "id": "065bdc92",
   "metadata": {},
   "outputs": [
    {
     "name": "stderr",
     "output_type": "stream",
     "text": [
      "[nltk_data] Downloading package omw-1.4 to\n",
      "[nltk_data]     C:\\Users\\prits\\AppData\\Roaming\\nltk_data...\n",
      "[nltk_data]   Package omw-1.4 is already up-to-date!\n"
     ]
    },
    {
     "data": {
      "text/plain": [
       "True"
      ]
     },
     "execution_count": 28,
     "metadata": {},
     "output_type": "execute_result"
    }
   ],
   "source": [
    "import nltk\n",
    "nltk.download('omw-1.4')\n"
   ]
  },
  {
   "cell_type": "code",
   "execution_count": 29,
   "id": "f2455dc9",
   "metadata": {},
   "outputs": [
    {
     "name": "stderr",
     "output_type": "stream",
     "text": [
      "[nltk_data] Downloading package punkt to\n",
      "[nltk_data]     C:\\Users\\prits\\AppData\\Roaming\\nltk_data...\n",
      "[nltk_data]   Package punkt is already up-to-date!\n",
      "[nltk_data] Downloading package wordnet to\n",
      "[nltk_data]     C:\\Users\\prits\\AppData\\Roaming\\nltk_data...\n",
      "[nltk_data]   Package wordnet is already up-to-date!\n"
     ]
    },
    {
     "name": "stdout",
     "output_type": "stream",
     "text": [
      "Cleaned Train DataFrame:\n",
      "                                                text  hd  cv  vo\n",
      "0  He most likely converted to islam due to his n...   0   0   0\n",
      "1  So Ford lied about being a psychologist . Reco...   0   0   0\n",
      "2  Jobs . Education . Ending abuse of Nation . CA...   0   0   0\n",
      "3  I share a lot of your value , & like many who ...   0   0   0\n",
      "4  I am so ready to get back to blogging ! www.be...   0   0   0\n",
      "Cleaned Test DataFrame:\n",
      "                                                text  hd  cv  vo\n",
      "0  http : //www.youtube.com/watch ? v=kACWpKAKtak...   0   0   0\n",
      "1  Very nice ! I tend to get tired of the constan...   0   0   0\n",
      "2      Watch today . http : //circumcisionmovie.com/   0   0   0\n",
      "3  `` Thinking Venues `` First Color Layer blocki...   0   0   0\n",
      "4  What about death penalty for perpetrator and e...   0   0   0\n"
     ]
    }
   ],
   "source": [
    "#Lemmitization ia a NLP technique that invloves reducing words to thier base or dictionary form, known as the lemma. \n",
    "#eg: words: \"running\", \"ran\", \"runs\" ..... lemma:\"run\"\n",
    "\n",
    "import pandas as pd\n",
    "import nltk\n",
    "from nltk.stem import WordNetLemmatizer\n",
    "from nltk.tokenize import word_tokenize\n",
    "\n",
    "# Download the necessary NLTK resources\n",
    "nltk.download('punkt')\n",
    "nltk.download('wordnet')\n",
    "\n",
    "# Initialize the WordNetLemmatizer\n",
    "lemmatizer = WordNetLemmatizer()\n",
    "\n",
    "# Define a function to perform lemmatization\n",
    "def lemmatize_text(text):\n",
    "    if isinstance(text, str):\n",
    "        words = word_tokenize(text)\n",
    "        return ' '.join([lemmatizer.lemmatize(word) for word in words])\n",
    "    return text\n",
    "\n",
    "# Function to process a chunk\n",
    "def process_chunk(chunk):\n",
    "    return chunk.applymap(lemmatize_text)\n",
    "\n",
    "# Process the train dataset in chunks\n",
    "train_processed_chunks = []\n",
    "chunk_size = 21976\n",
    "for chunk in pd.read_csv(train_file_path, sep='\\t', chunksize=chunk_size):\n",
    "    processed_chunk = process_chunk(chunk)\n",
    "    train_processed_chunks.append(processed_chunk)\n",
    "\n",
    "# Concatenate all processed chunks into a single DataFrame for train data\n",
    "df_cleaned = pd.concat(train_processed_chunks, ignore_index=True)\n",
    "\n",
    "\n",
    "# Display a few rows of the cleaned train DataFrame\n",
    "print(\"Cleaned DataFrame:\")\n",
    "print(df_cleaned.head())\n",
    "\n"
   ]
  },
  {
   "cell_type": "markdown",
   "id": "eb87a238",
   "metadata": {},
   "source": [
    "ADDING A NEW COLUMN CALLED LABEL"
   ]
  },
  {
   "cell_type": "code",
   "execution_count": 32,
   "id": "da7c990d",
   "metadata": {},
   "outputs": [],
   "source": [
    "#As hd cv and vo are the types of hatespeech so the additional column called label will tell whether the text we have is hate speech or not\n",
    "# Adding 'label' column\n",
    "train_df['label'] = ((train_df['hd'] == 1) | (train_df['cv'] == 1) | (train_df['vo'] == 1)).astype(int)\n",
    "test_df['label'] = ((test_df['hd'] == 1) | (test_df['cv'] == 1) | (test_df['vo'] == 1)).astype(int)\n"
   ]
  },
  {
   "cell_type": "markdown",
   "id": "c7e67290",
   "metadata": {},
   "source": [
    "# URL removal, hastags and mentions"
   ]
  },
  {
   "cell_type": "code",
   "execution_count": 33,
   "id": "e52724ed",
   "metadata": {},
   "outputs": [],
   "source": [
    "# removing urls,hastags and mentions\n",
    "def remove_urls_mentions_hashtags(text):\n",
    "    text = re.sub(r'http\\S+|www\\S+|https\\S+', '', text)\n",
    "    text = re.sub(r'\\@\\w+|\\#', '', text)\n",
    "    return text\n",
    "df['text'] = df['text'].apply(remove_urls_mentions_hashtags)"
   ]
  },
  {
   "cell_type": "code",
   "execution_count": 34,
   "id": "58c88a45",
   "metadata": {},
   "outputs": [],
   "source": [
    "def remove_url(text):\n",
    "    return re.sub(r'http\\S+|www\\S+|https\\S+', '', text, flags=re.MULTILINE)\n",
    "\n",
    "train_df['text'] = train_df['text'].apply(remove_url)\n"
   ]
  },
  {
   "cell_type": "markdown",
   "id": "65cd9e63",
   "metadata": {},
   "source": [
    "# Emoji removal"
   ]
  },
  {
   "cell_type": "code",
   "execution_count": 40,
   "id": "5e5571f3",
   "metadata": {},
   "outputs": [
    {
     "name": "stdout",
     "output_type": "stream",
     "text": [
      "Requirement already satisfied: emoji in c:\\users\\prits\\anaconda3\\lib\\site-packages (2.12.1)\n",
      "Requirement already satisfied: typing-extensions>=4.7.0 in c:\\users\\prits\\anaconda3\\lib\\site-packages (from emoji) (4.11.0)\n",
      "Note: you may need to restart the kernel to use updated packages.\n"
     ]
    }
   ],
   "source": [
    "pip install emoji"
   ]
  },
  {
   "cell_type": "code",
   "execution_count": 41,
   "id": "13e76514",
   "metadata": {},
   "outputs": [],
   "source": [
    "#emoji removal\n",
    "import pandas as pd\n",
    "import emoji\n",
    "\n",
    "# Define a function to replace emoji codes with descriptive text\n",
    "def replace_emojis(text):\n",
    "    return emoji.demojize(text)\n",
    "\n",
    "# Replace emoji codes in a specific column (e.g., 'text_column')\n",
    "df['text'] = df['text'].apply(replace_emojis)\n"
   ]
  },
  {
   "cell_type": "markdown",
   "id": "ebc54965",
   "metadata": {},
   "source": [
    "# Lowercasing"
   ]
  },
  {
   "cell_type": "code",
   "execution_count": 48,
   "id": "24fc539a",
   "metadata": {},
   "outputs": [],
   "source": [
    "df['text']=df['text'].str.lower()"
   ]
  },
  {
   "cell_type": "code",
   "execution_count": 49,
   "id": "a075d2e6",
   "metadata": {},
   "outputs": [
    {
     "data": {
      "text/html": [
       "<div>\n",
       "<style scoped>\n",
       "    .dataframe tbody tr th:only-of-type {\n",
       "        vertical-align: middle;\n",
       "    }\n",
       "\n",
       "    .dataframe tbody tr th {\n",
       "        vertical-align: top;\n",
       "    }\n",
       "\n",
       "    .dataframe thead th {\n",
       "        text-align: right;\n",
       "    }\n",
       "</style>\n",
       "<table border=\"1\" class=\"dataframe\">\n",
       "  <thead>\n",
       "    <tr style=\"text-align: right;\">\n",
       "      <th></th>\n",
       "      <th>text</th>\n",
       "      <th>hd</th>\n",
       "      <th>cv</th>\n",
       "      <th>vo</th>\n",
       "      <th>label</th>\n",
       "    </tr>\n",
       "  </thead>\n",
       "  <tbody>\n",
       "    <tr>\n",
       "      <th>22031</th>\n",
       "      <td>i'm a fan of western civilization, and one bed...</td>\n",
       "      <td>0</td>\n",
       "      <td>0</td>\n",
       "      <td>0</td>\n",
       "      <td>0</td>\n",
       "    </tr>\n",
       "    <tr>\n",
       "      <th>22032</th>\n",
       "      <td>or ... is she saying that muslims don't know h...</td>\n",
       "      <td>0</td>\n",
       "      <td>0</td>\n",
       "      <td>0</td>\n",
       "      <td>0</td>\n",
       "    </tr>\n",
       "    <tr>\n",
       "      <th>22033</th>\n",
       "      <td>thank you to all my followers that follow me e...</td>\n",
       "      <td>0</td>\n",
       "      <td>0</td>\n",
       "      <td>0</td>\n",
       "      <td>0</td>\n",
       "    </tr>\n",
       "    <tr>\n",
       "      <th>22034</th>\n",
       "      <td>wednesday music.</td>\n",
       "      <td>0</td>\n",
       "      <td>0</td>\n",
       "      <td>0</td>\n",
       "      <td>0</td>\n",
       "    </tr>\n",
       "    <tr>\n",
       "      <th>22035</th>\n",
       "      <td>this is a really big surprise!</td>\n",
       "      <td>0</td>\n",
       "      <td>0</td>\n",
       "      <td>0</td>\n",
       "      <td>0</td>\n",
       "    </tr>\n",
       "  </tbody>\n",
       "</table>\n",
       "</div>"
      ],
      "text/plain": [
       "                                                    text  hd  cv  vo  label\n",
       "22031  i'm a fan of western civilization, and one bed...   0   0   0      0\n",
       "22032  or ... is she saying that muslims don't know h...   0   0   0      0\n",
       "22033  thank you to all my followers that follow me e...   0   0   0      0\n",
       "22034                                  wednesday music.    0   0   0      0\n",
       "22035                   this is a really big surprise!     0   0   0      0"
      ]
     },
     "execution_count": 49,
     "metadata": {},
     "output_type": "execute_result"
    }
   ],
   "source": [
    "df.tail()"
   ]
  },
  {
   "cell_type": "code",
   "execution_count": 51,
   "id": "4fd0aef6",
   "metadata": {},
   "outputs": [],
   "source": [
    "# Drop rows with any missing values and filter out rows where the 'text' column is '[deleted]' or '[removed]'\n",
    "df = df.dropna().loc[(df['text'] != '[deleted]') & (df['text'] != '[removed]')]"
   ]
  },
  {
   "cell_type": "code",
   "execution_count": 55,
   "id": "dd612fd1",
   "metadata": {},
   "outputs": [
    {
     "data": {
      "text/plain": [
       "text     21776\n",
       "hd       21776\n",
       "cv       21776\n",
       "vo       21776\n",
       "label    21776\n",
       "dtype: int64"
      ]
     },
     "execution_count": 55,
     "metadata": {},
     "output_type": "execute_result"
    }
   ],
   "source": [
    "df.count()\n"
   ]
  },
  {
   "cell_type": "markdown",
   "id": "09d15cf6",
   "metadata": {},
   "source": [
    "# TOKENISATION"
   ]
  },
  {
   "cell_type": "code",
   "execution_count": 28,
   "id": "5e4473fa",
   "metadata": {},
   "outputs": [
    {
     "data": {
      "text/html": [
       "<div>\n",
       "<style scoped>\n",
       "    .dataframe tbody tr th:only-of-type {\n",
       "        vertical-align: middle;\n",
       "    }\n",
       "\n",
       "    .dataframe tbody tr th {\n",
       "        vertical-align: top;\n",
       "    }\n",
       "\n",
       "    .dataframe thead th {\n",
       "        text-align: right;\n",
       "    }\n",
       "</style>\n",
       "<table border=\"1\" class=\"dataframe\">\n",
       "  <thead>\n",
       "    <tr style=\"text-align: right;\">\n",
       "      <th></th>\n",
       "      <th>text</th>\n",
       "      <th>hd</th>\n",
       "      <th>cv</th>\n",
       "      <th>vo</th>\n",
       "      <th>label</th>\n",
       "      <th>tokens</th>\n",
       "    </tr>\n",
       "  </thead>\n",
       "  <tbody>\n",
       "    <tr>\n",
       "      <th>0</th>\n",
       "      <td>he most likely converted to islam due to his n...</td>\n",
       "      <td>0</td>\n",
       "      <td>0</td>\n",
       "      <td>0</td>\n",
       "      <td>0</td>\n",
       "      <td>[he, most, likely, converted, to, islam, due, ...</td>\n",
       "    </tr>\n",
       "    <tr>\n",
       "      <th>1</th>\n",
       "      <td>so ford lied about being a psychologist record...</td>\n",
       "      <td>0</td>\n",
       "      <td>0</td>\n",
       "      <td>0</td>\n",
       "      <td>0</td>\n",
       "      <td>[so, ford, lied, about, being, a, psychologist...</td>\n",
       "    </tr>\n",
       "    <tr>\n",
       "      <th>2</th>\n",
       "      <td>jobs education ending abuse of nation californ...</td>\n",
       "      <td>0</td>\n",
       "      <td>0</td>\n",
       "      <td>0</td>\n",
       "      <td>0</td>\n",
       "      <td>[jobs, education, ending, abuse, of, nation, c...</td>\n",
       "    </tr>\n",
       "    <tr>\n",
       "      <th>3</th>\n",
       "      <td>i share a lot of your values  like many who do...</td>\n",
       "      <td>0</td>\n",
       "      <td>0</td>\n",
       "      <td>0</td>\n",
       "      <td>0</td>\n",
       "      <td>[i, share, a, lot, of, your, values, like, man...</td>\n",
       "    </tr>\n",
       "    <tr>\n",
       "      <th>4</th>\n",
       "      <td>i am so ready to get back to blogging  recipes...</td>\n",
       "      <td>0</td>\n",
       "      <td>0</td>\n",
       "      <td>0</td>\n",
       "      <td>0</td>\n",
       "      <td>[i, am, so, ready, to, get, back, to, blogging...</td>\n",
       "    </tr>\n",
       "  </tbody>\n",
       "</table>\n",
       "</div>"
      ],
      "text/plain": [
       "                                                text  hd  cv  vo  label  \\\n",
       "0  he most likely converted to islam due to his n...   0   0   0      0   \n",
       "1  so ford lied about being a psychologist record...   0   0   0      0   \n",
       "2  jobs education ending abuse of nation californ...   0   0   0      0   \n",
       "3  i share a lot of your values  like many who do...   0   0   0      0   \n",
       "4  i am so ready to get back to blogging  recipes...   0   0   0      0   \n",
       "\n",
       "                                              tokens  \n",
       "0  [he, most, likely, converted, to, islam, due, ...  \n",
       "1  [so, ford, lied, about, being, a, psychologist...  \n",
       "2  [jobs, education, ending, abuse, of, nation, c...  \n",
       "3  [i, share, a, lot, of, your, values, like, man...  \n",
       "4  [i, am, so, ready, to, get, back, to, blogging...  "
      ]
     },
     "execution_count": 28,
     "metadata": {},
     "output_type": "execute_result"
    }
   ],
   "source": [
    "#whitespacetokenisation\n",
    "from nltk.tokenize import WhitespaceTokenizer\n",
    "\n",
    "# Initialize the whitespace tokenizer\n",
    "whitespace_tokenizer = WhitespaceTokenizer()\n",
    "def  whitespace_tokenize(text):\n",
    "    return whitespace_tokenizer.tokenize(text)\n",
    "df['tokens'] = df['text'].apply(whitespace_tokenize)\n",
    "df.head()"
   ]
  },
  {
   "cell_type": "code",
   "execution_count": 58,
   "id": "15fe4232",
   "metadata": {},
   "outputs": [],
   "source": [
    "# saving the cleaned data\n",
    "clean_train_file_path = r'C:\\Users\\prits\\Downloads\\Data\\clean_ghc_train.csv'\n",
    "train_df.to_csv(clean_train_file_path, sep=',', index=False)"
   ]
  },
  {
   "cell_type": "code",
   "execution_count": 20,
   "id": "0c8ec455",
   "metadata": {},
   "outputs": [],
   "source": [
    "#importing clean dataset i.e after preprosseing\n",
    "import pandas as pd\n",
    "# File paths\n",
    "train_file = r\"C:\\Users\\prits\\Downloads\\Data\\clean_ghc_train.csv\"\n",
    "\n",
    "# Load CSV files into pandas DataFrames\n",
    "df = pd.read_csv(train_file)\n"
   ]
  },
  {
   "cell_type": "code",
   "execution_count": 22,
   "id": "9d35a374",
   "metadata": {},
   "outputs": [],
   "source": [
    "import numpy as np\n",
    "import pandas as pd\n",
    "from sklearn.model_selection import train_test_split\n",
    "from sklearn.feature_extraction.text import TfidfVectorizer\n",
    "from sklearn.naive_bayes import MultinomialNB\n",
    "from sklearn.metrics import accuracy_score, classification_report, confusion_matrix\n",
    "from imblearn.over_sampling import RandomOverSampler\n",
    "# Drop rows with NaN in 'text' column\n",
    "df =df.dropna(subset=['text'])\n",
    "# Split the data into X (features) and y (labels)\n",
    "X = df['text']\n",
    "y = df['label']"
   ]
  },
  {
   "cell_type": "code",
   "execution_count": 23,
   "id": "5499efc1",
   "metadata": {},
   "outputs": [
    {
     "name": "stdout",
     "output_type": "stream",
     "text": [
      "Number of rows in X: 21772\n",
      "Number of rows in y_test: 21772\n"
     ]
    }
   ],
   "source": [
    "# Print the number of rows\n",
    "print(\"Number of rows in X:\", X.shape[0])\n",
    "print(\"Number of rows in y_test:\", y.shape[0])"
   ]
  },
  {
   "cell_type": "markdown",
   "id": "67fa9e3a",
   "metadata": {},
   "source": [
    "Spliting data into train and test"
   ]
  },
  {
   "cell_type": "code",
   "execution_count": 24,
   "id": "d90247cf",
   "metadata": {},
   "outputs": [],
   "source": [
    "from sklearn.model_selection import train_test_split\n",
    "X_train, X_test, y_train, y_test = train_test_split(X, y, test_size=0.2, random_state=42,stratify=y)"
   ]
  },
  {
   "cell_type": "code",
   "execution_count": 25,
   "id": "e859a7cf",
   "metadata": {},
   "outputs": [
    {
     "name": "stdout",
     "output_type": "stream",
     "text": [
      "Number of rows in x_train: 17417\n",
      "Number of rows in x_test: 4355\n",
      "Number of rows in y_train: 17417\n",
      "Number of rows in y_test: 4355\n"
     ]
    }
   ],
   "source": [
    "# Print the number of rows\n",
    "print(\"Number of rows in x_train:\", X_train.shape[0])\n",
    "print(\"Number of rows in x_test:\", X_test.shape[0])\n",
    "print(\"Number of rows in y_train:\", y_train.shape[0])\n",
    "print(\"Number of rows in y_test:\", y_test.shape[0])"
   ]
  },
  {
   "cell_type": "markdown",
   "id": "f1154263",
   "metadata": {},
   "source": [
    "# FINALISED EMBEDDING TECHNIQUE: TFIDF"
   ]
  },
  {
   "cell_type": "markdown",
   "id": "a50883e7",
   "metadata": {},
   "source": [
    "TF-IDF (Term Frequency-Inverse Document Frequency) is a statistical measure used to evaluate the importance of a word in a document relative to a collection of documents (corpus).\n",
    " TF-IDF is used to convert text data into numerical features before feeding them into a machine learning model. "
   ]
  },
  {
   "cell_type": "code",
   "execution_count": 26,
   "id": "b3d12f6b",
   "metadata": {},
   "outputs": [],
   "source": [
    "#Initialize TfidfVectorizer with adjusted parameters\n",
    "tfidf_vectorizer = TfidfVectorizer(max_features=5000, ngram_range=(1, 2))\n",
    "\n",
    "#Fit and transform X_train (text data) using TfidfVectorizer\n",
    "X_train_tfidf = tfidf_vectorizer.fit_transform(X_train)\n",
    "\n",
    "# Transform X_test using the fitted TfidfVectorizer\n",
    "X_test_tfidf = tfidf_vectorizer.transform(X_test)"
   ]
  },
  {
   "cell_type": "markdown",
   "id": "24efe864",
   "metadata": {},
   "source": [
    "# BALANCING TRAIN DATASET USING RANDOM OVER SAMPLING"
   ]
  },
  {
   "cell_type": "markdown",
   "id": "199a93dc",
   "metadata": {},
   "source": [
    "Reason of choosing Random Over sampling:\n",
    "    By duplicating minority class instances, random oversampling ensures that the original characteristics of the minority class are preserved without introducing new data points that may alter the distribution.\n",
    "    I tried all other approaches for balancing but random over sampling gives better result than other techniques"
   ]
  },
  {
   "cell_type": "code",
   "execution_count": 27,
   "id": "153ff2cc",
   "metadata": {},
   "outputs": [],
   "source": [
    "ros = RandomOverSampler(random_state=42)\n",
    "X_resampled, y_resampled= ros.fit_resample(X_train_tfidf, y_train)"
   ]
  },
  {
   "cell_type": "markdown",
   "id": "49dc4ad8",
   "metadata": {},
   "source": [
    "# FINALISED ML MODEL: GRADIENT BOOSTING CLASSIFIER"
   ]
  },
  {
   "cell_type": "code",
   "execution_count": 39,
   "id": "7ec19988",
   "metadata": {},
   "outputs": [],
   "source": [
    "from sklearn.ensemble import GradientBoostingClassifier\n",
    "gb_clf = GradientBoostingClassifier(n_estimators=100, learning_rate=0.1, max_depth=3, random_state=42)\n",
    "\n",
    "# Train the model\n",
    "gb_clf.fit(X_resampled,y_resampled)\n",
    "\n",
    "# Make predictions\n",
    "y_pred = gb_clf.predict(X_test_tfidf)"
   ]
  },
  {
   "cell_type": "markdown",
   "id": "9cdf3f9c",
   "metadata": {},
   "source": [
    "Visualising the Result"
   ]
  },
  {
   "cell_type": "code",
   "execution_count": 40,
   "id": "ffd4fd71",
   "metadata": {},
   "outputs": [
    {
     "name": "stdout",
     "output_type": "stream",
     "text": [
      "Accuracy: 0.8305396096440872\n",
      "Classification Report:\n",
      "              precision    recall  f1-score   support\n",
      "\n",
      "           0       0.93      0.87      0.90      3800\n",
      "           1       0.39      0.56      0.46       555\n",
      "\n",
      "    accuracy                           0.83      4355\n",
      "   macro avg       0.66      0.71      0.68      4355\n",
      "weighted avg       0.86      0.83      0.84      4355\n",
      "\n"
     ]
    },
    {
     "data": {
      "image/png": "[encoded data removed]",
      "text/plain": [
       "<Figure size 720x504 with 2 Axes>"
      ]
     },
     "metadata": {
      "needs_background": "light"
     },
     "output_type": "display_data"
    }
   ],
   "source": [
    "from sklearn.metrics import confusion_matrix, classification_report\n",
    "\n",
    "# Calculate accuracy\n",
    "accuracy = accuracy_score(y_test, y_pred)\n",
    "print(f\"Accuracy: {accuracy}\")\n",
    "\n",
    "# Generate classification report\n",
    "classification_report_str = classification_report(y_test, y_pred)\n",
    "print(\"Classification Report:\")\n",
    "print(classification_report_str)\n",
    "\n",
    "# Generate confusion matrix\n",
    "conf_matrix = confusion_matrix(y_test, y_pred)\n",
    "\n",
    "# Plot confusion matrix\n",
    "plt.figure(figsize=(10, 7))\n",
    "sns.heatmap(conf_matrix, annot=True, fmt='d', cmap='Blues')\n",
    "plt.xlabel('Predicted')\n",
    "plt.ylabel('Actual')\n",
    "plt.title('Confusion Matrix')\n",
    "plt.show()"
   ]
  },
  {
   "cell_type": "markdown",
   "id": "e21a97ca",
   "metadata": {},
   "source": [
    "# Hypertunning of Model"
   ]
  },
  {
   "cell_type": "code",
   "execution_count": 42,
   "id": "571cd1c5",
   "metadata": {},
   "outputs": [
    {
     "name": "stdout",
     "output_type": "stream",
     "text": [
      "Fitting 3 folds for each of 4 candidates, totalling 12 fits\n",
      "Best parameters found:  {'learning_rate': 0.5, 'max_depth': 5, 'n_estimators': 100}\n",
      "Best Recall Score:  0.9148278267676782\n",
      "Accuracy: 0.8470723306544202\n",
      "Classification Report:\n",
      "              precision    recall  f1-score   support\n",
      "\n",
      "           0       0.93      0.90      0.91      3800\n",
      "           1       0.42      0.50      0.46       555\n",
      "\n",
      "    accuracy                           0.85      4355\n",
      "   macro avg       0.67      0.70      0.68      4355\n",
      "weighted avg       0.86      0.85      0.85      4355\n",
      "\n"
     ]
    },
    {
     "data": {
      "image/png": "[encoded data removed]",
      "text/plain": [
       "<Figure size 720x504 with 2 Axes>"
      ]
     },
     "metadata": {
      "needs_background": "light"
     },
     "output_type": "display_data"
    }
   ],
   "source": [
    "from sklearn.ensemble import GradientBoostingClassifier\n",
    "from sklearn.model_selection import GridSearchCV\n",
    "from sklearn.metrics import accuracy_score, classification_report, confusion_matrix\n",
    "import seaborn as sns\n",
    "import matplotlib.pyplot as plt\n",
    "\n",
    "# Define the model\n",
    "gb = GradientBoostingClassifier()\n",
    "\n",
    "# Define the parameter grid\n",
    "param_grid = {\n",
    "    'n_estimators': [100],\n",
    "    'learning_rate': [0.1, 0.5],\n",
    "    'max_depth': [3, 5]\n",
    "}\n",
    "\n",
    "# Set up GridSearchCV for recall\n",
    "grid_search_recall = GridSearchCV(estimator=gb, param_grid=param_grid, cv=3, scoring='recall', n_jobs=-1, verbose=2)\n",
    "\n",
    "# Fit the GridSearchCV\n",
    "grid_search_recall.fit(X_resampled, y_resampled)\n",
    "\n",
    "# Print the best parameters and the best score\n",
    "print(\"Best parameters found: \", grid_search_recall.best_params_)\n",
    "print(\"Best Recall Score: \", grid_search_recall.best_score_)\n",
    "\n",
    "# Predict using the best estimator\n",
    "best_gb_recall = grid_search_recall.best_estimator_\n",
    "y_pred_recall = best_gb_recall.predict(X_test_tfidf)\n",
    "\n",
    "# Calculate accuracy\n",
    "accuracy_recall = accuracy_score(y_test, y_pred_recall)\n",
    "print(f\"Accuracy: {accuracy_recall}\")\n",
    "\n",
    "# Generate classification report\n",
    "classification_report_recall = classification_report(y_test, y_pred_recall)\n",
    "print(\"Classification Report:\")\n",
    "print(classification_report_recall)\n",
    "\n",
    "# Generate confusion matrix\n",
    "conf_matrix_recall = confusion_matrix(y_test, y_pred_recall)\n",
    "\n",
    "# Plot confusion matrix\n",
    "plt.figure(figsize=(10, 7))\n",
    "sns.heatmap(conf_matrix_recall, annot=True, fmt='d', cmap='Blues')\n",
    "plt.xlabel('Predicted')\n",
    "plt.ylabel('Actual')\n",
    "plt.title('Confusion Matrix')\n",
    "plt.show()\n"
   ]
  },
  {
   "cell_type": "markdown",
   "id": "264a035c",
   "metadata": {},
   "source": [
    "GRADIENT BOOSTING CLASSIFIER is the final ml model i have fixed based on the accuracy and recall score.This model able to predict 0 and 1 class better than other class."
   ]
  }
 ],
 "metadata": {
  "kernelspec": {
   "display_name": "Python 3 (ipykernel)",
   "language": "python",
   "name": "python3"
  },
  "language_info": {
   "codemirror_mode": {
    "name": "ipython",
    "version": 3
   },
   "file_extension": ".py",
   "mimetype": "text/x-python",
   "name": "python",
   "nbconvert_exporter": "python",
   "pygments_lexer": "ipython3",
   "version": "3.9.12"
  }
 },
 "nbformat": 4,
 "nbformat_minor": 5
}
