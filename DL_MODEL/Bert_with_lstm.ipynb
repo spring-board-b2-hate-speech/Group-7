{
 "cells": [
  {
   "cell_type": "markdown",
   "metadata": {
    "id": "p9j8ytjMV0aF"
   },
   "source": [
    "# **Import Libraries**"
   ]
  },
  {
   "cell_type": "code",
   "execution_count": 1,
   "metadata": {
    "id": "P9ItnLFpk7up"
   },
   "outputs": [],
   "source": [
    "import pandas as pd\n",
    "import numpy as np\n",
    "from tqdm import tqdm\n",
    "from transformers import BertTokenizer, BertModel\n",
    "import torch\n",
    "\n",
    "# Load the CSV file into a pandas DataFrame\n",
    "df = pd.read_csv(\"/content/cleaned_ghc_train.csv\")\n"
   ]
  },
  {
   "cell_type": "code",
   "execution_count": 2,
   "metadata": {
    "id": "k-YCyz2Nk-rR"
   },
   "outputs": [],
   "source": [
    "from sklearn.model_selection import train_test_split\n",
    "from sklearn.preprocessing import LabelEncoder\n",
    "from sklearn.feature_extraction.text import TfidfVectorizer\n",
    "\n",
    "df['text'] = df['text'].fillna('')"
   ]
  },
  {
   "cell_type": "code",
   "execution_count": null,
   "metadata": {
    "id": "oqPBuHxauhXr"
   },
   "outputs": [],
   "source": []
  },
  {
   "cell_type": "code",
   "execution_count": 3,
   "metadata": {
    "id": "sCYDtYt3mkLI"
   },
   "outputs": [],
   "source": [
    "y = df['label']\n",
    "X=df['text']"
   ]
  },
  {
   "cell_type": "code",
   "execution_count": 4,
   "metadata": {
    "id": "jm_-BfVxlTKo"
   },
   "outputs": [],
   "source": [
    "#spliting the dataset into train and test\n",
    "X_train, X_test, y_train, y_test = train_test_split(X, y, test_size=0.2, random_state=42,stratify=y)"
   ]
  },
  {
   "cell_type": "markdown",
   "metadata": {
    "id": "_mhp-AV_8Pon"
   },
   "source": [
    "# **Bert With LSTM**"
   ]
  },
  {
   "cell_type": "markdown",
   "metadata": {
    "id": "2aMAddVlvSNZ"
   },
   "source": [
    "Here i have tried using bert embeedings that is passed to 3 Biderectional LSTM model.\n",
    "The reason i have chosen bidirectional LSTM because bidirectional LSTM processes the sequence in both forward and backward directions, capturing information from both past and future contexts. This allows the model to have a more comprehensive understanding of the context."
   ]
  },
  {
   "cell_type": "code",
   "execution_count": 5,
   "metadata": {
    "colab": {
     "base_uri": "https://localhost:8080/",
     "height": 1000
    },
    "id": "UbgZCMCyax3v",
    "outputId": "47dca992-cdce-4851-e63e-272a23fac09f"
   },
   "outputs": [
    {
     "metadata": {
      "tags": null
     },
     "name": "stderr",
     "output_type": "stream",
     "text": [
      "/usr/local/lib/python3.10/dist-packages/huggingface_hub/utils/_token.py:89: UserWarning: \n",
      "The secret `HF_TOKEN` does not exist in your Colab secrets.\n",
      "To authenticate with the Hugging Face Hub, create a token in your settings tab (https://huggingface.co/settings/tokens), set it as secret in your Google Colab and restart your session.\n",
      "You will be able to reuse this secret in all of your notebooks.\n",
      "Please note that authentication is recommended but still optional to access public models or datasets.\n",
      "  warnings.warn(\n",
      "Some weights of the PyTorch model were not used when initializing the TF 2.0 model TFBertModel: ['cls.predictions.transform.dense.weight', 'cls.predictions.transform.LayerNorm.bias', 'cls.predictions.transform.LayerNorm.weight', 'cls.seq_relationship.bias', 'cls.predictions.bias', 'cls.seq_relationship.weight', 'cls.predictions.transform.dense.bias']\n",
      "- This IS expected if you are initializing TFBertModel from a PyTorch model trained on another task or with another architecture (e.g. initializing a TFBertForSequenceClassification model from a BertForPreTraining model).\n",
      "- This IS NOT expected if you are initializing TFBertModel from a PyTorch model that you expect to be exactly identical (e.g. initializing a TFBertForSequenceClassification model from a BertForSequenceClassification model).\n",
      "All the weights of TFBertModel were initialized from the PyTorch model.\n",
      "If your task is similar to the task the model of the checkpoint was trained on, you can already use TFBertModel for predictions without further training.\n",
      "WARNING:tensorflow:Layer lstm will not use cuDNN kernels since it doesn't meet the criteria. It will use a generic GPU kernel as fallback when running on GPU.\n",
      "WARNING:tensorflow:Layer lstm will not use cuDNN kernels since it doesn't meet the criteria. It will use a generic GPU kernel as fallback when running on GPU.\n",
      "WARNING:tensorflow:Layer lstm will not use cuDNN kernels since it doesn't meet the criteria. It will use a generic GPU kernel as fallback when running on GPU.\n",
      "WARNING:tensorflow:Layer lstm_1 will not use cuDNN kernels since it doesn't meet the criteria. It will use a generic GPU kernel as fallback when running on GPU.\n",
      "WARNING:tensorflow:Layer lstm_1 will not use cuDNN kernels since it doesn't meet the criteria. It will use a generic GPU kernel as fallback when running on GPU.\n",
      "WARNING:tensorflow:Layer lstm_1 will not use cuDNN kernels since it doesn't meet the criteria. It will use a generic GPU kernel as fallback when running on GPU.\n",
      "WARNING:tensorflow:Layer lstm_2 will not use cuDNN kernels since it doesn't meet the criteria. It will use a generic GPU kernel as fallback when running on GPU.\n",
      "WARNING:tensorflow:Layer lstm_2 will not use cuDNN kernels since it doesn't meet the criteria. It will use a generic GPU kernel as fallback when running on GPU.\n",
      "WARNING:tensorflow:Layer lstm_2 will not use cuDNN kernels since it doesn't meet the criteria. It will use a generic GPU kernel as fallback when running on GPU.\n"
     ]
    },
    {
     "name": "stdout",
     "output_type": "stream",
     "text": [
      "Epoch 1/5\n",
      "1089/1089 [==============================] - 430s 380ms/step - loss: 0.5458 - accuracy: 0.7334 - val_loss: 0.4262 - val_accuracy: 0.7961\n",
      "Epoch 2/5\n",
      "1089/1089 [==============================] - 413s 379ms/step - loss: 0.4850 - accuracy: 0.7778 - val_loss: 0.6293 - val_accuracy: 0.6905\n",
      "Epoch 3/5\n",
      "1089/1089 [==============================] - 409s 375ms/step - loss: 0.4497 - accuracy: 0.7967 - val_loss: 0.4342 - val_accuracy: 0.7713\n",
      "Epoch 4/5\n",
      "1089/1089 [==============================] - 417s 383ms/step - loss: 0.4234 - accuracy: 0.7994 - val_loss: 0.4178 - val_accuracy: 0.8168\n",
      "Epoch 5/5\n",
      "1089/1089 [==============================] - 412s 379ms/step - loss: 0.3887 - accuracy: 0.8159 - val_loss: 0.4022 - val_accuracy: 0.8097\n",
      "137/137 - 6s - loss: 0.4022 - accuracy: 0.8097 - 6s/epoch - 42ms/step\n",
      "\n",
      "Test accuracy: 0.8096877932548523\n",
      "137/137 [==============================] - 7s 44ms/step\n"
     ]
    },
    {
     "data": {
      "image/png": "[encoded data removed]",
      "text/plain": [
       "<Figure size 800x600 with 2 Axes>"
      ]
     },
     "metadata": {},
     "output_type": "display_data"
    },
    {
     "name": "stdout",
     "output_type": "stream",
     "text": [
      "              precision    recall  f1-score   support\n",
      "\n",
      "     Class 0       0.96      0.81      0.88      3826\n",
      "     Class 1       0.37      0.78      0.50       530\n",
      "\n",
      "    accuracy                           0.81      4356\n",
      "   macro avg       0.67      0.80      0.69      4356\n",
      "weighted avg       0.89      0.81      0.84      4356\n",
      "\n"
     ]
    }
   ],
   "source": [
    "import numpy as np\n",
    "import tensorflow as tf\n",
    "from tensorflow.keras.models import Sequential\n",
    "from tensorflow.keras.layers import Dense, LSTM, Bidirectional, Dropout\n",
    "from tensorflow.keras.callbacks import EarlyStopping\n",
    "from sklearn.utils.class_weight import compute_class_weight\n",
    "from sklearn.metrics import confusion_matrix, classification_report\n",
    "import seaborn as sns\n",
    "import matplotlib.pyplot as plt\n",
    "from transformers import BertTokenizer, TFBertModel\n",
    "\n",
    "# Load BERT tokenizer and model\n",
    "tokenizer = BertTokenizer.from_pretrained('bert-base-uncased')\n",
    "bert_model = TFBertModel.from_pretrained('bert-base-uncased')\n",
    "\n",
    "# Tokenize and encode the text data\n",
    "#Function to tokenize and encode the text data using the BERT tokenizer with truncation and padding.\n",
    "def encode_texts(texts, tokenizer, max_length=100):\n",
    "    encodings = tokenizer(\n",
    "        texts.tolist(),\n",
    "        truncation=True,\n",
    "        padding='max_length',\n",
    "        max_length=max_length,\n",
    "        return_tensors='tf'\n",
    "    )\n",
    "    return encodings\n",
    "\n",
    "# Encode the training and test data\n",
    "X_train_encodings = encode_texts(X_train, tokenizer, max_length=50)  # Reduced max_length\n",
    "X_test_encodings = encode_texts(X_test, tokenizer, max_length=50)\n",
    "\n",
    "# Extract BERT embeddings\n",
    "def get_bert_embeddings(encodings, bert_model):\n",
    "    outputs = bert_model(encodings['input_ids'], attention_mask=encodings['attention_mask'])\n",
    "    return outputs.last_hidden_state\n",
    "\n",
    "# Reduce the batch size\n",
    "batch_size = 16\n",
    "\n",
    "X_train_embeddings = []#empty embeddings intialisation\n",
    "#looping through batches\n",
    "for i in range(0, len(X_train_encodings['input_ids']), batch_size):\n",
    "    batch_encodings = {key: val[i:i+batch_size] for key, val in X_train_encodings.items()}# Slice the encodings dictionary to get a batch\n",
    "    batch_embeddings = get_bert_embeddings(batch_encodings, bert_model) # Get BERT embeddings for the batch\n",
    "    X_train_embeddings.append(batch_embeddings) # Append the batch embeddings to the list\n",
    "X_train_embeddings = tf.concat(X_train_embeddings, axis=0)# Concatenate all batch embeddings to form the final training embeddings tensor\n",
    "\n",
    "X_test_embeddings = []\n",
    "for i in range(0, len(X_test_encodings['input_ids']), batch_size):\n",
    "    batch_encodings = {key: val[i:i+batch_size] for key, val in X_test_encodings.items()}\n",
    "    batch_embeddings = get_bert_embeddings(batch_encodings, bert_model)\n",
    "    X_test_embeddings.append(batch_embeddings)\n",
    "X_test_embeddings = tf.concat(X_test_embeddings, axis=0)\n",
    "#class weights are calculated based on the frequency of each class in the training data. Classes with fewer samples get higher weights.\n",
    "#The compute_class_weight function in scikit-learn calculates these weights using the formula.since for large datset it is complex to manually calculate the weights and assing them, this function of sklearn helps in doing it.\n",
    "class_weights = compute_class_weight('balanced', classes=np.unique(y_train), y=y_train)#calculates the weights for each class in a way that balances the dataset.\n",
    "class_weights_dict = dict(enumerate(class_weights))\n",
    "\n",
    "# Define the model\n",
    "model = Sequential()\n",
    "#in the model, I tried removing dropouts at each layer and adding them in the end, but it did not give a good result.\n",
    "#so i modified it and tried decreasing the dropouts at each layer which gave best result so far\n",
    "# BiLSTM layers\n",
    "model.add(Bidirectional(LSTM(units=256, return_sequences=True, input_shape=(X_train_embeddings.shape[1], X_train_embeddings.shape[2]))))\n",
    "model.add(Dropout(0.5))  # Add Dropout\n",
    "\n",
    "# Additional BiLSTM layer\n",
    "model.add(Bidirectional(LSTM(units=64, return_sequences=True)))\n",
    "model.add(Dropout(0.3))  # Decreasing dropout\n",
    "\n",
    "# Another BiLSTM layer\n",
    "model.add(Bidirectional(LSTM(units=64)))\n",
    "model.add(Dropout(0.2))  # Add Dropout\n",
    "\n",
    "# Dense layers\n",
    "model.add(Dense(64, activation='relu'))\n",
    "model.add(Dropout(0.2))  # Add Dropout\n",
    "model.add(Dense(1, activation='sigmoid'))\n",
    "\n",
    "# Compile the model\n",
    "model.compile(loss='binary_crossentropy', optimizer='adam', metrics=['accuracy'])\n",
    "\n",
    "# Define early stopping callback\n",
    "early_stopping = EarlyStopping(monitor='val_loss', patience=3, restore_best_weights=True)\n",
    "\n",
    "# Train the model with early stopping and class weights\n",
    "history = model.fit(X_train_embeddings, y_train, epochs=5, batch_size=batch_size,\n",
    "                    validation_data=(X_test_embeddings, y_test),\n",
    "                    class_weight=class_weights_dict,\n",
    "                    callbacks=[early_stopping])\n",
    "\n",
    "# Evaluate the model on the test set\n",
    "test_loss, test_acc = model.evaluate(X_test_embeddings, y_test, verbose=2)\n",
    "print(f'\\nTest accuracy: {test_acc}')\n",
    "\n",
    "# Predict the labels for the test set\n",
    "y_pred = model.predict(X_test_embeddings)\n",
    "y_pred_classes = (y_pred > 0.5).astype(\"int32\")\n",
    "\n",
    "# Generate the confusion matrix\n",
    "cm = confusion_matrix(y_test, y_pred_classes)\n",
    "\n",
    "# Visualize the confusion matrix\n",
    "plt.figure(figsize=(8, 6))\n",
    "sns.heatmap(cm, annot=True, fmt='d', cmap='Blues', xticklabels=['Class 0', 'Class 1'], yticklabels=['Class 0', 'Class 1'])\n",
    "plt.xlabel('Predicted')\n",
    "plt.ylabel('True')\n",
    "plt.title('Confusion Matrix')\n",
    "plt.show()\n",
    "\n",
    "# Print classification report\n",
    "print(classification_report(y_test, y_pred_classes, target_names=['Class 0', 'Class 1']))\n"
   ]
  },
  {
   "cell_type": "code",
   "execution_count": 6,
   "metadata": {
    "colab": {
     "base_uri": "https://localhost:8080/"
    },
    "id": "Emjh5dIPkggC",
    "outputId": "21207ad9-ec3e-4089-9f67-f95f11c89cd4"
   },
   "outputs": [
    {
     "name": "stdout",
     "output_type": "stream",
     "text": [
      "Accuracy: 0.8096877869605142\n",
      "Recall: 0.7849056603773585\n",
      "Precision: 0.367816091954023\n",
      "F1 Score: 0.5009030704394943\n",
      "ROC AUC Score: 0.8779601337423191\n"
     ]
    }
   ],
   "source": [
    "from sklearn.metrics import confusion_matrix, classification_report, accuracy_score, recall_score, precision_score, f1_score, roc_auc_score, roc_curve, auc\n",
    "# Calculate and print additional metrics\n",
    "accuracy = accuracy_score(y_test, y_pred_classes)\n",
    "recall = recall_score(y_test, y_pred_classes)\n",
    "precision = precision_score(y_test, y_pred_classes)\n",
    "f1 = f1_score(y_test, y_pred_classes)\n",
    "roc_auc = roc_auc_score(y_test, y_pred)\n",
    "\n",
    "print(f'Accuracy: {accuracy}')\n",
    "print(f'Recall: {recall}')\n",
    "print(f'Precision: {precision}')\n",
    "print(f'F1 Score: {f1}')\n",
    "print(f'ROC AUC Score: {roc_auc}')"
   ]
  },
  {
   "cell_type": "markdown",
   "metadata": {
    "id": "U0KUI-fx8dtM"
   },
   "source": [
    "This model gives the highest ROC AUC score among all other dl model and also gives better result than ml model.The recall tells that the model is able to predict the actual two classes correctly at a good rate."
   ]
  }
 ],
 "metadata": {
  "accelerator": "GPU",
  "colab": {
   "gpuType": "T4",
   "provenance": []
  },
  "kernelspec": {
   "display_name": "Python 3 (ipykernel)",
   "language": "python",
   "name": "python3"
  },
  "language_info": {
   "codemirror_mode": {
    "name": "ipython",
    "version": 3
   },
   "file_extension": ".py",
   "mimetype": "text/x-python",
   "name": "python",
   "nbconvert_exporter": "python",
   "pygments_lexer": "ipython3",
   "version": "3.9.12"
  }
 },
 "nbformat": 4,
 "nbformat_minor": 1
}
