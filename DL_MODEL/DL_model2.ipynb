{
 "cells": [
  {
   "cell_type": "code",
   "execution_count": null,
   "metadata": {
    "id": "GtGFIFPaZ1di"
   },
   "outputs": [],
   "source": []
  },
  {
   "cell_type": "code",
   "execution_count": 1,
   "metadata": {
    "id": "yN4QnpCHZ5nN"
   },
   "outputs": [],
   "source": [
    "import pandas as pd\n",
    "import numpy as np\n",
    "from tqdm import tqdm\n",
    "from transformers import BertTokenizer, BertModel\n",
    "import torch\n",
    "\n",
    "# Load the CSV file into a pandas DataFrame\n",
    "df = pd.read_csv(\"/content/cleaned_ghc_train.csv\")\n"
   ]
  },
  {
   "cell_type": "code",
   "execution_count": 2,
   "metadata": {
    "id": "lBNU_M_NZ7kC"
   },
   "outputs": [],
   "source": [
    "from sklearn.model_selection import train_test_split\n",
    "from sklearn.preprocessing import LabelEncoder\n",
    "from sklearn.feature_extraction.text import TfidfVectorizer\n",
    "\n",
    "df['text'] = df['text'].fillna('')"
   ]
  },
  {
   "cell_type": "code",
   "execution_count": 3,
   "metadata": {
    "id": "9z_NFiMnZ_gl"
   },
   "outputs": [],
   "source": [
    "y = df['label']\n",
    "X=df['text']"
   ]
  },
  {
   "cell_type": "code",
   "execution_count": 4,
   "metadata": {
    "id": "fDuC9u-Ab8R3"
   },
   "outputs": [],
   "source": [
    "from keras.preprocessing.text import Tokenizer\n",
    "from keras.preprocessing.sequence import pad_sequences\n",
    "top_words = 10000\n",
    "max_review_length = 600\n",
    "tokenizer = Tokenizer(num_words=top_words)\n",
    "tokenizer.fit_on_texts(X)\n",
    "X = tokenizer.texts_to_sequences(X)\n",
    "X = pad_sequences(X, max_review_length)"
   ]
  },
  {
   "cell_type": "code",
   "execution_count": 5,
   "metadata": {
    "id": "tO_IYJNEbWhR"
   },
   "outputs": [],
   "source": [
    "X_train, X_test, y_train, y_test = train_test_split(X, y, test_size=0.2, random_state=42)"
   ]
  },
  {
   "cell_type": "markdown",
   "metadata": {
    "id": "6Igu42jKmzcw"
   },
   "source": [
    "# **LSTM**"
   ]
  },
  {
   "cell_type": "code",
   "execution_count": 6,
   "metadata": {
    "colab": {
     "base_uri": "https://localhost:8080/"
    },
    "id": "UYjrmf360P5l",
    "outputId": "4a04fa30-0e00-4520-fecb-3887bb1b2849"
   },
   "outputs": [
    {
     "name": "stderr",
     "output_type": "stream",
     "text": [
      "WARNING:tensorflow:Layer lstm will not use cuDNN kernels since it doesn't meet the criteria. It will use a generic GPU kernel as fallback when running on GPU.\n"
     ]
    },
    {
     "name": "stdout",
     "output_type": "stream",
     "text": [
      "Epoch 1/5\n",
      "69/69 [==============================] - ETA: 0s - loss: 0.6727 - accuracy: 0.6284\n",
      "Epoch 1: accuracy improved from -inf to 0.62836, saving model to weights_best.hdf5\n",
      "69/69 [==============================] - 158s 2s/step - loss: 0.6727 - accuracy: 0.6284\n",
      "Epoch 2/5\n",
      "69/69 [==============================] - ETA: 0s - loss: 0.5231 - accuracy: 0.7752\n",
      "Epoch 2: accuracy improved from 0.62836 to 0.77520, saving model to weights_best.hdf5\n",
      "69/69 [==============================] - 146s 2s/step - loss: 0.5231 - accuracy: 0.7752\n",
      "Epoch 3/5\n",
      "69/69 [==============================] - ETA: 0s - loss: 0.3696 - accuracy: 0.8520\n",
      "Epoch 3: accuracy improved from 0.77520 to 0.85195, saving model to weights_best.hdf5\n",
      "69/69 [==============================] - 148s 2s/step - loss: 0.3696 - accuracy: 0.8520\n",
      "Epoch 4/5\n",
      "69/69 [==============================] - ETA: 0s - loss: 0.2877 - accuracy: 0.8773\n",
      "Epoch 4: accuracy improved from 0.85195 to 0.87727, saving model to weights_best.hdf5\n",
      "69/69 [==============================] - 144s 2s/step - loss: 0.2877 - accuracy: 0.8773\n",
      "Epoch 5/5\n",
      "69/69 [==============================] - ETA: 0s - loss: 0.2245 - accuracy: 0.9104\n",
      "Epoch 5: accuracy improved from 0.87727 to 0.91039, saving model to weights_best.hdf5\n",
      "69/69 [==============================] - 142s 2s/step - loss: 0.2245 - accuracy: 0.9104\n",
      "18/18 [==============================] - 3s 159ms/step - loss: 0.4864 - accuracy: 0.8251\n",
      "Accuracy: 82.51%\n",
      "18/18 [==============================] - 3s 158ms/step\n",
      "Best Recall Score: 0.7700 at threshold 0.10\n",
      "Classification Report for Best Recall Score:\n",
      "              precision    recall  f1-score   support\n",
      "\n",
      "     Class 0       0.95      0.61      0.74      3869\n",
      "     Class 1       0.20      0.77      0.32       487\n",
      "\n",
      "    accuracy                           0.63      4356\n",
      "   macro avg       0.58      0.69      0.53      4356\n",
      "weighted avg       0.87      0.63      0.70      4356\n",
      "\n"
     ]
    }
   ],
   "source": [
    "from keras.models import Sequential\n",
    "from keras.layers import Embedding, LSTM, Dense\n",
    "from keras.callbacks import ModelCheckpoint\n",
    "from sklearn.utils import class_weight\n",
    "import numpy as np\n",
    "from sklearn.metrics import classification_report, recall_score\n",
    "\n",
    "# Define model\n",
    "embedding_vector_length = 32\n",
    "model = Sequential()\n",
    "model.add(Embedding(top_words, embedding_vector_length, input_length=max_review_length))\n",
    "model.add(LSTM(100, dropout=0.2, recurrent_dropout=0.2))\n",
    "model.add(Dense(1, activation='sigmoid'))\n",
    "\n",
    "# Compile model\n",
    "model.compile(loss='binary_crossentropy', optimizer='adam', metrics=['accuracy'])\n",
    "\n",
    "# Calculate class weights\n",
    "class_weights = class_weight.compute_class_weight(\n",
    "    class_weight='balanced',\n",
    "    classes=np.unique(y_train),\n",
    "    y=y_train\n",
    ")\n",
    "class_weight_dict = dict(enumerate(class_weights))\n",
    "\n",
    "# Define checkpoint\n",
    "filepath = \"weights_best.hdf5\"\n",
    "checkpoint = ModelCheckpoint(filepath, monitor='accuracy', verbose=1, save_best_only=True, mode='max', save_weights_only=True)\n",
    "callbacks_list = [checkpoint]\n",
    "\n",
    "# Fit the model with class weights\n",
    "model.fit(X_train, y_train, epochs=5, batch_size=256, verbose=1, callbacks=callbacks_list, class_weight=class_weight_dict)\n",
    "\n",
    "# Load the best weights\n",
    "model.load_weights(\"weights_best.hdf5\")\n",
    "\n",
    "# Evaluate the model\n",
    "scores = model.evaluate(X_test, y_test, verbose=1, batch_size=256)\n",
    "print(\"Accuracy: %.2f%%\" % (scores[1]*100))\n",
    "\n",
    "# Predict the probabilities\n",
    "y_pred_probs = model.predict(X_test, batch_size=256, verbose=1)\n",
    "\n",
    "# Find the best threshold for recall\n",
    "thresholds = np.arange(0.1, 1, 0.01)\n",
    "best_recall = 0\n",
    "best_recall_threshold = 0.5\n",
    "\n",
    "for threshold in thresholds:\n",
    "    y_pred_classes = (y_pred_probs >= threshold).astype(int)\n",
    "    recall = recall_score(y_test, y_pred_classes)\n",
    "\n",
    "    if recall > best_recall:\n",
    "        best_recall = recall\n",
    "        best_recall_threshold = threshold\n",
    "\n",
    "print(f\"Best Recall Score: {best_recall:.4f} at threshold {best_recall_threshold:.2f}\")\n",
    "\n",
    "# Evaluate and print classification report for best recall score\n",
    "y_pred_classes = (y_pred_probs >= best_recall_threshold).astype(int)\n",
    "print(\"Classification Report for Best Recall Score:\")\n",
    "print(classification_report(y_test, y_pred_classes, target_names=['Class 0', 'Class 1']))\n"
   ]
  },
  {
   "cell_type": "code",
   "execution_count": 7,
   "metadata": {
    "colab": {
     "base_uri": "https://localhost:8080/",
     "height": 641
    },
    "id": "5uf1Z3P73X-K",
    "outputId": "3f1a12fb-cc82-4f97-823b-fd8e7130f1f1"
   },
   "outputs": [
    {
     "data": {
      "image/png": "[encoded data removed]",
      "text/plain": [
       "<Figure size 1000x700 with 2 Axes>"
      ]
     },
     "metadata": {},
     "output_type": "display_data"
    }
   ],
   "source": [
    "from sklearn.metrics import recall_score, confusion_matrix\n",
    "import matplotlib.pyplot as plt\n",
    "import seaborn as sns\n",
    "# Compute confusion matrix\n",
    "conf_matrix = confusion_matrix(y_test, y_pred_classes)\n",
    "# Plot confusion matrix\n",
    "plt.figure(figsize=(10, 7))\n",
    "sns.heatmap(conf_matrix, annot=True, fmt='d', cmap='Blues', xticklabels=['Class 0', 'Class 1'], yticklabels=['Class 0', 'Class 1'])\n",
    "plt.xlabel('Predicted')\n",
    "plt.ylabel('Actual')\n",
    "plt.title('Confusion Matrix')\n",
    "plt.show()"
   ]
  },
  {
   "cell_type": "markdown",
   "metadata": {
    "id": "qWYvsaDuWFoU"
   },
   "source": [
    "# **Biderctional LSTM**"
   ]
  },
  {
   "cell_type": "code",
   "execution_count": null,
   "metadata": {
    "colab": {
     "base_uri": "https://localhost:8080/"
    },
    "id": "l3B9TB7LdVKX",
    "outputId": "7846bd66-3c23-406c-98a1-1425a490c4fe"
   },
   "outputs": [
    {
     "name": "stderr",
     "output_type": "stream",
     "text": [
      "WARNING:tensorflow:Layer lstm_1 will not use cuDNN kernels since it doesn't meet the criteria. It will use a generic GPU kernel as fallback when running on GPU.\n",
      "WARNING:tensorflow:Layer lstm_1 will not use cuDNN kernels since it doesn't meet the criteria. It will use a generic GPU kernel as fallback when running on GPU.\n",
      "WARNING:tensorflow:Layer lstm_1 will not use cuDNN kernels since it doesn't meet the criteria. It will use a generic GPU kernel as fallback when running on GPU.\n"
     ]
    },
    {
     "name": "stdout",
     "output_type": "stream",
     "text": [
      "Epoch 1/5\n",
      "69/69 [==============================] - ETA: 0s - loss: 0.6667 - accuracy: 0.5823\n",
      "Epoch 1: accuracy improved from -inf to 0.58226, saving model to weights_best.hdf5\n",
      "69/69 [==============================] - 294s 4s/step - loss: 0.6667 - accuracy: 0.5823\n",
      "Epoch 2/5\n",
      "69/69 [==============================] - ETA: 0s - loss: 0.5509 - accuracy: 0.7853\n",
      "Epoch 2: accuracy improved from 0.58226 to 0.78530, saving model to weights_best.hdf5\n",
      "69/69 [==============================] - 286s 4s/step - loss: 0.5509 - accuracy: 0.7853\n",
      "Epoch 3/5\n",
      "69/69 [==============================] - ETA: 0s - loss: 0.3949 - accuracy: 0.8521\n",
      "Epoch 3: accuracy improved from 0.78530 to 0.85212, saving model to weights_best.hdf5\n",
      "69/69 [==============================] - 288s 4s/step - loss: 0.3949 - accuracy: 0.8521\n",
      "Epoch 4/5\n",
      "69/69 [==============================] - ETA: 0s - loss: 0.3096 - accuracy: 0.8789\n",
      "Epoch 4: accuracy improved from 0.85212 to 0.87887, saving model to weights_best.hdf5\n",
      "69/69 [==============================] - 282s 4s/step - loss: 0.3096 - accuracy: 0.8789\n",
      "Epoch 5/5\n",
      "69/69 [==============================] - ETA: 0s - loss: 0.2606 - accuracy: 0.8966\n",
      "Epoch 5: accuracy improved from 0.87887 to 0.89661, saving model to weights_best.hdf5\n",
      "69/69 [==============================] - 281s 4s/step - loss: 0.2606 - accuracy: 0.8966\n",
      "18/18 [==============================] - 6s 298ms/step - loss: 0.4567 - accuracy: 0.8131\n",
      "Accuracy: 81.31%\n",
      "18/18 [==============================] - 7s 340ms/step\n",
      "Best Recall Score: 0.8357 at threshold 0.10\n",
      "Classification Report for Best Recall Score:\n",
      "              precision    recall  f1-score   support\n",
      "\n",
      "     Class 0       0.96      0.54      0.69      3869\n",
      "     Class 1       0.19      0.84      0.31       487\n",
      "\n",
      "    accuracy                           0.58      4356\n",
      "   macro avg       0.58      0.69      0.50      4356\n",
      "weighted avg       0.88      0.58      0.65      4356\n",
      "\n"
     ]
    }
   ],
   "source": [
    "from keras.models import Sequential\n",
    "from keras.layers import Embedding, LSTM, Dense, Bidirectional\n",
    "from keras.callbacks import ModelCheckpoint\n",
    "from sklearn.utils import class_weight\n",
    "import numpy as np\n",
    "from sklearn.metrics import classification_report, recall_score\n",
    "\n",
    "# Define model\n",
    "embedding_vector_length = 32\n",
    "model = Sequential()\n",
    "model.add(Embedding(top_words, embedding_vector_length, input_length=max_review_length))\n",
    "model.add(Bidirectional(LSTM(100, dropout=0.2, recurrent_dropout=0.2)))\n",
    "model.add(Dense(1, activation='sigmoid'))\n",
    "\n",
    "# Compile model\n",
    "model.compile(loss='binary_crossentropy', optimizer='adam', metrics=['accuracy'])\n",
    "\n",
    "# Calculate class weights\n",
    "class_weights = class_weight.compute_class_weight(\n",
    "    class_weight='balanced',\n",
    "    classes=np.unique(y_train),\n",
    "    y=y_train\n",
    ")\n",
    "class_weight_dict = dict(enumerate(class_weights))\n",
    "\n",
    "# Define checkpoint\n",
    "filepath = \"weights_best.hdf5\"\n",
    "checkpoint = ModelCheckpoint(filepath, monitor='accuracy', verbose=1, save_best_only=True, mode='max', save_weights_only=True)\n",
    "callbacks_list = [checkpoint]\n",
    "\n",
    "# Fit the model with class weights\n",
    "model.fit(X_train, y_train, epochs=5, batch_size=256, verbose=1, callbacks=callbacks_list, class_weight=class_weight_dict)\n",
    "\n",
    "# Load the best weights\n",
    "model.load_weights(\"weights_best.hdf5\")\n",
    "\n",
    "# Evaluate the model\n",
    "scores = model.evaluate(X_test, y_test, verbose=1, batch_size=256)\n",
    "print(\"Accuracy: %.2f%%\" % (scores[1]*100))\n",
    "\n",
    "# Predict the probabilities\n",
    "y_pred_probs = model.predict(X_test, batch_size=256, verbose=1)\n",
    "\n",
    "# Find the best threshold for recall\n",
    "thresholds = np.arange(0.1, 1, 0.01)\n",
    "best_recall = 0\n",
    "best_recall_threshold = 0.5\n",
    "\n",
    "for threshold in thresholds:\n",
    "    y_pred_classes = (y_pred_probs >= threshold).astype(int)\n",
    "    recall = recall_score(y_test, y_pred_classes)\n",
    "\n",
    "    if recall > best_recall:\n",
    "        best_recall = recall\n",
    "        best_recall_threshold = threshold\n",
    "\n",
    "print(f\"Best Recall Score: {best_recall:.4f} at threshold {best_recall_threshold:.2f}\")\n",
    "\n",
    "# Evaluate and print classification report for best recall score\n",
    "y_pred_classes = (y_pred_probs >= best_recall_threshold).astype(int)\n",
    "print(\"Classification Report for Best Recall Score:\")\n",
    "print(classification_report(y_test, y_pred_classes, target_names=['Class 0', 'Class 1']))\n"
   ]
  },
  {
   "cell_type": "code",
   "execution_count": null,
   "metadata": {
    "colab": {
     "base_uri": "https://localhost:8080/",
     "height": 641
    },
    "id": "VPxmtYMndVd1",
    "outputId": "15727eba-2a96-44c2-adda-95ce64eab619"
   },
   "outputs": [
    {
     "data": {
      "image/png": "[encoded data removed]",
      "text/plain": [
       "<Figure size 1000x700 with 2 Axes>"
      ]
     },
     "metadata": {},
     "output_type": "display_data"
    }
   ],
   "source": [
    "from sklearn.metrics import recall_score, confusion_matrix\n",
    "import matplotlib.pyplot as plt\n",
    "import seaborn as sns\n",
    "# Predict using the best recall threshold\n",
    "y_pred_classes = (y_pred_probs >= best_recall_threshold).astype(int)\n",
    "\n",
    "# Compute confusion matrix\n",
    "conf_matrix = confusion_matrix(y_test, y_pred_classes)\n",
    "# Plot confusion matrix\n",
    "plt.figure(figsize=(10, 7))\n",
    "sns.heatmap(conf_matrix, annot=True, fmt='d', cmap='Blues', xticklabels=['Class 0', 'Class 1'], yticklabels=['Class 0', 'Class 1'])\n",
    "plt.xlabel('Predicted')\n",
    "plt.ylabel('Actual')\n",
    "plt.title('Confusion Matrix')\n",
    "plt.show()"
   ]
  },
  {
   "cell_type": "markdown",
   "metadata": {
    "id": "UHYajraMnBom"
   },
   "source": [
    "## **CNN**"
   ]
  },
  {
   "cell_type": "code",
   "execution_count": null,
   "metadata": {
    "colab": {
     "base_uri": "https://localhost:8080/"
    },
    "id": "moY2ai8rkdBU",
    "outputId": "b48363f3-c905-4143-ebcd-cbc40d5e2ce1"
   },
   "outputs": [
    {
     "name": "stdout",
     "output_type": "stream",
     "text": [
      "Epoch 1/5\n",
      "69/69 [==============================] - ETA: 0s - loss: 0.6811 - accuracy: 0.4482\n",
      "Epoch 1: accuracy improved from -inf to 0.44822, saving model to weights_best.hdf5\n",
      "69/69 [==============================] - 11s 115ms/step - loss: 0.6811 - accuracy: 0.4482\n",
      "Epoch 2/5\n",
      "69/69 [==============================] - ETA: 0s - loss: 0.5271 - accuracy: 0.7677\n",
      "Epoch 2: accuracy improved from 0.44822 to 0.76768, saving model to weights_best.hdf5\n",
      "69/69 [==============================] - 7s 97ms/step - loss: 0.5271 - accuracy: 0.7677\n",
      "Epoch 3/5\n",
      "69/69 [==============================] - ETA: 0s - loss: 0.3583 - accuracy: 0.8701\n",
      "Epoch 3: accuracy improved from 0.76768 to 0.87015, saving model to weights_best.hdf5\n",
      "69/69 [==============================] - 4s 60ms/step - loss: 0.3583 - accuracy: 0.8701\n",
      "Epoch 4/5\n",
      "69/69 [==============================] - ETA: 0s - loss: 0.2317 - accuracy: 0.9181\n",
      "Epoch 4: accuracy improved from 0.87015 to 0.91814, saving model to weights_best.hdf5\n",
      "69/69 [==============================] - 4s 59ms/step - loss: 0.2317 - accuracy: 0.9181\n",
      "Epoch 5/5\n",
      "69/69 [==============================] - ETA: 0s - loss: 0.1481 - accuracy: 0.9517\n",
      "Epoch 5: accuracy improved from 0.91814 to 0.95166, saving model to weights_best.hdf5\n",
      "69/69 [==============================] - 3s 46ms/step - loss: 0.1481 - accuracy: 0.9517\n",
      "18/18 [==============================] - 0s 7ms/step\n",
      "Best Recall Score: 0.7187 at threshold 0.10\n",
      "18/18 [==============================] - 0s 6ms/step - loss: 0.4353 - accuracy: 0.8510\n",
      "Accuracy: 85.10%\n",
      "              precision    recall  f1-score   support\n",
      "\n",
      "     Class 0       0.95      0.71      0.82      3869\n",
      "     Class 1       0.24      0.72      0.36       487\n",
      "\n",
      "    accuracy                           0.71      4356\n",
      "   macro avg       0.60      0.72      0.59      4356\n",
      "weighted avg       0.87      0.71      0.77      4356\n",
      "\n"
     ]
    }
   ],
   "source": [
    "from keras.models import Sequential\n",
    "from keras.layers import Embedding, Conv1D, GlobalMaxPooling1D, Dense, Dropout\n",
    "from keras.callbacks import ModelCheckpoint\n",
    "from sklearn.utils import class_weight\n",
    "from sklearn.metrics import classification_report, recall_score\n",
    "import numpy as np\n",
    "\n",
    "# Define model\n",
    "embedding_vector_length = 32\n",
    "#top_words = 5000  # Adjust this based on your vocabulary size\n",
    "#max_review_length = 500  # Adjust this based on your input sequence length\n",
    "\n",
    "model = Sequential()\n",
    "model.add(Embedding(top_words, embedding_vector_length, input_length=max_review_length))\n",
    "model.add(Conv1D(filters=128, kernel_size=5, padding='same', activation='relu'))\n",
    "model.add(GlobalMaxPooling1D())\n",
    "model.add(Dense(128, activation='relu'))\n",
    "model.add(Dropout(0.5))\n",
    "model.add(Dense(1, activation='sigmoid'))\n",
    "\n",
    "# Compile model\n",
    "model.compile(loss='binary_crossentropy', optimizer='adam', metrics=['accuracy'])\n",
    "\n",
    "# Calculate class weights\n",
    "class_weights = class_weight.compute_class_weight(\n",
    "    class_weight='balanced',\n",
    "    classes=np.unique(y_train),\n",
    "    y=y_train\n",
    ")\n",
    "class_weight_dict = dict(enumerate(class_weights))\n",
    "\n",
    "# Define checkpoint\n",
    "filepath = \"weights_best.hdf5\"\n",
    "checkpoint = ModelCheckpoint(filepath, monitor='accuracy', verbose=1, save_best_only=True, mode='max', save_weights_only=True)\n",
    "callbacks_list = [checkpoint]\n",
    "\n",
    "# Fit the model with class weights\n",
    "model.fit(X_train, y_train, epochs=5, batch_size=256, verbose=1, callbacks=callbacks_list, class_weight=class_weight_dict)\n",
    "\n",
    "# Load the best weights\n",
    "model.load_weights(\"weights_best.hdf5\")\n",
    "\n",
    "# Predict the probabilities\n",
    "y_pred_probs = model.predict(X_test, batch_size=256, verbose=1)\n",
    "\n",
    "# Find the best threshold for recall\n",
    "thresholds = np.arange(0.1, 1, 0.01)\n",
    "best_recall = 0\n",
    "best_recall_threshold = 0.5\n",
    "\n",
    "for threshold in thresholds:\n",
    "    y_pred_classes = (y_pred_probs >= threshold).astype(int)\n",
    "    recall = recall_score(y_test, y_pred_classes)\n",
    "\n",
    "    if recall > best_recall:\n",
    "        best_recall = recall\n",
    "        best_recall_threshold = threshold\n",
    "\n",
    "print(f\"Best Recall Score: {best_recall:.4f} at threshold {best_recall_threshold:.2f}\")\n",
    "\n",
    "# Evaluate the model\n",
    "scores = model.evaluate(X_test, y_test, verbose=1, batch_size=256)\n",
    "print(\"Accuracy: %.2f%%\" % (scores[1] * 100))\n",
    "\n",
    "# Predict the labels using the best threshold\n",
    "y_pred_classes = (y_pred_probs >= best_recall_threshold).astype(int)\n",
    "\n",
    "# Print classification report\n",
    "print(classification_report(y_test, y_pred_classes, target_names=['Class 0', 'Class 1']))\n"
   ]
  },
  {
   "cell_type": "code",
   "execution_count": null,
   "metadata": {
    "colab": {
     "base_uri": "https://localhost:8080/",
     "height": 641
    },
    "id": "7v0Ta7GKme2w",
    "outputId": "0c06a03e-01f1-498b-bb52-b086ceb23a7a"
   },
   "outputs": [
    {
     "data": {
      "image/png": "[encoded data removed]",
      "text/plain": [
       "<Figure size 1000x700 with 2 Axes>"
      ]
     },
     "metadata": {},
     "output_type": "display_data"
    }
   ],
   "source": [
    "y_pred_classes = (y_pred_probs >= best_recall_threshold).astype(int)\n",
    "\n",
    "# Print confusion matrix\n",
    "conf_matrix = confusion_matrix(y_test, y_pred_classes)\n",
    "plt.figure(figsize=(10, 7))\n",
    "sns.heatmap(conf_matrix, annot=True, fmt='d', cmap='Blues', xticklabels=['Class 0', 'Class 1'], yticklabels=['Class 0', 'Class 1'])\n",
    "plt.xlabel('Predicted')\n",
    "plt.ylabel('Actual')\n",
    "plt.title('Confusion Matrix')\n",
    "plt.show()"
   ]
  },
  {
   "cell_type": "markdown",
   "metadata": {
    "id": "yP49DM5nnI5R"
   },
   "source": [
    "# **LSTM WITH CNN**"
   ]
  },
  {
   "cell_type": "code",
   "execution_count": null,
   "metadata": {
    "colab": {
     "base_uri": "https://localhost:8080/"
    },
    "id": "Om6fNdl3ltmr",
    "outputId": "a5e5bc1f-0014-4a73-f0e9-7f7d5552a088"
   },
   "outputs": [
    {
     "name": "stdout",
     "output_type": "stream",
     "text": [
      "Epoch 1/5\n",
      "69/69 [==============================] - ETA: 0s - loss: 0.6717 - accuracy: 0.5987\n",
      "Epoch 1: accuracy improved from -inf to 0.59868, saving model to weights_best.hdf5\n",
      "69/69 [==============================] - 330s 5s/step - loss: 0.6717 - accuracy: 0.5987\n",
      "Epoch 2/5\n",
      "69/69 [==============================] - ETA: 0s - loss: 0.4872 - accuracy: 0.8163\n",
      "Epoch 2: accuracy improved from 0.59868 to 0.81630, saving model to weights_best.hdf5\n",
      "69/69 [==============================] - 318s 5s/step - loss: 0.4872 - accuracy: 0.8163\n",
      "Epoch 3/5\n",
      "69/69 [==============================] - ETA: 0s - loss: 0.3300 - accuracy: 0.8801\n",
      "Epoch 3: accuracy improved from 0.81630 to 0.88014, saving model to weights_best.hdf5\n",
      "69/69 [==============================] - 321s 5s/step - loss: 0.3300 - accuracy: 0.8801\n",
      "Epoch 4/5\n",
      "69/69 [==============================] - ETA: 0s - loss: 0.2444 - accuracy: 0.9053\n",
      "Epoch 4: accuracy improved from 0.88014 to 0.90534, saving model to weights_best.hdf5\n",
      "69/69 [==============================] - 321s 5s/step - loss: 0.2444 - accuracy: 0.9053\n",
      "Epoch 5/5\n",
      "69/69 [==============================] - ETA: 0s - loss: 0.1883 - accuracy: 0.9270\n",
      "Epoch 5: accuracy improved from 0.90534 to 0.92704, saving model to weights_best.hdf5\n",
      "69/69 [==============================] - 326s 5s/step - loss: 0.1883 - accuracy: 0.9270\n",
      "18/18 [==============================] - 17s 891ms/step - loss: 0.4786 - accuracy: 0.8306\n",
      "Accuracy: 83.06%\n",
      "18/18 [==============================] - 16s 886ms/step\n",
      "Best Recall Score: 0.7228 at threshold 0.10\n",
      "Classification Report for Best Recall Score:\n",
      "              precision    recall  f1-score   support\n",
      "\n",
      "     Class 0       0.95      0.66      0.78      3869\n",
      "     Class 1       0.21      0.72      0.33       487\n",
      "\n",
      "    accuracy                           0.67      4356\n",
      "   macro avg       0.58      0.69      0.56      4356\n",
      "weighted avg       0.87      0.67      0.73      4356\n",
      "\n"
     ]
    }
   ],
   "source": [
    "from keras.models import Sequential\n",
    "from keras.layers import Embedding, LSTM, Dense, Bidirectional, Conv1D, MaxPooling1D, Dropout\n",
    "from keras.callbacks import ModelCheckpoint\n",
    "from sklearn.utils import class_weight\n",
    "import numpy as np\n",
    "from sklearn.metrics import classification_report, recall_score\n",
    "\n",
    "# Define parameters\n",
    "embedding_vector_length = 32\n",
    " # Adjust this based on your vocabulary size\n",
    "  # Adjust this based on your input sequence length\n",
    "\n",
    "# Define model\n",
    "model = Sequential()\n",
    "model.add(Embedding(top_words, embedding_vector_length, input_length=max_review_length))\n",
    "model.add(Conv1D(filters=32, kernel_size=3, padding='same', activation='relu'))\n",
    "model.add(MaxPooling1D(pool_size=2))\n",
    "model.add(Bidirectional(LSTM(100, dropout=0.2, recurrent_dropout=0.2)))\n",
    "model.add(Dense(1, activation='sigmoid'))\n",
    "\n",
    "# Compile model\n",
    "model.compile(loss='binary_crossentropy', optimizer='adam', metrics=['accuracy'])\n",
    "\n",
    "# Calculate class weights\n",
    "class_weights = class_weight.compute_class_weight(\n",
    "    class_weight='balanced',\n",
    "    classes=np.unique(y_train),\n",
    "    y=y_train\n",
    ")\n",
    "class_weight_dict = dict(enumerate(class_weights))\n",
    "\n",
    "# Define checkpoint for best accuracy\n",
    "checkpoint = ModelCheckpoint(\"weights_best.hdf5\", monitor='accuracy', verbose=1, save_best_only=True, mode='max', save_weights_only=True)\n",
    "callbacks_list = [checkpoint]\n",
    "\n",
    "# Fit the model with class weights\n",
    "# Fit the model with class weights\n",
    "model.fit(X_train, y_train, epochs=5, batch_size=256, verbose=1, callbacks=callbacks_list, class_weight=class_weight_dict)\n",
    "\n",
    "# Load the best weights for evaluation\n",
    "model.load_weights(\"weights_best.hdf5\")\n",
    "\n",
    "# Evaluate the model\n",
    "scores = model.evaluate(X_test, y_test, verbose=1, batch_size=256)\n",
    "print(\"Accuracy: %.2f%%\" % (scores[1] * 100))\n",
    "\n",
    "# Predict the probabilities\n",
    "y_pred_probs = model.predict(X_test, batch_size=256, verbose=1)\n",
    "\n",
    "# Find the best threshold for recall\n",
    "thresholds = np.arange(0.1, 1, 0.01)\n",
    "best_recall = 0\n",
    "best_recall_threshold = 0.5\n",
    "\n",
    "for threshold in thresholds:\n",
    "    y_pred_classes = (y_pred_probs >= threshold).astype(int)\n",
    "    recall = recall_score(y_test, y_pred_classes)\n",
    "\n",
    "    if recall > best_recall:\n",
    "        best_recall = recall\n",
    "        best_recall_threshold = threshold\n",
    "\n",
    "print(f\"Best Recall Score: {best_recall:.4f} at threshold {best_recall_threshold:.2f}\")\n",
    "\n",
    "# Evaluate and print classification report for best recall score\n",
    "y_pred_classes = (y_pred_probs >= best_recall_threshold).astype(int)\n",
    "print(\"Classification Report for Best Recall Score:\")\n",
    "print(classification_report(y_test, y_pred_classes, target_names=['Class 0', 'Class 1']))\n"
   ]
  },
  {
   "cell_type": "code",
   "execution_count": null,
   "metadata": {
    "colab": {
     "base_uri": "https://localhost:8080/",
     "height": 641
    },
    "id": "h6GlS5CzlXD0",
    "outputId": "56f51ceb-9eb4-42ef-b2cd-c3aeded56fe1"
   },
   "outputs": [
    {
     "data": {
      "image/png": "[encoded data removed]",
      "text/plain": [
       "<Figure size 1000x700 with 2 Axes>"
      ]
     },
     "metadata": {},
     "output_type": "display_data"
    }
   ],
   "source": [
    "from sklearn.metrics import recall_score, confusion_matrix\n",
    "import matplotlib.pyplot as plt\n",
    "import seaborn as sns\n",
    "# Evaluate for best recall threshold\n",
    "y_pred_classes = (y_pred_probs >= best_recall_threshold).astype(int)\n",
    "\n",
    "# Compute confusion matrix\n",
    "conf_matrix = confusion_matrix(y_test, y_pred_classes)\n",
    "# Plot confusion matrix\n",
    "plt.figure(figsize=(10, 7))\n",
    "sns.heatmap(conf_matrix, annot=True, fmt='d', cmap='Blues', xticklabels=['Class 0', 'Class 1'], yticklabels=['Class 0', 'Class 1'])\n",
    "plt.xlabel('Predicted')\n",
    "plt.ylabel('Actual')\n",
    "plt.title('Confusion Matrix')\n",
    "plt.show()"
   ]
  },
  {
   "cell_type": "markdown",
   "metadata": {},
   "source": [
    "# CONCLUSION"
   ]
  },
  {
   "cell_type": "markdown",
   "metadata": {},
   "source": [
    "CNN model is the best choice due to its high accuracy with 85% and balanced performance across metrics"
   ]
  }
 ],
 "metadata": {
  "accelerator": "GPU",
  "colab": {
   "gpuType": "T4",
   "provenance": []
  },
  "kernelspec": {
   "display_name": "Python 3 (ipykernel)",
   "language": "python",
   "name": "python3"
  },
  "language_info": {
   "codemirror_mode": {
    "name": "ipython",
    "version": 3
   },
   "file_extension": ".py",
   "mimetype": "text/x-python",
   "name": "python",
   "nbconvert_exporter": "python",
   "pygments_lexer": "ipython3",
   "version": "3.9.12"
  }
 },
 "nbformat": 4,
 "nbformat_minor": 1
}
