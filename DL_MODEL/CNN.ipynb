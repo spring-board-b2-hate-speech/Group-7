{
 "cells": [
  {
   "cell_type": "code",
   "execution_count": 2,
   "metadata": {
    "id": "rDaijapHP4vF"
   },
   "outputs": [],
   "source": [
    "import pandas as pd\n",
    "import numpy as np\n",
    "from tqdm import tqdm\n",
    "from transformers import BertTokenizer, BertModel\n",
    "import torch\n",
    "\n",
    "# Load the CSV file into a pandas DataFrame\n",
    "df = pd.read_csv(\"/content/cleaned_ghc_train.csv\")\n"
   ]
  },
  {
   "cell_type": "code",
   "execution_count": 3,
   "metadata": {
    "id": "LorRGHyWhi8u"
   },
   "outputs": [],
   "source": [
    "from sklearn.model_selection import train_test_split\n",
    "from sklearn.preprocessing import LabelEncoder\n",
    "from sklearn.feature_extraction.text import TfidfVectorizer\n",
    "\n",
    "df['text'] = df['text'].fillna('')"
   ]
  },
  {
   "cell_type": "code",
   "execution_count": 4,
   "metadata": {
    "id": "6tqca5TZhl7J"
   },
   "outputs": [],
   "source": [
    "y = df['label']\n",
    "X=df['text']"
   ]
  },
  {
   "cell_type": "markdown",
   "metadata": {
    "id": "AhGf-tQJ7AAT"
   },
   "source": [
    "# **CNN**"
   ]
  },
  {
   "cell_type": "code",
   "execution_count": null,
   "metadata": {
    "colab": {
     "base_uri": "https://localhost:8080/",
     "height": 983
    },
    "id": "aYrDxNJdhA6v",
    "outputId": "8c72fc7c-6130-4600-e6d7-7fd628ecb3c0"
   },
   "outputs": [
    {
     "name": "stdout",
     "output_type": "stream",
     "text": [
      "Epoch 1/5\n",
      "273/273 [==============================] - 288s 1s/step - loss: 0.6101 - accuracy: 0.7058 - val_loss: 0.5219 - val_accuracy: 0.8145\n",
      "Epoch 2/5\n",
      "273/273 [==============================] - 285s 1s/step - loss: 0.4368 - accuracy: 0.8429 - val_loss: 0.4449 - val_accuracy: 0.8365\n",
      "Epoch 3/5\n",
      "273/273 [==============================] - 283s 1s/step - loss: 0.3235 - accuracy: 0.8875 - val_loss: 0.4965 - val_accuracy: 0.7856\n",
      "Epoch 4/5\n",
      "273/273 [==============================] - 290s 1s/step - loss: 0.2150 - accuracy: 0.9183 - val_loss: 0.4236 - val_accuracy: 0.8244\n",
      "Epoch 5/5\n",
      "273/273 [==============================] - 283s 1s/step - loss: 0.1494 - accuracy: 0.9442 - val_loss: 0.4839 - val_accuracy: 0.8446\n",
      "137/137 - 15s - loss: 0.4839 - accuracy: 0.8446 - 15s/epoch - 108ms/step\n",
      "\n",
      "Test accuracy: 0.844582200050354\n",
      "137/137 [==============================] - 16s 114ms/step\n"
     ]
    },
    {
     "data": {
      "image/png": "[encoded data removed]",
      "text/plain": [
       "<Figure size 800x600 with 2 Axes>"
      ]
     },
     "metadata": {},
     "output_type": "display_data"
    },
    {
     "name": "stdout",
     "output_type": "stream",
     "text": [
      "              precision    recall  f1-score   support\n",
      "\n",
      "     Class 0       0.94      0.88      0.91      3869\n",
      "     Class 1       0.37      0.54      0.44       487\n",
      "\n",
      "    accuracy                           0.84      4356\n",
      "   macro avg       0.65      0.71      0.67      4356\n",
      "weighted avg       0.87      0.84      0.86      4356\n",
      "\n"
     ]
    }
   ],
   "source": [
    "import numpy as np\n",
    "from keras.preprocessing.text import Tokenizer\n",
    "from keras.preprocessing.sequence import pad_sequences\n",
    "from keras.models import Sequential\n",
    "from keras.layers import Embedding, Conv1D, MaxPooling1D, Flatten, Dense, Dropout\n",
    "from keras.callbacks import EarlyStopping\n",
    "from sklearn.model_selection import train_test_split\n",
    "from sklearn.utils.class_weight import compute_class_weight\n",
    "from sklearn.metrics import confusion_matrix, classification_report\n",
    "import matplotlib.pyplot as plt\n",
    "import seaborn as sns\n",
    "\n",
    "# Assuming X and y are your dataset features and labels\n",
    "# Split the dataset\n",
    "X_train, X_test, y_train, y_test = train_test_split(X, y, test_size=0.2, random_state=42)\n",
    "top_words = 10000\n",
    "max_review_length = 600\n",
    "# Tokenization\n",
    "tokenizer = Tokenizer(num_words=top_words)\n",
    "tokenizer.fit_on_texts(X_train)\n",
    "\n",
    "# Convert text to sequences\n",
    "X_train_sequences = tokenizer.texts_to_sequences(X_train)\n",
    "X_test_sequences = tokenizer.texts_to_sequences(X_test)\n",
    "\n",
    "# Padding\n",
    "X_train_padded = pad_sequences(X_train_sequences, maxlen=max_review_length)\n",
    "\n",
    "X_test_padded = pad_sequences(X_test_sequences, maxlen=max_review_length)\n",
    "\n",
    "# Compute class weights\n",
    "class_weights = compute_class_weight('balanced', classes=np.unique(y_train), y=y_train)\n",
    "class_weights_dict = dict(enumerate(class_weights))\n",
    "\n",
    "# Define the model\n",
    "model = Sequential()\n",
    "model.add(Embedding(top_words, embedding_vector_length, input_length=max_review_length))\n",
    "model.add(Conv1D(filters=256, kernel_size=5, padding='same', activation='relu'))\n",
    "model.add(Dropout(0.5))\n",
    "model.add(MaxPooling1D(pool_size=2))\n",
    "model.add(Conv1D(filters=128, kernel_size=5, padding='same', activation='relu'))  # Additional Conv1D layer\n",
    "model.add(Dropout(0.5))\n",
    "model.add(MaxPooling1D(pool_size=2))\n",
    "model.add(Flatten())\n",
    "model.add(Dense(256, activation='relu'))  # Larger Dense layer\n",
    "model.add(Dropout(0.5))\n",
    "model.add(Dense(1, activation='sigmoid'))\n",
    "\n",
    "\n",
    "# Compile the model\n",
    "model.compile(loss='binary_crossentropy', optimizer='adam', metrics=['accuracy'])\n",
    "\n",
    "# Define early stopping callback\n",
    "early_stopping = EarlyStopping(monitor='val_loss', patience=5, restore_best_weights=True)\n",
    "\n",
    "# Train the model with early stopping and class weights\n",
    "history = model.fit(X_train_padded, y_train, epochs=5, batch_size=64,\n",
    "                    validation_data=(X_test_padded, y_test),\n",
    "                    class_weight=class_weights_dict,\n",
    "                    callbacks=[early_stopping])\n",
    "\n",
    "# Evaluate the model on the test set\n",
    "test_loss, test_acc = model.evaluate(X_test_padded, y_test, verbose=2)\n",
    "print(f'\\nTest accuracy: {test_acc}')\n",
    "\n",
    "# Predict the labels for the test set\n",
    "y_pred = model.predict(X_test_padded)\n",
    "y_pred_classes = (y_pred > 0.5).astype(\"int32\")\n",
    "\n",
    "# Generate the confusion matrix\n",
    "cm = confusion_matrix(y_test, y_pred_classes)\n",
    "\n",
    "# Visualize the confusion matrix\n",
    "plt.figure(figsize=(8, 6))\n",
    "sns.heatmap(cm, annot=True, fmt='d', cmap='Blues', xticklabels=['Class 0', 'Class 1'], yticklabels=['Class 0', 'Class 1'])\n",
    "plt.xlabel('Predicted')\n",
    "plt.ylabel('True')\n",
    "plt.title('Confusion Matrix')\n",
    "plt.show()\n",
    "\n",
    "# Print classification report\n",
    "print(classification_report(y_test, y_pred_classes, target_names=['Class 0', 'Class 1']))\n"
   ]
  },
  {
   "cell_type": "markdown",
   "metadata": {},
   "source": [
    "# Modification-1"
   ]
  },
  {
   "cell_type": "code",
   "execution_count": 5,
   "metadata": {
    "colab": {
     "base_uri": "https://localhost:8080/",
     "height": 981
    },
    "id": "UyL7kraCZMKd",
    "outputId": "d5d9efd6-a4a4-4f94-b9b7-167db621c76a"
   },
   "outputs": [
    {
     "name": "stdout",
     "output_type": "stream",
     "text": [
      "Epoch 1/5\n",
      "273/273 [==============================] - 41s 122ms/step - loss: 0.5958 - accuracy: 0.6772 - val_loss: 0.6443 - val_accuracy: 0.7284\n",
      "Epoch 2/5\n",
      "273/273 [==============================] - 15s 56ms/step - loss: 0.4265 - accuracy: 0.8423 - val_loss: 0.5189 - val_accuracy: 0.7672\n",
      "Epoch 3/5\n",
      "273/273 [==============================] - 10s 35ms/step - loss: 0.2907 - accuracy: 0.8847 - val_loss: 0.4492 - val_accuracy: 0.7922\n",
      "Epoch 4/5\n",
      "273/273 [==============================] - 9s 33ms/step - loss: 0.1977 - accuracy: 0.9196 - val_loss: 0.4648 - val_accuracy: 0.8095\n",
      "Epoch 5/5\n",
      "273/273 [==============================] - 8s 31ms/step - loss: 0.1415 - accuracy: 0.9412 - val_loss: 0.4928 - val_accuracy: 0.8124\n",
      "137/137 - 1s - loss: 0.4928 - accuracy: 0.8124 - 723ms/epoch - 5ms/step\n",
      "\n",
      "Test accuracy: 0.8124426007270813\n",
      "137/137 [==============================] - 1s 4ms/step\n"
     ]
    },
    {
     "data": {
      "image/png": "[encoded data removed]",
      "text/plain": [
       "<Figure size 800x600 with 2 Axes>"
      ]
     },
     "metadata": {},
     "output_type": "display_data"
    },
    {
     "name": "stdout",
     "output_type": "stream",
     "text": [
      "              precision    recall  f1-score   support\n",
      "\n",
      "     Class 0       0.95      0.84      0.89      3869\n",
      "     Class 1       0.32      0.62      0.43       487\n",
      "\n",
      "    accuracy                           0.81      4356\n",
      "   macro avg       0.63      0.73      0.66      4356\n",
      "weighted avg       0.88      0.81      0.84      4356\n",
      "\n"
     ]
    }
   ],
   "source": [
    "import numpy as np\n",
    "from keras.preprocessing.text import Tokenizer\n",
    "from keras.preprocessing.sequence import pad_sequences\n",
    "from keras.models import Sequential\n",
    "from keras.layers import Embedding, Conv1D, MaxPooling1D, Flatten, Dense, Dropout\n",
    "from keras.callbacks import EarlyStopping\n",
    "from sklearn.model_selection import train_test_split\n",
    "from sklearn.utils.class_weight import compute_class_weight\n",
    "from sklearn.metrics import confusion_matrix, classification_report\n",
    "import matplotlib.pyplot as plt\n",
    "import seaborn as sns\n",
    "\n",
    "# Assuming X and y are your dataset features and labels\n",
    "# Split the dataset\n",
    "X_train, X_test, y_train, y_test = train_test_split(X, y, test_size=0.2, random_state=42)\n",
    "top_words = 10000\n",
    "max_review_length = 600\n",
    "# Tokenization\n",
    "tokenizer = Tokenizer(num_words=top_words)\n",
    "tokenizer.fit_on_texts(X_train)\n",
    "\n",
    "# Convert text to sequences\n",
    "X_train_sequences = tokenizer.texts_to_sequences(X_train)\n",
    "X_test_sequences = tokenizer.texts_to_sequences(X_test)\n",
    "\n",
    "# Padding\n",
    "X_train_padded = pad_sequences(X_train_sequences, maxlen=max_review_length)\n",
    "\n",
    "X_test_padded = pad_sequences(X_test_sequences, maxlen=max_review_length)\n",
    "\n",
    "# Compute class weights\n",
    "class_weights = compute_class_weight('balanced', classes=np.unique(y_train), y=y_train)\n",
    "class_weights_dict = dict(enumerate(class_weights))\n",
    "\n",
    "# Define the model\n",
    "embedding_vector_length=100\n",
    "model = Sequential()\n",
    "model.add(Embedding(top_words, embedding_vector_length, input_length=max_review_length))\n",
    "model.add(Conv1D(filters=256, kernel_size=5, padding='same', activation='relu'))\n",
    "model.add(Dropout(0.5))\n",
    "model.add(MaxPooling1D(pool_size=2))\n",
    "model.add(Conv1D(filters=128, kernel_size=5, padding='same', activation='relu'))  # Additional Conv1D layer\n",
    "model.add(Dropout(0.5))\n",
    "model.add(MaxPooling1D(pool_size=2))\n",
    "model.add(Flatten())\n",
    "model.add(Dense(64, activation='relu'))  # Larger Dense layer\n",
    "model.add(Dropout(0.5))\n",
    "model.add(Dense(1, activation='sigmoid'))\n",
    "\n",
    "\n",
    "# Compile the model\n",
    "model.compile(loss='binary_crossentropy', optimizer='adam', metrics=['accuracy'])\n",
    "\n",
    "# Define early stopping callback\n",
    "early_stopping = EarlyStopping(monitor='val_loss', patience=5, restore_best_weights=True)\n",
    "\n",
    "# Train the model with early stopping and class weights\n",
    "history = model.fit(X_train_padded, y_train, epochs=5, batch_size=64,\n",
    "                    validation_data=(X_test_padded, y_test),\n",
    "                    class_weight=class_weights_dict,\n",
    "                    callbacks=[early_stopping])\n",
    "\n",
    "# Evaluate the model on the test set\n",
    "test_loss, test_acc = model.evaluate(X_test_padded, y_test, verbose=2)\n",
    "print(f'\\nTest accuracy: {test_acc}')\n",
    "\n",
    "# Predict the labels for the test set\n",
    "y_pred = model.predict(X_test_padded)\n",
    "y_pred_classes = (y_pred > 0.5).astype(\"int32\")\n",
    "\n",
    "# Generate the confusion matrix\n",
    "cm = confusion_matrix(y_test, y_pred_classes)\n",
    "\n",
    "# Visualize the confusion matrix\n",
    "plt.figure(figsize=(8, 6))\n",
    "sns.heatmap(cm, annot=True, fmt='d', cmap='Blues', xticklabels=['Class 0', 'Class 1'], yticklabels=['Class 0', 'Class 1'])\n",
    "plt.xlabel('Predicted')\n",
    "plt.ylabel('True')\n",
    "plt.title('Confusion Matrix')\n",
    "plt.show()\n",
    "\n",
    "# Print classification report\n",
    "print(classification_report(y_test, y_pred_classes, target_names=['Class 0', 'Class 1']))\n"
   ]
  },
  {
   "cell_type": "markdown",
   "metadata": {},
   "source": [
    "# Modification-2"
   ]
  },
  {
   "cell_type": "code",
   "execution_count": 8,
   "metadata": {
    "colab": {
     "base_uri": "https://localhost:8080/",
     "height": 981
    },
    "id": "lkH3Y24-anZp",
    "outputId": "176c9554-de1a-4193-cd71-f5782cf8760b"
   },
   "outputs": [
    {
     "name": "stdout",
     "output_type": "stream",
     "text": [
      "Epoch 1/5\n",
      "273/273 [==============================] - 27s 89ms/step - loss: 0.5936 - accuracy: 0.6976 - val_loss: 0.5091 - val_accuracy: 0.8044\n",
      "Epoch 2/5\n",
      "273/273 [==============================] - 9s 34ms/step - loss: 0.4288 - accuracy: 0.8545 - val_loss: 0.4182 - val_accuracy: 0.8292\n",
      "Epoch 3/5\n",
      "273/273 [==============================] - 7s 26ms/step - loss: 0.2740 - accuracy: 0.9017 - val_loss: 0.4926 - val_accuracy: 0.8147\n",
      "Epoch 4/5\n",
      "273/273 [==============================] - 8s 28ms/step - loss: 0.1589 - accuracy: 0.9429 - val_loss: 0.5776 - val_accuracy: 0.8170\n",
      "Epoch 5/5\n",
      "273/273 [==============================] - 6s 23ms/step - loss: 0.0908 - accuracy: 0.9678 - val_loss: 0.7532 - val_accuracy: 0.8271\n",
      "137/137 - 1s - loss: 0.4182 - accuracy: 0.8292 - 774ms/epoch - 6ms/step\n",
      "\n",
      "Test accuracy: 0.8292011022567749\n",
      "137/137 [==============================] - 1s 3ms/step\n"
     ]
    },
    {
     "data": {
      "image/png": "[encoded data removed]",
      "text/plain": [
       "<Figure size 800x600 with 2 Axes>"
      ]
     },
     "metadata": {},
     "output_type": "display_data"
    },
    {
     "name": "stdout",
     "output_type": "stream",
     "text": [
      "              precision    recall  f1-score   support\n",
      "\n",
      "     Class 0       0.95      0.85      0.90      3869\n",
      "     Class 1       0.35      0.64      0.45       487\n",
      "\n",
      "    accuracy                           0.83      4356\n",
      "   macro avg       0.65      0.75      0.68      4356\n",
      "weighted avg       0.88      0.83      0.85      4356\n",
      "\n"
     ]
    }
   ],
   "source": [
    "import numpy as np\n",
    "from keras.preprocessing.text import Tokenizer\n",
    "from keras.preprocessing.sequence import pad_sequences\n",
    "from keras.models import Sequential\n",
    "from keras.layers import Embedding, Conv1D, MaxPooling1D, Flatten, Dense, Dropout\n",
    "from keras.callbacks import EarlyStopping\n",
    "from sklearn.model_selection import train_test_split\n",
    "from sklearn.utils.class_weight import compute_class_weight\n",
    "from sklearn.metrics import confusion_matrix, classification_report\n",
    "import matplotlib.pyplot as plt\n",
    "import seaborn as sns\n",
    "\n",
    "# Split the dataset\n",
    "X_train, X_test, y_train, y_test = train_test_split(X, y, test_size=0.2, random_state=42)\n",
    "top_words = 10000\n",
    "max_review_length = 600\n",
    "\n",
    "# Tokenization\n",
    "tokenizer = Tokenizer(num_words=top_words)\n",
    "tokenizer.fit_on_texts(X_train)\n",
    "\n",
    "# Convert text to sequences\n",
    "X_train_sequences = tokenizer.texts_to_sequences(X_train)\n",
    "X_test_sequences = tokenizer.texts_to_sequences(X_test)\n",
    "\n",
    "# Padding\n",
    "X_train_padded = pad_sequences(X_train_sequences, maxlen=max_review_length)\n",
    "X_test_padded = pad_sequences(X_test_sequences, maxlen=max_review_length)\n",
    "\n",
    "# Compute class weights\n",
    "class_weights = compute_class_weight('balanced', classes=np.unique(y_train), y=y_train)\n",
    "class_weights_dict = dict(enumerate(class_weights))\n",
    "\n",
    "# Define the model\n",
    "embedding_vector_length = 100\n",
    "model = Sequential()\n",
    "model.add(Embedding(top_words, embedding_vector_length, input_length=max_review_length))\n",
    "model.add(Conv1D(filters=256, kernel_size=5, padding='same', activation='relu'))\n",
    "model.add(MaxPooling1D(pool_size=4))  # Increase pool size from 2 to 4\n",
    "model.add(Conv1D(filters=128, kernel_size=5, padding='same', activation='relu'))\n",
    "model.add(MaxPooling1D(pool_size=4))  # Increase pool size from 2 to 4\n",
    "model.add(Flatten())\n",
    "model.add(Dense(64, activation='relu'))  # Increase Dense layer size to 128\n",
    "model.add(Dropout(0.5))\n",
    "model.add(Dense(1, activation='sigmoid'))\n",
    "\n",
    "# Compile the model\n",
    "model.compile(loss='binary_crossentropy', optimizer='adam', metrics=['accuracy'])\n",
    "\n",
    "# Define early stopping callback\n",
    "early_stopping = EarlyStopping(monitor='val_loss', patience=3, restore_best_weights=True)\n",
    "\n",
    "# Train the model with early stopping and class weights\n",
    "history = model.fit(X_train_padded, y_train, epochs=5, batch_size=64,\n",
    "                    validation_data=(X_test_padded, y_test),\n",
    "                    class_weight=class_weights_dict,\n",
    "                    callbacks=[early_stopping])\n",
    "\n",
    "# Evaluate the model on the test set\n",
    "test_loss, test_acc = model.evaluate(X_test_padded, y_test, verbose=2)\n",
    "print(f'\\nTest accuracy: {test_acc}')\n",
    "\n",
    "# Predict the labels for the test set\n",
    "y_pred = model.predict(X_test_padded)\n",
    "y_pred_classes = (y_pred > 0.5).astype(\"int32\")\n",
    "\n",
    "# Generate the confusion matrix\n",
    "cm = confusion_matrix(y_test, y_pred_classes)\n",
    "\n",
    "# Visualize the confusion matrix\n",
    "plt.figure(figsize=(8, 6))\n",
    "sns.heatmap(cm, annot=True, fmt='d', cmap='Blues', xticklabels=['Class 0', 'Class 1'], yticklabels=['Class 0', 'Class 1'])\n",
    "plt.xlabel('Predicted')\n",
    "plt.ylabel('True')\n",
    "plt.title('Confusion Matrix')\n",
    "plt.show()\n",
    "\n",
    "# Print classification report\n",
    "print(classification_report(y_test, y_pred_classes, target_names=['Class 0', 'Class 1']))\n"
   ]
  }
 ],
 "metadata": {
  "accelerator": "GPU",
  "colab": {
   "gpuType": "T4",
   "provenance": []
  },
  "kernelspec": {
   "display_name": "Python 3 (ipykernel)",
   "language": "python",
   "name": "python3"
  },
  "language_info": {
   "codemirror_mode": {
    "name": "ipython",
    "version": 3
   },
   "file_extension": ".py",
   "mimetype": "text/x-python",
   "name": "python",
   "nbconvert_exporter": "python",
   "pygments_lexer": "ipython3",
   "version": "3.9.12"
  }
 },
 "nbformat": 4,
 "nbformat_minor": 1
}
