{
  "cells": [
    {
      "cell_type": "code",
      "execution_count": 1,
      "metadata": {
        "id": "syek6SP7Cpu3"
      },
      "outputs": [],
      "source": [
        "import pandas as pd\n",
        "import numpy as np\n",
        "from tqdm import tqdm\n",
        "from transformers import BertTokenizer, BertModel\n",
        "import torch\n",
        "\n",
        "# Load the CSV file into a pandas DataFrame\n",
        "df = pd.read_csv(\"/content/cleaned_ghc_train.csv\")\n"
      ]
    },
    {
      "cell_type": "code",
      "execution_count": 2,
      "metadata": {
        "id": "mLPaZyjVC7SI"
      },
      "outputs": [],
      "source": [
        "from sklearn.model_selection import train_test_split\n",
        "from sklearn.preprocessing import LabelEncoder\n",
        "from sklearn.feature_extraction.text import TfidfVectorizer\n",
        "\n",
        "df['text'] = df['text'].fillna('')"
      ]
    },
    {
      "cell_type": "code",
      "execution_count": 3,
      "metadata": {
        "id": "3AcC50rqC7Vr"
      },
      "outputs": [],
      "source": [
        "y = df['label']\n",
        "X=df['text']"
      ]
    },
    {
      "cell_type": "markdown",
      "metadata": {
        "id": "UPOMq_3-w3yn"
      },
      "source": [
        "# **Bidirectional LSTM**"
      ]
    },
    {
      "cell_type": "markdown",
      "source": [
        "A Bidirectional Long Short-Term Memory (BiLSTM) is a type of recurrent neural network (RNN) architecture that improves upon the standard LSTM by processing the input data in both forward and backward directions. This allows the model to capture information from both past and future states, which can be particularly useful for sequence data where context from both directions can enhance understanding and prediction."
      ],
      "metadata": {
        "id": "Ui6Cq1Vze_DD"
      }
    },
    {
      "cell_type": "markdown",
      "source": [
        "A BiLSTM consists of two LSTM layers: one processes the sequence forward (from the start to the end), and the other processes it backward (from the end to the start).\n",
        "At each time step, the outputs of both LSTM layers are concatenated or combined to form the final output. This combination captures context from both directions, making the model more effective in understanding the entire sequence."
      ],
      "metadata": {
        "id": "hdifZL-sfMnK"
      }
    },
    {
      "cell_type": "code",
      "source": [
        "import numpy as np\n",
        "from keras.preprocessing.text import Tokenizer\n",
        "from keras.preprocessing.sequence import pad_sequences\n",
        "from keras.models import Sequential\n",
        "from keras.layers import Embedding, Bidirectional, LSTM, Dense, Dropout\n",
        "from keras.callbacks import EarlyStopping\n",
        "from sklearn.model_selection import train_test_split\n",
        "from sklearn.utils.class_weight import compute_class_weight\n",
        "from sklearn.metrics import confusion_matrix, classification_report\n",
        "import matplotlib.pyplot as plt\n",
        "import seaborn as sns\n",
        "\n",
        "# Assuming X and y are your dataset features and labels\n",
        "# Split the dataset\n",
        "X_train, X_test, y_train, y_test = train_test_split(X, y, test_size=0.2, random_state=42)\n",
        "top_words = 10000\n",
        "max_review_length = 200\n",
        "\n",
        "# Tokenization\n",
        "tokenizer = Tokenizer(num_words=top_words)\n",
        "tokenizer.fit_on_texts(X_train)\n",
        "\n",
        "# Convert text to sequences\n",
        "X_train_sequences = tokenizer.texts_to_sequences(X_train)\n",
        "X_test_sequences = tokenizer.texts_to_sequences(X_test)\n",
        "\n",
        "# Padding\n",
        "X_train_padded = pad_sequences(X_train_sequences, maxlen=max_review_length)\n",
        "X_test_padded = pad_sequences(X_test_sequences, maxlen=max_review_length)\n",
        "\n",
        "# Compute class weights:The provided code snippet uses the compute_class_weight function from the sklearn.utils.class_weight module to compute weights for classes in the training data. These weights help handle class imbalance by assigning more importance to underrepresented classes during model training.\n",
        "#'balanced': This argument tells the function to automatically adjust weights inversely proportional to the class frequencies. It ensures that each class contributes equally to the loss function during model training.\n",
        "class_weights = compute_class_weight('balanced', classes=np.unique(y_train), y=y_train)\n",
        "class_weights_dict = dict(enumerate(class_weights))\n",
        "\n",
        "\n",
        "# Define the model\n",
        "embedding_vector_length = 100  #embedding dimension\n",
        "model = Sequential()\n",
        "# Embedding layer\n",
        "model.add(Embedding(input_dim=top_words, output_dim=embedding_vector_length, input_length=max_review_length))\n",
        "# Bidirectional LSTM layer\n",
        "model.add(Bidirectional(LSTM(units=128, return_sequences=True)))\n",
        "model.add(Dropout(0.5))  # Add Dropout for regularization\n",
        "# Another LSTM layer\n",
        "model.add(Bidirectional(LSTM(units=64)))\n",
        "model.add(Dropout(0.4))  # Add Dropout for regularization\n",
        "# Dense layer\n",
        "model.add(Dense(64, activation='relu'))\n",
        "model.add(Dropout(0.1))  # Add Dropout for regularization\n",
        "model.add(Dense(1, activation='sigmoid'))\n",
        "\n",
        "# Compile the model\n",
        "model.compile(loss='binary_crossentropy', optimizer='adam', metrics=['accuracy'])\n",
        "\n",
        "# Define early stopping callback\n",
        "early_stopping = EarlyStopping(monitor='val_loss', patience=5, restore_best_weights=True)\n",
        "\n",
        "# Train the model with early stopping and class weights\n",
        "history = model.fit(X_train_padded, y_train, epochs=5, batch_size=64,\n",
        "                    validation_data=(X_test_padded, y_test),\n",
        "                    class_weight=class_weights_dict,\n",
        "                    callbacks=[early_stopping])\n",
        "\n",
        "# Evaluate the model on the test set\n",
        "test_loss, test_acc = model.evaluate(X_test_padded, y_test, verbose=2)\n",
        "print(f'\\nTest accuracy: {test_acc}')\n",
        "\n",
        "# Predict the labels for the test set\n",
        "y_pred = model.predict(X_test_padded)\n",
        "y_pred_classes = (y_pred > 0.5).astype(\"int32\")\n",
        "\n",
        "# Generate the confusion matrix\n",
        "cm = confusion_matrix(y_test, y_pred_classes)\n",
        "\n",
        "# Visualize the confusion matrix\n",
        "plt.figure(figsize=(8, 6))\n",
        "sns.heatmap(cm, annot=True, fmt='d', cmap='Blues', xticklabels=['Class 0', 'Class 1'], yticklabels=['Class 0', 'Class 1'])\n",
        "plt.xlabel('Predicted')\n",
        "plt.ylabel('True')\n",
        "plt.title('Confusion Matrix')\n",
        "plt.show()\n",
        "\n",
        "# Print classification report\n",
        "print(classification_report(y_test, y_pred_classes, target_names=['Class 0', 'Class 1']))\n"
      ],
      "metadata": {
        "colab": {
          "base_uri": "https://localhost:8080/",
          "height": 983
        },
        "id": "tGch1LCtUMRG",
        "outputId": "bfe3ec8c-16db-4784-cfb7-7cc262f9f2d9"
      },
      "execution_count": null,
      "outputs": [
        {
          "output_type": "stream",
          "name": "stdout",
          "text": [
            "Epoch 1/5\n",
            "273/273 [==============================] - 39s 116ms/step - loss: 0.6074 - accuracy: 0.7025 - val_loss: 0.5398 - val_accuracy: 0.7805\n",
            "Epoch 2/5\n",
            "273/273 [==============================] - 15s 53ms/step - loss: 0.3986 - accuracy: 0.8478 - val_loss: 0.5186 - val_accuracy: 0.7975\n",
            "Epoch 3/5\n",
            "273/273 [==============================] - 12s 45ms/step - loss: 0.2780 - accuracy: 0.8846 - val_loss: 0.4982 - val_accuracy: 0.7695\n",
            "Epoch 4/5\n",
            "273/273 [==============================] - 12s 45ms/step - loss: 0.1781 - accuracy: 0.9261 - val_loss: 0.4599 - val_accuracy: 0.8345\n",
            "Epoch 5/5\n",
            "273/273 [==============================] - 12s 43ms/step - loss: 0.1331 - accuracy: 0.9473 - val_loss: 0.6558 - val_accuracy: 0.7725\n",
            "137/137 - 1s - loss: 0.6558 - accuracy: 0.7725 - 1s/epoch - 11ms/step\n",
            "\n",
            "Test accuracy: 0.7724977135658264\n",
            "137/137 [==============================] - 3s 12ms/step\n"
          ]
        },
        {
          "output_type": "display_data",
          "data": {
            "text/plain": [
              "<Figure size 800x600 with 2 Axes>"
            ],
            "image/png": "[encoded data removed]"
          },
          "metadata": {}
        },
        {
          "output_type": "stream",
          "name": "stdout",
          "text": [
            "              precision    recall  f1-score   support\n",
            "\n",
            "     Class 0       0.93      0.80      0.86      3869\n",
            "     Class 1       0.26      0.55      0.35       487\n",
            "\n",
            "    accuracy                           0.77      4356\n",
            "   macro avg       0.60      0.68      0.61      4356\n",
            "weighted avg       0.86      0.77      0.81      4356\n",
            "\n"
          ]
        }
      ]
    },
    {
      "cell_type": "code",
      "source": [
        "from sklearn.metrics import confusion_matrix, classification_report, accuracy_score, recall_score, precision_score, f1_score, roc_auc_score, roc_curve, auc\n",
        "# Calculate and print additional metrics\n",
        "accuracy = accuracy_score(y_test, y_pred_classes)\n",
        "recall = recall_score(y_test, y_pred_classes)\n",
        "precision = precision_score(y_test, y_pred_classes)\n",
        "f1 = f1_score(y_test, y_pred_classes)\n",
        "roc_auc = roc_auc_score(y_test, y_pred)\n",
        "\n",
        "print(f'Accuracy: {accuracy}')\n",
        "print(f'Recall: {recall}')\n",
        "print(f'Precision: {precision}')\n",
        "print(f'F1 Score: {f1}')\n",
        "print(f'ROC AUC Score: {roc_auc}')"
      ],
      "metadata": {
        "colab": {
          "base_uri": "https://localhost:8080/"
        },
        "id": "9HclvkHThD7n",
        "outputId": "fde50702-9d79-4f0d-ca1a-278076061117"
      },
      "execution_count": null,
      "outputs": [
        {
          "output_type": "stream",
          "name": "stdout",
          "text": [
            "Accuracy: 0.7724977043158862\n",
            "Recall: 0.5544147843942505\n",
            "Precision: 0.25862068965517243\n",
            "F1 Score: 0.3527106466361855\n",
            "ROC AUC Score: 0.7445158509990696\n"
          ]
        }
      ]
    },
    {
      "cell_type": "markdown",
      "source": [
        "# Decreasing dropouts layer value\n",
        "\n",
        "\n"
      ],
      "metadata": {
        "id": "jrISYSzP7IC3"
      }
    },
    {
      "cell_type": "code",
      "source": [
        "import numpy as np\n",
        "from keras.preprocessing.text import Tokenizer\n",
        "from keras.preprocessing.sequence import pad_sequences\n",
        "from keras.models import Sequential\n",
        "from keras.layers import Embedding, Bidirectional, LSTM, Dense, Dropout\n",
        "from keras.callbacks import EarlyStopping\n",
        "from sklearn.model_selection import train_test_split\n",
        "from sklearn.utils.class_weight import compute_class_weight\n",
        "from sklearn.metrics import confusion_matrix, classification_report\n",
        "import matplotlib.pyplot as plt\n",
        "import seaborn as sns\n",
        "\n",
        "# Assuming X and y are your dataset features and labels\n",
        "# Split the dataset\n",
        "X_train, X_test, y_train, y_test = train_test_split(X, y, test_size=0.2, random_state=42,stratify=y)\n",
        "top_words = 10000\n",
        "max_review_length = 200\n",
        "\n",
        "# Tokenization\n",
        "tokenizer = Tokenizer(num_words=top_words)\n",
        "tokenizer.fit_on_texts(X_train)\n",
        "\n",
        "# Convert text to sequences\n",
        "X_train_sequences = tokenizer.texts_to_sequences(X_train)\n",
        "X_test_sequences = tokenizer.texts_to_sequences(X_test)\n",
        "\n",
        "# Padding\n",
        "X_train_padded = pad_sequences(X_train_sequences, maxlen=max_review_length)\n",
        "X_test_padded = pad_sequences(X_test_sequences, maxlen=max_review_length)\n",
        "\n",
        "# Compute class weights:The provided code snippet uses the compute_class_weight function from the sklearn.utils.class_weight module to compute weights for classes in the training data. These weights help handle class imbalance by assigning more importance to underrepresented classes during model training.\n",
        "#'balanced': This argument tells the function to automatically adjust weights inversely proportional to the class frequencies. It ensures that each class contributes equally to the loss function during model training.\n",
        "class_weights = compute_class_weight('balanced', classes=np.unique(y_train), y=y_train)\n",
        "class_weights_dict = dict(enumerate(class_weights))\n",
        "\n",
        "\n",
        "# Define the model\n",
        "embedding_vector_length = 100  #embedding dimension\n",
        "model = Sequential()\n",
        "# Embedding layer\n",
        "model.add(Embedding(input_dim=top_words, output_dim=embedding_vector_length, input_length=max_review_length))\n",
        "# Bidirectional LSTM layer\n",
        "model.add(Bidirectional(LSTM(units=128, return_sequences=True)))\n",
        "model.add(Dropout(0.5))  # Add Dropout for regularization\n",
        "# Another LSTM layer\n",
        "model.add(Bidirectional(LSTM(units=64)))\n",
        "model.add(Dropout(0.3))  # Add Dropout for regularization\n",
        "# Dense layer\n",
        "model.add(Dense(64, activation='relu'))\n",
        "model.add(Dropout(0.2))  # Add Dropout for regularization\n",
        "model.add(Dense(1, activation='sigmoid'))\n",
        "\n",
        "# Compile the model\n",
        "model.compile(loss='binary_crossentropy', optimizer='adam', metrics=['accuracy'])\n",
        "\n",
        "# Define early stopping callback\n",
        "early_stopping = EarlyStopping(monitor='val_loss', patience=5, restore_best_weights=True)\n",
        "\n",
        "# Train the model with early stopping and class weights\n",
        "history = model.fit(X_train_padded, y_train, epochs=5, batch_size=64,\n",
        "                    validation_data=(X_test_padded, y_test),\n",
        "                    class_weight=class_weights_dict,\n",
        "                    callbacks=[early_stopping])\n",
        "\n",
        "# Evaluate the model on the test set\n",
        "test_loss, test_acc = model.evaluate(X_test_padded, y_test, verbose=2)\n",
        "print(f'\\nTest accuracy: {test_acc}')\n",
        "\n",
        "# Predict the labels for the test set\n",
        "y_pred = model.predict(X_test_padded)\n",
        "y_pred_classes = (y_pred > 0.5).astype(\"int32\")\n",
        "\n",
        "# Generate the confusion matrix\n",
        "cm = confusion_matrix(y_test, y_pred_classes)\n",
        "\n",
        "# Visualize the confusion matrix\n",
        "plt.figure(figsize=(8, 6))\n",
        "sns.heatmap(cm, annot=True, fmt='d', cmap='Blues', xticklabels=['Class 0', 'Class 1'], yticklabels=['Class 0', 'Class 1'])\n",
        "plt.xlabel('Predicted')\n",
        "plt.ylabel('True')\n",
        "plt.title('Confusion Matrix')\n",
        "plt.show()\n",
        "\n",
        "# Print classification report\n",
        "print(classification_report(y_test, y_pred_classes, target_names=['Class 0', 'Class 1']))\n"
      ],
      "metadata": {
        "colab": {
          "base_uri": "https://localhost:8080/",
          "height": 981
        },
        "id": "kYT2aGD-rYE-",
        "outputId": "44d62eb4-f8d5-4fce-c1fe-04be1fe27188"
      },
      "execution_count": 8,
      "outputs": [
        {
          "output_type": "stream",
          "name": "stdout",
          "text": [
            "Epoch 1/5\n",
            "273/273 [==============================] - 36s 104ms/step - loss: 0.6148 - accuracy: 0.7148 - val_loss: 0.6296 - val_accuracy: 0.7071\n",
            "Epoch 2/5\n",
            "273/273 [==============================] - 14s 53ms/step - loss: 0.4195 - accuracy: 0.8282 - val_loss: 0.5343 - val_accuracy: 0.7360\n",
            "Epoch 3/5\n",
            "273/273 [==============================] - 14s 52ms/step - loss: 0.3037 - accuracy: 0.8755 - val_loss: 0.4165 - val_accuracy: 0.8499\n",
            "Epoch 4/5\n",
            "273/273 [==============================] - 13s 48ms/step - loss: 0.2059 - accuracy: 0.9147 - val_loss: 0.5444 - val_accuracy: 0.7899\n",
            "Epoch 5/5\n",
            "273/273 [==============================] - 12s 44ms/step - loss: 0.1352 - accuracy: 0.9428 - val_loss: 0.5876 - val_accuracy: 0.8166\n",
            "137/137 - 2s - loss: 0.5876 - accuracy: 0.8166 - 2s/epoch - 11ms/step\n",
            "\n",
            "Test accuracy: 0.8165748119354248\n",
            "137/137 [==============================] - 3s 13ms/step\n"
          ]
        },
        {
          "output_type": "display_data",
          "data": {
            "text/plain": [
              "<Figure size 800x600 with 2 Axes>"
            ],
            "image/png": "[encoded data removed]"
          },
          "metadata": {}
        },
        {
          "output_type": "stream",
          "name": "stdout",
          "text": [
            "              precision    recall  f1-score   support\n",
            "\n",
            "     Class 0       0.93      0.86      0.89      3826\n",
            "     Class 1       0.33      0.51      0.41       530\n",
            "\n",
            "    accuracy                           0.82      4356\n",
            "   macro avg       0.63      0.69      0.65      4356\n",
            "weighted avg       0.86      0.82      0.83      4356\n",
            "\n"
          ]
        }
      ]
    },
    {
      "cell_type": "markdown",
      "source": [
        "Looking at the recall metrics it does not improve much"
      ],
      "metadata": {
        "id": "G6Nj-6Dc7gky"
      }
    },
    {
      "cell_type": "markdown",
      "source": [
        "# Increasing embedding length to 200"
      ],
      "metadata": {
        "id": "M-z7qB_67njN"
      }
    },
    {
      "cell_type": "code",
      "source": [
        "import numpy as np\n",
        "from keras.preprocessing.text import Tokenizer\n",
        "from keras.preprocessing.sequence import pad_sequences\n",
        "from keras.models import Sequential\n",
        "from keras.layers import Embedding, Bidirectional, LSTM, Dense, Dropout\n",
        "from keras.callbacks import EarlyStopping\n",
        "from sklearn.model_selection import train_test_split\n",
        "from sklearn.utils.class_weight import compute_class_weight\n",
        "from sklearn.metrics import confusion_matrix, classification_report\n",
        "import matplotlib.pyplot as plt\n",
        "import seaborn as sns\n",
        "\n",
        "# Assuming X and y are your dataset features and labels\n",
        "# Split the dataset\n",
        "X_train, X_test, y_train, y_test = train_test_split(X, y, test_size=0.2, random_state=42,stratify=y)\n",
        "top_words = 10000\n",
        "max_review_length = 200\n",
        "\n",
        "# Tokenization\n",
        "tokenizer = Tokenizer(num_words=top_words)\n",
        "tokenizer.fit_on_texts(X_train)\n",
        "\n",
        "# Convert text to sequences\n",
        "X_train_sequences = tokenizer.texts_to_sequences(X_train)\n",
        "X_test_sequences = tokenizer.texts_to_sequences(X_test)\n",
        "\n",
        "# Padding\n",
        "X_train_padded = pad_sequences(X_train_sequences, maxlen=max_review_length)\n",
        "X_test_padded = pad_sequences(X_test_sequences, maxlen=max_review_length)\n",
        "\n",
        "# Compute class weights:The provided code snippet uses the compute_class_weight function from the sklearn.utils.class_weight module to compute weights for classes in the training data. These weights help handle class imbalance by assigning more importance to underrepresented classes during model training.\n",
        "#'balanced': This argument tells the function to automatically adjust weights inversely proportional to the class frequencies. It ensures that each class contributes equally to the loss function during model training.\n",
        "class_weights = compute_class_weight('balanced', classes=np.unique(y_train), y=y_train)\n",
        "class_weights_dict = dict(enumerate(class_weights))\n",
        "\n",
        "\n",
        "# Define the model\n",
        "embedding_vector_length = 200  #embedding dimension\n",
        "model = Sequential()\n",
        "# Embedding layer\n",
        "model.add(Embedding(input_dim=top_words, output_dim=embedding_vector_length, input_length=max_review_length))\n",
        "# Bidirectional LSTM layer\n",
        "model.add(Bidirectional(LSTM(units=128, return_sequences=True)))\n",
        "model.add(Dropout(0.5))  # Add Dropout for regularization\n",
        "# Another LSTM layer\n",
        "model.add(Bidirectional(LSTM(units=64)))\n",
        "model.add(Dropout(0.3))  # Add Dropout for regularization\n",
        "# Dense layer\n",
        "model.add(Dense(64, activation='relu'))\n",
        "model.add(Dropout(0.2))  # Add Dropout for regularization\n",
        "model.add(Dense(1, activation='sigmoid'))\n",
        "\n",
        "# Compile the model\n",
        "model.compile(loss='binary_crossentropy', optimizer='adam', metrics=['accuracy'])\n",
        "\n",
        "# Define early stopping callback\n",
        "early_stopping = EarlyStopping(monitor='val_loss', patience=5, restore_best_weights=True)\n",
        "\n",
        "# Train the model with early stopping and class weights\n",
        "history = model.fit(X_train_padded, y_train, epochs=5, batch_size=64,\n",
        "                    validation_data=(X_test_padded, y_test),\n",
        "                    class_weight=class_weights_dict,\n",
        "                    callbacks=[early_stopping])\n",
        "\n",
        "# Evaluate the model on the test set\n",
        "test_loss, test_acc = model.evaluate(X_test_padded, y_test, verbose=2)\n",
        "print(f'\\nTest accuracy: {test_acc}')\n",
        "\n",
        "# Predict the labels for the test set\n",
        "y_pred = model.predict(X_test_padded)\n",
        "y_pred_classes = (y_pred > 0.5).astype(\"int32\")\n",
        "\n",
        "# Generate the confusion matrix\n",
        "cm = confusion_matrix(y_test, y_pred_classes)\n",
        "\n",
        "# Visualize the confusion matrix\n",
        "plt.figure(figsize=(8, 6))\n",
        "sns.heatmap(cm, annot=True, fmt='d', cmap='Blues', xticklabels=['Class 0', 'Class 1'], yticklabels=['Class 0', 'Class 1'])\n",
        "plt.xlabel('Predicted')\n",
        "plt.ylabel('True')\n",
        "plt.title('Confusion Matrix')\n",
        "plt.show()\n",
        "\n",
        "# Print classification report\n",
        "print(classification_report(y_test, y_pred_classes, target_names=['Class 0', 'Class 1']))\n"
      ],
      "metadata": {
        "colab": {
          "base_uri": "https://localhost:8080/",
          "height": 981
        },
        "id": "gcLoPMK8v4hp",
        "outputId": "d99c689a-cccd-43cc-9efe-0c980126f9a0"
      },
      "execution_count": 11,
      "outputs": [
        {
          "output_type": "stream",
          "name": "stdout",
          "text": [
            "Epoch 1/5\n",
            "273/273 [==============================] - 45s 138ms/step - loss: 0.6061 - accuracy: 0.6902 - val_loss: 0.5236 - val_accuracy: 0.7544\n",
            "Epoch 2/5\n",
            "273/273 [==============================] - 18s 66ms/step - loss: 0.4134 - accuracy: 0.8403 - val_loss: 0.5051 - val_accuracy: 0.7874\n",
            "Epoch 3/5\n",
            "273/273 [==============================] - 15s 55ms/step - loss: 0.2711 - accuracy: 0.8868 - val_loss: 0.4981 - val_accuracy: 0.8012\n",
            "Epoch 4/5\n",
            "273/273 [==============================] - 13s 49ms/step - loss: 0.1642 - accuracy: 0.9313 - val_loss: 0.6201 - val_accuracy: 0.7707\n",
            "Epoch 5/5\n",
            "273/273 [==============================] - 14s 51ms/step - loss: 0.1138 - accuracy: 0.9511 - val_loss: 0.7710 - val_accuracy: 0.7677\n",
            "137/137 - 2s - loss: 0.7710 - accuracy: 0.7677 - 2s/epoch - 15ms/step\n",
            "\n",
            "Test accuracy: 0.7676767706871033\n",
            "137/137 [==============================] - 3s 11ms/step\n"
          ]
        },
        {
          "output_type": "display_data",
          "data": {
            "text/plain": [
              "<Figure size 800x600 with 2 Axes>"
            ],
            "image/png": "[encoded data removed]"
          },
          "metadata": {}
        },
        {
          "output_type": "stream",
          "name": "stdout",
          "text": [
            "              precision    recall  f1-score   support\n",
            "\n",
            "     Class 0       0.94      0.79      0.86      3826\n",
            "     Class 1       0.29      0.64      0.40       530\n",
            "\n",
            "    accuracy                           0.77      4356\n",
            "   macro avg       0.62      0.71      0.63      4356\n",
            "weighted avg       0.86      0.77      0.80      4356\n",
            "\n"
          ]
        }
      ]
    },
    {
      "cell_type": "code",
      "source": [
        "from sklearn.metrics import confusion_matrix, classification_report, accuracy_score, recall_score, precision_score, f1_score, roc_auc_score, roc_curve, auc\n",
        "# Calculate and print additional metrics\n",
        "accuracy = accuracy_score(y_test, y_pred_classes)\n",
        "recall = recall_score(y_test, y_pred_classes)\n",
        "precision = precision_score(y_test, y_pred_classes)\n",
        "f1 = f1_score(y_test, y_pred_classes)\n",
        "roc_auc = roc_auc_score(y_test, y_pred)\n",
        "\n",
        "print(f'Accuracy: {accuracy}')\n",
        "print(f'Recall: {recall}')\n",
        "print(f'Precision: {precision}')\n",
        "print(f'F1 Score: {f1}')\n",
        "print(f'ROC AUC Score: {roc_auc}')"
      ],
      "metadata": {
        "colab": {
          "base_uri": "https://localhost:8080/"
        },
        "id": "7_fV0MAmyIjN",
        "outputId": "200da6c8-88a7-4073-9506-6bd184f4f61f"
      },
      "execution_count": 12,
      "outputs": [
        {
          "output_type": "stream",
          "name": "stdout",
          "text": [
            "Accuracy: 0.7676767676767676\n",
            "Recall: 0.6358490566037736\n",
            "Precision: 0.291522491349481\n",
            "F1 Score: 0.3997627520759194\n",
            "ROC AUC Score: 0.7665084476619751\n"
          ]
        }
      ]
    },
    {
      "cell_type": "markdown",
      "source": [
        "The model has improved by watching the recall i.e 63%"
      ],
      "metadata": {
        "id": "0Euqk25S8bbZ"
      }
    },
    {
      "cell_type": "code",
      "source": [],
      "metadata": {
        "id": "CkSYeaa38lXf"
      },
      "execution_count": null,
      "outputs": []
    },
    {
      "cell_type": "markdown",
      "source": [
        "# Increasing embedding layer to 220"
      ],
      "metadata": {
        "id": "zI52m06c8mIN"
      }
    },
    {
      "cell_type": "code",
      "source": [
        "import numpy as np\n",
        "from keras.preprocessing.text import Tokenizer\n",
        "from keras.preprocessing.sequence import pad_sequences\n",
        "from keras.models import Sequential\n",
        "from keras.layers import Embedding, Bidirectional, LSTM, Dense, Dropout\n",
        "from keras.callbacks import EarlyStopping\n",
        "from sklearn.model_selection import train_test_split\n",
        "from sklearn.utils.class_weight import compute_class_weight\n",
        "from sklearn.metrics import confusion_matrix, classification_report\n",
        "import matplotlib.pyplot as plt\n",
        "import seaborn as sns\n",
        "\n",
        "# Assuming X and y are your dataset features and labels\n",
        "# Split the dataset\n",
        "X_train, X_test, y_train, y_test = train_test_split(X, y, test_size=0.2, random_state=42,stratify=y)\n",
        "top_words = 10000\n",
        "max_review_length = 200\n",
        "\n",
        "# Tokenization\n",
        "tokenizer = Tokenizer(num_words=top_words)\n",
        "tokenizer.fit_on_texts(X_train)\n",
        "\n",
        "# Convert text to sequences\n",
        "X_train_sequences = tokenizer.texts_to_sequences(X_train)\n",
        "X_test_sequences = tokenizer.texts_to_sequences(X_test)\n",
        "\n",
        "# Padding\n",
        "X_train_padded = pad_sequences(X_train_sequences, maxlen=max_review_length)\n",
        "X_test_padded = pad_sequences(X_test_sequences, maxlen=max_review_length)\n",
        "\n",
        "# Compute class weights:The provided code snippet uses the compute_class_weight function from the sklearn.utils.class_weight module to compute weights for classes in the training data. These weights help handle class imbalance by assigning more importance to underrepresented classes during model training.\n",
        "#'balanced': This argument tells the function to automatically adjust weights inversely proportional to the class frequencies. It ensures that each class contributes equally to the loss function during model training.\n",
        "class_weights = compute_class_weight('balanced', classes=np.unique(y_train), y=y_train)\n",
        "class_weights_dict = dict(enumerate(class_weights))\n",
        "\n",
        "\n",
        "# Define the model\n",
        "embedding_vector_length = 220  #embedding dimension\n",
        "model = Sequential()\n",
        "# Embedding layer\n",
        "model.add(Embedding(input_dim=top_words, output_dim=embedding_vector_length, input_length=max_review_length))\n",
        "# Bidirectional LSTM layer\n",
        "model.add(Bidirectional(LSTM(units=128, return_sequences=True)))\n",
        "model.add(Dropout(0.5))  # Add Dropout for regularization\n",
        "# Another LSTM layer\n",
        "model.add(Bidirectional(LSTM(units=64)))\n",
        "model.add(Dropout(0.3))  # Add Dropout for regularization\n",
        "# Dense layer\n",
        "model.add(Dense(64, activation='relu'))\n",
        "model.add(Dropout(0.2))  # Add Dropout for regularization\n",
        "model.add(Dense(1, activation='sigmoid'))\n",
        "\n",
        "# Compile the model\n",
        "model.compile(loss='binary_crossentropy', optimizer='adam', metrics=['accuracy'])\n",
        "\n",
        "# Define early stopping callback\n",
        "early_stopping = EarlyStopping(monitor='val_loss', patience=5, restore_best_weights=True)\n",
        "\n",
        "# Train the model with early stopping and class weights\n",
        "history = model.fit(X_train_padded, y_train, epochs=5, batch_size=64,\n",
        "                    validation_data=(X_test_padded, y_test),\n",
        "                    class_weight=class_weights_dict,\n",
        "                    callbacks=[early_stopping])\n",
        "\n",
        "# Evaluate the model on the test set\n",
        "test_loss, test_acc = model.evaluate(X_test_padded, y_test, verbose=2)\n",
        "print(f'\\nTest accuracy: {test_acc}')\n",
        "\n",
        "# Predict the labels for the test set\n",
        "y_pred = model.predict(X_test_padded)\n",
        "y_pred_classes = (y_pred > 0.5).astype(\"int32\")\n",
        "\n",
        "# Generate the confusion matrix\n",
        "cm = confusion_matrix(y_test, y_pred_classes)\n",
        "\n",
        "# Visualize the confusion matrix\n",
        "plt.figure(figsize=(8, 6))\n",
        "sns.heatmap(cm, annot=True, fmt='d', cmap='Blues', xticklabels=['Class 0', 'Class 1'], yticklabels=['Class 0', 'Class 1'])\n",
        "plt.xlabel('Predicted')\n",
        "plt.ylabel('True')\n",
        "plt.title('Confusion Matrix')\n",
        "plt.show()\n",
        "\n",
        "# Print classification report\n",
        "print(classification_report(y_test, y_pred_classes, target_names=['Class 0', 'Class 1']))\n"
      ],
      "metadata": {
        "colab": {
          "base_uri": "https://localhost:8080/",
          "height": 981
        },
        "id": "pS15vSJpyS4P",
        "outputId": "be9a377b-c875-4fd6-dc53-4a0bc014ba64"
      },
      "execution_count": 13,
      "outputs": [
        {
          "output_type": "stream",
          "name": "stdout",
          "text": [
            "Epoch 1/5\n",
            "273/273 [==============================] - 46s 140ms/step - loss: 0.6124 - accuracy: 0.6927 - val_loss: 0.5518 - val_accuracy: 0.7975\n",
            "Epoch 2/5\n",
            "273/273 [==============================] - 18s 64ms/step - loss: 0.4175 - accuracy: 0.8344 - val_loss: 0.3578 - val_accuracy: 0.8526\n",
            "Epoch 3/5\n",
            "273/273 [==============================] - 16s 58ms/step - loss: 0.2859 - accuracy: 0.8816 - val_loss: 0.4582 - val_accuracy: 0.8106\n",
            "Epoch 4/5\n",
            "273/273 [==============================] - 15s 53ms/step - loss: 0.1853 - accuracy: 0.9177 - val_loss: 0.5563 - val_accuracy: 0.7782\n",
            "Epoch 5/5\n",
            "273/273 [==============================] - 14s 51ms/step - loss: 0.1235 - accuracy: 0.9431 - val_loss: 0.6424 - val_accuracy: 0.7904\n",
            "137/137 - 2s - loss: 0.6424 - accuracy: 0.7904 - 2s/epoch - 13ms/step\n",
            "\n",
            "Test accuracy: 0.7904040217399597\n",
            "137/137 [==============================] - 3s 12ms/step\n"
          ]
        },
        {
          "output_type": "display_data",
          "data": {
            "text/plain": [
              "<Figure size 800x600 with 2 Axes>"
            ],
            "image/png": "[encoded data removed]"
          },
          "metadata": {}
        },
        {
          "output_type": "stream",
          "name": "stdout",
          "text": [
            "              precision    recall  f1-score   support\n",
            "\n",
            "     Class 0       0.93      0.82      0.87      3826\n",
            "     Class 1       0.31      0.57      0.40       530\n",
            "\n",
            "    accuracy                           0.79      4356\n",
            "   macro avg       0.62      0.69      0.63      4356\n",
            "weighted avg       0.86      0.79      0.82      4356\n",
            "\n"
          ]
        }
      ]
    },
    {
      "cell_type": "markdown",
      "source": [
        "The recall is again decreased , so the model is not performing well compare to embedding layer of 200"
      ],
      "metadata": {
        "id": "8VD1MCPU8vxT"
      }
    },
    {
      "cell_type": "markdown",
      "metadata": {
        "id": "g4q_QyGaw_zy"
      },
      "source": [
        "# **CNN with BLSTM**"
      ]
    },
    {
      "cell_type": "code",
      "execution_count": 15,
      "metadata": {
        "colab": {
          "base_uri": "https://localhost:8080/",
          "height": 981
        },
        "id": "SzWcsKZiIqml",
        "outputId": "d0d030f0-f25c-470b-b50b-03aed28d71ad"
      },
      "outputs": [
        {
          "output_type": "stream",
          "name": "stdout",
          "text": [
            "Epoch 1/5\n",
            "273/273 [==============================] - 38s 115ms/step - loss: 0.5907 - accuracy: 0.7258 - val_loss: 0.4670 - val_accuracy: 0.7938\n",
            "Epoch 2/5\n",
            "273/273 [==============================] - 18s 67ms/step - loss: 0.4199 - accuracy: 0.8368 - val_loss: 0.6086 - val_accuracy: 0.7371\n",
            "Epoch 3/5\n",
            "273/273 [==============================] - 16s 59ms/step - loss: 0.2854 - accuracy: 0.8781 - val_loss: 0.4149 - val_accuracy: 0.8228\n",
            "Epoch 4/5\n",
            "273/273 [==============================] - 15s 56ms/step - loss: 0.1885 - accuracy: 0.9276 - val_loss: 0.6548 - val_accuracy: 0.7888\n",
            "Epoch 5/5\n",
            "273/273 [==============================] - 15s 55ms/step - loss: 0.1164 - accuracy: 0.9579 - val_loss: 0.5968 - val_accuracy: 0.8191\n",
            "137/137 - 2s - loss: 0.5968 - accuracy: 0.8191 - 2s/epoch - 12ms/step\n",
            "\n",
            "Test accuracy: 0.8191000819206238\n",
            "137/137 [==============================] - 3s 11ms/step\n"
          ]
        },
        {
          "output_type": "display_data",
          "data": {
            "text/plain": [
              "<Figure size 800x600 with 2 Axes>"
            ],
            "image/png": "[encoded data removed]"
          },
          "metadata": {}
        },
        {
          "output_type": "stream",
          "name": "stdout",
          "text": [
            "              precision    recall  f1-score   support\n",
            "\n",
            "     Class 0       0.93      0.86      0.89      3869\n",
            "     Class 1       0.31      0.51      0.38       487\n",
            "\n",
            "    accuracy                           0.82      4356\n",
            "   macro avg       0.62      0.68      0.64      4356\n",
            "weighted avg       0.86      0.82      0.84      4356\n",
            "\n"
          ]
        }
      ],
      "source": [
        "import numpy as np\n",
        "from keras.preprocessing.text import Tokenizer\n",
        "from keras.preprocessing.sequence import pad_sequences\n",
        "from keras.models import Sequential\n",
        "from keras.layers import Embedding, Conv1D, MaxPooling1D, Bidirectional, LSTM, Dense, Dropout\n",
        "from keras.callbacks import EarlyStopping\n",
        "from sklearn.model_selection import train_test_split\n",
        "from sklearn.utils.class_weight import compute_class_weight\n",
        "from sklearn.metrics import confusion_matrix, classification_report\n",
        "import matplotlib.pyplot as plt\n",
        "import seaborn as sns\n",
        "\n",
        "# Assuming X and y are your dataset features and labels\n",
        "# Split the dataset\n",
        "X_train, X_test, y_train, y_test = train_test_split(X, y, test_size=0.2, random_state=42)\n",
        "top_words = 10000\n",
        "max_review_length = 200\n",
        "\n",
        "# Tokenization\n",
        "tokenizer = Tokenizer(num_words=top_words)\n",
        "tokenizer.fit_on_texts(X_train)\n",
        "\n",
        "# Convert text to sequences\n",
        "X_train_sequences = tokenizer.texts_to_sequences(X_train)\n",
        "X_test_sequences = tokenizer.texts_to_sequences(X_test)\n",
        "\n",
        "# Padding\n",
        "X_train_padded = pad_sequences(X_train_sequences, maxlen=max_review_length)\n",
        "X_test_padded = pad_sequences(X_test_sequences, maxlen=max_review_length)\n",
        "\n",
        "# Compute class weights\n",
        "class_weights = compute_class_weight('balanced', classes=np.unique(y_train), y=y_train)\n",
        "class_weights_dict = dict(enumerate(class_weights))\n",
        "\n",
        "# Define the model\n",
        "embedding_vector_length = 100  # Increase embedding dimension\n",
        "model = Sequential()\n",
        "\n",
        "# Embedding layer\n",
        "model.add(Embedding(input_dim=top_words, output_dim=embedding_vector_length, input_length=max_review_length))\n",
        "\n",
        "# CNN layer\n",
        "model.add(Conv1D(filters=512, kernel_size=5, activation='relu'))\n",
        "model.add(MaxPooling1D(pool_size=2))\n",
        "model.add(Dropout(0.5))  # Add Dropout for regularization\n",
        "\n",
        "# Bidirectional LSTM layer\n",
        "model.add(Bidirectional(LSTM(units=256, return_sequences=True)))\n",
        "\n",
        "# Another LSTM layer\n",
        "model.add(Bidirectional(LSTM(units=128)))\n",
        "\n",
        "# Dense layer\n",
        "model.add(Dense(64, activation='relu'))\n",
        "model.add(Dropout(0.5))  # Add Dropout for regularization\n",
        "model.add(Dense(1, activation='sigmoid'))\n",
        "\n",
        "# Compile the model\n",
        "model.compile(loss='binary_crossentropy', optimizer='adam', metrics=['accuracy'])\n",
        "\n",
        "# Define early stopping callback\n",
        "early_stopping = EarlyStopping(monitor='val_loss', patience=5, restore_best_weights=True)\n",
        "\n",
        "# Train the model with early stopping and class weights\n",
        "history = model.fit(X_train_padded, y_train, epochs=5, batch_size=64,\n",
        "                    validation_data=(X_test_padded, y_test),\n",
        "                    class_weight=class_weights_dict,\n",
        "                    callbacks=[early_stopping])\n",
        "\n",
        "# Evaluate the model on the test set\n",
        "test_loss, test_acc = model.evaluate(X_test_padded, y_test, verbose=2)\n",
        "print(f'\\nTest accuracy: {test_acc}')\n",
        "\n",
        "# Predict the labels for the test set\n",
        "y_pred = model.predict(X_test_padded)\n",
        "y_pred_classes = (y_pred > 0.5).astype(\"int32\")\n",
        "\n",
        "# Generate the confusion matrix\n",
        "cm = confusion_matrix(y_test, y_pred_classes)\n",
        "\n",
        "# Visualize the confusion matrix\n",
        "plt.figure(figsize=(8, 6))\n",
        "sns.heatmap(cm, annot=True, fmt='d', cmap='Blues', xticklabels=['Class 0', 'Class 1'], yticklabels=['Class 0', 'Class 1'])\n",
        "plt.xlabel('Predicted')\n",
        "plt.ylabel('True')\n",
        "plt.title('Confusion Matrix')\n",
        "plt.show()\n",
        "\n",
        "# Print classification report\n",
        "print(classification_report(y_test, y_pred_classes, target_names=['Class 0', 'Class 1']))\n"
      ]
    },
    {
      "cell_type": "code",
      "source": [
        "from sklearn.metrics import confusion_matrix, classification_report, accuracy_score, recall_score, precision_score, f1_score, roc_auc_score, roc_curve, auc\n",
        "# Calculate and print additional metrics\n",
        "accuracy = accuracy_score(y_test, y_pred_classes)\n",
        "recall = recall_score(y_test, y_pred_classes)\n",
        "precision = precision_score(y_test, y_pred_classes)\n",
        "f1 = f1_score(y_test, y_pred_classes)\n",
        "roc_auc = roc_auc_score(y_test, y_pred)\n",
        "\n",
        "print(f'Accuracy: {accuracy}')\n",
        "print(f'Recall: {recall}')\n",
        "print(f'Precision: {precision}')\n",
        "print(f'F1 Score: {f1}')\n",
        "print(f'ROC AUC Score: {roc_auc}')"
      ],
      "metadata": {
        "colab": {
          "base_uri": "https://localhost:8080/"
        },
        "id": "m2yiE2rwdHwn",
        "outputId": "93b84686-3465-4732-965d-a53212a239d8"
      },
      "execution_count": null,
      "outputs": [
        {
          "output_type": "stream",
          "name": "stdout",
          "text": [
            "Accuracy: 0.8000459136822773\n",
            "Recall: 0.5708418891170431\n",
            "Precision: 0.2957446808510638\n",
            "F1 Score: 0.38962859145059564\n",
            "ROC AUC Score: 0.7664349329663523\n"
          ]
        }
      ]
    },
    {
      "cell_type": "markdown",
      "source": [
        "I tried changing the embedding layer and dropouts value but it is not increasing the recall much"
      ],
      "metadata": {
        "id": "8c34XA0l_hRm"
      }
    },
    {
      "cell_type": "code",
      "source": [
        "import numpy as np\n",
        "from keras.preprocessing.text import Tokenizer\n",
        "from keras.preprocessing.sequence import pad_sequences\n",
        "from keras.models import Sequential\n",
        "from keras.layers import Embedding, Conv1D, MaxPooling1D, Bidirectional, LSTM, Dense, Dropout\n",
        "from keras.callbacks import EarlyStopping\n",
        "from sklearn.model_selection import train_test_split\n",
        "from sklearn.utils.class_weight import compute_class_weight\n",
        "from sklearn.metrics import confusion_matrix, classification_report\n",
        "import matplotlib.pyplot as plt\n",
        "import seaborn as sns\n",
        "\n",
        "# Assuming X and y are your dataset features and labels\n",
        "# Split the dataset\n",
        "X_train, X_test, y_train, y_test = train_test_split(X, y, test_size=0.2, random_state=42)\n",
        "top_words = 10000\n",
        "max_review_length = 200\n",
        "\n",
        "# Tokenization\n",
        "tokenizer = Tokenizer(num_words=top_words)\n",
        "tokenizer.fit_on_texts(X_train)\n",
        "\n",
        "# Convert text to sequences\n",
        "X_train_sequences = tokenizer.texts_to_sequences(X_train)\n",
        "X_test_sequences = tokenizer.texts_to_sequences(X_test)\n",
        "\n",
        "# Padding\n",
        "X_train_padded = pad_sequences(X_train_sequences, maxlen=max_review_length)\n",
        "X_test_padded = pad_sequences(X_test_sequences, maxlen=max_review_length)\n",
        "\n",
        "# Compute class weights\n",
        "class_weights = compute_class_weight('balanced', classes=np.unique(y_train), y=y_train)\n",
        "class_weights_dict = dict(enumerate(class_weights))\n",
        "\n",
        "# Define the model\n",
        "embedding_vector_length = 180  # Increase embedding dimension\n",
        "model = Sequential()\n",
        "\n",
        "# Embedding layer\n",
        "model.add(Embedding(input_dim=top_words, output_dim=embedding_vector_length, input_length=max_review_length))\n",
        "\n",
        "# CNN layer\n",
        "model.add(Conv1D(filters=512, kernel_size=5, activation='relu'))\n",
        "model.add(MaxPooling1D(pool_size=2))\n",
        "model.add(Dropout(0.5))  # Add Dropout for regularization\n",
        "\n",
        "# Bidirectional LSTM layer\n",
        "model.add(Bidirectional(LSTM(units=256, return_sequences=True)))\n",
        "model.add(Dropout(0.4))\n",
        "# Another LSTM layer\n",
        "model.add(Bidirectional(LSTM(units=128)))\n",
        "model.add(Dropout(0.3))\n",
        "# Dense layer\n",
        "model.add(Dense(64, activation='relu'))\n",
        "model.add(Dropout(0.2))  # Add Dropout for regularization\n",
        "model.add(Dense(1, activation='sigmoid'))\n",
        "\n",
        "# Compile the model\n",
        "model.compile(loss='binary_crossentropy', optimizer='adam', metrics=['accuracy'])\n",
        "\n",
        "# Define early stopping callback\n",
        "early_stopping = EarlyStopping(monitor='val_loss', patience=5, restore_best_weights=True)\n",
        "\n",
        "# Train the model with early stopping and class weights\n",
        "history = model.fit(X_train_padded, y_train, epochs=5, batch_size=64,\n",
        "                    validation_data=(X_test_padded, y_test),\n",
        "                    class_weight=class_weights_dict,\n",
        "                    callbacks=[early_stopping])\n",
        "\n",
        "# Evaluate the model on the test set\n",
        "test_loss, test_acc = model.evaluate(X_test_padded, y_test, verbose=2)\n",
        "print(f'\\nTest accuracy: {test_acc}')\n",
        "\n",
        "# Predict the labels for the test set\n",
        "y_pred = model.predict(X_test_padded)\n",
        "y_pred_classes = (y_pred > 0.5).astype(\"int32\")\n",
        "\n",
        "# Generate the confusion matrix\n",
        "cm = confusion_matrix(y_test, y_pred_classes)\n",
        "\n",
        "# Visualize the confusion matrix\n",
        "plt.figure(figsize=(8, 6))\n",
        "sns.heatmap(cm, annot=True, fmt='d', cmap='Blues', xticklabels=['Class 0', 'Class 1'], yticklabels=['Class 0', 'Class 1'])\n",
        "plt.xlabel('Predicted')\n",
        "plt.ylabel('True')\n",
        "plt.title('Confusion Matrix')\n",
        "plt.show()\n",
        "\n",
        "# Print classification report\n",
        "print(classification_report(y_test, y_pred_classes, target_names=['Class 0', 'Class 1']))\n"
      ],
      "metadata": {
        "colab": {
          "base_uri": "https://localhost:8080/",
          "height": 981
        },
        "id": "gbKJyWvB1ltJ",
        "outputId": "5a4a58a4-4093-416e-93f1-1a212e5d5c3b"
      },
      "execution_count": 21,
      "outputs": [
        {
          "output_type": "stream",
          "name": "stdout",
          "text": [
            "Epoch 1/5\n",
            "273/273 [==============================] - 46s 141ms/step - loss: 0.6040 - accuracy: 0.7052 - val_loss: 0.6978 - val_accuracy: 0.7523\n",
            "Epoch 2/5\n",
            "273/273 [==============================] - 23s 84ms/step - loss: 0.4542 - accuracy: 0.8258 - val_loss: 0.6781 - val_accuracy: 0.6834\n",
            "Epoch 3/5\n",
            "273/273 [==============================] - 19s 68ms/step - loss: 0.3134 - accuracy: 0.8851 - val_loss: 0.5110 - val_accuracy: 0.8014\n",
            "Epoch 4/5\n",
            "273/273 [==============================] - 18s 66ms/step - loss: 0.1932 - accuracy: 0.9234 - val_loss: 0.4722 - val_accuracy: 0.8315\n",
            "Epoch 5/5\n",
            "273/273 [==============================] - 17s 61ms/step - loss: 0.1309 - accuracy: 0.9447 - val_loss: 0.6571 - val_accuracy: 0.8287\n",
            "137/137 - 2s - loss: 0.6571 - accuracy: 0.8287 - 2s/epoch - 13ms/step\n",
            "\n",
            "Test accuracy: 0.8287419676780701\n",
            "137/137 [==============================] - 5s 12ms/step\n"
          ]
        },
        {
          "output_type": "display_data",
          "data": {
            "text/plain": [
              "<Figure size 800x600 with 2 Axes>"
            ],
            "image/png": "[encoded data removed]"
          },
          "metadata": {}
        },
        {
          "output_type": "stream",
          "name": "stdout",
          "text": [
            "              precision    recall  f1-score   support\n",
            "\n",
            "     Class 0       0.94      0.87      0.90      3869\n",
            "     Class 1       0.34      0.54      0.41       487\n",
            "\n",
            "    accuracy                           0.83      4356\n",
            "   macro avg       0.64      0.70      0.66      4356\n",
            "weighted avg       0.87      0.83      0.85      4356\n",
            "\n"
          ]
        }
      ]
    }
  ],
  "metadata": {
    "accelerator": "GPU",
    "colab": {
      "gpuType": "T4",
      "provenance": []
    },
    "kernelspec": {
      "display_name": "Python 3 (ipykernel)",
      "language": "python",
      "name": "python3"
    },
    "language_info": {
      "codemirror_mode": {
        "name": "ipython",
        "version": 3
      },
      "file_extension": ".py",
      "mimetype": "text/x-python",
      "name": "python",
      "nbconvert_exporter": "python",
      "pygments_lexer": "ipython3",
      "version": "3.9.12"
    }
  },
  "nbformat": 4,
  "nbformat_minor": 0
}