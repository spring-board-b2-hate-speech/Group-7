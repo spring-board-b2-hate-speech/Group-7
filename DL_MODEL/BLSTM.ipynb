{
  "nbformat": 4,
  "nbformat_minor": 0,
  "metadata": {
    "colab": {
      "provenance": [],
      "gpuType": "T4"
    },
    "kernelspec": {
      "name": "python3",
      "display_name": "Python 3"
    },
    "language_info": {
      "name": "python"
    },
    "accelerator": "GPU"
  },
  "cells": [
    {
      "cell_type": "code",
      "execution_count": null,
      "metadata": {
        "id": "syek6SP7Cpu3"
      },
      "outputs": [],
      "source": [
        "import pandas as pd\n",
        "import numpy as np\n",
        "from tqdm import tqdm\n",
        "from transformers import BertTokenizer, BertModel\n",
        "import torch\n",
        "\n",
        "# Load the CSV file into a pandas DataFrame\n",
        "df = pd.read_csv(\"/content/cleaned_ghc_train.csv\")\n"
      ]
    },
    {
      "cell_type": "code",
      "source": [
        "from sklearn.model_selection import train_test_split\n",
        "from sklearn.preprocessing import LabelEncoder\n",
        "from sklearn.feature_extraction.text import TfidfVectorizer\n",
        "\n",
        "df['text'] = df['text'].fillna('')"
      ],
      "metadata": {
        "id": "mLPaZyjVC7SI"
      },
      "execution_count": null,
      "outputs": []
    },
    {
      "cell_type": "code",
      "source": [
        "y = df['label']\n",
        "X=df['text']"
      ],
      "metadata": {
        "id": "3AcC50rqC7Vr"
      },
      "execution_count": null,
      "outputs": []
    },
    {
      "cell_type": "markdown",
      "source": [
        "# **Bidirectional LSTM**"
      ],
      "metadata": {
        "id": "UPOMq_3-w3yn"
      }
    },
    {
      "cell_type": "code",
      "source": [
        "import numpy as np\n",
        "from keras.preprocessing.text import Tokenizer\n",
        "from keras.preprocessing.sequence import pad_sequences\n",
        "from keras.models import Sequential\n",
        "from keras.layers import Embedding, Bidirectional, LSTM, Dense, Dropout\n",
        "from keras.callbacks import EarlyStopping\n",
        "from sklearn.model_selection import train_test_split\n",
        "from sklearn.utils.class_weight import compute_class_weight\n",
        "from sklearn.metrics import confusion_matrix, classification_report\n",
        "import matplotlib.pyplot as plt\n",
        "import seaborn as sns\n",
        "\n",
        "# Assuming X and y are your dataset features and labels\n",
        "# Split the dataset\n",
        "X_train, X_test, y_train, y_test = train_test_split(X, y, test_size=0.2, random_state=42)\n",
        "top_words = 10000\n",
        "max_review_length = 600\n",
        "\n",
        "# Tokenization\n",
        "tokenizer = Tokenizer(num_words=top_words)\n",
        "tokenizer.fit_on_texts(X_train)\n",
        "\n",
        "# Convert text to sequences\n",
        "X_train_sequences = tokenizer.texts_to_sequences(X_train)\n",
        "X_test_sequences = tokenizer.texts_to_sequences(X_test)\n",
        "\n",
        "# Padding\n",
        "X_train_padded = pad_sequences(X_train_sequences, maxlen=max_review_length)\n",
        "X_test_padded = pad_sequences(X_test_sequences, maxlen=max_review_length)\n",
        "\n",
        "# Compute class weights\n",
        "class_weights = compute_class_weight('balanced', classes=np.unique(y_train), y=y_train)\n",
        "class_weights_dict = dict(enumerate(class_weights))\n",
        "embedding_vector_length = 100  # Increase embedding dimension\n",
        "# Define the model\n",
        "model = Sequential()\n",
        "\n",
        "# Embedding layer\n",
        "model.add(Embedding(input_dim=top_words, output_dim=embedding_vector_length, input_length=max_review_length))\n",
        "\n",
        "# Add Dropout for regularization\n",
        "model.add(Dropout(0.5))\n",
        "\n",
        "# Bidirectional LSTM layer\n",
        "model.add(Bidirectional(LSTM(units=128, return_sequences=True)))\n",
        "model.add(Dropout(0.5))  # Add Dropout for regularization\n",
        "\n",
        "# Another LSTM layer\n",
        "model.add(Bidirectional(LSTM(units=64)))\n",
        "model.add(Dropout(0.5))  # Add Dropout for regularization\n",
        "\n",
        "# Dense layer\n",
        "model.add(Dense(64, activation='relu'))\n",
        "model.add(Dropout(0.5))  # Add Dropout for regularization\n",
        "model.add(Dense(1, activation='sigmoid'))\n",
        "\n",
        "# Compile the model\n",
        "model.compile(loss='binary_crossentropy', optimizer='adam', metrics=['accuracy'])\n",
        "\n",
        "# Define early stopping callback\n",
        "early_stopping = EarlyStopping(monitor='val_loss', patience=5, restore_best_weights=True)\n",
        "\n",
        "# Train the model with early stopping and class weights\n",
        "history = model.fit(X_train_padded, y_train, epochs=5, batch_size=64,\n",
        "                    validation_data=(X_test_padded, y_test),\n",
        "                    class_weight=class_weights_dict,\n",
        "                    callbacks=[early_stopping])\n",
        "\n",
        "# Evaluate the model on the test set\n",
        "test_loss, test_acc = model.evaluate(X_test_padded, y_test, verbose=2)\n",
        "print(f'\\nTest accuracy: {test_acc}')\n",
        "\n",
        "# Predict the labels for the test set\n",
        "y_pred = model.predict(X_test_padded)\n",
        "y_pred_classes = (y_pred > 0.5).astype(\"int32\")\n",
        "\n",
        "# Generate the confusion matrix\n",
        "cm = confusion_matrix(y_test, y_pred_classes)\n",
        "\n",
        "# Visualize the confusion matrix\n",
        "plt.figure(figsize=(8, 6))\n",
        "sns.heatmap(cm, annot=True, fmt='d', cmap='Blues', xticklabels=['Class 0', 'Class 1'], yticklabels=['Class 0', 'Class 1'])\n",
        "plt.xlabel('Predicted')\n",
        "plt.ylabel('True')\n",
        "plt.title('Confusion Matrix')\n",
        "plt.show()\n",
        "\n",
        "# Print classification report\n",
        "print(classification_report(y_test, y_pred_classes, target_names=['Class 0', 'Class 1']))\n"
      ],
      "metadata": {
        "colab": {
          "base_uri": "https://localhost:8080/",
          "height": 981
        },
        "id": "IVtDNkCjC7Yi",
        "outputId": "01c3e51a-91c0-4576-e11b-767c92c58e41"
      },
      "execution_count": null,
      "outputs": [
        {
          "output_type": "stream",
          "name": "stdout",
          "text": [
            "Epoch 1/5\n",
            "273/273 [==============================] - 64s 205ms/step - loss: 0.6324 - accuracy: 0.6630 - val_loss: 0.6069 - val_accuracy: 0.7792\n",
            "Epoch 2/5\n",
            "273/273 [==============================] - 34s 125ms/step - loss: 0.4604 - accuracy: 0.8308 - val_loss: 0.4670 - val_accuracy: 0.8083\n",
            "Epoch 3/5\n",
            "273/273 [==============================] - 30s 110ms/step - loss: 0.3664 - accuracy: 0.8608 - val_loss: 0.4174 - val_accuracy: 0.8352\n",
            "Epoch 4/5\n",
            "273/273 [==============================] - 29s 108ms/step - loss: 0.2891 - accuracy: 0.8928 - val_loss: 0.4255 - val_accuracy: 0.8237\n",
            "Epoch 5/5\n",
            "273/273 [==============================] - 30s 108ms/step - loss: 0.2293 - accuracy: 0.9088 - val_loss: 0.4495 - val_accuracy: 0.8225\n",
            "137/137 - 5s - loss: 0.4495 - accuracy: 0.8225 - 5s/epoch - 34ms/step\n",
            "\n",
            "Test accuracy: 0.8225436210632324\n",
            "137/137 [==============================] - 5s 28ms/step\n"
          ]
        },
        {
          "output_type": "display_data",
          "data": {
            "text/plain": [
              "<Figure size 800x600 with 2 Axes>"
            ],
            "image/png": "[encoded data removed]"
          },
          "metadata": {}
        },
        {
          "output_type": "stream",
          "name": "stdout",
          "text": [
            "              precision    recall  f1-score   support\n",
            "\n",
            "     Class 0       0.94      0.86      0.90      3869\n",
            "     Class 1       0.33      0.56      0.41       487\n",
            "\n",
            "    accuracy                           0.82      4356\n",
            "   macro avg       0.63      0.71      0.65      4356\n",
            "weighted avg       0.87      0.82      0.84      4356\n",
            "\n"
          ]
        }
      ]
    },
    {
      "cell_type": "markdown",
      "source": [
        "# **CNN with BLSTM**"
      ],
      "metadata": {
        "id": "g4q_QyGaw_zy"
      }
    },
    {
      "cell_type": "code",
      "source": [
        "import numpy as np\n",
        "from keras.preprocessing.text import Tokenizer\n",
        "from keras.preprocessing.sequence import pad_sequences\n",
        "from keras.models import Sequential\n",
        "from keras.layers import Embedding, Conv1D, MaxPooling1D, Bidirectional, LSTM, Dense, Dropout\n",
        "from keras.callbacks import EarlyStopping\n",
        "from sklearn.model_selection import train_test_split\n",
        "from sklearn.utils.class_weight import compute_class_weight\n",
        "from sklearn.metrics import confusion_matrix, classification_report\n",
        "import matplotlib.pyplot as plt\n",
        "import seaborn as sns\n",
        "\n",
        "# Assuming X and y are your dataset features and labels\n",
        "# Split the dataset\n",
        "X_train, X_test, y_train, y_test = train_test_split(X, y, test_size=0.2, random_state=42)\n",
        "top_words = 10000\n",
        "max_review_length = 600\n",
        "\n",
        "# Tokenization\n",
        "tokenizer = Tokenizer(num_words=top_words)\n",
        "tokenizer.fit_on_texts(X_train)\n",
        "\n",
        "# Convert text to sequences\n",
        "X_train_sequences = tokenizer.texts_to_sequences(X_train)\n",
        "X_test_sequences = tokenizer.texts_to_sequences(X_test)\n",
        "\n",
        "# Padding\n",
        "X_train_padded = pad_sequences(X_train_sequences, maxlen=max_review_length)\n",
        "X_test_padded = pad_sequences(X_test_sequences, maxlen=max_review_length)\n",
        "\n",
        "# Compute class weights\n",
        "class_weights = compute_class_weight('balanced', classes=np.unique(y_train), y=y_train)\n",
        "class_weights_dict = dict(enumerate(class_weights))\n",
        "embedding_vector_length = 100  # Increase embedding dimension\n",
        "\n",
        "# Define the model\n",
        "model = Sequential()\n",
        "\n",
        "# Embedding layer\n",
        "model.add(Embedding(input_dim=top_words, output_dim=embedding_vector_length, input_length=max_review_length))\n",
        "\n",
        "# CNN layer\n",
        "model.add(Conv1D(filters=128, kernel_size=5, activation='relu'))\n",
        "model.add(MaxPooling1D(pool_size=2))\n",
        "model.add(Dropout(0.5))  # Add Dropout for regularization\n",
        "\n",
        "# Bidirectional LSTM layer\n",
        "model.add(Bidirectional(LSTM(units=128, return_sequences=True)))\n",
        "model.add(Dropout(0.5))  # Add Dropout for regularization\n",
        "\n",
        "# Another LSTM layer\n",
        "model.add(Bidirectional(LSTM(units=64)))\n",
        "model.add(Dropout(0.5))  # Add Dropout for regularization\n",
        "\n",
        "# Dense layer\n",
        "model.add(Dense(64, activation='relu'))\n",
        "model.add(Dropout(0.5))  # Add Dropout for regularization\n",
        "model.add(Dense(1, activation='sigmoid'))\n",
        "\n",
        "# Compile the model\n",
        "model.compile(loss='binary_crossentropy', optimizer='adam', metrics=['accuracy'])\n",
        "\n",
        "# Define early stopping callback\n",
        "early_stopping = EarlyStopping(monitor='val_loss', patience=5, restore_best_weights=True)\n",
        "\n",
        "# Train the model with early stopping and class weights\n",
        "history = model.fit(X_train_padded, y_train, epochs=5, batch_size=64,\n",
        "                    validation_data=(X_test_padded, y_test),\n",
        "                    class_weight=class_weights_dict,\n",
        "                    callbacks=[early_stopping])\n",
        "\n",
        "# Evaluate the model on the test set\n",
        "test_loss, test_acc = model.evaluate(X_test_padded, y_test, verbose=2)\n",
        "print(f'\\nTest accuracy: {test_acc}')\n",
        "\n",
        "# Predict the labels for the test set\n",
        "y_pred = model.predict(X_test_padded)\n",
        "y_pred_classes = (y_pred > 0.5).astype(\"int32\")\n",
        "\n",
        "# Generate the confusion matrix\n",
        "cm = confusion_matrix(y_test, y_pred_classes)\n",
        "\n",
        "# Visualize the confusion matrix\n",
        "plt.figure(figsize=(8, 6))\n",
        "sns.heatmap(cm, annot=True, fmt='d', cmap='Blues', xticklabels=['Class 0', 'Class 1'], yticklabels=['Class 0', 'Class 1'])\n",
        "plt.xlabel('Predicted')\n",
        "plt.ylabel('True')\n",
        "plt.title('Confusion Matrix')\n",
        "plt.show()\n",
        "\n",
        "# Print classification report\n",
        "print(classification_report(y_test, y_pred_classes, target_names=['Class 0', 'Class 1']))\n"
      ],
      "metadata": {
        "colab": {
          "base_uri": "https://localhost:8080/",
          "height": 981
        },
        "id": "SzWcsKZiIqml",
        "outputId": "9bd4e284-c630-48bd-d553-68750d3cc462"
      },
      "execution_count": null,
      "outputs": [
        {
          "output_type": "stream",
          "name": "stdout",
          "text": [
            "Epoch 1/5\n",
            "273/273 [==============================] - 42s 121ms/step - loss: 0.6072 - accuracy: 0.6921 - val_loss: 0.4356 - val_accuracy: 0.8414\n",
            "Epoch 2/5\n",
            "273/273 [==============================] - 23s 83ms/step - loss: 0.4282 - accuracy: 0.8393 - val_loss: 0.5227 - val_accuracy: 0.7759\n",
            "Epoch 3/5\n",
            "273/273 [==============================] - 21s 77ms/step - loss: 0.2891 - accuracy: 0.8824 - val_loss: 0.4645 - val_accuracy: 0.8205\n",
            "Epoch 4/5\n",
            "273/273 [==============================] - 20s 74ms/step - loss: 0.1830 - accuracy: 0.9215 - val_loss: 0.5761 - val_accuracy: 0.7736\n",
            "Epoch 5/5\n",
            "273/273 [==============================] - 20s 71ms/step - loss: 0.1340 - accuracy: 0.9442 - val_loss: 0.6574 - val_accuracy: 0.7957\n",
            "137/137 - 2s - loss: 0.6574 - accuracy: 0.7957 - 2s/epoch - 17ms/step\n",
            "\n",
            "Test accuracy: 0.7956840991973877\n",
            "137/137 [==============================] - 3s 16ms/step\n"
          ]
        },
        {
          "output_type": "display_data",
          "data": {
            "text/plain": [
              "<Figure size 800x600 with 2 Axes>"
            ],
            "image/png": "[encoded data removed]"
          },
          "metadata": {}
        },
        {
          "output_type": "stream",
          "name": "stdout",
          "text": [
            "              precision    recall  f1-score   support\n",
            "\n",
            "     Class 0       0.94      0.82      0.88      3869\n",
            "     Class 1       0.29      0.57      0.39       487\n",
            "\n",
            "    accuracy                           0.80      4356\n",
            "   macro avg       0.61      0.70      0.63      4356\n",
            "weighted avg       0.87      0.80      0.82      4356\n",
            "\n"
          ]
        }
      ]
    }
  ]
}