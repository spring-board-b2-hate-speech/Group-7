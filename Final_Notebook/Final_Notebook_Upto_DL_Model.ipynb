{
 "cells": [
  {
   "cell_type": "markdown",
   "metadata": {},
   "source": [
    "# Hate Speech Detection in Telegram\n"
   ]
  },
  {
   "cell_type": "code",
   "execution_count": 1,
   "metadata": {},
   "outputs": [],
   "source": [
    "#Basic Python package\n",
    "import pandas as pd\n",
    "import numpy as np\n",
    "import seaborn as sns\n",
    "import matplotlib.pyplot as plt\n",
    "import string \n",
    "import re"
   ]
  },
  {
   "cell_type": "code",
   "execution_count": 2,
   "metadata": {},
   "outputs": [],
   "source": [
    "# Load the TSV files\n",
    "train_file_path = r'C:\\Users\\BHARGAVI\\Downloads\\project_data\\ghc_train.tsv'\n",
    "test_file_path = r'C:\\Users\\BHARGAVI\\Downloads\\project_data\\ghc_test.tsv'\n",
    "train_df = pd.read_csv(train_file_path, sep='\\t')\n",
    "test_df = pd.read_csv(test_file_path, sep='\\t')\n"
   ]
  },
  {
   "cell_type": "markdown",
   "metadata": {},
   "source": [
    "# Data Cleaning"
   ]
  },
  {
   "cell_type": "code",
   "execution_count": 3,
   "metadata": {},
   "outputs": [
    {
     "data": {
      "text/plain": [
       "Index(['text', 'hd', 'cv', 'vo'], dtype='object')"
      ]
     },
     "execution_count": 3,
     "metadata": {},
     "output_type": "execute_result"
    }
   ],
   "source": [
    "#To know are the columns in our dataset\n",
    "# Columns: Assault on Human Dignity (hd), Calls for Violence (cv), Vulgarity/Offensive Language directed at an individual (vo)\n",
    "train_df.columns"
   ]
  },
  {
   "cell_type": "code",
   "execution_count": 4,
   "metadata": {},
   "outputs": [
    {
     "data": {
      "text/html": [
       "<div>\n",
       "<style scoped>\n",
       "    .dataframe tbody tr th:only-of-type {\n",
       "        vertical-align: middle;\n",
       "    }\n",
       "\n",
       "    .dataframe tbody tr th {\n",
       "        vertical-align: top;\n",
       "    }\n",
       "\n",
       "    .dataframe thead th {\n",
       "        text-align: right;\n",
       "    }\n",
       "</style>\n",
       "<table border=\"1\" class=\"dataframe\">\n",
       "  <thead>\n",
       "    <tr style=\"text-align: right;\">\n",
       "      <th></th>\n",
       "      <th>text</th>\n",
       "      <th>hd</th>\n",
       "      <th>cv</th>\n",
       "      <th>vo</th>\n",
       "    </tr>\n",
       "  </thead>\n",
       "  <tbody>\n",
       "    <tr>\n",
       "      <th>0</th>\n",
       "      <td>He most likely converted to islam due to his n...</td>\n",
       "      <td>0</td>\n",
       "      <td>0</td>\n",
       "      <td>0</td>\n",
       "    </tr>\n",
       "    <tr>\n",
       "      <th>1</th>\n",
       "      <td>So Ford lied about being a psychologist. Recor...</td>\n",
       "      <td>0</td>\n",
       "      <td>0</td>\n",
       "      <td>0</td>\n",
       "    </tr>\n",
       "    <tr>\n",
       "      <th>2</th>\n",
       "      <td>Jobs. Education. Ending abuse of Nation. CA43.</td>\n",
       "      <td>0</td>\n",
       "      <td>0</td>\n",
       "      <td>0</td>\n",
       "    </tr>\n",
       "    <tr>\n",
       "      <th>3</th>\n",
       "      <td>I share a lot of your values, &amp; like many who ...</td>\n",
       "      <td>0</td>\n",
       "      <td>0</td>\n",
       "      <td>0</td>\n",
       "    </tr>\n",
       "    <tr>\n",
       "      <th>4</th>\n",
       "      <td>I am so ready to get back to blogging! www.ben...</td>\n",
       "      <td>0</td>\n",
       "      <td>0</td>\n",
       "      <td>0</td>\n",
       "    </tr>\n",
       "    <tr>\n",
       "      <th>5</th>\n",
       "      <td>taking a look at new opportunity called FX Pro...</td>\n",
       "      <td>0</td>\n",
       "      <td>0</td>\n",
       "      <td>0</td>\n",
       "    </tr>\n",
       "    <tr>\n",
       "      <th>6</th>\n",
       "      <td>Reflecting back when I was in school with Spec...</td>\n",
       "      <td>0</td>\n",
       "      <td>0</td>\n",
       "      <td>0</td>\n",
       "    </tr>\n",
       "    <tr>\n",
       "      <th>7</th>\n",
       "      <td>Let's be honest everyone, last year there were...</td>\n",
       "      <td>0</td>\n",
       "      <td>0</td>\n",
       "      <td>0</td>\n",
       "    </tr>\n",
       "    <tr>\n",
       "      <th>8</th>\n",
       "      <td>2007 Nuke plant in Syria</td>\n",
       "      <td>0</td>\n",
       "      <td>0</td>\n",
       "      <td>0</td>\n",
       "    </tr>\n",
       "    <tr>\n",
       "      <th>9</th>\n",
       "      <td>NBC's Chuck Todd Thinks He's Figured It All Ou...</td>\n",
       "      <td>0</td>\n",
       "      <td>0</td>\n",
       "      <td>0</td>\n",
       "    </tr>\n",
       "  </tbody>\n",
       "</table>\n",
       "</div>"
      ],
      "text/plain": [
       "                                                text  hd  cv  vo\n",
       "0  He most likely converted to islam due to his n...   0   0   0\n",
       "1  So Ford lied about being a psychologist. Recor...   0   0   0\n",
       "2     Jobs. Education. Ending abuse of Nation. CA43.   0   0   0\n",
       "3  I share a lot of your values, & like many who ...   0   0   0\n",
       "4  I am so ready to get back to blogging! www.ben...   0   0   0\n",
       "5  taking a look at new opportunity called FX Pro...   0   0   0\n",
       "6  Reflecting back when I was in school with Spec...   0   0   0\n",
       "7  Let's be honest everyone, last year there were...   0   0   0\n",
       "8                          2007 Nuke plant in Syria    0   0   0\n",
       "9  NBC's Chuck Todd Thinks He's Figured It All Ou...   0   0   0"
      ]
     },
     "execution_count": 4,
     "metadata": {},
     "output_type": "execute_result"
    }
   ],
   "source": [
    "#Top 10 rows in our dataset\n",
    "train_df.head(10)\n"
   ]
  },
  {
   "cell_type": "code",
   "execution_count": 5,
   "metadata": {},
   "outputs": [
    {
     "data": {
      "text/html": [
       "<div>\n",
       "<style scoped>\n",
       "    .dataframe tbody tr th:only-of-type {\n",
       "        vertical-align: middle;\n",
       "    }\n",
       "\n",
       "    .dataframe tbody tr th {\n",
       "        vertical-align: top;\n",
       "    }\n",
       "\n",
       "    .dataframe thead th {\n",
       "        text-align: right;\n",
       "    }\n",
       "</style>\n",
       "<table border=\"1\" class=\"dataframe\">\n",
       "  <thead>\n",
       "    <tr style=\"text-align: right;\">\n",
       "      <th></th>\n",
       "      <th>text</th>\n",
       "      <th>hd</th>\n",
       "      <th>cv</th>\n",
       "      <th>vo</th>\n",
       "    </tr>\n",
       "  </thead>\n",
       "  <tbody>\n",
       "    <tr>\n",
       "      <th>22026</th>\n",
       "      <td>What does Gab-Pro give ya?</td>\n",
       "      <td>0</td>\n",
       "      <td>0</td>\n",
       "      <td>0</td>\n",
       "    </tr>\n",
       "    <tr>\n",
       "      <th>22027</th>\n",
       "      <td>#354 TRUMP POLLS VS MEDIA MELTDOWN! | Jordan P...</td>\n",
       "      <td>0</td>\n",
       "      <td>0</td>\n",
       "      <td>0</td>\n",
       "    </tr>\n",
       "    <tr>\n",
       "      <th>22028</th>\n",
       "      <td>The Founders never EVER dealt with a group tha...</td>\n",
       "      <td>0</td>\n",
       "      <td>0</td>\n",
       "      <td>0</td>\n",
       "    </tr>\n",
       "    <tr>\n",
       "      <th>22029</th>\n",
       "      <td>Man [homosexually] molests 15-year-old boy on ...</td>\n",
       "      <td>0</td>\n",
       "      <td>0</td>\n",
       "      <td>0</td>\n",
       "    </tr>\n",
       "    <tr>\n",
       "      <th>22030</th>\n",
       "      <td>So I saw #Skyscraper for you #GabFam. Now I ha...</td>\n",
       "      <td>0</td>\n",
       "      <td>0</td>\n",
       "      <td>0</td>\n",
       "    </tr>\n",
       "    <tr>\n",
       "      <th>22031</th>\n",
       "      <td>I'm a fan of western civilization, and one bed...</td>\n",
       "      <td>0</td>\n",
       "      <td>0</td>\n",
       "      <td>0</td>\n",
       "    </tr>\n",
       "    <tr>\n",
       "      <th>22032</th>\n",
       "      <td>Or ... is she saying that Muslims don't know h...</td>\n",
       "      <td>0</td>\n",
       "      <td>0</td>\n",
       "      <td>0</td>\n",
       "    </tr>\n",
       "    <tr>\n",
       "      <th>22033</th>\n",
       "      <td>Thank you to all my followers that follow me e...</td>\n",
       "      <td>0</td>\n",
       "      <td>0</td>\n",
       "      <td>0</td>\n",
       "    </tr>\n",
       "    <tr>\n",
       "      <th>22034</th>\n",
       "      <td>Wednesday music. https://www.youtube.com/watch...</td>\n",
       "      <td>0</td>\n",
       "      <td>0</td>\n",
       "      <td>0</td>\n",
       "    </tr>\n",
       "    <tr>\n",
       "      <th>22035</th>\n",
       "      <td>This is a really Big Surprise!  https://www.wn...</td>\n",
       "      <td>0</td>\n",
       "      <td>0</td>\n",
       "      <td>0</td>\n",
       "    </tr>\n",
       "  </tbody>\n",
       "</table>\n",
       "</div>"
      ],
      "text/plain": [
       "                                                    text  hd  cv  vo\n",
       "22026                         What does Gab-Pro give ya?   0   0   0\n",
       "22027  #354 TRUMP POLLS VS MEDIA MELTDOWN! | Jordan P...   0   0   0\n",
       "22028  The Founders never EVER dealt with a group tha...   0   0   0\n",
       "22029  Man [homosexually] molests 15-year-old boy on ...   0   0   0\n",
       "22030  So I saw #Skyscraper for you #GabFam. Now I ha...   0   0   0\n",
       "22031  I'm a fan of western civilization, and one bed...   0   0   0\n",
       "22032  Or ... is she saying that Muslims don't know h...   0   0   0\n",
       "22033  Thank you to all my followers that follow me e...   0   0   0\n",
       "22034  Wednesday music. https://www.youtube.com/watch...   0   0   0\n",
       "22035  This is a really Big Surprise!  https://www.wn...   0   0   0"
      ]
     },
     "execution_count": 5,
     "metadata": {},
     "output_type": "execute_result"
    }
   ],
   "source": [
    "#Bottom 10 rows in our dataset\n",
    "train_df.tail(10)"
   ]
  },
  {
   "cell_type": "code",
   "execution_count": 6,
   "metadata": {},
   "outputs": [
    {
     "data": {
      "text/html": [
       "<div>\n",
       "<style scoped>\n",
       "    .dataframe tbody tr th:only-of-type {\n",
       "        vertical-align: middle;\n",
       "    }\n",
       "\n",
       "    .dataframe tbody tr th {\n",
       "        vertical-align: top;\n",
       "    }\n",
       "\n",
       "    .dataframe thead th {\n",
       "        text-align: right;\n",
       "    }\n",
       "</style>\n",
       "<table border=\"1\" class=\"dataframe\">\n",
       "  <thead>\n",
       "    <tr style=\"text-align: right;\">\n",
       "      <th></th>\n",
       "      <th>hd</th>\n",
       "      <th>cv</th>\n",
       "      <th>vo</th>\n",
       "    </tr>\n",
       "  </thead>\n",
       "  <tbody>\n",
       "    <tr>\n",
       "      <th>count</th>\n",
       "      <td>22036.000000</td>\n",
       "      <td>22036.000000</td>\n",
       "      <td>22036.000000</td>\n",
       "    </tr>\n",
       "    <tr>\n",
       "      <th>mean</th>\n",
       "      <td>0.084271</td>\n",
       "      <td>0.005945</td>\n",
       "      <td>0.062579</td>\n",
       "    </tr>\n",
       "    <tr>\n",
       "      <th>std</th>\n",
       "      <td>0.277800</td>\n",
       "      <td>0.076875</td>\n",
       "      <td>0.242210</td>\n",
       "    </tr>\n",
       "    <tr>\n",
       "      <th>min</th>\n",
       "      <td>0.000000</td>\n",
       "      <td>0.000000</td>\n",
       "      <td>0.000000</td>\n",
       "    </tr>\n",
       "    <tr>\n",
       "      <th>25%</th>\n",
       "      <td>0.000000</td>\n",
       "      <td>0.000000</td>\n",
       "      <td>0.000000</td>\n",
       "    </tr>\n",
       "    <tr>\n",
       "      <th>50%</th>\n",
       "      <td>0.000000</td>\n",
       "      <td>0.000000</td>\n",
       "      <td>0.000000</td>\n",
       "    </tr>\n",
       "    <tr>\n",
       "      <th>75%</th>\n",
       "      <td>0.000000</td>\n",
       "      <td>0.000000</td>\n",
       "      <td>0.000000</td>\n",
       "    </tr>\n",
       "    <tr>\n",
       "      <th>max</th>\n",
       "      <td>1.000000</td>\n",
       "      <td>1.000000</td>\n",
       "      <td>1.000000</td>\n",
       "    </tr>\n",
       "  </tbody>\n",
       "</table>\n",
       "</div>"
      ],
      "text/plain": [
       "                 hd            cv            vo\n",
       "count  22036.000000  22036.000000  22036.000000\n",
       "mean       0.084271      0.005945      0.062579\n",
       "std        0.277800      0.076875      0.242210\n",
       "min        0.000000      0.000000      0.000000\n",
       "25%        0.000000      0.000000      0.000000\n",
       "50%        0.000000      0.000000      0.000000\n",
       "75%        0.000000      0.000000      0.000000\n",
       "max        1.000000      1.000000      1.000000"
      ]
     },
     "execution_count": 6,
     "metadata": {},
     "output_type": "execute_result"
    }
   ],
   "source": [
    "#Describe function to find total count,etc\n",
    "train_df.describe()"
   ]
  },
  {
   "cell_type": "code",
   "execution_count": 7,
   "metadata": {},
   "outputs": [
    {
     "name": "stdout",
     "output_type": "stream",
     "text": [
      "text    0\n",
      "hd      0\n",
      "cv      0\n",
      "vo      0\n",
      "dtype: int64\n"
     ]
    }
   ],
   "source": [
    "#how many nulls \n",
    "print(train_df.isnull().sum())"
   ]
  },
  {
   "cell_type": "code",
   "execution_count": 8,
   "metadata": {},
   "outputs": [
    {
     "name": "stdout",
     "output_type": "stream",
     "text": [
      "(22036, 4)\n",
      "\n",
      "\n",
      "text    object\n",
      "hd       int64\n",
      "cv       int64\n",
      "vo       int64\n",
      "dtype: object\n"
     ]
    }
   ],
   "source": [
    "#in our case we have no null values as inferred from output \n",
    "#how does the data look like\n",
    "print(train_df.shape)#total rows x column count \n",
    "print(\"\\n\")\n",
    "print(train_df.dtypes)# each column data type"
   ]
  },
  {
   "cell_type": "markdown",
   "metadata": {},
   "source": [
    "# Finding Duplicates"
   ]
  },
  {
   "cell_type": "code",
   "execution_count": 9,
   "metadata": {},
   "outputs": [
    {
     "data": {
      "text/plain": [
       "72"
      ]
     },
     "execution_count": 9,
     "metadata": {},
     "output_type": "execute_result"
    }
   ],
   "source": [
    "train_df.duplicated().sum()\n"
   ]
  },
  {
   "cell_type": "code",
   "execution_count": 10,
   "metadata": {},
   "outputs": [
    {
     "name": "stdout",
     "output_type": "stream",
     "text": [
      "                                                    text  hd  cv  vo\n",
      "3896                           I see what you did there.   0   0   0\n",
      "5426                                                Lol!   0   0   0\n",
      "5661   This is the amount of money necessary to buy t...   0   0   1\n",
      "6036   Just posted 1st of 3 final 'controversial' (in...   0   0   0\n",
      "6334                                            Maverick   0   0   0\n",
      "...                                                  ...  ..  ..  ..\n",
      "21122  GOD BLESS OUR INCREDIBLE PRESIDENT! RED TIDAL ...   0   0   0\n",
      "21407                                                  .   0   0   0\n",
      "21460                                       @Heartiste     0   0   0\n",
      "21531                   Worst. Strategic. Mistake. EVER.   0   0   0\n",
      "21976  SARA CARTER: John Kerry Officially Under Inves...   0   0   0\n",
      "\n",
      "[72 rows x 4 columns]\n"
     ]
    }
   ],
   "source": [
    "#above output shows our dataset has 72 duplicate values\n",
    "#now to see which values are duplicate \n",
    "duplicate_rows = train_df[train_df.duplicated()]\n",
    "print(duplicate_rows)"
   ]
  },
  {
   "cell_type": "markdown",
   "metadata": {},
   "source": [
    "# Removing Duplicates"
   ]
  },
  {
   "cell_type": "code",
   "execution_count": 11,
   "metadata": {},
   "outputs": [
    {
     "data": {
      "text/plain": [
       "0"
      ]
     },
     "execution_count": 11,
     "metadata": {},
     "output_type": "execute_result"
    }
   ],
   "source": [
    "# removing the duplicates and keeing just the first occurrence\n",
    "train_df = train_df.drop_duplicates()\n",
    "test_df = test_df.drop_duplicates()\n",
    "#again checking for duplicates \n",
    "train_df.duplicated().sum()"
   ]
  },
  {
   "cell_type": "code",
   "execution_count": 12,
   "metadata": {},
   "outputs": [
    {
     "data": {
      "text/plain": [
       "0"
      ]
     },
     "execution_count": 12,
     "metadata": {},
     "output_type": "execute_result"
    }
   ],
   "source": [
    "test_df.duplicated().sum()"
   ]
  },
  {
   "cell_type": "code",
   "execution_count": 13,
   "metadata": {},
   "outputs": [
    {
     "name": "stdout",
     "output_type": "stream",
     "text": [
      "text\n",
      "'A confidential, 49-page memo for defeating Trump by working with the major social-media platforms to eliminate “right wing propaganda and fake news” was presented in January 2017  by Media Matters founder David Brock at a retreat in Florida with about 100 donors, the Washington Free Beacon reported at the time.' https://www.wnd.com/2018/08/mask-off-social-media-... #FAGS #So...    2\n",
      "He most likely converted to islam due to his nature being suitable for  islamic doctrine. \"Prophet\" Muhammad was a psychopath.                                                                                                                                                                                                                                                                   1\n",
      "The other way around! Just go to Birmingham or London!                                                                                                                                                                                                                                                                                                                                           1\n",
      "Officially official new company is Beeso. I'm really excited about what I'm working on. It's going to change how startups are done and funded. Total disruption.                                                                                                                                                                                                                                 1\n",
      "what a warm, sincere, smile                                                                                                                                                                                                                                                                                                                                                                      1\n",
      "                                                                                                                                                                                                                                                                                                                                                                                                ..\n",
      "They can take their halal and kosher back to the Middle East !                                                                                                                                                                                                                                                                                                                                   1\n",
      "Even George Bush (both of 'em) are Zionists. There are lots of people working on the Zionist agenda. CIA is Zionist. Most of the white house (hence all these wars) are Zionist.                                                                                                                                                                                                                 1\n",
      "“Amazing leadership”....BULL FUCKING SHIT!! HE is responsible FOR EVERY PERSON HE HIRES!! So rip that fuckers records apart and FIND A WAY to get him fired!!                                                                                                                                                                                                                                    1\n",
      "Women.                                                                                                                                                                                                                                                                                                                                                                                           1\n",
      "This is a really Big Surprise!  https://www.wnd.com/2018/08/mask-off-social-media-censor-king-revealed/                                                                                                                                                                                                                                                                                          1\n",
      "Name: count, Length: 21963, dtype: int64\n",
      "******************************\n"
     ]
    }
   ],
   "source": [
    "#output 0 above shows that now our dataset has no duplicate values \n",
    "#identifying garbage values (garbage values have \"object\" as their datatype)\n",
    "for i in train_df.select_dtypes(include=\"object\").columns:\n",
    "    print(train_df[i].value_counts())\n",
    "    print(\"***\"*10)"
   ]
  },
  {
   "cell_type": "markdown",
   "metadata": {},
   "source": [
    "# Exploratory Data Analysis(EDA)"
   ]
  },
  {
   "cell_type": "code",
   "execution_count": 14,
   "metadata": {},
   "outputs": [
    {
     "data": {
      "text/html": [
       "<div>\n",
       "<style scoped>\n",
       "    .dataframe tbody tr th:only-of-type {\n",
       "        vertical-align: middle;\n",
       "    }\n",
       "\n",
       "    .dataframe tbody tr th {\n",
       "        vertical-align: top;\n",
       "    }\n",
       "\n",
       "    .dataframe thead th {\n",
       "        text-align: right;\n",
       "    }\n",
       "</style>\n",
       "<table border=\"1\" class=\"dataframe\">\n",
       "  <thead>\n",
       "    <tr style=\"text-align: right;\">\n",
       "      <th></th>\n",
       "      <th>count</th>\n",
       "      <th>mean</th>\n",
       "      <th>std</th>\n",
       "      <th>min</th>\n",
       "      <th>25%</th>\n",
       "      <th>50%</th>\n",
       "      <th>75%</th>\n",
       "      <th>max</th>\n",
       "    </tr>\n",
       "  </thead>\n",
       "  <tbody>\n",
       "    <tr>\n",
       "      <th>hd</th>\n",
       "      <td>21964.0</td>\n",
       "      <td>0.084456</td>\n",
       "      <td>0.278077</td>\n",
       "      <td>0.0</td>\n",
       "      <td>0.0</td>\n",
       "      <td>0.0</td>\n",
       "      <td>0.0</td>\n",
       "      <td>1.0</td>\n",
       "    </tr>\n",
       "    <tr>\n",
       "      <th>cv</th>\n",
       "      <td>21964.0</td>\n",
       "      <td>0.005964</td>\n",
       "      <td>0.077000</td>\n",
       "      <td>0.0</td>\n",
       "      <td>0.0</td>\n",
       "      <td>0.0</td>\n",
       "      <td>0.0</td>\n",
       "      <td>1.0</td>\n",
       "    </tr>\n",
       "    <tr>\n",
       "      <th>vo</th>\n",
       "      <td>21964.0</td>\n",
       "      <td>0.062693</td>\n",
       "      <td>0.242416</td>\n",
       "      <td>0.0</td>\n",
       "      <td>0.0</td>\n",
       "      <td>0.0</td>\n",
       "      <td>0.0</td>\n",
       "      <td>1.0</td>\n",
       "    </tr>\n",
       "  </tbody>\n",
       "</table>\n",
       "</div>"
      ],
      "text/plain": [
       "      count      mean       std  min  25%  50%  75%  max\n",
       "hd  21964.0  0.084456  0.278077  0.0  0.0  0.0  0.0  1.0\n",
       "cv  21964.0  0.005964  0.077000  0.0  0.0  0.0  0.0  1.0\n",
       "vo  21964.0  0.062693  0.242416  0.0  0.0  0.0  0.0  1.0"
      ]
     },
     "execution_count": 14,
     "metadata": {},
     "output_type": "execute_result"
    }
   ],
   "source": [
    "#descriptive statistics \n",
    "train_df.describe().T\n"
   ]
  },
  {
   "cell_type": "code",
   "execution_count": 15,
   "metadata": {},
   "outputs": [
    {
     "data": {
      "text/html": [
       "<div>\n",
       "<style scoped>\n",
       "    .dataframe tbody tr th:only-of-type {\n",
       "        vertical-align: middle;\n",
       "    }\n",
       "\n",
       "    .dataframe tbody tr th {\n",
       "        vertical-align: top;\n",
       "    }\n",
       "\n",
       "    .dataframe thead th {\n",
       "        text-align: right;\n",
       "    }\n",
       "</style>\n",
       "<table border=\"1\" class=\"dataframe\">\n",
       "  <thead>\n",
       "    <tr style=\"text-align: right;\">\n",
       "      <th></th>\n",
       "      <th>text</th>\n",
       "    </tr>\n",
       "  </thead>\n",
       "  <tbody>\n",
       "    <tr>\n",
       "      <th>count</th>\n",
       "      <td>21964</td>\n",
       "    </tr>\n",
       "    <tr>\n",
       "      <th>unique</th>\n",
       "      <td>21963</td>\n",
       "    </tr>\n",
       "    <tr>\n",
       "      <th>top</th>\n",
       "      <td>'A confidential, 49-page memo for defeating Tr...</td>\n",
       "    </tr>\n",
       "    <tr>\n",
       "      <th>freq</th>\n",
       "      <td>2</td>\n",
       "    </tr>\n",
       "  </tbody>\n",
       "</table>\n",
       "</div>"
      ],
      "text/plain": [
       "                                                     text\n",
       "count                                               21964\n",
       "unique                                              21963\n",
       "top     'A confidential, 49-page memo for defeating Tr...\n",
       "freq                                                    2"
      ]
     },
     "execution_count": 15,
     "metadata": {},
     "output_type": "execute_result"
    }
   ],
   "source": [
    "train_df.describe(include=\"object\")"
   ]
  },
  {
   "cell_type": "markdown",
   "metadata": {},
   "source": [
    "# Visualization"
   ]
  },
  {
   "cell_type": "code",
   "execution_count": 16,
   "metadata": {},
   "outputs": [
    {
     "data": {
      "image/png": "[encoded data removed]",
      "text/plain": [
       "<Figure size 800x800 with 1 Axes>"
      ]
     },
     "metadata": {},
     "output_type": "display_data"
    }
   ],
   "source": [
    "import matplotlib.pyplot as plt\n",
    "\n",
    "# Sum the values of each column\n",
    "hd_sum = train_df['hd'].sum()\n",
    "cv_sum = train_df['cv'].sum()\n",
    "vo_sum = train_df['vo'].sum()\n",
    "\n",
    "# Create a list of sums and corresponding labels\n",
    "sums = [hd_sum, cv_sum, vo_sum]\n",
    "labels = ['hd', 'cv', 'vo']\n",
    "\n",
    "# Create a pie chart\n",
    "plt.figure(figsize=(8, 8))\n",
    "plt.pie(sums, labels=labels, autopct='%1.1f%%', startangle=140)\n",
    "plt.title('Distribution of hd, cv, and vo in the Dataset')\n",
    "plt.axis('equal')  # Equal aspect ratio ensures that pie is drawn as a circle.\n",
    "plt.show()"
   ]
  },
  {
   "cell_type": "code",
   "execution_count": 17,
   "metadata": {},
   "outputs": [
    {
     "data": {
      "image/png": "[encoded data removed]",
      "text/plain": [
       "<Figure size 800x800 with 1 Axes>"
      ]
     },
     "metadata": {},
     "output_type": "display_data"
    }
   ],
   "source": [
    "import matplotlib.pyplot as plt\n",
    "\n",
    "# Sum the values of each column\n",
    "hd_sum = test_df['hd'].sum()\n",
    "cv_sum = test_df['cv'].sum()\n",
    "vo_sum = test_df['vo'].sum()\n",
    "\n",
    "# Create a list of sums and corresponding labels\n",
    "sums = [hd_sum, cv_sum, vo_sum]\n",
    "labels = ['hd', 'cv', 'vo']\n",
    "\n",
    "# Create a pie chart\n",
    "plt.figure(figsize=(8, 8))\n",
    "plt.pie(sums, labels=labels, autopct='%1.1f%%', startangle=140)\n",
    "plt.title('Distribution of hd, cv, and vo in the Dataset')\n",
    "plt.axis('equal')  # Equal aspect ratio ensures that pie is drawn as a circle.\n",
    "plt.show()"
   ]
  },
  {
   "cell_type": "markdown",
   "metadata": {},
   "source": [
    "# Punctuation Removal"
   ]
  },
  {
   "cell_type": "code",
   "execution_count": 18,
   "metadata": {},
   "outputs": [
    {
     "name": "stdout",
     "output_type": "stream",
     "text": [
      "<bound method NDFrame.head of                                                     text  hd  cv  vo\n",
      "0      He most likely converted to islam due to his n...   0   0   0\n",
      "1      So Ford lied about being a psychologist Record...   0   0   0\n",
      "2             Jobs Education Ending abuse of Nation CA43   0   0   0\n",
      "3      I share a lot of your values  like many who do...   0   0   0\n",
      "4      I am so ready to get back to blogging wwwbenbr...   0   0   0\n",
      "...                                                  ...  ..  ..  ..\n",
      "22031  Im a fan of western civilization and one bedro...   0   0   0\n",
      "22032  Or  is she saying that Muslims dont know how t...   0   0   0\n",
      "22033  Thank you to all my followers that follow me e...   0   0   0\n",
      "22034  Wednesday music httpswwwyoutubecomwatchvfI2Z1l...   0   0   0\n",
      "22035  This is a really Big Surprise  httpswwwwndcom2...   0   0   0\n",
      "\n",
      "[21964 rows x 4 columns]>\n"
     ]
    }
   ],
   "source": [
    "# Remove punctuations and symbols\n",
    "def remove_punctuation(text):\n",
    "    if isinstance(text, str):\n",
    "        return text.translate(str.maketrans('', \"\", string.punctuation))\n",
    "    return text\n",
    "\n",
    "# Apply the function to all string cells in the DataFrame\n",
    "train_df = train_df.map(remove_punctuation)\n",
    "print(train_df.head)"
   ]
  },
  {
   "cell_type": "markdown",
   "metadata": {},
   "source": [
    "# Removing Double Quotes"
   ]
  },
  {
   "cell_type": "code",
   "execution_count": 19,
   "metadata": {},
   "outputs": [],
   "source": [
    "#removing double quotes\n",
    "import re\n",
    "\n",
    "def remove_quotes(text):\n",
    "    if isinstance(text, str):\n",
    "        return re.sub(r'[“”]', '', text)\n",
    "    else:\n",
    "        return text\n",
    "\n",
    "train_df = train_df.map(remove_quotes)\n"
   ]
  },
  {
   "cell_type": "code",
   "execution_count": 20,
   "metadata": {},
   "outputs": [
    {
     "data": {
      "text/plain": [
       "'Suggestion Create another channel not associated with General Shepherd  Post all the INFOWARS stuff but never use the word Alex Jones INFOWARS etc in titles and descriptions Instead use words that describe whats being talked about in the video'"
      ]
     },
     "execution_count": 20,
     "metadata": {},
     "output_type": "execute_result"
    }
   ],
   "source": [
    "train_df['text'][14]"
   ]
  },
  {
   "cell_type": "markdown",
   "metadata": {},
   "source": [
    "# Stopwords Removal"
   ]
  },
  {
   "cell_type": "markdown",
   "metadata": {},
   "source": [
    "Stopwords are commonly used words in a language that are often ignored or filtered out in natural language processing tasks beacuase they carry less meaningful information compared to other words\n",
    "\n"
   ]
  },
  {
   "cell_type": "code",
   "execution_count": 21,
   "metadata": {},
   "outputs": [
    {
     "name": "stderr",
     "output_type": "stream",
     "text": [
      "[nltk_data] Downloading package punkt to\n",
      "[nltk_data]     C:\\Users\\BHARGAVI\\AppData\\Roaming\\nltk_data...\n",
      "[nltk_data]   Package punkt is already up-to-date!\n",
      "[nltk_data] Downloading package stopwords to\n",
      "[nltk_data]     C:\\Users\\BHARGAVI\\AppData\\Roaming\\nltk_data...\n",
      "[nltk_data]   Package stopwords is already up-to-date!\n"
     ]
    },
    {
     "name": "stdout",
     "output_type": "stream",
     "text": [
      "{'did', 'up', 'do', 'your', 'had', 'it', 'is', 'hasn', 'into', \"couldn't\", 'won', 'that', \"you're\", 'themselves', \"you've\", 'who', \"hasn't\", \"mustn't\", 'these', \"didn't\", 'the', 'below', 'am', 't', 'whom', 'has', 'not', 'will', \"shouldn't\", 'before', 'some', 'other', 'only', 's', 'should', 'by', \"weren't\", 'an', 'when', 'off', 'own', 'isn', 'during', 'if', 'now', 'where', 'hers', 'them', 'hadn', 'its', 've', 'o', 'over', 'but', \"don't\", 'here', 'couldn', \"it's\", 'while', 'against', 'been', \"she's\", 'their', 'you', 'haven', 'yourself', 'through', 'her', 're', \"haven't\", 'once', 'because', 'mustn', 'wouldn', 'theirs', 'no', 'nor', 'how', 'which', 'with', 'can', 'my', 'm', 'she', 'itself', 'doesn', \"doesn't\", 'wasn', 'then', 'in', 'we', 'i', \"wouldn't\", 'being', 'very', 'a', 'his', \"needn't\", 'does', 'down', 'more', 'he', \"you'd\", 'all', 'y', 'ain', 'shouldn', \"isn't\", \"wasn't\", 'at', 'to', 'out', 'ma', \"shan't\", 'of', 'on', 'after', 'himself', 'herself', 'was', 'above', \"aren't\", 'were', \"that'll\", 'both', 'for', 'weren', 'from', 'what', 'again', 'under', 'too', 'be', 'or', 'and', 'didn', 'him', 'further', 'ourselves', 'needn', 'ours', 'having', 'd', 'as', 'why', 'don', 'yours', 'yourselves', \"you'll\", 'so', \"mightn't\", 'about', \"hadn't\", 'than', 'few', 'have', 'such', 'll', 'doing', 'most', 'myself', 'aren', 'our', \"won't\", 'those', 'each', 'me', 'just', 'mightn', 'same', 'until', 'they', 'shan', 'are', 'any', 'between', 'there', \"should've\", 'this'}\n"
     ]
    },
    {
     "name": "stderr",
     "output_type": "stream",
     "text": [
      "C:\\Users\\BHARGAVI\\AppData\\Local\\Temp\\ipykernel_20376\\3024245986.py:24: FutureWarning: DataFrame.applymap has been deprecated. Use DataFrame.map instead.\n",
      "  return chunk.applymap(remove_stopwords)\n",
      "C:\\Users\\BHARGAVI\\AppData\\Local\\Temp\\ipykernel_20376\\3024245986.py:24: FutureWarning: DataFrame.applymap has been deprecated. Use DataFrame.map instead.\n",
      "  return chunk.applymap(remove_stopwords)\n",
      "C:\\Users\\BHARGAVI\\AppData\\Local\\Temp\\ipykernel_20376\\3024245986.py:24: FutureWarning: DataFrame.applymap has been deprecated. Use DataFrame.map instead.\n",
      "  return chunk.applymap(remove_stopwords)\n"
     ]
    },
    {
     "name": "stdout",
     "output_type": "stream",
     "text": [
      "Cleaned Train DataFrame:\n",
      "                                                text  hd  cv  vo\n",
      "0  likely converted islam due nature suitable isl...   0   0   0\n",
      "1  Ford lied psychologist . Records seem indicate...   0   0   0\n",
      "2    Jobs . Education . Ending abuse Nation . CA43 .   0   0   0\n",
      "3  share lot values , & like many , n't call alt ...   0   0   0\n",
      "4  ready get back blogging ! www.benbrihouse.com ...   0   0   0\n",
      "Cleaned Test DataFrame:\n",
      "                                                text  hd  cv  vo\n",
      "0  https : //www.youtube.com/watch ? v=kACWpKAKta...   0   0   0\n",
      "1  nice ! tend get tired constant stream ridiculo...   0   0   0\n",
      "2     Watch today . https : //circumcisionmovie.com/   0   0   0\n",
      "3  `` Thinking Venues `` First Color Layer blocki...   0   0   0\n",
      "4  death penalty perpetrators expelling remaining...   0   0   0\n"
     ]
    }
   ],
   "source": [
    "import nltk\n",
    "from nltk.corpus import stopwords\n",
    "from nltk.tokenize import word_tokenize\n",
    "\n",
    "#stopwords are commonly used words in a language that are often ignored  or filtered out in natural language processing\n",
    "#tasks beacuase they carry less meaningful information compared to other words\n",
    "# Download the necessary NLTK resources\n",
    "nltk.download('punkt')\n",
    "nltk.download('stopwords')\n",
    "\n",
    "# Get the list of stopwords\n",
    "stop_words = set(stopwords.words('english'))\n",
    "print(stop_words)\n",
    "\n",
    "# Define a function to remove stopwords\n",
    "def remove_stopwords(text):\n",
    "    if isinstance(text, str):\n",
    "        words = word_tokenize(text)\n",
    "        return ' '.join([word for word in words if word.lower() not in stop_words])\n",
    "    return text\n",
    "\n",
    "# Function to process a chunk\n",
    "def process_chunk(chunk):\n",
    "    return chunk.applymap(remove_stopwords)\n",
    "\n",
    "# Process the train dataset in chunks\n",
    "train_processed_chunks = []\n",
    "chunk_size = 21976\n",
    "for chunk in pd.read_csv(train_file_path, sep='\\t', chunksize=chunk_size):\n",
    "    processed_chunk = process_chunk(chunk)\n",
    "    train_processed_chunks.append(processed_chunk)\n",
    "\n",
    "# Concatenate all processed chunks into a single DataFrame for train data\n",
    "train_df_cleaned = pd.concat(train_processed_chunks, ignore_index=True)\n",
    "\n",
    "# Process the test dataset in chunks\n",
    "test_processed_chunks = []\n",
    "for chunk in pd.read_csv(test_file_path, sep='\\t', chunksize=chunk_size):\n",
    "    processed_chunk = process_chunk(chunk)\n",
    "    test_processed_chunks.append(processed_chunk)\n",
    "\n",
    "# Concatenate all processed chunks into a single DataFrame for test data\n",
    "test_df_cleaned = pd.concat(test_processed_chunks, ignore_index=True)\n",
    "\n",
    "# Display a few rows of the cleaned train DataFrame\n",
    "print(\"Cleaned Train DataFrame:\")\n",
    "print(train_df_cleaned.head())\n",
    "\n",
    "# Display a few rows of the cleaned test DataFrame\n",
    "print(\"Cleaned Test DataFrame:\")\n",
    "print(test_df_cleaned.head())"
   ]
  },
  {
   "cell_type": "markdown",
   "metadata": {},
   "source": [
    "# Stemming"
   ]
  },
  {
   "cell_type": "markdown",
   "metadata": {},
   "source": [
    "Stemming is an NLP technique used to reducce words to their base or root form. \n",
    "for eg, the words \"running\", \"runner\", and \"ran\" can all be reduced to the stem \"run\"\n"
   ]
  },
  {
   "cell_type": "code",
   "execution_count": 22,
   "metadata": {},
   "outputs": [
    {
     "name": "stderr",
     "output_type": "stream",
     "text": [
      "C:\\Users\\BHARGAVI\\AppData\\Local\\Temp\\ipykernel_20376\\3989439168.py:20: FutureWarning: DataFrame.applymap has been deprecated. Use DataFrame.map instead.\n",
      "  return chunk.applymap(stem_text)\n",
      "C:\\Users\\BHARGAVI\\AppData\\Local\\Temp\\ipykernel_20376\\3989439168.py:20: FutureWarning: DataFrame.applymap has been deprecated. Use DataFrame.map instead.\n",
      "  return chunk.applymap(stem_text)\n",
      "C:\\Users\\BHARGAVI\\AppData\\Local\\Temp\\ipykernel_20376\\3989439168.py:20: FutureWarning: DataFrame.applymap has been deprecated. Use DataFrame.map instead.\n",
      "  return chunk.applymap(stem_text)\n"
     ]
    },
    {
     "name": "stdout",
     "output_type": "stream",
     "text": [
      "Cleaned Train DataFrame:\n",
      "                                                text  hd  cv  vo\n",
      "0  he most like convert to islam due to hi natur ...   0   0   0\n",
      "1  so ford lie about be a psychologist . record s...   0   0   0\n",
      "2           job . educ . end abus of nation . ca43 .   0   0   0\n",
      "3  i share a lot of your valu , & like mani who d...   0   0   0\n",
      "4  i am so readi to get back to blog ! www.benbri...   0   0   0\n",
      "Cleaned Test DataFrame:\n",
      "                                                text  hd  cv  vo\n",
      "0  http : //www.youtube.com/watch ? v=kacwpkaktak...   0   0   0\n",
      "1  veri nice ! i tend to get tire of the constant...   0   0   0\n",
      "2      watch today . http : //circumcisionmovie.com/   0   0   0\n",
      "3  `` think venu `` first color layer block in fi...   0   0   0\n",
      "4  what about death penalti for perpetr and expel...   0   0   0\n"
     ]
    }
   ],
   "source": [
    "import nltk\n",
    "from nltk.stem import PorterStemmer\n",
    "from nltk.tokenize import word_tokenize\n",
    "\n",
    "#Stemming is an NLP technique used to reducce words to their base or root form. \n",
    "#for eg, the words \"running\", \"runner\", and \"ran\" can all be reduced to the stem \"run\"\n",
    "\n",
    "# Initialize the PorterStemmer\n",
    "stemmer = PorterStemmer()\n",
    "\n",
    "# Define a function to perform stemming\n",
    "def stem_text(text):\n",
    "    if isinstance(text, str):\n",
    "        words = word_tokenize(text)\n",
    "        return ' '.join([stemmer.stem(word) for word in words])\n",
    "    return text\n",
    "\n",
    "# Function to process a chunk\n",
    "def process_chunk(chunk):\n",
    "    return chunk.applymap(stem_text)\n",
    "\n",
    "# Process the train dataset in chunks\n",
    "train_processed_chunks = []\n",
    "chunk_size = 21976  \n",
    "for chunk in pd.read_csv(train_file_path, sep='\\t', chunksize=chunk_size):\n",
    "    processed_chunk = process_chunk(chunk)\n",
    "    train_processed_chunks.append(processed_chunk)\n",
    "\n",
    "# Concatenate all processed chunks into a single DataFrame for train data\n",
    "train_df= pd.concat(train_processed_chunks, ignore_index=True)\n",
    "\n",
    "# Process the test dataset in chunks\n",
    "test_processed_chunks = []\n",
    "for chunk in pd.read_csv(test_file_path, sep='\\t', chunksize=chunk_size):\n",
    "    processed_chunk = process_chunk(chunk)\n",
    "    test_processed_chunks.append(processed_chunk)\n",
    "\n",
    "# Concatenate all processed chunks into a single DataFrame for test data\n",
    "test_df = pd.concat(test_processed_chunks, ignore_index=True)\n",
    "\n",
    "# Display a few rows of the cleaned train DataFrame\n",
    "print(\"Cleaned Train DataFrame:\")\n",
    "print(train_df.head())\n",
    "\n",
    "# Display a few rows of the cleaned test DataFrame\n",
    "print(\"Cleaned Test DataFrame:\")\n",
    "print(test_df.head())"
   ]
  },
  {
   "cell_type": "markdown",
   "metadata": {},
   "source": [
    "# Lemmatization"
   ]
  },
  {
   "cell_type": "markdown",
   "metadata": {},
   "source": [
    "Lemmatization ia a NLP technique that invloves reducing words to thier base or dictionary form, known as the lemma. Eg-1: words: \"running\", \"ran\", \"runs\" ..... lemma:\"run\" Eg-2: words: \"better\" (adjective).....lemma:\"good\""
   ]
  },
  {
   "cell_type": "code",
   "execution_count": 23,
   "metadata": {},
   "outputs": [
    {
     "name": "stderr",
     "output_type": "stream",
     "text": [
      "[nltk_data] Downloading package omw-1.4 to\n",
      "[nltk_data]     C:\\Users\\BHARGAVI\\AppData\\Roaming\\nltk_data...\n",
      "[nltk_data]   Package omw-1.4 is already up-to-date!\n"
     ]
    },
    {
     "data": {
      "text/plain": [
       "True"
      ]
     },
     "execution_count": 23,
     "metadata": {},
     "output_type": "execute_result"
    }
   ],
   "source": [
    "import nltk\n",
    "nltk.download('omw-1.4')"
   ]
  },
  {
   "cell_type": "code",
   "execution_count": 24,
   "metadata": {},
   "outputs": [
    {
     "name": "stderr",
     "output_type": "stream",
     "text": [
      "[nltk_data] Downloading package punkt to\n",
      "[nltk_data]     C:\\Users\\BHARGAVI\\AppData\\Roaming\\nltk_data...\n",
      "[nltk_data]   Package punkt is already up-to-date!\n",
      "[nltk_data] Downloading package wordnet to\n",
      "[nltk_data]     C:\\Users\\BHARGAVI\\AppData\\Roaming\\nltk_data...\n",
      "[nltk_data]   Package wordnet is already up-to-date!\n",
      "C:\\Users\\BHARGAVI\\AppData\\Local\\Temp\\ipykernel_20376\\858550214.py:27: FutureWarning: DataFrame.applymap has been deprecated. Use DataFrame.map instead.\n",
      "  return chunk.applymap(lemmatize_text)\n",
      "C:\\Users\\BHARGAVI\\AppData\\Local\\Temp\\ipykernel_20376\\858550214.py:27: FutureWarning: DataFrame.applymap has been deprecated. Use DataFrame.map instead.\n",
      "  return chunk.applymap(lemmatize_text)\n",
      "C:\\Users\\BHARGAVI\\AppData\\Local\\Temp\\ipykernel_20376\\858550214.py:27: FutureWarning: DataFrame.applymap has been deprecated. Use DataFrame.map instead.\n",
      "  return chunk.applymap(lemmatize_text)\n"
     ]
    },
    {
     "name": "stdout",
     "output_type": "stream",
     "text": [
      "Cleaned Train DataFrame:\n",
      "                                                text  hd  cv  vo\n",
      "0  He most likely converted to islam due to his n...   0   0   0\n",
      "1  So Ford lied about being a psychologist . Reco...   0   0   0\n",
      "2  Jobs . Education . Ending abuse of Nation . CA...   0   0   0\n",
      "3  I share a lot of your value , & like many who ...   0   0   0\n",
      "4  I am so ready to get back to blogging ! www.be...   0   0   0\n",
      "Cleaned Test DataFrame:\n",
      "                                                text  hd  cv  vo\n",
      "0  http : //www.youtube.com/watch ? v=kACWpKAKtak...   0   0   0\n",
      "1  Very nice ! I tend to get tired of the constan...   0   0   0\n",
      "2      Watch today . http : //circumcisionmovie.com/   0   0   0\n",
      "3  `` Thinking Venues `` First Color Layer blocki...   0   0   0\n",
      "4  What about death penalty for perpetrator and e...   0   0   0\n"
     ]
    }
   ],
   "source": [
    "#Lemmitization ia a NLP technique that invloves reducing words to thier base or dictionary form, known as the lemma. \n",
    "#eg: words: \"running\", \"ran\", \"runs\" ..... lemma:\"run\"\n",
    "#eg: words: \"better\" (adjective).....lemma:\"good\"\n",
    "\n",
    "\n",
    "import pandas as pd\n",
    "import nltk\n",
    "from nltk.stem import WordNetLemmatizer\n",
    "from nltk.tokenize import word_tokenize\n",
    "\n",
    "# Download the necessary NLTK resources\n",
    "nltk.download('punkt')\n",
    "nltk.download('wordnet')\n",
    "\n",
    "# Initialize the WordNetLemmatizer\n",
    "lemmatizer = WordNetLemmatizer()\n",
    "\n",
    "# Define a function to perform lemmatization\n",
    "def lemmatize_text(text):\n",
    "    if isinstance(text, str):\n",
    "        words = word_tokenize(text)\n",
    "        return ' '.join([lemmatizer.lemmatize(word) for word in words])\n",
    "    return text\n",
    "\n",
    "# Function to process a chunk\n",
    "def process_chunk(chunk):\n",
    "    return chunk.applymap(lemmatize_text)\n",
    "\n",
    "# Process the train dataset in chunks\n",
    "train_processed_chunks = []\n",
    "chunk_size = 21976\n",
    "for chunk in pd.read_csv(train_file_path, sep='\\t', chunksize=chunk_size):\n",
    "    processed_chunk = process_chunk(chunk)\n",
    "    train_processed_chunks.append(processed_chunk)\n",
    "\n",
    "# Concatenate all processed chunks into a single DataFrame for train data\n",
    "train_df_cleaned = pd.concat(train_processed_chunks, ignore_index=True)\n",
    "\n",
    "# Process the test dataset in chunks\n",
    "test_processed_chunks = []\n",
    "for chunk in pd.read_csv(test_file_path, sep='\\t', chunksize=chunk_size):\n",
    "    processed_chunk = process_chunk(chunk)\n",
    "    test_processed_chunks.append(processed_chunk)\n",
    "\n",
    "# Concatenate all processed chunks into a single DataFrame for test data\n",
    "test_df_cleaned = pd.concat(test_processed_chunks, ignore_index=True)\n",
    "\n",
    "# Display a few rows of the cleaned train DataFrame\n",
    "print(\"Cleaned Train DataFrame:\")\n",
    "print(train_df_cleaned.head())\n",
    "\n",
    "# Display a few rows of the cleaned test DataFrame\n",
    "print(\"Cleaned Test DataFrame:\")\n",
    "print(test_df_cleaned.head())"
   ]
  },
  {
   "cell_type": "code",
   "execution_count": 25,
   "metadata": {},
   "outputs": [
    {
     "name": "stderr",
     "output_type": "stream",
     "text": [
      "[nltk_data] Downloading package punkt to\n",
      "[nltk_data]     C:\\Users\\BHARGAVI\\AppData\\Roaming\\nltk_data...\n",
      "[nltk_data]   Package punkt is already up-to-date!\n",
      "[nltk_data] Downloading package stopwords to\n",
      "[nltk_data]     C:\\Users\\BHARGAVI\\AppData\\Roaming\\nltk_data...\n",
      "[nltk_data]   Package stopwords is already up-to-date!\n"
     ]
    },
    {
     "name": "stdout",
     "output_type": "stream",
     "text": [
      "[('’', 2117), ('like', 1832), ('people', 1743), ('one', 1485), ('get', 1367), ('dont', 1358), ('trump', 1319), ('would', 1290), ('us', 1130), ('know', 1074), ('im', 989), ('time', 989), ('good', 986), ('think', 901), ('see', 882), ('right', 807), ('new', 800), ('want', 766), ('white', 756), ('go', 720), ('need', 706), ('even', 702), ('gab', 698), ('back', 697), ('going', 684), ('make', 673), ('never', 670), ('well', 650), ('way', 621), ('still', 581), ('really', 580), ('take', 575), ('”', 572), ('got', 568), ('“', 561), ('much', 556), ('say', 553), ('day', 545), ('twitter', 532), ('great', 531), ('world', 519), ('many', 511), ('cant', 495), ('could', 494), ('thats', 493), ('free', 488), ('shit', 471), ('jews', 466), ('first', 465), ('years', 461), ('man', 459), ('left', 458), ('also', 454), ('god', 453), ('thing', 446), ('love', 441), ('look', 436), ('news', 432), ('said', 425), ('america', 424), ('every', 422), ('today', 421), ('another', 418), ('president', 414), ('country', 412), ('something', 409), ('real', 405), ('lol', 404), ('media', 398), ('ever', 395), ('nothing', 393), ('live', 385), ('use', 382), ('youre', 369), ('must', 366), ('video', 366), ('fuck', 362), ('post', 357), ('state', 357), ('work', 356), ('little', 356), ('may', 355), ('give', 354), ('anyone', 353), ('better', 352), ('always', 351), ('war', 350), ('women', 350), ('keep', 345), ('sure', 345), ('fucking', 345), ('long', 341), ('2', 340), ('maga', 340), ('black', 334), ('things', 332), ('hate', 332), ('life', 329), ('come', 328), ('read', 328)]\n"
     ]
    }
   ],
   "source": [
    "import pandas as pd\n",
    "import nltk\n",
    "from nltk.corpus import stopwords\n",
    "from nltk.tokenize import word_tokenize\n",
    "from collections import Counter\n",
    "import string\n",
    "\n",
    "# Download necessary NLTK resources\n",
    "nltk.download('punkt')\n",
    "nltk.download('stopwords')\n",
    "\n",
    "train_file_path = r'C:\\Users\\BHARGAVI\\Downloads\\project_data\\ghc_train.tsv'\n",
    "test_file_path = r'C:\\Users\\BHARGAVI\\Downloads\\project_data\\ghc_test.tsv'\n",
    "train_df = pd.read_csv(train_file_path, sep='\\t')\n",
    "test_df = pd.read_csv(test_file_path, sep='\\t')\n",
    "# Combine train and test datasets\n",
    "combined_df = pd.concat([train_df, test_df], ignore_index=True)\n",
    "\n",
    "# Get the list of stopwords\n",
    "stop_words = set(stopwords.words('english'))\n",
    "\n",
    "# Define a function to preprocess the text\n",
    "def preprocess_text(text):\n",
    "    if isinstance(text, str):\n",
    "        # Remove punctuation\n",
    "        text = text.translate(str.maketrans('', '', string.punctuation))\n",
    "        # Tokenize the text\n",
    "        words = word_tokenize(text)\n",
    "        # Remove stopwords and convert to lowercase\n",
    "        words = [word.lower() for word in words if word.lower() not in stop_words]\n",
    "        return words\n",
    "    return []\n",
    "\n",
    "# Apply preprocessing to the text column (assuming text column is named 'text')\n",
    "combined_df['cleaned_text'] = combined_df['text'].apply(preprocess_text)\n",
    "\n",
    "# Flatten the list of words\n",
    "all_words = [word for words in combined_df['cleaned_text'] for word in words]\n",
    "\n",
    "# Calculate word frequencies\n",
    "word_freq = Counter(all_words)\n",
    "\n",
    "# Display the most common words\n",
    "common_words = word_freq.most_common(100)  # Adjust the number as needed\n",
    "print(common_words)"
   ]
  },
  {
   "cell_type": "code",
   "execution_count": 26,
   "metadata": {},
   "outputs": [
    {
     "name": "stdout",
     "output_type": "stream",
     "text": [
      "1\n"
     ]
    }
   ],
   "source": [
    "# Creating DataFrame\n",
    "df = train_df\n",
    "\n",
    "# Adding 'label' column\n",
    "df['label'] = ((df['hd'] == 1) | (df['cv'] == 1) | (df['vo'] == 1)).astype(int)\n",
    "\n",
    "print(df['label'][29])"
   ]
  },
  {
   "cell_type": "markdown",
   "metadata": {},
   "source": [
    "# URL Removal, Hastags and Mentions\n"
   ]
  },
  {
   "cell_type": "code",
   "execution_count": 27,
   "metadata": {},
   "outputs": [
    {
     "data": {
      "text/html": [
       "<div>\n",
       "<style scoped>\n",
       "    .dataframe tbody tr th:only-of-type {\n",
       "        vertical-align: middle;\n",
       "    }\n",
       "\n",
       "    .dataframe tbody tr th {\n",
       "        vertical-align: top;\n",
       "    }\n",
       "\n",
       "    .dataframe thead th {\n",
       "        text-align: right;\n",
       "    }\n",
       "</style>\n",
       "<table border=\"1\" class=\"dataframe\">\n",
       "  <thead>\n",
       "    <tr style=\"text-align: right;\">\n",
       "      <th></th>\n",
       "      <th>text</th>\n",
       "      <th>hd</th>\n",
       "      <th>cv</th>\n",
       "      <th>vo</th>\n",
       "    </tr>\n",
       "  </thead>\n",
       "  <tbody>\n",
       "    <tr>\n",
       "      <th>0</th>\n",
       "      <td>A talk on natural law.</td>\n",
       "      <td>0</td>\n",
       "      <td>0</td>\n",
       "      <td>0</td>\n",
       "    </tr>\n",
       "    <tr>\n",
       "      <th>1</th>\n",
       "      <td>Very nice! I tend to get tired of the constant...</td>\n",
       "      <td>0</td>\n",
       "      <td>0</td>\n",
       "      <td>0</td>\n",
       "    </tr>\n",
       "    <tr>\n",
       "      <th>2</th>\n",
       "      <td>Watch today.</td>\n",
       "      <td>0</td>\n",
       "      <td>0</td>\n",
       "      <td>0</td>\n",
       "    </tr>\n",
       "    <tr>\n",
       "      <th>3</th>\n",
       "      <td>\" Thinking Venues \" First Color Layer blocking...</td>\n",
       "      <td>0</td>\n",
       "      <td>0</td>\n",
       "      <td>0</td>\n",
       "    </tr>\n",
       "    <tr>\n",
       "      <th>4</th>\n",
       "      <td>What about death penalty for perpetrators  and...</td>\n",
       "      <td>0</td>\n",
       "      <td>0</td>\n",
       "      <td>0</td>\n",
       "    </tr>\n",
       "  </tbody>\n",
       "</table>\n",
       "</div>"
      ],
      "text/plain": [
       "                                                text  hd  cv  vo\n",
       "0                             A talk on natural law.   0   0   0\n",
       "1  Very nice! I tend to get tired of the constant...   0   0   0\n",
       "2                                      Watch today.    0   0   0\n",
       "3  \" Thinking Venues \" First Color Layer blocking...   0   0   0\n",
       "4  What about death penalty for perpetrators  and...   0   0   0"
      ]
     },
     "execution_count": 27,
     "metadata": {},
     "output_type": "execute_result"
    }
   ],
   "source": [
    "# removing urls,hastags and mentions\n",
    "def remove_urls_mentions_hashtags(text):\n",
    "    text = re.sub(r'http\\S+|www\\S+|https\\S+', '', text)\n",
    "    text = re.sub(r'\\@\\w+|\\#', '', text)\n",
    "    return text\n",
    "\n",
    "test_df['text'] = test_df['text'].apply(remove_urls_mentions_hashtags)\n",
    "train_df['text'] = train_df['text'].apply(remove_urls_mentions_hashtags)\n",
    "def remove_url(text):\n",
    "    return re.sub(r'http\\S+|www\\S+|https\\S+', '', text, flags=re.MULTILINE)\n",
    "\n",
    "train_df['text'] = train_df['text'].apply(remove_url)\n",
    "test_df['text'] = test_df['text'].apply(remove_url)\n",
    "test_df.head()"
   ]
  },
  {
   "cell_type": "code",
   "execution_count": 28,
   "metadata": {},
   "outputs": [
    {
     "name": "stdout",
     "output_type": "stream",
     "text": [
      "Rows with URLs:\n",
      "Empty DataFrame\n",
      "Columns: [text, hd, cv, vo, contains_url]\n",
      "Index: []\n"
     ]
    }
   ],
   "source": [
    "# Function to check for URLs\n",
    "def contains_url(text):\n",
    "    url_pattern = re.compile(r'http\\S+|www\\S+|https\\S+')\n",
    "    return bool(url_pattern.search(text))\n",
    "# Apply the function to the text column\n",
    "test_df['contains_url'] = test_df['text'].apply(contains_url)\n",
    "\n",
    "# Filter rows that contain URLs\n",
    "rows_with_urls = test_df[test_df['contains_url']]\n",
    "\n",
    "print(\"Rows with URLs:\")\n",
    "print(rows_with_urls)"
   ]
  },
  {
   "cell_type": "code",
   "execution_count": 29,
   "metadata": {},
   "outputs": [
    {
     "data": {
      "text/html": [
       "<div>\n",
       "<style scoped>\n",
       "    .dataframe tbody tr th:only-of-type {\n",
       "        vertical-align: middle;\n",
       "    }\n",
       "\n",
       "    .dataframe tbody tr th {\n",
       "        vertical-align: top;\n",
       "    }\n",
       "\n",
       "    .dataframe thead th {\n",
       "        text-align: right;\n",
       "    }\n",
       "</style>\n",
       "<table border=\"1\" class=\"dataframe\">\n",
       "  <thead>\n",
       "    <tr style=\"text-align: right;\">\n",
       "      <th></th>\n",
       "      <th>text</th>\n",
       "      <th>hd</th>\n",
       "      <th>cv</th>\n",
       "      <th>vo</th>\n",
       "      <th>contains_url</th>\n",
       "    </tr>\n",
       "  </thead>\n",
       "  <tbody>\n",
       "    <tr>\n",
       "      <th>0</th>\n",
       "      <td>A talk on natural law.</td>\n",
       "      <td>0</td>\n",
       "      <td>0</td>\n",
       "      <td>0</td>\n",
       "      <td>False</td>\n",
       "    </tr>\n",
       "    <tr>\n",
       "      <th>1</th>\n",
       "      <td>Very nice! I tend to get tired of the constant...</td>\n",
       "      <td>0</td>\n",
       "      <td>0</td>\n",
       "      <td>0</td>\n",
       "      <td>False</td>\n",
       "    </tr>\n",
       "    <tr>\n",
       "      <th>2</th>\n",
       "      <td>Watch today.</td>\n",
       "      <td>0</td>\n",
       "      <td>0</td>\n",
       "      <td>0</td>\n",
       "      <td>False</td>\n",
       "    </tr>\n",
       "    <tr>\n",
       "      <th>3</th>\n",
       "      <td>\" Thinking Venues \" First Color Layer blocking...</td>\n",
       "      <td>0</td>\n",
       "      <td>0</td>\n",
       "      <td>0</td>\n",
       "      <td>False</td>\n",
       "    </tr>\n",
       "    <tr>\n",
       "      <th>4</th>\n",
       "      <td>What about death penalty for perpetrators  and...</td>\n",
       "      <td>0</td>\n",
       "      <td>0</td>\n",
       "      <td>0</td>\n",
       "      <td>False</td>\n",
       "    </tr>\n",
       "    <tr>\n",
       "      <th>5</th>\n",
       "      <td>You have insecurities? Fuck you</td>\n",
       "      <td>0</td>\n",
       "      <td>0</td>\n",
       "      <td>0</td>\n",
       "      <td>False</td>\n",
       "    </tr>\n",
       "    <tr>\n",
       "      <th>6</th>\n",
       "      <td>Powerful Truths About Donald Trump the Media D...</td>\n",
       "      <td>0</td>\n",
       "      <td>0</td>\n",
       "      <td>0</td>\n",
       "      <td>False</td>\n",
       "    </tr>\n",
       "    <tr>\n",
       "      <th>7</th>\n",
       "      <td>Just saw an Oreo cookie commercial. Drool.</td>\n",
       "      <td>0</td>\n",
       "      <td>0</td>\n",
       "      <td>0</td>\n",
       "      <td>False</td>\n",
       "    </tr>\n",
       "    <tr>\n",
       "      <th>8</th>\n",
       "      <td>I bet a neural net with half a dozen nodes co...</td>\n",
       "      <td>0</td>\n",
       "      <td>0</td>\n",
       "      <td>0</td>\n",
       "      <td>False</td>\n",
       "    </tr>\n",
       "    <tr>\n",
       "      <th>9</th>\n",
       "      <td>Country by country, the 'Prague Spring' that w...</td>\n",
       "      <td>0</td>\n",
       "      <td>0</td>\n",
       "      <td>0</td>\n",
       "      <td>False</td>\n",
       "    </tr>\n",
       "  </tbody>\n",
       "</table>\n",
       "</div>"
      ],
      "text/plain": [
       "                                                text  hd  cv  vo  contains_url\n",
       "0                             A talk on natural law.   0   0   0         False\n",
       "1  Very nice! I tend to get tired of the constant...   0   0   0         False\n",
       "2                                      Watch today.    0   0   0         False\n",
       "3  \" Thinking Venues \" First Color Layer blocking...   0   0   0         False\n",
       "4  What about death penalty for perpetrators  and...   0   0   0         False\n",
       "5                   You have insecurities? Fuck you    0   0   0         False\n",
       "6  Powerful Truths About Donald Trump the Media D...   0   0   0         False\n",
       "7         Just saw an Oreo cookie commercial. Drool.   0   0   0         False\n",
       "8   I bet a neural net with half a dozen nodes co...   0   0   0         False\n",
       "9  Country by country, the 'Prague Spring' that w...   0   0   0         False"
      ]
     },
     "execution_count": 29,
     "metadata": {},
     "output_type": "execute_result"
    }
   ],
   "source": [
    "test_df.head(10)"
   ]
  },
  {
   "cell_type": "markdown",
   "metadata": {},
   "source": [
    "# Emoji Removal"
   ]
  },
  {
   "cell_type": "code",
   "execution_count": 30,
   "metadata": {},
   "outputs": [
    {
     "data": {
      "text/html": [
       "<div>\n",
       "<style scoped>\n",
       "    .dataframe tbody tr th:only-of-type {\n",
       "        vertical-align: middle;\n",
       "    }\n",
       "\n",
       "    .dataframe tbody tr th {\n",
       "        vertical-align: top;\n",
       "    }\n",
       "\n",
       "    .dataframe thead th {\n",
       "        text-align: right;\n",
       "    }\n",
       "</style>\n",
       "<table border=\"1\" class=\"dataframe\">\n",
       "  <thead>\n",
       "    <tr style=\"text-align: right;\">\n",
       "      <th></th>\n",
       "      <th>text</th>\n",
       "      <th>hd</th>\n",
       "      <th>cv</th>\n",
       "      <th>vo</th>\n",
       "      <th>label</th>\n",
       "    </tr>\n",
       "  </thead>\n",
       "  <tbody>\n",
       "    <tr>\n",
       "      <th>0</th>\n",
       "      <td>He most likely converted to islam due to his n...</td>\n",
       "      <td>0</td>\n",
       "      <td>0</td>\n",
       "      <td>0</td>\n",
       "      <td>0</td>\n",
       "    </tr>\n",
       "    <tr>\n",
       "      <th>1</th>\n",
       "      <td>So Ford lied about being a psychologist. Recor...</td>\n",
       "      <td>0</td>\n",
       "      <td>0</td>\n",
       "      <td>0</td>\n",
       "      <td>0</td>\n",
       "    </tr>\n",
       "    <tr>\n",
       "      <th>2</th>\n",
       "      <td>Jobs. Education. Ending abuse of Nation. CA43.</td>\n",
       "      <td>0</td>\n",
       "      <td>0</td>\n",
       "      <td>0</td>\n",
       "      <td>0</td>\n",
       "    </tr>\n",
       "    <tr>\n",
       "      <th>3</th>\n",
       "      <td>I share a lot of your values, &amp; like many who ...</td>\n",
       "      <td>0</td>\n",
       "      <td>0</td>\n",
       "      <td>0</td>\n",
       "      <td>0</td>\n",
       "    </tr>\n",
       "    <tr>\n",
       "      <th>4</th>\n",
       "      <td>I am so ready to get back to blogging!  recipe...</td>\n",
       "      <td>0</td>\n",
       "      <td>0</td>\n",
       "      <td>0</td>\n",
       "      <td>0</td>\n",
       "    </tr>\n",
       "    <tr>\n",
       "      <th>5</th>\n",
       "      <td>taking a look at new opportunity called FX Pro...</td>\n",
       "      <td>0</td>\n",
       "      <td>0</td>\n",
       "      <td>0</td>\n",
       "      <td>0</td>\n",
       "    </tr>\n",
       "    <tr>\n",
       "      <th>6</th>\n",
       "      <td>Reflecting back when I was in school with Spec...</td>\n",
       "      <td>0</td>\n",
       "      <td>0</td>\n",
       "      <td>0</td>\n",
       "      <td>0</td>\n",
       "    </tr>\n",
       "    <tr>\n",
       "      <th>7</th>\n",
       "      <td>Let's be honest everyone, last year there were...</td>\n",
       "      <td>0</td>\n",
       "      <td>0</td>\n",
       "      <td>0</td>\n",
       "      <td>0</td>\n",
       "    </tr>\n",
       "    <tr>\n",
       "      <th>8</th>\n",
       "      <td>2007 Nuke plant in Syria</td>\n",
       "      <td>0</td>\n",
       "      <td>0</td>\n",
       "      <td>0</td>\n",
       "      <td>0</td>\n",
       "    </tr>\n",
       "    <tr>\n",
       "      <th>9</th>\n",
       "      <td>NBC's Chuck Todd Thinks He's Figured It All Ou...</td>\n",
       "      <td>0</td>\n",
       "      <td>0</td>\n",
       "      <td>0</td>\n",
       "      <td>0</td>\n",
       "    </tr>\n",
       "  </tbody>\n",
       "</table>\n",
       "</div>"
      ],
      "text/plain": [
       "                                                text  hd  cv  vo  label\n",
       "0  He most likely converted to islam due to his n...   0   0   0      0\n",
       "1  So Ford lied about being a psychologist. Recor...   0   0   0      0\n",
       "2     Jobs. Education. Ending abuse of Nation. CA43.   0   0   0      0\n",
       "3  I share a lot of your values, & like many who ...   0   0   0      0\n",
       "4  I am so ready to get back to blogging!  recipe...   0   0   0      0\n",
       "5  taking a look at new opportunity called FX Pro...   0   0   0      0\n",
       "6  Reflecting back when I was in school with Spec...   0   0   0      0\n",
       "7  Let's be honest everyone, last year there were...   0   0   0      0\n",
       "8                          2007 Nuke plant in Syria    0   0   0      0\n",
       "9  NBC's Chuck Todd Thinks He's Figured It All Ou...   0   0   0      0"
      ]
     },
     "execution_count": 30,
     "metadata": {},
     "output_type": "execute_result"
    }
   ],
   "source": [
    "#emoji removal\n",
    "import pandas as pd\n",
    "import emoji\n",
    "\n",
    "# Load dataset from CSV file\n",
    "#df = pd.read_csv('your_dataset.csv')\n",
    "\n",
    "# Define a function to replace emoji codes with descriptive text\n",
    "def replace_emojis(text):\n",
    "    return emoji.demojize(text)\n",
    "\n",
    "# Replace emoji codes in a specific column (e.g., 'text_column')\n",
    "train_df['text'] = train_df['text'].apply(replace_emojis)\n",
    "test_df['text'] = test_df['text'].apply(replace_emojis)\n",
    "\n",
    "# Save the updated dataset to a new CSV file\n",
    "#df.to_csv('updated_dataset.csv', index=False)\n",
    "train_df.head(10)"
   ]
  },
  {
   "cell_type": "code",
   "execution_count": 31,
   "metadata": {},
   "outputs": [
    {
     "name": "stdout",
     "output_type": "stream",
     "text": [
      "NBC's Chuck Todd Thinks He's Figured It All Out :grinning_squinting_face: \n"
     ]
    }
   ],
   "source": [
    "specific_text = train_df.loc[9, 'text']\n",
    "print(specific_text) "
   ]
  },
  {
   "cell_type": "code",
   "execution_count": 32,
   "metadata": {},
   "outputs": [
    {
     "name": "stdout",
     "output_type": "stream",
     "text": [
      ":trophy: Precious Metals: \n"
     ]
    }
   ],
   "source": [
    "specific_text = test_df.loc[16, 'text']\n",
    "print(specific_text) "
   ]
  },
  {
   "cell_type": "code",
   "execution_count": 33,
   "metadata": {},
   "outputs": [
    {
     "name": "stdout",
     "output_type": "stream",
     "text": [
      "NBC's Chuck Todd Thinks He's Figured It All Out :grinning  squinting  face: \n"
     ]
    }
   ],
   "source": [
    "train_df['text'] = train_df['text'].str.replace('_', '  ', regex=True) \n",
    "specific_text = train_df.loc[9, 'text']\n",
    "print(specific_text) "
   ]
  },
  {
   "cell_type": "markdown",
   "metadata": {},
   "source": [
    "# Abbreviation Treatment"
   ]
  },
  {
   "cell_type": "code",
   "execution_count": 34,
   "metadata": {},
   "outputs": [
    {
     "name": "stdout",
     "output_type": "stream",
     "text": [
      "                                                    text  hd  cv  vo  label\n",
      "0      He most likely converted to islam due to his n...   0   0   0      0\n",
      "1      So Ford lied about being a psychologist. Recor...   0   0   0      0\n",
      "2      Jobs. Education. Ending abuse of Nation. Calif...   0   0   0      0\n",
      "3      I share a lot of your values, & like many who ...   0   0   0      0\n",
      "4      I am so ready to get back to blogging!  recipe...   0   0   0      0\n",
      "...                                                  ...  ..  ..  ..    ...\n",
      "22031  I'm a fan of western civilization, and one bed...   0   0   0      0\n",
      "22032  Or ... is she saying that Muslims don't know h...   0   0   0      0\n",
      "22033  Thank you to all my followers that follow me e...   0   0   0      0\n",
      "22034                                  Wednesday music.    0   0   0      0\n",
      "22035                   This is a really Big Surprise!     0   0   0      0\n",
      "\n",
      "[22036 rows x 5 columns]\n"
     ]
    }
   ],
   "source": [
    "import pandas as pd\n",
    "chat_words = {\n",
    "    'AFAIK': 'As Far As I Know',\n",
    "    'CA43': 'Californias 43rd congressional district',\n",
    "    'FX': 'Foreign Exchange',\n",
    "    'A.D.D': 'Attention Deficit Disorder',\n",
    "    'NBC': 'National Broadcasting Company',\n",
    "    'FB': 'Facebook',          \n",
    "    'AFK': 'Away From Keyboard',\n",
    "    'ASAP': 'As Soon As Possible',         \n",
    "    'ATK': 'At The Keyboard',\n",
    "    'ATM': 'At The Moment',\n",
    "    'A3': 'Anytime, Anywhere, Anyplace',\n",
    "    'BAK': 'Back At Keyboard',\n",
    "    'BBL': 'Be Back Later',\n",
    "    'BBS': 'Be Back Soon',\n",
    "    'BFN': 'Bye For Now',\n",
    "    'B4N': 'Bye For Now',\n",
    "    'BRB': 'Be Right Back',\n",
    "    'BRT': 'Be Right There',\n",
    "    'BTW': 'By The Way',\n",
    "    'B4': 'Before',\n",
    "    'CU': 'See You',\n",
    "    'CUL8R': 'See You Later',\n",
    "    'CYA': 'See You',\n",
    "    'FAQ': 'Frequently Asked Questions',\n",
    "    'FC': 'Fingers Crossed',\n",
    "    'FWIW': 'For What Its Worth',\n",
    "    'FYI': 'For Your Information',\n",
    "    'GAL': 'Get A Life',\n",
    "    'GG': 'Good Game',\n",
    "    'GN': 'Good Night',\n",
    "    'GMTA': 'Great Minds Think Alike',\n",
    "    'GR8': 'Great!',\n",
    "    'G9': 'Genius',\n",
    "    'IC': 'I See',\n",
    "    'ICQ': 'I Seek you (also a chat program)',\n",
    "    'ILU': 'I Love You',\n",
    "    'IMHO': 'In My Honest/Humble Opinion',\n",
    "    'IMO': 'In My Opinion',\n",
    "    'IOW': 'In Other Words',\n",
    "    'IRL': 'In Real Life',\n",
    "    'KISS': 'Keep It Simple, Stupid',\n",
    "    'LDR': 'Long Distance Relationship',\n",
    "    'LMAO': 'Laugh My A.. Off',\n",
    "    'LOL': 'Laughing Out Loud',\n",
    "    'LTNS': 'Long Time No See',\n",
    "    'L8R': 'Later',\n",
    "    'MTE': 'My Thoughts Exactly',\n",
    "    'M8': 'Mate',\n",
    "    'NRN': 'No Reply Necessary',\n",
    "    'OIC': 'Oh I See',\n",
    "    'PITA': 'Pain In The A..',\n",
    "    'PRT': 'Party',\n",
    "    'PRW': 'Parents Are Watching',\n",
    "    'QPSA': 'Que Pasa?',\n",
    "    'ROFL': 'Rolling On The Floor Laughing',\n",
    "    'ROFLOL': 'Rolling On The Floor Laughing Out Loud',\n",
    "    'ROTFLMAO': 'Rolling On The Floor Laughing My A.. Off',\n",
    "    'SK8': 'Skate',\n",
    "    'STATS': 'Your sex and age',\n",
    "    'ASL': 'Age, Sex, Location',\n",
    "    'THX': 'Thank You',\n",
    "    'TTFN': 'Ta-Ta For Now!',\n",
    "    'TTYL': 'Talk To You Later',\n",
    "    'U': 'You',\n",
    "    'U2': 'You Too',\n",
    "    'U4E': 'Yours For Ever',\n",
    "    'WB': 'Welcome Back',\n",
    "    'WTF': 'What The Fuck',\n",
    "    'WTG': 'Way To Go!',\n",
    "    'WUF': 'Where Are You From?',\n",
    "    'W8': 'Wait...',\n",
    "    '7K': 'Sick'\n",
    "}\n",
    "\n",
    "# Function to replace chat words in text\n",
    "def replace_chat_words(text):\n",
    "    for word, full_form in chat_words.items():\n",
    "        text = text.replace(word, full_form)\n",
    "    return text\n",
    "\n",
    "# Applying the function to the 'text' column of the DataFrame\n",
    "train_df['text'] = train_df['text'].apply(replace_chat_words)\n",
    "\n",
    "# Display the updated DataFrame\n",
    "print(train_df)"
   ]
  },
  {
   "cell_type": "markdown",
   "metadata": {},
   "source": [
    "# Lowercasing"
   ]
  },
  {
   "cell_type": "code",
   "execution_count": 35,
   "metadata": {},
   "outputs": [
    {
     "data": {
      "text/html": [
       "<div>\n",
       "<style scoped>\n",
       "    .dataframe tbody tr th:only-of-type {\n",
       "        vertical-align: middle;\n",
       "    }\n",
       "\n",
       "    .dataframe tbody tr th {\n",
       "        vertical-align: top;\n",
       "    }\n",
       "\n",
       "    .dataframe thead th {\n",
       "        text-align: right;\n",
       "    }\n",
       "</style>\n",
       "<table border=\"1\" class=\"dataframe\">\n",
       "  <thead>\n",
       "    <tr style=\"text-align: right;\">\n",
       "      <th></th>\n",
       "      <th>text</th>\n",
       "      <th>hd</th>\n",
       "      <th>cv</th>\n",
       "      <th>vo</th>\n",
       "      <th>label</th>\n",
       "    </tr>\n",
       "  </thead>\n",
       "  <tbody>\n",
       "    <tr>\n",
       "      <th>22031</th>\n",
       "      <td>i'm a fan of western civilization, and one bed...</td>\n",
       "      <td>0</td>\n",
       "      <td>0</td>\n",
       "      <td>0</td>\n",
       "      <td>0</td>\n",
       "    </tr>\n",
       "    <tr>\n",
       "      <th>22032</th>\n",
       "      <td>or ... is she saying that muslims don't know h...</td>\n",
       "      <td>0</td>\n",
       "      <td>0</td>\n",
       "      <td>0</td>\n",
       "      <td>0</td>\n",
       "    </tr>\n",
       "    <tr>\n",
       "      <th>22033</th>\n",
       "      <td>thank you to all my followers that follow me e...</td>\n",
       "      <td>0</td>\n",
       "      <td>0</td>\n",
       "      <td>0</td>\n",
       "      <td>0</td>\n",
       "    </tr>\n",
       "    <tr>\n",
       "      <th>22034</th>\n",
       "      <td>wednesday music.</td>\n",
       "      <td>0</td>\n",
       "      <td>0</td>\n",
       "      <td>0</td>\n",
       "      <td>0</td>\n",
       "    </tr>\n",
       "    <tr>\n",
       "      <th>22035</th>\n",
       "      <td>this is a really big surprise!</td>\n",
       "      <td>0</td>\n",
       "      <td>0</td>\n",
       "      <td>0</td>\n",
       "      <td>0</td>\n",
       "    </tr>\n",
       "  </tbody>\n",
       "</table>\n",
       "</div>"
      ],
      "text/plain": [
       "                                                    text  hd  cv  vo  label\n",
       "22031  i'm a fan of western civilization, and one bed...   0   0   0      0\n",
       "22032  or ... is she saying that muslims don't know h...   0   0   0      0\n",
       "22033  thank you to all my followers that follow me e...   0   0   0      0\n",
       "22034                                  wednesday music.    0   0   0      0\n",
       "22035                   this is a really big surprise!     0   0   0      0"
      ]
     },
     "execution_count": 35,
     "metadata": {},
     "output_type": "execute_result"
    }
   ],
   "source": [
    "train_df['text']=train_df['text'].str.lower()\n",
    "train_df.tail()\n"
   ]
  },
  {
   "cell_type": "code",
   "execution_count": 36,
   "metadata": {},
   "outputs": [
    {
     "name": "stdout",
     "output_type": "stream",
     "text": [
      "text     260\n",
      "hd         0\n",
      "cv         0\n",
      "vo         0\n",
      "label      0\n",
      "dtype: int64\n"
     ]
    }
   ],
   "source": [
    "import pandas as pd\n",
    "import numpy as np\n",
    "\n",
    "train_df.replace(r'^\\s*$', np.nan, regex=True, inplace=True)\n",
    "null_counts = train_df.isnull().sum()\n",
    "\n",
    "print(null_counts)"
   ]
  },
  {
   "cell_type": "code",
   "execution_count": 37,
   "metadata": {},
   "outputs": [
    {
     "name": "stdout",
     "output_type": "stream",
     "text": [
      "<bound method NDFrame.head of                                                     text  hd  cv  vo  label\n",
      "0      he most likely converted to islam due to his n...   0   0   0      0\n",
      "1      so ford lied about being a psychologist record...   0   0   0      0\n",
      "2      jobs education ending abuse of nation californ...   0   0   0      0\n",
      "3      i share a lot of your values  like many who do...   0   0   0      0\n",
      "4      i am so ready to get back to blogging  recipes...   0   0   0      0\n",
      "...                                                  ...  ..  ..  ..    ...\n",
      "22031  im a fan of western civilization and one bedro...   0   0   0      0\n",
      "22032  or  is she saying that muslims dont know how t...   0   0   0      0\n",
      "22033  thank you to all my followers that follow me e...   0   0   0      0\n",
      "22034                                   wednesday music    0   0   0      0\n",
      "22035                    this is a really big surprise     0   0   0      0\n",
      "\n",
      "[21776 rows x 5 columns]>\n"
     ]
    },
    {
     "name": "stderr",
     "output_type": "stream",
     "text": [
      "C:\\Users\\BHARGAVI\\AppData\\Local\\Temp\\ipykernel_20376\\4030388125.py:14: FutureWarning: DataFrame.applymap has been deprecated. Use DataFrame.map instead.\n",
      "  train_df = train_df.applymap( remove_punctuation_and_special_chars)\n"
     ]
    }
   ],
   "source": [
    "train_df = train_df.dropna().loc[(train_df['text'] != '[deleted]') & (train_df['text'] != '[removed]')]\n",
    "# Remove punctuations and symbols\n",
    "def remove_punctuation_and_special_chars(text):\n",
    "    if isinstance(text, str):\n",
    "        # Remove punctuations\n",
    "        text = text.translate(str.maketrans('', '', string.punctuation))\n",
    "        # Remove specific unwanted characters\n",
    "        special_chars = ['Â', 'â€Â', 'â€™']\n",
    "        for char in special_chars:\n",
    "            text = text.replace(char, '')\n",
    "    return text\n",
    "\n",
    "# Apply the function to all string cells in the DataFrame\n",
    "train_df = train_df.applymap( remove_punctuation_and_special_chars)\n",
    "print(train_df.head)"
   ]
  },
  {
   "cell_type": "code",
   "execution_count": 38,
   "metadata": {},
   "outputs": [],
   "source": [
    "cleaned_train_file_path = r'C:\\Users\\BHARGAVI\\Downloads\\project_data\\ghc_train.csv'\n",
    "cleaned_test_file_path = r'C:\\Users\\BHARGAVI\\Downloads\\project_data\\ghc_test.csv'\n",
    "\n",
    "train_df.to_csv(cleaned_train_file_path, sep=',', index=False)\n",
    "test_df.to_csv(cleaned_test_file_path, sep=',', index=False)\n"
   ]
  },
  {
   "cell_type": "markdown",
   "metadata": {},
   "source": [
    "# Tokenization"
   ]
  },
  {
   "cell_type": "markdown",
   "metadata": {},
   "source": [
    "Tokenization is the process of breaking down a text or a sequence of characters into smaller units called tokens. These tokens can be words, phrases, symbols, or other meaningful elements depending on the context and the task at hand. Tokenization is a fundamental step in natural language processing (NLP) and text mining.\n",
    "\n"
   ]
  },
  {
   "cell_type": "code",
   "execution_count": 39,
   "metadata": {},
   "outputs": [],
   "source": [
    "import pandas as pd\n",
    "from sklearn.preprocessing import StandardScaler\n",
    "# Load the TSV files\n",
    "train_file_path = r'C:\\Users\\BHARGAVI\\Downloads\\project_data\\ghc_train.tsv'\n",
    "test_file_path = r'C:\\Users\\BHARGAVI\\Downloads\\project_data\\ghc_test.tsv'\n",
    "train_data = pd.read_csv(train_file_path, sep='\\t')\n",
    "test_data = pd.read_csv(test_file_path, sep='\\t')"
   ]
  },
  {
   "cell_type": "markdown",
   "metadata": {},
   "source": [
    "# Whitespace Tokenization"
   ]
  },
  {
   "cell_type": "markdown",
   "metadata": {},
   "source": [
    "Whitespace tokenization is a straightforward method of tokenization where text is segmented into tokens based on whitespace characters such as spaces, tabs, and line breaks.\n",
    "\n"
   ]
  },
  {
   "cell_type": "code",
   "execution_count": 41,
   "metadata": {},
   "outputs": [
    {
     "data": {
      "text/html": [
       "<div>\n",
       "<style scoped>\n",
       "    .dataframe tbody tr th:only-of-type {\n",
       "        vertical-align: middle;\n",
       "    }\n",
       "\n",
       "    .dataframe tbody tr th {\n",
       "        vertical-align: top;\n",
       "    }\n",
       "\n",
       "    .dataframe thead th {\n",
       "        text-align: right;\n",
       "    }\n",
       "</style>\n",
       "<table border=\"1\" class=\"dataframe\">\n",
       "  <thead>\n",
       "    <tr style=\"text-align: right;\">\n",
       "      <th></th>\n",
       "      <th>text</th>\n",
       "      <th>hd</th>\n",
       "      <th>cv</th>\n",
       "      <th>vo</th>\n",
       "      <th>tokens</th>\n",
       "    </tr>\n",
       "  </thead>\n",
       "  <tbody>\n",
       "    <tr>\n",
       "      <th>0</th>\n",
       "      <td>He most likely converted to islam due to his n...</td>\n",
       "      <td>0</td>\n",
       "      <td>0</td>\n",
       "      <td>0</td>\n",
       "      <td>[He, most, likely, converted, to, islam, due, ...</td>\n",
       "    </tr>\n",
       "    <tr>\n",
       "      <th>1</th>\n",
       "      <td>So Ford lied about being a psychologist. Recor...</td>\n",
       "      <td>0</td>\n",
       "      <td>0</td>\n",
       "      <td>0</td>\n",
       "      <td>[So, Ford, lied, about, being, a, psychologist...</td>\n",
       "    </tr>\n",
       "    <tr>\n",
       "      <th>2</th>\n",
       "      <td>Jobs. Education. Ending abuse of Nation. CA43.</td>\n",
       "      <td>0</td>\n",
       "      <td>0</td>\n",
       "      <td>0</td>\n",
       "      <td>[Jobs., Education., Ending, abuse, of, Nation....</td>\n",
       "    </tr>\n",
       "    <tr>\n",
       "      <th>3</th>\n",
       "      <td>I share a lot of your values, &amp; like many who ...</td>\n",
       "      <td>0</td>\n",
       "      <td>0</td>\n",
       "      <td>0</td>\n",
       "      <td>[I, share, a, lot, of, your, values,, &amp;, like,...</td>\n",
       "    </tr>\n",
       "    <tr>\n",
       "      <th>4</th>\n",
       "      <td>I am so ready to get back to blogging! www.ben...</td>\n",
       "      <td>0</td>\n",
       "      <td>0</td>\n",
       "      <td>0</td>\n",
       "      <td>[I, am, so, ready, to, get, back, to, blogging...</td>\n",
       "    </tr>\n",
       "  </tbody>\n",
       "</table>\n",
       "</div>"
      ],
      "text/plain": [
       "                                                text  hd  cv  vo  \\\n",
       "0  He most likely converted to islam due to his n...   0   0   0   \n",
       "1  So Ford lied about being a psychologist. Recor...   0   0   0   \n",
       "2     Jobs. Education. Ending abuse of Nation. CA43.   0   0   0   \n",
       "3  I share a lot of your values, & like many who ...   0   0   0   \n",
       "4  I am so ready to get back to blogging! www.ben...   0   0   0   \n",
       "\n",
       "                                              tokens  \n",
       "0  [He, most, likely, converted, to, islam, due, ...  \n",
       "1  [So, Ford, lied, about, being, a, psychologist...  \n",
       "2  [Jobs., Education., Ending, abuse, of, Nation....  \n",
       "3  [I, share, a, lot, of, your, values,, &, like,...  \n",
       "4  [I, am, so, ready, to, get, back, to, blogging...  "
      ]
     },
     "execution_count": 41,
     "metadata": {},
     "output_type": "execute_result"
    }
   ],
   "source": [
    "#whitespacetokenisation\n",
    "from nltk.tokenize import WhitespaceTokenizer\n",
    "\n",
    "# Initialize the whitespace tokenizer\n",
    "whitespace_tokenizer = WhitespaceTokenizer()\n",
    "def  whitespace_tokenize(text):\n",
    "    return whitespace_tokenizer.tokenize(text)\n",
    "train_data['tokens'] = train_data['text'].apply(whitespace_tokenize)\n",
    "train_data.head()"
   ]
  },
  {
   "cell_type": "markdown",
   "metadata": {},
   "source": [
    "# Finalized Embedding Technique - TFIDF"
   ]
  },
  {
   "cell_type": "markdown",
   "metadata": {},
   "source": [
    "TF-IDF (Term Frequency-Inverse Document Frequency) is a technique used to represent the importance of a word in a document relative to a collection of documents. It is commonly used in information retrieval and text mining tasks. While TF-IDF is primarily used for feature extraction and weighting in traditional machine learning models, it can also be considered as a form of embedding in the context of text representation.\n",
    "\n"
   ]
  },
  {
   "cell_type": "code",
   "execution_count": 42,
   "metadata": {},
   "outputs": [
    {
     "name": "stdout",
     "output_type": "stream",
     "text": [
      "  (0, 2065)\t0.17896439019209595\n",
      "  (0, 2879)\t0.22706098159854587\n",
      "  (0, 2606)\t0.3060527671205744\n",
      "  (0, 4503)\t0.1829744825004118\n",
      "  (0, 2342)\t0.2700247838534396\n",
      "  (0, 1400)\t0.29776582983772887\n",
      "  (0, 2126)\t0.1888513225346217\n",
      "  (0, 2951)\t0.3260085198783877\n",
      "  (0, 492)\t0.2114028470497365\n",
      "  (0, 1773)\t0.12407978854649925\n",
      "  (0, 2343)\t0.31046416877256344\n",
      "  (0, 1332)\t0.3892391747212451\n",
      "  (0, 2905)\t0.3892391747212451\n",
      "  (0, 4785)\t0.16202969408825163\n",
      "  (1, 4503)\t0.09912988324438424\n",
      "  (1, 492)\t0.22906297380044385\n",
      "  (1, 4785)\t0.17556529672989274\n",
      "  (1, 4078)\t0.18314192526077977\n",
      "  (1, 1779)\t0.35822709339486697\n",
      "  (1, 2596)\t0.38347050536924204\n",
      "  (1, 89)\t0.1845526087907791\n",
      "  (1, 3598)\t0.37005656618250765\n",
      "  (1, 3892)\t0.3286760103770535\n",
      "  (1, 3958)\t0.23702459173372586\n",
      "  (1, 2420)\t0.18222373574691075\n",
      "  :\t:\n",
      "  (21769, 2217)\t0.09507413429294405\n",
      "  (21769, 230)\t0.13865645964597748\n",
      "  (21769, 1760)\t0.17639169516315656\n",
      "  (21769, 1055)\t0.1395559001832773\n",
      "  (21769, 496)\t0.14436409246709905\n",
      "  (21769, 2348)\t0.14891664946755298\n",
      "  (21769, 2542)\t0.17100431146852005\n",
      "  (21769, 710)\t0.21009916959446007\n",
      "  (21769, 3179)\t0.15109884153829767\n",
      "  (21769, 2598)\t0.14297225175463985\n",
      "  (21769, 4418)\t0.1539512419167858\n",
      "  (21769, 1758)\t0.15226219500493088\n",
      "  (21769, 2130)\t0.3072718462359003\n",
      "  (21769, 516)\t0.14058235110382267\n",
      "  (21769, 4677)\t0.15095699217361178\n",
      "  (21769, 177)\t0.16553213997710367\n",
      "  (21769, 2245)\t0.17389731874998035\n",
      "  (21769, 3100)\t0.2013238544340766\n",
      "  (21770, 2916)\t0.630496091615857\n",
      "  (21770, 4811)\t0.7761924236019886\n",
      "  (21771, 2340)\t0.21350039311936056\n",
      "  (21771, 3581)\t0.440015472866383\n",
      "  (21771, 4451)\t0.2657119695127845\n",
      "  (21771, 524)\t0.4916098432207747\n",
      "  (21771, 4309)\t0.6697170126868022\n"
     ]
    }
   ],
   "source": [
    "# File paths\n",
    "train_file = r'C:\\Users\\BHARGAVI\\Downloads\\project_data\\ghc_train.csv'\n",
    "test_file = r'C:\\Users\\BHARGAVI\\Downloads\\project_data\\ghc_test.csv'\n",
    "# Load CSV files into pandas DataFrames\n",
    "train_df = pd.read_csv(train_file)\n",
    "test_df = pd.read_csv(test_file)\n",
    "import pandas as pd\n",
    "from sklearn.feature_extraction.text import TfidfVectorizer\n",
    "\n",
    "train_df.dropna(subset=['text'], inplace=True)\n",
    "\n",
    "\n",
    "\n",
    "def tfidf_embedding(text):\n",
    "    vectorizer = TfidfVectorizer(max_features=5000)\n",
    "    embeddings = vectorizer.fit_transform(text)\n",
    "    return embeddings\n",
    "\n",
    "text = train_df['text'].values\n",
    "embeddings_tfidf = tfidf_embedding(text)\n",
    "print(embeddings_tfidf)"
   ]
  },
  {
   "cell_type": "code",
   "execution_count": 43,
   "metadata": {},
   "outputs": [
    {
     "name": "stdout",
     "output_type": "stream",
     "text": [
      "Accuracy: 0.9130\n",
      "Precision: 0.9109\n",
      "Recall: 0.9130\n",
      "F1 Score: 0.8769\n"
     ]
    }
   ],
   "source": [
    "import pandas as pd\n",
    "from sklearn.feature_extraction.text import TfidfVectorizer\n",
    "from sklearn.model_selection import train_test_split\n",
    "from sklearn.ensemble import RandomForestClassifier\n",
    "from sklearn.metrics import accuracy_score, precision_score, recall_score, f1_score\n",
    "\n",
    "#Step 1: TF-IDF Encoding\n",
    "def tfidf_embedding(text):\n",
    "    vectorizer = TfidfVectorizer(max_features=6000)\n",
    "    embeddings = vectorizer.fit_transform(text)\n",
    "    return embeddings\n",
    "\n",
    "text = train_df['text'].values\n",
    "label = train_df['hd'].values\n",
    "\n",
    "embeddings_tfidf = tfidf_embedding(text)\n",
    "\n",
    "# Step 2: Split data into training and testing sets\n",
    "X_train, X_test, y_train, y_test = train_test_split(embeddings_tfidf, label, test_size=0.2, random_state=42)\n",
    "\n",
    "# Step 3: Train Random Forest model\n",
    "rf_model = RandomForestClassifier(random_state=42)\n",
    "rf_model.fit(X_train, y_train)\n",
    "\n",
    "# Step 4: Predictions and Evaluation\n",
    "y_pred = rf_model.predict(X_test)\n",
    "\n",
    "# Calculate metrics\n",
    "accuracy = accuracy_score(y_test, y_pred)\n",
    "precision = precision_score(y_test, y_pred, average='weighted')\n",
    "recall = recall_score(y_test, y_pred, average='weighted')\n",
    "f1 = f1_score(y_test, y_pred, average='weighted')\n",
    "\n",
    "# Print metrics\n",
    "print(f\"Accuracy: {accuracy:.4f}\")\n",
    "print(f\"Precision: {precision:.4f}\")\n",
    "print(f\"Recall: {recall:.4f}\")\n",
    "print(f\"F1 Score: {f1:.4f}\")"
   ]
  },
  {
   "cell_type": "markdown",
   "metadata": {},
   "source": [
    "ADVANTAGES: 1.High Accuracy, 2.Dimensionality Reduction, 3.Semantic Representation, 4.Contextual Information, 5.Natural Language Understanding, 6.Efficient Computation."
   ]
  },
  {
   "cell_type": "markdown",
   "metadata": {},
   "source": [
    "# Random OverSampling"
   ]
  },
  {
   "cell_type": "markdown",
   "metadata": {},
   "source": [
    "Random oversampling is a technique used in imbalanced classification problems to address the issue where one class (minority class) is underrepresented compared to another class (majority class). In such cases, traditional machine learning models might be biased towards the majority class, leading to poor performance on predicting the minority class.\n",
    "\n"
   ]
  },
  {
   "cell_type": "code",
   "execution_count": 44,
   "metadata": {},
   "outputs": [
    {
     "data": {
      "text/plain": [
       "label\n",
       "0    19126\n",
       "1     2650\n",
       "Name: count, dtype: int64"
      ]
     },
     "execution_count": 44,
     "metadata": {},
     "output_type": "execute_result"
    }
   ],
   "source": [
    "# File paths\n",
    "train_file = r\"C:\\Users\\BHARGAVI\\Downloads\\project_data\\ghc_train.csv\"\n",
    "test_file = r\"C:\\Users\\BHARGAVI\\Downloads\\project_data\\ghc_test.csv\"\n",
    "\n",
    "# Load CSV files into pandas DataFrames\n",
    "df = pd.read_csv(train_file)\n",
    "df['label'].value_counts()"
   ]
  },
  {
   "cell_type": "code",
   "execution_count": 45,
   "metadata": {},
   "outputs": [
    {
     "data": {
      "text/plain": [
       "(19126, 5)"
      ]
     },
     "execution_count": 45,
     "metadata": {},
     "output_type": "execute_result"
    }
   ],
   "source": [
    "#class count\n",
    "count_class_0,count_class_1=df.label.value_counts()\n",
    "df_class_0=df[df['label']==0]\n",
    "df_class_1=df[df['label']==1]\n",
    "df_class_0.shape"
   ]
  },
  {
   "cell_type": "code",
   "execution_count": 46,
   "metadata": {},
   "outputs": [
    {
     "data": {
      "text/plain": [
       "(2650, 5)"
      ]
     },
     "execution_count": 46,
     "metadata": {},
     "output_type": "execute_result"
    }
   ],
   "source": [
    "df_class_1.shape"
   ]
  },
  {
   "cell_type": "code",
   "execution_count": 47,
   "metadata": {},
   "outputs": [
    {
     "data": {
      "text/plain": [
       "(38252, 5)"
      ]
     },
     "execution_count": 47,
     "metadata": {},
     "output_type": "execute_result"
    }
   ],
   "source": [
    "df_class_1_over=df_class_1.sample(count_class_0,replace=True)\n",
    "df_test_over = pd.concat([df_class_0,df_class_1_over],axis=0)\n",
    "df_test_over.shape\n"
   ]
  },
  {
   "cell_type": "code",
   "execution_count": 48,
   "metadata": {},
   "outputs": [
    {
     "name": "stdout",
     "output_type": "stream",
     "text": [
      "Random over Sampling:\n",
      "label\n",
      "0    19126\n",
      "1    19126\n",
      "Name: count, dtype: int64\n"
     ]
    }
   ],
   "source": [
    "print('Random over Sampling:')\n",
    "print(df_test_over.label.value_counts())"
   ]
  },
  {
   "cell_type": "code",
   "execution_count": 49,
   "metadata": {},
   "outputs": [
    {
     "name": "stdout",
     "output_type": "stream",
     "text": [
      "Random over sampling:\n",
      "label\n",
      "0    19126\n",
      "1    19126\n",
      "Name: count, dtype: int64\n"
     ]
    },
    {
     "data": {
      "image/png": "[encoded data removed]",
      "text/plain": [
       "<Figure size 800x600 with 1 Axes>"
      ]
     },
     "metadata": {},
     "output_type": "display_data"
    }
   ],
   "source": [
    "import pandas as pd\n",
    "import seaborn as sns\n",
    "import matplotlib.pyplot as plt\n",
    "\n",
    "# Print the value counts of the 'hd' column in df_test_under\n",
    "print('Random over sampling:')\n",
    "print(df_test_over['label'].value_counts())\n",
    "\n",
    "# Plot the distribution of classes\n",
    "plt.figure(figsize=(8, 6))\n",
    "sns.countplot(x='label', data=df_test_over)\n",
    "plt.title('Class Distribution After Random Over Sampling')\n",
    "plt.xlabel('Class')\n",
    "plt.ylabel('Count')\n",
    "plt.show()"
   ]
  },
  {
   "cell_type": "markdown",
   "metadata": {},
   "source": [
    "# Finalized Machine Learning Model - Gradient Boosting"
   ]
  },
  {
   "cell_type": "markdown",
   "metadata": {},
   "source": [
    "Gradient boosting is a powerful machine learning technique used for both regression and classification tasks. It belongs to the class of ensemble methods, which combine predictions from multiple individual models (often decision trees, in the case of gradient boosting) to produce a single, more accurate prediction.\n",
    "\n"
   ]
  },
  {
   "cell_type": "code",
   "execution_count": 50,
   "metadata": {},
   "outputs": [],
   "source": [
    "import pandas as pd\n",
    "# File paths\n",
    "train_file = r\"C:\\Users\\BHARGAVI\\Downloads\\project_data\\ghc_train.csv\"\n",
    "test_file = r\"C:\\Users\\BHARGAVI\\Downloads\\project_data\\ghc_test.csv\"\n",
    "\n",
    "# Load CSV files into pandas DataFrames\n",
    "train_df = pd.read_csv(train_file)"
   ]
  },
  {
   "cell_type": "code",
   "execution_count": 51,
   "metadata": {},
   "outputs": [],
   "source": [
    "import numpy as np\n",
    "import pandas as pd\n",
    "from sklearn.model_selection import train_test_split\n",
    "from sklearn.feature_extraction.text import TfidfVectorizer\n",
    "from sklearn.naive_bayes import MultinomialNB\n",
    "from sklearn.metrics import accuracy_score, classification_report, confusion_matrix\n",
    "from imblearn.over_sampling import RandomOverSampler\n",
    "\n",
    "#Drop rows with NaN in 'text' column\n",
    "train_df = train_df.dropna(subset=['text'])\n",
    "\n",
    "# Step 2: Split the data into X (features) and y (labels)\n",
    "X = train_df['text']\n",
    "y = train_df['label']"
   ]
  },
  {
   "cell_type": "code",
   "execution_count": 52,
   "metadata": {},
   "outputs": [],
   "source": [
    "X_train, X_test, y_train, y_test = train_test_split(X, y, test_size=0.2, random_state=42,stratify=y)\n",
    "\n",
    "# Initialize TfidfVectorizer with adjusted parameters\n",
    "tfidf_vectorizer = TfidfVectorizer(max_features=5000, ngram_range=(1, 2))\n",
    "\n",
    "# Fit and transform X_train (text data) using TfidfVectorizer\n",
    "X_train_tfidf = tfidf_vectorizer.fit_transform(X_train)\n",
    "\n",
    "# Transform X_test using the fitted TfidfVectorizer\n",
    "X_test_tfidf = tfidf_vectorizer.transform(X_test)\n",
    "\n",
    "# Balance the training data \n",
    "ros = RandomOverSampler(random_state=42)\n",
    "X_resampled, y_resampled= ros.fit_resample(X_train_tfidf, y_train)\n"
   ]
  },
  {
   "cell_type": "markdown",
   "metadata": {},
   "source": [
    "# Hypertuning of Gradient Boosting\n"
   ]
  },
  {
   "cell_type": "code",
   "execution_count": 53,
   "metadata": {},
   "outputs": [],
   "source": [
    "from sklearn.model_selection import GridSearchCV\n",
    "from sklearn.ensemble import GradientBoostingClassifier\n",
    "\n",
    "def train_best_gradient_boosting(X_resampled, y_resampled):\n",
    "    # Define the parameter grid for Gradient Boosting\n",
    "    param_grid = {\n",
    "        'n_estimators': [100],\n",
    "        'learning_rate': [0.1, 0.5],\n",
    "        'max_depth': [3, 5]\n",
    "    }\n",
    "    \n",
    "    # Create a Gradient Boosting model\n",
    "    model = GradientBoostingClassifier()\n",
    "    \n",
    "    # Perform hyperparameter tuning using GridSearchCV\n",
    "    grid_search = GridSearchCV(model, param_grid, cv=3, scoring='accuracy', n_jobs=-1)\n",
    "    grid_search.fit(X_resampled, y_resampled)\n",
    "    \n",
    "    # Get the best Gradient Boosting model\n",
    "    best_model = grid_search.best_estimator_\n",
    "    \n",
    "    return best_model\n",
    "\n",
    "# Example usage\n",
    "best_gradient_boosting_model = train_best_gradient_boosting(X_resampled, y_resampled)\n"
   ]
  },
  {
   "cell_type": "code",
   "execution_count": 54,
   "metadata": {},
   "outputs": [
    {
     "name": "stdout",
     "output_type": "stream",
     "text": [
      "===== Results for GradientBoosting =====\n",
      "Accuracy: 0.855\n",
      "Recall: 0.566\n",
      "Confusion Matrix:\n",
      "[[3423  402]\n",
      " [ 230  300]]\n",
      "\n",
      "\n"
     ]
    }
   ],
   "source": [
    "from sklearn.metrics import accuracy_score, recall_score, confusion_matrix\n",
    "\n",
    "def predict_and_evaluate_gradient_boosting(best_gradient_boosting_model, X_test_tfidf, y_test):\n",
    "    results = {}\n",
    "    \n",
    "    # Predict using the Gradient Boosting model\n",
    "    y_pred = best_gradient_boosting_model.predict(X_test_tfidf)\n",
    "    accuracy = accuracy_score(y_test, y_pred)\n",
    "    recall = recall_score(y_test, y_pred)\n",
    "    cm = confusion_matrix(y_test, y_pred)\n",
    "    \n",
    "    results['GradientBoosting'] = {\n",
    "        'accuracy': accuracy,\n",
    "        'recall': recall,\n",
    "        'confusion_matrix': cm\n",
    "    }\n",
    "    \n",
    "    return results\n",
    "\n",
    "def print_gradient_boosting_results(results):\n",
    "    for name, metrics in results.items():\n",
    "        accuracy = metrics['accuracy']\n",
    "        recall = metrics['recall']\n",
    "        cm = metrics['confusion_matrix']\n",
    "        \n",
    "        print(f'===== Results for {name} =====')\n",
    "        print(f'Accuracy: {accuracy:.3f}')\n",
    "        print(f'Recall: {recall:.3f}')\n",
    "        print('Confusion Matrix:')\n",
    "        print(cm)\n",
    "        print('\\n')\n",
    "\n",
    "# Example usage\n",
    "gradient_boosting_results = predict_and_evaluate_gradient_boosting(best_gradient_boosting_model, X_test_tfidf, y_test)\n",
    "print_gradient_boosting_results(gradient_boosting_results)\n"
   ]
  },
  {
   "cell_type": "markdown",
   "metadata": {},
   "source": [
    "Conclusion Gradient Boosting with 85% of accuracy is Performing best compare to all other different Models. There are models such as Random forest and SVM that have greater accuracy as well as GB but they are unable to classify the minority class at all,they are biased toward majority class.\n",
    "\n"
   ]
  },
  {
   "cell_type": "markdown",
   "metadata": {},
   "source": [
    "# Finalized Deep Learning Model - BERT with LSTM"
   ]
  },
  {
   "cell_type": "code",
   "execution_count": 1,
   "metadata": {
    "id": "Qvdm1i8uhr4v"
   },
   "outputs": [],
   "source": [
    "#importing libraries\n",
    "import pandas as pd\n",
    "import numpy as np\n",
    "from tqdm import tqdm\n",
    "from transformers import BertTokenizer, BertModel\n",
    "import torch"
   ]
  },
  {
   "cell_type": "code",
   "execution_count": null,
   "metadata": {
    "id": "-haaRyEbjaJe"
   },
   "outputs": [],
   "source": [
    "# Reading the CSV file into a pandas DataFrame\n",
    "df = pd.read_csv(\"/content/ghc_train.csv\")"
   ]
  },
  {
   "cell_type": "code",
   "execution_count": null,
   "metadata": {
    "id": "Y4rekErSjwPW"
   },
   "outputs": [],
   "source": [
    "from sklearn.model_selection import train_test_split\n",
    "from sklearn.preprocessing import LabelEncoder\n",
    "from sklearn.feature_extraction.text import TfidfVectorizer\n",
    "\n",
    "# Filling any missing values in the 'text' column with an empty string\n",
    "df['text'] = df['text'].fillna('')\n",
    "\n",
    "y = df['label']\n",
    "X=df['text']\n",
    "# Splitting the dataset into training and testing sets\n",
    "# Using 20% of the data for testing and 80% for training\n",
    "# Stratifying the split based on the labels to ensure balanced classes\n",
    "X_train, X_test, y_train, y_test = train_test_split(X, y, test_size=0.2, random_state=42,stratify=y)"
   ]
  },
  {
   "cell_type": "code",
   "execution_count": null,
   "metadata": {
    "colab": {
     "base_uri": "https://localhost:8080/",
     "height": 423,
     "referenced_widgets": [
      "8d240baac3e640cc9abeed925962e113",
      "313b7b18c010433f832830df76b73d22",
      "15a8b7f0e45d4813a89a4588a02eb728",
      "27730467c3714e0db0cd7b741e06a478",
      "3fffec8454e94bc3b8f8ce7445558b4e",
      "2cae470e96b94167b423be0a29f9abac",
      "c23e63a14af041bd9e2eb7766d925563",
      "e8b486df81d24f49aa51f99476fd5845",
      "abd041b72ac9481f8f64ccab9a5b81ef",
      "51ed8ea3c6914846b516cdd9257e4911",
      "764dff471ef14b8e9ec06ee3aa3f6435",
      "be43bf49962f4ccbb7a1d60723af59f3",
      "c25b344a7af345e28f2d28f155af533c",
      "1438571a66e14425b3ee0de9ffd46a8a",
      "8e808cac932941568dec2e15d7f554b7",
      "1a79f1cdec894c2487536712b5d1de18",
      "dce83f9f1fd94d7ea500a13fe87c16cf",
      "ae6d3216b58a4999bf46b65d9cfc1778",
      "1cd1ce860c204ea48928d228545901ed",
      "85a2cc4dcf374e1789030bc4a3dde03e",
      "1a976c442a4a4eddaaa1915aa964c093",
      "0e42db28101e4894bdee1263368d984d",
      "e7185a70711f43f5ac5c435a7f4c11d7",
      "0ef45d1dad514b1284331b4ed5fbb8af",
      "a893f458c08b418d8d93b85a3de8f2ce",
      "5a0c7dacc1cb4917b752b4fa0b55b15c",
      "1e6cf91d877a49f397325e91a7707e44",
      "56892d2f59ec4618bb2d8c7efeec69c2",
      "74a1dc47fd234559946647811de96871",
      "1f274a5c633446b1a290949cfd942bc4",
      "afc9e7a5570d48059dd12e3c2e9eb2d7",
      "9c569224b35146f2977a8f1e9d7b021e",
      "b4dcb605742845ce999a889d55ca6782",
      "5f5348e227194bea82de593d85fcfcd6",
      "8379cc34b9cf4552852a660160d8f23a",
      "beb3326bec144eeea6a5c7223b9c1c24",
      "6f4122d81d0d4c4989ba3bfe576fc14c",
      "1a47866d36fc4c72a5e2ca0bedf16374",
      "8c6dea43537f4c7ab4ffab5104328625",
      "5940c120b26949d58aa5eb450cb86ec1",
      "337656f719ff43c6a1bc391c3155fb1e",
      "d3b8c10081bb4794a746ccd3313b88dc",
      "a5a6effadf994d00bc8489f859a4f17a",
      "d59db8c14a76458bae223e1677823169",
      "d2c76a19a89a445f97ad7d8db8f50809",
      "74e43b0430ee43a1a19ec013f16d2a30",
      "c9f51a609f7246bfbd6d0838de81f55f",
      "136bd0b952424d3b80f0205eda0a10df",
      "198a43626c3e46baa9b5b37d5911c249",
      "93565202094a462d8056bd83bb1f5185",
      "50ffb583a26a4d5dbd61c88301e0f70a",
      "ba97712cce5f413694707f018584eb29",
      "c30fae19ef3e4877953bf06f71ac6637",
      "2649570e253a49f0954292d9bd1be11d",
      "54f59fbbe55141c29fa2fbfc175e7031"
     ]
    },
    "id": "mnqUGlSHxnko",
    "outputId": "e2b11e62-3502-4503-b29f-0b8591553aaf"
   },
   "outputs": [
    {
     "name": "stderr",
     "output_type": "stream",
     "text": [
      "/usr/local/lib/python3.10/dist-packages/huggingface_hub/utils/_token.py:89: UserWarning: \n",
      "The secret `HF_TOKEN` does not exist in your Colab secrets.\n",
      "To authenticate with the Hugging Face Hub, create a token in your settings tab (https://huggingface.co/settings/tokens), set it as secret in your Google Colab and restart your session.\n",
      "You will be able to reuse this secret in all of your notebooks.\n",
      "Please note that authentication is recommended but still optional to access public models or datasets.\n",
      "  warnings.warn(\n"
     ]
    },
    {
     "data": {
      "application/vnd.jupyter.widget-view+json": {
       "model_id": "8d240baac3e640cc9abeed925962e113",
       "version_major": 2,
       "version_minor": 0
      },
      "text/plain": [
       "tokenizer_config.json:   0%|          | 0.00/48.0 [00:00<?, ?B/s]"
      ]
     },
     "metadata": {},
     "output_type": "display_data"
    },
    {
     "data": {
      "application/vnd.jupyter.widget-view+json": {
       "model_id": "be43bf49962f4ccbb7a1d60723af59f3",
       "version_major": 2,
       "version_minor": 0
      },
      "text/plain": [
       "vocab.txt:   0%|          | 0.00/232k [00:00<?, ?B/s]"
      ]
     },
     "metadata": {},
     "output_type": "display_data"
    },
    {
     "data": {
      "application/vnd.jupyter.widget-view+json": {
       "model_id": "e7185a70711f43f5ac5c435a7f4c11d7",
       "version_major": 2,
       "version_minor": 0
      },
      "text/plain": [
       "tokenizer.json:   0%|          | 0.00/466k [00:00<?, ?B/s]"
      ]
     },
     "metadata": {},
     "output_type": "display_data"
    },
    {
     "name": "stderr",
     "output_type": "stream",
     "text": [
      "/usr/local/lib/python3.10/dist-packages/huggingface_hub/file_download.py:1132: FutureWarning: `resume_download` is deprecated and will be removed in version 1.0.0. Downloads always resume when possible. If you want to force a new download, use `force_download=True`.\n",
      "  warnings.warn(\n"
     ]
    },
    {
     "data": {
      "application/vnd.jupyter.widget-view+json": {
       "model_id": "5f5348e227194bea82de593d85fcfcd6",
       "version_major": 2,
       "version_minor": 0
      },
      "text/plain": [
       "config.json:   0%|          | 0.00/570 [00:00<?, ?B/s]"
      ]
     },
     "metadata": {},
     "output_type": "display_data"
    },
    {
     "data": {
      "application/vnd.jupyter.widget-view+json": {
       "model_id": "d2c76a19a89a445f97ad7d8db8f50809",
       "version_major": 2,
       "version_minor": 0
      },
      "text/plain": [
       "model.safetensors:   0%|          | 0.00/440M [00:00<?, ?B/s]"
      ]
     },
     "metadata": {},
     "output_type": "display_data"
    },
    {
     "name": "stderr",
     "output_type": "stream",
     "text": [
      "Some weights of the PyTorch model were not used when initializing the TF 2.0 model TFBertModel: ['cls.predictions.transform.LayerNorm.bias', 'cls.predictions.bias', 'cls.seq_relationship.weight', 'cls.seq_relationship.bias', 'cls.predictions.transform.dense.weight', 'cls.predictions.transform.LayerNorm.weight', 'cls.predictions.transform.dense.bias']\n",
      "- This IS expected if you are initializing TFBertModel from a PyTorch model trained on another task or with another architecture (e.g. initializing a TFBertForSequenceClassification model from a BertForPreTraining model).\n",
      "- This IS NOT expected if you are initializing TFBertModel from a PyTorch model that you expect to be exactly identical (e.g. initializing a TFBertForSequenceClassification model from a BertForSequenceClassification model).\n",
      "All the weights of TFBertModel were initialized from the PyTorch model.\n",
      "If your task is similar to the task the model of the checkpoint was trained on, you can already use TFBertModel for predictions without further training.\n"
     ]
    }
   ],
   "source": [
    "import numpy as np\n",
    "import tensorflow as tf\n",
    "from tensorflow.keras.models import Sequential\n",
    "from tensorflow.keras.layers import Dense, LSTM, Bidirectional, Dropout\n",
    "from tensorflow.keras.callbacks import EarlyStopping\n",
    "from sklearn.utils.class_weight import compute_class_weight\n",
    "from sklearn.metrics import confusion_matrix, classification_report\n",
    "import seaborn as sns\n",
    "import matplotlib.pyplot as plt\n",
    "from transformers import BertTokenizer, TFBertModel\n",
    "\n",
    "# Initializing the BERT tokenizer with a pre-trained 'bert-base-uncased' model\n",
    "tokenizer = BertTokenizer.from_pretrained('bert-base-uncased')\n",
    "# Initializing the BERT model with a pre-trained 'bert-base-uncased' model\n",
    "bert_model = TFBertModel.from_pretrained('bert-base-uncased')\n"
   ]
  },
  {
   "cell_type": "code",
   "execution_count": null,
   "metadata": {
    "id": "FZH3C3UoyTV0"
   },
   "outputs": [],
   "source": [
    "# Function to encode text data using a BERT tokenizer\n",
    "def encode_texts(texts, tokenizer, max_length=100):\n",
    "    encodings = tokenizer(\n",
    "        texts.tolist(),\n",
    "        truncation=True,\n",
    "        padding='max_length',\n",
    "        max_length=max_length,\n",
    "        return_tensors='tf'\n",
    "    )\n",
    "    return encodings\n",
    "\n",
    "# Encoding the training and testing text data with a reduced maximum length of 50\n",
    "X_train_encodings = encode_texts(X_train, tokenizer, max_length=50)  # Reduced max_length\n",
    "X_test_encodings = encode_texts(X_test, tokenizer, max_length=50)\n",
    "\n",
    "# Function to get BERT embeddings from encoded text data\n",
    "def get_bert_embeddings(encodings, bert_model):\n",
    "    outputs = bert_model(encodings['input_ids'], attention_mask=encodings['attention_mask'])\n",
    "    return outputs.last_hidden_state\n",
    "\n",
    "# Setting the batch size for processing\n",
    "batch_size = 16"
   ]
  },
  {
   "cell_type": "code",
   "execution_count": null,
   "metadata": {
    "id": "-41gCPMpylZZ"
   },
   "outputs": [],
   "source": [
    "# List to store BERT embeddings for the training data\n",
    "X_train_embeddings = []\n",
    "\n",
    "# Process the training data in batches to get BERT embeddings\n",
    "for i in range(0, len(X_train_encodings['input_ids']), batch_size):\n",
    "    batch_encodings = {key: val[i:i+batch_size] for key, val in X_train_encodings.items()}  # Get a batch of encodings\n",
    "    batch_embeddings = get_bert_embeddings(batch_encodings, bert_model) # Get BERT embeddings for the batch\n",
    "    X_train_embeddings.append(batch_embeddings) # Append the batch embeddings to the list\n",
    "\n",
    "# Concatenate all the batch embeddings into a single tensor\n",
    "X_train_embeddings = tf.concat(X_train_embeddings, axis=0)\n",
    "\n",
    "# List to store BERT embeddings for the testing data\n",
    "X_test_embeddings = []\n",
    "\n",
    "# Process the testing data in batches to get BERT embeddings\n",
    "for i in range(0, len(X_test_encodings['input_ids']), batch_size):\n",
    "    batch_encodings = {key: val[i:i+batch_size] for key, val in X_test_encodings.items()}\n",
    "    batch_embeddings = get_bert_embeddings(batch_encodings, bert_model)\n",
    "    X_test_embeddings.append(batch_embeddings)\n",
    "\n",
    "# Concatenate all the batch embeddings into a single tensor\n",
    "X_test_embeddings = tf.concat(X_test_embeddings, axis=0)\n",
    "\n",
    "# Compute class weights to handle class imbalance\n",
    "class_weights = compute_class_weight('balanced', classes=np.unique(y_train), y=y_train)\n",
    "\n",
    "# Convert class weights to a dictionary format required by TensorFlow\n",
    "class_weights_dict = dict(enumerate(class_weights))\n"
   ]
  },
  {
   "cell_type": "code",
   "execution_count": null,
   "metadata": {
    "colab": {
     "base_uri": "https://localhost:8080/",
     "height": 1000
    },
    "id": "1kszV6dPGYpO",
    "outputId": "78801637-dc18-4eed-908f-eb85369a18d2"
   },
   "outputs": [
    {
     "name": "stderr",
     "output_type": "stream",
     "text": [
      "WARNING:tensorflow:Layer lstm will not use cuDNN kernels since it doesn't meet the criteria. It will use a generic GPU kernel as fallback when running on GPU.\n",
      "WARNING:tensorflow:Layer lstm will not use cuDNN kernels since it doesn't meet the criteria. It will use a generic GPU kernel as fallback when running on GPU.\n",
      "WARNING:tensorflow:Layer lstm will not use cuDNN kernels since it doesn't meet the criteria. It will use a generic GPU kernel as fallback when running on GPU.\n",
      "WARNING:tensorflow:Layer lstm_1 will not use cuDNN kernels since it doesn't meet the criteria. It will use a generic GPU kernel as fallback when running on GPU.\n",
      "WARNING:tensorflow:Layer lstm_1 will not use cuDNN kernels since it doesn't meet the criteria. It will use a generic GPU kernel as fallback when running on GPU.\n",
      "WARNING:tensorflow:Layer lstm_1 will not use cuDNN kernels since it doesn't meet the criteria. It will use a generic GPU kernel as fallback when running on GPU.\n",
      "WARNING:tensorflow:Layer lstm_2 will not use cuDNN kernels since it doesn't meet the criteria. It will use a generic GPU kernel as fallback when running on GPU.\n",
      "WARNING:tensorflow:Layer lstm_2 will not use cuDNN kernels since it doesn't meet the criteria. It will use a generic GPU kernel as fallback when running on GPU.\n",
      "WARNING:tensorflow:Layer lstm_2 will not use cuDNN kernels since it doesn't meet the criteria. It will use a generic GPU kernel as fallback when running on GPU.\n"
     ]
    },
    {
     "name": "stdout",
     "output_type": "stream",
     "text": [
      "Epoch 1/5\n",
      "1102/1102 [==============================] - 443s 390ms/step - loss: 0.5381 - accuracy: 0.7320 - val_loss: 0.4959 - val_accuracy: 0.7947\n",
      "Epoch 2/5\n",
      "1102/1102 [==============================] - 424s 385ms/step - loss: 0.4686 - accuracy: 0.7822 - val_loss: 0.3700 - val_accuracy: 0.8142\n",
      "Epoch 3/5\n",
      "1102/1102 [==============================] - 426s 386ms/step - loss: 0.4434 - accuracy: 0.7869 - val_loss: 0.4812 - val_accuracy: 0.7661\n",
      "Epoch 4/5\n",
      "1102/1102 [==============================] - 426s 386ms/step - loss: 0.4171 - accuracy: 0.8071 - val_loss: 0.4239 - val_accuracy: 0.8169\n",
      "Epoch 5/5\n",
      "1102/1102 [==============================] - 427s 388ms/step - loss: 0.3905 - accuracy: 0.8200 - val_loss: 0.3814 - val_accuracy: 0.8373\n",
      "138/138 - 7s - loss: 0.3700 - accuracy: 0.8142 - 7s/epoch - 48ms/step\n",
      "\n",
      "Test accuracy: 0.8142014741897583\n",
      "138/138 [==============================] - 8s 51ms/step\n"
     ]
    },
    {
     "data": {
      "image/png": "[encoded data removed]",
      "text/plain": [
       "<Figure size 800x600 with 2 Axes>"
      ]
     },
     "metadata": {},
     "output_type": "display_data"
    },
    {
     "name": "stdout",
     "output_type": "stream",
     "text": [
      "              precision    recall  f1-score   support\n",
      "\n",
      "     Class 0       0.96      0.82      0.89      3874\n",
      "     Class 1       0.37      0.78      0.51       534\n",
      "\n",
      "    accuracy                           0.81      4408\n",
      "   macro avg       0.67      0.80      0.70      4408\n",
      "weighted avg       0.89      0.81      0.84      4408\n",
      "\n"
     ]
    }
   ],
   "source": [
    "# Define the model\n",
    "model = Sequential()\n",
    "\n",
    "# Adding a bidirectional LSTM layer with 256 units, returning sequences, and specifying the input shape\n",
    "model.add(Bidirectional(LSTM(units=256, return_sequences=True, input_shape=(X_train_embeddings.shape[1], X_train_embeddings.shape[2]))))\n",
    "\n",
    "# Adding a dropout layer with a rate of 0.5 to prevent overfitting\n",
    "model.add(Dropout(0.5))\n",
    "\n",
    "# Adding another bidirectional LSTM layer with 64 units, returning sequences\n",
    "model.add(Bidirectional(LSTM(units=64, return_sequences=True)))\n",
    "\n",
    "# Adding a dropout layer with a rate of 0.3 to prevent overfitting\n",
    "model.add(Dropout(0.3))\n",
    "\n",
    "# Adding another bidirectional LSTM layer with 64 units, not returning sequences\n",
    "model.add(Bidirectional(LSTM(units=64)))\n",
    "model.add(Dropout(0.2))\n",
    "\n",
    "# Adding a dense layer with 64 units and ReLU activation function\n",
    "model.add(Dense(64, activation='relu'))\n",
    "model.add(Dropout(0.2))\n",
    "\n",
    "# Adding the final dense layer with 1 unit and sigmoid activation function for binary classification\n",
    "model.add(Dense(1, activation='sigmoid'))\n",
    "\n",
    "# Compile the model\n",
    "model.compile(loss='binary_crossentropy', optimizer='adam', metrics=['accuracy'])\n",
    "\n",
    "# Define early stopping callback\n",
    "early_stopping = EarlyStopping(monitor='val_loss', patience=3, restore_best_weights=True)\n",
    "\n",
    "# Train the model with early stopping and class weights\n",
    "history = model.fit(X_train_embeddings, y_train, epochs=5, batch_size=batch_size,\n",
    "                    validation_data=(X_test_embeddings, y_test),\n",
    "                    class_weight=class_weights_dict,\n",
    "                    callbacks=[early_stopping])\n",
    "\n",
    "# Evaluate the model on the test set\n",
    "test_loss, test_acc = model.evaluate(X_test_embeddings, y_test, verbose=2)\n",
    "print(f'\\nTest accuracy: {test_acc}')\n",
    "\n",
    "# Predict the labels for the test set\n",
    "y_pred = model.predict(X_test_embeddings)\n",
    "y_pred_classes = (y_pred > 0.5).astype(\"int32\")\n",
    "\n",
    "# Generate the confusion matrix\n",
    "cm = confusion_matrix(y_test, y_pred_classes)\n",
    "\n",
    "# Visualize the confusion matrix\n",
    "plt.figure(figsize=(8, 6))\n",
    "sns.heatmap(cm, annot=True, fmt='d', cmap='Blues', xticklabels=['Class 0', 'Class 1'], yticklabels=['Class 0', 'Class 1'])\n",
    "plt.xlabel('Predicted')\n",
    "plt.ylabel('True')\n",
    "plt.title('Confusion Matrix')\n",
    "plt.show()\n",
    "\n",
    "# Print classification report\n",
    "print(classification_report(y_test, y_pred_classes, target_names=['Class 0', 'Class 1']))"
   ]
  },
  {
   "cell_type": "code",
   "execution_count": null,
   "metadata": {
    "colab": {
     "base_uri": "https://localhost:8080/"
    },
    "id": "fjvMLucVPSGr",
    "outputId": "e440ffff-343e-4392-ba60-8b68555a0dc0"
   },
   "outputs": [
    {
     "name": "stdout",
     "output_type": "stream",
     "text": [
      "Accuracy: 0.8142014519056261\n",
      "Recall: 0.7846441947565543\n",
      "Precision: 0.37310774710596617\n",
      "F1 Score: 0.5057332528666264\n",
      "ROC AUC Score: 0.8777224616622099\n"
     ]
    }
   ],
   "source": [
    "# Importing various evaluation metrics from scikit-learn\n",
    "from sklearn.metrics import confusion_matrix, classification_report, accuracy_score, recall_score, precision_score, f1_score, roc_auc_score, roc_curve, auc\n",
    "\n",
    "accuracy = accuracy_score(y_test, y_pred_classes)\n",
    "recall = recall_score(y_test, y_pred_classes)\n",
    "precision = precision_score(y_test, y_pred_classes)\n",
    "f1 = f1_score(y_test, y_pred_classes)\n",
    "roc_auc = roc_auc_score(y_test, y_pred)\n",
    "\n",
    "# Printing the evaluation metrics\n",
    "print(f'Accuracy: {accuracy}')\n",
    "print(f'Recall: {recall}')\n",
    "print(f'Precision: {precision}')\n",
    "print(f'F1 Score: {f1}')\n",
    "print(f'ROC AUC Score: {roc_auc}')"
   ]
  },
  {
   "cell_type": "markdown",
   "metadata": {},
   "source": [
    "Among all other dl models, the BERT with LSTM model is giving the best result with a good accuracy and a notable recall of 78%.The metric that iam considering is recall(i.e. Recall measures the proportion of true positive instances correctly identified by the model among all actual positive instances.)\n",
    "As there is an improvement in the metric that Iam considering that is Recall which is improved from 56% to 78% and The ROC AUC Score was also showing betterment than the finalized benchmark of the Machine Learning Model. Based on these, I Finalized BERT with LSTM model."
   ]
  },
  {
   "cell_type": "code",
   "execution_count": null,
   "metadata": {},
   "outputs": [],
   "source": []
  }
 ],
 "metadata": {
  "accelerator": "GPU",
  "colab": {
   "gpuType": "T4",
   "provenance": []
  },
  "kernelspec": {
   "display_name": "Python 3 (ipykernel)",
   "language": "python",
   "name": "python3"
  },
  "language_info": {
   "codemirror_mode": {
    "name": "ipython",
    "version": 3
   },
   "file_extension": ".py",
   "mimetype": "text/x-python",
   "name": "python",
   "nbconvert_exporter": "python",
   "pygments_lexer": "ipython3",
   "version": "3.12.3"
  },
  "widgets": {
   "application/vnd.jupyter.widget-state+json": {
    "0e42db28101e4894bdee1263368d984d": {
     "model_module": "@jupyter-widgets/controls",
     "model_module_version": "1.5.0",
     "model_name": "DescriptionStyleModel",
     "state": {
      "_model_module": "@jupyter-widgets/controls",
      "_model_module_version": "1.5.0",
      "_model_name": "DescriptionStyleModel",
      "_view_count": null,
      "_view_module": "@jupyter-widgets/base",
      "_view_module_version": "1.2.0",
      "_view_name": "StyleView",
      "description_width": ""
     }
    },
    "0ef45d1dad514b1284331b4ed5fbb8af": {
     "model_module": "@jupyter-widgets/controls",
     "model_module_version": "1.5.0",
     "model_name": "HTMLModel",
     "state": {
      "_dom_classes": [],
      "_model_module": "@jupyter-widgets/controls",
      "_model_module_version": "1.5.0",
      "_model_name": "HTMLModel",
      "_view_count": null,
      "_view_module": "@jupyter-widgets/controls",
      "_view_module_version": "1.5.0",
      "_view_name": "HTMLView",
      "description": "",
      "description_tooltip": null,
      "layout": "IPY_MODEL_56892d2f59ec4618bb2d8c7efeec69c2",
      "placeholder": "​",
      "style": "IPY_MODEL_74a1dc47fd234559946647811de96871",
      "value": "tokenizer.json: 100%"
     }
    },
    "136bd0b952424d3b80f0205eda0a10df": {
     "model_module": "@jupyter-widgets/controls",
     "model_module_version": "1.5.0",
     "model_name": "HTMLModel",
     "state": {
      "_dom_classes": [],
      "_model_module": "@jupyter-widgets/controls",
      "_model_module_version": "1.5.0",
      "_model_name": "HTMLModel",
      "_view_count": null,
      "_view_module": "@jupyter-widgets/controls",
      "_view_module_version": "1.5.0",
      "_view_name": "HTMLView",
      "description": "",
      "description_tooltip": null,
      "layout": "IPY_MODEL_2649570e253a49f0954292d9bd1be11d",
      "placeholder": "​",
      "style": "IPY_MODEL_54f59fbbe55141c29fa2fbfc175e7031",
      "value": " 440M/440M [00:02&lt;00:00, 254MB/s]"
     }
    },
    "1438571a66e14425b3ee0de9ffd46a8a": {
     "model_module": "@jupyter-widgets/controls",
     "model_module_version": "1.5.0",
     "model_name": "FloatProgressModel",
     "state": {
      "_dom_classes": [],
      "_model_module": "@jupyter-widgets/controls",
      "_model_module_version": "1.5.0",
      "_model_name": "FloatProgressModel",
      "_view_count": null,
      "_view_module": "@jupyter-widgets/controls",
      "_view_module_version": "1.5.0",
      "_view_name": "ProgressView",
      "bar_style": "success",
      "description": "",
      "description_tooltip": null,
      "layout": "IPY_MODEL_1cd1ce860c204ea48928d228545901ed",
      "max": 231508,
      "min": 0,
      "orientation": "horizontal",
      "style": "IPY_MODEL_85a2cc4dcf374e1789030bc4a3dde03e",
      "value": 231508
     }
    },
    "15a8b7f0e45d4813a89a4588a02eb728": {
     "model_module": "@jupyter-widgets/controls",
     "model_module_version": "1.5.0",
     "model_name": "FloatProgressModel",
     "state": {
      "_dom_classes": [],
      "_model_module": "@jupyter-widgets/controls",
      "_model_module_version": "1.5.0",
      "_model_name": "FloatProgressModel",
      "_view_count": null,
      "_view_module": "@jupyter-widgets/controls",
      "_view_module_version": "1.5.0",
      "_view_name": "ProgressView",
      "bar_style": "success",
      "description": "",
      "description_tooltip": null,
      "layout": "IPY_MODEL_e8b486df81d24f49aa51f99476fd5845",
      "max": 48,
      "min": 0,
      "orientation": "horizontal",
      "style": "IPY_MODEL_abd041b72ac9481f8f64ccab9a5b81ef",
      "value": 48
     }
    },
    "198a43626c3e46baa9b5b37d5911c249": {
     "model_module": "@jupyter-widgets/base",
     "model_module_version": "1.2.0",
     "model_name": "LayoutModel",
     "state": {
      "_model_module": "@jupyter-widgets/base",
      "_model_module_version": "1.2.0",
      "_model_name": "LayoutModel",
      "_view_count": null,
      "_view_module": "@jupyter-widgets/base",
      "_view_module_version": "1.2.0",
      "_view_name": "LayoutView",
      "align_content": null,
      "align_items": null,
      "align_self": null,
      "border": null,
      "bottom": null,
      "display": null,
      "flex": null,
      "flex_flow": null,
      "grid_area": null,
      "grid_auto_columns": null,
      "grid_auto_flow": null,
      "grid_auto_rows": null,
      "grid_column": null,
      "grid_gap": null,
      "grid_row": null,
      "grid_template_areas": null,
      "grid_template_columns": null,
      "grid_template_rows": null,
      "height": null,
      "justify_content": null,
      "justify_items": null,
      "left": null,
      "margin": null,
      "max_height": null,
      "max_width": null,
      "min_height": null,
      "min_width": null,
      "object_fit": null,
      "object_position": null,
      "order": null,
      "overflow": null,
      "overflow_x": null,
      "overflow_y": null,
      "padding": null,
      "right": null,
      "top": null,
      "visibility": null,
      "width": null
     }
    },
    "1a47866d36fc4c72a5e2ca0bedf16374": {
     "model_module": "@jupyter-widgets/base",
     "model_module_version": "1.2.0",
     "model_name": "LayoutModel",
     "state": {
      "_model_module": "@jupyter-widgets/base",
      "_model_module_version": "1.2.0",
      "_model_name": "LayoutModel",
      "_view_count": null,
      "_view_module": "@jupyter-widgets/base",
      "_view_module_version": "1.2.0",
      "_view_name": "LayoutView",
      "align_content": null,
      "align_items": null,
      "align_self": null,
      "border": null,
      "bottom": null,
      "display": null,
      "flex": null,
      "flex_flow": null,
      "grid_area": null,
      "grid_auto_columns": null,
      "grid_auto_flow": null,
      "grid_auto_rows": null,
      "grid_column": null,
      "grid_gap": null,
      "grid_row": null,
      "grid_template_areas": null,
      "grid_template_columns": null,
      "grid_template_rows": null,
      "height": null,
      "justify_content": null,
      "justify_items": null,
      "left": null,
      "margin": null,
      "max_height": null,
      "max_width": null,
      "min_height": null,
      "min_width": null,
      "object_fit": null,
      "object_position": null,
      "order": null,
      "overflow": null,
      "overflow_x": null,
      "overflow_y": null,
      "padding": null,
      "right": null,
      "top": null,
      "visibility": null,
      "width": null
     }
    },
    "1a79f1cdec894c2487536712b5d1de18": {
     "model_module": "@jupyter-widgets/base",
     "model_module_version": "1.2.0",
     "model_name": "LayoutModel",
     "state": {
      "_model_module": "@jupyter-widgets/base",
      "_model_module_version": "1.2.0",
      "_model_name": "LayoutModel",
      "_view_count": null,
      "_view_module": "@jupyter-widgets/base",
      "_view_module_version": "1.2.0",
      "_view_name": "LayoutView",
      "align_content": null,
      "align_items": null,
      "align_self": null,
      "border": null,
      "bottom": null,
      "display": null,
      "flex": null,
      "flex_flow": null,
      "grid_area": null,
      "grid_auto_columns": null,
      "grid_auto_flow": null,
      "grid_auto_rows": null,
      "grid_column": null,
      "grid_gap": null,
      "grid_row": null,
      "grid_template_areas": null,
      "grid_template_columns": null,
      "grid_template_rows": null,
      "height": null,
      "justify_content": null,
      "justify_items": null,
      "left": null,
      "margin": null,
      "max_height": null,
      "max_width": null,
      "min_height": null,
      "min_width": null,
      "object_fit": null,
      "object_position": null,
      "order": null,
      "overflow": null,
      "overflow_x": null,
      "overflow_y": null,
      "padding": null,
      "right": null,
      "top": null,
      "visibility": null,
      "width": null
     }
    },
    "1a976c442a4a4eddaaa1915aa964c093": {
     "model_module": "@jupyter-widgets/base",
     "model_module_version": "1.2.0",
     "model_name": "LayoutModel",
     "state": {
      "_model_module": "@jupyter-widgets/base",
      "_model_module_version": "1.2.0",
      "_model_name": "LayoutModel",
      "_view_count": null,
      "_view_module": "@jupyter-widgets/base",
      "_view_module_version": "1.2.0",
      "_view_name": "LayoutView",
      "align_content": null,
      "align_items": null,
      "align_self": null,
      "border": null,
      "bottom": null,
      "display": null,
      "flex": null,
      "flex_flow": null,
      "grid_area": null,
      "grid_auto_columns": null,
      "grid_auto_flow": null,
      "grid_auto_rows": null,
      "grid_column": null,
      "grid_gap": null,
      "grid_row": null,
      "grid_template_areas": null,
      "grid_template_columns": null,
      "grid_template_rows": null,
      "height": null,
      "justify_content": null,
      "justify_items": null,
      "left": null,
      "margin": null,
      "max_height": null,
      "max_width": null,
      "min_height": null,
      "min_width": null,
      "object_fit": null,
      "object_position": null,
      "order": null,
      "overflow": null,
      "overflow_x": null,
      "overflow_y": null,
      "padding": null,
      "right": null,
      "top": null,
      "visibility": null,
      "width": null
     }
    },
    "1cd1ce860c204ea48928d228545901ed": {
     "model_module": "@jupyter-widgets/base",
     "model_module_version": "1.2.0",
     "model_name": "LayoutModel",
     "state": {
      "_model_module": "@jupyter-widgets/base",
      "_model_module_version": "1.2.0",
      "_model_name": "LayoutModel",
      "_view_count": null,
      "_view_module": "@jupyter-widgets/base",
      "_view_module_version": "1.2.0",
      "_view_name": "LayoutView",
      "align_content": null,
      "align_items": null,
      "align_self": null,
      "border": null,
      "bottom": null,
      "display": null,
      "flex": null,
      "flex_flow": null,
      "grid_area": null,
      "grid_auto_columns": null,
      "grid_auto_flow": null,
      "grid_auto_rows": null,
      "grid_column": null,
      "grid_gap": null,
      "grid_row": null,
      "grid_template_areas": null,
      "grid_template_columns": null,
      "grid_template_rows": null,
      "height": null,
      "justify_content": null,
      "justify_items": null,
      "left": null,
      "margin": null,
      "max_height": null,
      "max_width": null,
      "min_height": null,
      "min_width": null,
      "object_fit": null,
      "object_position": null,
      "order": null,
      "overflow": null,
      "overflow_x": null,
      "overflow_y": null,
      "padding": null,
      "right": null,
      "top": null,
      "visibility": null,
      "width": null
     }
    },
    "1e6cf91d877a49f397325e91a7707e44": {
     "model_module": "@jupyter-widgets/base",
     "model_module_version": "1.2.0",
     "model_name": "LayoutModel",
     "state": {
      "_model_module": "@jupyter-widgets/base",
      "_model_module_version": "1.2.0",
      "_model_name": "LayoutModel",
      "_view_count": null,
      "_view_module": "@jupyter-widgets/base",
      "_view_module_version": "1.2.0",
      "_view_name": "LayoutView",
      "align_content": null,
      "align_items": null,
      "align_self": null,
      "border": null,
      "bottom": null,
      "display": null,
      "flex": null,
      "flex_flow": null,
      "grid_area": null,
      "grid_auto_columns": null,
      "grid_auto_flow": null,
      "grid_auto_rows": null,
      "grid_column": null,
      "grid_gap": null,
      "grid_row": null,
      "grid_template_areas": null,
      "grid_template_columns": null,
      "grid_template_rows": null,
      "height": null,
      "justify_content": null,
      "justify_items": null,
      "left": null,
      "margin": null,
      "max_height": null,
      "max_width": null,
      "min_height": null,
      "min_width": null,
      "object_fit": null,
      "object_position": null,
      "order": null,
      "overflow": null,
      "overflow_x": null,
      "overflow_y": null,
      "padding": null,
      "right": null,
      "top": null,
      "visibility": null,
      "width": null
     }
    },
    "1f274a5c633446b1a290949cfd942bc4": {
     "model_module": "@jupyter-widgets/base",
     "model_module_version": "1.2.0",
     "model_name": "LayoutModel",
     "state": {
      "_model_module": "@jupyter-widgets/base",
      "_model_module_version": "1.2.0",
      "_model_name": "LayoutModel",
      "_view_count": null,
      "_view_module": "@jupyter-widgets/base",
      "_view_module_version": "1.2.0",
      "_view_name": "LayoutView",
      "align_content": null,
      "align_items": null,
      "align_self": null,
      "border": null,
      "bottom": null,
      "display": null,
      "flex": null,
      "flex_flow": null,
      "grid_area": null,
      "grid_auto_columns": null,
      "grid_auto_flow": null,
      "grid_auto_rows": null,
      "grid_column": null,
      "grid_gap": null,
      "grid_row": null,
      "grid_template_areas": null,
      "grid_template_columns": null,
      "grid_template_rows": null,
      "height": null,
      "justify_content": null,
      "justify_items": null,
      "left": null,
      "margin": null,
      "max_height": null,
      "max_width": null,
      "min_height": null,
      "min_width": null,
      "object_fit": null,
      "object_position": null,
      "order": null,
      "overflow": null,
      "overflow_x": null,
      "overflow_y": null,
      "padding": null,
      "right": null,
      "top": null,
      "visibility": null,
      "width": null
     }
    },
    "2649570e253a49f0954292d9bd1be11d": {
     "model_module": "@jupyter-widgets/base",
     "model_module_version": "1.2.0",
     "model_name": "LayoutModel",
     "state": {
      "_model_module": "@jupyter-widgets/base",
      "_model_module_version": "1.2.0",
      "_model_name": "LayoutModel",
      "_view_count": null,
      "_view_module": "@jupyter-widgets/base",
      "_view_module_version": "1.2.0",
      "_view_name": "LayoutView",
      "align_content": null,
      "align_items": null,
      "align_self": null,
      "border": null,
      "bottom": null,
      "display": null,
      "flex": null,
      "flex_flow": null,
      "grid_area": null,
      "grid_auto_columns": null,
      "grid_auto_flow": null,
      "grid_auto_rows": null,
      "grid_column": null,
      "grid_gap": null,
      "grid_row": null,
      "grid_template_areas": null,
      "grid_template_columns": null,
      "grid_template_rows": null,
      "height": null,
      "justify_content": null,
      "justify_items": null,
      "left": null,
      "margin": null,
      "max_height": null,
      "max_width": null,
      "min_height": null,
      "min_width": null,
      "object_fit": null,
      "object_position": null,
      "order": null,
      "overflow": null,
      "overflow_x": null,
      "overflow_y": null,
      "padding": null,
      "right": null,
      "top": null,
      "visibility": null,
      "width": null
     }
    },
    "27730467c3714e0db0cd7b741e06a478": {
     "model_module": "@jupyter-widgets/controls",
     "model_module_version": "1.5.0",
     "model_name": "HTMLModel",
     "state": {
      "_dom_classes": [],
      "_model_module": "@jupyter-widgets/controls",
      "_model_module_version": "1.5.0",
      "_model_name": "HTMLModel",
      "_view_count": null,
      "_view_module": "@jupyter-widgets/controls",
      "_view_module_version": "1.5.0",
      "_view_name": "HTMLView",
      "description": "",
      "description_tooltip": null,
      "layout": "IPY_MODEL_51ed8ea3c6914846b516cdd9257e4911",
      "placeholder": "​",
      "style": "IPY_MODEL_764dff471ef14b8e9ec06ee3aa3f6435",
      "value": " 48.0/48.0 [00:00&lt;00:00, 3.66kB/s]"
     }
    },
    "2cae470e96b94167b423be0a29f9abac": {
     "model_module": "@jupyter-widgets/base",
     "model_module_version": "1.2.0",
     "model_name": "LayoutModel",
     "state": {
      "_model_module": "@jupyter-widgets/base",
      "_model_module_version": "1.2.0",
      "_model_name": "LayoutModel",
      "_view_count": null,
      "_view_module": "@jupyter-widgets/base",
      "_view_module_version": "1.2.0",
      "_view_name": "LayoutView",
      "align_content": null,
      "align_items": null,
      "align_self": null,
      "border": null,
      "bottom": null,
      "display": null,
      "flex": null,
      "flex_flow": null,
      "grid_area": null,
      "grid_auto_columns": null,
      "grid_auto_flow": null,
      "grid_auto_rows": null,
      "grid_column": null,
      "grid_gap": null,
      "grid_row": null,
      "grid_template_areas": null,
      "grid_template_columns": null,
      "grid_template_rows": null,
      "height": null,
      "justify_content": null,
      "justify_items": null,
      "left": null,
      "margin": null,
      "max_height": null,
      "max_width": null,
      "min_height": null,
      "min_width": null,
      "object_fit": null,
      "object_position": null,
      "order": null,
      "overflow": null,
      "overflow_x": null,
      "overflow_y": null,
      "padding": null,
      "right": null,
      "top": null,
      "visibility": null,
      "width": null
     }
    },
    "313b7b18c010433f832830df76b73d22": {
     "model_module": "@jupyter-widgets/controls",
     "model_module_version": "1.5.0",
     "model_name": "HTMLModel",
     "state": {
      "_dom_classes": [],
      "_model_module": "@jupyter-widgets/controls",
      "_model_module_version": "1.5.0",
      "_model_name": "HTMLModel",
      "_view_count": null,
      "_view_module": "@jupyter-widgets/controls",
      "_view_module_version": "1.5.0",
      "_view_name": "HTMLView",
      "description": "",
      "description_tooltip": null,
      "layout": "IPY_MODEL_2cae470e96b94167b423be0a29f9abac",
      "placeholder": "​",
      "style": "IPY_MODEL_c23e63a14af041bd9e2eb7766d925563",
      "value": "tokenizer_config.json: 100%"
     }
    },
    "337656f719ff43c6a1bc391c3155fb1e": {
     "model_module": "@jupyter-widgets/base",
     "model_module_version": "1.2.0",
     "model_name": "LayoutModel",
     "state": {
      "_model_module": "@jupyter-widgets/base",
      "_model_module_version": "1.2.0",
      "_model_name": "LayoutModel",
      "_view_count": null,
      "_view_module": "@jupyter-widgets/base",
      "_view_module_version": "1.2.0",
      "_view_name": "LayoutView",
      "align_content": null,
      "align_items": null,
      "align_self": null,
      "border": null,
      "bottom": null,
      "display": null,
      "flex": null,
      "flex_flow": null,
      "grid_area": null,
      "grid_auto_columns": null,
      "grid_auto_flow": null,
      "grid_auto_rows": null,
      "grid_column": null,
      "grid_gap": null,
      "grid_row": null,
      "grid_template_areas": null,
      "grid_template_columns": null,
      "grid_template_rows": null,
      "height": null,
      "justify_content": null,
      "justify_items": null,
      "left": null,
      "margin": null,
      "max_height": null,
      "max_width": null,
      "min_height": null,
      "min_width": null,
      "object_fit": null,
      "object_position": null,
      "order": null,
      "overflow": null,
      "overflow_x": null,
      "overflow_y": null,
      "padding": null,
      "right": null,
      "top": null,
      "visibility": null,
      "width": null
     }
    },
    "3fffec8454e94bc3b8f8ce7445558b4e": {
     "model_module": "@jupyter-widgets/base",
     "model_module_version": "1.2.0",
     "model_name": "LayoutModel",
     "state": {
      "_model_module": "@jupyter-widgets/base",
      "_model_module_version": "1.2.0",
      "_model_name": "LayoutModel",
      "_view_count": null,
      "_view_module": "@jupyter-widgets/base",
      "_view_module_version": "1.2.0",
      "_view_name": "LayoutView",
      "align_content": null,
      "align_items": null,
      "align_self": null,
      "border": null,
      "bottom": null,
      "display": null,
      "flex": null,
      "flex_flow": null,
      "grid_area": null,
      "grid_auto_columns": null,
      "grid_auto_flow": null,
      "grid_auto_rows": null,
      "grid_column": null,
      "grid_gap": null,
      "grid_row": null,
      "grid_template_areas": null,
      "grid_template_columns": null,
      "grid_template_rows": null,
      "height": null,
      "justify_content": null,
      "justify_items": null,
      "left": null,
      "margin": null,
      "max_height": null,
      "max_width": null,
      "min_height": null,
      "min_width": null,
      "object_fit": null,
      "object_position": null,
      "order": null,
      "overflow": null,
      "overflow_x": null,
      "overflow_y": null,
      "padding": null,
      "right": null,
      "top": null,
      "visibility": null,
      "width": null
     }
    },
    "50ffb583a26a4d5dbd61c88301e0f70a": {
     "model_module": "@jupyter-widgets/controls",
     "model_module_version": "1.5.0",
     "model_name": "DescriptionStyleModel",
     "state": {
      "_model_module": "@jupyter-widgets/controls",
      "_model_module_version": "1.5.0",
      "_model_name": "DescriptionStyleModel",
      "_view_count": null,
      "_view_module": "@jupyter-widgets/base",
      "_view_module_version": "1.2.0",
      "_view_name": "StyleView",
      "description_width": ""
     }
    },
    "51ed8ea3c6914846b516cdd9257e4911": {
     "model_module": "@jupyter-widgets/base",
     "model_module_version": "1.2.0",
     "model_name": "LayoutModel",
     "state": {
      "_model_module": "@jupyter-widgets/base",
      "_model_module_version": "1.2.0",
      "_model_name": "LayoutModel",
      "_view_count": null,
      "_view_module": "@jupyter-widgets/base",
      "_view_module_version": "1.2.0",
      "_view_name": "LayoutView",
      "align_content": null,
      "align_items": null,
      "align_self": null,
      "border": null,
      "bottom": null,
      "display": null,
      "flex": null,
      "flex_flow": null,
      "grid_area": null,
      "grid_auto_columns": null,
      "grid_auto_flow": null,
      "grid_auto_rows": null,
      "grid_column": null,
      "grid_gap": null,
      "grid_row": null,
      "grid_template_areas": null,
      "grid_template_columns": null,
      "grid_template_rows": null,
      "height": null,
      "justify_content": null,
      "justify_items": null,
      "left": null,
      "margin": null,
      "max_height": null,
      "max_width": null,
      "min_height": null,
      "min_width": null,
      "object_fit": null,
      "object_position": null,
      "order": null,
      "overflow": null,
      "overflow_x": null,
      "overflow_y": null,
      "padding": null,
      "right": null,
      "top": null,
      "visibility": null,
      "width": null
     }
    },
    "54f59fbbe55141c29fa2fbfc175e7031": {
     "model_module": "@jupyter-widgets/controls",
     "model_module_version": "1.5.0",
     "model_name": "DescriptionStyleModel",
     "state": {
      "_model_module": "@jupyter-widgets/controls",
      "_model_module_version": "1.5.0",
      "_model_name": "DescriptionStyleModel",
      "_view_count": null,
      "_view_module": "@jupyter-widgets/base",
      "_view_module_version": "1.2.0",
      "_view_name": "StyleView",
      "description_width": ""
     }
    },
    "56892d2f59ec4618bb2d8c7efeec69c2": {
     "model_module": "@jupyter-widgets/base",
     "model_module_version": "1.2.0",
     "model_name": "LayoutModel",
     "state": {
      "_model_module": "@jupyter-widgets/base",
      "_model_module_version": "1.2.0",
      "_model_name": "LayoutModel",
      "_view_count": null,
      "_view_module": "@jupyter-widgets/base",
      "_view_module_version": "1.2.0",
      "_view_name": "LayoutView",
      "align_content": null,
      "align_items": null,
      "align_self": null,
      "border": null,
      "bottom": null,
      "display": null,
      "flex": null,
      "flex_flow": null,
      "grid_area": null,
      "grid_auto_columns": null,
      "grid_auto_flow": null,
      "grid_auto_rows": null,
      "grid_column": null,
      "grid_gap": null,
      "grid_row": null,
      "grid_template_areas": null,
      "grid_template_columns": null,
      "grid_template_rows": null,
      "height": null,
      "justify_content": null,
      "justify_items": null,
      "left": null,
      "margin": null,
      "max_height": null,
      "max_width": null,
      "min_height": null,
      "min_width": null,
      "object_fit": null,
      "object_position": null,
      "order": null,
      "overflow": null,
      "overflow_x": null,
      "overflow_y": null,
      "padding": null,
      "right": null,
      "top": null,
      "visibility": null,
      "width": null
     }
    },
    "5940c120b26949d58aa5eb450cb86ec1": {
     "model_module": "@jupyter-widgets/controls",
     "model_module_version": "1.5.0",
     "model_name": "DescriptionStyleModel",
     "state": {
      "_model_module": "@jupyter-widgets/controls",
      "_model_module_version": "1.5.0",
      "_model_name": "DescriptionStyleModel",
      "_view_count": null,
      "_view_module": "@jupyter-widgets/base",
      "_view_module_version": "1.2.0",
      "_view_name": "StyleView",
      "description_width": ""
     }
    },
    "5a0c7dacc1cb4917b752b4fa0b55b15c": {
     "model_module": "@jupyter-widgets/controls",
     "model_module_version": "1.5.0",
     "model_name": "HTMLModel",
     "state": {
      "_dom_classes": [],
      "_model_module": "@jupyter-widgets/controls",
      "_model_module_version": "1.5.0",
      "_model_name": "HTMLModel",
      "_view_count": null,
      "_view_module": "@jupyter-widgets/controls",
      "_view_module_version": "1.5.0",
      "_view_name": "HTMLView",
      "description": "",
      "description_tooltip": null,
      "layout": "IPY_MODEL_9c569224b35146f2977a8f1e9d7b021e",
      "placeholder": "​",
      "style": "IPY_MODEL_b4dcb605742845ce999a889d55ca6782",
      "value": " 466k/466k [00:00&lt;00:00, 2.34MB/s]"
     }
    },
    "5f5348e227194bea82de593d85fcfcd6": {
     "model_module": "@jupyter-widgets/controls",
     "model_module_version": "1.5.0",
     "model_name": "HBoxModel",
     "state": {
      "_dom_classes": [],
      "_model_module": "@jupyter-widgets/controls",
      "_model_module_version": "1.5.0",
      "_model_name": "HBoxModel",
      "_view_count": null,
      "_view_module": "@jupyter-widgets/controls",
      "_view_module_version": "1.5.0",
      "_view_name": "HBoxView",
      "box_style": "",
      "children": [
       "IPY_MODEL_8379cc34b9cf4552852a660160d8f23a",
       "IPY_MODEL_beb3326bec144eeea6a5c7223b9c1c24",
       "IPY_MODEL_6f4122d81d0d4c4989ba3bfe576fc14c"
      ],
      "layout": "IPY_MODEL_1a47866d36fc4c72a5e2ca0bedf16374"
     }
    },
    "6f4122d81d0d4c4989ba3bfe576fc14c": {
     "model_module": "@jupyter-widgets/controls",
     "model_module_version": "1.5.0",
     "model_name": "HTMLModel",
     "state": {
      "_dom_classes": [],
      "_model_module": "@jupyter-widgets/controls",
      "_model_module_version": "1.5.0",
      "_model_name": "HTMLModel",
      "_view_count": null,
      "_view_module": "@jupyter-widgets/controls",
      "_view_module_version": "1.5.0",
      "_view_name": "HTMLView",
      "description": "",
      "description_tooltip": null,
      "layout": "IPY_MODEL_a5a6effadf994d00bc8489f859a4f17a",
      "placeholder": "​",
      "style": "IPY_MODEL_d59db8c14a76458bae223e1677823169",
      "value": " 570/570 [00:00&lt;00:00, 37.8kB/s]"
     }
    },
    "74a1dc47fd234559946647811de96871": {
     "model_module": "@jupyter-widgets/controls",
     "model_module_version": "1.5.0",
     "model_name": "DescriptionStyleModel",
     "state": {
      "_model_module": "@jupyter-widgets/controls",
      "_model_module_version": "1.5.0",
      "_model_name": "DescriptionStyleModel",
      "_view_count": null,
      "_view_module": "@jupyter-widgets/base",
      "_view_module_version": "1.2.0",
      "_view_name": "StyleView",
      "description_width": ""
     }
    },
    "74e43b0430ee43a1a19ec013f16d2a30": {
     "model_module": "@jupyter-widgets/controls",
     "model_module_version": "1.5.0",
     "model_name": "HTMLModel",
     "state": {
      "_dom_classes": [],
      "_model_module": "@jupyter-widgets/controls",
      "_model_module_version": "1.5.0",
      "_model_name": "HTMLModel",
      "_view_count": null,
      "_view_module": "@jupyter-widgets/controls",
      "_view_module_version": "1.5.0",
      "_view_name": "HTMLView",
      "description": "",
      "description_tooltip": null,
      "layout": "IPY_MODEL_93565202094a462d8056bd83bb1f5185",
      "placeholder": "​",
      "style": "IPY_MODEL_50ffb583a26a4d5dbd61c88301e0f70a",
      "value": "model.safetensors: 100%"
     }
    },
    "764dff471ef14b8e9ec06ee3aa3f6435": {
     "model_module": "@jupyter-widgets/controls",
     "model_module_version": "1.5.0",
     "model_name": "DescriptionStyleModel",
     "state": {
      "_model_module": "@jupyter-widgets/controls",
      "_model_module_version": "1.5.0",
      "_model_name": "DescriptionStyleModel",
      "_view_count": null,
      "_view_module": "@jupyter-widgets/base",
      "_view_module_version": "1.2.0",
      "_view_name": "StyleView",
      "description_width": ""
     }
    },
    "8379cc34b9cf4552852a660160d8f23a": {
     "model_module": "@jupyter-widgets/controls",
     "model_module_version": "1.5.0",
     "model_name": "HTMLModel",
     "state": {
      "_dom_classes": [],
      "_model_module": "@jupyter-widgets/controls",
      "_model_module_version": "1.5.0",
      "_model_name": "HTMLModel",
      "_view_count": null,
      "_view_module": "@jupyter-widgets/controls",
      "_view_module_version": "1.5.0",
      "_view_name": "HTMLView",
      "description": "",
      "description_tooltip": null,
      "layout": "IPY_MODEL_8c6dea43537f4c7ab4ffab5104328625",
      "placeholder": "​",
      "style": "IPY_MODEL_5940c120b26949d58aa5eb450cb86ec1",
      "value": "config.json: 100%"
     }
    },
    "85a2cc4dcf374e1789030bc4a3dde03e": {
     "model_module": "@jupyter-widgets/controls",
     "model_module_version": "1.5.0",
     "model_name": "ProgressStyleModel",
     "state": {
      "_model_module": "@jupyter-widgets/controls",
      "_model_module_version": "1.5.0",
      "_model_name": "ProgressStyleModel",
      "_view_count": null,
      "_view_module": "@jupyter-widgets/base",
      "_view_module_version": "1.2.0",
      "_view_name": "StyleView",
      "bar_color": null,
      "description_width": ""
     }
    },
    "8c6dea43537f4c7ab4ffab5104328625": {
     "model_module": "@jupyter-widgets/base",
     "model_module_version": "1.2.0",
     "model_name": "LayoutModel",
     "state": {
      "_model_module": "@jupyter-widgets/base",
      "_model_module_version": "1.2.0",
      "_model_name": "LayoutModel",
      "_view_count": null,
      "_view_module": "@jupyter-widgets/base",
      "_view_module_version": "1.2.0",
      "_view_name": "LayoutView",
      "align_content": null,
      "align_items": null,
      "align_self": null,
      "border": null,
      "bottom": null,
      "display": null,
      "flex": null,
      "flex_flow": null,
      "grid_area": null,
      "grid_auto_columns": null,
      "grid_auto_flow": null,
      "grid_auto_rows": null,
      "grid_column": null,
      "grid_gap": null,
      "grid_row": null,
      "grid_template_areas": null,
      "grid_template_columns": null,
      "grid_template_rows": null,
      "height": null,
      "justify_content": null,
      "justify_items": null,
      "left": null,
      "margin": null,
      "max_height": null,
      "max_width": null,
      "min_height": null,
      "min_width": null,
      "object_fit": null,
      "object_position": null,
      "order": null,
      "overflow": null,
      "overflow_x": null,
      "overflow_y": null,
      "padding": null,
      "right": null,
      "top": null,
      "visibility": null,
      "width": null
     }
    },
    "8d240baac3e640cc9abeed925962e113": {
     "model_module": "@jupyter-widgets/controls",
     "model_module_version": "1.5.0",
     "model_name": "HBoxModel",
     "state": {
      "_dom_classes": [],
      "_model_module": "@jupyter-widgets/controls",
      "_model_module_version": "1.5.0",
      "_model_name": "HBoxModel",
      "_view_count": null,
      "_view_module": "@jupyter-widgets/controls",
      "_view_module_version": "1.5.0",
      "_view_name": "HBoxView",
      "box_style": "",
      "children": [
       "IPY_MODEL_313b7b18c010433f832830df76b73d22",
       "IPY_MODEL_15a8b7f0e45d4813a89a4588a02eb728",
       "IPY_MODEL_27730467c3714e0db0cd7b741e06a478"
      ],
      "layout": "IPY_MODEL_3fffec8454e94bc3b8f8ce7445558b4e"
     }
    },
    "8e808cac932941568dec2e15d7f554b7": {
     "model_module": "@jupyter-widgets/controls",
     "model_module_version": "1.5.0",
     "model_name": "HTMLModel",
     "state": {
      "_dom_classes": [],
      "_model_module": "@jupyter-widgets/controls",
      "_model_module_version": "1.5.0",
      "_model_name": "HTMLModel",
      "_view_count": null,
      "_view_module": "@jupyter-widgets/controls",
      "_view_module_version": "1.5.0",
      "_view_name": "HTMLView",
      "description": "",
      "description_tooltip": null,
      "layout": "IPY_MODEL_1a976c442a4a4eddaaa1915aa964c093",
      "placeholder": "​",
      "style": "IPY_MODEL_0e42db28101e4894bdee1263368d984d",
      "value": " 232k/232k [00:00&lt;00:00, 1.75MB/s]"
     }
    },
    "93565202094a462d8056bd83bb1f5185": {
     "model_module": "@jupyter-widgets/base",
     "model_module_version": "1.2.0",
     "model_name": "LayoutModel",
     "state": {
      "_model_module": "@jupyter-widgets/base",
      "_model_module_version": "1.2.0",
      "_model_name": "LayoutModel",
      "_view_count": null,
      "_view_module": "@jupyter-widgets/base",
      "_view_module_version": "1.2.0",
      "_view_name": "LayoutView",
      "align_content": null,
      "align_items": null,
      "align_self": null,
      "border": null,
      "bottom": null,
      "display": null,
      "flex": null,
      "flex_flow": null,
      "grid_area": null,
      "grid_auto_columns": null,
      "grid_auto_flow": null,
      "grid_auto_rows": null,
      "grid_column": null,
      "grid_gap": null,
      "grid_row": null,
      "grid_template_areas": null,
      "grid_template_columns": null,
      "grid_template_rows": null,
      "height": null,
      "justify_content": null,
      "justify_items": null,
      "left": null,
      "margin": null,
      "max_height": null,
      "max_width": null,
      "min_height": null,
      "min_width": null,
      "object_fit": null,
      "object_position": null,
      "order": null,
      "overflow": null,
      "overflow_x": null,
      "overflow_y": null,
      "padding": null,
      "right": null,
      "top": null,
      "visibility": null,
      "width": null
     }
    },
    "9c569224b35146f2977a8f1e9d7b021e": {
     "model_module": "@jupyter-widgets/base",
     "model_module_version": "1.2.0",
     "model_name": "LayoutModel",
     "state": {
      "_model_module": "@jupyter-widgets/base",
      "_model_module_version": "1.2.0",
      "_model_name": "LayoutModel",
      "_view_count": null,
      "_view_module": "@jupyter-widgets/base",
      "_view_module_version": "1.2.0",
      "_view_name": "LayoutView",
      "align_content": null,
      "align_items": null,
      "align_self": null,
      "border": null,
      "bottom": null,
      "display": null,
      "flex": null,
      "flex_flow": null,
      "grid_area": null,
      "grid_auto_columns": null,
      "grid_auto_flow": null,
      "grid_auto_rows": null,
      "grid_column": null,
      "grid_gap": null,
      "grid_row": null,
      "grid_template_areas": null,
      "grid_template_columns": null,
      "grid_template_rows": null,
      "height": null,
      "justify_content": null,
      "justify_items": null,
      "left": null,
      "margin": null,
      "max_height": null,
      "max_width": null,
      "min_height": null,
      "min_width": null,
      "object_fit": null,
      "object_position": null,
      "order": null,
      "overflow": null,
      "overflow_x": null,
      "overflow_y": null,
      "padding": null,
      "right": null,
      "top": null,
      "visibility": null,
      "width": null
     }
    },
    "a5a6effadf994d00bc8489f859a4f17a": {
     "model_module": "@jupyter-widgets/base",
     "model_module_version": "1.2.0",
     "model_name": "LayoutModel",
     "state": {
      "_model_module": "@jupyter-widgets/base",
      "_model_module_version": "1.2.0",
      "_model_name": "LayoutModel",
      "_view_count": null,
      "_view_module": "@jupyter-widgets/base",
      "_view_module_version": "1.2.0",
      "_view_name": "LayoutView",
      "align_content": null,
      "align_items": null,
      "align_self": null,
      "border": null,
      "bottom": null,
      "display": null,
      "flex": null,
      "flex_flow": null,
      "grid_area": null,
      "grid_auto_columns": null,
      "grid_auto_flow": null,
      "grid_auto_rows": null,
      "grid_column": null,
      "grid_gap": null,
      "grid_row": null,
      "grid_template_areas": null,
      "grid_template_columns": null,
      "grid_template_rows": null,
      "height": null,
      "justify_content": null,
      "justify_items": null,
      "left": null,
      "margin": null,
      "max_height": null,
      "max_width": null,
      "min_height": null,
      "min_width": null,
      "object_fit": null,
      "object_position": null,
      "order": null,
      "overflow": null,
      "overflow_x": null,
      "overflow_y": null,
      "padding": null,
      "right": null,
      "top": null,
      "visibility": null,
      "width": null
     }
    },
    "a893f458c08b418d8d93b85a3de8f2ce": {
     "model_module": "@jupyter-widgets/controls",
     "model_module_version": "1.5.0",
     "model_name": "FloatProgressModel",
     "state": {
      "_dom_classes": [],
      "_model_module": "@jupyter-widgets/controls",
      "_model_module_version": "1.5.0",
      "_model_name": "FloatProgressModel",
      "_view_count": null,
      "_view_module": "@jupyter-widgets/controls",
      "_view_module_version": "1.5.0",
      "_view_name": "ProgressView",
      "bar_style": "success",
      "description": "",
      "description_tooltip": null,
      "layout": "IPY_MODEL_1f274a5c633446b1a290949cfd942bc4",
      "max": 466062,
      "min": 0,
      "orientation": "horizontal",
      "style": "IPY_MODEL_afc9e7a5570d48059dd12e3c2e9eb2d7",
      "value": 466062
     }
    },
    "abd041b72ac9481f8f64ccab9a5b81ef": {
     "model_module": "@jupyter-widgets/controls",
     "model_module_version": "1.5.0",
     "model_name": "ProgressStyleModel",
     "state": {
      "_model_module": "@jupyter-widgets/controls",
      "_model_module_version": "1.5.0",
      "_model_name": "ProgressStyleModel",
      "_view_count": null,
      "_view_module": "@jupyter-widgets/base",
      "_view_module_version": "1.2.0",
      "_view_name": "StyleView",
      "bar_color": null,
      "description_width": ""
     }
    },
    "ae6d3216b58a4999bf46b65d9cfc1778": {
     "model_module": "@jupyter-widgets/controls",
     "model_module_version": "1.5.0",
     "model_name": "DescriptionStyleModel",
     "state": {
      "_model_module": "@jupyter-widgets/controls",
      "_model_module_version": "1.5.0",
      "_model_name": "DescriptionStyleModel",
      "_view_count": null,
      "_view_module": "@jupyter-widgets/base",
      "_view_module_version": "1.2.0",
      "_view_name": "StyleView",
      "description_width": ""
     }
    },
    "afc9e7a5570d48059dd12e3c2e9eb2d7": {
     "model_module": "@jupyter-widgets/controls",
     "model_module_version": "1.5.0",
     "model_name": "ProgressStyleModel",
     "state": {
      "_model_module": "@jupyter-widgets/controls",
      "_model_module_version": "1.5.0",
      "_model_name": "ProgressStyleModel",
      "_view_count": null,
      "_view_module": "@jupyter-widgets/base",
      "_view_module_version": "1.2.0",
      "_view_name": "StyleView",
      "bar_color": null,
      "description_width": ""
     }
    },
    "b4dcb605742845ce999a889d55ca6782": {
     "model_module": "@jupyter-widgets/controls",
     "model_module_version": "1.5.0",
     "model_name": "DescriptionStyleModel",
     "state": {
      "_model_module": "@jupyter-widgets/controls",
      "_model_module_version": "1.5.0",
      "_model_name": "DescriptionStyleModel",
      "_view_count": null,
      "_view_module": "@jupyter-widgets/base",
      "_view_module_version": "1.2.0",
      "_view_name": "StyleView",
      "description_width": ""
     }
    },
    "ba97712cce5f413694707f018584eb29": {
     "model_module": "@jupyter-widgets/base",
     "model_module_version": "1.2.0",
     "model_name": "LayoutModel",
     "state": {
      "_model_module": "@jupyter-widgets/base",
      "_model_module_version": "1.2.0",
      "_model_name": "LayoutModel",
      "_view_count": null,
      "_view_module": "@jupyter-widgets/base",
      "_view_module_version": "1.2.0",
      "_view_name": "LayoutView",
      "align_content": null,
      "align_items": null,
      "align_self": null,
      "border": null,
      "bottom": null,
      "display": null,
      "flex": null,
      "flex_flow": null,
      "grid_area": null,
      "grid_auto_columns": null,
      "grid_auto_flow": null,
      "grid_auto_rows": null,
      "grid_column": null,
      "grid_gap": null,
      "grid_row": null,
      "grid_template_areas": null,
      "grid_template_columns": null,
      "grid_template_rows": null,
      "height": null,
      "justify_content": null,
      "justify_items": null,
      "left": null,
      "margin": null,
      "max_height": null,
      "max_width": null,
      "min_height": null,
      "min_width": null,
      "object_fit": null,
      "object_position": null,
      "order": null,
      "overflow": null,
      "overflow_x": null,
      "overflow_y": null,
      "padding": null,
      "right": null,
      "top": null,
      "visibility": null,
      "width": null
     }
    },
    "be43bf49962f4ccbb7a1d60723af59f3": {
     "model_module": "@jupyter-widgets/controls",
     "model_module_version": "1.5.0",
     "model_name": "HBoxModel",
     "state": {
      "_dom_classes": [],
      "_model_module": "@jupyter-widgets/controls",
      "_model_module_version": "1.5.0",
      "_model_name": "HBoxModel",
      "_view_count": null,
      "_view_module": "@jupyter-widgets/controls",
      "_view_module_version": "1.5.0",
      "_view_name": "HBoxView",
      "box_style": "",
      "children": [
       "IPY_MODEL_c25b344a7af345e28f2d28f155af533c",
       "IPY_MODEL_1438571a66e14425b3ee0de9ffd46a8a",
       "IPY_MODEL_8e808cac932941568dec2e15d7f554b7"
      ],
      "layout": "IPY_MODEL_1a79f1cdec894c2487536712b5d1de18"
     }
    },
    "beb3326bec144eeea6a5c7223b9c1c24": {
     "model_module": "@jupyter-widgets/controls",
     "model_module_version": "1.5.0",
     "model_name": "FloatProgressModel",
     "state": {
      "_dom_classes": [],
      "_model_module": "@jupyter-widgets/controls",
      "_model_module_version": "1.5.0",
      "_model_name": "FloatProgressModel",
      "_view_count": null,
      "_view_module": "@jupyter-widgets/controls",
      "_view_module_version": "1.5.0",
      "_view_name": "ProgressView",
      "bar_style": "success",
      "description": "",
      "description_tooltip": null,
      "layout": "IPY_MODEL_337656f719ff43c6a1bc391c3155fb1e",
      "max": 570,
      "min": 0,
      "orientation": "horizontal",
      "style": "IPY_MODEL_d3b8c10081bb4794a746ccd3313b88dc",
      "value": 570
     }
    },
    "c23e63a14af041bd9e2eb7766d925563": {
     "model_module": "@jupyter-widgets/controls",
     "model_module_version": "1.5.0",
     "model_name": "DescriptionStyleModel",
     "state": {
      "_model_module": "@jupyter-widgets/controls",
      "_model_module_version": "1.5.0",
      "_model_name": "DescriptionStyleModel",
      "_view_count": null,
      "_view_module": "@jupyter-widgets/base",
      "_view_module_version": "1.2.0",
      "_view_name": "StyleView",
      "description_width": ""
     }
    },
    "c25b344a7af345e28f2d28f155af533c": {
     "model_module": "@jupyter-widgets/controls",
     "model_module_version": "1.5.0",
     "model_name": "HTMLModel",
     "state": {
      "_dom_classes": [],
      "_model_module": "@jupyter-widgets/controls",
      "_model_module_version": "1.5.0",
      "_model_name": "HTMLModel",
      "_view_count": null,
      "_view_module": "@jupyter-widgets/controls",
      "_view_module_version": "1.5.0",
      "_view_name": "HTMLView",
      "description": "",
      "description_tooltip": null,
      "layout": "IPY_MODEL_dce83f9f1fd94d7ea500a13fe87c16cf",
      "placeholder": "​",
      "style": "IPY_MODEL_ae6d3216b58a4999bf46b65d9cfc1778",
      "value": "vocab.txt: 100%"
     }
    },
    "c30fae19ef3e4877953bf06f71ac6637": {
     "model_module": "@jupyter-widgets/controls",
     "model_module_version": "1.5.0",
     "model_name": "ProgressStyleModel",
     "state": {
      "_model_module": "@jupyter-widgets/controls",
      "_model_module_version": "1.5.0",
      "_model_name": "ProgressStyleModel",
      "_view_count": null,
      "_view_module": "@jupyter-widgets/base",
      "_view_module_version": "1.2.0",
      "_view_name": "StyleView",
      "bar_color": null,
      "description_width": ""
     }
    },
    "c9f51a609f7246bfbd6d0838de81f55f": {
     "model_module": "@jupyter-widgets/controls",
     "model_module_version": "1.5.0",
     "model_name": "FloatProgressModel",
     "state": {
      "_dom_classes": [],
      "_model_module": "@jupyter-widgets/controls",
      "_model_module_version": "1.5.0",
      "_model_name": "FloatProgressModel",
      "_view_count": null,
      "_view_module": "@jupyter-widgets/controls",
      "_view_module_version": "1.5.0",
      "_view_name": "ProgressView",
      "bar_style": "success",
      "description": "",
      "description_tooltip": null,
      "layout": "IPY_MODEL_ba97712cce5f413694707f018584eb29",
      "max": 440449768,
      "min": 0,
      "orientation": "horizontal",
      "style": "IPY_MODEL_c30fae19ef3e4877953bf06f71ac6637",
      "value": 440449768
     }
    },
    "d2c76a19a89a445f97ad7d8db8f50809": {
     "model_module": "@jupyter-widgets/controls",
     "model_module_version": "1.5.0",
     "model_name": "HBoxModel",
     "state": {
      "_dom_classes": [],
      "_model_module": "@jupyter-widgets/controls",
      "_model_module_version": "1.5.0",
      "_model_name": "HBoxModel",
      "_view_count": null,
      "_view_module": "@jupyter-widgets/controls",
      "_view_module_version": "1.5.0",
      "_view_name": "HBoxView",
      "box_style": "",
      "children": [
       "IPY_MODEL_74e43b0430ee43a1a19ec013f16d2a30",
       "IPY_MODEL_c9f51a609f7246bfbd6d0838de81f55f",
       "IPY_MODEL_136bd0b952424d3b80f0205eda0a10df"
      ],
      "layout": "IPY_MODEL_198a43626c3e46baa9b5b37d5911c249"
     }
    },
    "d3b8c10081bb4794a746ccd3313b88dc": {
     "model_module": "@jupyter-widgets/controls",
     "model_module_version": "1.5.0",
     "model_name": "ProgressStyleModel",
     "state": {
      "_model_module": "@jupyter-widgets/controls",
      "_model_module_version": "1.5.0",
      "_model_name": "ProgressStyleModel",
      "_view_count": null,
      "_view_module": "@jupyter-widgets/base",
      "_view_module_version": "1.2.0",
      "_view_name": "StyleView",
      "bar_color": null,
      "description_width": ""
     }
    },
    "d59db8c14a76458bae223e1677823169": {
     "model_module": "@jupyter-widgets/controls",
     "model_module_version": "1.5.0",
     "model_name": "DescriptionStyleModel",
     "state": {
      "_model_module": "@jupyter-widgets/controls",
      "_model_module_version": "1.5.0",
      "_model_name": "DescriptionStyleModel",
      "_view_count": null,
      "_view_module": "@jupyter-widgets/base",
      "_view_module_version": "1.2.0",
      "_view_name": "StyleView",
      "description_width": ""
     }
    },
    "dce83f9f1fd94d7ea500a13fe87c16cf": {
     "model_module": "@jupyter-widgets/base",
     "model_module_version": "1.2.0",
     "model_name": "LayoutModel",
     "state": {
      "_model_module": "@jupyter-widgets/base",
      "_model_module_version": "1.2.0",
      "_model_name": "LayoutModel",
      "_view_count": null,
      "_view_module": "@jupyter-widgets/base",
      "_view_module_version": "1.2.0",
      "_view_name": "LayoutView",
      "align_content": null,
      "align_items": null,
      "align_self": null,
      "border": null,
      "bottom": null,
      "display": null,
      "flex": null,
      "flex_flow": null,
      "grid_area": null,
      "grid_auto_columns": null,
      "grid_auto_flow": null,
      "grid_auto_rows": null,
      "grid_column": null,
      "grid_gap": null,
      "grid_row": null,
      "grid_template_areas": null,
      "grid_template_columns": null,
      "grid_template_rows": null,
      "height": null,
      "justify_content": null,
      "justify_items": null,
      "left": null,
      "margin": null,
      "max_height": null,
      "max_width": null,
      "min_height": null,
      "min_width": null,
      "object_fit": null,
      "object_position": null,
      "order": null,
      "overflow": null,
      "overflow_x": null,
      "overflow_y": null,
      "padding": null,
      "right": null,
      "top": null,
      "visibility": null,
      "width": null
     }
    },
    "e7185a70711f43f5ac5c435a7f4c11d7": {
     "model_module": "@jupyter-widgets/controls",
     "model_module_version": "1.5.0",
     "model_name": "HBoxModel",
     "state": {
      "_dom_classes": [],
      "_model_module": "@jupyter-widgets/controls",
      "_model_module_version": "1.5.0",
      "_model_name": "HBoxModel",
      "_view_count": null,
      "_view_module": "@jupyter-widgets/controls",
      "_view_module_version": "1.5.0",
      "_view_name": "HBoxView",
      "box_style": "",
      "children": [
       "IPY_MODEL_0ef45d1dad514b1284331b4ed5fbb8af",
       "IPY_MODEL_a893f458c08b418d8d93b85a3de8f2ce",
       "IPY_MODEL_5a0c7dacc1cb4917b752b4fa0b55b15c"
      ],
      "layout": "IPY_MODEL_1e6cf91d877a49f397325e91a7707e44"
     }
    },
    "e8b486df81d24f49aa51f99476fd5845": {
     "model_module": "@jupyter-widgets/base",
     "model_module_version": "1.2.0",
     "model_name": "LayoutModel",
     "state": {
      "_model_module": "@jupyter-widgets/base",
      "_model_module_version": "1.2.0",
      "_model_name": "LayoutModel",
      "_view_count": null,
      "_view_module": "@jupyter-widgets/base",
      "_view_module_version": "1.2.0",
      "_view_name": "LayoutView",
      "align_content": null,
      "align_items": null,
      "align_self": null,
      "border": null,
      "bottom": null,
      "display": null,
      "flex": null,
      "flex_flow": null,
      "grid_area": null,
      "grid_auto_columns": null,
      "grid_auto_flow": null,
      "grid_auto_rows": null,
      "grid_column": null,
      "grid_gap": null,
      "grid_row": null,
      "grid_template_areas": null,
      "grid_template_columns": null,
      "grid_template_rows": null,
      "height": null,
      "justify_content": null,
      "justify_items": null,
      "left": null,
      "margin": null,
      "max_height": null,
      "max_width": null,
      "min_height": null,
      "min_width": null,
      "object_fit": null,
      "object_position": null,
      "order": null,
      "overflow": null,
      "overflow_x": null,
      "overflow_y": null,
      "padding": null,
      "right": null,
      "top": null,
      "visibility": null,
      "width": null
     }
    }
   }
  }
 },
 "nbformat": 4,
 "nbformat_minor": 4
}
