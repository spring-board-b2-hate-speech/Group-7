{
  "cells": [
    {
      "cell_type": "code",
      "execution_count": null,
      "id": "e147fedc",
      "metadata": {
        "id": "e147fedc"
      },
      "outputs": [],
      "source": [
        "# Basic Python package\n",
        "import pandas as pd\n",
        "import numpy as np\n",
        "import seaborn as sns\n",
        "import matplotlib.pyplot as plt\n",
        "import string\n",
        "import re"
      ]
    },
    {
      "cell_type": "code",
      "execution_count": null,
      "id": "ef575e94",
      "metadata": {
        "id": "ef575e94"
      },
      "outputs": [],
      "source": [
        "# Load the TSV files\n",
        "train_file_path = r'C:\\Users\\prits\\Downloads\\Data\\ghc_train.tsv'\n",
        "df = pd.read_csv(train_file_path, sep='\\t')"
      ]
    },
    {
      "cell_type": "markdown",
      "id": "1fe9c4c2",
      "metadata": {
        "id": "1fe9c4c2"
      },
      "source": [
        "# DATA CLEANING"
      ]
    },
    {
      "cell_type": "code",
      "execution_count": null,
      "id": "d2591075",
      "metadata": {
        "id": "d2591075",
        "outputId": "9a34f35e-7188-4be5-84a0-83ea30d01ab2"
      },
      "outputs": [
        {
          "data": {
            "text/plain": [
              "Index(['text', 'hd', 'cv', 'vo'], dtype='object')"
            ]
          },
          "execution_count": 3,
          "metadata": {},
          "output_type": "execute_result"
        }
      ],
      "source": [
        "#To know are the columns in our dataset\n",
        "# Columns: Assault on Human Dignity (hd), Calls for Violence (cv), Vulgarity/Offensive Language directed at an individual (vo)\n",
        "df.columns"
      ]
    },
    {
      "cell_type": "code",
      "execution_count": null,
      "id": "9b9089f4",
      "metadata": {
        "id": "9b9089f4",
        "outputId": "f50c20c2-632f-4d53-bdd5-b24ffb027afc"
      },
      "outputs": [
        {
          "data": {
            "text/html": [
              "<div>\n",
              "<style scoped>\n",
              "    .dataframe tbody tr th:only-of-type {\n",
              "        vertical-align: middle;\n",
              "    }\n",
              "\n",
              "    .dataframe tbody tr th {\n",
              "        vertical-align: top;\n",
              "    }\n",
              "\n",
              "    .dataframe thead th {\n",
              "        text-align: right;\n",
              "    }\n",
              "</style>\n",
              "<table border=\"1\" class=\"dataframe\">\n",
              "  <thead>\n",
              "    <tr style=\"text-align: right;\">\n",
              "      <th></th>\n",
              "      <th>text</th>\n",
              "      <th>hd</th>\n",
              "      <th>cv</th>\n",
              "      <th>vo</th>\n",
              "    </tr>\n",
              "  </thead>\n",
              "  <tbody>\n",
              "    <tr>\n",
              "      <th>0</th>\n",
              "      <td>He most likely converted to islam due to his n...</td>\n",
              "      <td>0</td>\n",
              "      <td>0</td>\n",
              "      <td>0</td>\n",
              "    </tr>\n",
              "    <tr>\n",
              "      <th>1</th>\n",
              "      <td>So Ford lied about being a psychologist. Recor...</td>\n",
              "      <td>0</td>\n",
              "      <td>0</td>\n",
              "      <td>0</td>\n",
              "    </tr>\n",
              "    <tr>\n",
              "      <th>2</th>\n",
              "      <td>Jobs. Education. Ending abuse of Nation. CA43.</td>\n",
              "      <td>0</td>\n",
              "      <td>0</td>\n",
              "      <td>0</td>\n",
              "    </tr>\n",
              "    <tr>\n",
              "      <th>3</th>\n",
              "      <td>I share a lot of your values, &amp; like many who ...</td>\n",
              "      <td>0</td>\n",
              "      <td>0</td>\n",
              "      <td>0</td>\n",
              "    </tr>\n",
              "    <tr>\n",
              "      <th>4</th>\n",
              "      <td>I am so ready to get back to blogging! www.ben...</td>\n",
              "      <td>0</td>\n",
              "      <td>0</td>\n",
              "      <td>0</td>\n",
              "    </tr>\n",
              "    <tr>\n",
              "      <th>5</th>\n",
              "      <td>taking a look at new opportunity called FX Pro...</td>\n",
              "      <td>0</td>\n",
              "      <td>0</td>\n",
              "      <td>0</td>\n",
              "    </tr>\n",
              "    <tr>\n",
              "      <th>6</th>\n",
              "      <td>Reflecting back when I was in school with Spec...</td>\n",
              "      <td>0</td>\n",
              "      <td>0</td>\n",
              "      <td>0</td>\n",
              "    </tr>\n",
              "    <tr>\n",
              "      <th>7</th>\n",
              "      <td>Let's be honest everyone, last year there were...</td>\n",
              "      <td>0</td>\n",
              "      <td>0</td>\n",
              "      <td>0</td>\n",
              "    </tr>\n",
              "    <tr>\n",
              "      <th>8</th>\n",
              "      <td>2007 Nuke plant in Syria</td>\n",
              "      <td>0</td>\n",
              "      <td>0</td>\n",
              "      <td>0</td>\n",
              "    </tr>\n",
              "    <tr>\n",
              "      <th>9</th>\n",
              "      <td>NBC's Chuck Todd Thinks He's Figured It All Ou...</td>\n",
              "      <td>0</td>\n",
              "      <td>0</td>\n",
              "      <td>0</td>\n",
              "    </tr>\n",
              "  </tbody>\n",
              "</table>\n",
              "</div>"
            ],
            "text/plain": [
              "                                                text  hd  cv  vo\n",
              "0  He most likely converted to islam due to his n...   0   0   0\n",
              "1  So Ford lied about being a psychologist. Recor...   0   0   0\n",
              "2     Jobs. Education. Ending abuse of Nation. CA43.   0   0   0\n",
              "3  I share a lot of your values, & like many who ...   0   0   0\n",
              "4  I am so ready to get back to blogging! www.ben...   0   0   0\n",
              "5  taking a look at new opportunity called FX Pro...   0   0   0\n",
              "6  Reflecting back when I was in school with Spec...   0   0   0\n",
              "7  Let's be honest everyone, last year there were...   0   0   0\n",
              "8                          2007 Nuke plant in Syria    0   0   0\n",
              "9  NBC's Chuck Todd Thinks He's Figured It All Ou...   0   0   0"
            ]
          },
          "execution_count": 4,
          "metadata": {},
          "output_type": "execute_result"
        }
      ],
      "source": [
        "#Top 10 rows in our dataset\n",
        "df.head(10)"
      ]
    },
    {
      "cell_type": "code",
      "execution_count": null,
      "id": "39a13d35",
      "metadata": {
        "id": "39a13d35",
        "outputId": "766ab08f-cab2-4085-ae72-19b936468849"
      },
      "outputs": [
        {
          "data": {
            "text/html": [
              "<div>\n",
              "<style scoped>\n",
              "    .dataframe tbody tr th:only-of-type {\n",
              "        vertical-align: middle;\n",
              "    }\n",
              "\n",
              "    .dataframe tbody tr th {\n",
              "        vertical-align: top;\n",
              "    }\n",
              "\n",
              "    .dataframe thead th {\n",
              "        text-align: right;\n",
              "    }\n",
              "</style>\n",
              "<table border=\"1\" class=\"dataframe\">\n",
              "  <thead>\n",
              "    <tr style=\"text-align: right;\">\n",
              "      <th></th>\n",
              "      <th>hd</th>\n",
              "      <th>cv</th>\n",
              "      <th>vo</th>\n",
              "    </tr>\n",
              "  </thead>\n",
              "  <tbody>\n",
              "    <tr>\n",
              "      <th>count</th>\n",
              "      <td>22036.000000</td>\n",
              "      <td>22036.000000</td>\n",
              "      <td>22036.000000</td>\n",
              "    </tr>\n",
              "    <tr>\n",
              "      <th>mean</th>\n",
              "      <td>0.084271</td>\n",
              "      <td>0.005945</td>\n",
              "      <td>0.062579</td>\n",
              "    </tr>\n",
              "    <tr>\n",
              "      <th>std</th>\n",
              "      <td>0.277800</td>\n",
              "      <td>0.076875</td>\n",
              "      <td>0.242210</td>\n",
              "    </tr>\n",
              "    <tr>\n",
              "      <th>min</th>\n",
              "      <td>0.000000</td>\n",
              "      <td>0.000000</td>\n",
              "      <td>0.000000</td>\n",
              "    </tr>\n",
              "    <tr>\n",
              "      <th>25%</th>\n",
              "      <td>0.000000</td>\n",
              "      <td>0.000000</td>\n",
              "      <td>0.000000</td>\n",
              "    </tr>\n",
              "    <tr>\n",
              "      <th>50%</th>\n",
              "      <td>0.000000</td>\n",
              "      <td>0.000000</td>\n",
              "      <td>0.000000</td>\n",
              "    </tr>\n",
              "    <tr>\n",
              "      <th>75%</th>\n",
              "      <td>0.000000</td>\n",
              "      <td>0.000000</td>\n",
              "      <td>0.000000</td>\n",
              "    </tr>\n",
              "    <tr>\n",
              "      <th>max</th>\n",
              "      <td>1.000000</td>\n",
              "      <td>1.000000</td>\n",
              "      <td>1.000000</td>\n",
              "    </tr>\n",
              "  </tbody>\n",
              "</table>\n",
              "</div>"
            ],
            "text/plain": [
              "                 hd            cv            vo\n",
              "count  22036.000000  22036.000000  22036.000000\n",
              "mean       0.084271      0.005945      0.062579\n",
              "std        0.277800      0.076875      0.242210\n",
              "min        0.000000      0.000000      0.000000\n",
              "25%        0.000000      0.000000      0.000000\n",
              "50%        0.000000      0.000000      0.000000\n",
              "75%        0.000000      0.000000      0.000000\n",
              "max        1.000000      1.000000      1.000000"
            ]
          },
          "execution_count": 5,
          "metadata": {},
          "output_type": "execute_result"
        }
      ],
      "source": [
        "#Describe function to find total count,etc\n",
        "df.describe()"
      ]
    },
    {
      "cell_type": "code",
      "execution_count": null,
      "id": "a21851ae",
      "metadata": {
        "id": "a21851ae",
        "outputId": "9ce503b2-904b-491c-a700-9b125cc436ea"
      },
      "outputs": [
        {
          "data": {
            "text/plain": [
              "text    22036\n",
              "hd      22036\n",
              "cv      22036\n",
              "vo      22036\n",
              "dtype: int64"
            ]
          },
          "execution_count": 37,
          "metadata": {},
          "output_type": "execute_result"
        }
      ],
      "source": [
        "df.count()"
      ]
    },
    {
      "cell_type": "code",
      "execution_count": null,
      "id": "854fb46b",
      "metadata": {
        "id": "854fb46b",
        "outputId": "a2128b9e-7662-4347-8f75-aabfc47ea5d1"
      },
      "outputs": [
        {
          "name": "stdout",
          "output_type": "stream",
          "text": [
            "text    0\n",
            "hd      0\n",
            "cv      0\n",
            "vo      0\n",
            "dtype: int64\n"
          ]
        }
      ],
      "source": [
        "#CHECKING IF THERE IS ANY NULL VALUES\n",
        "print(df.isnull().sum())"
      ]
    },
    {
      "cell_type": "code",
      "execution_count": null,
      "id": "ee292669",
      "metadata": {
        "id": "ee292669",
        "outputId": "0d02aec2-1cd6-4c6f-efa6-c32a809cf582"
      },
      "outputs": [
        {
          "data": {
            "text/plain": [
              "72"
            ]
          },
          "execution_count": 9,
          "metadata": {},
          "output_type": "execute_result"
        }
      ],
      "source": [
        "#CHECKING IF THERE IS ANY DUPLICATE VALUES\n",
        "df.duplicated().sum()\n"
      ]
    },
    {
      "cell_type": "code",
      "execution_count": null,
      "id": "f7173243",
      "metadata": {
        "id": "f7173243"
      },
      "outputs": [],
      "source": [
        "# removing the duplicates and keeing just the first occurrence\n",
        "df = df.drop_duplicates()"
      ]
    },
    {
      "cell_type": "code",
      "execution_count": null,
      "id": "99cbe096",
      "metadata": {
        "id": "99cbe096",
        "outputId": "4292003f-eea1-48a8-a7a7-f3a5028013ac"
      },
      "outputs": [
        {
          "data": {
            "text/plain": [
              "0"
            ]
          },
          "execution_count": 11,
          "metadata": {},
          "output_type": "execute_result"
        }
      ],
      "source": [
        "#again checking for duplicates\n",
        "df.duplicated().sum()"
      ]
    },
    {
      "cell_type": "markdown",
      "id": "c90ec1d5",
      "metadata": {
        "id": "c90ec1d5"
      },
      "source": [
        "# PIE CHART FOR VISUALISATION"
      ]
    },
    {
      "cell_type": "code",
      "execution_count": null,
      "id": "37fb8dc4",
      "metadata": {
        "id": "37fb8dc4",
        "outputId": "e693716a-3359-46f2-f48d-1a981458dc11"
      },
      "outputs": [
        {
          "data": {
            "image/png": "[encoded data removed]",
            "text/plain": [
              "<Figure size 576x576 with 1 Axes>"
            ]
          },
          "metadata": {},
          "output_type": "display_data"
        }
      ],
      "source": [
        "import matplotlib.pyplot as plt\n",
        "\n",
        "# Sum the values of each column\n",
        "hd_sum = df['hd'].sum()\n",
        "cv_sum = df['cv'].sum()\n",
        "vo_sum = df['vo'].sum()\n",
        "\n",
        "# Create a list of sums and corresponding labels\n",
        "sums = [hd_sum, cv_sum, vo_sum]\n",
        "labels = ['hd', 'cv', 'vo']\n",
        "\n",
        "# Create a pie chart\n",
        "plt.figure(figsize=(8, 8))\n",
        "plt.pie(sums, labels=labels, autopct='%1.1f%%', startangle=140)\n",
        "plt.title('Distribution of hd, cv, and vo in the Dataset')\n",
        "plt.axis('equal')  # Equal aspect ratio ensures that pie is drawn as a circle.\n",
        "plt.show()\n"
      ]
    },
    {
      "cell_type": "markdown",
      "id": "8e633fa5",
      "metadata": {
        "id": "8e633fa5"
      },
      "source": [
        "# Punctuation Removal"
      ]
    },
    {
      "cell_type": "code",
      "execution_count": null,
      "id": "56d4ab9a",
      "metadata": {
        "id": "56d4ab9a",
        "outputId": "c58d8b40-4f1c-4617-f23b-16467e2f777d"
      },
      "outputs": [
        {
          "name": "stdout",
          "output_type": "stream",
          "text": [
            "<bound method NDFrame.head of                                                     text  hd  cv  vo\n",
            "0      He most likely converted to islam due to his n...   0   0   0\n",
            "1      So Ford lied about being a psychologist Record...   0   0   0\n",
            "2             Jobs Education Ending abuse of Nation CA43   0   0   0\n",
            "3      I share a lot of your values  like many who do...   0   0   0\n",
            "4      I am so ready to get back to blogging wwwbenbr...   0   0   0\n",
            "...                                                  ...  ..  ..  ..\n",
            "22031  Im a fan of western civilization and one bedro...   0   0   0\n",
            "22032  Or  is she saying that Muslims dont know how t...   0   0   0\n",
            "22033  Thank you to all my followers that follow me e...   0   0   0\n",
            "22034  Wednesday music httpswwwyoutubecomwatchvfI2Z1l...   0   0   0\n",
            "22035  This is a really Big Surprise  httpswwwwndcom2...   0   0   0\n",
            "\n",
            "[21964 rows x 4 columns]>\n"
          ]
        }
      ],
      "source": [
        "# Remove punctuations and symbols\n",
        "def remove_punctuation(text):\n",
        "    if isinstance(text, str):\n",
        "        return text.translate(str.maketrans('', \"\", string.punctuation))\n",
        "    return text\n",
        "# Apply the function to all string cells in the DataFrame\n",
        "df = df.applymap(remove_punctuation)\n",
        "print(df.head)"
      ]
    },
    {
      "cell_type": "code",
      "execution_count": null,
      "id": "5b45c822",
      "metadata": {
        "id": "5b45c822"
      },
      "outputs": [],
      "source": [
        "#removing double quotes\n",
        "import re\n",
        "\n",
        "def remove_quotes(text):\n",
        "    if isinstance(text, str):\n",
        "        return re.sub(r'[“”]', '', text)\n",
        "    else:\n",
        "        return text\n",
        "\n",
        "df = df.applymap(remove_quotes)\n"
      ]
    },
    {
      "cell_type": "markdown",
      "id": "c0a781c8",
      "metadata": {
        "id": "c0a781c8"
      },
      "source": [
        "# STOPWORDS REMOVAL"
      ]
    },
    {
      "cell_type": "code",
      "execution_count": null,
      "id": "b5bfbbfa",
      "metadata": {
        "id": "b5bfbbfa",
        "outputId": "187bff53-260e-4fbe-aa2a-65171959b538"
      },
      "outputs": [
        {
          "name": "stderr",
          "output_type": "stream",
          "text": [
            "[nltk_data] Downloading package punkt to\n",
            "[nltk_data]     C:\\Users\\prits\\AppData\\Roaming\\nltk_data...\n",
            "[nltk_data]   Package punkt is already up-to-date!\n",
            "[nltk_data] Downloading package stopwords to\n",
            "[nltk_data]     C:\\Users\\prits\\AppData\\Roaming\\nltk_data...\n",
            "[nltk_data]   Package stopwords is already up-to-date!\n"
          ]
        },
        {
          "name": "stdout",
          "output_type": "stream",
          "text": [
            "{'so', \"mightn't\", \"wasn't\", \"that'll\", 'whom', 'were', 'the', 'are', 'during', 'down', \"it's\", 'such', \"she's\", 'those', \"you're\", 'how', \"don't\", 'aren', 'my', \"won't\", 'against', 'itself', 'him', 'now', 'because', 'couldn', 'nor', 'until', 'myself', \"you'd\", 'herself', 'being', 'wouldn', 'an', 'had', 'up', 'more', 'own', 'but', 'having', 'themselves', 'and', 'hers', 'shan', 'once', 'not', 'just', 'if', 'm', \"isn't\", 'when', 'me', 'ourselves', 'our', 'theirs', 'have', 'won', 'do', 'this', 'through', 'd', 'same', 'after', 'needn', 'their', \"aren't\", 'again', 'in', 'didn', 'further', 'hasn', 'his', 'wasn', 'hadn', 'no', 'who', 'here', 'most', 'll', 'weren', 'yourself', 'doing', 'was', 'by', 'then', 'did', 'he', 'there', 'doesn', 'you', \"haven't\", 'only', 'she', 'why', 'been', 'these', \"shan't\", 'some', 're', 'out', 'its', 'few', \"couldn't\", 'yours', 'don', 'all', \"mustn't\", \"didn't\", 'between', 'each', \"needn't\", 'should', 'as', 'at', 'very', 'than', 'from', 'ours', 'your', 'for', 'isn', 'about', 'shouldn', \"weren't\", 'above', 'that', 'which', 'does', 'it', 'is', \"hadn't\", 'ma', 'himself', \"should've\", 'her', \"doesn't\", \"hasn't\", 'too', 'any', 'with', 'other', 'what', 'y', 'we', \"you'll\", 'into', 'a', 'where', 'can', 'haven', 'yourselves', \"you've\", 'off', 'will', \"wouldn't\", 'has', 'over', 'before', 'they', 'i', 't', 'mustn', \"shouldn't\", 'of', 'both', 'while', 'under', 'o', 'be', 'to', 've', 'ain', 'mightn', 'am', 's', 'them', 'on', 'or', 'below'}\n",
            "Cleaned DataFrame:\n",
            "                                                text  hd  cv  vo\n",
            "0  likely converted islam due nature suitable isl...   0   0   0\n",
            "1  Ford lied psychologist . Records seem indicate...   0   0   0\n",
            "2    Jobs . Education . Ending abuse Nation . CA43 .   0   0   0\n",
            "3  share lot values , & like many , n't call alt ...   0   0   0\n",
            "4  ready get back blogging ! www.benbrihouse.com ...   0   0   0\n"
          ]
        }
      ],
      "source": [
        "import nltk\n",
        "from nltk.corpus import stopwords\n",
        "from nltk.tokenize import word_tokenize\n",
        "\n",
        "#stopwords are commonly used words in a language that are often ignored  or filtered out in natural language processing\n",
        "#tasks beacuase they carry less meaningful information compared to other words\n",
        "# Download the necessary NLTK resources\n",
        "nltk.download('punkt')\n",
        "nltk.download('stopwords')\n",
        "\n",
        "# Get the list of stopwords\n",
        "stop_words = set(stopwords.words('english'))\n",
        "print(stop_words)\n",
        "\n",
        "# Define a function to remove stopwords\n",
        "def remove_stopwords(text):\n",
        "    if isinstance(text, str):\n",
        "        words = word_tokenize(text)\n",
        "        return ' '.join([word for word in words if word.lower() not in stop_words])\n",
        "    return text\n",
        "\n",
        "# Function to process a chunk\n",
        "def process_chunk(chunk):\n",
        "    return chunk.applymap(remove_stopwords)\n",
        "\n",
        "# Process the train dataset in chunks\n",
        "train_processed_chunks = []\n",
        "chunk_size = 21976\n",
        "for chunk in pd.read_csv(train_file_path, sep='\\t', chunksize=chunk_size):\n",
        "    processed_chunk = process_chunk(chunk)\n",
        "    train_processed_chunks.append(processed_chunk)\n",
        "\n",
        "# Concatenate all processed chunks into a single DataFrame for train data\n",
        "df_cleaned = pd.concat(train_processed_chunks, ignore_index=True)\n",
        "\n",
        "# Display a few rows of the cleaned train DataFrame\n",
        "print(\"Cleaned DataFrame:\")\n",
        "print(df_cleaned.head())\n",
        "\n"
      ]
    },
    {
      "cell_type": "markdown",
      "id": "bb591613",
      "metadata": {
        "id": "bb591613"
      },
      "source": [
        "# STEMMING"
      ]
    },
    {
      "cell_type": "code",
      "execution_count": null,
      "id": "2cfc5e6c",
      "metadata": {
        "id": "2cfc5e6c",
        "outputId": "aca60df3-9fe5-47f9-e630-eea7d0585a4b"
      },
      "outputs": [
        {
          "name": "stdout",
          "output_type": "stream",
          "text": [
            "Cleaned DataFrame:\n",
            "                                                text  hd  cv  vo\n",
            "0  he most like convert to islam due to hi natur ...   0   0   0\n",
            "1  so ford lie about be a psychologist . record s...   0   0   0\n",
            "2           job . educ . end abus of nation . ca43 .   0   0   0\n",
            "3  i share a lot of your valu , & like mani who d...   0   0   0\n",
            "4  i am so readi to get back to blog ! www.benbri...   0   0   0\n"
          ]
        }
      ],
      "source": [
        "import nltk\n",
        "from nltk.stem import PorterStemmer\n",
        "from nltk.tokenize import word_tokenize\n",
        "\n",
        "#Stemming is an NLP technique used to reducce words to their base or root form.\n",
        "#for eg, the words \"running\", \"runner\", and \"ran\" can all be reduced to the stem \"run\"\n",
        "\n",
        "# Initialize the PorterStemmer\n",
        "stemmer = PorterStemmer()\n",
        "\n",
        "# Define a function to perform stemming\n",
        "def stem_text(text):\n",
        "    if isinstance(text, str):\n",
        "        words = word_tokenize(text)\n",
        "        return ' '.join([stemmer.stem(word) for word in words])\n",
        "    return text\n",
        "\n",
        "# Function to process a chunk\n",
        "def process_chunk(chunk):\n",
        "    return chunk.applymap(stem_text)\n",
        "\n",
        "# Process the train dataset in chunks\n",
        "train_processed_chunks = []\n",
        "chunk_size = 21976\n",
        "for chunk in pd.read_csv(train_file_path, sep='\\t', chunksize=chunk_size):\n",
        "    processed_chunk = process_chunk(chunk)\n",
        "    train_processed_chunks.append(processed_chunk)\n",
        "\n",
        "# Concatenate all processed chunks into a single DataFrame for train data\n",
        "df= pd.concat(train_processed_chunks, ignore_index=True)\n",
        "\n",
        "# Display a few rows of the cleaned train DataFrame\n",
        "print(\"Cleaned DataFrame:\")\n",
        "print(df.head())\n",
        "\n"
      ]
    },
    {
      "cell_type": "markdown",
      "id": "370bc140",
      "metadata": {
        "id": "370bc140"
      },
      "source": [
        "# LEMMITIZATION"
      ]
    },
    {
      "cell_type": "code",
      "execution_count": null,
      "id": "065bdc92",
      "metadata": {
        "id": "065bdc92",
        "outputId": "b3126c47-e546-4b15-b980-d37b306a9527"
      },
      "outputs": [
        {
          "name": "stderr",
          "output_type": "stream",
          "text": [
            "[nltk_data] Downloading package omw-1.4 to\n",
            "[nltk_data]     C:\\Users\\prits\\AppData\\Roaming\\nltk_data...\n",
            "[nltk_data]   Package omw-1.4 is already up-to-date!\n"
          ]
        },
        {
          "data": {
            "text/plain": [
              "True"
            ]
          },
          "execution_count": 28,
          "metadata": {},
          "output_type": "execute_result"
        }
      ],
      "source": [
        "import nltk\n",
        "nltk.download('omw-1.4')\n"
      ]
    },
    {
      "cell_type": "code",
      "execution_count": null,
      "id": "f2455dc9",
      "metadata": {
        "id": "f2455dc9",
        "outputId": "7e318707-d486-4ac2-840f-4df612a6a49d"
      },
      "outputs": [
        {
          "name": "stderr",
          "output_type": "stream",
          "text": [
            "[nltk_data] Downloading package punkt to\n",
            "[nltk_data]     C:\\Users\\prits\\AppData\\Roaming\\nltk_data...\n",
            "[nltk_data]   Package punkt is already up-to-date!\n",
            "[nltk_data] Downloading package wordnet to\n",
            "[nltk_data]     C:\\Users\\prits\\AppData\\Roaming\\nltk_data...\n",
            "[nltk_data]   Package wordnet is already up-to-date!\n"
          ]
        },
        {
          "name": "stdout",
          "output_type": "stream",
          "text": [
            "Cleaned Train DataFrame:\n",
            "                                                text  hd  cv  vo\n",
            "0  He most likely converted to islam due to his n...   0   0   0\n",
            "1  So Ford lied about being a psychologist . Reco...   0   0   0\n",
            "2  Jobs . Education . Ending abuse of Nation . CA...   0   0   0\n",
            "3  I share a lot of your value , & like many who ...   0   0   0\n",
            "4  I am so ready to get back to blogging ! www.be...   0   0   0\n",
            "Cleaned Test DataFrame:\n",
            "                                                text  hd  cv  vo\n",
            "0  http : //www.youtube.com/watch ? v=kACWpKAKtak...   0   0   0\n",
            "1  Very nice ! I tend to get tired of the constan...   0   0   0\n",
            "2      Watch today . http : //circumcisionmovie.com/   0   0   0\n",
            "3  `` Thinking Venues `` First Color Layer blocki...   0   0   0\n",
            "4  What about death penalty for perpetrator and e...   0   0   0\n"
          ]
        }
      ],
      "source": [
        "#Lemmitization ia a NLP technique that invloves reducing words to thier base or dictionary form, known as the lemma.\n",
        "#eg: words: \"running\", \"ran\", \"runs\" ..... lemma:\"run\"\n",
        "\n",
        "import pandas as pd\n",
        "import nltk\n",
        "from nltk.stem import WordNetLemmatizer\n",
        "from nltk.tokenize import word_tokenize\n",
        "\n",
        "# Download the necessary NLTK resources\n",
        "nltk.download('punkt')\n",
        "nltk.download('wordnet')\n",
        "\n",
        "# Initialize the WordNetLemmatizer\n",
        "lemmatizer = WordNetLemmatizer()\n",
        "\n",
        "# Define a function to perform lemmatization\n",
        "def lemmatize_text(text):\n",
        "    if isinstance(text, str):\n",
        "        words = word_tokenize(text)\n",
        "        return ' '.join([lemmatizer.lemmatize(word) for word in words])\n",
        "    return text\n",
        "\n",
        "# Function to process a chunk\n",
        "def process_chunk(chunk):\n",
        "    return chunk.applymap(lemmatize_text)\n",
        "\n",
        "# Process the train dataset in chunks\n",
        "train_processed_chunks = []\n",
        "chunk_size = 21976\n",
        "for chunk in pd.read_csv(train_file_path, sep='\\t', chunksize=chunk_size):\n",
        "    processed_chunk = process_chunk(chunk)\n",
        "    train_processed_chunks.append(processed_chunk)\n",
        "\n",
        "# Concatenate all processed chunks into a single DataFrame for train data\n",
        "df_cleaned = pd.concat(train_processed_chunks, ignore_index=True)\n",
        "\n",
        "\n",
        "# Display a few rows of the cleaned train DataFrame\n",
        "print(\"Cleaned DataFrame:\")\n",
        "print(df_cleaned.head())\n",
        "\n"
      ]
    },
    {
      "cell_type": "markdown",
      "id": "eb87a238",
      "metadata": {
        "id": "eb87a238"
      },
      "source": [
        "ADDING A NEW COLUMN CALLED LABEL"
      ]
    },
    {
      "cell_type": "code",
      "execution_count": null,
      "id": "da7c990d",
      "metadata": {
        "id": "da7c990d"
      },
      "outputs": [],
      "source": [
        "#As hd cv and vo are the types of hatespeech so the additional column called label will tell whether the text we have is hate speech or not\n",
        "# Adding 'label' column\n",
        "train_df['label'] = ((train_df['hd'] == 1) | (train_df['cv'] == 1) | (train_df['vo'] == 1)).astype(int)\n",
        "test_df['label'] = ((test_df['hd'] == 1) | (test_df['cv'] == 1) | (test_df['vo'] == 1)).astype(int)\n"
      ]
    },
    {
      "cell_type": "markdown",
      "id": "c7e67290",
      "metadata": {
        "id": "c7e67290"
      },
      "source": [
        "# URL removal, hastags and mentions"
      ]
    },
    {
      "cell_type": "code",
      "execution_count": null,
      "id": "e52724ed",
      "metadata": {
        "id": "e52724ed"
      },
      "outputs": [],
      "source": [
        "# removing urls,hastags and mentions\n",
        "def remove_urls_mentions_hashtags(text):\n",
        "    text = re.sub(r'http\\S+|www\\S+|https\\S+', '', text)\n",
        "    text = re.sub(r'\\@\\w+|\\#', '', text)\n",
        "    return text\n",
        "df['text'] = df['text'].apply(remove_urls_mentions_hashtags)"
      ]
    },
    {
      "cell_type": "code",
      "execution_count": null,
      "id": "58c88a45",
      "metadata": {
        "id": "58c88a45"
      },
      "outputs": [],
      "source": [
        "def remove_url(text):\n",
        "    return re.sub(r'http\\S+|www\\S+|https\\S+', '', text, flags=re.MULTILINE)\n",
        "\n",
        "train_df['text'] = train_df['text'].apply(remove_url)\n"
      ]
    },
    {
      "cell_type": "markdown",
      "id": "65cd9e63",
      "metadata": {
        "id": "65cd9e63"
      },
      "source": [
        "# Emoji removal"
      ]
    },
    {
      "cell_type": "code",
      "execution_count": null,
      "id": "5e5571f3",
      "metadata": {
        "id": "5e5571f3",
        "outputId": "52c7c7f1-746d-46a1-923d-cac27cf45e9a"
      },
      "outputs": [
        {
          "name": "stdout",
          "output_type": "stream",
          "text": [
            "Requirement already satisfied: emoji in c:\\users\\prits\\anaconda3\\lib\\site-packages (2.12.1)\n",
            "Requirement already satisfied: typing-extensions>=4.7.0 in c:\\users\\prits\\anaconda3\\lib\\site-packages (from emoji) (4.11.0)\n",
            "Note: you may need to restart the kernel to use updated packages.\n"
          ]
        }
      ],
      "source": [
        "pip install emoji"
      ]
    },
    {
      "cell_type": "code",
      "execution_count": null,
      "id": "13e76514",
      "metadata": {
        "id": "13e76514"
      },
      "outputs": [],
      "source": [
        "#emoji removal\n",
        "import pandas as pd\n",
        "import emoji\n",
        "\n",
        "# Define a function to replace emoji codes with descriptive text\n",
        "def replace_emojis(text):\n",
        "    return emoji.demojize(text)\n",
        "\n",
        "# Replace emoji codes in a specific column (e.g., 'text_column')\n",
        "df['text'] = df['text'].apply(replace_emojis)\n"
      ]
    },
    {
      "cell_type": "markdown",
      "id": "ebc54965",
      "metadata": {
        "id": "ebc54965"
      },
      "source": [
        "# Lowercasing"
      ]
    },
    {
      "cell_type": "code",
      "execution_count": null,
      "id": "24fc539a",
      "metadata": {
        "id": "24fc539a"
      },
      "outputs": [],
      "source": [
        "df['text']=df['text'].str.lower()"
      ]
    },
    {
      "cell_type": "code",
      "execution_count": null,
      "id": "a075d2e6",
      "metadata": {
        "id": "a075d2e6",
        "outputId": "15bf2426-88c2-463b-bcc6-777dc4aedd1b"
      },
      "outputs": [
        {
          "data": {
            "text/html": [
              "<div>\n",
              "<style scoped>\n",
              "    .dataframe tbody tr th:only-of-type {\n",
              "        vertical-align: middle;\n",
              "    }\n",
              "\n",
              "    .dataframe tbody tr th {\n",
              "        vertical-align: top;\n",
              "    }\n",
              "\n",
              "    .dataframe thead th {\n",
              "        text-align: right;\n",
              "    }\n",
              "</style>\n",
              "<table border=\"1\" class=\"dataframe\">\n",
              "  <thead>\n",
              "    <tr style=\"text-align: right;\">\n",
              "      <th></th>\n",
              "      <th>text</th>\n",
              "      <th>hd</th>\n",
              "      <th>cv</th>\n",
              "      <th>vo</th>\n",
              "      <th>label</th>\n",
              "    </tr>\n",
              "  </thead>\n",
              "  <tbody>\n",
              "    <tr>\n",
              "      <th>22031</th>\n",
              "      <td>i'm a fan of western civilization, and one bed...</td>\n",
              "      <td>0</td>\n",
              "      <td>0</td>\n",
              "      <td>0</td>\n",
              "      <td>0</td>\n",
              "    </tr>\n",
              "    <tr>\n",
              "      <th>22032</th>\n",
              "      <td>or ... is she saying that muslims don't know h...</td>\n",
              "      <td>0</td>\n",
              "      <td>0</td>\n",
              "      <td>0</td>\n",
              "      <td>0</td>\n",
              "    </tr>\n",
              "    <tr>\n",
              "      <th>22033</th>\n",
              "      <td>thank you to all my followers that follow me e...</td>\n",
              "      <td>0</td>\n",
              "      <td>0</td>\n",
              "      <td>0</td>\n",
              "      <td>0</td>\n",
              "    </tr>\n",
              "    <tr>\n",
              "      <th>22034</th>\n",
              "      <td>wednesday music.</td>\n",
              "      <td>0</td>\n",
              "      <td>0</td>\n",
              "      <td>0</td>\n",
              "      <td>0</td>\n",
              "    </tr>\n",
              "    <tr>\n",
              "      <th>22035</th>\n",
              "      <td>this is a really big surprise!</td>\n",
              "      <td>0</td>\n",
              "      <td>0</td>\n",
              "      <td>0</td>\n",
              "      <td>0</td>\n",
              "    </tr>\n",
              "  </tbody>\n",
              "</table>\n",
              "</div>"
            ],
            "text/plain": [
              "                                                    text  hd  cv  vo  label\n",
              "22031  i'm a fan of western civilization, and one bed...   0   0   0      0\n",
              "22032  or ... is she saying that muslims don't know h...   0   0   0      0\n",
              "22033  thank you to all my followers that follow me e...   0   0   0      0\n",
              "22034                                  wednesday music.    0   0   0      0\n",
              "22035                   this is a really big surprise!     0   0   0      0"
            ]
          },
          "execution_count": 49,
          "metadata": {},
          "output_type": "execute_result"
        }
      ],
      "source": [
        "df.tail()"
      ]
    },
    {
      "cell_type": "code",
      "execution_count": null,
      "id": "4fd0aef6",
      "metadata": {
        "id": "4fd0aef6"
      },
      "outputs": [],
      "source": [
        "# Drop rows with any missing values and filter out rows where the 'text' column is '[deleted]' or '[removed]'\n",
        "df = df.dropna().loc[(df['text'] != '[deleted]') & (df['text'] != '[removed]')]"
      ]
    },
    {
      "cell_type": "code",
      "execution_count": null,
      "id": "dd612fd1",
      "metadata": {
        "id": "dd612fd1",
        "outputId": "d2505df2-5108-4fb1-8622-c8767ef88b65"
      },
      "outputs": [
        {
          "data": {
            "text/plain": [
              "text     21776\n",
              "hd       21776\n",
              "cv       21776\n",
              "vo       21776\n",
              "label    21776\n",
              "dtype: int64"
            ]
          },
          "execution_count": 55,
          "metadata": {},
          "output_type": "execute_result"
        }
      ],
      "source": [
        "df.count()\n"
      ]
    },
    {
      "cell_type": "markdown",
      "id": "09d15cf6",
      "metadata": {
        "id": "09d15cf6"
      },
      "source": [
        "# TOKENISATION"
      ]
    },
    {
      "cell_type": "code",
      "execution_count": null,
      "id": "5e4473fa",
      "metadata": {
        "id": "5e4473fa",
        "outputId": "9c4808ce-b26a-4274-9c6d-c7f614d8076d"
      },
      "outputs": [
        {
          "data": {
            "text/html": [
              "<div>\n",
              "<style scoped>\n",
              "    .dataframe tbody tr th:only-of-type {\n",
              "        vertical-align: middle;\n",
              "    }\n",
              "\n",
              "    .dataframe tbody tr th {\n",
              "        vertical-align: top;\n",
              "    }\n",
              "\n",
              "    .dataframe thead th {\n",
              "        text-align: right;\n",
              "    }\n",
              "</style>\n",
              "<table border=\"1\" class=\"dataframe\">\n",
              "  <thead>\n",
              "    <tr style=\"text-align: right;\">\n",
              "      <th></th>\n",
              "      <th>text</th>\n",
              "      <th>hd</th>\n",
              "      <th>cv</th>\n",
              "      <th>vo</th>\n",
              "      <th>label</th>\n",
              "      <th>tokens</th>\n",
              "    </tr>\n",
              "  </thead>\n",
              "  <tbody>\n",
              "    <tr>\n",
              "      <th>0</th>\n",
              "      <td>he most likely converted to islam due to his n...</td>\n",
              "      <td>0</td>\n",
              "      <td>0</td>\n",
              "      <td>0</td>\n",
              "      <td>0</td>\n",
              "      <td>[he, most, likely, converted, to, islam, due, ...</td>\n",
              "    </tr>\n",
              "    <tr>\n",
              "      <th>1</th>\n",
              "      <td>so ford lied about being a psychologist record...</td>\n",
              "      <td>0</td>\n",
              "      <td>0</td>\n",
              "      <td>0</td>\n",
              "      <td>0</td>\n",
              "      <td>[so, ford, lied, about, being, a, psychologist...</td>\n",
              "    </tr>\n",
              "    <tr>\n",
              "      <th>2</th>\n",
              "      <td>jobs education ending abuse of nation californ...</td>\n",
              "      <td>0</td>\n",
              "      <td>0</td>\n",
              "      <td>0</td>\n",
              "      <td>0</td>\n",
              "      <td>[jobs, education, ending, abuse, of, nation, c...</td>\n",
              "    </tr>\n",
              "    <tr>\n",
              "      <th>3</th>\n",
              "      <td>i share a lot of your values  like many who do...</td>\n",
              "      <td>0</td>\n",
              "      <td>0</td>\n",
              "      <td>0</td>\n",
              "      <td>0</td>\n",
              "      <td>[i, share, a, lot, of, your, values, like, man...</td>\n",
              "    </tr>\n",
              "    <tr>\n",
              "      <th>4</th>\n",
              "      <td>i am so ready to get back to blogging  recipes...</td>\n",
              "      <td>0</td>\n",
              "      <td>0</td>\n",
              "      <td>0</td>\n",
              "      <td>0</td>\n",
              "      <td>[i, am, so, ready, to, get, back, to, blogging...</td>\n",
              "    </tr>\n",
              "  </tbody>\n",
              "</table>\n",
              "</div>"
            ],
            "text/plain": [
              "                                                text  hd  cv  vo  label  \\\n",
              "0  he most likely converted to islam due to his n...   0   0   0      0   \n",
              "1  so ford lied about being a psychologist record...   0   0   0      0   \n",
              "2  jobs education ending abuse of nation californ...   0   0   0      0   \n",
              "3  i share a lot of your values  like many who do...   0   0   0      0   \n",
              "4  i am so ready to get back to blogging  recipes...   0   0   0      0   \n",
              "\n",
              "                                              tokens  \n",
              "0  [he, most, likely, converted, to, islam, due, ...  \n",
              "1  [so, ford, lied, about, being, a, psychologist...  \n",
              "2  [jobs, education, ending, abuse, of, nation, c...  \n",
              "3  [i, share, a, lot, of, your, values, like, man...  \n",
              "4  [i, am, so, ready, to, get, back, to, blogging...  "
            ]
          },
          "execution_count": 28,
          "metadata": {},
          "output_type": "execute_result"
        }
      ],
      "source": [
        "#whitespacetokenisation\n",
        "from nltk.tokenize import WhitespaceTokenizer\n",
        "\n",
        "# Initialize the whitespace tokenizer\n",
        "whitespace_tokenizer = WhitespaceTokenizer()\n",
        "def  whitespace_tokenize(text):\n",
        "    return whitespace_tokenizer.tokenize(text)\n",
        "df['tokens'] = df['text'].apply(whitespace_tokenize)\n",
        "df.head()"
      ]
    },
    {
      "cell_type": "code",
      "execution_count": null,
      "id": "15fe4232",
      "metadata": {
        "id": "15fe4232"
      },
      "outputs": [],
      "source": [
        "# saving the cleaned data\n",
        "clean_train_file_path = r'C:\\Users\\prits\\Downloads\\Data\\clean_ghc_train.csv'\n",
        "train_df.to_csv(clean_train_file_path, sep=',', index=False)"
      ]
    },
    {
      "cell_type": "code",
      "execution_count": null,
      "id": "0c8ec455",
      "metadata": {
        "id": "0c8ec455"
      },
      "outputs": [],
      "source": [
        "#importing clean dataset i.e after preprosseing\n",
        "import pandas as pd\n",
        "# File paths\n",
        "\n",
        "\n",
        "# Load CSV files into pandas DataFrames\n",
        "df = pd.read_csv(\"/content/clean_ghc_train.csv\")\n"
      ]
    },
    {
      "cell_type": "code",
      "execution_count": null,
      "id": "9d35a374",
      "metadata": {
        "id": "9d35a374"
      },
      "outputs": [],
      "source": [
        "import numpy as np\n",
        "import pandas as pd\n",
        "from sklearn.model_selection import train_test_split\n",
        "from sklearn.feature_extraction.text import TfidfVectorizer\n",
        "from sklearn.naive_bayes import MultinomialNB\n",
        "from sklearn.metrics import accuracy_score, classification_report, confusion_matrix\n",
        "from imblearn.over_sampling import RandomOverSampler\n",
        "# Drop rows with NaN in 'text' column\n",
        "df =df.dropna(subset=['text'])\n",
        "# Split the data into X (features) and y (labels)\n",
        "X = df['text']\n",
        "y = df['label']"
      ]
    },
    {
      "cell_type": "code",
      "execution_count": null,
      "id": "5499efc1",
      "metadata": {
        "id": "5499efc1",
        "outputId": "b6337a64-279b-4b7c-b376-d0fc9ae9e1e6"
      },
      "outputs": [
        {
          "name": "stdout",
          "output_type": "stream",
          "text": [
            "Number of rows in X: 21772\n",
            "Number of rows in y_test: 21772\n"
          ]
        }
      ],
      "source": [
        "# Print the number of rows\n",
        "print(\"Number of rows in X:\", X.shape[0])\n",
        "print(\"Number of rows in y_test:\", y.shape[0])"
      ]
    },
    {
      "cell_type": "markdown",
      "id": "67fa9e3a",
      "metadata": {
        "id": "67fa9e3a"
      },
      "source": [
        "Spliting data into train and test"
      ]
    },
    {
      "cell_type": "code",
      "execution_count": null,
      "id": "d90247cf",
      "metadata": {
        "id": "d90247cf"
      },
      "outputs": [],
      "source": [
        "from sklearn.model_selection import train_test_split\n",
        "X_train, X_test, y_train, y_test = train_test_split(X, y, test_size=0.2, random_state=42,stratify=y)"
      ]
    },
    {
      "cell_type": "code",
      "execution_count": null,
      "id": "e859a7cf",
      "metadata": {
        "id": "e859a7cf",
        "outputId": "76cbee87-cb26-4160-8735-df047b634287"
      },
      "outputs": [
        {
          "name": "stdout",
          "output_type": "stream",
          "text": [
            "Number of rows in x_train: 17417\n",
            "Number of rows in x_test: 4355\n",
            "Number of rows in y_train: 17417\n",
            "Number of rows in y_test: 4355\n"
          ]
        }
      ],
      "source": [
        "# Print the number of rows\n",
        "print(\"Number of rows in x_train:\", X_train.shape[0])\n",
        "print(\"Number of rows in x_test:\", X_test.shape[0])\n",
        "print(\"Number of rows in y_train:\", y_train.shape[0])\n",
        "print(\"Number of rows in y_test:\", y_test.shape[0])"
      ]
    },
    {
      "cell_type": "markdown",
      "id": "f1154263",
      "metadata": {
        "id": "f1154263"
      },
      "source": [
        "# FINALISED EMBEDDING TECHNIQUE: TFIDF"
      ]
    },
    {
      "cell_type": "markdown",
      "id": "a50883e7",
      "metadata": {
        "id": "a50883e7"
      },
      "source": [
        "TF-IDF (Term Frequency-Inverse Document Frequency) is a statistical measure used to evaluate the importance of a word in a document relative to a collection of documents (corpus).\n",
        " TF-IDF is used to convert text data into numerical features before feeding them into a machine learning model."
      ]
    },
    {
      "cell_type": "code",
      "execution_count": null,
      "id": "b3d12f6b",
      "metadata": {
        "id": "b3d12f6b"
      },
      "outputs": [],
      "source": [
        "#Initialize TfidfVectorizer with adjusted parameters\n",
        "tfidf_vectorizer = TfidfVectorizer(max_features=5000, ngram_range=(1, 2))\n",
        "\n",
        "#Fit and transform X_train (text data) using TfidfVectorizer\n",
        "X_train_tfidf = tfidf_vectorizer.fit_transform(X_train)\n",
        "\n",
        "# Transform X_test using the fitted TfidfVectorizer\n",
        "X_test_tfidf = tfidf_vectorizer.transform(X_test)"
      ]
    },
    {
      "cell_type": "markdown",
      "id": "24efe864",
      "metadata": {
        "id": "24efe864"
      },
      "source": [
        "# BALANCING TRAIN DATASET USING RANDOM OVER SAMPLING"
      ]
    },
    {
      "cell_type": "markdown",
      "id": "199a93dc",
      "metadata": {
        "id": "199a93dc"
      },
      "source": [
        "Reason of choosing Random Over sampling:\n",
        "    By duplicating minority class instances, random oversampling ensures that the original characteristics of the minority class are preserved without introducing new data points that may alter the distribution.\n",
        "    I tried all other approaches for balancing but random over sampling gives better result than other techniques"
      ]
    },
    {
      "cell_type": "code",
      "execution_count": null,
      "id": "153ff2cc",
      "metadata": {
        "id": "153ff2cc"
      },
      "outputs": [],
      "source": [
        "ros = RandomOverSampler(random_state=42)\n",
        "X_resampled, y_resampled= ros.fit_resample(X_train_tfidf, y_train)"
      ]
    },
    {
      "cell_type": "markdown",
      "id": "49dc4ad8",
      "metadata": {
        "id": "49dc4ad8"
      },
      "source": [
        "# FINALISED ML MODEL: GRADIENT BOOSTING CLASSIFIER"
      ]
    },
    {
      "cell_type": "code",
      "execution_count": null,
      "id": "7ec19988",
      "metadata": {
        "id": "7ec19988"
      },
      "outputs": [],
      "source": [
        "from sklearn.ensemble import GradientBoostingClassifier\n",
        "gb_clf = GradientBoostingClassifier(n_estimators=100, learning_rate=0.1, max_depth=3, random_state=42)\n",
        "\n",
        "# Train the model\n",
        "gb_clf.fit(X_resampled,y_resampled)\n",
        "\n",
        "# Make predictions\n",
        "y_pred = gb_clf.predict(X_test_tfidf)"
      ]
    },
    {
      "cell_type": "markdown",
      "id": "9cdf3f9c",
      "metadata": {
        "id": "9cdf3f9c"
      },
      "source": [
        "Visualising the Result"
      ]
    },
    {
      "cell_type": "code",
      "execution_count": null,
      "id": "ffd4fd71",
      "metadata": {
        "colab": {
          "base_uri": "https://localhost:8080/",
          "height": 832
        },
        "id": "ffd4fd71",
        "outputId": "1593e55b-3a84-4921-9db7-2dbdc05e2c43"
      },
      "outputs": [
        {
          "output_type": "stream",
          "name": "stdout",
          "text": [
            "Accuracy: 0.8367393800229621\n",
            "Classification Report:\n",
            "              precision    recall  f1-score   support\n",
            "\n",
            "           0       0.94      0.87      0.90      3825\n",
            "           1       0.39      0.59      0.47       530\n",
            "\n",
            "    accuracy                           0.84      4355\n",
            "   macro avg       0.66      0.73      0.69      4355\n",
            "weighted avg       0.87      0.84      0.85      4355\n",
            "\n"
          ]
        },
        {
          "output_type": "display_data",
          "data": {
            "text/plain": [
              "<Figure size 1000x700 with 2 Axes>"
            ],
            "image/png": "[encoded data removed]"
          },
          "metadata": {}
        }
      ],
      "source": [
        "from sklearn.metrics import confusion_matrix, classification_report\n",
        "import matplotlib.pyplot as plt\n",
        "import seaborn as sns\n",
        "# Calculate accuracy\n",
        "accuracy = accuracy_score(y_test, y_pred)\n",
        "print(f\"Accuracy: {accuracy}\")\n",
        "\n",
        "# Generate classification report\n",
        "classification_report_str = classification_report(y_test, y_pred)\n",
        "print(\"Classification Report:\")\n",
        "print(classification_report_str)\n",
        "\n",
        "# Generate confusion matrix\n",
        "conf_matrix = confusion_matrix(y_test, y_pred)\n",
        "\n",
        "# Plot confusion matrix\n",
        "plt.figure(figsize=(10, 7))\n",
        "sns.heatmap(conf_matrix, annot=True, fmt='d', cmap='Blues')\n",
        "plt.xlabel('Predicted')\n",
        "plt.ylabel('Actual')\n",
        "plt.title('Confusion Matrix')\n",
        "plt.show()"
      ]
    },
    {
      "cell_type": "code",
      "source": [
        "import numpy as np\n",
        "from sklearn.metrics import roc_auc_score, accuracy_score, recall_score, f1_score, precision_score\n",
        "from sklearn.model_selection import train_test_split\n",
        "from sklearn.datasets import make_classification\n",
        "from sklearn.ensemble import RandomForestClassifier\n",
        "# Step 4: Calculate metrics\n",
        "accuracy = accuracy_score(y_test, y_pred)\n",
        "recall = recall_score(y_test, y_pred)\n",
        "f1 = f1_score(y_test, y_pred)\n",
        "precision = precision_score(y_test, y_pred)\n",
        "y_prob = gb_clf.predict_proba(X_test_tfidf)[:, 1]\n",
        "roc_auc = roc_auc_score(y_test, y_prob)\n",
        "\n",
        "# Step 5: Print metrics\n",
        "print(f\"Accuracy: {accuracy}\")\n",
        "print(f\"Recall: {recall}\")\n",
        "print(f\"F1 Score: {f1}\")\n",
        "print(f\"Precision: {precision}\")\n",
        "print(f\"ROC AUC: {roc_auc}\")"
      ],
      "metadata": {
        "colab": {
          "base_uri": "https://localhost:8080/"
        },
        "id": "Q5g8dU_8jtUb",
        "outputId": "52237ff5-d1e7-4389-843e-27dfd9f8c85f"
      },
      "id": "Q5g8dU_8jtUb",
      "execution_count": null,
      "outputs": [
        {
          "output_type": "stream",
          "name": "stdout",
          "text": [
            "Accuracy: 0.8367393800229621\n",
            "Recall: 0.5867924528301887\n",
            "F1 Score: 0.46661665416354087\n",
            "Precision: 0.38729763387297633\n",
            "ROC AUC: 0.7918712541620421\n"
          ]
        }
      ]
    },
    {
      "cell_type": "markdown",
      "id": "e21a97ca",
      "metadata": {
        "id": "e21a97ca"
      },
      "source": [
        "# Hypertunning of Model"
      ]
    },
    {
      "cell_type": "code",
      "execution_count": null,
      "id": "571cd1c5",
      "metadata": {
        "colab": {
          "base_uri": "https://localhost:8080/",
          "height": 884
        },
        "id": "571cd1c5",
        "outputId": "94b58034-70b5-4430-a83e-c2b97428c555"
      },
      "outputs": [
        {
          "output_type": "stream",
          "name": "stdout",
          "text": [
            "Fitting 3 folds for each of 4 candidates, totalling 12 fits\n",
            "Best parameters found:  {'learning_rate': 0.5, 'max_depth': 5, 'n_estimators': 100}\n",
            "Best Recall Score:  0.9073020853762176\n",
            "Accuracy: 0.8548794489092997\n",
            "Classification Report:\n",
            "              precision    recall  f1-score   support\n",
            "\n",
            "           0       0.93      0.90      0.92      3825\n",
            "           1       0.42      0.53      0.47       530\n",
            "\n",
            "    accuracy                           0.85      4355\n",
            "   macro avg       0.68      0.71      0.69      4355\n",
            "weighted avg       0.87      0.85      0.86      4355\n",
            "\n"
          ]
        },
        {
          "output_type": "display_data",
          "data": {
            "text/plain": [
              "<Figure size 1000x700 with 2 Axes>"
            ],
            "image/png": "[encoded data removed]"
          },
          "metadata": {}
        }
      ],
      "source": [
        "from sklearn.ensemble import GradientBoostingClassifier\n",
        "from sklearn.model_selection import GridSearchCV\n",
        "from sklearn.metrics import accuracy_score, classification_report, confusion_matrix\n",
        "import seaborn as sns\n",
        "import matplotlib.pyplot as plt\n",
        "\n",
        "# Define the model\n",
        "gb = GradientBoostingClassifier()\n",
        "\n",
        "# Define the parameter grid\n",
        "param_grid = {\n",
        "    'n_estimators': [100],\n",
        "    'learning_rate': [0.1, 0.5],\n",
        "    'max_depth': [3, 5]\n",
        "}\n",
        "\n",
        "# Set up GridSearchCV for recall\n",
        "grid_search_recall = GridSearchCV(estimator=gb, param_grid=param_grid, cv=3, scoring='recall', n_jobs=-1, verbose=2)\n",
        "\n",
        "# Fit the GridSearchCV\n",
        "grid_search_recall.fit(X_resampled, y_resampled)\n",
        "\n",
        "# Print the best parameters and the best score\n",
        "print(\"Best parameters found: \", grid_search_recall.best_params_)\n",
        "print(\"Best Recall Score: \", grid_search_recall.best_score_)\n",
        "\n",
        "# Predict using the best estimator\n",
        "best_gb_recall = grid_search_recall.best_estimator_\n",
        "y_pred_recall = best_gb_recall.predict(X_test_tfidf)\n",
        "\n",
        "# Calculate accuracy\n",
        "accuracy_recall = accuracy_score(y_test, y_pred_recall)\n",
        "print(f\"Accuracy: {accuracy_recall}\")\n",
        "\n",
        "# Generate classification report\n",
        "classification_report_recall = classification_report(y_test, y_pred_recall)\n",
        "print(\"Classification Report:\")\n",
        "print(classification_report_recall)\n",
        "\n",
        "# Generate confusion matrix\n",
        "conf_matrix_recall = confusion_matrix(y_test, y_pred_recall)\n",
        "\n",
        "# Plot confusion matrix\n",
        "plt.figure(figsize=(10, 7))\n",
        "sns.heatmap(conf_matrix_recall, annot=True, fmt='d', cmap='Blues')\n",
        "plt.xlabel('Predicted')\n",
        "plt.ylabel('Actual')\n",
        "plt.title('Confusion Matrix')\n",
        "plt.show()\n"
      ]
    },
    {
      "cell_type": "code",
      "source": [
        "import numpy as np\n",
        "from sklearn.metrics import roc_auc_score, accuracy_score, recall_score, f1_score, precision_score\n",
        "from sklearn.model_selection import train_test_split\n",
        "from sklearn.datasets import make_classification\n",
        "from sklearn.ensemble import RandomForestClassifier\n",
        "# Step 4: Calculate metrics\n",
        "accuracy = accuracy_score(y_test, y_pred_recall)\n",
        "recall = recall_score(y_test, y_pred_recall)\n",
        "f1 = f1_score(y_test,y_pred_recall)\n",
        "precision = precision_score(y_test, y_pred_recall)\n",
        "y_prob = best_gb_recall.predict_proba(X_test_tfidf)[:, 1]\n",
        "roc_auc = roc_auc_score(y_test, y_prob)\n",
        "\n",
        "# Step 5: Print metrics\n",
        "print(f\"Accuracy: {accuracy}\")\n",
        "print(f\"Recall: {recall}\")\n",
        "print(f\"F1 Score: {f1}\")\n",
        "print(f\"Precision: {precision}\")\n",
        "print(f\"ROC AUC: {roc_auc}\")"
      ],
      "metadata": {
        "colab": {
          "base_uri": "https://localhost:8080/"
        },
        "id": "b3bdlNiZlJid",
        "outputId": "b9035552-32c1-4b86-acd0-45ec53aa5f26"
      },
      "id": "b3bdlNiZlJid",
      "execution_count": null,
      "outputs": [
        {
          "output_type": "stream",
          "name": "stdout",
          "text": [
            "Accuracy: 0.8548794489092997\n",
            "Recall: 0.5264150943396226\n",
            "F1 Score: 0.4689075630252101\n",
            "Precision: 0.42272727272727273\n",
            "ROC AUC: 0.7872117400419287\n"
          ]
        }
      ]
    },
    {
      "cell_type": "markdown",
      "source": [
        "GRADIENT BOOSTING CLASSIFIER is the final ml model i have fixed based on the ROC AUC score and recall score.This model able to predict 0 and 1 class better than other model."
      ],
      "metadata": {
        "id": "VyFb4TQsl7TN"
      },
      "id": "VyFb4TQsl7TN"
    },
    {
      "cell_type": "markdown",
      "source": [
        "# **FINAL DL MODEL: BERT WITH LSTM**"
      ],
      "metadata": {
        "id": "WpH6r30NEG2u"
      },
      "id": "WpH6r30NEG2u"
    },
    {
      "cell_type": "code",
      "source": [
        "import pandas as pd\n",
        "import numpy as np\n",
        "from tqdm import tqdm\n",
        "from transformers import BertTokenizer, BertModel\n",
        "import torch\n",
        "\n",
        "# Load the CSV file into a pandas DataFrame\n",
        "df = pd.read_csv(\"/content/cleaned_ghc_train.csv\")\n"
      ],
      "metadata": {
        "id": "bSAzQnnbmKnD"
      },
      "id": "bSAzQnnbmKnD",
      "execution_count": null,
      "outputs": []
    },
    {
      "cell_type": "code",
      "source": [
        "from sklearn.model_selection import train_test_split\n",
        "from sklearn.preprocessing import LabelEncoder\n",
        "from sklearn.feature_extraction.text import TfidfVectorizer\n",
        "\n",
        "df['text'] = df['text'].fillna('')"
      ],
      "metadata": {
        "id": "9lE0rwUgmUUE"
      },
      "id": "9lE0rwUgmUUE",
      "execution_count": null,
      "outputs": []
    },
    {
      "cell_type": "code",
      "source": [
        "y = df['label']\n",
        "X=df['text']"
      ],
      "metadata": {
        "id": "u3tiOk3JmUez"
      },
      "id": "u3tiOk3JmUez",
      "execution_count": null,
      "outputs": []
    },
    {
      "cell_type": "code",
      "source": [
        "\n",
        "X_train, X_test, y_train, y_test = train_test_split(X, y, test_size=0.2, random_state=42,stratify=y)"
      ],
      "metadata": {
        "id": "DQFMjrWemeCR"
      },
      "id": "DQFMjrWemeCR",
      "execution_count": null,
      "outputs": []
    },
    {
      "cell_type": "code",
      "source": [
        "import numpy as np\n",
        "import tensorflow as tf\n",
        "from tensorflow.keras.models import Sequential\n",
        "from tensorflow.keras.layers import Dense, LSTM, Bidirectional, Dropout\n",
        "from tensorflow.keras.callbacks import EarlyStopping\n",
        "from sklearn.utils.class_weight import compute_class_weight\n",
        "from sklearn.metrics import confusion_matrix, classification_report\n",
        "import seaborn as sns\n",
        "import matplotlib.pyplot as plt\n",
        "from transformers import BertTokenizer, TFBertModel\n",
        "\n",
        "# Load BERT tokenizer and model\n",
        "tokenizer = BertTokenizer.from_pretrained('bert-base-uncased')\n",
        "bert_model = TFBertModel.from_pretrained('bert-base-uncased')\n",
        "\n",
        "# Tokenize and encode the text data\n",
        "def encode_texts(texts, tokenizer, max_length=100):\n",
        "    encodings = tokenizer(\n",
        "        texts.tolist(),\n",
        "        truncation=True,\n",
        "        padding='max_length',\n",
        "        max_length=max_length,\n",
        "        return_tensors='tf'\n",
        "    )\n",
        "    return encodings\n",
        "\n",
        "# Encode the training and test data\n",
        "X_train_encodings = encode_texts(X_train, tokenizer, max_length=50)  # Reduced max_length\n",
        "X_test_encodings = encode_texts(X_test, tokenizer, max_length=50)\n",
        "\n",
        "# Extract BERT embeddings\n",
        "def get_bert_embeddings(encodings, bert_model):\n",
        "    outputs = bert_model(encodings['input_ids'], attention_mask=encodings['attention_mask'])\n",
        "    return outputs.last_hidden_state\n",
        "\n",
        "# Reduce the batch size\n",
        "batch_size = 16\n",
        "\n",
        "X_train_embeddings = []\n",
        "for i in range(0, len(X_train_encodings['input_ids']), batch_size):\n",
        "    batch_encodings = {key: val[i:i+batch_size] for key, val in X_train_encodings.items()}\n",
        "    batch_embeddings = get_bert_embeddings(batch_encodings, bert_model)\n",
        "    X_train_embeddings.append(batch_embeddings)\n",
        "X_train_embeddings = tf.concat(X_train_embeddings, axis=0)\n",
        "\n",
        "X_test_embeddings = []\n",
        "for i in range(0, len(X_test_encodings['input_ids']), batch_size):\n",
        "    batch_encodings = {key: val[i:i+batch_size] for key, val in X_test_encodings.items()}\n",
        "    batch_embeddings = get_bert_embeddings(batch_encodings, bert_model)\n",
        "    X_test_embeddings.append(batch_embeddings)\n",
        "X_test_embeddings = tf.concat(X_test_embeddings, axis=0)\n",
        "#class weights are calculated based on the frequency of each class in the training data. Classes with fewer samples get higher weights.\n",
        "#The compute_class_weight function in scikit-learn calculates these weights using the formula.since for large datset it is complex to manually calculate the weights and assing them, this function of sklearn helps in doing it.\n",
        "class_weights = compute_class_weight('balanced', classes=np.unique(y_train), y=y_train)\n",
        "class_weights_dict = dict(enumerate(class_weights))\n",
        "\n",
        "#3 Bidirectional layer are added in this model\n",
        "# Define the model\n",
        "model = Sequential()\n",
        "# LSTM layers\n",
        "model.add(Bidirectional(LSTM(units=256, return_sequences=True, input_shape=(X_train_embeddings.shape[1], X_train_embeddings.shape[2]))))\n",
        "model.add(Dropout(0.5))  # Add Dropout for regularization\n",
        "\n",
        "# Additional LSTM layer\n",
        "model.add(Bidirectional(LSTM(units=64, return_sequences=True)))\n",
        "model.add(Dropout(0.3))  # Add Dropout for regularization\n",
        "\n",
        "# Another LSTM layer\n",
        "model.add(Bidirectional(LSTM(units=64)))\n",
        "model.add(Dropout(0.2))  # Add Dropout for regularization\n",
        "\n",
        "# Dense layers\n",
        "model.add(Dense(64, activation='relu'))\n",
        "model.add(Dropout(0.2))  # Add Dropout for regularization\n",
        "model.add(Dense(1, activation='sigmoid'))\n",
        "\n",
        "# Compile the model\n",
        "model.compile(loss='binary_crossentropy', optimizer='adam', metrics=['accuracy'])\n",
        "\n",
        "# Define early stopping callback\n",
        "early_stopping = EarlyStopping(monitor='val_loss', patience=3, restore_best_weights=True)\n",
        "\n",
        "# Train the model with early stopping and class weights\n",
        "history = model.fit(X_train_embeddings, y_train, epochs=5, batch_size=batch_size,\n",
        "                    validation_data=(X_test_embeddings, y_test),\n",
        "                    class_weight=class_weights_dict,\n",
        "                    callbacks=[early_stopping])\n",
        "\n",
        "# Evaluate the model on the test set\n",
        "test_loss, test_acc = model.evaluate(X_test_embeddings, y_test, verbose=2)\n",
        "print(f'\\nTest accuracy: {test_acc}')\n",
        "\n",
        "# Predict the labels for the test set\n",
        "y_pred = model.predict(X_test_embeddings)\n",
        "y_pred_classes = (y_pred > 0.5).astype(\"int32\")\n",
        "\n",
        "# Generate the confusion matrix\n",
        "cm = confusion_matrix(y_test, y_pred_classes)\n",
        "\n",
        "# Visualize the confusion matrix\n",
        "plt.figure(figsize=(8, 6))\n",
        "sns.heatmap(cm, annot=True, fmt='d', cmap='Blues', xticklabels=['Class 0', 'Class 1'], yticklabels=['Class 0', 'Class 1'])\n",
        "plt.xlabel('Predicted')\n",
        "plt.ylabel('True')\n",
        "plt.title('Confusion Matrix')\n",
        "plt.show()\n",
        "\n",
        "# Print classification report\n",
        "print(classification_report(y_test, y_pred_classes, target_names=['Class 0', 'Class 1']))\n"
      ],
      "metadata": {
        "colab": {
          "base_uri": "https://localhost:8080/",
          "height": 1000,
          "referenced_widgets": [
            "bea2ff8d4324410d92c56edc876b6b8a",
            "7b369ee4edb44cc39d8a37d5935bc6c4",
            "b72ba6ef64294b3f96247481f0987f1b",
            "872c5be081734c92a5c47ae7fb98f641",
            "6f6f7eb3937e4b018b725982435dd408",
            "737aef1429b447669208e7104da34365",
            "4f3beb03c07f4be0abefe62077ce0d34",
            "16eb23187f1b4a38a16ca9664e5cbdf2",
            "6b66f9db86fe402e8a365afe67f0419b",
            "460f97138cfe4ec1ba3972c4909ac514",
            "103842159f3e4589b5553d9a41c5fe45",
            "f4bcafaa02f04352a902fd8537eb476e",
            "cf39842b3cb840b28b413dbaddba4fc9",
            "ad23d82ae2914d0ca54bdbd247398893",
            "a0d96b3f9262496e879c4c08281af2b5",
            "55a334f9c1974ff2bdf501970b5413bd",
            "186f43dddf21451cab7c554e6323761d",
            "81305c78429c40e39a084e7ee89f3870",
            "a86a7de50bb144ea9993996461ad5351",
            "ca740b8002b844f9a7bb7fd91d3f7d73",
            "1970b99631064d4fa7e80ef724a82a11",
            "182e634d2d4246f2b35f4587c8c4e5b0",
            "db14bc08fc09417190c88b5627053e02",
            "b30a85748eb74443afb8f35bcd67504a",
            "b3f2102efe9a48cea8c79029bdcde59a",
            "878be2ee65c14fc3b2130fc6f5ecf982",
            "d9907526fca74bc29ad8814cb03b90ae",
            "3682d5ed9fcb45d4bef8c1dd608b7b4e",
            "11f7a87d1d2e4ad39d479e1593f97ff4",
            "96cc4865e6874a6d83e55d29f9bc4cc5",
            "1a3a981acc4e4081abcfd567f8ec228c",
            "f562f2b6cc6443d3a2674d45968b2114",
            "84c356c8944c4ce3b66b987cf28e48a0",
            "5973726e21804dbda120854bae592fab",
            "57891c620b56442fb4d39e57d69d5540",
            "05df46492d6843cb907a780bf2e751d6",
            "b6438cc4e7434d6e9e6977b1d28a5aa7",
            "433d781a7304410a8c2553c2dc5868db",
            "b2f7150d236b436b9a5946e564d67561",
            "6079bb0a4b12456a8c599be0fa6844e6",
            "6ba97bfd17134b5b99e87646d89ca1e6",
            "3866b374858141f293a021ad5824e82a",
            "f325fb7378c24eecb1bbb7cd053b13a8",
            "e4039fd07fc84c9ca6dbd13c32c3d068",
            "fea7eec5aa114df5b0f5f5c2a2da1656",
            "3adeb1ac70f84a098c3046d246677cc1",
            "6ba4a11febcf478b952d86e3d47ef831",
            "7aaa33d49f82427ea8beba9fd8c448e4",
            "854d7b57f979471f92fc4a68f42a6ab9",
            "649e1faad22342c1835d9ee997434ec8",
            "526446f0234446a1b9a95a76595899fc",
            "fd514a3938d943fb947ab74b062a06a6",
            "7af7a552e8b643d5b582b7f7a1670bd9",
            "5011e1aedf674e36ae7b642da2731cc3",
            "75e242b7a44e4966abcb85d7cc7b1964"
          ]
        },
        "id": "1QHtHYhdmr4D",
        "outputId": "2f83d47d-a191-4da2-96a5-368fd0b34eac"
      },
      "id": "1QHtHYhdmr4D",
      "execution_count": null,
      "outputs": [
        {
          "output_type": "stream",
          "name": "stderr",
          "text": [
            "/usr/local/lib/python3.10/dist-packages/huggingface_hub/utils/_token.py:89: UserWarning: \n",
            "The secret `HF_TOKEN` does not exist in your Colab secrets.\n",
            "To authenticate with the Hugging Face Hub, create a token in your settings tab (https://huggingface.co/settings/tokens), set it as secret in your Google Colab and restart your session.\n",
            "You will be able to reuse this secret in all of your notebooks.\n",
            "Please note that authentication is recommended but still optional to access public models or datasets.\n",
            "  warnings.warn(\n"
          ]
        },
        {
          "output_type": "display_data",
          "data": {
            "text/plain": [
              "tokenizer_config.json:   0%|          | 0.00/48.0 [00:00<?, ?B/s]"
            ],
            "application/vnd.jupyter.widget-view+json": {
              "version_major": 2,
              "version_minor": 0,
              "model_id": "bea2ff8d4324410d92c56edc876b6b8a"
            }
          },
          "metadata": {}
        },
        {
          "output_type": "display_data",
          "data": {
            "text/plain": [
              "vocab.txt:   0%|          | 0.00/232k [00:00<?, ?B/s]"
            ],
            "application/vnd.jupyter.widget-view+json": {
              "version_major": 2,
              "version_minor": 0,
              "model_id": "f4bcafaa02f04352a902fd8537eb476e"
            }
          },
          "metadata": {}
        },
        {
          "output_type": "display_data",
          "data": {
            "text/plain": [
              "tokenizer.json:   0%|          | 0.00/466k [00:00<?, ?B/s]"
            ],
            "application/vnd.jupyter.widget-view+json": {
              "version_major": 2,
              "version_minor": 0,
              "model_id": "db14bc08fc09417190c88b5627053e02"
            }
          },
          "metadata": {}
        },
        {
          "output_type": "stream",
          "name": "stderr",
          "text": [
            "/usr/local/lib/python3.10/dist-packages/huggingface_hub/file_download.py:1132: FutureWarning: `resume_download` is deprecated and will be removed in version 1.0.0. Downloads always resume when possible. If you want to force a new download, use `force_download=True`.\n",
            "  warnings.warn(\n"
          ]
        },
        {
          "output_type": "display_data",
          "data": {
            "text/plain": [
              "config.json:   0%|          | 0.00/570 [00:00<?, ?B/s]"
            ],
            "application/vnd.jupyter.widget-view+json": {
              "version_major": 2,
              "version_minor": 0,
              "model_id": "5973726e21804dbda120854bae592fab"
            }
          },
          "metadata": {}
        },
        {
          "output_type": "display_data",
          "data": {
            "text/plain": [
              "model.safetensors:   0%|          | 0.00/440M [00:00<?, ?B/s]"
            ],
            "application/vnd.jupyter.widget-view+json": {
              "version_major": 2,
              "version_minor": 0,
              "model_id": "fea7eec5aa114df5b0f5f5c2a2da1656"
            }
          },
          "metadata": {}
        },
        {
          "output_type": "stream",
          "name": "stderr",
          "text": [
            "Some weights of the PyTorch model were not used when initializing the TF 2.0 model TFBertModel: ['cls.predictions.bias', 'cls.seq_relationship.bias', 'cls.predictions.transform.LayerNorm.bias', 'cls.seq_relationship.weight', 'cls.predictions.transform.dense.weight', 'cls.predictions.transform.LayerNorm.weight', 'cls.predictions.transform.dense.bias']\n",
            "- This IS expected if you are initializing TFBertModel from a PyTorch model trained on another task or with another architecture (e.g. initializing a TFBertForSequenceClassification model from a BertForPreTraining model).\n",
            "- This IS NOT expected if you are initializing TFBertModel from a PyTorch model that you expect to be exactly identical (e.g. initializing a TFBertForSequenceClassification model from a BertForSequenceClassification model).\n",
            "All the weights of TFBertModel were initialized from the PyTorch model.\n",
            "If your task is similar to the task the model of the checkpoint was trained on, you can already use TFBertModel for predictions without further training.\n",
            "WARNING:tensorflow:Layer lstm will not use cuDNN kernels since it doesn't meet the criteria. It will use a generic GPU kernel as fallback when running on GPU.\n",
            "WARNING:tensorflow:Layer lstm will not use cuDNN kernels since it doesn't meet the criteria. It will use a generic GPU kernel as fallback when running on GPU.\n",
            "WARNING:tensorflow:Layer lstm will not use cuDNN kernels since it doesn't meet the criteria. It will use a generic GPU kernel as fallback when running on GPU.\n",
            "WARNING:tensorflow:Layer lstm_1 will not use cuDNN kernels since it doesn't meet the criteria. It will use a generic GPU kernel as fallback when running on GPU.\n",
            "WARNING:tensorflow:Layer lstm_1 will not use cuDNN kernels since it doesn't meet the criteria. It will use a generic GPU kernel as fallback when running on GPU.\n",
            "WARNING:tensorflow:Layer lstm_1 will not use cuDNN kernels since it doesn't meet the criteria. It will use a generic GPU kernel as fallback when running on GPU.\n",
            "WARNING:tensorflow:Layer lstm_2 will not use cuDNN kernels since it doesn't meet the criteria. It will use a generic GPU kernel as fallback when running on GPU.\n",
            "WARNING:tensorflow:Layer lstm_2 will not use cuDNN kernels since it doesn't meet the criteria. It will use a generic GPU kernel as fallback when running on GPU.\n",
            "WARNING:tensorflow:Layer lstm_2 will not use cuDNN kernels since it doesn't meet the criteria. It will use a generic GPU kernel as fallback when running on GPU.\n"
          ]
        },
        {
          "output_type": "stream",
          "name": "stdout",
          "text": [
            "Epoch 1/5\n",
            "1089/1089 [==============================] - 442s 396ms/step - loss: 0.5463 - accuracy: 0.7375 - val_loss: 0.7217 - val_accuracy: 0.5333\n",
            "Epoch 2/5\n",
            "1089/1089 [==============================] - 436s 400ms/step - loss: 0.4848 - accuracy: 0.7595 - val_loss: 0.4011 - val_accuracy: 0.7626\n",
            "Epoch 3/5\n",
            "1089/1089 [==============================] - 430s 395ms/step - loss: 0.4541 - accuracy: 0.7758 - val_loss: 0.4112 - val_accuracy: 0.8157\n",
            "Epoch 4/5\n",
            "1089/1089 [==============================] - 427s 392ms/step - loss: 0.4261 - accuracy: 0.7929 - val_loss: 0.4341 - val_accuracy: 0.7824\n",
            "Epoch 5/5\n",
            "1089/1089 [==============================] - 420s 386ms/step - loss: 0.3909 - accuracy: 0.8086 - val_loss: 0.3786 - val_accuracy: 0.8140\n",
            "137/137 - 7s - loss: 0.3786 - accuracy: 0.8140 - 7s/epoch - 49ms/step\n",
            "\n",
            "Test accuracy: 0.8140496015548706\n",
            "137/137 [==============================] - 7s 46ms/step\n"
          ]
        },
        {
          "output_type": "display_data",
          "data": {
            "text/plain": [
              "<Figure size 800x600 with 2 Axes>"
            ],
            "image/png": "[encoded data removed]"
          },
          "metadata": {}
        },
        {
          "output_type": "stream",
          "name": "stdout",
          "text": [
            "              precision    recall  f1-score   support\n",
            "\n",
            "     Class 0       0.96      0.82      0.89      3826\n",
            "     Class 1       0.37      0.77      0.50       530\n",
            "\n",
            "    accuracy                           0.81      4356\n",
            "   macro avg       0.67      0.79      0.69      4356\n",
            "weighted avg       0.89      0.81      0.84      4356\n",
            "\n"
          ]
        }
      ]
    },
    {
      "cell_type": "code",
      "source": [
        "from sklearn.metrics import confusion_matrix, classification_report, accuracy_score, recall_score, precision_score, f1_score, roc_auc_score, roc_curve, auc\n",
        "# Calculate and print additional metrics\n",
        "accuracy = accuracy_score(y_test, y_pred_classes)\n",
        "recall = recall_score(y_test, y_pred_classes)\n",
        "precision = precision_score(y_test, y_pred_classes)\n",
        "f1 = f1_score(y_test, y_pred_classes)\n",
        "roc_auc = roc_auc_score(y_test, y_pred)\n",
        "\n",
        "print(f'Accuracy: {accuracy}')\n",
        "print(f'Recall: {recall}')\n",
        "print(f'Precision: {precision}')\n",
        "print(f'F1 Score: {f1}')\n",
        "print(f'ROC AUC Score: {roc_auc}')"
      ],
      "metadata": {
        "colab": {
          "base_uri": "https://localhost:8080/"
        },
        "id": "3U9_S1mJ14qZ",
        "outputId": "d6aafdb8-d928-4ea2-e4ea-dcc91b9faae3"
      },
      "id": "3U9_S1mJ14qZ",
      "execution_count": null,
      "outputs": [
        {
          "output_type": "stream",
          "name": "stdout",
          "text": [
            "Accuracy: 0.8140495867768595\n",
            "Recall: 0.7660377358490567\n",
            "Precision: 0.3717948717948718\n",
            "F1 Score: 0.5006165228113441\n",
            "ROC AUC Score: 0.8737106589472231\n"
          ]
        }
      ]
    },
    {
      "cell_type": "markdown",
      "source": [
        "The bert with Lstm model is giving the best result compare to all other models.I am considering the recall metric to compare the model as recall is the metric that tells how classes are classified i.e correctly or not.\n",
        "\n",
        "Also the recall and ROC AUC score of this model is very good compare to our benchmark ml model was.Recall has improved from 58(before hypertunning) to 76 in our dl model"
      ],
      "metadata": {
        "id": "bPRuOsV6EPoL"
      },
      "id": "bPRuOsV6EPoL"
    },
    {
      "cell_type": "code",
      "source": [],
      "metadata": {
        "id": "YXK-DwbB2Q0O"
      },
      "id": "YXK-DwbB2Q0O",
      "execution_count": null,
      "outputs": []
    }
  ],
  "metadata": {
    "kernelspec": {
      "display_name": "Python 3",
      "name": "python3"
    },
    "language_info": {
      "codemirror_mode": {
        "name": "ipython",
        "version": 3
      },
      "file_extension": ".py",
      "mimetype": "text/x-python",
      "name": "python",
      "nbconvert_exporter": "python",
      "pygments_lexer": "ipython3",
      "version": "3.9.12"
    },
    "colab": {
      "provenance": [],
      "gpuType": "T4"
    },
    "accelerator": "GPU",
    "widgets": {
      "application/vnd.jupyter.widget-state+json": {
        "bea2ff8d4324410d92c56edc876b6b8a": {
          "model_module": "@jupyter-widgets/controls",
          "model_name": "HBoxModel",
          "model_module_version": "1.5.0",
          "state": {
            "_dom_classes": [],
            "_model_module": "@jupyter-widgets/controls",
            "_model_module_version": "1.5.0",
            "_model_name": "HBoxModel",
            "_view_count": null,
            "_view_module": "@jupyter-widgets/controls",
            "_view_module_version": "1.5.0",
            "_view_name": "HBoxView",
            "box_style": "",
            "children": [
              "IPY_MODEL_7b369ee4edb44cc39d8a37d5935bc6c4",
              "IPY_MODEL_b72ba6ef64294b3f96247481f0987f1b",
              "IPY_MODEL_872c5be081734c92a5c47ae7fb98f641"
            ],
            "layout": "IPY_MODEL_6f6f7eb3937e4b018b725982435dd408"
          }
        },
        "7b369ee4edb44cc39d8a37d5935bc6c4": {
          "model_module": "@jupyter-widgets/controls",
          "model_name": "HTMLModel",
          "model_module_version": "1.5.0",
          "state": {
            "_dom_classes": [],
            "_model_module": "@jupyter-widgets/controls",
            "_model_module_version": "1.5.0",
            "_model_name": "HTMLModel",
            "_view_count": null,
            "_view_module": "@jupyter-widgets/controls",
            "_view_module_version": "1.5.0",
            "_view_name": "HTMLView",
            "description": "",
            "description_tooltip": null,
            "layout": "IPY_MODEL_737aef1429b447669208e7104da34365",
            "placeholder": "​",
            "style": "IPY_MODEL_4f3beb03c07f4be0abefe62077ce0d34",
            "value": "tokenizer_config.json: 100%"
          }
        },
        "b72ba6ef64294b3f96247481f0987f1b": {
          "model_module": "@jupyter-widgets/controls",
          "model_name": "FloatProgressModel",
          "model_module_version": "1.5.0",
          "state": {
            "_dom_classes": [],
            "_model_module": "@jupyter-widgets/controls",
            "_model_module_version": "1.5.0",
            "_model_name": "FloatProgressModel",
            "_view_count": null,
            "_view_module": "@jupyter-widgets/controls",
            "_view_module_version": "1.5.0",
            "_view_name": "ProgressView",
            "bar_style": "success",
            "description": "",
            "description_tooltip": null,
            "layout": "IPY_MODEL_16eb23187f1b4a38a16ca9664e5cbdf2",
            "max": 48,
            "min": 0,
            "orientation": "horizontal",
            "style": "IPY_MODEL_6b66f9db86fe402e8a365afe67f0419b",
            "value": 48
          }
        },
        "872c5be081734c92a5c47ae7fb98f641": {
          "model_module": "@jupyter-widgets/controls",
          "model_name": "HTMLModel",
          "model_module_version": "1.5.0",
          "state": {
            "_dom_classes": [],
            "_model_module": "@jupyter-widgets/controls",
            "_model_module_version": "1.5.0",
            "_model_name": "HTMLModel",
            "_view_count": null,
            "_view_module": "@jupyter-widgets/controls",
            "_view_module_version": "1.5.0",
            "_view_name": "HTMLView",
            "description": "",
            "description_tooltip": null,
            "layout": "IPY_MODEL_460f97138cfe4ec1ba3972c4909ac514",
            "placeholder": "​",
            "style": "IPY_MODEL_103842159f3e4589b5553d9a41c5fe45",
            "value": " 48.0/48.0 [00:00&lt;00:00, 1.89kB/s]"
          }
        },
        "6f6f7eb3937e4b018b725982435dd408": {
          "model_module": "@jupyter-widgets/base",
          "model_name": "LayoutModel",
          "model_module_version": "1.2.0",
          "state": {
            "_model_module": "@jupyter-widgets/base",
            "_model_module_version": "1.2.0",
            "_model_name": "LayoutModel",
            "_view_count": null,
            "_view_module": "@jupyter-widgets/base",
            "_view_module_version": "1.2.0",
            "_view_name": "LayoutView",
            "align_content": null,
            "align_items": null,
            "align_self": null,
            "border": null,
            "bottom": null,
            "display": null,
            "flex": null,
            "flex_flow": null,
            "grid_area": null,
            "grid_auto_columns": null,
            "grid_auto_flow": null,
            "grid_auto_rows": null,
            "grid_column": null,
            "grid_gap": null,
            "grid_row": null,
            "grid_template_areas": null,
            "grid_template_columns": null,
            "grid_template_rows": null,
            "height": null,
            "justify_content": null,
            "justify_items": null,
            "left": null,
            "margin": null,
            "max_height": null,
            "max_width": null,
            "min_height": null,
            "min_width": null,
            "object_fit": null,
            "object_position": null,
            "order": null,
            "overflow": null,
            "overflow_x": null,
            "overflow_y": null,
            "padding": null,
            "right": null,
            "top": null,
            "visibility": null,
            "width": null
          }
        },
        "737aef1429b447669208e7104da34365": {
          "model_module": "@jupyter-widgets/base",
          "model_name": "LayoutModel",
          "model_module_version": "1.2.0",
          "state": {
            "_model_module": "@jupyter-widgets/base",
            "_model_module_version": "1.2.0",
            "_model_name": "LayoutModel",
            "_view_count": null,
            "_view_module": "@jupyter-widgets/base",
            "_view_module_version": "1.2.0",
            "_view_name": "LayoutView",
            "align_content": null,
            "align_items": null,
            "align_self": null,
            "border": null,
            "bottom": null,
            "display": null,
            "flex": null,
            "flex_flow": null,
            "grid_area": null,
            "grid_auto_columns": null,
            "grid_auto_flow": null,
            "grid_auto_rows": null,
            "grid_column": null,
            "grid_gap": null,
            "grid_row": null,
            "grid_template_areas": null,
            "grid_template_columns": null,
            "grid_template_rows": null,
            "height": null,
            "justify_content": null,
            "justify_items": null,
            "left": null,
            "margin": null,
            "max_height": null,
            "max_width": null,
            "min_height": null,
            "min_width": null,
            "object_fit": null,
            "object_position": null,
            "order": null,
            "overflow": null,
            "overflow_x": null,
            "overflow_y": null,
            "padding": null,
            "right": null,
            "top": null,
            "visibility": null,
            "width": null
          }
        },
        "4f3beb03c07f4be0abefe62077ce0d34": {
          "model_module": "@jupyter-widgets/controls",
          "model_name": "DescriptionStyleModel",
          "model_module_version": "1.5.0",
          "state": {
            "_model_module": "@jupyter-widgets/controls",
            "_model_module_version": "1.5.0",
            "_model_name": "DescriptionStyleModel",
            "_view_count": null,
            "_view_module": "@jupyter-widgets/base",
            "_view_module_version": "1.2.0",
            "_view_name": "StyleView",
            "description_width": ""
          }
        },
        "16eb23187f1b4a38a16ca9664e5cbdf2": {
          "model_module": "@jupyter-widgets/base",
          "model_name": "LayoutModel",
          "model_module_version": "1.2.0",
          "state": {
            "_model_module": "@jupyter-widgets/base",
            "_model_module_version": "1.2.0",
            "_model_name": "LayoutModel",
            "_view_count": null,
            "_view_module": "@jupyter-widgets/base",
            "_view_module_version": "1.2.0",
            "_view_name": "LayoutView",
            "align_content": null,
            "align_items": null,
            "align_self": null,
            "border": null,
            "bottom": null,
            "display": null,
            "flex": null,
            "flex_flow": null,
            "grid_area": null,
            "grid_auto_columns": null,
            "grid_auto_flow": null,
            "grid_auto_rows": null,
            "grid_column": null,
            "grid_gap": null,
            "grid_row": null,
            "grid_template_areas": null,
            "grid_template_columns": null,
            "grid_template_rows": null,
            "height": null,
            "justify_content": null,
            "justify_items": null,
            "left": null,
            "margin": null,
            "max_height": null,
            "max_width": null,
            "min_height": null,
            "min_width": null,
            "object_fit": null,
            "object_position": null,
            "order": null,
            "overflow": null,
            "overflow_x": null,
            "overflow_y": null,
            "padding": null,
            "right": null,
            "top": null,
            "visibility": null,
            "width": null
          }
        },
        "6b66f9db86fe402e8a365afe67f0419b": {
          "model_module": "@jupyter-widgets/controls",
          "model_name": "ProgressStyleModel",
          "model_module_version": "1.5.0",
          "state": {
            "_model_module": "@jupyter-widgets/controls",
            "_model_module_version": "1.5.0",
            "_model_name": "ProgressStyleModel",
            "_view_count": null,
            "_view_module": "@jupyter-widgets/base",
            "_view_module_version": "1.2.0",
            "_view_name": "StyleView",
            "bar_color": null,
            "description_width": ""
          }
        },
        "460f97138cfe4ec1ba3972c4909ac514": {
          "model_module": "@jupyter-widgets/base",
          "model_name": "LayoutModel",
          "model_module_version": "1.2.0",
          "state": {
            "_model_module": "@jupyter-widgets/base",
            "_model_module_version": "1.2.0",
            "_model_name": "LayoutModel",
            "_view_count": null,
            "_view_module": "@jupyter-widgets/base",
            "_view_module_version": "1.2.0",
            "_view_name": "LayoutView",
            "align_content": null,
            "align_items": null,
            "align_self": null,
            "border": null,
            "bottom": null,
            "display": null,
            "flex": null,
            "flex_flow": null,
            "grid_area": null,
            "grid_auto_columns": null,
            "grid_auto_flow": null,
            "grid_auto_rows": null,
            "grid_column": null,
            "grid_gap": null,
            "grid_row": null,
            "grid_template_areas": null,
            "grid_template_columns": null,
            "grid_template_rows": null,
            "height": null,
            "justify_content": null,
            "justify_items": null,
            "left": null,
            "margin": null,
            "max_height": null,
            "max_width": null,
            "min_height": null,
            "min_width": null,
            "object_fit": null,
            "object_position": null,
            "order": null,
            "overflow": null,
            "overflow_x": null,
            "overflow_y": null,
            "padding": null,
            "right": null,
            "top": null,
            "visibility": null,
            "width": null
          }
        },
        "103842159f3e4589b5553d9a41c5fe45": {
          "model_module": "@jupyter-widgets/controls",
          "model_name": "DescriptionStyleModel",
          "model_module_version": "1.5.0",
          "state": {
            "_model_module": "@jupyter-widgets/controls",
            "_model_module_version": "1.5.0",
            "_model_name": "DescriptionStyleModel",
            "_view_count": null,
            "_view_module": "@jupyter-widgets/base",
            "_view_module_version": "1.2.0",
            "_view_name": "StyleView",
            "description_width": ""
          }
        },
        "f4bcafaa02f04352a902fd8537eb476e": {
          "model_module": "@jupyter-widgets/controls",
          "model_name": "HBoxModel",
          "model_module_version": "1.5.0",
          "state": {
            "_dom_classes": [],
            "_model_module": "@jupyter-widgets/controls",
            "_model_module_version": "1.5.0",
            "_model_name": "HBoxModel",
            "_view_count": null,
            "_view_module": "@jupyter-widgets/controls",
            "_view_module_version": "1.5.0",
            "_view_name": "HBoxView",
            "box_style": "",
            "children": [
              "IPY_MODEL_cf39842b3cb840b28b413dbaddba4fc9",
              "IPY_MODEL_ad23d82ae2914d0ca54bdbd247398893",
              "IPY_MODEL_a0d96b3f9262496e879c4c08281af2b5"
            ],
            "layout": "IPY_MODEL_55a334f9c1974ff2bdf501970b5413bd"
          }
        },
        "cf39842b3cb840b28b413dbaddba4fc9": {
          "model_module": "@jupyter-widgets/controls",
          "model_name": "HTMLModel",
          "model_module_version": "1.5.0",
          "state": {
            "_dom_classes": [],
            "_model_module": "@jupyter-widgets/controls",
            "_model_module_version": "1.5.0",
            "_model_name": "HTMLModel",
            "_view_count": null,
            "_view_module": "@jupyter-widgets/controls",
            "_view_module_version": "1.5.0",
            "_view_name": "HTMLView",
            "description": "",
            "description_tooltip": null,
            "layout": "IPY_MODEL_186f43dddf21451cab7c554e6323761d",
            "placeholder": "​",
            "style": "IPY_MODEL_81305c78429c40e39a084e7ee89f3870",
            "value": "vocab.txt: 100%"
          }
        },
        "ad23d82ae2914d0ca54bdbd247398893": {
          "model_module": "@jupyter-widgets/controls",
          "model_name": "FloatProgressModel",
          "model_module_version": "1.5.0",
          "state": {
            "_dom_classes": [],
            "_model_module": "@jupyter-widgets/controls",
            "_model_module_version": "1.5.0",
            "_model_name": "FloatProgressModel",
            "_view_count": null,
            "_view_module": "@jupyter-widgets/controls",
            "_view_module_version": "1.5.0",
            "_view_name": "ProgressView",
            "bar_style": "success",
            "description": "",
            "description_tooltip": null,
            "layout": "IPY_MODEL_a86a7de50bb144ea9993996461ad5351",
            "max": 231508,
            "min": 0,
            "orientation": "horizontal",
            "style": "IPY_MODEL_ca740b8002b844f9a7bb7fd91d3f7d73",
            "value": 231508
          }
        },
        "a0d96b3f9262496e879c4c08281af2b5": {
          "model_module": "@jupyter-widgets/controls",
          "model_name": "HTMLModel",
          "model_module_version": "1.5.0",
          "state": {
            "_dom_classes": [],
            "_model_module": "@jupyter-widgets/controls",
            "_model_module_version": "1.5.0",
            "_model_name": "HTMLModel",
            "_view_count": null,
            "_view_module": "@jupyter-widgets/controls",
            "_view_module_version": "1.5.0",
            "_view_name": "HTMLView",
            "description": "",
            "description_tooltip": null,
            "layout": "IPY_MODEL_1970b99631064d4fa7e80ef724a82a11",
            "placeholder": "​",
            "style": "IPY_MODEL_182e634d2d4246f2b35f4587c8c4e5b0",
            "value": " 232k/232k [00:00&lt;00:00, 1.96MB/s]"
          }
        },
        "55a334f9c1974ff2bdf501970b5413bd": {
          "model_module": "@jupyter-widgets/base",
          "model_name": "LayoutModel",
          "model_module_version": "1.2.0",
          "state": {
            "_model_module": "@jupyter-widgets/base",
            "_model_module_version": "1.2.0",
            "_model_name": "LayoutModel",
            "_view_count": null,
            "_view_module": "@jupyter-widgets/base",
            "_view_module_version": "1.2.0",
            "_view_name": "LayoutView",
            "align_content": null,
            "align_items": null,
            "align_self": null,
            "border": null,
            "bottom": null,
            "display": null,
            "flex": null,
            "flex_flow": null,
            "grid_area": null,
            "grid_auto_columns": null,
            "grid_auto_flow": null,
            "grid_auto_rows": null,
            "grid_column": null,
            "grid_gap": null,
            "grid_row": null,
            "grid_template_areas": null,
            "grid_template_columns": null,
            "grid_template_rows": null,
            "height": null,
            "justify_content": null,
            "justify_items": null,
            "left": null,
            "margin": null,
            "max_height": null,
            "max_width": null,
            "min_height": null,
            "min_width": null,
            "object_fit": null,
            "object_position": null,
            "order": null,
            "overflow": null,
            "overflow_x": null,
            "overflow_y": null,
            "padding": null,
            "right": null,
            "top": null,
            "visibility": null,
            "width": null
          }
        },
        "186f43dddf21451cab7c554e6323761d": {
          "model_module": "@jupyter-widgets/base",
          "model_name": "LayoutModel",
          "model_module_version": "1.2.0",
          "state": {
            "_model_module": "@jupyter-widgets/base",
            "_model_module_version": "1.2.0",
            "_model_name": "LayoutModel",
            "_view_count": null,
            "_view_module": "@jupyter-widgets/base",
            "_view_module_version": "1.2.0",
            "_view_name": "LayoutView",
            "align_content": null,
            "align_items": null,
            "align_self": null,
            "border": null,
            "bottom": null,
            "display": null,
            "flex": null,
            "flex_flow": null,
            "grid_area": null,
            "grid_auto_columns": null,
            "grid_auto_flow": null,
            "grid_auto_rows": null,
            "grid_column": null,
            "grid_gap": null,
            "grid_row": null,
            "grid_template_areas": null,
            "grid_template_columns": null,
            "grid_template_rows": null,
            "height": null,
            "justify_content": null,
            "justify_items": null,
            "left": null,
            "margin": null,
            "max_height": null,
            "max_width": null,
            "min_height": null,
            "min_width": null,
            "object_fit": null,
            "object_position": null,
            "order": null,
            "overflow": null,
            "overflow_x": null,
            "overflow_y": null,
            "padding": null,
            "right": null,
            "top": null,
            "visibility": null,
            "width": null
          }
        },
        "81305c78429c40e39a084e7ee89f3870": {
          "model_module": "@jupyter-widgets/controls",
          "model_name": "DescriptionStyleModel",
          "model_module_version": "1.5.0",
          "state": {
            "_model_module": "@jupyter-widgets/controls",
            "_model_module_version": "1.5.0",
            "_model_name": "DescriptionStyleModel",
            "_view_count": null,
            "_view_module": "@jupyter-widgets/base",
            "_view_module_version": "1.2.0",
            "_view_name": "StyleView",
            "description_width": ""
          }
        },
        "a86a7de50bb144ea9993996461ad5351": {
          "model_module": "@jupyter-widgets/base",
          "model_name": "LayoutModel",
          "model_module_version": "1.2.0",
          "state": {
            "_model_module": "@jupyter-widgets/base",
            "_model_module_version": "1.2.0",
            "_model_name": "LayoutModel",
            "_view_count": null,
            "_view_module": "@jupyter-widgets/base",
            "_view_module_version": "1.2.0",
            "_view_name": "LayoutView",
            "align_content": null,
            "align_items": null,
            "align_self": null,
            "border": null,
            "bottom": null,
            "display": null,
            "flex": null,
            "flex_flow": null,
            "grid_area": null,
            "grid_auto_columns": null,
            "grid_auto_flow": null,
            "grid_auto_rows": null,
            "grid_column": null,
            "grid_gap": null,
            "grid_row": null,
            "grid_template_areas": null,
            "grid_template_columns": null,
            "grid_template_rows": null,
            "height": null,
            "justify_content": null,
            "justify_items": null,
            "left": null,
            "margin": null,
            "max_height": null,
            "max_width": null,
            "min_height": null,
            "min_width": null,
            "object_fit": null,
            "object_position": null,
            "order": null,
            "overflow": null,
            "overflow_x": null,
            "overflow_y": null,
            "padding": null,
            "right": null,
            "top": null,
            "visibility": null,
            "width": null
          }
        },
        "ca740b8002b844f9a7bb7fd91d3f7d73": {
          "model_module": "@jupyter-widgets/controls",
          "model_name": "ProgressStyleModel",
          "model_module_version": "1.5.0",
          "state": {
            "_model_module": "@jupyter-widgets/controls",
            "_model_module_version": "1.5.0",
            "_model_name": "ProgressStyleModel",
            "_view_count": null,
            "_view_module": "@jupyter-widgets/base",
            "_view_module_version": "1.2.0",
            "_view_name": "StyleView",
            "bar_color": null,
            "description_width": ""
          }
        },
        "1970b99631064d4fa7e80ef724a82a11": {
          "model_module": "@jupyter-widgets/base",
          "model_name": "LayoutModel",
          "model_module_version": "1.2.0",
          "state": {
            "_model_module": "@jupyter-widgets/base",
            "_model_module_version": "1.2.0",
            "_model_name": "LayoutModel",
            "_view_count": null,
            "_view_module": "@jupyter-widgets/base",
            "_view_module_version": "1.2.0",
            "_view_name": "LayoutView",
            "align_content": null,
            "align_items": null,
            "align_self": null,
            "border": null,
            "bottom": null,
            "display": null,
            "flex": null,
            "flex_flow": null,
            "grid_area": null,
            "grid_auto_columns": null,
            "grid_auto_flow": null,
            "grid_auto_rows": null,
            "grid_column": null,
            "grid_gap": null,
            "grid_row": null,
            "grid_template_areas": null,
            "grid_template_columns": null,
            "grid_template_rows": null,
            "height": null,
            "justify_content": null,
            "justify_items": null,
            "left": null,
            "margin": null,
            "max_height": null,
            "max_width": null,
            "min_height": null,
            "min_width": null,
            "object_fit": null,
            "object_position": null,
            "order": null,
            "overflow": null,
            "overflow_x": null,
            "overflow_y": null,
            "padding": null,
            "right": null,
            "top": null,
            "visibility": null,
            "width": null
          }
        },
        "182e634d2d4246f2b35f4587c8c4e5b0": {
          "model_module": "@jupyter-widgets/controls",
          "model_name": "DescriptionStyleModel",
          "model_module_version": "1.5.0",
          "state": {
            "_model_module": "@jupyter-widgets/controls",
            "_model_module_version": "1.5.0",
            "_model_name": "DescriptionStyleModel",
            "_view_count": null,
            "_view_module": "@jupyter-widgets/base",
            "_view_module_version": "1.2.0",
            "_view_name": "StyleView",
            "description_width": ""
          }
        },
        "db14bc08fc09417190c88b5627053e02": {
          "model_module": "@jupyter-widgets/controls",
          "model_name": "HBoxModel",
          "model_module_version": "1.5.0",
          "state": {
            "_dom_classes": [],
            "_model_module": "@jupyter-widgets/controls",
            "_model_module_version": "1.5.0",
            "_model_name": "HBoxModel",
            "_view_count": null,
            "_view_module": "@jupyter-widgets/controls",
            "_view_module_version": "1.5.0",
            "_view_name": "HBoxView",
            "box_style": "",
            "children": [
              "IPY_MODEL_b30a85748eb74443afb8f35bcd67504a",
              "IPY_MODEL_b3f2102efe9a48cea8c79029bdcde59a",
              "IPY_MODEL_878be2ee65c14fc3b2130fc6f5ecf982"
            ],
            "layout": "IPY_MODEL_d9907526fca74bc29ad8814cb03b90ae"
          }
        },
        "b30a85748eb74443afb8f35bcd67504a": {
          "model_module": "@jupyter-widgets/controls",
          "model_name": "HTMLModel",
          "model_module_version": "1.5.0",
          "state": {
            "_dom_classes": [],
            "_model_module": "@jupyter-widgets/controls",
            "_model_module_version": "1.5.0",
            "_model_name": "HTMLModel",
            "_view_count": null,
            "_view_module": "@jupyter-widgets/controls",
            "_view_module_version": "1.5.0",
            "_view_name": "HTMLView",
            "description": "",
            "description_tooltip": null,
            "layout": "IPY_MODEL_3682d5ed9fcb45d4bef8c1dd608b7b4e",
            "placeholder": "​",
            "style": "IPY_MODEL_11f7a87d1d2e4ad39d479e1593f97ff4",
            "value": "tokenizer.json: 100%"
          }
        },
        "b3f2102efe9a48cea8c79029bdcde59a": {
          "model_module": "@jupyter-widgets/controls",
          "model_name": "FloatProgressModel",
          "model_module_version": "1.5.0",
          "state": {
            "_dom_classes": [],
            "_model_module": "@jupyter-widgets/controls",
            "_model_module_version": "1.5.0",
            "_model_name": "FloatProgressModel",
            "_view_count": null,
            "_view_module": "@jupyter-widgets/controls",
            "_view_module_version": "1.5.0",
            "_view_name": "ProgressView",
            "bar_style": "success",
            "description": "",
            "description_tooltip": null,
            "layout": "IPY_MODEL_96cc4865e6874a6d83e55d29f9bc4cc5",
            "max": 466062,
            "min": 0,
            "orientation": "horizontal",
            "style": "IPY_MODEL_1a3a981acc4e4081abcfd567f8ec228c",
            "value": 466062
          }
        },
        "878be2ee65c14fc3b2130fc6f5ecf982": {
          "model_module": "@jupyter-widgets/controls",
          "model_name": "HTMLModel",
          "model_module_version": "1.5.0",
          "state": {
            "_dom_classes": [],
            "_model_module": "@jupyter-widgets/controls",
            "_model_module_version": "1.5.0",
            "_model_name": "HTMLModel",
            "_view_count": null,
            "_view_module": "@jupyter-widgets/controls",
            "_view_module_version": "1.5.0",
            "_view_name": "HTMLView",
            "description": "",
            "description_tooltip": null,
            "layout": "IPY_MODEL_f562f2b6cc6443d3a2674d45968b2114",
            "placeholder": "​",
            "style": "IPY_MODEL_84c356c8944c4ce3b66b987cf28e48a0",
            "value": " 466k/466k [00:00&lt;00:00, 2.67MB/s]"
          }
        },
        "d9907526fca74bc29ad8814cb03b90ae": {
          "model_module": "@jupyter-widgets/base",
          "model_name": "LayoutModel",
          "model_module_version": "1.2.0",
          "state": {
            "_model_module": "@jupyter-widgets/base",
            "_model_module_version": "1.2.0",
            "_model_name": "LayoutModel",
            "_view_count": null,
            "_view_module": "@jupyter-widgets/base",
            "_view_module_version": "1.2.0",
            "_view_name": "LayoutView",
            "align_content": null,
            "align_items": null,
            "align_self": null,
            "border": null,
            "bottom": null,
            "display": null,
            "flex": null,
            "flex_flow": null,
            "grid_area": null,
            "grid_auto_columns": null,
            "grid_auto_flow": null,
            "grid_auto_rows": null,
            "grid_column": null,
            "grid_gap": null,
            "grid_row": null,
            "grid_template_areas": null,
            "grid_template_columns": null,
            "grid_template_rows": null,
            "height": null,
            "justify_content": null,
            "justify_items": null,
            "left": null,
            "margin": null,
            "max_height": null,
            "max_width": null,
            "min_height": null,
            "min_width": null,
            "object_fit": null,
            "object_position": null,
            "order": null,
            "overflow": null,
            "overflow_x": null,
            "overflow_y": null,
            "padding": null,
            "right": null,
            "top": null,
            "visibility": null,
            "width": null
          }
        },
        "3682d5ed9fcb45d4bef8c1dd608b7b4e": {
          "model_module": "@jupyter-widgets/base",
          "model_name": "LayoutModel",
          "model_module_version": "1.2.0",
          "state": {
            "_model_module": "@jupyter-widgets/base",
            "_model_module_version": "1.2.0",
            "_model_name": "LayoutModel",
            "_view_count": null,
            "_view_module": "@jupyter-widgets/base",
            "_view_module_version": "1.2.0",
            "_view_name": "LayoutView",
            "align_content": null,
            "align_items": null,
            "align_self": null,
            "border": null,
            "bottom": null,
            "display": null,
            "flex": null,
            "flex_flow": null,
            "grid_area": null,
            "grid_auto_columns": null,
            "grid_auto_flow": null,
            "grid_auto_rows": null,
            "grid_column": null,
            "grid_gap": null,
            "grid_row": null,
            "grid_template_areas": null,
            "grid_template_columns": null,
            "grid_template_rows": null,
            "height": null,
            "justify_content": null,
            "justify_items": null,
            "left": null,
            "margin": null,
            "max_height": null,
            "max_width": null,
            "min_height": null,
            "min_width": null,
            "object_fit": null,
            "object_position": null,
            "order": null,
            "overflow": null,
            "overflow_x": null,
            "overflow_y": null,
            "padding": null,
            "right": null,
            "top": null,
            "visibility": null,
            "width": null
          }
        },
        "11f7a87d1d2e4ad39d479e1593f97ff4": {
          "model_module": "@jupyter-widgets/controls",
          "model_name": "DescriptionStyleModel",
          "model_module_version": "1.5.0",
          "state": {
            "_model_module": "@jupyter-widgets/controls",
            "_model_module_version": "1.5.0",
            "_model_name": "DescriptionStyleModel",
            "_view_count": null,
            "_view_module": "@jupyter-widgets/base",
            "_view_module_version": "1.2.0",
            "_view_name": "StyleView",
            "description_width": ""
          }
        },
        "96cc4865e6874a6d83e55d29f9bc4cc5": {
          "model_module": "@jupyter-widgets/base",
          "model_name": "LayoutModel",
          "model_module_version": "1.2.0",
          "state": {
            "_model_module": "@jupyter-widgets/base",
            "_model_module_version": "1.2.0",
            "_model_name": "LayoutModel",
            "_view_count": null,
            "_view_module": "@jupyter-widgets/base",
            "_view_module_version": "1.2.0",
            "_view_name": "LayoutView",
            "align_content": null,
            "align_items": null,
            "align_self": null,
            "border": null,
            "bottom": null,
            "display": null,
            "flex": null,
            "flex_flow": null,
            "grid_area": null,
            "grid_auto_columns": null,
            "grid_auto_flow": null,
            "grid_auto_rows": null,
            "grid_column": null,
            "grid_gap": null,
            "grid_row": null,
            "grid_template_areas": null,
            "grid_template_columns": null,
            "grid_template_rows": null,
            "height": null,
            "justify_content": null,
            "justify_items": null,
            "left": null,
            "margin": null,
            "max_height": null,
            "max_width": null,
            "min_height": null,
            "min_width": null,
            "object_fit": null,
            "object_position": null,
            "order": null,
            "overflow": null,
            "overflow_x": null,
            "overflow_y": null,
            "padding": null,
            "right": null,
            "top": null,
            "visibility": null,
            "width": null
          }
        },
        "1a3a981acc4e4081abcfd567f8ec228c": {
          "model_module": "@jupyter-widgets/controls",
          "model_name": "ProgressStyleModel",
          "model_module_version": "1.5.0",
          "state": {
            "_model_module": "@jupyter-widgets/controls",
            "_model_module_version": "1.5.0",
            "_model_name": "ProgressStyleModel",
            "_view_count": null,
            "_view_module": "@jupyter-widgets/base",
            "_view_module_version": "1.2.0",
            "_view_name": "StyleView",
            "bar_color": null,
            "description_width": ""
          }
        },
        "f562f2b6cc6443d3a2674d45968b2114": {
          "model_module": "@jupyter-widgets/base",
          "model_name": "LayoutModel",
          "model_module_version": "1.2.0",
          "state": {
            "_model_module": "@jupyter-widgets/base",
            "_model_module_version": "1.2.0",
            "_model_name": "LayoutModel",
            "_view_count": null,
            "_view_module": "@jupyter-widgets/base",
            "_view_module_version": "1.2.0",
            "_view_name": "LayoutView",
            "align_content": null,
            "align_items": null,
            "align_self": null,
            "border": null,
            "bottom": null,
            "display": null,
            "flex": null,
            "flex_flow": null,
            "grid_area": null,
            "grid_auto_columns": null,
            "grid_auto_flow": null,
            "grid_auto_rows": null,
            "grid_column": null,
            "grid_gap": null,
            "grid_row": null,
            "grid_template_areas": null,
            "grid_template_columns": null,
            "grid_template_rows": null,
            "height": null,
            "justify_content": null,
            "justify_items": null,
            "left": null,
            "margin": null,
            "max_height": null,
            "max_width": null,
            "min_height": null,
            "min_width": null,
            "object_fit": null,
            "object_position": null,
            "order": null,
            "overflow": null,
            "overflow_x": null,
            "overflow_y": null,
            "padding": null,
            "right": null,
            "top": null,
            "visibility": null,
            "width": null
          }
        },
        "84c356c8944c4ce3b66b987cf28e48a0": {
          "model_module": "@jupyter-widgets/controls",
          "model_name": "DescriptionStyleModel",
          "model_module_version": "1.5.0",
          "state": {
            "_model_module": "@jupyter-widgets/controls",
            "_model_module_version": "1.5.0",
            "_model_name": "DescriptionStyleModel",
            "_view_count": null,
            "_view_module": "@jupyter-widgets/base",
            "_view_module_version": "1.2.0",
            "_view_name": "StyleView",
            "description_width": ""
          }
        },
        "5973726e21804dbda120854bae592fab": {
          "model_module": "@jupyter-widgets/controls",
          "model_name": "HBoxModel",
          "model_module_version": "1.5.0",
          "state": {
            "_dom_classes": [],
            "_model_module": "@jupyter-widgets/controls",
            "_model_module_version": "1.5.0",
            "_model_name": "HBoxModel",
            "_view_count": null,
            "_view_module": "@jupyter-widgets/controls",
            "_view_module_version": "1.5.0",
            "_view_name": "HBoxView",
            "box_style": "",
            "children": [
              "IPY_MODEL_57891c620b56442fb4d39e57d69d5540",
              "IPY_MODEL_05df46492d6843cb907a780bf2e751d6",
              "IPY_MODEL_b6438cc4e7434d6e9e6977b1d28a5aa7"
            ],
            "layout": "IPY_MODEL_433d781a7304410a8c2553c2dc5868db"
          }
        },
        "57891c620b56442fb4d39e57d69d5540": {
          "model_module": "@jupyter-widgets/controls",
          "model_name": "HTMLModel",
          "model_module_version": "1.5.0",
          "state": {
            "_dom_classes": [],
            "_model_module": "@jupyter-widgets/controls",
            "_model_module_version": "1.5.0",
            "_model_name": "HTMLModel",
            "_view_count": null,
            "_view_module": "@jupyter-widgets/controls",
            "_view_module_version": "1.5.0",
            "_view_name": "HTMLView",
            "description": "",
            "description_tooltip": null,
            "layout": "IPY_MODEL_b2f7150d236b436b9a5946e564d67561",
            "placeholder": "​",
            "style": "IPY_MODEL_6079bb0a4b12456a8c599be0fa6844e6",
            "value": "config.json: 100%"
          }
        },
        "05df46492d6843cb907a780bf2e751d6": {
          "model_module": "@jupyter-widgets/controls",
          "model_name": "FloatProgressModel",
          "model_module_version": "1.5.0",
          "state": {
            "_dom_classes": [],
            "_model_module": "@jupyter-widgets/controls",
            "_model_module_version": "1.5.0",
            "_model_name": "FloatProgressModel",
            "_view_count": null,
            "_view_module": "@jupyter-widgets/controls",
            "_view_module_version": "1.5.0",
            "_view_name": "ProgressView",
            "bar_style": "success",
            "description": "",
            "description_tooltip": null,
            "layout": "IPY_MODEL_6ba97bfd17134b5b99e87646d89ca1e6",
            "max": 570,
            "min": 0,
            "orientation": "horizontal",
            "style": "IPY_MODEL_3866b374858141f293a021ad5824e82a",
            "value": 570
          }
        },
        "b6438cc4e7434d6e9e6977b1d28a5aa7": {
          "model_module": "@jupyter-widgets/controls",
          "model_name": "HTMLModel",
          "model_module_version": "1.5.0",
          "state": {
            "_dom_classes": [],
            "_model_module": "@jupyter-widgets/controls",
            "_model_module_version": "1.5.0",
            "_model_name": "HTMLModel",
            "_view_count": null,
            "_view_module": "@jupyter-widgets/controls",
            "_view_module_version": "1.5.0",
            "_view_name": "HTMLView",
            "description": "",
            "description_tooltip": null,
            "layout": "IPY_MODEL_f325fb7378c24eecb1bbb7cd053b13a8",
            "placeholder": "​",
            "style": "IPY_MODEL_e4039fd07fc84c9ca6dbd13c32c3d068",
            "value": " 570/570 [00:00&lt;00:00, 39.9kB/s]"
          }
        },
        "433d781a7304410a8c2553c2dc5868db": {
          "model_module": "@jupyter-widgets/base",
          "model_name": "LayoutModel",
          "model_module_version": "1.2.0",
          "state": {
            "_model_module": "@jupyter-widgets/base",
            "_model_module_version": "1.2.0",
            "_model_name": "LayoutModel",
            "_view_count": null,
            "_view_module": "@jupyter-widgets/base",
            "_view_module_version": "1.2.0",
            "_view_name": "LayoutView",
            "align_content": null,
            "align_items": null,
            "align_self": null,
            "border": null,
            "bottom": null,
            "display": null,
            "flex": null,
            "flex_flow": null,
            "grid_area": null,
            "grid_auto_columns": null,
            "grid_auto_flow": null,
            "grid_auto_rows": null,
            "grid_column": null,
            "grid_gap": null,
            "grid_row": null,
            "grid_template_areas": null,
            "grid_template_columns": null,
            "grid_template_rows": null,
            "height": null,
            "justify_content": null,
            "justify_items": null,
            "left": null,
            "margin": null,
            "max_height": null,
            "max_width": null,
            "min_height": null,
            "min_width": null,
            "object_fit": null,
            "object_position": null,
            "order": null,
            "overflow": null,
            "overflow_x": null,
            "overflow_y": null,
            "padding": null,
            "right": null,
            "top": null,
            "visibility": null,
            "width": null
          }
        },
        "b2f7150d236b436b9a5946e564d67561": {
          "model_module": "@jupyter-widgets/base",
          "model_name": "LayoutModel",
          "model_module_version": "1.2.0",
          "state": {
            "_model_module": "@jupyter-widgets/base",
            "_model_module_version": "1.2.0",
            "_model_name": "LayoutModel",
            "_view_count": null,
            "_view_module": "@jupyter-widgets/base",
            "_view_module_version": "1.2.0",
            "_view_name": "LayoutView",
            "align_content": null,
            "align_items": null,
            "align_self": null,
            "border": null,
            "bottom": null,
            "display": null,
            "flex": null,
            "flex_flow": null,
            "grid_area": null,
            "grid_auto_columns": null,
            "grid_auto_flow": null,
            "grid_auto_rows": null,
            "grid_column": null,
            "grid_gap": null,
            "grid_row": null,
            "grid_template_areas": null,
            "grid_template_columns": null,
            "grid_template_rows": null,
            "height": null,
            "justify_content": null,
            "justify_items": null,
            "left": null,
            "margin": null,
            "max_height": null,
            "max_width": null,
            "min_height": null,
            "min_width": null,
            "object_fit": null,
            "object_position": null,
            "order": null,
            "overflow": null,
            "overflow_x": null,
            "overflow_y": null,
            "padding": null,
            "right": null,
            "top": null,
            "visibility": null,
            "width": null
          }
        },
        "6079bb0a4b12456a8c599be0fa6844e6": {
          "model_module": "@jupyter-widgets/controls",
          "model_name": "DescriptionStyleModel",
          "model_module_version": "1.5.0",
          "state": {
            "_model_module": "@jupyter-widgets/controls",
            "_model_module_version": "1.5.0",
            "_model_name": "DescriptionStyleModel",
            "_view_count": null,
            "_view_module": "@jupyter-widgets/base",
            "_view_module_version": "1.2.0",
            "_view_name": "StyleView",
            "description_width": ""
          }
        },
        "6ba97bfd17134b5b99e87646d89ca1e6": {
          "model_module": "@jupyter-widgets/base",
          "model_name": "LayoutModel",
          "model_module_version": "1.2.0",
          "state": {
            "_model_module": "@jupyter-widgets/base",
            "_model_module_version": "1.2.0",
            "_model_name": "LayoutModel",
            "_view_count": null,
            "_view_module": "@jupyter-widgets/base",
            "_view_module_version": "1.2.0",
            "_view_name": "LayoutView",
            "align_content": null,
            "align_items": null,
            "align_self": null,
            "border": null,
            "bottom": null,
            "display": null,
            "flex": null,
            "flex_flow": null,
            "grid_area": null,
            "grid_auto_columns": null,
            "grid_auto_flow": null,
            "grid_auto_rows": null,
            "grid_column": null,
            "grid_gap": null,
            "grid_row": null,
            "grid_template_areas": null,
            "grid_template_columns": null,
            "grid_template_rows": null,
            "height": null,
            "justify_content": null,
            "justify_items": null,
            "left": null,
            "margin": null,
            "max_height": null,
            "max_width": null,
            "min_height": null,
            "min_width": null,
            "object_fit": null,
            "object_position": null,
            "order": null,
            "overflow": null,
            "overflow_x": null,
            "overflow_y": null,
            "padding": null,
            "right": null,
            "top": null,
            "visibility": null,
            "width": null
          }
        },
        "3866b374858141f293a021ad5824e82a": {
          "model_module": "@jupyter-widgets/controls",
          "model_name": "ProgressStyleModel",
          "model_module_version": "1.5.0",
          "state": {
            "_model_module": "@jupyter-widgets/controls",
            "_model_module_version": "1.5.0",
            "_model_name": "ProgressStyleModel",
            "_view_count": null,
            "_view_module": "@jupyter-widgets/base",
            "_view_module_version": "1.2.0",
            "_view_name": "StyleView",
            "bar_color": null,
            "description_width": ""
          }
        },
        "f325fb7378c24eecb1bbb7cd053b13a8": {
          "model_module": "@jupyter-widgets/base",
          "model_name": "LayoutModel",
          "model_module_version": "1.2.0",
          "state": {
            "_model_module": "@jupyter-widgets/base",
            "_model_module_version": "1.2.0",
            "_model_name": "LayoutModel",
            "_view_count": null,
            "_view_module": "@jupyter-widgets/base",
            "_view_module_version": "1.2.0",
            "_view_name": "LayoutView",
            "align_content": null,
            "align_items": null,
            "align_self": null,
            "border": null,
            "bottom": null,
            "display": null,
            "flex": null,
            "flex_flow": null,
            "grid_area": null,
            "grid_auto_columns": null,
            "grid_auto_flow": null,
            "grid_auto_rows": null,
            "grid_column": null,
            "grid_gap": null,
            "grid_row": null,
            "grid_template_areas": null,
            "grid_template_columns": null,
            "grid_template_rows": null,
            "height": null,
            "justify_content": null,
            "justify_items": null,
            "left": null,
            "margin": null,
            "max_height": null,
            "max_width": null,
            "min_height": null,
            "min_width": null,
            "object_fit": null,
            "object_position": null,
            "order": null,
            "overflow": null,
            "overflow_x": null,
            "overflow_y": null,
            "padding": null,
            "right": null,
            "top": null,
            "visibility": null,
            "width": null
          }
        },
        "e4039fd07fc84c9ca6dbd13c32c3d068": {
          "model_module": "@jupyter-widgets/controls",
          "model_name": "DescriptionStyleModel",
          "model_module_version": "1.5.0",
          "state": {
            "_model_module": "@jupyter-widgets/controls",
            "_model_module_version": "1.5.0",
            "_model_name": "DescriptionStyleModel",
            "_view_count": null,
            "_view_module": "@jupyter-widgets/base",
            "_view_module_version": "1.2.0",
            "_view_name": "StyleView",
            "description_width": ""
          }
        },
        "fea7eec5aa114df5b0f5f5c2a2da1656": {
          "model_module": "@jupyter-widgets/controls",
          "model_name": "HBoxModel",
          "model_module_version": "1.5.0",
          "state": {
            "_dom_classes": [],
            "_model_module": "@jupyter-widgets/controls",
            "_model_module_version": "1.5.0",
            "_model_name": "HBoxModel",
            "_view_count": null,
            "_view_module": "@jupyter-widgets/controls",
            "_view_module_version": "1.5.0",
            "_view_name": "HBoxView",
            "box_style": "",
            "children": [
              "IPY_MODEL_3adeb1ac70f84a098c3046d246677cc1",
              "IPY_MODEL_6ba4a11febcf478b952d86e3d47ef831",
              "IPY_MODEL_7aaa33d49f82427ea8beba9fd8c448e4"
            ],
            "layout": "IPY_MODEL_854d7b57f979471f92fc4a68f42a6ab9"
          }
        },
        "3adeb1ac70f84a098c3046d246677cc1": {
          "model_module": "@jupyter-widgets/controls",
          "model_name": "HTMLModel",
          "model_module_version": "1.5.0",
          "state": {
            "_dom_classes": [],
            "_model_module": "@jupyter-widgets/controls",
            "_model_module_version": "1.5.0",
            "_model_name": "HTMLModel",
            "_view_count": null,
            "_view_module": "@jupyter-widgets/controls",
            "_view_module_version": "1.5.0",
            "_view_name": "HTMLView",
            "description": "",
            "description_tooltip": null,
            "layout": "IPY_MODEL_649e1faad22342c1835d9ee997434ec8",
            "placeholder": "​",
            "style": "IPY_MODEL_526446f0234446a1b9a95a76595899fc",
            "value": "model.safetensors: 100%"
          }
        },
        "6ba4a11febcf478b952d86e3d47ef831": {
          "model_module": "@jupyter-widgets/controls",
          "model_name": "FloatProgressModel",
          "model_module_version": "1.5.0",
          "state": {
            "_dom_classes": [],
            "_model_module": "@jupyter-widgets/controls",
            "_model_module_version": "1.5.0",
            "_model_name": "FloatProgressModel",
            "_view_count": null,
            "_view_module": "@jupyter-widgets/controls",
            "_view_module_version": "1.5.0",
            "_view_name": "ProgressView",
            "bar_style": "success",
            "description": "",
            "description_tooltip": null,
            "layout": "IPY_MODEL_fd514a3938d943fb947ab74b062a06a6",
            "max": 440449768,
            "min": 0,
            "orientation": "horizontal",
            "style": "IPY_MODEL_7af7a552e8b643d5b582b7f7a1670bd9",
            "value": 440449768
          }
        },
        "7aaa33d49f82427ea8beba9fd8c448e4": {
          "model_module": "@jupyter-widgets/controls",
          "model_name": "HTMLModel",
          "model_module_version": "1.5.0",
          "state": {
            "_dom_classes": [],
            "_model_module": "@jupyter-widgets/controls",
            "_model_module_version": "1.5.0",
            "_model_name": "HTMLModel",
            "_view_count": null,
            "_view_module": "@jupyter-widgets/controls",
            "_view_module_version": "1.5.0",
            "_view_name": "HTMLView",
            "description": "",
            "description_tooltip": null,
            "layout": "IPY_MODEL_5011e1aedf674e36ae7b642da2731cc3",
            "placeholder": "​",
            "style": "IPY_MODEL_75e242b7a44e4966abcb85d7cc7b1964",
            "value": " 440M/440M [00:02&lt;00:00, 222MB/s]"
          }
        },
        "854d7b57f979471f92fc4a68f42a6ab9": {
          "model_module": "@jupyter-widgets/base",
          "model_name": "LayoutModel",
          "model_module_version": "1.2.0",
          "state": {
            "_model_module": "@jupyter-widgets/base",
            "_model_module_version": "1.2.0",
            "_model_name": "LayoutModel",
            "_view_count": null,
            "_view_module": "@jupyter-widgets/base",
            "_view_module_version": "1.2.0",
            "_view_name": "LayoutView",
            "align_content": null,
            "align_items": null,
            "align_self": null,
            "border": null,
            "bottom": null,
            "display": null,
            "flex": null,
            "flex_flow": null,
            "grid_area": null,
            "grid_auto_columns": null,
            "grid_auto_flow": null,
            "grid_auto_rows": null,
            "grid_column": null,
            "grid_gap": null,
            "grid_row": null,
            "grid_template_areas": null,
            "grid_template_columns": null,
            "grid_template_rows": null,
            "height": null,
            "justify_content": null,
            "justify_items": null,
            "left": null,
            "margin": null,
            "max_height": null,
            "max_width": null,
            "min_height": null,
            "min_width": null,
            "object_fit": null,
            "object_position": null,
            "order": null,
            "overflow": null,
            "overflow_x": null,
            "overflow_y": null,
            "padding": null,
            "right": null,
            "top": null,
            "visibility": null,
            "width": null
          }
        },
        "649e1faad22342c1835d9ee997434ec8": {
          "model_module": "@jupyter-widgets/base",
          "model_name": "LayoutModel",
          "model_module_version": "1.2.0",
          "state": {
            "_model_module": "@jupyter-widgets/base",
            "_model_module_version": "1.2.0",
            "_model_name": "LayoutModel",
            "_view_count": null,
            "_view_module": "@jupyter-widgets/base",
            "_view_module_version": "1.2.0",
            "_view_name": "LayoutView",
            "align_content": null,
            "align_items": null,
            "align_self": null,
            "border": null,
            "bottom": null,
            "display": null,
            "flex": null,
            "flex_flow": null,
            "grid_area": null,
            "grid_auto_columns": null,
            "grid_auto_flow": null,
            "grid_auto_rows": null,
            "grid_column": null,
            "grid_gap": null,
            "grid_row": null,
            "grid_template_areas": null,
            "grid_template_columns": null,
            "grid_template_rows": null,
            "height": null,
            "justify_content": null,
            "justify_items": null,
            "left": null,
            "margin": null,
            "max_height": null,
            "max_width": null,
            "min_height": null,
            "min_width": null,
            "object_fit": null,
            "object_position": null,
            "order": null,
            "overflow": null,
            "overflow_x": null,
            "overflow_y": null,
            "padding": null,
            "right": null,
            "top": null,
            "visibility": null,
            "width": null
          }
        },
        "526446f0234446a1b9a95a76595899fc": {
          "model_module": "@jupyter-widgets/controls",
          "model_name": "DescriptionStyleModel",
          "model_module_version": "1.5.0",
          "state": {
            "_model_module": "@jupyter-widgets/controls",
            "_model_module_version": "1.5.0",
            "_model_name": "DescriptionStyleModel",
            "_view_count": null,
            "_view_module": "@jupyter-widgets/base",
            "_view_module_version": "1.2.0",
            "_view_name": "StyleView",
            "description_width": ""
          }
        },
        "fd514a3938d943fb947ab74b062a06a6": {
          "model_module": "@jupyter-widgets/base",
          "model_name": "LayoutModel",
          "model_module_version": "1.2.0",
          "state": {
            "_model_module": "@jupyter-widgets/base",
            "_model_module_version": "1.2.0",
            "_model_name": "LayoutModel",
            "_view_count": null,
            "_view_module": "@jupyter-widgets/base",
            "_view_module_version": "1.2.0",
            "_view_name": "LayoutView",
            "align_content": null,
            "align_items": null,
            "align_self": null,
            "border": null,
            "bottom": null,
            "display": null,
            "flex": null,
            "flex_flow": null,
            "grid_area": null,
            "grid_auto_columns": null,
            "grid_auto_flow": null,
            "grid_auto_rows": null,
            "grid_column": null,
            "grid_gap": null,
            "grid_row": null,
            "grid_template_areas": null,
            "grid_template_columns": null,
            "grid_template_rows": null,
            "height": null,
            "justify_content": null,
            "justify_items": null,
            "left": null,
            "margin": null,
            "max_height": null,
            "max_width": null,
            "min_height": null,
            "min_width": null,
            "object_fit": null,
            "object_position": null,
            "order": null,
            "overflow": null,
            "overflow_x": null,
            "overflow_y": null,
            "padding": null,
            "right": null,
            "top": null,
            "visibility": null,
            "width": null
          }
        },
        "7af7a552e8b643d5b582b7f7a1670bd9": {
          "model_module": "@jupyter-widgets/controls",
          "model_name": "ProgressStyleModel",
          "model_module_version": "1.5.0",
          "state": {
            "_model_module": "@jupyter-widgets/controls",
            "_model_module_version": "1.5.0",
            "_model_name": "ProgressStyleModel",
            "_view_count": null,
            "_view_module": "@jupyter-widgets/base",
            "_view_module_version": "1.2.0",
            "_view_name": "StyleView",
            "bar_color": null,
            "description_width": ""
          }
        },
        "5011e1aedf674e36ae7b642da2731cc3": {
          "model_module": "@jupyter-widgets/base",
          "model_name": "LayoutModel",
          "model_module_version": "1.2.0",
          "state": {
            "_model_module": "@jupyter-widgets/base",
            "_model_module_version": "1.2.0",
            "_model_name": "LayoutModel",
            "_view_count": null,
            "_view_module": "@jupyter-widgets/base",
            "_view_module_version": "1.2.0",
            "_view_name": "LayoutView",
            "align_content": null,
            "align_items": null,
            "align_self": null,
            "border": null,
            "bottom": null,
            "display": null,
            "flex": null,
            "flex_flow": null,
            "grid_area": null,
            "grid_auto_columns": null,
            "grid_auto_flow": null,
            "grid_auto_rows": null,
            "grid_column": null,
            "grid_gap": null,
            "grid_row": null,
            "grid_template_areas": null,
            "grid_template_columns": null,
            "grid_template_rows": null,
            "height": null,
            "justify_content": null,
            "justify_items": null,
            "left": null,
            "margin": null,
            "max_height": null,
            "max_width": null,
            "min_height": null,
            "min_width": null,
            "object_fit": null,
            "object_position": null,
            "order": null,
            "overflow": null,
            "overflow_x": null,
            "overflow_y": null,
            "padding": null,
            "right": null,
            "top": null,
            "visibility": null,
            "width": null
          }
        },
        "75e242b7a44e4966abcb85d7cc7b1964": {
          "model_module": "@jupyter-widgets/controls",
          "model_name": "DescriptionStyleModel",
          "model_module_version": "1.5.0",
          "state": {
            "_model_module": "@jupyter-widgets/controls",
            "_model_module_version": "1.5.0",
            "_model_name": "DescriptionStyleModel",
            "_view_count": null,
            "_view_module": "@jupyter-widgets/base",
            "_view_module_version": "1.2.0",
            "_view_name": "StyleView",
            "description_width": ""
          }
        }
      }
    }
  },
  "nbformat": 4,
  "nbformat_minor": 5
}