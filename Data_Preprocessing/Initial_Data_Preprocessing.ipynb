{
 "cells": [
  {
   "cell_type": "code",
   "execution_count": 15,
   "id": "bed6d690-dd2c-42ca-81b2-ab14df5e3fb6",
   "metadata": {},
   "outputs": [],
   "source": [
    "import pandas as pd\n",
    "from sklearn.preprocessing import StandardScaler"
   ]
  },
  {
   "cell_type": "code",
   "execution_count": 16,
   "id": "48b0fc45-2ee7-454b-a66c-a848516cc7db",
   "metadata": {},
   "outputs": [],
   "source": [
    "# Load the TSV files\n",
    "train_file_path = r'C:\\Users\\BHARGAVI\\Downloads\\project_data\\ghc_train.tsv'\n",
    "test_file_path = r'C:\\Users\\BHARGAVI\\Downloads\\project_data\\ghc_test.tsv'"
   ]
  },
  {
   "cell_type": "code",
   "execution_count": 17,
   "id": "f29af4f0-d67d-4d76-b3dd-189f00d60d85",
   "metadata": {},
   "outputs": [],
   "source": [
    "train_data = pd.read_csv(train_file_path, sep='\\t')\n",
    "test_data = pd.read_csv(test_file_path, sep='\\t')"
   ]
  },
  {
   "cell_type": "code",
   "execution_count": 18,
   "id": "0e1a6e41-0b33-4fee-bca1-9aa7bae1b021",
   "metadata": {},
   "outputs": [
    {
     "data": {
      "text/plain": [
       "Index(['text', 'hd', 'cv', 'vo'], dtype='object')"
      ]
     },
     "execution_count": 18,
     "metadata": {},
     "output_type": "execute_result"
    }
   ],
   "source": [
    "train_data.columns"
   ]
  },
  {
   "cell_type": "code",
   "execution_count": 19,
   "id": "ea3d2997-f9d8-480a-a918-4b1bf4b07ac5",
   "metadata": {},
   "outputs": [
    {
     "data": {
      "text/plain": [
       "Index(['text', 'hd', 'cv', 'vo'], dtype='object')"
      ]
     },
     "execution_count": 19,
     "metadata": {},
     "output_type": "execute_result"
    }
   ],
   "source": [
    "test_data.columns"
   ]
  },
  {
   "cell_type": "code",
   "execution_count": 20,
   "id": "58ac3d02-59cc-4a68-b923-620440dcc452",
   "metadata": {},
   "outputs": [
    {
     "name": "stdout",
     "output_type": "stream",
     "text": [
      "                                                text  hd  cv  vo\n",
      "0  He most likely converted to islam due to his n...   0   0   0\n",
      "1  So Ford lied about being a psychologist. Recor...   0   0   0\n",
      "2     Jobs. Education. Ending abuse of Nation. CA43.   0   0   0\n",
      "3  I share a lot of your values, & like many who ...   0   0   0\n",
      "4  I am so ready to get back to blogging! www.ben...   0   0   0\n"
     ]
    }
   ],
   "source": [
    "print(train_data.head())"
   ]
  },
  {
   "cell_type": "code",
   "execution_count": 21,
   "id": "cb4e41eb-d68a-47b8-b748-a6fd665b5ada",
   "metadata": {},
   "outputs": [
    {
     "name": "stdout",
     "output_type": "stream",
     "text": [
      "                                                text  hd  cv  vo\n",
      "0  https://www.youtube.com/watch?v=kACWpKAKtak A ...   0   0   0\n",
      "1  Very nice! I tend to get tired of the constant...   0   0   0\n",
      "2        Watch today. https://circumcisionmovie.com/   0   0   0\n",
      "3  \" Thinking Venues \" First Color Layer blocking...   0   0   0\n",
      "4  What about death penalty for perpetrators  and...   0   0   0\n"
     ]
    }
   ],
   "source": [
    "print(test_data.head())"
   ]
  },
  {
   "cell_type": "code",
   "execution_count": 22,
   "id": "1f25ab73-af3c-4a97-b11f-4ba688b9da89",
   "metadata": {},
   "outputs": [
    {
     "name": "stderr",
     "output_type": "stream",
     "text": [
      "[nltk_data] Downloading package stopwords to\n",
      "[nltk_data]     C:\\Users\\BHARGAVI\\AppData\\Roaming\\nltk_data...\n",
      "[nltk_data]   Package stopwords is already up-to-date!\n",
      "[nltk_data] Downloading package punkt to\n",
      "[nltk_data]     C:\\Users\\BHARGAVI\\AppData\\Roaming\\nltk_data...\n",
      "[nltk_data]   Package punkt is already up-to-date!\n"
     ]
    },
    {
     "name": "stdout",
     "output_type": "stream",
     "text": [
      "                                                    text  hd  cv  vo\n",
      "0      likely converted islam due nature suitable isl...   0   0   0\n",
      "1      Ford lied psychologist . Records seem indicate...   0   0   0\n",
      "2        Jobs . Education . Ending abuse Nation . CA43 .   0   0   0\n",
      "3      share lot values , & like many , n't call alt ...   0   0   0\n",
      "4      ready get back blogging ! www.benbrihouse.com ...   0   0   0\n",
      "...                                                  ...  ..  ..  ..\n",
      "22031  'm fan western civilization , one bedrock west...   0   0   0\n",
      "22032  ... saying Muslims n't know run country protec...   0   0   0\n",
      "22033  Thank followers follow even dont agree . need ...   0   0   0\n",
      "22034  Wednesday music . https : //www.youtube.com/wa...   0   0   0\n",
      "22035  really Big Surprise ! https : //www.wnd.com/20...   0   0   0\n",
      "\n",
      "[22036 rows x 4 columns]\n"
     ]
    }
   ],
   "source": [
    "#Stopwords are commonly occurring words in a language that often don't carry significant meaning on their own, such as \"the,\" \"is,\" \"and,\" etc.\n",
    "#example code for handling stopwords in the dataset\n",
    "import pandas as pd\n",
    "import nltk\n",
    "from nltk.corpus import stopwords\n",
    "from nltk.tokenize import word_tokenize\n",
    "\n",
    "# Load the dataset\n",
    "train_data = pd.read_csv(train_file_path, sep='\\t')\n",
    "\n",
    "# Download NLTK stopwords data (if not already downloaded)\n",
    "nltk.download('stopwords')\n",
    "nltk.download('punkt')\n",
    "\n",
    "# Load stopwords\n",
    "stop_words = set(stopwords.words('english'))\n",
    "\n",
    "# Function to remove stopwords \n",
    "def remove_stopwords(text):\n",
    "    words = word_tokenize(text)\n",
    "    filtered_words = [word for word in words if word.lower() not in stop_words]\n",
    "    return ' '.join(filtered_words)\n",
    "\n",
    "# Remove stopwords from a specific column in the dataset\n",
    "train_data['text'] = train_data['text'].apply(remove_stopwords)\n",
    "print(train_data)\n"
   ]
  },
  {
   "cell_type": "code",
   "execution_count": 23,
   "id": "f4f5f314-6b64-4530-a6b0-2f7ce439b53f",
   "metadata": {},
   "outputs": [
    {
     "name": "stdout",
     "output_type": "stream",
     "text": [
      "                                                    text  hd  cv  vo\n",
      "0      likely converted islam due nature suitable isl...   0   0   0\n",
      "1      Ford lied psychologist . Records seem indicate...   0   0   0\n",
      "2        Jobs . Education . Ending abuse Nation . CA43 .   0   0   0\n",
      "3      share lot values , & like many , n't call alt ...   0   0   0\n",
      "4      ready get back blogging ! www.benbrihouse.com ...   0   0   0\n",
      "...                                                  ...  ..  ..  ..\n",
      "22031  'm fan western civilization , one bedrock west...   0   0   0\n",
      "22032  ... saying Muslims n't know run country protec...   0   0   0\n",
      "22033  Thank followers follow even dont agree . need ...   0   0   0\n",
      "22034  Wednesday music . https : //www.youtube.com/wa...   0   0   0\n",
      "22035  really Big Surprise ! https : //www.wnd.com/20...   0   0   0\n",
      "\n",
      "[22036 rows x 4 columns]\n"
     ]
    }
   ],
   "source": [
    "#Handling missing values in a dataset is essential for ensuring the robustness and reliability of your analysis or model.\n",
    "# Check for missing values\n",
    "missing_values = train_data.isnull().sum()\n",
    "#handling missing values\n",
    "train_data.dropna(inplace=True)\n",
    "test_data.dropna(inplace=True)\n",
    "print(train_data)"
   ]
  },
  {
   "cell_type": "code",
   "execution_count": 24,
   "id": "6409a6c1-614b-4e53-8798-c891f93fe6be",
   "metadata": {},
   "outputs": [
    {
     "data": {
      "text/html": [
       "<div>\n",
       "<style scoped>\n",
       "    .dataframe tbody tr th:only-of-type {\n",
       "        vertical-align: middle;\n",
       "    }\n",
       "\n",
       "    .dataframe tbody tr th {\n",
       "        vertical-align: top;\n",
       "    }\n",
       "\n",
       "    .dataframe thead th {\n",
       "        text-align: right;\n",
       "    }\n",
       "</style>\n",
       "<table border=\"1\" class=\"dataframe\">\n",
       "  <thead>\n",
       "    <tr style=\"text-align: right;\">\n",
       "      <th></th>\n",
       "      <th>text</th>\n",
       "      <th>hd</th>\n",
       "      <th>cv</th>\n",
       "      <th>vo</th>\n",
       "    </tr>\n",
       "  </thead>\n",
       "  <tbody>\n",
       "    <tr>\n",
       "      <th>0</th>\n",
       "      <td>He most likely converted to islam due to his n...</td>\n",
       "      <td>0</td>\n",
       "      <td>0</td>\n",
       "      <td>0</td>\n",
       "    </tr>\n",
       "    <tr>\n",
       "      <th>1</th>\n",
       "      <td>So Ford lied about being a psychologist Record...</td>\n",
       "      <td>0</td>\n",
       "      <td>0</td>\n",
       "      <td>0</td>\n",
       "    </tr>\n",
       "    <tr>\n",
       "      <th>2</th>\n",
       "      <td>Jobs Education Ending abuse of Nation CA43</td>\n",
       "      <td>0</td>\n",
       "      <td>0</td>\n",
       "      <td>0</td>\n",
       "    </tr>\n",
       "    <tr>\n",
       "      <th>3</th>\n",
       "      <td>I share a lot of your values  like many who do...</td>\n",
       "      <td>0</td>\n",
       "      <td>0</td>\n",
       "      <td>0</td>\n",
       "    </tr>\n",
       "    <tr>\n",
       "      <th>4</th>\n",
       "      <td>I am so ready to get back to blogging wwwbenbr...</td>\n",
       "      <td>0</td>\n",
       "      <td>0</td>\n",
       "      <td>0</td>\n",
       "    </tr>\n",
       "  </tbody>\n",
       "</table>\n",
       "</div>"
      ],
      "text/plain": [
       "                                                text  hd  cv  vo\n",
       "0  He most likely converted to islam due to his n...   0   0   0\n",
       "1  So Ford lied about being a psychologist Record...   0   0   0\n",
       "2         Jobs Education Ending abuse of Nation CA43   0   0   0\n",
       "3  I share a lot of your values  like many who do...   0   0   0\n",
       "4  I am so ready to get back to blogging wwwbenbr...   0   0   0"
      ]
     },
     "execution_count": 24,
     "metadata": {},
     "output_type": "execute_result"
    }
   ],
   "source": [
    "#removing punctuations\n",
    "#Removing punctuations from a dataset improves tokenization accuracy and reduces noise, enhancing text analysis and model performance.\n",
    "import pandas as pd\n",
    "import string\n",
    "train_data = pd.read_csv(train_file_path, sep='\\t')\n",
    "\n",
    "# Function to remove punctuation from a single text\n",
    "def remove_punctuation(text):\n",
    "    return ''.join([char for char in str(text) if char not in string.punctuation])\n",
    "\n",
    "# Remove punctuation from a specific column in the dataset\n",
    "train_data['text'] = train_data['text'].apply(remove_punctuation)\n",
    "train_data.head()\n"
   ]
  },
  {
   "cell_type": "code",
   "execution_count": 25,
   "id": "c7f7b86e-9065-4eeb-95b7-3d0117109d0e",
   "metadata": {},
   "outputs": [
    {
     "name": "stdout",
     "output_type": "stream",
     "text": [
      "                                                    text  hd  cv  vo\n",
      "0      He most likely converted to islam due to his n...   0   0   0\n",
      "1      So Ford lied about being a psychologist Record...   0   0   0\n",
      "2               Jobs Education Ending abuse of Nation CA   0   0   0\n",
      "3      I share a lot of your values  like many who do...   0   0   0\n",
      "4      I am so ready to get back to blogging wwwbenbr...   0   0   0\n",
      "...                                                  ...  ..  ..  ..\n",
      "22031  Im a fan of western civilization and one bedro...   0   0   0\n",
      "22032  Or  is she saying that Muslims dont know how t...   0   0   0\n",
      "22033  Thank you to all my followers that follow me e...   0   0   0\n",
      "22034   Wednesday music httpswwwyoutubecomwatchvfIZlAAds   0   0   0\n",
      "22035  This is a really Big Surprise  httpswwwwndcomm...   0   0   0\n",
      "\n",
      "[22036 rows x 4 columns]\n"
     ]
    }
   ],
   "source": [
    "#Regular expression (regex) cleaning\n",
    "#Regular expression (regex) cleaning is important for efficiently identifying and removing specific patterns or characters, enhancing data quality and consistency, and preparing text data for analysis or modeling tasks.\n",
    "import pandas as pd\n",
    "import re\n",
    "\n",
    "# Load the dataset\n",
    "train_data = pd.read_csv(train_file_path, sep='\\t')\n",
    "\n",
    "# Function to clean text using regex\n",
    "def clean_text(text):\n",
    "    # Example: Remove special characters and digits\n",
    "    cleaned_text = re.sub(r'[^a-zA-Z\\s]', '', text)  # Keep only alphabets and spaces\n",
    "    return cleaned_text\n",
    "\n",
    "# Clean text in a specific column in the dataset\n",
    "train_data['text'] = train_data['text'].apply(clean_text)\n",
    "print(train_data)\n"
   ]
  },
  {
   "cell_type": "code",
   "execution_count": 26,
   "id": "647b18d2-c4f0-435d-bceb-a949b8907673",
   "metadata": {},
   "outputs": [
    {
     "data": {
      "text/html": [
       "<div>\n",
       "<style scoped>\n",
       "    .dataframe tbody tr th:only-of-type {\n",
       "        vertical-align: middle;\n",
       "    }\n",
       "\n",
       "    .dataframe tbody tr th {\n",
       "        vertical-align: top;\n",
       "    }\n",
       "\n",
       "    .dataframe thead th {\n",
       "        text-align: right;\n",
       "    }\n",
       "</style>\n",
       "<table border=\"1\" class=\"dataframe\">\n",
       "  <thead>\n",
       "    <tr style=\"text-align: right;\">\n",
       "      <th></th>\n",
       "      <th>text</th>\n",
       "      <th>hd</th>\n",
       "      <th>cv</th>\n",
       "      <th>vo</th>\n",
       "    </tr>\n",
       "  </thead>\n",
       "  <tbody>\n",
       "    <tr>\n",
       "      <th>0</th>\n",
       "      <td>[He, most, likely, converted, to, islam, due, ...</td>\n",
       "      <td>0</td>\n",
       "      <td>0</td>\n",
       "      <td>0</td>\n",
       "    </tr>\n",
       "    <tr>\n",
       "      <th>1</th>\n",
       "      <td>[So, Ford, lied, about, being, a, psychologist...</td>\n",
       "      <td>0</td>\n",
       "      <td>0</td>\n",
       "      <td>0</td>\n",
       "    </tr>\n",
       "    <tr>\n",
       "      <th>2</th>\n",
       "      <td>[Jobs, ., Education, ., Ending, abuse, of, Nat...</td>\n",
       "      <td>0</td>\n",
       "      <td>0</td>\n",
       "      <td>0</td>\n",
       "    </tr>\n",
       "    <tr>\n",
       "      <th>3</th>\n",
       "      <td>[I, share, a, lot, of, your, values, ,, &amp;, lik...</td>\n",
       "      <td>0</td>\n",
       "      <td>0</td>\n",
       "      <td>0</td>\n",
       "    </tr>\n",
       "    <tr>\n",
       "      <th>4</th>\n",
       "      <td>[I, am, so, ready, to, get, back, to, blogging...</td>\n",
       "      <td>0</td>\n",
       "      <td>0</td>\n",
       "      <td>0</td>\n",
       "    </tr>\n",
       "  </tbody>\n",
       "</table>\n",
       "</div>"
      ],
      "text/plain": [
       "                                                text  hd  cv  vo\n",
       "0  [He, most, likely, converted, to, islam, due, ...   0   0   0\n",
       "1  [So, Ford, lied, about, being, a, psychologist...   0   0   0\n",
       "2  [Jobs, ., Education, ., Ending, abuse, of, Nat...   0   0   0\n",
       "3  [I, share, a, lot, of, your, values, ,, &, lik...   0   0   0\n",
       "4  [I, am, so, ready, to, get, back, to, blogging...   0   0   0"
      ]
     },
     "execution_count": 26,
     "metadata": {},
     "output_type": "execute_result"
    }
   ],
   "source": [
    "#TOKENIZATION\n",
    "#Tokenization is crucial for breaking down text into meaningful units, facilitating analysis, and enabling natural language processing tasks like sentiment analysis and text classification.\n",
    "train_data = pd.read_csv(train_file_path, sep='\\t')\n",
    "train_data['text']=train_data['text'].apply(word_tokenize)\n",
    "train_data.head()\n"
   ]
  },
  {
   "cell_type": "code",
   "execution_count": 36,
   "id": "6ef5a97f-33bb-431a-92c0-fc4f3dc5bb1e",
   "metadata": {},
   "outputs": [
    {
     "name": "stdout",
     "output_type": "stream",
     "text": [
      "[[0. 0. 1. 0.]\n",
      " [0. 1. 0. 0.]\n",
      " [1. 0. 0. 0.]\n",
      " [0. 0. 0. 1.]]\n",
      "['cv' 'hd' 'text' 'vo']\n"
     ]
    }
   ],
   "source": [
    "# Feature Extraction using TF-IDF\n",
    "#TF-IDF quantifies the importance of a word in a document relative to a corpus by considering both the frequency of the word in the document\n",
    "#and its rarity across all documents. It's commonly used in information retrieval and natural language processing tasks to rank words by their significance.\n",
    "import pandas as pd\n",
    "from sklearn.feature_extraction.text import TfidfVectorizer\n",
    "\n",
    "# load the dataset\n",
    "train_file_path = r'C:\\Users\\BHARGAVI\\Downloads\\project_data\\ghc_train.tsv'\n",
    "train_data = pd.read_csv(train_file_path, sep='\\t')\n",
    "\n",
    "# Create TF-IDF vectorizer\n",
    "vectorizer = TfidfVectorizer()\n",
    "\n",
    "# Fit the vectorizer to the data and transform the train_data into a TF-IDF matrix\n",
    "tfidf_matrix = vectorizer.fit_transform(train_data)\n",
    "\n",
    "# Get feature names (words)\n",
    "feature_names = vectorizer.get_feature_names_out()\n",
    "\n",
    "# Print TF-IDF matrix\n",
    "print(tfidf_matrix.toarray())\n",
    "\n",
    "# Print feature names\n",
    "print(feature_names)\n"
   ]
  },
  {
   "cell_type": "code",
   "execution_count": 37,
   "id": "61c74e8b-3134-4631-99b0-eafd931284ff",
   "metadata": {},
   "outputs": [
    {
     "name": "stdout",
     "output_type": "stream",
     "text": [
      "                                                    text  hd  cv  vo\n",
      "0      He most likely converted to islam due to his n...   0   0   0\n",
      "1      So Ford lied about being a psychologist. Recor...   0   0   0\n",
      "2         Jobs. Education. Ending abuse of Nation. CA43.   0   0   0\n",
      "3      I share a lot of your values, & like many who ...   0   0   0\n",
      "4      I am so ready to get back to blogging! www.ben...   0   0   0\n",
      "...                                                  ...  ..  ..  ..\n",
      "22031  I'm a fan of western civilization, and one bed...   0   0   0\n",
      "22032  Or ... is she saying that Muslims don't know h...   0   0   0\n",
      "22033  Thank you to all my followers that follow me e...   0   0   0\n",
      "22034  Wednesday music. https://www.youtube.com/watch...   0   0   0\n",
      "22035  This is a really Big Surprise!  https://www.wn...   0   0   0\n",
      "\n",
      "[21964 rows x 4 columns]\n"
     ]
    }
   ],
   "source": [
    "# Remove duplicates based on all columns\n",
    "train_data = train_data.drop_duplicates()\n",
    "print(train_data)"
   ]
  },
  {
   "cell_type": "code",
   "execution_count": 38,
   "id": "2c9eb2ff-db0d-4411-8594-a1c571eaeb48",
   "metadata": {},
   "outputs": [
    {
     "name": "stdout",
     "output_type": "stream",
     "text": [
      "                                                    text  hd  cv  vo\n",
      "0      He most likely converted to islam due to his n...   0   0   0\n",
      "1      So Ford lied about being a psychologist. Recor...   0   0   0\n",
      "2         Jobs. Education. Ending abuse of Nation. CA43.   0   0   0\n",
      "3      I share a lot of your values, & like many who ...   0   0   0\n",
      "4      I am so ready to get back to blogging! www.ben...   0   0   0\n",
      "...                                                  ...  ..  ..  ..\n",
      "22031  I'm a fan of western civilization, and one bed...   0   0   0\n",
      "22032  Or ... is she saying that Muslims don't know h...   0   0   0\n",
      "22033  Thank you to all my followers that follow me e...   0   0   0\n",
      "22034  Wednesday music. https://www.youtube.com/watch...   0   0   0\n",
      "22035  This is a really Big Surprise!  https://www.wn...   0   0   0\n",
      "\n",
      "[20109 rows x 4 columns]\n"
     ]
    }
   ],
   "source": [
    "#HANDLING OUTLIERS\n",
    "#Outliers are data points that significantly differ from the rest of the dataset. \n",
    "#Handling outliers ensures that statistical analyses and machine learning models are robust by preventing skewed results and improving the accuracy of predictions.\n",
    "import numpy as np\n",
    "import pandas as pd\n",
    "# Calculate Z-scores for the column\n",
    "z_scores = np.abs((train_data['hd'] - train_data['hd'].mean()) / train_data['hd'].std())\n",
    "\n",
    "# Define a threshold for outliers (e.g., Z-score > 3)\n",
    "threshold = 3\n",
    "\n",
    "# Remove rows with outliers\n",
    "cleaned_df = train_data[z_scores < threshold]\n",
    "print(cleaned_df)\n"
   ]
  },
  {
   "cell_type": "code",
   "execution_count": 32,
   "id": "c301b757-3e4f-47bd-af2e-4cb7dae7778d",
   "metadata": {},
   "outputs": [
    {
     "name": "stdout",
     "output_type": "stream",
     "text": [
      "First few rows of the dataset:\n",
      "                                                text  hd  cv  vo\n",
      "0  He most likely converted to islam due to his n...   0   0   0\n",
      "1  So Ford lied about being a psychologist. Recor...   0   0   0\n",
      "2     Jobs. Education. Ending abuse of Nation. CA43.   0   0   0\n",
      "3  I share a lot of your values, & like many who ...   0   0   0\n",
      "4  I am so ready to get back to blogging! www.ben...   0   0   0\n"
     ]
    }
   ],
   "source": [
    "#EXPLORATORY DATA ANALYSIS\n",
    "import pandas as pd\n",
    "import matplotlib.pyplot as plt\n",
    "import seaborn as sns\n",
    "train_data = pd.read_csv(train_file_path, sep='\\t')\n",
    "# Display the first few rows of the dataset\n",
    "print(\"First few rows of the dataset:\")\n",
    "print(train_data.head())"
   ]
  },
  {
   "cell_type": "code",
   "execution_count": 33,
   "id": "2d9e8e50-1636-468e-a3b2-b930fc62e836",
   "metadata": {},
   "outputs": [
    {
     "name": "stdout",
     "output_type": "stream",
     "text": [
      "\n",
      "Summary statistics:\n",
      "                 hd            cv            vo\n",
      "count  22036.000000  22036.000000  22036.000000\n",
      "mean       0.084271      0.005945      0.062579\n",
      "std        0.277800      0.076875      0.242210\n",
      "min        0.000000      0.000000      0.000000\n",
      "25%        0.000000      0.000000      0.000000\n",
      "50%        0.000000      0.000000      0.000000\n",
      "75%        0.000000      0.000000      0.000000\n",
      "max        1.000000      1.000000      1.000000\n"
     ]
    }
   ],
   "source": [
    "# Summary statistics\n",
    "print(\"\\nSummary statistics:\")\n",
    "print(train_data.describe())"
   ]
  },
  {
   "cell_type": "code",
   "execution_count": 34,
   "id": "977544d9-2bc6-4b72-9d31-14328ac5d296",
   "metadata": {},
   "outputs": [
    {
     "name": "stdout",
     "output_type": "stream",
     "text": [
      "\n",
      "Histograms of numeric variables:\n"
     ]
    },
    {
     "data": {
      "image/png": "[encoded data removed]",
      "text/plain": [
       "<Figure size 1000x800 with 4 Axes>"
      ]
     },
     "metadata": {},
     "output_type": "display_data"
    }
   ],
   "source": [
    "print(\"\\nHistograms of numeric variables:\")\n",
    "train_data.hist(figsize=(10, 8))\n",
    "plt.show()"
   ]
  },
  {
   "cell_type": "code",
   "execution_count": 35,
   "id": "77f9840b-8591-46fe-ac40-c432453bbef3",
   "metadata": {},
   "outputs": [
    {
     "name": "stdout",
     "output_type": "stream",
     "text": [
      "\n",
      "Boxplot of numeric variables:\n"
     ]
    },
    {
     "data": {
      "image/png": "[encoded data removed]",
      "text/plain": [
       "<Figure size 640x480 with 1 Axes>"
      ]
     },
     "metadata": {},
     "output_type": "display_data"
    }
   ],
   "source": [
    "print(\"\\nBoxplot of numeric variables:\")\n",
    "sns.boxplot(data=train_data)\n",
    "plt.show()"
   ]
  },
  {
   "cell_type": "code",
   "execution_count": 73,
   "id": "d6482ec4-8193-40ab-a310-3086b328f543",
   "metadata": {},
   "outputs": [
    {
     "name": "stdout",
     "output_type": "stream",
     "text": [
      "Validation error: Invalid text values found.\n",
      "            text  hd  cv  vo\n",
      "15      #camping   0   0   0\n",
      "109        Dank.   0   0   0\n",
      "171       @Sperg   0   0   0\n",
      "183         Help   0   0   0\n",
      "241          5/    1   0   1\n",
      "...          ...  ..  ..  ..\n",
      "21572       Good   0   0   0\n",
      "21820        fag   0   0   0\n",
      "21865  #Caturday   0   0   0\n",
      "21887        #2A   0   0   0\n",
      "21943       JEWS   0   0   0\n",
      "\n",
      "[185 rows x 4 columns]\n"
     ]
    }
   ],
   "source": [
    "#VALIDATION RULES\n",
    "#Validation rules ensure data accuracy and integrity by detecting and preventing errors\n",
    "import pandas as pd\n",
    "\n",
    "# Load the dataset \n",
    "df = pd.read_csv(train_file_path, sep='\\t')\n",
    "\n",
    "# Define a function to validate text\n",
    "def validate_text(text):\n",
    "    #validation rule: Check if text length is at least 10 characters\n",
    "    return len(text) >= 10\n",
    "\n",
    "# Apply the validation function to the 'text' column\n",
    "invalid_text_rows = df[~df['text'].apply(validate_text)]\n",
    "\n",
    "# Check if there are any rows with invalid text\n",
    "if not invalid_text_rows.empty:\n",
    "    print(\"Validation error: Invalid text values found.\")\n",
    "    print(invalid_text_rows)\n",
    "\n",
    "# If there are no validation errors, continue with your analysis\n",
    "if invalid_text_rows.empty:\n",
    "    print(\"No validation errors. Dataset is valid.\")\n"
   ]
  },
  {
   "cell_type": "code",
   "execution_count": null,
   "id": "3e7b3299-7c60-4ced-9565-4dbd767d5a35",
   "metadata": {},
   "outputs": [],
   "source": []
  }
 ],
 "metadata": {
  "kernelspec": {
   "display_name": "Python 3 (ipykernel)",
   "language": "python",
   "name": "python3"
  },
  "language_info": {
   "codemirror_mode": {
    "name": "ipython",
    "version": 3
   },
   "file_extension": ".py",
   "mimetype": "text/x-python",
   "name": "python",
   "nbconvert_exporter": "python",
   "pygments_lexer": "ipython3",
   "version": "3.12.3"
  }
 },
 "nbformat": 4,
 "nbformat_minor": 5
}
