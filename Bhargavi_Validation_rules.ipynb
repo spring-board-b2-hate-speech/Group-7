{
 "cells": [
  {
   "cell_type": "code",
   "execution_count": 16,
   "id": "824480af-25a5-4d23-b100-d9c4aef9d64a",
   "metadata": {},
   "outputs": [],
   "source": [
    "import pandas as pd\n",
    "from sklearn.preprocessing import StandardScaler"
   ]
  },
  {
   "cell_type": "code",
   "execution_count": 2,
   "id": "9d239a16-6ec3-4892-8b03-da52169262a2",
   "metadata": {},
   "outputs": [],
   "source": [
    "train_file_path = r'C:\\Users\\BHARGAVI\\Downloads\\project_data\\ghc_train.tsv'\n",
    "test_file_path = r'C:\\Users\\BHARGAVI\\Downloads\\project_data\\ghc_test.tsv'\n"
   ]
  },
  {
   "cell_type": "code",
   "execution_count": 3,
   "id": "64eb0958-4c11-46b9-8157-2ecd9b25816c",
   "metadata": {},
   "outputs": [],
   "source": [
    "df = pd.read_csv(train_file_path, sep='\\t')\n"
   ]
  },
  {
   "cell_type": "code",
   "execution_count": 4,
   "id": "3be2665a-0e7a-4df7-8c9b-73e443990335",
   "metadata": {},
   "outputs": [],
   "source": [
    "def validate_content(text):\n",
    "    if pd.isnull(text):\n",
    "        return False\n",
    "    # Convert integers to strings before checking length\n",
    "    text_str = str(text)\n",
    "    if len(text_str) < 10 or len(text_str) > 1000:\n",
    "        return False\n",
    "    return True\n"
   ]
  },
  {
   "cell_type": "code",
   "execution_count": 5,
   "id": "0bb45ccc-77cc-427d-aeff-e280ca76ec57",
   "metadata": {},
   "outputs": [],
   "source": [
    "# Apply validation function to the 'cv' column\n",
    "df['cv_valid'] = df['cv'].apply(validate_content)\n"
   ]
  },
  {
   "cell_type": "code",
   "execution_count": 6,
   "id": "f9669c0b-fc39-4cc7-99eb-a144c430db97",
   "metadata": {},
   "outputs": [],
   "source": [
    "# Filter out records where validation fails\n",
    "invalid_records = df[~df['cv_valid']]\n"
   ]
  },
  {
   "cell_type": "code",
   "execution_count": 7,
   "id": "b74482bc-fc54-46ef-aaab-083fc601f4d0",
   "metadata": {},
   "outputs": [
    {
     "name": "stdout",
     "output_type": "stream",
     "text": [
      "                                                    text  hd  cv  vo  cv_valid\n",
      "0      He most likely converted to islam due to his n...   0   0   0     False\n",
      "1      So Ford lied about being a psychologist. Recor...   0   0   0     False\n",
      "2         Jobs. Education. Ending abuse of Nation. CA43.   0   0   0     False\n",
      "3      I share a lot of your values, & like many who ...   0   0   0     False\n",
      "4      I am so ready to get back to blogging! www.ben...   0   0   0     False\n",
      "...                                                  ...  ..  ..  ..       ...\n",
      "22031  I'm a fan of western civilization, and one bed...   0   0   0     False\n",
      "22032  Or ... is she saying that Muslims don't know h...   0   0   0     False\n",
      "22033  Thank you to all my followers that follow me e...   0   0   0     False\n",
      "22034  Wednesday music. https://www.youtube.com/watch...   0   0   0     False\n",
      "22035  This is a really Big Surprise!  https://www.wn...   0   0   0     False\n",
      "\n",
      "[22036 rows x 5 columns]\n"
     ]
    }
   ],
   "source": [
    "print(df)"
   ]
  },
  {
   "cell_type": "code",
   "execution_count": 8,
   "id": "13a2f91e-27fe-4791-84d6-c6b848f1c9fe",
   "metadata": {},
   "outputs": [
    {
     "name": "stdout",
     "output_type": "stream",
     "text": [
      "                                                    text  hd  cv  vo  cv_valid\n",
      "0      He most likely converted to islam due to his n...   0   0   0     False\n",
      "1      So Ford lied about being a psychologist. Recor...   0   0   0     False\n",
      "2         Jobs. Education. Ending abuse of Nation. CA43.   0   0   0     False\n",
      "3      I share a lot of your values, & like many who ...   0   0   0     False\n",
      "4      I am so ready to get back to blogging! www.ben...   0   0   0     False\n",
      "...                                                  ...  ..  ..  ..       ...\n",
      "22031  I'm a fan of western civilization, and one bed...   0   0   0     False\n",
      "22032  Or ... is she saying that Muslims don't know h...   0   0   0     False\n",
      "22033  Thank you to all my followers that follow me e...   0   0   0     False\n",
      "22034  Wednesday music. https://www.youtube.com/watch...   0   0   0     False\n",
      "22035  This is a really Big Surprise!  https://www.wn...   0   0   0     False\n",
      "\n",
      "[22036 rows x 5 columns]\n"
     ]
    }
   ],
   "source": [
    "print(invalid_records)"
   ]
  },
  {
   "cell_type": "code",
   "execution_count": 9,
   "id": "b28f71cc-e10c-49cb-ae42-1f58c8bbd1f4",
   "metadata": {},
   "outputs": [],
   "source": [
    "df = pd.read_csv(test_file_path, sep='\\t')"
   ]
  },
  {
   "cell_type": "code",
   "execution_count": 10,
   "id": "db413f63-638f-4539-b918-903acadb9472",
   "metadata": {},
   "outputs": [],
   "source": [
    "def validate_content(text):\n",
    "    if pd.isnull(text):\n",
    "        return False\n",
    "    # Convert integers to strings before checking length\n",
    "    text_str = str(text)\n",
    "    if len(text_str) < 10 or len(text_str) > 1000:\n",
    "        return False\n",
    "    return True"
   ]
  },
  {
   "cell_type": "code",
   "execution_count": 11,
   "id": "737f5628-a268-4830-adb7-357cde2afadb",
   "metadata": {},
   "outputs": [],
   "source": [
    "# Apply validation function to the 'cv' column\n",
    "df['cv_valid'] = df['cv'].apply(validate_content)\n"
   ]
  },
  {
   "cell_type": "code",
   "execution_count": 12,
   "id": "ad61db92-8444-4f2e-8479-acbda7b450df",
   "metadata": {},
   "outputs": [],
   "source": [
    "# Filter out records where validation fails\n",
    "invalid_records = df[~df['cv_valid']]\n"
   ]
  },
  {
   "cell_type": "code",
   "execution_count": 13,
   "id": "bfc22f9b-775f-43bd-bcc1-ddb780017aed",
   "metadata": {},
   "outputs": [
    {
     "name": "stdout",
     "output_type": "stream",
     "text": [
      "                                                   text  hd  cv  vo  cv_valid\n",
      "0     https://www.youtube.com/watch?v=kACWpKAKtak A ...   0   0   0     False\n",
      "1     Very nice! I tend to get tired of the constant...   0   0   0     False\n",
      "2           Watch today. https://circumcisionmovie.com/   0   0   0     False\n",
      "3     \" Thinking Venues \" First Color Layer blocking...   0   0   0     False\n",
      "4     What about death penalty for perpetrators  and...   0   0   0     False\n",
      "...                                                 ...  ..  ..  ..       ...\n",
      "5505  Trump To \"Counter\" DNC Lawsuit; Seeks Servers,...   0   0   0     False\n",
      "5506  i guess eu is gonna have to back track a littl...   0   0   0     False\n",
      "5507  A good read here....    https://countrysquire....   0   0   0     False\n",
      "5508  The only way to change things is to have compa...   0   0   0     False\n",
      "5509  And Tel Aviv, Jerusalem, New York, LA, Berlin,...   0   0   0     False\n",
      "\n",
      "[5510 rows x 5 columns]\n"
     ]
    }
   ],
   "source": [
    "print(df)"
   ]
  },
  {
   "cell_type": "code",
   "execution_count": 14,
   "id": "f7852af7-986d-441b-874d-e5dc567b21be",
   "metadata": {},
   "outputs": [
    {
     "name": "stdout",
     "output_type": "stream",
     "text": [
      "                                                   text  hd  cv  vo  cv_valid\n",
      "0     https://www.youtube.com/watch?v=kACWpKAKtak A ...   0   0   0     False\n",
      "1     Very nice! I tend to get tired of the constant...   0   0   0     False\n",
      "2           Watch today. https://circumcisionmovie.com/   0   0   0     False\n",
      "3     \" Thinking Venues \" First Color Layer blocking...   0   0   0     False\n",
      "4     What about death penalty for perpetrators  and...   0   0   0     False\n",
      "...                                                 ...  ..  ..  ..       ...\n",
      "5505  Trump To \"Counter\" DNC Lawsuit; Seeks Servers,...   0   0   0     False\n",
      "5506  i guess eu is gonna have to back track a littl...   0   0   0     False\n",
      "5507  A good read here....    https://countrysquire....   0   0   0     False\n",
      "5508  The only way to change things is to have compa...   0   0   0     False\n",
      "5509  And Tel Aviv, Jerusalem, New York, LA, Berlin,...   0   0   0     False\n",
      "\n",
      "[5510 rows x 5 columns]\n"
     ]
    }
   ],
   "source": [
    "print(invalid_records)"
   ]
  },
  {
   "cell_type": "code",
   "execution_count": 17,
   "id": "7ae82ce1-78ab-410c-9b32-8afcc290d150",
   "metadata": {},
   "outputs": [],
   "source": [
    "# Save the cleaned dataset (excluding invalid records if necessary)\n",
    "df.to_csv('cleaned_gab_corpus_dataset.csv', index=False)\n"
   ]
  },
  {
   "cell_type": "code",
   "execution_count": null,
   "id": "03eedb2a-62e9-4a1f-b6cb-4073a1c31a69",
   "metadata": {},
   "outputs": [],
   "source": []
  }
 ],
 "metadata": {
  "kernelspec": {
   "display_name": "Python 3 (ipykernel)",
   "language": "python",
   "name": "python3"
  },
  "language_info": {
   "codemirror_mode": {
    "name": "ipython",
    "version": 3
   },
   "file_extension": ".py",
   "mimetype": "text/x-python",
   "name": "python",
   "nbconvert_exporter": "python",
   "pygments_lexer": "ipython3",
   "version": "3.12.3"
  }
 },
 "nbformat": 4,
 "nbformat_minor": 5
}
