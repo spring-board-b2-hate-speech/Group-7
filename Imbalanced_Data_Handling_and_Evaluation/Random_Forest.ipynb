{
 "cells": [
  {
   "cell_type": "code",
   "execution_count": 1,
   "id": "f1978b78-8486-4563-ac69-42e6e60d8e96",
   "metadata": {},
   "outputs": [],
   "source": [
    "import pandas as pd\n",
    "# File paths\n",
    "train_file = r\"C:\\Users\\BHARGAVI\\Downloads\\project_data\\ghc_train.csv\"\n",
    "test_file = r\"C:\\Users\\BHARGAVI\\Downloads\\project_data\\ghc_test.csv\"\n",
    "\n",
    "# Load CSV files into pandas DataFrames\n",
    "df = pd.read_csv(train_file)"
   ]
  },
  {
   "cell_type": "raw",
   "id": "27a3b900-dfaf-4e3e-b346-3eb8beba45aa",
   "metadata": {},
   "source": [
    "RANDOM FOREST"
   ]
  },
  {
   "cell_type": "code",
   "execution_count": 2,
   "id": "ee04bac0-d683-4439-adef-e9ebac9901c2",
   "metadata": {},
   "outputs": [],
   "source": [
    "import numpy as np\n",
    "import pandas as pd\n",
    "from sklearn.model_selection import train_test_split\n",
    "from sklearn.feature_extraction.text import TfidfVectorizer\n",
    "from sklearn.ensemble import RandomForestClassifier\n",
    "from sklearn.metrics import accuracy_score, classification_report, confusion_matrix\n",
    "from imblearn.over_sampling import RandomOverSampler  # Assuming you want to balance the dataset\n",
    "\n",
    "# Assuming df is your DataFrame containing 'text' and 'label' columns\n",
    "\n",
    "# Step 1: Drop rows with NaN in 'text' column\n",
    "df = df.dropna(subset=['text'])"
   ]
  },
  {
   "cell_type": "code",
   "execution_count": 3,
   "id": "ec784de8-52d1-4ab2-b472-d2fdadb3ef25",
   "metadata": {},
   "outputs": [],
   "source": [
    "# Step 2: Split the data into X (features) and y (labels)\n",
    "X = df['text']\n",
    "y = df['label']\n",
    "\n",
    "# Step 3: Split the data into training and testing sets\n",
    "X_train, X_test, y_train, y_test = train_test_split(X, y, test_size=0.2, random_state=42)\n",
    "\n",
    "# Step 4: Initialize TfidfVectorizer\n",
    "tfidf_vectorizer = TfidfVectorizer(max_features=2000)  # Adjust max_features as needed\n",
    "\n",
    "# Step 5: Fit and transform X_train (text data) using TfidfVectorizer\n",
    "X_train_tfidf = tfidf_vectorizer.fit_transform(X_train)\n",
    "\n",
    "# Step 6: Transform X_test using the fitted TfidfVectorizer\n",
    "X_test_tfidf = tfidf_vectorizer.transform(X_test)\n"
   ]
  },
  {
   "cell_type": "code",
   "execution_count": 4,
   "id": "1dead732-070f-4efb-9059-d4652da1ec7b",
   "metadata": {},
   "outputs": [
    {
     "name": "stdout",
     "output_type": "stream",
     "text": [
      "Accuracy: 0.8771526980482205\n",
      "Classification Report:\n",
      "               precision    recall  f1-score   support\n",
      "\n",
      "           0       0.89      0.97      0.93      3800\n",
      "           1       0.55      0.21      0.31       555\n",
      "\n",
      "    accuracy                           0.88      4355\n",
      "   macro avg       0.72      0.59      0.62      4355\n",
      "weighted avg       0.85      0.88      0.85      4355\n",
      "\n",
      "Confusion Matrix:\n",
      " [[3701   99]\n",
      " [ 436  119]]\n"
     ]
    }
   ],
   "source": [
    "# Step 7: Balance the training data (if needed)\n",
    "ros = RandomOverSampler(random_state=42)\n",
    "X_train_balanced, y_train_balanced = ros.fit_resample(X_train_tfidf, y_train)\n",
    "\n",
    "# Step 8: Initialize and train the RandomForestClassifier model\n",
    "model = RandomForestClassifier(n_estimators=100, random_state=42)\n",
    "model.fit(X_train_balanced, y_train_balanced)\n",
    "\n",
    "# Step 9: Make predictions on the test set\n",
    "y_pred = model.predict(X_test_tfidf)\n",
    "\n",
    "# Step 10: Evaluate the model\n",
    "print('Accuracy:', accuracy_score(y_test, y_pred))\n",
    "print('Classification Report:\\n', classification_report(y_test, y_pred))\n",
    "print('Confusion Matrix:\\n', confusion_matrix(y_test, y_pred))\n"
   ]
  },
  {
   "cell_type": "markdown",
   "id": "f103935e-4645-48ae-b15d-d43883394366",
   "metadata": {},
   "source": [
    "RANDOM FOREST HYPERTUNING"
   ]
  },
  {
   "cell_type": "code",
   "execution_count": null,
   "id": "fe827928-0edc-4ee1-88ad-704e1cc9a5a0",
   "metadata": {},
   "outputs": [],
   "source": [
    "from sklearn.model_selection import GridSearchCV\n",
    "\n",
    "# Define the parameter grid\n",
    "param_grid = {\n",
    "    'n_estimators': [50, 100, 200],  # Number of trees in the forest\n",
    "    'max_depth': [None, 10, 20, 30],  # Maximum depth of the trees\n",
    "    'min_samples_split': [2, 5, 10],  # Minimum number of samples required to split an internal node\n",
    "    'min_samples_leaf': [1, 2, 4]  # Minimum number of samples required to be at a leaf node\n",
    "}\n",
    "\n",
    "# Initialize RandomForestClassifier\n",
    "rf = RandomForestClassifier(random_state=42)\n",
    "\n",
    "# Initialize GridSearchCV with 5-fold cross-validation\n",
    "grid_search = GridSearchCV(estimator=rf, param_grid=param_grid, cv=5, scoring='accuracy', verbose=1)\n",
    "\n",
    "# Fit the GridSearchCV instance on the balanced training data\n",
    "grid_search.fit(X_train_balanced, y_train_balanced)\n",
    "\n",
    "# Print the best parameters and best score\n",
    "print(\"Best Parameters:\", grid_search.best_params_)\n",
    "print(\"Best CV Score:\", grid_search.best_score_)\n"
   ]
  },
  {
   "cell_type": "code",
   "execution_count": null,
   "id": "ac037dbd-6ad9-4404-9359-bc83fcd61d9c",
   "metadata": {},
   "outputs": [],
   "source": []
  }
 ],
 "metadata": {
  "kernelspec": {
   "display_name": "Python 3 (ipykernel)",
   "language": "python",
   "name": "python3"
  },
  "language_info": {
   "codemirror_mode": {
    "name": "ipython",
    "version": 3
   },
   "file_extension": ".py",
   "mimetype": "text/x-python",
   "name": "python",
   "nbconvert_exporter": "python",
   "pygments_lexer": "ipython3",
   "version": "3.12.3"
  }
 },
 "nbformat": 4,
 "nbformat_minor": 5
}
