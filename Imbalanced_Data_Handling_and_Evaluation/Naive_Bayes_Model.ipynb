{
 "cells": [
  {
   "cell_type": "code",
   "execution_count": 1,
   "id": "bb2ecde5-f26e-46fc-ba55-1b7cdc4b05a2",
   "metadata": {},
   "outputs": [],
   "source": [
    "# Basic Python package\n",
    "import pandas as pd\n",
    "import numpy as np\n",
    "import seaborn as sns\n",
    "import matplotlib.pyplot as plt\n",
    "import string \n",
    "import re\n"
   ]
  },
  {
   "cell_type": "code",
   "execution_count": 2,
   "id": "5580e2ad-03e9-480f-bdfd-efe349125c9d",
   "metadata": {},
   "outputs": [],
   "source": [
    "# File paths\n",
    "train_file = r\"C:\\Users\\BHARGAVI\\Downloads\\project_data\\ghc_train.csv\"\n",
    "test_file = r\"C:\\Users\\BHARGAVI\\Downloads\\project_data\\ghc_test.csv\"\n",
    "\n",
    "# Load CSV files into pandas DataFrames\n",
    "df = pd.read_csv(train_file)\n"
   ]
  },
  {
   "cell_type": "code",
   "execution_count": 3,
   "id": "a009cc7d-df22-43d0-8bdd-37dce3c83a16",
   "metadata": {},
   "outputs": [
    {
     "data": {
      "text/plain": [
       "label\n",
       "0    19126\n",
       "1     2650\n",
       "Name: count, dtype: int64"
      ]
     },
     "execution_count": 3,
     "metadata": {},
     "output_type": "execute_result"
    }
   ],
   "source": [
    "df['label'].value_counts()\n"
   ]
  },
  {
   "cell_type": "code",
   "execution_count": 6,
   "id": "d2dab066-56e5-4a7d-be7d-798f5e5513e5",
   "metadata": {},
   "outputs": [
    {
     "data": {
      "text/plain": [
       "(19126, 5)"
      ]
     },
     "execution_count": 6,
     "metadata": {},
     "output_type": "execute_result"
    }
   ],
   "source": [
    "#class count\n",
    "count_class_0,count_class_1=df.label.value_counts()\n",
    "df_class_0=df[df['label']==0]\n",
    "df_class_1=df[df['label']==1]\n",
    "df_class_0.shape\n"
   ]
  },
  {
   "cell_type": "code",
   "execution_count": 7,
   "id": "abcf8adf-f115-4488-be69-0c56f5e44007",
   "metadata": {},
   "outputs": [
    {
     "data": {
      "text/plain": [
       "(2650, 5)"
      ]
     },
     "execution_count": 7,
     "metadata": {},
     "output_type": "execute_result"
    }
   ],
   "source": [
    "df_class_1.shape\n"
   ]
  },
  {
   "cell_type": "code",
   "execution_count": 8,
   "id": "179f8a86-8624-4e1c-afac-5e284ab9c8d4",
   "metadata": {},
   "outputs": [
    {
     "name": "stdout",
     "output_type": "stream",
     "text": [
      "Random under sampling:\n",
      "label\n",
      "0    2650\n",
      "1    2650\n",
      "Name: count, dtype: int64\n"
     ]
    }
   ],
   "source": [
    "df_class_0_under = df_class_0.sample(count_class_1)\n",
    "df_test_under = pd.concat([df_class_0_under,df_class_1], axis=0)\n",
    "df_test_under.shape\n",
    "print('Random under sampling:')\n",
    "print(df_test_under.label.value_counts())"
   ]
  },
  {
   "cell_type": "code",
   "execution_count": 9,
   "id": "0456cf12-619d-4b2c-b62a-624b3f4f1465",
   "metadata": {},
   "outputs": [],
   "source": [
    "X=df_test_under.drop('label',axis='columns')\n",
    "y=df_test_under['label']\n",
    "\n",
    "from sklearn.model_selection import train_test_split\n",
    "X_train,X_test,y_train,y_test=train_test_split(X,y,test_size=0.2,random_state=15,stratify=y)\n"
   ]
  },
  {
   "cell_type": "code",
   "execution_count": 10,
   "id": "65922590-86df-4d3d-9076-d311a10b5d51",
   "metadata": {},
   "outputs": [
    {
     "data": {
      "text/plain": [
       "label\n",
       "1    2120\n",
       "0    2120\n",
       "Name: count, dtype: int64"
      ]
     },
     "execution_count": 10,
     "metadata": {},
     "output_type": "execute_result"
    }
   ],
   "source": [
    "y_train.value_counts()"
   ]
  },
  {
   "cell_type": "code",
   "execution_count": 11,
   "id": "3a9fc508-dde5-45f8-afc7-bec7bcc4a197",
   "metadata": {},
   "outputs": [
    {
     "data": {
      "text/plain": [
       "(19126, 2650)"
      ]
     },
     "execution_count": 11,
     "metadata": {},
     "output_type": "execute_result"
    }
   ],
   "source": [
    "count_class_0,count_class_1\n"
   ]
  },
  {
   "cell_type": "code",
   "execution_count": 12,
   "id": "97944329-e7c0-45d6-aa50-7742010ab58b",
   "metadata": {},
   "outputs": [
    {
     "data": {
      "text/plain": [
       "(2000, 5)"
      ]
     },
     "execution_count": 12,
     "metadata": {},
     "output_type": "execute_result"
    }
   ],
   "source": [
    "df_class_1.sample(2000,replace=True).shape\n"
   ]
  },
  {
   "cell_type": "code",
   "execution_count": 13,
   "id": "abad08a9-d276-40ee-a4a5-263d2cfec644",
   "metadata": {},
   "outputs": [
    {
     "data": {
      "text/plain": [
       "(19126, 2650)"
      ]
     },
     "execution_count": 13,
     "metadata": {},
     "output_type": "execute_result"
    }
   ],
   "source": [
    "count_class_0,count_class_1\n"
   ]
  },
  {
   "cell_type": "code",
   "execution_count": 14,
   "id": "6a73279f-b3e8-4292-b989-9ad9a03260e3",
   "metadata": {},
   "outputs": [
    {
     "data": {
      "text/plain": [
       "(38252, 5)"
      ]
     },
     "execution_count": 14,
     "metadata": {},
     "output_type": "execute_result"
    }
   ],
   "source": [
    "df_class_1_over=df_class_1.sample(count_class_0,replace=True)\n",
    "df_test_over = pd.concat([df_class_0,df_class_1_over],axis=0)\n",
    "df_test_over.shape\n"
   ]
  },
  {
   "cell_type": "code",
   "execution_count": 15,
   "id": "11d74600-689c-4843-91b2-946c56ee3716",
   "metadata": {},
   "outputs": [
    {
     "name": "stdout",
     "output_type": "stream",
     "text": [
      "Random over Sampling:\n",
      "label\n",
      "0    19126\n",
      "1    19126\n",
      "Name: count, dtype: int64\n"
     ]
    }
   ],
   "source": [
    "print('Random over Sampling:')\n",
    "print(df_test_over.label.value_counts())"
   ]
  },
  {
   "cell_type": "code",
   "execution_count": 17,
   "id": "612bbe49-cf0a-4014-8700-c3074e503f7d",
   "metadata": {},
   "outputs": [],
   "source": [
    "#smote\n",
    "columns_to_drop = [ 'text','label']\n",
    "X=df.drop(columns=columns_to_drop)\n",
    "y=df['label']"
   ]
  },
  {
   "cell_type": "code",
   "execution_count": 18,
   "id": "38153d29-bc21-4935-a21a-0526c25594be",
   "metadata": {},
   "outputs": [
    {
     "data": {
      "text/plain": [
       "label\n",
       "0    19126\n",
       "1     2650\n",
       "Name: count, dtype: int64"
      ]
     },
     "execution_count": 18,
     "metadata": {},
     "output_type": "execute_result"
    }
   ],
   "source": [
    "y.value_counts()"
   ]
  },
  {
   "cell_type": "code",
   "execution_count": 19,
   "id": "4d7df1a9-9390-4b0c-b3a3-5e983d236357",
   "metadata": {},
   "outputs": [
    {
     "name": "stdout",
     "output_type": "stream",
     "text": [
      "Requirement already satisfied: imbalanced-learn in c:\\users\\bhargavi\\appdata\\local\\programs\\python\\python312\\lib\\site-packages (0.12.3)\n",
      "Requirement already satisfied: numpy>=1.17.3 in c:\\users\\bhargavi\\appdata\\local\\programs\\python\\python312\\lib\\site-packages (from imbalanced-learn) (1.26.4)\n",
      "Requirement already satisfied: scipy>=1.5.0 in c:\\users\\bhargavi\\appdata\\local\\programs\\python\\python312\\lib\\site-packages (from imbalanced-learn) (1.13.1)\n",
      "Requirement already satisfied: scikit-learn>=1.0.2 in c:\\users\\bhargavi\\appdata\\local\\programs\\python\\python312\\lib\\site-packages (from imbalanced-learn) (1.5.0)\n",
      "Requirement already satisfied: joblib>=1.1.1 in c:\\users\\bhargavi\\appdata\\local\\programs\\python\\python312\\lib\\site-packages (from imbalanced-learn) (1.4.2)\n",
      "Requirement already satisfied: threadpoolctl>=2.0.0 in c:\\users\\bhargavi\\appdata\\local\\programs\\python\\python312\\lib\\site-packages (from imbalanced-learn) (3.5.0)\n",
      "Note: you may need to restart the kernel to use updated packages.\n"
     ]
    },
    {
     "name": "stderr",
     "output_type": "stream",
     "text": [
      "\n",
      "[notice] A new release of pip is available: 24.0 -> 24.1.1\n",
      "[notice] To update, run: python.exe -m pip install --upgrade pip\n"
     ]
    }
   ],
   "source": [
    "pip install -U imbalanced-learn"
   ]
  },
  {
   "cell_type": "code",
   "execution_count": 20,
   "id": "fcf8e4f5-2b52-4b96-8423-91141bad3eb1",
   "metadata": {},
   "outputs": [
    {
     "name": "stdout",
     "output_type": "stream",
     "text": [
      "label\n",
      "0    19126\n",
      "1    19126\n",
      "Name: count, dtype: int64\n"
     ]
    }
   ],
   "source": [
    "from imblearn.over_sampling import SMOTE\n",
    "# This means SMOTE will oversample the minority class until the number of instancesis equal to the number of instances in the majority class.\n",
    "smote = SMOTE(sampling_strategy='minority')\n",
    "# Apply SMOTE to the dataset (X, y).\n",
    "# X_sm and y_sm will be the resampled feature matrix and target vector, respectively.\n",
    "X_sm, y_sm = smote.fit_resample(X, y)\n",
    "\n",
    "# Checking the value counts of the resampled y\n",
    "y_sm_value_counts = y_sm.value_counts()\n",
    "print(y_sm_value_counts)"
   ]
  },
  {
   "cell_type": "code",
   "execution_count": 21,
   "id": "4d296abc-150e-4134-bf8a-7c1a67ac36e5",
   "metadata": {},
   "outputs": [],
   "source": [
    "import numpy as np\n",
    "import pandas as pd\n",
    "from sklearn.model_selection import train_test_split\n",
    "from sklearn.feature_extraction.text import TfidfVectorizer\n",
    "from sklearn.naive_bayes import MultinomialNB\n",
    "from sklearn.metrics import accuracy_score, classification_report, confusion_matrix\n",
    "from imblearn.over_sampling import RandomOverSampler\n",
    "\n",
    "# Assuming df is your DataFrame containing 'text' and 'label' columns\n",
    "\n",
    "# Step 1: Drop rows with NaN in 'text' column\n",
    "df = df.dropna(subset=['text'])\n",
    "\n",
    "# Step 2: Split the data into X (features) and y (labels)\n",
    "X = df['text']\n",
    "y = df['label']"
   ]
  },
  {
   "cell_type": "code",
   "execution_count": 22,
   "id": "b9e4a705-2f27-4697-a1ed-fb6c17a31188",
   "metadata": {},
   "outputs": [],
   "source": [
    "# Step 3: Split the data into training and testing sets\n",
    "from sklearn.model_selection import train_test_split\n",
    "# Training and test sets\n",
    "X_train, X_test, y_train, y_test = train_test_split(X, y, test_size=0.2, random_state=42, stratify=y)\n"
   ]
  },
  {
   "cell_type": "code",
   "execution_count": 23,
   "id": "d6f48af6-ae8c-483a-af83-790000ad3455",
   "metadata": {},
   "outputs": [],
   "source": [
    "# Step 4: Initialize TfidfVectorizer with adjusted parameters\n",
    "tfidf_vectorizer = TfidfVectorizer(max_features=5000, ngram_range=(1, 2))\n",
    "\n",
    "# Step 5: Fit and transform X_train (text data) using TfidfVectorizer\n",
    "X_train_tfidf = tfidf_vectorizer.fit_transform(X_train)\n",
    "\n",
    "# Step 6: Transform X_test using the fitted TfidfVectorizer\n",
    "X_test_tfidf = tfidf_vectorizer.transform(X_test)\n"
   ]
  },
  {
   "cell_type": "code",
   "execution_count": 24,
   "id": "fb749d73-bd5e-420b-8d48-27806a0bf48c",
   "metadata": {},
   "outputs": [
    {
     "name": "stdout",
     "output_type": "stream",
     "text": [
      "label\n",
      "0    15297\n",
      "1    15297\n",
      "Name: count, dtype: int64\n"
     ]
    }
   ],
   "source": [
    "# Step 7: Balance the training data\n",
    "from imblearn.over_sampling import SMOTE\n",
    "\n",
    "# Applying SMOTE to handle imbalanced data\n",
    "smote = SMOTE(random_state=42)\n",
    "X_resampled, y_resampled = smote.fit_resample(X_train_tfidf, y_train)\n",
    "print(y_resampled.value_counts())"
   ]
  },
  {
   "cell_type": "code",
   "execution_count": 25,
   "id": "9d5e2e7b-5197-48fc-81b7-e73ab19108cb",
   "metadata": {},
   "outputs": [
    {
     "name": "stdout",
     "output_type": "stream",
     "text": [
      "Accuracy: 0.7618828932261769\n",
      "Classification Report:\n",
      "               precision    recall  f1-score   support\n",
      "\n",
      "           0       0.94      0.78      0.85      3825\n",
      "           1       0.28      0.61      0.38       530\n",
      "\n",
      "    accuracy                           0.76      4355\n",
      "   macro avg       0.61      0.70      0.62      4355\n",
      "weighted avg       0.86      0.76      0.80      4355\n",
      "\n",
      "Confusion Matrix:\n",
      " [[2994  831]\n",
      " [ 206  324]]\n"
     ]
    }
   ],
   "source": [
    "# Step 8: Initialize and train the Naive Bayes classifier (MultinomialNB) with tuned hyperparameters\n",
    "model = MultinomialNB(alpha=0.1)\n",
    "model.fit(X_resampled, y_resampled)\n",
    "\n",
    "# Step 9: Make predictions on the test set\n",
    "y_pred = model.predict(X_test_tfidf)\n",
    "\n",
    "# Step 10: Evaluate the model\n",
    "print('Accuracy:', accuracy_score(y_test, y_pred))\n",
    "print('Classification Report:\\n', classification_report(y_test, y_pred))\n",
    "print('Confusion Matrix:\\n', confusion_matrix(y_test, y_pred))\n"
   ]
  },
  {
   "cell_type": "code",
   "execution_count": 27,
   "id": "c21e830b-a176-48b6-97fd-0b944b65d858",
   "metadata": {},
   "outputs": [],
   "source": [
    "from sklearn.pipeline import make_pipeline\n",
    "# Create a pipeline with TfidfVectorizer and MultinomialNB\n",
    "pipeline = make_pipeline(TfidfVectorizer(), MultinomialNB())\n",
    "\n",
    "# Define the grid of parameters to search\n",
    "param_grid = {\n",
    "    'tfidfvectorizer__ngram_range': [(1, 1), (1, 2)],  # unigrams or bigrams\n",
    "    'multinomialnb__alpha': [0.1, 0.5, 1.0, 2.0]        # smoothing parameter\n",
    "}\n"
   ]
  },
  {
   "cell_type": "code",
   "execution_count": 28,
   "id": "fb62e1fa-fa52-4bd8-bf0a-ad1a472e4cf4",
   "metadata": {},
   "outputs": [
    {
     "name": "stdout",
     "output_type": "stream",
     "text": [
      "Fitting 5 folds for each of 8 candidates, totalling 40 fits\n",
      "Best parameters found:  {'multinomialnb__alpha': 0.1, 'tfidfvectorizer__ngram_range': (1, 1)}\n",
      "Best cross-validation score: 0.88\n",
      "Test set accuracy with best model: 0.88\n"
     ]
    }
   ],
   "source": [
    "# Instantiate the grid search model\n",
    "grid_search = GridSearchCV(estimator=pipeline, param_grid=param_grid, cv=5, scoring='accuracy', verbose=1, n_jobs=-1)\n",
    "\n",
    "# Fit the grid search to the data\n",
    "grid_search.fit(X_train, y_train)\n",
    "\n",
    "# Print the best parameters and best score\n",
    "print(\"Best parameters found: \", grid_search.best_params_)\n",
    "print(\"Best cross-validation score: {:.2f}\".format(grid_search.best_score_))\n",
    "\n",
    "# Evaluate the model on the test data\n",
    "best_model = grid_search.best_estimator_\n",
    "test_accuracy = best_model.score(X_test, y_test)\n",
    "print(\"Test set accuracy with best model: {:.2f}\".format(test_accuracy))\n"
   ]
  },
  {
   "cell_type": "code",
   "execution_count": null,
   "id": "04b3e865-2144-4579-849b-75e492726f6d",
   "metadata": {},
   "outputs": [],
   "source": []
  }
 ],
 "metadata": {
  "kernelspec": {
   "display_name": "Python 3 (ipykernel)",
   "language": "python",
   "name": "python3"
  },
  "language_info": {
   "codemirror_mode": {
    "name": "ipython",
    "version": 3
   },
   "file_extension": ".py",
   "mimetype": "text/x-python",
   "name": "python",
   "nbconvert_exporter": "python",
   "pygments_lexer": "ipython3",
   "version": "3.12.3"
  }
 },
 "nbformat": 4,
 "nbformat_minor": 5
}
