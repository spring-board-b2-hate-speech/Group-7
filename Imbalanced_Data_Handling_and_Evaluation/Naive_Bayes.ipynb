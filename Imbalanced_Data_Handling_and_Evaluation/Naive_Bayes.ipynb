{
 "cells": [
  {
   "cell_type": "code",
   "execution_count": 1,
   "id": "65605a8a-6d2a-4045-bad8-58bd15fcd02f",
   "metadata": {},
   "outputs": [],
   "source": [
    "import pandas as pd\n",
    "# File paths\n",
    "train_file = r\"C:\\Users\\BHARGAVI\\Downloads\\project_data\\ghc_train.csv\"\n",
    "test_file = r\"C:\\Users\\BHARGAVI\\Downloads\\project_data\\ghc_test.csv\"\n",
    "\n",
    "# Load CSV files into pandas DataFrames\n",
    "df = pd.read_csv(train_file)"
   ]
  },
  {
   "cell_type": "markdown",
   "id": "b603d2d8-41ae-481a-af79-f3a8e548eb9b",
   "metadata": {},
   "source": [
    "NAIVE BAYES"
   ]
  },
  {
   "cell_type": "code",
   "execution_count": 2,
   "id": "c8d7b1d9-da8f-42c5-a4cc-5969253e9fb3",
   "metadata": {},
   "outputs": [],
   "source": [
    "import numpy as np\n",
    "import pandas as pd\n",
    "from sklearn.model_selection import train_test_split\n",
    "from sklearn.feature_extraction.text import TfidfVectorizer\n",
    "from sklearn.naive_bayes import MultinomialNB\n",
    "from sklearn.metrics import accuracy_score, classification_report, confusion_matrix\n",
    "from imblearn.over_sampling import RandomOverSampler\n",
    "\n",
    "# Assuming df is your DataFrame containing 'text' and 'label' columns\n",
    "\n",
    "# Step 1: Drop rows with NaN in 'text' column\n",
    "df = df.dropna(subset=['text'])\n",
    "\n",
    "# Step 2: Split the data into X (features) and y (labels)\n",
    "X = df['text']\n",
    "y = df['label']"
   ]
  },
  {
   "cell_type": "code",
   "execution_count": 3,
   "id": "8c54bff1-8bc4-4c5e-8e44-6471cae4352e",
   "metadata": {},
   "outputs": [],
   "source": [
    "# Step 3: Split the data into training and testing sets\n",
    "X_train, X_test, y_train, y_test = train_test_split(X, y, test_size=0.2, random_state=42)\n",
    "\n",
    "# Step 4: Initialize TfidfVectorizer with adjusted parameters\n",
    "tfidf_vectorizer = TfidfVectorizer(max_features=5000, ngram_range=(1, 2))\n",
    "\n",
    "# Step 5: Fit and transform X_train (text data) using TfidfVectorizer\n",
    "X_train_tfidf = tfidf_vectorizer.fit_transform(X_train)\n",
    "\n",
    "# Step 6: Transform X_test using the fitted TfidfVectorizer\n",
    "X_test_tfidf = tfidf_vectorizer.transform(X_test)\n",
    "\n",
    "# Step 7: Balance the training data (if needed)\n",
    "ros = RandomOverSampler(random_state=42)\n",
    "X_train_balanced, y_train_balanced = ros.fit_resample(X_train_tfidf, y_train)\n"
   ]
  },
  {
   "cell_type": "code",
   "execution_count": 4,
   "id": "551173c2-0d73-4d24-ab6f-2539fd64d91d",
   "metadata": {},
   "outputs": [
    {
     "name": "stdout",
     "output_type": "stream",
     "text": [
      "Accuracy: 0.7529276693455798\n",
      "Classification Report:\n",
      "               precision    recall  f1-score   support\n",
      "\n",
      "           0       0.93      0.78      0.85      3800\n",
      "           1       0.28      0.60      0.38       555\n",
      "\n",
      "    accuracy                           0.75      4355\n",
      "   macro avg       0.60      0.69      0.61      4355\n",
      "weighted avg       0.85      0.75      0.79      4355\n",
      "\n",
      "Confusion Matrix:\n",
      " [[2948  852]\n",
      " [ 224  331]]\n"
     ]
    }
   ],
   "source": [
    "# Step 8: Initialize and train the Naive Bayes classifier (MultinomialNB) with tuned hyperparameters\n",
    "model = MultinomialNB(alpha=0.1)\n",
    "model.fit(X_train_balanced, y_train_balanced)\n",
    "\n",
    "# Step 9: Make predictions on the test set\n",
    "y_pred = model.predict(X_test_tfidf)\n",
    "\n",
    "# Step 10: Evaluate the model\n",
    "print('Accuracy:', accuracy_score(y_test, y_pred))\n",
    "print('Classification Report:\\n', classification_report(y_test, y_pred))\n",
    "print('Confusion Matrix:\\n', confusion_matrix(y_test, y_pred))\n"
   ]
  },
  {
   "cell_type": "markdown",
   "id": "61f6af4c-b38e-484c-909d-6a7f0fbbe82e",
   "metadata": {},
   "source": [
    "NAIVE BAYES HYPERTUNING"
   ]
  },
  {
   "cell_type": "code",
   "execution_count": 5,
   "id": "b8b21aa4-bd32-4de3-8e6b-f67ec50b67dd",
   "metadata": {},
   "outputs": [
    {
     "name": "stdout",
     "output_type": "stream",
     "text": [
      "Fitting 5 folds for each of 5 candidates, totalling 25 fits\n",
      "Best Parameters: {'alpha': 0.1}\n",
      "Best CV Score: 0.8168648055066718\n"
     ]
    }
   ],
   "source": [
    "from sklearn.model_selection import GridSearchCV\n",
    "\n",
    "# Assuming X_train_balanced and y_train_balanced are already defined\n",
    "# Define the parameter grid\n",
    "param_grid = {\n",
    "    'alpha': [0.1, 0.5, 1.0, 1.5, 2.0]\n",
    "}\n",
    "\n",
    "# Initialize MultinomialNB classifier\n",
    "nb = MultinomialNB()\n",
    "\n",
    "# Initialize GridSearchCV with 5-fold cross-validation\n",
    "grid_search = GridSearchCV(estimator=nb, param_grid=param_grid, cv=5, scoring='accuracy', verbose=1)\n",
    "\n",
    "# Fit the GridSearchCV instance on the balanced training data\n",
    "grid_search.fit(X_train_balanced, y_train_balanced)\n",
    "\n",
    "# Print the best parameters and best score\n",
    "print(\"Best Parameters:\", grid_search.best_params_)\n",
    "print(\"Best CV Score:\", grid_search.best_score_)\n"
   ]
  },
  {
   "cell_type": "code",
   "execution_count": null,
   "id": "a2706169-cfbd-413e-b1dc-a5cf6c04904c",
   "metadata": {},
   "outputs": [],
   "source": []
  }
 ],
 "metadata": {
  "kernelspec": {
   "display_name": "Python 3 (ipykernel)",
   "language": "python",
   "name": "python3"
  },
  "language_info": {
   "codemirror_mode": {
    "name": "ipython",
    "version": 3
   },
   "file_extension": ".py",
   "mimetype": "text/x-python",
   "name": "python",
   "nbconvert_exporter": "python",
   "pygments_lexer": "ipython3",
   "version": "3.12.3"
  }
 },
 "nbformat": 4,
 "nbformat_minor": 5
}
