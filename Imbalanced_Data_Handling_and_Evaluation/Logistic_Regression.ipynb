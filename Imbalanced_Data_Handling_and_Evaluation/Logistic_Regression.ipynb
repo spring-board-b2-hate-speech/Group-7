{
 "cells": [
  {
   "cell_type": "markdown",
   "id": "53bbc077-ab0f-4a84-afae-a74eacb2ec5b",
   "metadata": {},
   "source": [
    "LOGISTIC REGRESSION"
   ]
  },
  {
   "cell_type": "code",
   "execution_count": 1,
   "id": "f92e3b6b-486c-4c68-9319-726a8b9e83af",
   "metadata": {},
   "outputs": [],
   "source": [
    "import pandas as pd\n",
    "# File paths\n",
    "train_file = r\"C:\\Users\\BHARGAVI\\Downloads\\project_data\\ghc_train.csv\"\n",
    "test_file = r\"C:\\Users\\BHARGAVI\\Downloads\\project_data\\ghc_test.csv\"\n",
    "\n",
    "# Load CSV files into pandas DataFrames\n",
    "train_df = pd.read_csv(train_file)"
   ]
  },
  {
   "cell_type": "code",
   "execution_count": 2,
   "id": "fc297dfe-b5d2-4d7a-bf9a-7d8eda57deeb",
   "metadata": {},
   "outputs": [],
   "source": [
    "import numpy as np\n",
    "import pandas as pd\n",
    "from sklearn.model_selection import train_test_split\n",
    "from sklearn.feature_extraction.text import TfidfVectorizer\n",
    "from sklearn.naive_bayes import MultinomialNB\n",
    "from sklearn.metrics import accuracy_score, classification_report, confusion_matrix\n",
    "from imblearn.over_sampling import RandomOverSampler\n",
    "\n",
    "#Drop rows with NaN in 'text' column\n",
    "train_df = train_df.dropna(subset=['text'])\n",
    "\n",
    "# Step 2: Split the data into X (features) and y (labels)\n",
    "X = train_df['text']\n",
    "y = train_df['label']"
   ]
  },
  {
   "cell_type": "code",
   "execution_count": 3,
   "id": "745be697-ddfb-4738-9af9-c9ffb41d9672",
   "metadata": {},
   "outputs": [],
   "source": [
    "X_train, X_test, y_train, y_test = train_test_split(X, y, test_size=0.2, random_state=42,stratify=y)\n",
    "\n",
    "# Initialize TfidfVectorizer with adjusted parameters\n",
    "tfidf_vectorizer = TfidfVectorizer(max_features=5000, ngram_range=(1, 2))\n",
    "\n",
    "# Fit and transform X_train (text data) using TfidfVectorizer\n",
    "X_train_tfidf = tfidf_vectorizer.fit_transform(X_train)\n",
    "\n",
    "# Transform X_test using the fitted TfidfVectorizer\n",
    "X_test_tfidf = tfidf_vectorizer.transform(X_test)\n",
    "\n",
    "# Balance the training data \n",
    "ros = RandomOverSampler(random_state=42)\n",
    "X_resampled, y_resampled= ros.fit_resample(X_train_tfidf, y_train)\n"
   ]
  },
  {
   "cell_type": "markdown",
   "id": "151e55e4-d753-4047-b0c1-fd90a8e8a649",
   "metadata": {},
   "source": [
    "HYPERTUNING OF LOGISTIC REGRESSION"
   ]
  },
  {
   "cell_type": "code",
   "execution_count": 4,
   "id": "8fce230f-181a-428b-b5d7-9286c4bfc469",
   "metadata": {},
   "outputs": [],
   "source": [
    "from sklearn.model_selection import GridSearchCV\n",
    "from sklearn.linear_model import LogisticRegression\n",
    "\n",
    "def train_best_logistic_regression(X_resampled, y_resampled):\n",
    "    # Define the parameter grid for Logistic Regression\n",
    "    param_grid = {\n",
    "        'C': [0.1, 10],\n",
    "        'solver': ['liblinear'],\n",
    "        'penalty': ['l2']\n",
    "    }\n",
    "    \n",
    "    # Create a Logistic Regression model\n",
    "    model = LogisticRegression(max_iter=1000)\n",
    "    \n",
    "    # Perform hyperparameter tuning using GridSearchCV\n",
    "    grid_search = GridSearchCV(model, param_grid, cv=3, scoring='accuracy', n_jobs=-1)\n",
    "    grid_search.fit(X_resampled, y_resampled)\n",
    "    \n",
    "    # Get the best Logistic Regression model\n",
    "    best_model = grid_search.best_estimator_\n",
    "    \n",
    "    return best_model\n",
    "\n",
    "# Example usage\n",
    "best_logistic_regression_model = train_best_logistic_regression(X_resampled, y_resampled)\n"
   ]
  },
  {
   "cell_type": "code",
   "execution_count": 6,
   "id": "b3938393-1342-4d09-b9d3-e9333beb8d6f",
   "metadata": {},
   "outputs": [
    {
     "name": "stdout",
     "output_type": "stream",
     "text": [
      "===== Results for LogisticRegression =====\n",
      "Accuracy: 0.826\n",
      "Recall: 0.555\n",
      "Confusion Matrix:\n",
      "[[3304  521]\n",
      " [ 236  294]]\n",
      "\n",
      "\n"
     ]
    }
   ],
   "source": [
    "from sklearn.metrics import accuracy_score, recall_score, confusion_matrix\n",
    "\n",
    "def predict_and_evaluate_logistic_regression(best_logistic_regression_model, X_test_tfidf, y_test):\n",
    "    results = {}\n",
    "    \n",
    "    # Predict using the Logistic Regression model\n",
    "    y_pred = best_logistic_regression_model.predict(X_test_tfidf)\n",
    "    accuracy = accuracy_score(y_test, y_pred)\n",
    "    recall = recall_score(y_test, y_pred)\n",
    "    cm = confusion_matrix(y_test, y_pred)\n",
    "    \n",
    "    results['LogisticRegression'] = {\n",
    "        'accuracy': accuracy,\n",
    "        'recall': recall,\n",
    "        'confusion_matrix': cm\n",
    "    }\n",
    "    \n",
    "    return results\n",
    "\n",
    "def print_logistic_regression_results(results):\n",
    "    for name, metrics in results.items():\n",
    "        accuracy = metrics['accuracy']\n",
    "        recall = metrics['recall']\n",
    "        cm = metrics['confusion_matrix']\n",
    "        \n",
    "        print(f'===== Results for {name} =====')\n",
    "        print(f'Accuracy: {accuracy:.3f}')\n",
    "        print(f'Recall: {recall:.3f}')\n",
    "        print('Confusion Matrix:')\n",
    "        print(cm)\n",
    "        print('\\n')\n",
    "\n",
    "# Example usage\n",
    "logistic_regression_results = predict_and_evaluate_logistic_regression(best_logistic_regression_model, X_test_tfidf, y_test)\n",
    "print_logistic_regression_results(logistic_regression_results)\n"
   ]
  },
  {
   "cell_type": "code",
   "execution_count": null,
   "id": "fea26b1a-1b7f-4305-851e-e0b71fc54dc0",
   "metadata": {},
   "outputs": [],
   "source": []
  }
 ],
 "metadata": {
  "kernelspec": {
   "display_name": "Python 3 (ipykernel)",
   "language": "python",
   "name": "python3"
  },
  "language_info": {
   "codemirror_mode": {
    "name": "ipython",
    "version": 3
   },
   "file_extension": ".py",
   "mimetype": "text/x-python",
   "name": "python",
   "nbconvert_exporter": "python",
   "pygments_lexer": "ipython3",
   "version": "3.12.3"
  }
 },
 "nbformat": 4,
 "nbformat_minor": 5
}
