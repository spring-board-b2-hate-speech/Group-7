{
 "cells": [
  {
   "cell_type": "code",
   "execution_count": 1,
   "id": "e5d64fa7",
   "metadata": {},
   "outputs": [],
   "source": [
    "# Basic Python package\n",
    "import pandas as pd\n",
    "import numpy as np\n",
    "import seaborn as sns\n",
    "import matplotlib.pyplot as plt\n",
    "import string \n",
    "import re"
   ]
  },
  {
   "cell_type": "code",
   "execution_count": 2,
   "id": "b1674767",
   "metadata": {},
   "outputs": [],
   "source": [
    "# File paths\n",
    "train_file = r\"C:\\Users\\prits\\Downloads\\Data\\cleaned_ghc_train.csv\"\n",
    "test_file = r'C:\\Users\\prits\\Downloads\\Data\\cleaned_ghc_test.csv'\n",
    "\n",
    "# Load CSV files into pandas DataFrames\n",
    "train_df = pd.read_csv(train_file)"
   ]
  },
  {
   "cell_type": "code",
   "execution_count": 3,
   "id": "02d82b65",
   "metadata": {},
   "outputs": [
    {
     "data": {
      "text/plain": [
       "0    19126\n",
       "1     2650\n",
       "Name: label, dtype: int64"
      ]
     },
     "execution_count": 3,
     "metadata": {},
     "output_type": "execute_result"
    }
   ],
   "source": [
    "train_df['label'].value_counts()"
   ]
  },
  {
   "cell_type": "code",
   "execution_count": 4,
   "id": "1e0415cf",
   "metadata": {},
   "outputs": [
    {
     "data": {
      "text/plain": [
       "0    19929\n",
       "1     1847\n",
       "Name: hd, dtype: int64"
      ]
     },
     "execution_count": 4,
     "metadata": {},
     "output_type": "execute_result"
    }
   ],
   "source": [
    "train_df['hd'].value_counts()"
   ]
  },
  {
   "cell_type": "code",
   "execution_count": 5,
   "id": "59a5ef80",
   "metadata": {},
   "outputs": [
    {
     "data": {
      "text/plain": [
       "0    21646\n",
       "1      130\n",
       "Name: cv, dtype: int64"
      ]
     },
     "execution_count": 5,
     "metadata": {},
     "output_type": "execute_result"
    }
   ],
   "source": [
    "train_df['cv'].value_counts()"
   ]
  },
  {
   "cell_type": "code",
   "execution_count": 6,
   "id": "f46fc2a4",
   "metadata": {},
   "outputs": [
    {
     "data": {
      "text/plain": [
       "0    20410\n",
       "1     1366\n",
       "Name: vo, dtype: int64"
      ]
     },
     "execution_count": 6,
     "metadata": {},
     "output_type": "execute_result"
    }
   ],
   "source": [
    "train_df['vo'].value_counts()"
   ]
  },
  {
   "cell_type": "code",
   "execution_count": 7,
   "id": "5a7c316b",
   "metadata": {},
   "outputs": [
    {
     "name": "stdout",
     "output_type": "stream",
     "text": [
      "Requirement already satisfied: imbalanced-learn in c:\\users\\prits\\anaconda3\\lib\\site-packages (0.12.3)\n",
      "Requirement already satisfied: joblib>=1.1.1 in c:\\users\\prits\\anaconda3\\lib\\site-packages (from imbalanced-learn) (1.4.2)\n",
      "Requirement already satisfied: numpy>=1.17.3 in c:\\users\\prits\\anaconda3\\lib\\site-packages (from imbalanced-learn) (1.21.5)\n",
      "Requirement already satisfied: scipy>=1.5.0 in c:\\users\\prits\\anaconda3\\lib\\site-packages (from imbalanced-learn) (1.7.3)\n",
      "Requirement already satisfied: scikit-learn>=1.0.2 in c:\\users\\prits\\anaconda3\\lib\\site-packages (from imbalanced-learn) (1.0.2)\n",
      "Requirement already satisfied: threadpoolctl>=2.0.0 in c:\\users\\prits\\anaconda3\\lib\\site-packages (from imbalanced-learn) (2.2.0)\n",
      "Note: you may need to restart the kernel to use updated packages.\n"
     ]
    }
   ],
   "source": [
    "pip install imbalanced-learn\n"
   ]
  },
  {
   "cell_type": "markdown",
   "id": "9afd8b4f",
   "metadata": {},
   "source": [
    "# Class Distribution Before Sampling"
   ]
  },
  {
   "cell_type": "code",
   "execution_count": 8,
   "id": "a00ef832",
   "metadata": {},
   "outputs": [
    {
     "data": {
      "image/png": "[encoded data removed]",
      "text/plain": [
       "<Figure size 576x432 with 1 Axes>"
      ]
     },
     "metadata": {
      "needs_background": "light"
     },
     "output_type": "display_data"
    }
   ],
   "source": [
    "import pandas as pd\n",
    "import seaborn as sns\n",
    "import matplotlib.pyplot as plt\n",
    "\n",
    "# Plot the distribution of classes before sampling\n",
    "plt.figure(figsize=(8, 6))\n",
    "sns.countplot(x='label', data=train_df)\n",
    "plt.title('Class Distribution Before Sampling')\n",
    "plt.xlabel('Class')\n",
    "plt.ylabel('Count')\n",
    "plt.show()"
   ]
  },
  {
   "cell_type": "markdown",
   "id": "1ef1e7cc",
   "metadata": {},
   "source": [
    "HANDLING IMBALANCED DATA"
   ]
  },
  {
   "cell_type": "code",
   "execution_count": 9,
   "id": "6b37ae0c",
   "metadata": {},
   "outputs": [],
   "source": [
    "#class count\n",
    "count_class_0,count_class_1=train_df.label.value_counts()"
   ]
  },
  {
   "cell_type": "code",
   "execution_count": 10,
   "id": "a42cf83d",
   "metadata": {},
   "outputs": [],
   "source": [
    "df_class_0=train_df[train_df['label']==0]\n",
    "df_class_1=train_df[train_df['label']==1]"
   ]
  },
  {
   "cell_type": "code",
   "execution_count": 11,
   "id": "214f8587",
   "metadata": {},
   "outputs": [
    {
     "data": {
      "text/plain": [
       "(19126, 5)"
      ]
     },
     "execution_count": 11,
     "metadata": {},
     "output_type": "execute_result"
    }
   ],
   "source": [
    "df_class_0.shape"
   ]
  },
  {
   "cell_type": "code",
   "execution_count": 12,
   "id": "1b4ba210",
   "metadata": {},
   "outputs": [
    {
     "data": {
      "text/plain": [
       "(2650, 5)"
      ]
     },
     "execution_count": 12,
     "metadata": {},
     "output_type": "execute_result"
    }
   ],
   "source": [
    "df_class_1.shape"
   ]
  },
  {
   "cell_type": "markdown",
   "id": "cc9e4295",
   "metadata": {},
   "source": [
    "1).Random Under Sampling:\n",
    "    Random under-sampling involves randomly removing samples from     the majority class until the number of instances in the majority class is reduced to a level that is comparable to the minority class. "
   ]
  },
  {
   "cell_type": "code",
   "execution_count": 13,
   "id": "73d0a9a8",
   "metadata": {},
   "outputs": [
    {
     "name": "stdout",
     "output_type": "stream",
     "text": [
      "Random under sampling:\n",
      "0    2650\n",
      "1    2650\n",
      "Name: label, dtype: int64\n"
     ]
    }
   ],
   "source": [
    "df_class_0_under = df_class_0.sample(count_class_1)\n",
    "df_test_under = pd.concat([df_class_0_under,df_class_1], axis=0)\n",
    "df_test_under.shape\n",
    "print('Random under sampling:')\n",
    "print(df_test_under.label.value_counts())"
   ]
  },
  {
   "cell_type": "code",
   "execution_count": 14,
   "id": "dd299921",
   "metadata": {},
   "outputs": [
    {
     "name": "stdout",
     "output_type": "stream",
     "text": [
      "Random under sampling:\n",
      "0    2650\n",
      "1    2650\n",
      "Name: label, dtype: int64\n"
     ]
    },
    {
     "data": {
      "image/png": "[encoded data removed]",
      "text/plain": [
       "<Figure size 576x432 with 1 Axes>"
      ]
     },
     "metadata": {
      "needs_background": "light"
     },
     "output_type": "display_data"
    }
   ],
   "source": [
    "import pandas as pd\n",
    "import seaborn as sns\n",
    "import matplotlib.pyplot as plt\n",
    "\n",
    "# Assuming df_class_0 and df_class_1 are already defined, and count_class_1 is set\n",
    "# df_class_0_under = df_class_0.sample(count_class_1)\n",
    "# df_test_under = pd.concat([df_class_0_under, df_class_1], axis=0)\n",
    "\n",
    "# Uncomment the above two lines if df_class_0_under and df_test_under are not already defined.\n",
    "\n",
    "# Print the value counts of the 'hd' column in df_test_under\n",
    "print('Random under sampling:')\n",
    "print(df_test_under['label'].value_counts())\n",
    "\n",
    "# Plot the distribution of classes\n",
    "plt.figure(figsize=(8, 6))\n",
    "sns.countplot(x='label', data=df_test_under)\n",
    "plt.title('Class Distribution After Random Under Sampling')\n",
    "plt.xlabel('Class')\n",
    "plt.ylabel('Count')\n",
    "plt.show()\n"
   ]
  },
  {
   "cell_type": "markdown",
   "id": "04a43915",
   "metadata": {},
   "source": [
    "2).Random Over Sampling:Random under-sampling involves randomly removing samples from the majority class until the number of instances in the majority class is reduced to a level that is comparable to the minority class. "
   ]
  },
  {
   "cell_type": "code",
   "execution_count": 15,
   "id": "de2fe038",
   "metadata": {},
   "outputs": [],
   "source": [
    "X=df_test_under.drop('label',axis='columns')\n",
    "y=df_test_under['label']\n",
    "\n",
    "from sklearn.model_selection import train_test_split\n",
    "X_train,X_test,y_train,y_test=train_test_split(X,y,test_size=0.2,random_state=15,stratify=y)"
   ]
  },
  {
   "cell_type": "code",
   "execution_count": 16,
   "id": "b215b844",
   "metadata": {},
   "outputs": [
    {
     "data": {
      "text/plain": [
       "1    2120\n",
       "0    2120\n",
       "Name: label, dtype: int64"
      ]
     },
     "execution_count": 16,
     "metadata": {},
     "output_type": "execute_result"
    }
   ],
   "source": [
    "y_train.value_counts()"
   ]
  },
  {
   "cell_type": "code",
   "execution_count": 17,
   "id": "58cb83d1",
   "metadata": {},
   "outputs": [
    {
     "data": {
      "text/plain": [
       "(19126, 2650)"
      ]
     },
     "execution_count": 17,
     "metadata": {},
     "output_type": "execute_result"
    }
   ],
   "source": [
    "count_class_0,count_class_1"
   ]
  },
  {
   "cell_type": "code",
   "execution_count": 18,
   "id": "928b8c06",
   "metadata": {},
   "outputs": [
    {
     "data": {
      "text/plain": [
       "(2000, 5)"
      ]
     },
     "execution_count": 18,
     "metadata": {},
     "output_type": "execute_result"
    }
   ],
   "source": [
    "df_class_1.sample(2000,replace=True).shape"
   ]
  },
  {
   "cell_type": "code",
   "execution_count": 19,
   "id": "468e56b2",
   "metadata": {},
   "outputs": [
    {
     "data": {
      "text/plain": [
       "(19126, 2650)"
      ]
     },
     "execution_count": 19,
     "metadata": {},
     "output_type": "execute_result"
    }
   ],
   "source": [
    "count_class_0,count_class_1"
   ]
  },
  {
   "cell_type": "code",
   "execution_count": 20,
   "id": "9df489d5",
   "metadata": {},
   "outputs": [
    {
     "data": {
      "text/plain": [
       "(38252, 5)"
      ]
     },
     "execution_count": 20,
     "metadata": {},
     "output_type": "execute_result"
    }
   ],
   "source": [
    "df_class_1_over=df_class_1.sample(count_class_0,replace=True)\n",
    "df_test_over = pd.concat([df_class_0,df_class_1_over],axis=0)\n",
    "df_test_over.shape"
   ]
  },
  {
   "cell_type": "code",
   "execution_count": 21,
   "id": "b6bd925f",
   "metadata": {},
   "outputs": [
    {
     "name": "stdout",
     "output_type": "stream",
     "text": [
      "Random over Sampling:\n",
      "0    19126\n",
      "1    19126\n",
      "Name: label, dtype: int64\n"
     ]
    }
   ],
   "source": [
    "print('Random over Sampling:')\n",
    "print(df_test_over.label.value_counts())"
   ]
  },
  {
   "cell_type": "code",
   "execution_count": 22,
   "id": "c35a0d3e",
   "metadata": {},
   "outputs": [
    {
     "name": "stdout",
     "output_type": "stream",
     "text": [
      "Random over sampling:\n",
      "0    19126\n",
      "1    19126\n",
      "Name: label, dtype: int64\n"
     ]
    },
    {
     "data": {
      "image/png": "[encoded data removed]",
      "text/plain": [
       "<Figure size 576x432 with 1 Axes>"
      ]
     },
     "metadata": {
      "needs_background": "light"
     },
     "output_type": "display_data"
    }
   ],
   "source": [
    "import pandas as pd\n",
    "import seaborn as sns\n",
    "import matplotlib.pyplot as plt\n",
    "\n",
    "# Print the value counts of the 'hd' column in df_test_under\n",
    "print('Random over sampling:')\n",
    "print(df_test_over['label'].value_counts())\n",
    "\n",
    "# Plot the distribution of classes\n",
    "plt.figure(figsize=(8, 6))\n",
    "sns.countplot(x='label', data=df_test_over)\n",
    "plt.title('Class Distribution After Random Over Sampling')\n",
    "plt.xlabel('Class')\n",
    "plt.ylabel('Count')\n",
    "plt.show()\n"
   ]
  },
  {
   "cell_type": "markdown",
   "id": "91053bdd",
   "metadata": {},
   "source": [
    "3).SMOTE:\n",
    "SMOTE (Synthetic Minority Over-sampling Technique) is a popular method used to handle imbalanced datasets by generating synthetic samples for the minority class. Unlike random over-sampling, which simply duplicates existing instances, SMOTE creates new, synthetic instances by interpolating between existing minority class instances. This can help in reducing overfitting and improving the model's ability to generalize."
   ]
  },
  {
   "cell_type": "code",
   "execution_count": 36,
   "id": "5a181901",
   "metadata": {},
   "outputs": [],
   "source": [
    "#smote\n",
    "columns_to_drop = [ 'text','label']\n",
    "X=train_df.drop(columns=columns_to_drop)\n",
    "y=train_df['label']"
   ]
  },
  {
   "cell_type": "code",
   "execution_count": 37,
   "id": "86a57c95",
   "metadata": {},
   "outputs": [
    {
     "data": {
      "text/plain": [
       "0    19122\n",
       "1     2650\n",
       "Name: label, dtype: int64"
      ]
     },
     "execution_count": 37,
     "metadata": {},
     "output_type": "execute_result"
    }
   ],
   "source": [
    "y.value_counts()"
   ]
  },
  {
   "cell_type": "code",
   "execution_count": 25,
   "id": "10e3c4a1",
   "metadata": {},
   "outputs": [
    {
     "name": "stdout",
     "output_type": "stream",
     "text": [
      "Requirement already satisfied: imbalanced-learn in c:\\users\\prits\\anaconda3\\lib\\site-packages (0.12.3)\n",
      "Requirement already satisfied: scikit-learn>=1.0.2 in c:\\users\\prits\\anaconda3\\lib\\site-packages (from imbalanced-learn) (1.0.2)\n",
      "Requirement already satisfied: joblib>=1.1.1 in c:\\users\\prits\\anaconda3\\lib\\site-packages (from imbalanced-learn) (1.4.2)\n",
      "Requirement already satisfied: numpy>=1.17.3 in c:\\users\\prits\\anaconda3\\lib\\site-packages (from imbalanced-learn) (1.21.5)\n",
      "Requirement already satisfied: scipy>=1.5.0 in c:\\users\\prits\\anaconda3\\lib\\site-packages (from imbalanced-learn) (1.7.3)\n",
      "Requirement already satisfied: threadpoolctl>=2.0.0 in c:\\users\\prits\\anaconda3\\lib\\site-packages (from imbalanced-learn) (2.2.0)\n",
      "Note: you may need to restart the kernel to use updated packages.\n"
     ]
    }
   ],
   "source": [
    "pip install -U imbalanced-learn"
   ]
  },
  {
   "cell_type": "code",
   "execution_count": 38,
   "id": "b75b3725",
   "metadata": {},
   "outputs": [
    {
     "name": "stdout",
     "output_type": "stream",
     "text": [
      "0    19122\n",
      "1    19122\n",
      "Name: label, dtype: int64\n"
     ]
    }
   ],
   "source": [
    "from imblearn.over_sampling import SMOTE\n",
    "# This means SMOTE will oversample the minority class until the number of instancesis equal to the number of instances in the majority class.\n",
    "smote = SMOTE(sampling_strategy='minority')\n",
    "# Apply SMOTE to the dataset (X, y).\n",
    "# X_sm and y_sm will be the resampled feature matrix and target vector, respectively.\n",
    "X_sm, y_sm = smote.fit_resample(X, y)\n",
    "\n",
    "# Checking the value counts of the resampled y\n",
    "y_sm_value_counts = y_sm.value_counts()\n",
    "print(y_sm_value_counts)\n"
   ]
  },
  {
   "cell_type": "code",
   "execution_count": 39,
   "id": "1f70e4b9",
   "metadata": {},
   "outputs": [
    {
     "data": {
      "image/png": "[encoded data removed]",
      "text/plain": [
       "<Figure size 576x432 with 1 Axes>"
      ]
     },
     "metadata": {
      "needs_background": "light"
     },
     "output_type": "display_data"
    }
   ],
   "source": [
    "import matplotlib.pyplot as plt\n",
    "\n",
    "# Assuming y_sm_value_counts is a pandas Series\n",
    "classes = y_sm_value_counts.index\n",
    "counts = y_sm_value_counts.values\n",
    "\n",
    "plt.figure(figsize=(8, 6))\n",
    "plt.bar(classes, counts, color='skyblue')\n",
    "plt.xlabel('Classes')\n",
    "plt.ylabel('Count')\n",
    "plt.title('Distribution of Classes after SMOTE Oversampling')\n",
    "plt.grid(True)\n",
    "plt.show()\n"
   ]
  },
  {
   "cell_type": "code",
   "execution_count": 28,
   "id": "d534aa24",
   "metadata": {},
   "outputs": [],
   "source": [
    "X=train_df['text'].values\n",
    "y=train_df['label']"
   ]
  },
  {
   "cell_type": "code",
   "execution_count": 40,
   "id": "49358165",
   "metadata": {},
   "outputs": [
    {
     "data": {
      "text/plain": [
       "0    19122\n",
       "1     2650\n",
       "Name: label, dtype: int64"
      ]
     },
     "execution_count": 40,
     "metadata": {},
     "output_type": "execute_result"
    }
   ],
   "source": [
    "y.value_counts()"
   ]
  },
  {
   "cell_type": "markdown",
   "id": "4668a743",
   "metadata": {},
   "source": [
    "# Converting Text data into Numerical"
   ]
  },
  {
   "cell_type": "code",
   "execution_count": 41,
   "id": "f3d3e567",
   "metadata": {},
   "outputs": [
    {
     "name": "stdout",
     "output_type": "stream",
     "text": [
      "  (0, 4785)\t0.1620296940882516\n",
      "  (0, 2905)\t0.38923917472124503\n",
      "  (0, 1332)\t0.38923917472124503\n",
      "  (0, 2343)\t0.3104641687725634\n",
      "  (0, 1773)\t0.12407978854649923\n",
      "  (0, 492)\t0.21140284704973647\n",
      "  (0, 2951)\t0.32600851987838764\n",
      "  (0, 2126)\t0.18885132253462167\n",
      "  (0, 1400)\t0.2977658298377288\n",
      "  (0, 2342)\t0.27002478385343953\n",
      "  (0, 4503)\t0.18297448250041176\n",
      "  (0, 2606)\t0.30605276712057433\n",
      "  (0, 2879)\t0.22706098159854585\n",
      "  (0, 2065)\t0.17896439019209592\n",
      "  (1, 4902)\t0.26136219694263846\n",
      "  (1, 2996)\t0.19093692873719764\n",
      "  (1, 4246)\t0.3532425513174643\n",
      "  (1, 2420)\t0.18222373574691075\n",
      "  (1, 3958)\t0.23702459173372586\n",
      "  (1, 3892)\t0.3286760103770535\n",
      "  (1, 3598)\t0.37005656618250765\n",
      "  (1, 89)\t0.1845526087907791\n",
      "  (1, 2596)\t0.38347050536924204\n",
      "  (1, 1779)\t0.35822709339486697\n",
      "  (1, 4078)\t0.18314192526077977\n",
      "  :\t:\n",
      "  (21769, 3128)\t0.23006431738505032\n",
      "  (21769, 2919)\t0.14194981143002833\n",
      "  (21769, 2353)\t0.07483758427314527\n",
      "  (21769, 462)\t0.2521107373031192\n",
      "  (21769, 2960)\t0.12316556882602916\n",
      "  (21769, 683)\t0.0930012024734965\n",
      "  (21769, 4420)\t0.14569375125460238\n",
      "  (21769, 2763)\t0.21199366869629266\n",
      "  (21769, 4881)\t0.08248257731131536\n",
      "  (21769, 200)\t0.18517472049092235\n",
      "  (21769, 2340)\t0.06250619864000412\n",
      "  (21769, 223)\t0.14125715093947327\n",
      "  (21769, 1353)\t0.1069533183963426\n",
      "  (21769, 2604)\t0.0987678428596147\n",
      "  (21769, 3953)\t0.1675858319023834\n",
      "  (21769, 3054)\t0.059184946879156514\n",
      "  (21769, 4078)\t0.09871013358878872\n",
      "  (21769, 4503)\t0.1602875584674718\n",
      "  (21770, 4811)\t0.7761924236019886\n",
      "  (21770, 2916)\t0.630496091615857\n",
      "  (21771, 4309)\t0.6697170126868022\n",
      "  (21771, 524)\t0.4916098432207747\n",
      "  (21771, 4451)\t0.2657119695127845\n",
      "  (21771, 3581)\t0.440015472866383\n",
      "  (21771, 2340)\t0.21350039311936056\n"
     ]
    }
   ],
   "source": [
    "import pandas as pd\n",
    "from sklearn.feature_extraction.text import TfidfVectorizer\n",
    "\n",
    "train_df.dropna(subset=['text'], inplace=True)\n",
    "\n",
    "def tfidf_embedding(text):\n",
    "    vectorizer = TfidfVectorizer(max_features=5000)\n",
    "    embeddings = vectorizer.fit_transform(text)\n",
    "    return embeddings\n",
    "\n",
    "#text = train_df['text'].values\n",
    "X = tfidf_embedding(text)\n",
    "print(X)\n"
   ]
  },
  {
   "cell_type": "code",
   "execution_count": 42,
   "id": "936271c7",
   "metadata": {},
   "outputs": [
    {
     "name": "stdout",
     "output_type": "stream",
     "text": [
      "0    19122\n",
      "1    19122\n",
      "Name: label, dtype: int64\n"
     ]
    }
   ],
   "source": [
    "from imblearn.over_sampling import SMOTE\n",
    "\n",
    "smote = SMOTE(sampling_strategy='minority')\n",
    "X_sm, y_sm = smote.fit_resample(X, y)\n",
    "\n",
    "# Checking the value counts of the resampled y\n",
    "y_sm_value_counts = y_sm.value_counts()\n",
    "print(y_sm_value_counts)\n"
   ]
  },
  {
   "cell_type": "code",
   "execution_count": 43,
   "id": "e297e8c7",
   "metadata": {},
   "outputs": [],
   "source": [
    "#splitting the balanced data into training and testing\n",
    "from sklearn.model_selection import train_test_split\n",
    "from sklearn.metrics import accuracy_score\n",
    "x_train,x_test,y_train,y_test=train_test_split(X_sm,y_sm,train_size=0.8,random_state=42,stratify=y_sm)"
   ]
  },
  {
   "cell_type": "markdown",
   "id": "9c965f8d",
   "metadata": {},
   "source": [
    "# Logistic Regression "
   ]
  },
  {
   "cell_type": "markdown",
   "id": "33027b01",
   "metadata": {},
   "source": [
    "Logistic regression is a statistical method used for binary classification that predicts the probability of an outcome belonging to one of two classes. "
   ]
  },
  {
   "cell_type": "code",
   "execution_count": 44,
   "id": "c7894639",
   "metadata": {},
   "outputs": [
    {
     "data": {
      "text/plain": [
       "LogisticRegression()"
      ]
     },
     "execution_count": 44,
     "metadata": {},
     "output_type": "execute_result"
    }
   ],
   "source": [
    "from sklearn.linear_model import LogisticRegression\n",
    "model=LogisticRegression()\n",
    "model.fit(x_train,y_train)"
   ]
  },
  {
   "cell_type": "code",
   "execution_count": 45,
   "id": "43e6a7e9",
   "metadata": {},
   "outputs": [
    {
     "name": "stdout",
     "output_type": "stream",
     "text": [
      "Accuracy: 0.8272976859720225\n"
     ]
    }
   ],
   "source": [
    "print('Accuracy:',model.score(x_test,y_test))"
   ]
  },
  {
   "cell_type": "code",
   "execution_count": 46,
   "id": "3d55bcea",
   "metadata": {},
   "outputs": [
    {
     "name": "stdout",
     "output_type": "stream",
     "text": [
      "              precision    recall  f1-score   support\n",
      "\n",
      "           0       0.85      0.80      0.82      3825\n",
      "           1       0.81      0.86      0.83      3824\n",
      "\n",
      "    accuracy                           0.83      7649\n",
      "   macro avg       0.83      0.83      0.83      7649\n",
      "weighted avg       0.83      0.83      0.83      7649\n",
      "\n"
     ]
    }
   ],
   "source": [
    "from sklearn.metrics import confusion_matrix, classification_report\n",
    "y_pred = model.predict(x_test)\n",
    "print(classification_report(y_test,y_pred))"
   ]
  },
  {
   "cell_type": "code",
   "execution_count": 47,
   "id": "2bd9e23d",
   "metadata": {},
   "outputs": [
    {
     "name": "stdout",
     "output_type": "stream",
     "text": [
      "[[3284  540]\n",
      " [ 781 3044]]\n"
     ]
    }
   ],
   "source": [
    "from sklearn.metrics import confusion_matrix, classification_report\n",
    "\n",
    "cm = confusion_matrix(y_test, y_pred, labels=[1, 0])\n",
    "print(cm)\n"
   ]
  },
  {
   "cell_type": "markdown",
   "id": "112af607",
   "metadata": {},
   "source": [
    "# Naive Bayes"
   ]
  },
  {
   "cell_type": "markdown",
   "id": "52bee55b",
   "metadata": {},
   "source": [
    "The Naïve Bayes classifier is a supervised machine learning algorithm that is used for classification tasks such as text classification. It uses principles of probability to perform classification tasks."
   ]
  },
  {
   "cell_type": "markdown",
   "id": "0e09e15c",
   "metadata": {},
   "source": [
    "ADVANTAGE:\n",
    "It is one of the simplest supervised learning algorithms. Naive Bayes classifier is the fast, accurate and reliable algorithm. Naive Bayes classifiers have high accuracy and speed on large datasets."
   ]
  },
  {
   "cell_type": "code",
   "execution_count": 48,
   "id": "6cc4cbd4",
   "metadata": {},
   "outputs": [],
   "source": [
    "from sklearn.naive_bayes import MultinomialNB\n",
    "\n",
    "# Training the Naive Bayes model\n",
    "classifier_md = MultinomialNB()\n",
    "classifier_md.fit(X_sm, y_sm)\n",
    "\n",
    "# Predictions\n",
    "pred = classifier_md.predict(x_test)"
   ]
  },
  {
   "cell_type": "code",
   "execution_count": 49,
   "id": "99638e12",
   "metadata": {},
   "outputs": [
    {
     "name": "stdout",
     "output_type": "stream",
     "text": [
      "0.8428552751993724\n"
     ]
    }
   ],
   "source": [
    "from sklearn import metrics\n",
    "score = metrics.accuracy_score(y_test,pred)\n",
    "print(score)"
   ]
  },
  {
   "cell_type": "code",
   "execution_count": 50,
   "id": "83052afe",
   "metadata": {},
   "outputs": [
    {
     "name": "stdout",
     "output_type": "stream",
     "text": [
      "[[3361  463]\n",
      " [ 739 3086]]\n"
     ]
    }
   ],
   "source": [
    "cm=metrics.confusion_matrix(y_test,pred ,labels=[1,0])\n",
    "print(cm)"
   ]
  },
  {
   "cell_type": "code",
   "execution_count": 51,
   "id": "75266844",
   "metadata": {},
   "outputs": [
    {
     "name": "stdout",
     "output_type": "stream",
     "text": [
      "              precision    recall  f1-score   support\n",
      "\n",
      "           0       0.87      0.81      0.84      3825\n",
      "           1       0.82      0.88      0.85      3824\n",
      "\n",
      "    accuracy                           0.84      7649\n",
      "   macro avg       0.84      0.84      0.84      7649\n",
      "weighted avg       0.84      0.84      0.84      7649\n",
      "\n"
     ]
    }
   ],
   "source": [
    "from sklearn.metrics import confusion_matrix, classification_report\n",
    "y_pred = model.predict(x_test)\n",
    "print(classification_report(y_test,pred))"
   ]
  },
  {
   "cell_type": "markdown",
   "id": "0fa42ac8",
   "metadata": {},
   "source": [
    "# SVM(SUPPORT VECTOR MACHINE)"
   ]
  },
  {
   "cell_type": "markdown",
   "id": "ed30e7fd",
   "metadata": {},
   "source": [
    "An SVM model is a representation of the examples as points in space, mapped so that the examples of the separate categories are divided by a clear gap that is as wide as possible."
   ]
  },
  {
   "cell_type": "code",
   "execution_count": 52,
   "id": "7541e2cd",
   "metadata": {},
   "outputs": [
    {
     "data": {
      "text/plain": [
       "SVC(probability=True, random_state=42)"
      ]
     },
     "execution_count": 52,
     "metadata": {},
     "output_type": "execute_result"
    }
   ],
   "source": [
    "from sklearn.svm import SVC\n",
    "svc=SVC(random_state=42,probability=True)\n",
    "svc.fit(x_train,y_train)\n"
   ]
  },
  {
   "cell_type": "code",
   "execution_count": 53,
   "id": "03ce59e3",
   "metadata": {},
   "outputs": [
    {
     "data": {
      "text/plain": [
       "0.9707151261602824"
      ]
     },
     "execution_count": 53,
     "metadata": {},
     "output_type": "execute_result"
    }
   ],
   "source": [
    "svc.score(x_test,y_test)"
   ]
  },
  {
   "cell_type": "code",
   "execution_count": 54,
   "id": "f726b153",
   "metadata": {},
   "outputs": [
    {
     "name": "stdout",
     "output_type": "stream",
     "text": [
      "[[3746   79]\n",
      " [ 145 3679]]\n"
     ]
    }
   ],
   "source": [
    "y_pred=svc.predict(x_test)\n",
    "print(confusion_matrix(y_test,y_pred))"
   ]
  },
  {
   "cell_type": "markdown",
   "id": "c0b0c9c5",
   "metadata": {},
   "source": [
    "# Random Forest Classifier"
   ]
  },
  {
   "cell_type": "code",
   "execution_count": 57,
   "id": "bca7ec65",
   "metadata": {},
   "outputs": [],
   "source": [
    "from sklearn.ensemble import RandomForestClassifier\n"
   ]
  },
  {
   "cell_type": "code",
   "execution_count": 59,
   "id": "8425b93a",
   "metadata": {},
   "outputs": [
    {
     "data": {
      "text/plain": [
       "RandomForestClassifier(random_state=42)"
      ]
     },
     "execution_count": 59,
     "metadata": {},
     "output_type": "execute_result"
    }
   ],
   "source": [
    "rf=RandomForestClassifier(random_state=42)\n",
    "rf.fit(x_train,y_train)"
   ]
  },
  {
   "cell_type": "code",
   "execution_count": 61,
   "id": "dba7c587",
   "metadata": {},
   "outputs": [
    {
     "data": {
      "text/plain": [
       "0.9594718263825337"
      ]
     },
     "execution_count": 61,
     "metadata": {},
     "output_type": "execute_result"
    }
   ],
   "source": [
    "rf.score(x_test,y_test)"
   ]
  },
  {
   "cell_type": "code",
   "execution_count": 60,
   "id": "d0436df8",
   "metadata": {},
   "outputs": [
    {
     "name": "stdout",
     "output_type": "stream",
     "text": [
      "[[3698  127]\n",
      " [ 183 3641]]\n"
     ]
    }
   ],
   "source": [
    "y_pred=rf.predict(x_test)\n",
    "print(confusion_matrix(y_test,y_pred))"
   ]
  },
  {
   "cell_type": "code",
   "execution_count": 62,
   "id": "2ad418d1",
   "metadata": {},
   "outputs": [
    {
     "name": "stdout",
     "output_type": "stream",
     "text": [
      "Classification Report:\n",
      "              precision    recall  f1-score   support\n",
      "\n",
      "           0       0.95      0.97      0.96      3825\n",
      "           1       0.97      0.95      0.96      3824\n",
      "\n",
      "    accuracy                           0.96      7649\n",
      "   macro avg       0.96      0.96      0.96      7649\n",
      "weighted avg       0.96      0.96      0.96      7649\n",
      "\n"
     ]
    }
   ],
   "source": [
    "class_report = classification_report(y_test, y_pred)\n",
    "print(\"Classification Report:\")\n",
    "print(class_report)"
   ]
  }
 ],
 "metadata": {
  "kernelspec": {
   "display_name": "Python 3 (ipykernel)",
   "language": "python",
   "name": "python3"
  },
  "language_info": {
   "codemirror_mode": {
    "name": "ipython",
    "version": 3
   },
   "file_extension": ".py",
   "mimetype": "text/x-python",
   "name": "python",
   "nbconvert_exporter": "python",
   "pygments_lexer": "ipython3",
   "version": "3.9.12"
  }
 },
 "nbformat": 4,
 "nbformat_minor": 5
}
