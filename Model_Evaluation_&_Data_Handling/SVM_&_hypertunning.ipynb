{
 "cells": [
  {
   "cell_type": "code",
   "execution_count": 1,
   "id": "d694165e",
   "metadata": {},
   "outputs": [],
   "source": [
    "# Basic Python package\n",
    "import pandas as pd\n",
    "import numpy as np\n",
    "import seaborn as sns\n",
    "import matplotlib.pyplot as plt\n",
    "import string \n",
    "import re"
   ]
  },
  {
   "cell_type": "code",
   "execution_count": 2,
   "id": "d886def3",
   "metadata": {},
   "outputs": [],
   "source": [
    "# File paths\n",
    "train_file = r\"C:\\Users\\prits\\Downloads\\Data\\cleaned_ghc_train.csv\"\n",
    "test_file = r'C:\\Users\\prits\\Downloads\\Data\\cleaned_ghc_test.csv'\n",
    "\n",
    "# Load CSV files into pandas DataFrames\n",
    "train_df = pd.read_csv(train_file)"
   ]
  },
  {
   "cell_type": "code",
   "execution_count": 3,
   "id": "4affaa88",
   "metadata": {},
   "outputs": [
    {
     "name": "stdout",
     "output_type": "stream",
     "text": [
      "Shape of X: (21772,)\n",
      "Shape of X: (21772,)\n"
     ]
    }
   ],
   "source": [
    "import numpy as np\n",
    "\n",
    "\n",
    "train_df_cleaned = train_df.dropna()\n",
    "X = train_df_cleaned ['text']\n",
    "y = train_df_cleaned ['label']\n",
    "\n",
    "# Using shape attribute\n",
    "print(\"Shape of X:\", X.shape)\n",
    "print(\"Shape of X:\", y.shape)"
   ]
  },
  {
   "cell_type": "code",
   "execution_count": 4,
   "id": "8108866b",
   "metadata": {},
   "outputs": [],
   "source": [
    "from sklearn.model_selection import train_test_split\n",
    "from sklearn.feature_extraction.text import TfidfVectorizer\n",
    "# Training and test sets\n",
    "X_train, X_test, y_train, y_test = train_test_split(X, y, test_size=0.2, random_state=42, stratify=y)"
   ]
  },
  {
   "cell_type": "code",
   "execution_count": 5,
   "id": "0170298e",
   "metadata": {},
   "outputs": [],
   "source": [
    "from sklearn.model_selection import train_test_split\n",
    "from sklearn.feature_extraction.text import TfidfVectorizer\n",
    "# Vectorizing using TF-IDF\n",
    "tfidf = TfidfVectorizer(max_features=10000, ngram_range=(1, 2))\n",
    "X_train_tfidf = tfidf.fit_transform(X_train)\n",
    "X_test_tfidf = tfidf.transform(X_test)"
   ]
  },
  {
   "cell_type": "code",
   "execution_count": 6,
   "id": "9e5087b6",
   "metadata": {},
   "outputs": [
    {
     "name": "stdout",
     "output_type": "stream",
     "text": [
      "0    15297\n",
      "1    15297\n",
      "Name: label, dtype: int64\n"
     ]
    }
   ],
   "source": [
    "from imblearn.over_sampling import SMOTE\n",
    "\n",
    "# Applying SMOTE to handle imbalanced data\n",
    "smote = SMOTE(random_state=42)\n",
    "X_resampled, y_resampled = smote.fit_resample(X_train_tfidf, y_train)\n",
    "print(y_resampled.value_counts())"
   ]
  },
  {
   "cell_type": "code",
   "execution_count": 7,
   "id": "07001eb8",
   "metadata": {},
   "outputs": [
    {
     "data": {
      "text/plain": [
       "LogisticRegression()"
      ]
     },
     "execution_count": 7,
     "metadata": {},
     "output_type": "execute_result"
    }
   ],
   "source": [
    "from sklearn.linear_model import LogisticRegression\n",
    "model=LogisticRegression()\n",
    "model.fit(X_resampled, y_resampled)\n"
   ]
  },
  {
   "cell_type": "code",
   "execution_count": 8,
   "id": "07907220",
   "metadata": {},
   "outputs": [
    {
     "name": "stdout",
     "output_type": "stream",
     "text": [
      "Accuracy: 0.7745120551090701\n"
     ]
    }
   ],
   "source": [
    "print('Accuracy:',model.score(X_test_tfidf ,y_test))"
   ]
  },
  {
   "cell_type": "code",
   "execution_count": 9,
   "id": "feb41c3e",
   "metadata": {},
   "outputs": [
    {
     "name": "stdout",
     "output_type": "stream",
     "text": [
      "[[3104  721]\n",
      " [ 261  269]]\n"
     ]
    }
   ],
   "source": [
    "from sklearn.metrics import confusion_matrix, classification_report\n",
    "y_pred=model.predict(X_test_tfidf )\n",
    "print(confusion_matrix(y_test,y_pred))"
   ]
  },
  {
   "cell_type": "code",
   "execution_count": 10,
   "id": "c28cb0e6",
   "metadata": {},
   "outputs": [
    {
     "name": "stdout",
     "output_type": "stream",
     "text": [
      "Classification Report:\n",
      "              precision    recall  f1-score   support\n",
      "\n",
      "           0       0.92      0.81      0.86      3825\n",
      "           1       0.27      0.51      0.35       530\n",
      "\n",
      "    accuracy                           0.77      4355\n",
      "   macro avg       0.60      0.66      0.61      4355\n",
      "weighted avg       0.84      0.77      0.80      4355\n",
      "\n"
     ]
    }
   ],
   "source": [
    "class_report = classification_report(y_test, y_pred)\n",
    "print(\"Classification Report:\")\n",
    "print(class_report)"
   ]
  },
  {
   "cell_type": "markdown",
   "id": "e03c94f3",
   "metadata": {},
   "source": [
    "# SVM"
   ]
  },
  {
   "cell_type": "code",
   "execution_count": 11,
   "id": "f27478c9",
   "metadata": {},
   "outputs": [
    {
     "data": {
      "text/plain": [
       "SVC(probability=True, random_state=42)"
      ]
     },
     "execution_count": 11,
     "metadata": {},
     "output_type": "execute_result"
    }
   ],
   "source": [
    "# Import the SVC (Support Vector Classifier) class from sklearn.svm\n",
    "from sklearn.svm import SVC\n",
    "svc=SVC(random_state=42,probability=True)\n",
    "svc.fit(X_resampled, y_resampled)"
   ]
  },
  {
   "cell_type": "code",
   "execution_count": 12,
   "id": "53414f30",
   "metadata": {},
   "outputs": [
    {
     "data": {
      "text/plain": [
       "0.878300803673938"
      ]
     },
     "execution_count": 12,
     "metadata": {},
     "output_type": "execute_result"
    }
   ],
   "source": [
    "svc.score(X_test_tfidf,y_test)"
   ]
  },
  {
   "cell_type": "code",
   "execution_count": 13,
   "id": "ed078484",
   "metadata": {},
   "outputs": [
    {
     "name": "stdout",
     "output_type": "stream",
     "text": [
      "[[3755   70]\n",
      " [ 460   70]]\n"
     ]
    }
   ],
   "source": [
    "from sklearn.metrics import confusion_matrix, classification_report\n",
    "y_pred=svc.predict(X_test_tfidf)\n",
    "print(confusion_matrix(y_test,y_pred))"
   ]
  },
  {
   "cell_type": "code",
   "execution_count": 14,
   "id": "aa0eb21b",
   "metadata": {},
   "outputs": [
    {
     "name": "stdout",
     "output_type": "stream",
     "text": [
      "SVC(probability=True, random_state=42)\n"
     ]
    }
   ],
   "source": [
    "print(svc)\n"
   ]
  },
  {
   "cell_type": "markdown",
   "id": "a06dad90",
   "metadata": {},
   "source": [
    "# SVM hypertunning"
   ]
  },
  {
   "cell_type": "code",
   "execution_count": 19,
   "id": "2b7eeea5",
   "metadata": {},
   "outputs": [
    {
     "name": "stdout",
     "output_type": "stream",
     "text": [
      "Fitting 5 folds for each of 32 candidates, totalling 160 fits\n",
      "[CV] END .........................C=0.1, gamma=1, kernel=rbf; total time= 1.5min\n",
      "[CV] END .........................C=0.1, gamma=1, kernel=rbf; total time= 2.2min\n",
      "[CV] END .........................C=0.1, gamma=1, kernel=rbf; total time= 1.9min\n",
      "[CV] END .........................C=0.1, gamma=1, kernel=rbf; total time= 2.2min\n",
      "[CV] END .........................C=0.1, gamma=1, kernel=rbf; total time= 1.8min\n",
      "[CV] END ......................C=0.1, gamma=1, kernel=linear; total time= 1.7min\n",
      "[CV] END ......................C=0.1, gamma=1, kernel=linear; total time= 1.8min\n",
      "[CV] END ......................C=0.1, gamma=1, kernel=linear; total time= 1.8min\n",
      "[CV] END ......................C=0.1, gamma=1, kernel=linear; total time= 1.8min\n",
      "[CV] END ......................C=0.1, gamma=1, kernel=linear; total time= 1.8min\n",
      "[CV] END .......................C=0.1, gamma=0.1, kernel=rbf; total time= 1.3min\n",
      "[CV] END .......................C=0.1, gamma=0.1, kernel=rbf; total time= 1.6min\n",
      "[CV] END .......................C=0.1, gamma=0.1, kernel=rbf; total time= 1.8min\n",
      "[CV] END .......................C=0.1, gamma=0.1, kernel=rbf; total time= 1.6min\n",
      "[CV] END .......................C=0.1, gamma=0.1, kernel=rbf; total time= 1.6min\n",
      "[CV] END ....................C=0.1, gamma=0.1, kernel=linear; total time= 1.7min\n",
      "[CV] END ....................C=0.1, gamma=0.1, kernel=linear; total time= 1.8min\n",
      "[CV] END ....................C=0.1, gamma=0.1, kernel=linear; total time= 1.8min\n",
      "[CV] END ....................C=0.1, gamma=0.1, kernel=linear; total time= 1.8min\n",
      "[CV] END ....................C=0.1, gamma=0.1, kernel=linear; total time= 1.8min\n",
      "[CV] END ......................C=0.1, gamma=0.01, kernel=rbf; total time= 2.3min\n",
      "[CV] END ......................C=0.1, gamma=0.01, kernel=rbf; total time= 2.3min\n",
      "[CV] END ......................C=0.1, gamma=0.01, kernel=rbf; total time= 2.3min\n",
      "[CV] END ......................C=0.1, gamma=0.01, kernel=rbf; total time= 2.5min\n",
      "[CV] END ......................C=0.1, gamma=0.01, kernel=rbf; total time= 2.3min\n",
      "[CV] END ...................C=0.1, gamma=0.01, kernel=linear; total time= 1.7min\n",
      "[CV] END ...................C=0.1, gamma=0.01, kernel=linear; total time= 1.9min\n",
      "[CV] END ...................C=0.1, gamma=0.01, kernel=linear; total time= 1.9min\n",
      "[CV] END ...................C=0.1, gamma=0.01, kernel=linear; total time= 1.8min\n",
      "[CV] END ...................C=0.1, gamma=0.01, kernel=linear; total time= 1.9min\n",
      "[CV] END .....................C=0.1, gamma=0.001, kernel=rbf; total time= 2.3min\n",
      "[CV] END .....................C=0.1, gamma=0.001, kernel=rbf; total time= 2.4min\n",
      "[CV] END .....................C=0.1, gamma=0.001, kernel=rbf; total time= 2.5min\n",
      "[CV] END .....................C=0.1, gamma=0.001, kernel=rbf; total time= 2.5min\n",
      "[CV] END .....................C=0.1, gamma=0.001, kernel=rbf; total time= 2.4min\n",
      "[CV] END ..................C=0.1, gamma=0.001, kernel=linear; total time= 1.7min\n",
      "[CV] END ..................C=0.1, gamma=0.001, kernel=linear; total time= 1.8min\n",
      "[CV] END ..................C=0.1, gamma=0.001, kernel=linear; total time= 1.8min\n",
      "[CV] END ..................C=0.1, gamma=0.001, kernel=linear; total time= 1.8min\n",
      "[CV] END ..................C=0.1, gamma=0.001, kernel=linear; total time= 1.9min\n",
      "[CV] END ...........................C=1, gamma=1, kernel=rbf; total time= 2.0min\n",
      "[CV] END ...........................C=1, gamma=1, kernel=rbf; total time= 2.8min\n",
      "[CV] END ...........................C=1, gamma=1, kernel=rbf; total time= 2.8min\n",
      "[CV] END ...........................C=1, gamma=1, kernel=rbf; total time= 3.0min\n",
      "[CV] END ...........................C=1, gamma=1, kernel=rbf; total time= 3.0min\n",
      "[CV] END ........................C=1, gamma=1, kernel=linear; total time= 2.1min\n",
      "[CV] END ........................C=1, gamma=1, kernel=linear; total time= 2.4min\n",
      "[CV] END ........................C=1, gamma=1, kernel=linear; total time= 2.3min\n",
      "[CV] END ........................C=1, gamma=1, kernel=linear; total time= 2.3min\n",
      "[CV] END ........................C=1, gamma=1, kernel=linear; total time= 2.3min\n",
      "[CV] END .........................C=1, gamma=0.1, kernel=rbf; total time=  58.4s\n",
      "[CV] END .........................C=1, gamma=0.1, kernel=rbf; total time= 1.2min\n",
      "[CV] END .........................C=1, gamma=0.1, kernel=rbf; total time= 1.3min\n",
      "[CV] END .........................C=1, gamma=0.1, kernel=rbf; total time= 1.3min\n",
      "[CV] END .........................C=1, gamma=0.1, kernel=rbf; total time= 1.4min\n",
      "[CV] END ......................C=1, gamma=0.1, kernel=linear; total time= 2.1min\n",
      "[CV] END ......................C=1, gamma=0.1, kernel=linear; total time= 2.6min\n",
      "[CV] END ......................C=1, gamma=0.1, kernel=linear; total time= 2.5min\n",
      "[CV] END ......................C=1, gamma=0.1, kernel=linear; total time= 2.4min\n",
      "[CV] END ......................C=1, gamma=0.1, kernel=linear; total time= 2.4min\n",
      "[CV] END ........................C=1, gamma=0.01, kernel=rbf; total time= 2.2min\n",
      "[CV] END ........................C=1, gamma=0.01, kernel=rbf; total time= 2.3min\n",
      "[CV] END ........................C=1, gamma=0.01, kernel=rbf; total time= 2.4min\n",
      "[CV] END ........................C=1, gamma=0.01, kernel=rbf; total time= 2.6min\n",
      "[CV] END ........................C=1, gamma=0.01, kernel=rbf; total time= 2.5min\n",
      "[CV] END .....................C=1, gamma=0.01, kernel=linear; total time= 2.3min\n",
      "[CV] END .....................C=1, gamma=0.01, kernel=linear; total time= 2.6min\n",
      "[CV] END .....................C=1, gamma=0.01, kernel=linear; total time= 5.5min\n",
      "[CV] END .....................C=1, gamma=0.01, kernel=linear; total time= 2.4min\n",
      "[CV] END .....................C=1, gamma=0.01, kernel=linear; total time= 2.8min\n",
      "[CV] END .......................C=1, gamma=0.001, kernel=rbf; total time= 2.6min\n",
      "[CV] END .......................C=1, gamma=0.001, kernel=rbf; total time= 2.5min\n",
      "[CV] END .......................C=1, gamma=0.001, kernel=rbf; total time= 2.5min\n",
      "[CV] END .......................C=1, gamma=0.001, kernel=rbf; total time= 2.5min\n",
      "[CV] END .......................C=1, gamma=0.001, kernel=rbf; total time= 2.4min\n",
      "[CV] END ....................C=1, gamma=0.001, kernel=linear; total time= 2.2min\n",
      "[CV] END ....................C=1, gamma=0.001, kernel=linear; total time= 2.6min\n",
      "[CV] END ....................C=1, gamma=0.001, kernel=linear; total time= 2.5min\n",
      "[CV] END ....................C=1, gamma=0.001, kernel=linear; total time= 2.6min\n",
      "[CV] END ....................C=1, gamma=0.001, kernel=linear; total time= 2.4min\n",
      "[CV] END ..........................C=10, gamma=1, kernel=rbf; total time= 3.3min\n",
      "[CV] END ..........................C=10, gamma=1, kernel=rbf; total time= 9.9min\n",
      "[CV] END ..........................C=10, gamma=1, kernel=rbf; total time= 8.4min\n",
      "[CV] END ..........................C=10, gamma=1, kernel=rbf; total time= 8.3min\n",
      "[CV] END ..........................C=10, gamma=1, kernel=rbf; total time= 8.3min\n",
      "[CV] END .......................C=10, gamma=1, kernel=linear; total time=10.4min\n",
      "[CV] END .......................C=10, gamma=1, kernel=linear; total time=10.8min\n",
      "[CV] END .......................C=10, gamma=1, kernel=linear; total time=13.2min\n",
      "[CV] END .......................C=10, gamma=1, kernel=linear; total time=11.6min\n",
      "[CV] END .......................C=10, gamma=1, kernel=linear; total time=11.8min\n",
      "[CV] END ........................C=10, gamma=0.1, kernel=rbf; total time= 2.8min\n",
      "[CV] END ........................C=10, gamma=0.1, kernel=rbf; total time= 4.8min\n",
      "[CV] END ........................C=10, gamma=0.1, kernel=rbf; total time= 4.9min\n",
      "[CV] END ........................C=10, gamma=0.1, kernel=rbf; total time= 4.8min\n",
      "[CV] END ........................C=10, gamma=0.1, kernel=rbf; total time= 5.9min\n",
      "[CV] END .....................C=10, gamma=0.1, kernel=linear; total time=12.8min\n",
      "[CV] END .....................C=10, gamma=0.1, kernel=linear; total time=13.2min\n",
      "[CV] END .....................C=10, gamma=0.1, kernel=linear; total time=11.7min\n",
      "[CV] END .....................C=10, gamma=0.1, kernel=linear; total time=11.3min\n",
      "[CV] END .....................C=10, gamma=0.1, kernel=linear; total time=11.7min\n",
      "[CV] END .......................C=10, gamma=0.01, kernel=rbf; total time= 3.1min\n"
     ]
    },
    {
     "name": "stdout",
     "output_type": "stream",
     "text": [
      "[CV] END .......................C=10, gamma=0.01, kernel=rbf; total time= 3.5min\n",
      "[CV] END .......................C=10, gamma=0.01, kernel=rbf; total time= 3.4min\n",
      "[CV] END .......................C=10, gamma=0.01, kernel=rbf; total time= 3.5min\n",
      "[CV] END .......................C=10, gamma=0.01, kernel=rbf; total time= 3.4min\n",
      "[CV] END ....................C=10, gamma=0.01, kernel=linear; total time=10.2min\n",
      "[CV] END ....................C=10, gamma=0.01, kernel=linear; total time=10.9min\n",
      "[CV] END ....................C=10, gamma=0.01, kernel=linear; total time= 6.4min\n",
      "[CV] END ....................C=10, gamma=0.01, kernel=linear; total time= 5.1min\n",
      "[CV] END ....................C=10, gamma=0.01, kernel=linear; total time= 5.4min\n",
      "[CV] END ......................C=10, gamma=0.001, kernel=rbf; total time= 2.6min\n",
      "[CV] END ......................C=10, gamma=0.001, kernel=rbf; total time= 2.5min\n",
      "[CV] END ......................C=10, gamma=0.001, kernel=rbf; total time= 2.6min\n",
      "[CV] END ......................C=10, gamma=0.001, kernel=rbf; total time= 2.4min\n",
      "[CV] END ......................C=10, gamma=0.001, kernel=rbf; total time= 2.4min\n",
      "[CV] END ...................C=10, gamma=0.001, kernel=linear; total time= 4.7min\n",
      "[CV] END ...................C=10, gamma=0.001, kernel=linear; total time= 5.0min\n",
      "[CV] END ...................C=10, gamma=0.001, kernel=linear; total time= 5.1min\n",
      "[CV] END ...................C=10, gamma=0.001, kernel=linear; total time= 5.2min\n",
      "[CV] END ...................C=10, gamma=0.001, kernel=linear; total time= 5.2min\n",
      "[CV] END .........................C=100, gamma=1, kernel=rbf; total time= 2.5min\n",
      "[CV] END .........................C=100, gamma=1, kernel=rbf; total time= 3.5min\n",
      "[CV] END .........................C=100, gamma=1, kernel=rbf; total time= 3.6min\n",
      "[CV] END .........................C=100, gamma=1, kernel=rbf; total time= 3.6min\n",
      "[CV] END .........................C=100, gamma=1, kernel=rbf; total time= 3.6min\n",
      "[CV] END ......................C=100, gamma=1, kernel=linear; total time= 6.3min\n",
      "[CV] END ......................C=100, gamma=1, kernel=linear; total time= 7.5min\n",
      "[CV] END ......................C=100, gamma=1, kernel=linear; total time= 7.4min\n",
      "[CV] END ......................C=100, gamma=1, kernel=linear; total time= 8.0min\n",
      "[CV] END ......................C=100, gamma=1, kernel=linear; total time= 6.8min\n",
      "[CV] END .......................C=100, gamma=0.1, kernel=rbf; total time= 1.6min\n",
      "[CV] END .......................C=100, gamma=0.1, kernel=rbf; total time= 2.3min\n",
      "[CV] END .......................C=100, gamma=0.1, kernel=rbf; total time= 2.3min\n",
      "[CV] END .......................C=100, gamma=0.1, kernel=rbf; total time= 2.3min\n",
      "[CV] END .......................C=100, gamma=0.1, kernel=rbf; total time= 2.2min\n",
      "[CV] END ....................C=100, gamma=0.1, kernel=linear; total time= 6.3min\n",
      "[CV] END ....................C=100, gamma=0.1, kernel=linear; total time= 7.6min\n",
      "[CV] END ....................C=100, gamma=0.1, kernel=linear; total time= 7.5min\n",
      "[CV] END ....................C=100, gamma=0.1, kernel=linear; total time= 7.9min\n",
      "[CV] END ....................C=100, gamma=0.1, kernel=linear; total time= 6.7min\n",
      "[CV] END ......................C=100, gamma=0.01, kernel=rbf; total time= 1.8min\n",
      "[CV] END ......................C=100, gamma=0.01, kernel=rbf; total time= 2.1min\n",
      "[CV] END ......................C=100, gamma=0.01, kernel=rbf; total time= 2.1min\n",
      "[CV] END ......................C=100, gamma=0.01, kernel=rbf; total time= 2.1min\n",
      "[CV] END ......................C=100, gamma=0.01, kernel=rbf; total time= 2.1min\n",
      "[CV] END ...................C=100, gamma=0.01, kernel=linear; total time= 6.3min\n",
      "[CV] END ...................C=100, gamma=0.01, kernel=linear; total time= 7.6min\n",
      "[CV] END ...................C=100, gamma=0.01, kernel=linear; total time= 7.4min\n",
      "[CV] END ...................C=100, gamma=0.01, kernel=linear; total time= 7.9min\n",
      "[CV] END ...................C=100, gamma=0.01, kernel=linear; total time= 6.8min\n",
      "[CV] END .....................C=100, gamma=0.001, kernel=rbf; total time= 1.7min\n",
      "[CV] END .....................C=100, gamma=0.001, kernel=rbf; total time= 1.9min\n",
      "[CV] END .....................C=100, gamma=0.001, kernel=rbf; total time= 1.9min\n",
      "[CV] END .....................C=100, gamma=0.001, kernel=rbf; total time= 1.9min\n",
      "[CV] END .....................C=100, gamma=0.001, kernel=rbf; total time= 1.9min\n",
      "[CV] END ..................C=100, gamma=0.001, kernel=linear; total time= 6.3min\n",
      "[CV] END ..................C=100, gamma=0.001, kernel=linear; total time= 7.5min\n",
      "[CV] END ..................C=100, gamma=0.001, kernel=linear; total time= 7.5min\n",
      "[CV] END ..................C=100, gamma=0.001, kernel=linear; total time= 8.0min\n",
      "[CV] END ..................C=100, gamma=0.001, kernel=linear; total time= 6.8min\n"
     ]
    },
    {
     "data": {
      "text/plain": [
       "GridSearchCV(cv=5, estimator=SVC(),\n",
       "             param_grid={'C': [0.1, 1, 10, 100], 'gamma': [1, 0.1, 0.01, 0.001],\n",
       "                         'kernel': ['rbf', 'linear']},\n",
       "             verbose=2)"
      ]
     },
     "execution_count": 19,
     "metadata": {},
     "output_type": "execute_result"
    }
   ],
   "source": [
    "import numpy as np\n",
    "import pandas as pd\n",
    "from sklearn import datasets\n",
    "from sklearn.model_selection import train_test_split, GridSearchCV\n",
    "from sklearn.svm import SVC\n",
    "from sklearn.metrics import classification_report\n",
    "# Define the parameter grid\n",
    "param_grid = {\n",
    "    'C': [0.1, 1, 10, 100],\n",
    "    'gamma': [1, 0.1, 0.01, 0.001],\n",
    "    'kernel': ['rbf', 'linear']\n",
    "}\n",
    "\n",
    "# Initialize the SVM model\n",
    "svm = SVC()\n",
    "\n",
    "# Initialize GridSearchCV with the SVM model and parameter grid\n",
    "grid = GridSearchCV(svm, param_grid, refit=True, verbose=2, cv=5)\n",
    "\n",
    "# Fit the model\n",
    "grid.fit(X_resampled, y_resampled)\n",
    "\n"
   ]
  },
  {
   "cell_type": "code",
   "execution_count": 20,
   "id": "23031203",
   "metadata": {},
   "outputs": [],
   "source": [
    "# Make predictions with the best model\n",
    "y_pred = grid.predict(X_test_tfidf)"
   ]
  },
  {
   "cell_type": "code",
   "execution_count": 21,
   "id": "1e7f5d33",
   "metadata": {},
   "outputs": [
    {
     "name": "stdout",
     "output_type": "stream",
     "text": [
      "              precision    recall  f1-score   support\n",
      "\n",
      "           0       0.90      0.97      0.94      3825\n",
      "           1       0.55      0.24      0.33       530\n",
      "\n",
      "    accuracy                           0.88      4355\n",
      "   macro avg       0.73      0.61      0.63      4355\n",
      "weighted avg       0.86      0.88      0.86      4355\n",
      "\n"
     ]
    }
   ],
   "source": [
    "# Print the classification report\n",
    "print(classification_report(y_test, y_pred))"
   ]
  },
  {
   "cell_type": "code",
   "execution_count": 23,
   "id": "22b2846d",
   "metadata": {},
   "outputs": [
    {
     "data": {
      "text/plain": [
       "0.878300803673938"
      ]
     },
     "execution_count": 23,
     "metadata": {},
     "output_type": "execute_result"
    }
   ],
   "source": [
    "svc.score(X_test_tfidf,y_test)"
   ]
  },
  {
   "cell_type": "code",
   "execution_count": 22,
   "id": "477940d1",
   "metadata": {},
   "outputs": [
    {
     "name": "stdout",
     "output_type": "stream",
     "text": [
      "[[3722  103]\n",
      " [ 404  126]]\n"
     ]
    }
   ],
   "source": [
    "from sklearn.metrics import confusion_matrix, classification_report\n",
    "\n",
    "print(confusion_matrix(y_test,y_pred))"
   ]
  }
 ],
 "metadata": {
  "kernelspec": {
   "display_name": "Python 3 (ipykernel)",
   "language": "python",
   "name": "python3"
  },
  "language_info": {
   "codemirror_mode": {
    "name": "ipython",
    "version": 3
   },
   "file_extension": ".py",
   "mimetype": "text/x-python",
   "name": "python",
   "nbconvert_exporter": "python",
   "pygments_lexer": "ipython3",
   "version": "3.9.12"
  }
 },
 "nbformat": 4,
 "nbformat_minor": 5
}
