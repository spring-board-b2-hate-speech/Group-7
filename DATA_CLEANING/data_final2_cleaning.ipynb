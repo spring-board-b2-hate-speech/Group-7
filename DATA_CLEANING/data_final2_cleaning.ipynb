{
 "cells": [
  {
   "cell_type": "code",
   "execution_count": 1,
   "id": "e147fedc",
   "metadata": {},
   "outputs": [],
   "source": [
    "# Basic Python package\n",
    "import pandas as pd\n",
    "import numpy as np\n",
    "import seaborn as sns\n",
    "import matplotlib.pyplot as plt\n",
    "import string \n",
    "import re"
   ]
  },
  {
   "cell_type": "code",
   "execution_count": 2,
   "id": "ef575e94",
   "metadata": {},
   "outputs": [],
   "source": [
    "# Load the TSV files\n",
    "train_file_path = r'C:\\Users\\prits\\Downloads\\Data\\ghc_train.tsv'\n",
    "test_file_path = r'C:\\Users\\prits\\Downloads\\Data\\ghc_test.tsv'\n",
    "\n",
    "train_df = pd.read_csv(train_file_path, sep='\\t')\n",
    "test_df = pd.read_csv(test_file_path, sep='\\t')"
   ]
  },
  {
   "cell_type": "code",
   "execution_count": 3,
   "id": "d2591075",
   "metadata": {},
   "outputs": [
    {
     "data": {
      "text/plain": [
       "Index(['text', 'hd', 'cv', 'vo'], dtype='object')"
      ]
     },
     "execution_count": 3,
     "metadata": {},
     "output_type": "execute_result"
    }
   ],
   "source": [
    "#To know are the columns in our dataset\n",
    "# Columns: Assault on Human Dignity (hd), Calls for Violence (cv), Vulgarity/Offensive Language directed at an individual (vo)\n",
    "train_df.columns"
   ]
  },
  {
   "cell_type": "code",
   "execution_count": 4,
   "id": "9b9089f4",
   "metadata": {},
   "outputs": [
    {
     "data": {
      "text/html": [
       "<div>\n",
       "<style scoped>\n",
       "    .dataframe tbody tr th:only-of-type {\n",
       "        vertical-align: middle;\n",
       "    }\n",
       "\n",
       "    .dataframe tbody tr th {\n",
       "        vertical-align: top;\n",
       "    }\n",
       "\n",
       "    .dataframe thead th {\n",
       "        text-align: right;\n",
       "    }\n",
       "</style>\n",
       "<table border=\"1\" class=\"dataframe\">\n",
       "  <thead>\n",
       "    <tr style=\"text-align: right;\">\n",
       "      <th></th>\n",
       "      <th>text</th>\n",
       "      <th>hd</th>\n",
       "      <th>cv</th>\n",
       "      <th>vo</th>\n",
       "    </tr>\n",
       "  </thead>\n",
       "  <tbody>\n",
       "    <tr>\n",
       "      <th>0</th>\n",
       "      <td>He most likely converted to islam due to his n...</td>\n",
       "      <td>0</td>\n",
       "      <td>0</td>\n",
       "      <td>0</td>\n",
       "    </tr>\n",
       "    <tr>\n",
       "      <th>1</th>\n",
       "      <td>So Ford lied about being a psychologist. Recor...</td>\n",
       "      <td>0</td>\n",
       "      <td>0</td>\n",
       "      <td>0</td>\n",
       "    </tr>\n",
       "    <tr>\n",
       "      <th>2</th>\n",
       "      <td>Jobs. Education. Ending abuse of Nation. CA43.</td>\n",
       "      <td>0</td>\n",
       "      <td>0</td>\n",
       "      <td>0</td>\n",
       "    </tr>\n",
       "    <tr>\n",
       "      <th>3</th>\n",
       "      <td>I share a lot of your values, &amp; like many who ...</td>\n",
       "      <td>0</td>\n",
       "      <td>0</td>\n",
       "      <td>0</td>\n",
       "    </tr>\n",
       "    <tr>\n",
       "      <th>4</th>\n",
       "      <td>I am so ready to get back to blogging! www.ben...</td>\n",
       "      <td>0</td>\n",
       "      <td>0</td>\n",
       "      <td>0</td>\n",
       "    </tr>\n",
       "    <tr>\n",
       "      <th>5</th>\n",
       "      <td>taking a look at new opportunity called FX Pro...</td>\n",
       "      <td>0</td>\n",
       "      <td>0</td>\n",
       "      <td>0</td>\n",
       "    </tr>\n",
       "    <tr>\n",
       "      <th>6</th>\n",
       "      <td>Reflecting back when I was in school with Spec...</td>\n",
       "      <td>0</td>\n",
       "      <td>0</td>\n",
       "      <td>0</td>\n",
       "    </tr>\n",
       "    <tr>\n",
       "      <th>7</th>\n",
       "      <td>Let's be honest everyone, last year there were...</td>\n",
       "      <td>0</td>\n",
       "      <td>0</td>\n",
       "      <td>0</td>\n",
       "    </tr>\n",
       "    <tr>\n",
       "      <th>8</th>\n",
       "      <td>2007 Nuke plant in Syria</td>\n",
       "      <td>0</td>\n",
       "      <td>0</td>\n",
       "      <td>0</td>\n",
       "    </tr>\n",
       "    <tr>\n",
       "      <th>9</th>\n",
       "      <td>NBC's Chuck Todd Thinks He's Figured It All Ou...</td>\n",
       "      <td>0</td>\n",
       "      <td>0</td>\n",
       "      <td>0</td>\n",
       "    </tr>\n",
       "  </tbody>\n",
       "</table>\n",
       "</div>"
      ],
      "text/plain": [
       "                                                text  hd  cv  vo\n",
       "0  He most likely converted to islam due to his n...   0   0   0\n",
       "1  So Ford lied about being a psychologist. Recor...   0   0   0\n",
       "2     Jobs. Education. Ending abuse of Nation. CA43.   0   0   0\n",
       "3  I share a lot of your values, & like many who ...   0   0   0\n",
       "4  I am so ready to get back to blogging! www.ben...   0   0   0\n",
       "5  taking a look at new opportunity called FX Pro...   0   0   0\n",
       "6  Reflecting back when I was in school with Spec...   0   0   0\n",
       "7  Let's be honest everyone, last year there were...   0   0   0\n",
       "8                          2007 Nuke plant in Syria    0   0   0\n",
       "9  NBC's Chuck Todd Thinks He's Figured It All Ou...   0   0   0"
      ]
     },
     "execution_count": 4,
     "metadata": {},
     "output_type": "execute_result"
    }
   ],
   "source": [
    "#Top 10 rows in our dataset\n",
    "train_df.head(10)"
   ]
  },
  {
   "cell_type": "code",
   "execution_count": 5,
   "id": "20b2624a",
   "metadata": {},
   "outputs": [
    {
     "data": {
      "text/html": [
       "<div>\n",
       "<style scoped>\n",
       "    .dataframe tbody tr th:only-of-type {\n",
       "        vertical-align: middle;\n",
       "    }\n",
       "\n",
       "    .dataframe tbody tr th {\n",
       "        vertical-align: top;\n",
       "    }\n",
       "\n",
       "    .dataframe thead th {\n",
       "        text-align: right;\n",
       "    }\n",
       "</style>\n",
       "<table border=\"1\" class=\"dataframe\">\n",
       "  <thead>\n",
       "    <tr style=\"text-align: right;\">\n",
       "      <th></th>\n",
       "      <th>text</th>\n",
       "      <th>hd</th>\n",
       "      <th>cv</th>\n",
       "      <th>vo</th>\n",
       "    </tr>\n",
       "  </thead>\n",
       "  <tbody>\n",
       "    <tr>\n",
       "      <th>22026</th>\n",
       "      <td>What does Gab-Pro give ya?</td>\n",
       "      <td>0</td>\n",
       "      <td>0</td>\n",
       "      <td>0</td>\n",
       "    </tr>\n",
       "    <tr>\n",
       "      <th>22027</th>\n",
       "      <td>#354 TRUMP POLLS VS MEDIA MELTDOWN! | Jordan P...</td>\n",
       "      <td>0</td>\n",
       "      <td>0</td>\n",
       "      <td>0</td>\n",
       "    </tr>\n",
       "    <tr>\n",
       "      <th>22028</th>\n",
       "      <td>The Founders never EVER dealt with a group tha...</td>\n",
       "      <td>0</td>\n",
       "      <td>0</td>\n",
       "      <td>0</td>\n",
       "    </tr>\n",
       "    <tr>\n",
       "      <th>22029</th>\n",
       "      <td>Man [homosexually] molests 15-year-old boy on ...</td>\n",
       "      <td>0</td>\n",
       "      <td>0</td>\n",
       "      <td>0</td>\n",
       "    </tr>\n",
       "    <tr>\n",
       "      <th>22030</th>\n",
       "      <td>So I saw #Skyscraper for you #GabFam. Now I ha...</td>\n",
       "      <td>0</td>\n",
       "      <td>0</td>\n",
       "      <td>0</td>\n",
       "    </tr>\n",
       "    <tr>\n",
       "      <th>22031</th>\n",
       "      <td>I'm a fan of western civilization, and one bed...</td>\n",
       "      <td>0</td>\n",
       "      <td>0</td>\n",
       "      <td>0</td>\n",
       "    </tr>\n",
       "    <tr>\n",
       "      <th>22032</th>\n",
       "      <td>Or ... is she saying that Muslims don't know h...</td>\n",
       "      <td>0</td>\n",
       "      <td>0</td>\n",
       "      <td>0</td>\n",
       "    </tr>\n",
       "    <tr>\n",
       "      <th>22033</th>\n",
       "      <td>Thank you to all my followers that follow me e...</td>\n",
       "      <td>0</td>\n",
       "      <td>0</td>\n",
       "      <td>0</td>\n",
       "    </tr>\n",
       "    <tr>\n",
       "      <th>22034</th>\n",
       "      <td>Wednesday music. https://www.youtube.com/watch...</td>\n",
       "      <td>0</td>\n",
       "      <td>0</td>\n",
       "      <td>0</td>\n",
       "    </tr>\n",
       "    <tr>\n",
       "      <th>22035</th>\n",
       "      <td>This is a really Big Surprise!  https://www.wn...</td>\n",
       "      <td>0</td>\n",
       "      <td>0</td>\n",
       "      <td>0</td>\n",
       "    </tr>\n",
       "  </tbody>\n",
       "</table>\n",
       "</div>"
      ],
      "text/plain": [
       "                                                    text  hd  cv  vo\n",
       "22026                         What does Gab-Pro give ya?   0   0   0\n",
       "22027  #354 TRUMP POLLS VS MEDIA MELTDOWN! | Jordan P...   0   0   0\n",
       "22028  The Founders never EVER dealt with a group tha...   0   0   0\n",
       "22029  Man [homosexually] molests 15-year-old boy on ...   0   0   0\n",
       "22030  So I saw #Skyscraper for you #GabFam. Now I ha...   0   0   0\n",
       "22031  I'm a fan of western civilization, and one bed...   0   0   0\n",
       "22032  Or ... is she saying that Muslims don't know h...   0   0   0\n",
       "22033  Thank you to all my followers that follow me e...   0   0   0\n",
       "22034  Wednesday music. https://www.youtube.com/watch...   0   0   0\n",
       "22035  This is a really Big Surprise!  https://www.wn...   0   0   0"
      ]
     },
     "execution_count": 5,
     "metadata": {},
     "output_type": "execute_result"
    }
   ],
   "source": [
    "#Bottom 10 rows in our dataset\n",
    "train_df.tail(10)"
   ]
  },
  {
   "cell_type": "code",
   "execution_count": 6,
   "id": "39a13d35",
   "metadata": {},
   "outputs": [
    {
     "data": {
      "text/html": [
       "<div>\n",
       "<style scoped>\n",
       "    .dataframe tbody tr th:only-of-type {\n",
       "        vertical-align: middle;\n",
       "    }\n",
       "\n",
       "    .dataframe tbody tr th {\n",
       "        vertical-align: top;\n",
       "    }\n",
       "\n",
       "    .dataframe thead th {\n",
       "        text-align: right;\n",
       "    }\n",
       "</style>\n",
       "<table border=\"1\" class=\"dataframe\">\n",
       "  <thead>\n",
       "    <tr style=\"text-align: right;\">\n",
       "      <th></th>\n",
       "      <th>hd</th>\n",
       "      <th>cv</th>\n",
       "      <th>vo</th>\n",
       "    </tr>\n",
       "  </thead>\n",
       "  <tbody>\n",
       "    <tr>\n",
       "      <th>count</th>\n",
       "      <td>22036.000000</td>\n",
       "      <td>22036.000000</td>\n",
       "      <td>22036.000000</td>\n",
       "    </tr>\n",
       "    <tr>\n",
       "      <th>mean</th>\n",
       "      <td>0.084271</td>\n",
       "      <td>0.005945</td>\n",
       "      <td>0.062579</td>\n",
       "    </tr>\n",
       "    <tr>\n",
       "      <th>std</th>\n",
       "      <td>0.277800</td>\n",
       "      <td>0.076875</td>\n",
       "      <td>0.242210</td>\n",
       "    </tr>\n",
       "    <tr>\n",
       "      <th>min</th>\n",
       "      <td>0.000000</td>\n",
       "      <td>0.000000</td>\n",
       "      <td>0.000000</td>\n",
       "    </tr>\n",
       "    <tr>\n",
       "      <th>25%</th>\n",
       "      <td>0.000000</td>\n",
       "      <td>0.000000</td>\n",
       "      <td>0.000000</td>\n",
       "    </tr>\n",
       "    <tr>\n",
       "      <th>50%</th>\n",
       "      <td>0.000000</td>\n",
       "      <td>0.000000</td>\n",
       "      <td>0.000000</td>\n",
       "    </tr>\n",
       "    <tr>\n",
       "      <th>75%</th>\n",
       "      <td>0.000000</td>\n",
       "      <td>0.000000</td>\n",
       "      <td>0.000000</td>\n",
       "    </tr>\n",
       "    <tr>\n",
       "      <th>max</th>\n",
       "      <td>1.000000</td>\n",
       "      <td>1.000000</td>\n",
       "      <td>1.000000</td>\n",
       "    </tr>\n",
       "  </tbody>\n",
       "</table>\n",
       "</div>"
      ],
      "text/plain": [
       "                 hd            cv            vo\n",
       "count  22036.000000  22036.000000  22036.000000\n",
       "mean       0.084271      0.005945      0.062579\n",
       "std        0.277800      0.076875      0.242210\n",
       "min        0.000000      0.000000      0.000000\n",
       "25%        0.000000      0.000000      0.000000\n",
       "50%        0.000000      0.000000      0.000000\n",
       "75%        0.000000      0.000000      0.000000\n",
       "max        1.000000      1.000000      1.000000"
      ]
     },
     "execution_count": 6,
     "metadata": {},
     "output_type": "execute_result"
    }
   ],
   "source": [
    "#Describe function to find total count,etc\n",
    "train_df.describe()"
   ]
  },
  {
   "cell_type": "code",
   "execution_count": 7,
   "id": "854fb46b",
   "metadata": {},
   "outputs": [
    {
     "name": "stdout",
     "output_type": "stream",
     "text": [
      "text    0\n",
      "hd      0\n",
      "cv      0\n",
      "vo      0\n",
      "dtype: int64\n"
     ]
    }
   ],
   "source": [
    "#how many nulls \n",
    "print(train_df.isnull().sum())"
   ]
  },
  {
   "cell_type": "code",
   "execution_count": 7,
   "id": "eea55418",
   "metadata": {},
   "outputs": [
    {
     "name": "stdout",
     "output_type": "stream",
     "text": [
      "(22036, 4)\n",
      "\n",
      "\n",
      "text    object\n",
      "hd       int64\n",
      "cv       int64\n",
      "vo       int64\n",
      "dtype: object\n"
     ]
    }
   ],
   "source": [
    "#in our case we have no null values as inferred from output on line 12\n",
    "#how does the data look like\n",
    "print(train_df.shape)#total rows x column count \n",
    "print(\"\\n\")\n",
    "print(train_df.dtypes)# each column data type"
   ]
  },
  {
   "cell_type": "code",
   "execution_count": 8,
   "id": "ee292669",
   "metadata": {},
   "outputs": [
    {
     "data": {
      "text/plain": [
       "72"
      ]
     },
     "execution_count": 8,
     "metadata": {},
     "output_type": "execute_result"
    }
   ],
   "source": [
    "#finding duplicates\n",
    "train_df.duplicated().sum()\n"
   ]
  },
  {
   "cell_type": "code",
   "execution_count": 9,
   "id": "87c5a05a",
   "metadata": {},
   "outputs": [
    {
     "data": {
      "text/plain": [
       "10"
      ]
     },
     "execution_count": 9,
     "metadata": {},
     "output_type": "execute_result"
    }
   ],
   "source": [
    "test_df.duplicated().sum()"
   ]
  },
  {
   "cell_type": "code",
   "execution_count": 10,
   "id": "1f4cbae0",
   "metadata": {},
   "outputs": [
    {
     "name": "stdout",
     "output_type": "stream",
     "text": [
      "                                                    text  hd  cv  vo\n",
      "3896                           I see what you did there.   0   0   0\n",
      "5426                                                Lol!   0   0   0\n",
      "5661   This is the amount of money necessary to buy t...   0   0   1\n",
      "6036   Just posted 1st of 3 final 'controversial' (in...   0   0   0\n",
      "6334                                            Maverick   0   0   0\n",
      "...                                                  ...  ..  ..  ..\n",
      "21122  GOD BLESS OUR INCREDIBLE PRESIDENT! RED TIDAL ...   0   0   0\n",
      "21407                                                  .   0   0   0\n",
      "21460                                       @Heartiste     0   0   0\n",
      "21531                   Worst. Strategic. Mistake. EVER.   0   0   0\n",
      "21976  SARA CARTER: John Kerry Officially Under Inves...   0   0   0\n",
      "\n",
      "[72 rows x 4 columns]\n"
     ]
    }
   ],
   "source": [
    "#output on line 27 shows our dataset has 72 duplicate values\n",
    "#now to see which values are duplicate \n",
    "duplicate_rows = train_df[train_df.duplicated()]\n",
    "print(duplicate_rows)\n"
   ]
  },
  {
   "cell_type": "code",
   "execution_count": 11,
   "id": "f7173243",
   "metadata": {},
   "outputs": [],
   "source": [
    "# removing the duplicates and keeing just the first occurrence\n",
    "train_df = train_df.drop_duplicates()"
   ]
  },
  {
   "cell_type": "code",
   "execution_count": 12,
   "id": "d30d9f27",
   "metadata": {},
   "outputs": [],
   "source": [
    "test_df = test_df.drop_duplicates()"
   ]
  },
  {
   "cell_type": "code",
   "execution_count": 13,
   "id": "99cbe096",
   "metadata": {},
   "outputs": [
    {
     "data": {
      "text/plain": [
       "0"
      ]
     },
     "execution_count": 13,
     "metadata": {},
     "output_type": "execute_result"
    }
   ],
   "source": [
    "#again checking for duplicates \n",
    "train_df.duplicated().sum()"
   ]
  },
  {
   "cell_type": "code",
   "execution_count": 14,
   "id": "6831e51a",
   "metadata": {},
   "outputs": [
    {
     "data": {
      "text/plain": [
       "0"
      ]
     },
     "execution_count": 14,
     "metadata": {},
     "output_type": "execute_result"
    }
   ],
   "source": [
    "test_df.duplicated().sum()"
   ]
  },
  {
   "cell_type": "code",
   "execution_count": 15,
   "id": "8e27fdc5",
   "metadata": {},
   "outputs": [
    {
     "name": "stdout",
     "output_type": "stream",
     "text": [
      "'A confidential, 49-page memo for defeating Trump by working with the major social-media platforms to eliminate “right wing propaganda and fake news” was presented in January 2017  by Media Matters founder David Brock at a retreat in Florida with about 100 donors, the Washington Free Beacon reported at the time.' https://www.wnd.com/2018/08/mask-off-social-media-... #FAGS #So...    2\n",
      "He most likely converted to islam due to his nature being suitable for  islamic doctrine. \"Prophet\" Muhammad was a psychopath.                                                                                                                                                                                                                                                                   1\n",
      "The other way around! Just go to Birmingham or London!                                                                                                                                                                                                                                                                                                                                           1\n",
      "Officially official new company is Beeso. I'm really excited about what I'm working on. It's going to change how startups are done and funded. Total disruption.                                                                                                                                                                                                                                 1\n",
      "what a warm, sincere, smile                                                                                                                                                                                                                                                                                                                                                                      1\n",
      "                                                                                                                                                                                                                                                                                                                                                                                                ..\n",
      "They can take their halal and kosher back to the Middle East !                                                                                                                                                                                                                                                                                                                                   1\n",
      "Even George Bush (both of 'em) are Zionists. There are lots of people working on the Zionist agenda. CIA is Zionist. Most of the white house (hence all these wars) are Zionist.                                                                                                                                                                                                                 1\n",
      "“Amazing leadership”....BULL FUCKING SHIT!! HE is responsible FOR EVERY PERSON HE HIRES!! So rip that fuckers records apart and FIND A WAY to get him fired!!                                                                                                                                                                                                                                    1\n",
      "Women.                                                                                                                                                                                                                                                                                                                                                                                           1\n",
      "This is a really Big Surprise!  https://www.wnd.com/2018/08/mask-off-social-media-censor-king-revealed/                                                                                                                                                                                                                                                                                          1\n",
      "Name: text, Length: 21963, dtype: int64\n",
      "******************************\n"
     ]
    }
   ],
   "source": [
    "#output 0 on line 30 shows that now our dataset has no duplicate values \n",
    "#identifying garbage values (garbage values have \"object\" as their datatype)\n",
    "for i in train_df.select_dtypes(include=\"object\").columns:\n",
    "    print(train_df[i].value_counts())\n",
    "    print(\"***\"*10)"
   ]
  },
  {
   "cell_type": "code",
   "execution_count": 16,
   "id": "299e4506",
   "metadata": {},
   "outputs": [
    {
     "data": {
      "text/html": [
       "<div>\n",
       "<style scoped>\n",
       "    .dataframe tbody tr th:only-of-type {\n",
       "        vertical-align: middle;\n",
       "    }\n",
       "\n",
       "    .dataframe tbody tr th {\n",
       "        vertical-align: top;\n",
       "    }\n",
       "\n",
       "    .dataframe thead th {\n",
       "        text-align: right;\n",
       "    }\n",
       "</style>\n",
       "<table border=\"1\" class=\"dataframe\">\n",
       "  <thead>\n",
       "    <tr style=\"text-align: right;\">\n",
       "      <th></th>\n",
       "      <th>count</th>\n",
       "      <th>mean</th>\n",
       "      <th>std</th>\n",
       "      <th>min</th>\n",
       "      <th>25%</th>\n",
       "      <th>50%</th>\n",
       "      <th>75%</th>\n",
       "      <th>max</th>\n",
       "    </tr>\n",
       "  </thead>\n",
       "  <tbody>\n",
       "    <tr>\n",
       "      <th>hd</th>\n",
       "      <td>21964.0</td>\n",
       "      <td>0.084456</td>\n",
       "      <td>0.278077</td>\n",
       "      <td>0.0</td>\n",
       "      <td>0.0</td>\n",
       "      <td>0.0</td>\n",
       "      <td>0.0</td>\n",
       "      <td>1.0</td>\n",
       "    </tr>\n",
       "    <tr>\n",
       "      <th>cv</th>\n",
       "      <td>21964.0</td>\n",
       "      <td>0.005964</td>\n",
       "      <td>0.077000</td>\n",
       "      <td>0.0</td>\n",
       "      <td>0.0</td>\n",
       "      <td>0.0</td>\n",
       "      <td>0.0</td>\n",
       "      <td>1.0</td>\n",
       "    </tr>\n",
       "    <tr>\n",
       "      <th>vo</th>\n",
       "      <td>21964.0</td>\n",
       "      <td>0.062693</td>\n",
       "      <td>0.242416</td>\n",
       "      <td>0.0</td>\n",
       "      <td>0.0</td>\n",
       "      <td>0.0</td>\n",
       "      <td>0.0</td>\n",
       "      <td>1.0</td>\n",
       "    </tr>\n",
       "  </tbody>\n",
       "</table>\n",
       "</div>"
      ],
      "text/plain": [
       "      count      mean       std  min  25%  50%  75%  max\n",
       "hd  21964.0  0.084456  0.278077  0.0  0.0  0.0  0.0  1.0\n",
       "cv  21964.0  0.005964  0.077000  0.0  0.0  0.0  0.0  1.0\n",
       "vo  21964.0  0.062693  0.242416  0.0  0.0  0.0  0.0  1.0"
      ]
     },
     "execution_count": 16,
     "metadata": {},
     "output_type": "execute_result"
    }
   ],
   "source": [
    "#Exploratory Data Analysis (EDA)\n",
    "#descriptive statistics \n",
    "train_df.describe().T"
   ]
  },
  {
   "cell_type": "code",
   "execution_count": 17,
   "id": "4b31f0af",
   "metadata": {},
   "outputs": [
    {
     "data": {
      "text/html": [
       "<div>\n",
       "<style scoped>\n",
       "    .dataframe tbody tr th:only-of-type {\n",
       "        vertical-align: middle;\n",
       "    }\n",
       "\n",
       "    .dataframe tbody tr th {\n",
       "        vertical-align: top;\n",
       "    }\n",
       "\n",
       "    .dataframe thead th {\n",
       "        text-align: right;\n",
       "    }\n",
       "</style>\n",
       "<table border=\"1\" class=\"dataframe\">\n",
       "  <thead>\n",
       "    <tr style=\"text-align: right;\">\n",
       "      <th></th>\n",
       "      <th>text</th>\n",
       "    </tr>\n",
       "  </thead>\n",
       "  <tbody>\n",
       "    <tr>\n",
       "      <th>count</th>\n",
       "      <td>21964</td>\n",
       "    </tr>\n",
       "    <tr>\n",
       "      <th>unique</th>\n",
       "      <td>21963</td>\n",
       "    </tr>\n",
       "    <tr>\n",
       "      <th>top</th>\n",
       "      <td>'A confidential, 49-page memo for defeating Tr...</td>\n",
       "    </tr>\n",
       "    <tr>\n",
       "      <th>freq</th>\n",
       "      <td>2</td>\n",
       "    </tr>\n",
       "  </tbody>\n",
       "</table>\n",
       "</div>"
      ],
      "text/plain": [
       "                                                     text\n",
       "count                                               21964\n",
       "unique                                              21963\n",
       "top     'A confidential, 49-page memo for defeating Tr...\n",
       "freq                                                    2"
      ]
     },
     "execution_count": 17,
     "metadata": {},
     "output_type": "execute_result"
    }
   ],
   "source": [
    "train_df.describe(include=\"object\")"
   ]
  },
  {
   "cell_type": "code",
   "execution_count": 18,
   "id": "37fb8dc4",
   "metadata": {},
   "outputs": [
    {
     "data": {
      "image/png": "[encoded data removed]",
      "text/plain": [
       "<Figure size 576x576 with 1 Axes>"
      ]
     },
     "metadata": {},
     "output_type": "display_data"
    }
   ],
   "source": [
    "import matplotlib.pyplot as plt\n",
    "\n",
    "# Sum the values of each column\n",
    "hd_sum = train_df['hd'].sum()\n",
    "cv_sum = train_df['cv'].sum()\n",
    "vo_sum = train_df['vo'].sum()\n",
    "\n",
    "# Create a list of sums and corresponding labels\n",
    "sums = [hd_sum, cv_sum, vo_sum]\n",
    "labels = ['hd', 'cv', 'vo']\n",
    "\n",
    "# Create a pie chart\n",
    "plt.figure(figsize=(8, 8))\n",
    "plt.pie(sums, labels=labels, autopct='%1.1f%%', startangle=140)\n",
    "plt.title('Distribution of hd, cv, and vo in the Dataset')\n",
    "plt.axis('equal')  # Equal aspect ratio ensures that pie is drawn as a circle.\n",
    "plt.show()\n"
   ]
  },
  {
   "cell_type": "code",
   "execution_count": 19,
   "id": "06e86d60",
   "metadata": {},
   "outputs": [
    {
     "data": {
      "image/png": "[encoded data removed]",
      "text/plain": [
       "<Figure size 576x576 with 1 Axes>"
      ]
     },
     "metadata": {},
     "output_type": "display_data"
    }
   ],
   "source": [
    "import matplotlib.pyplot as plt\n",
    "\n",
    "# Sum the values of each column\n",
    "hd_sum = test_df['hd'].sum()\n",
    "cv_sum = test_df['cv'].sum()\n",
    "vo_sum = test_df['vo'].sum()\n",
    "\n",
    "# Create a list of sums and corresponding labels\n",
    "sums = [hd_sum, cv_sum, vo_sum]\n",
    "labels = ['hd', 'cv', 'vo']\n",
    "\n",
    "# Create a pie chart\n",
    "plt.figure(figsize=(8, 8))\n",
    "plt.pie(sums, labels=labels, autopct='%1.1f%%', startangle=140)\n",
    "plt.title('Distribution of hd, cv, and vo in the Dataset')\n",
    "plt.axis('equal')  # Equal aspect ratio ensures that pie is drawn as a circle.\n",
    "plt.show()\n"
   ]
  },
  {
   "cell_type": "markdown",
   "id": "8e633fa5",
   "metadata": {},
   "source": [
    "# Punctuation Removal"
   ]
  },
  {
   "cell_type": "code",
   "execution_count": 20,
   "id": "56d4ab9a",
   "metadata": {},
   "outputs": [
    {
     "name": "stdout",
     "output_type": "stream",
     "text": [
      "<bound method NDFrame.head of                                                     text  hd  cv  vo\n",
      "0      He most likely converted to islam due to his n...   0   0   0\n",
      "1      So Ford lied about being a psychologist Record...   0   0   0\n",
      "2             Jobs Education Ending abuse of Nation CA43   0   0   0\n",
      "3      I share a lot of your values  like many who do...   0   0   0\n",
      "4      I am so ready to get back to blogging wwwbenbr...   0   0   0\n",
      "...                                                  ...  ..  ..  ..\n",
      "22031  Im a fan of western civilization and one bedro...   0   0   0\n",
      "22032  Or  is she saying that Muslims dont know how t...   0   0   0\n",
      "22033  Thank you to all my followers that follow me e...   0   0   0\n",
      "22034  Wednesday music httpswwwyoutubecomwatchvfI2Z1l...   0   0   0\n",
      "22035  This is a really Big Surprise  httpswwwwndcom2...   0   0   0\n",
      "\n",
      "[21964 rows x 4 columns]>\n"
     ]
    }
   ],
   "source": [
    "# Remove punctuations and symbols\n",
    "def remove_punctuation(text):\n",
    "    if isinstance(text, str):\n",
    "        return text.translate(str.maketrans('', \"\", string.punctuation))\n",
    "    return text\n",
    "\n",
    "# Apply the function to all string cells in the DataFrame\n",
    "train_df = train_df.applymap(remove_punctuation)\n",
    "print(train_df.head)"
   ]
  },
  {
   "cell_type": "code",
   "execution_count": 21,
   "id": "5b45c822",
   "metadata": {},
   "outputs": [],
   "source": [
    "#removing double quotes\n",
    "import re\n",
    "\n",
    "def remove_quotes(text):\n",
    "    if isinstance(text, str):\n",
    "        return re.sub(r'[“”]', '', text)\n",
    "    else:\n",
    "        return text\n",
    "\n",
    "train_df = train_df.applymap(remove_quotes)\n"
   ]
  },
  {
   "cell_type": "code",
   "execution_count": 22,
   "id": "7c230a36",
   "metadata": {},
   "outputs": [
    {
     "data": {
      "text/plain": [
       "'Suggestion Create another channel not associated with General Shepherd  Post all the INFOWARS stuff but never use the word Alex Jones INFOWARS etc in titles and descriptions Instead use words that describe whats being talked about in the video'"
      ]
     },
     "execution_count": 22,
     "metadata": {},
     "output_type": "execute_result"
    }
   ],
   "source": [
    "train_df['text'][14]"
   ]
  },
  {
   "cell_type": "markdown",
   "id": "8edbc810",
   "metadata": {},
   "source": [
    "# TOKENIZATION"
   ]
  },
  {
   "cell_type": "code",
   "execution_count": 23,
   "id": "b343da35",
   "metadata": {},
   "outputs": [
    {
     "name": "stderr",
     "output_type": "stream",
     "text": [
      "[nltk_data] Downloading package punkt to\n",
      "[nltk_data]     C:\\Users\\prits\\AppData\\Roaming\\nltk_data...\n",
      "[nltk_data]   Package punkt is already up-to-date!\n"
     ]
    },
    {
     "name": "stdout",
     "output_type": "stream",
     "text": [
      "                                                text  hd  cv  vo\n",
      "0  [He, most, likely, converted, to, islam, due, ...   0   0   0\n",
      "1  [So, Ford, lied, about, being, a, psychologist...   0   0   0\n",
      "2  [Jobs, Education, Ending, abuse, of, Nation, C...   0   0   0\n",
      "3  [I, share, a, lot, of, your, values, like, man...   0   0   0\n",
      "4  [I, am, so, ready, to, get, back, to, blogging...   0   0   0\n"
     ]
    }
   ],
   "source": [
    "import nltk\n",
    "from nltk.tokenize import word_tokenize\n",
    "# Download the necessary NLTK resources\n",
    "nltk.download('punkt')\n",
    "# Define a function to tokenize sentences\n",
    "def tokenize_text(text):\n",
    "    if isinstance(text, str):\n",
    "        return word_tokenize(text)\n",
    "    return text\n",
    "\n",
    "# Apply the function to all cells in the DataFrame\n",
    "train_df = train_df.applymap(tokenize_text)\n",
    "\n",
    "# Display a few rows of the tokenized DataFrame\n",
    "print(train_df.head())"
   ]
  },
  {
   "cell_type": "markdown",
   "id": "c0a781c8",
   "metadata": {},
   "source": [
    "# STOPWORDS REMOVAL "
   ]
  },
  {
   "cell_type": "code",
   "execution_count": 24,
   "id": "b5bfbbfa",
   "metadata": {},
   "outputs": [
    {
     "name": "stderr",
     "output_type": "stream",
     "text": [
      "[nltk_data] Downloading package punkt to\n",
      "[nltk_data]     C:\\Users\\prits\\AppData\\Roaming\\nltk_data...\n",
      "[nltk_data]   Package punkt is already up-to-date!\n",
      "[nltk_data] Downloading package stopwords to\n",
      "[nltk_data]     C:\\Users\\prits\\AppData\\Roaming\\nltk_data...\n",
      "[nltk_data]   Package stopwords is already up-to-date!\n"
     ]
    },
    {
     "name": "stdout",
     "output_type": "stream",
     "text": [
      "{'needn', 'shouldn', 'won', 'does', \"should've\", \"weren't\", 'yourself', 'do', 'my', 'about', 'can', 'too', 'don', 'being', 'under', 'she', 'themselves', 'if', \"wasn't\", 'myself', 'yours', 'your', 'be', 'have', 'ma', 'below', 'further', 'from', \"didn't\", 'doesn', \"doesn't\", 'more', 'ours', \"needn't\", 'over', 'again', 'isn', 'some', 'had', 'those', 'this', 'while', \"haven't\", 'having', 'how', 'itself', 'shan', 'before', 'down', 'each', \"wouldn't\", 'same', \"won't\", 'o', \"mightn't\", 'we', 'but', 'during', 'them', 'off', 'in', 'what', 'whom', 'only', 'who', 'm', 'most', 'didn', 't', 'these', 'just', 'him', 'of', 'were', 'for', 'where', 'aren', 'he', 'should', \"you're\", 'been', 'haven', 'not', \"couldn't\", 'with', \"you'd\", \"it's\", 'into', \"don't\", 'nor', 'no', 'on', 'as', 'by', 'our', 'theirs', 'which', \"aren't\", \"mustn't\", 'until', 'here', 'weren', 'to', 'an', 'because', 'i', 'herself', 'himself', 'out', 'the', 'd', 'is', 'will', 'did', 'such', 'you', \"she's\", 'both', 'hers', 'a', 'their', 'than', \"that'll\", 're', 'mightn', 'its', 'once', 'his', 'why', 'it', 'then', 'few', \"you'll\", 'or', 'wasn', 'that', 'any', 'hasn', 'up', 'll', 'ain', 'couldn', 'me', 'her', \"shan't\", 'mustn', \"hadn't\", 'has', 'was', 've', 'y', \"you've\", 'all', 'after', \"shouldn't\", 'they', 'through', 'hadn', 'when', 'there', 'and', 'are', 'between', \"hasn't\", \"isn't\", 'other', 'above', 'yourselves', 'ourselves', 'doing', 'now', 's', 'own', 'against', 'am', 'very', 'wouldn', 'so', 'at'}\n",
      "Cleaned Train DataFrame:\n",
      "                                                text  hd  cv  vo\n",
      "0  likely converted islam due nature suitable isl...   0   0   0\n",
      "1  Ford lied psychologist . Records seem indicate...   0   0   0\n",
      "2    Jobs . Education . Ending abuse Nation . CA43 .   0   0   0\n",
      "3  share lot values , & like many , n't call alt ...   0   0   0\n",
      "4  ready get back blogging ! www.benbrihouse.com ...   0   0   0\n",
      "Cleaned Test DataFrame:\n",
      "                                                text  hd  cv  vo\n",
      "0  https : //www.youtube.com/watch ? v=kACWpKAKta...   0   0   0\n",
      "1  nice ! tend get tired constant stream ridiculo...   0   0   0\n",
      "2     Watch today . https : //circumcisionmovie.com/   0   0   0\n",
      "3  `` Thinking Venues `` First Color Layer blocki...   0   0   0\n",
      "4  death penalty perpetrators expelling remaining...   0   0   0\n"
     ]
    }
   ],
   "source": [
    "import nltk\n",
    "from nltk.corpus import stopwords\n",
    "from nltk.tokenize import word_tokenize\n",
    "\n",
    "#stopwords are commonly used words in a language that are often ignored  or filtered out in natural language processing\n",
    "#tasks beacuase they carry less meaningful information compared to other words\n",
    "# Download the necessary NLTK resources\n",
    "nltk.download('punkt')\n",
    "nltk.download('stopwords')\n",
    "\n",
    "# Get the list of stopwords\n",
    "stop_words = set(stopwords.words('english'))\n",
    "print(stop_words)\n",
    "\n",
    "# Define a function to remove stopwords\n",
    "def remove_stopwords(text):\n",
    "    if isinstance(text, str):\n",
    "        words = word_tokenize(text)\n",
    "        return ' '.join([word for word in words if word.lower() not in stop_words])\n",
    "    return text\n",
    "\n",
    "# Function to process a chunk\n",
    "def process_chunk(chunk):\n",
    "    return chunk.applymap(remove_stopwords)\n",
    "\n",
    "# Process the train dataset in chunks\n",
    "train_processed_chunks = []\n",
    "chunk_size = 21976\n",
    "for chunk in pd.read_csv(train_file_path, sep='\\t', chunksize=chunk_size):\n",
    "    processed_chunk = process_chunk(chunk)\n",
    "    train_processed_chunks.append(processed_chunk)\n",
    "\n",
    "# Concatenate all processed chunks into a single DataFrame for train data\n",
    "train_df_cleaned = pd.concat(train_processed_chunks, ignore_index=True)\n",
    "\n",
    "# Process the test dataset in chunks\n",
    "test_processed_chunks = []\n",
    "for chunk in pd.read_csv(test_file_path, sep='\\t', chunksize=chunk_size):\n",
    "    processed_chunk = process_chunk(chunk)\n",
    "    test_processed_chunks.append(processed_chunk)\n",
    "\n",
    "# Concatenate all processed chunks into a single DataFrame for test data\n",
    "test_df_cleaned = pd.concat(test_processed_chunks, ignore_index=True)\n",
    "\n",
    "# Display a few rows of the cleaned train DataFrame\n",
    "print(\"Cleaned Train DataFrame:\")\n",
    "print(train_df_cleaned.head())\n",
    "\n",
    "# Display a few rows of the cleaned test DataFrame\n",
    "print(\"Cleaned Test DataFrame:\")\n",
    "print(test_df_cleaned.head())\n"
   ]
  },
  {
   "cell_type": "markdown",
   "id": "bb591613",
   "metadata": {},
   "source": [
    "# STEMMING"
   ]
  },
  {
   "cell_type": "code",
   "execution_count": 25,
   "id": "2cfc5e6c",
   "metadata": {},
   "outputs": [
    {
     "name": "stdout",
     "output_type": "stream",
     "text": [
      "Cleaned Train DataFrame:\n",
      "                                                text  hd  cv  vo\n",
      "0  he most like convert to islam due to hi natur ...   0   0   0\n",
      "1  so ford lie about be a psychologist . record s...   0   0   0\n",
      "2           job . educ . end abus of nation . ca43 .   0   0   0\n",
      "3  i share a lot of your valu , & like mani who d...   0   0   0\n",
      "4  i am so readi to get back to blog ! www.benbri...   0   0   0\n",
      "Cleaned Test DataFrame:\n",
      "                                                text  hd  cv  vo\n",
      "0  http : //www.youtube.com/watch ? v=kacwpkaktak...   0   0   0\n",
      "1  veri nice ! i tend to get tire of the constant...   0   0   0\n",
      "2      watch today . http : //circumcisionmovie.com/   0   0   0\n",
      "3  `` think venu `` first color layer block in fi...   0   0   0\n",
      "4  what about death penalti for perpetr and expel...   0   0   0\n"
     ]
    }
   ],
   "source": [
    "import nltk\n",
    "from nltk.stem import PorterStemmer\n",
    "from nltk.tokenize import word_tokenize\n",
    "\n",
    "#Stemming is an NLP technique used to reducce words to their base or root form. \n",
    "#for eg, the words \"running\", \"runner\", and \"ran\" can all be reduced to the stem \"run\"\n",
    "\n",
    "# Initialize the PorterStemmer\n",
    "stemmer = PorterStemmer()\n",
    "\n",
    "# Define a function to perform stemming\n",
    "def stem_text(text):\n",
    "    if isinstance(text, str):\n",
    "        words = word_tokenize(text)\n",
    "        return ' '.join([stemmer.stem(word) for word in words])\n",
    "    return text\n",
    "\n",
    "# Function to process a chunk\n",
    "def process_chunk(chunk):\n",
    "    return chunk.applymap(stem_text)\n",
    "\n",
    "# Process the train dataset in chunks\n",
    "train_processed_chunks = []\n",
    "chunk_size = 21976  \n",
    "for chunk in pd.read_csv(train_file_path, sep='\\t', chunksize=chunk_size):\n",
    "    processed_chunk = process_chunk(chunk)\n",
    "    train_processed_chunks.append(processed_chunk)\n",
    "\n",
    "# Concatenate all processed chunks into a single DataFrame for train data\n",
    "train_df= pd.concat(train_processed_chunks, ignore_index=True)\n",
    "\n",
    "# Process the test dataset in chunks\n",
    "test_processed_chunks = []\n",
    "for chunk in pd.read_csv(test_file_path, sep='\\t', chunksize=chunk_size):\n",
    "    processed_chunk = process_chunk(chunk)\n",
    "    test_processed_chunks.append(processed_chunk)\n",
    "\n",
    "# Concatenate all processed chunks into a single DataFrame for test data\n",
    "test_df = pd.concat(test_processed_chunks, ignore_index=True)\n",
    "\n",
    "# Display a few rows of the cleaned train DataFrame\n",
    "print(\"Cleaned Train DataFrame:\")\n",
    "print(train_df.head())\n",
    "\n",
    "# Display a few rows of the cleaned test DataFrame\n",
    "print(\"Cleaned Test DataFrame:\")\n",
    "print(test_df.head())\n"
   ]
  },
  {
   "cell_type": "markdown",
   "id": "370bc140",
   "metadata": {},
   "source": [
    "# LEMMITIZATION"
   ]
  },
  {
   "cell_type": "code",
   "execution_count": 26,
   "id": "065bdc92",
   "metadata": {},
   "outputs": [
    {
     "name": "stderr",
     "output_type": "stream",
     "text": [
      "[nltk_data] Downloading package omw-1.4 to\n",
      "[nltk_data]     C:\\Users\\prits\\AppData\\Roaming\\nltk_data...\n",
      "[nltk_data]   Package omw-1.4 is already up-to-date!\n"
     ]
    },
    {
     "data": {
      "text/plain": [
       "True"
      ]
     },
     "execution_count": 26,
     "metadata": {},
     "output_type": "execute_result"
    }
   ],
   "source": [
    "import nltk\n",
    "nltk.download('omw-1.4')\n"
   ]
  },
  {
   "cell_type": "code",
   "execution_count": 27,
   "id": "f2455dc9",
   "metadata": {},
   "outputs": [
    {
     "name": "stderr",
     "output_type": "stream",
     "text": [
      "[nltk_data] Downloading package punkt to\n",
      "[nltk_data]     C:\\Users\\prits\\AppData\\Roaming\\nltk_data...\n",
      "[nltk_data]   Package punkt is already up-to-date!\n",
      "[nltk_data] Downloading package wordnet to\n",
      "[nltk_data]     C:\\Users\\prits\\AppData\\Roaming\\nltk_data...\n",
      "[nltk_data]   Package wordnet is already up-to-date!\n"
     ]
    },
    {
     "name": "stdout",
     "output_type": "stream",
     "text": [
      "Cleaned Train DataFrame:\n",
      "                                                text  hd  cv  vo\n",
      "0  He most likely converted to islam due to his n...   0   0   0\n",
      "1  So Ford lied about being a psychologist . Reco...   0   0   0\n",
      "2  Jobs . Education . Ending abuse of Nation . CA...   0   0   0\n",
      "3  I share a lot of your value , & like many who ...   0   0   0\n",
      "4  I am so ready to get back to blogging ! www.be...   0   0   0\n",
      "Cleaned Test DataFrame:\n",
      "                                                text  hd  cv  vo\n",
      "0  http : //www.youtube.com/watch ? v=kACWpKAKtak...   0   0   0\n",
      "1  Very nice ! I tend to get tired of the constan...   0   0   0\n",
      "2      Watch today . http : //circumcisionmovie.com/   0   0   0\n",
      "3  `` Thinking Venues `` First Color Layer blocki...   0   0   0\n",
      "4  What about death penalty for perpetrator and e...   0   0   0\n"
     ]
    }
   ],
   "source": [
    "#Lemmitization ia a NLP technique that invloves reducing words to thier base or dictionary form, known as the lemma. \n",
    "#eg: words: \"running\", \"ran\", \"runs\" ..... lemma:\"run\"\n",
    "#eg: words: \"better\" (adjective).....lemma:\"good\"\n",
    "\n",
    "\n",
    "import pandas as pd\n",
    "import nltk\n",
    "from nltk.stem import WordNetLemmatizer\n",
    "from nltk.tokenize import word_tokenize\n",
    "\n",
    "# Download the necessary NLTK resources\n",
    "nltk.download('punkt')\n",
    "nltk.download('wordnet')\n",
    "\n",
    "# Initialize the WordNetLemmatizer\n",
    "lemmatizer = WordNetLemmatizer()\n",
    "\n",
    "# Define a function to perform lemmatization\n",
    "def lemmatize_text(text):\n",
    "    if isinstance(text, str):\n",
    "        words = word_tokenize(text)\n",
    "        return ' '.join([lemmatizer.lemmatize(word) for word in words])\n",
    "    return text\n",
    "\n",
    "# Function to process a chunk\n",
    "def process_chunk(chunk):\n",
    "    return chunk.applymap(lemmatize_text)\n",
    "\n",
    "# Process the train dataset in chunks\n",
    "train_processed_chunks = []\n",
    "chunk_size = 21976\n",
    "for chunk in pd.read_csv(train_file_path, sep='\\t', chunksize=chunk_size):\n",
    "    processed_chunk = process_chunk(chunk)\n",
    "    train_processed_chunks.append(processed_chunk)\n",
    "\n",
    "# Concatenate all processed chunks into a single DataFrame for train data\n",
    "train_df_cleaned = pd.concat(train_processed_chunks, ignore_index=True)\n",
    "\n",
    "# Process the test dataset in chunks\n",
    "test_processed_chunks = []\n",
    "for chunk in pd.read_csv(test_file_path, sep='\\t', chunksize=chunk_size):\n",
    "    processed_chunk = process_chunk(chunk)\n",
    "    test_processed_chunks.append(processed_chunk)\n",
    "\n",
    "# Concatenate all processed chunks into a single DataFrame for test data\n",
    "test_df_cleaned = pd.concat(test_processed_chunks, ignore_index=True)\n",
    "\n",
    "# Display a few rows of the cleaned train DataFrame\n",
    "print(\"Cleaned Train DataFrame:\")\n",
    "print(train_df_cleaned.head())\n",
    "\n",
    "# Display a few rows of the cleaned test DataFrame\n",
    "print(\"Cleaned Test DataFrame:\")\n",
    "print(test_df_cleaned.head())\n",
    "\n"
   ]
  },
  {
   "cell_type": "code",
   "execution_count": 28,
   "id": "451b77e0",
   "metadata": {},
   "outputs": [
    {
     "name": "stderr",
     "output_type": "stream",
     "text": [
      "[nltk_data] Downloading package punkt to\n",
      "[nltk_data]     C:\\Users\\prits\\AppData\\Roaming\\nltk_data...\n",
      "[nltk_data]   Package punkt is already up-to-date!\n",
      "[nltk_data] Downloading package stopwords to\n",
      "[nltk_data]     C:\\Users\\prits\\AppData\\Roaming\\nltk_data...\n",
      "[nltk_data]   Package stopwords is already up-to-date!\n"
     ]
    },
    {
     "name": "stdout",
     "output_type": "stream",
     "text": [
      "[('’', 2117), ('like', 1832), ('people', 1743), ('one', 1485), ('get', 1367), ('dont', 1358), ('trump', 1319), ('would', 1290), ('us', 1130), ('know', 1074), ('im', 989), ('time', 989), ('good', 986), ('think', 901), ('see', 882), ('right', 807), ('new', 800), ('want', 766), ('white', 756), ('go', 720), ('need', 706), ('even', 702), ('gab', 698), ('back', 697), ('going', 684), ('make', 673), ('never', 670), ('well', 650), ('way', 621), ('still', 581), ('really', 580), ('take', 575), ('”', 572), ('got', 568), ('“', 561), ('much', 556), ('say', 553), ('day', 545), ('twitter', 532), ('great', 531), ('world', 519), ('many', 511), ('cant', 495), ('could', 494), ('thats', 493), ('free', 488), ('shit', 471), ('jews', 466), ('first', 465), ('years', 461), ('man', 459), ('left', 458), ('also', 454), ('god', 453), ('thing', 446), ('love', 441), ('look', 436), ('news', 432), ('said', 425), ('america', 424), ('every', 422), ('today', 421), ('another', 418), ('president', 414), ('country', 412), ('something', 409), ('real', 405), ('lol', 404), ('media', 398), ('ever', 395), ('nothing', 393), ('live', 385), ('use', 382), ('youre', 369), ('must', 366), ('video', 366), ('fuck', 362), ('post', 357), ('state', 357), ('work', 356), ('little', 356), ('may', 355), ('give', 354), ('anyone', 353), ('better', 352), ('always', 351), ('war', 350), ('women', 350), ('keep', 345), ('sure', 345), ('fucking', 345), ('long', 341), ('2', 340), ('maga', 340), ('black', 334), ('things', 332), ('hate', 332), ('life', 329), ('come', 328), ('read', 328)]\n"
     ]
    }
   ],
   "source": [
    "import pandas as pd\n",
    "import nltk\n",
    "from nltk.corpus import stopwords\n",
    "from nltk.tokenize import word_tokenize\n",
    "from collections import Counter\n",
    "import string\n",
    "\n",
    "# Download necessary NLTK resources\n",
    "nltk.download('punkt')\n",
    "nltk.download('stopwords')\n",
    "\n",
    "# File paths (already provided and loaded)\n",
    "train_file_path = r'C:\\Users\\prits\\Downloads\\Data\\ghc_train.tsv'\n",
    "test_file_path = r'C:\\Users\\prits\\Downloads\\Data\\ghc_test.tsv'\n",
    "\n",
    "train_df = pd.read_csv(train_file_path, sep='\\t')\n",
    "test_df = pd.read_csv(test_file_path, sep='\\t')\n",
    "\n",
    "# Combine train and test datasets\n",
    "combined_df = pd.concat([train_df, test_df], ignore_index=True)\n",
    "\n",
    "# Get the list of stopwords\n",
    "stop_words = set(stopwords.words('english'))\n",
    "\n",
    "# Define a function to preprocess the text\n",
    "def preprocess_text(text):\n",
    "    if isinstance(text, str):\n",
    "        # Remove punctuation\n",
    "        text = text.translate(str.maketrans('', '', string.punctuation))\n",
    "        # Tokenize the text\n",
    "        words = word_tokenize(text)\n",
    "        # Remove stopwords and convert to lowercase\n",
    "        words = [word.lower() for word in words if word.lower() not in stop_words]\n",
    "        return words\n",
    "    return []\n",
    "\n",
    "# Apply preprocessing to the text column (assuming text column is named 'text')\n",
    "combined_df['cleaned_text'] = combined_df['text'].apply(preprocess_text)\n",
    "\n",
    "# Flatten the list of words\n",
    "all_words = [word for words in combined_df['cleaned_text'] for word in words]\n",
    "\n",
    "# Calculate word frequencies\n",
    "word_freq = Counter(all_words)\n",
    "\n",
    "# Display the most common words\n",
    "common_words = word_freq.most_common(100)  # Adjust the number as needed\n",
    "print(common_words)\n"
   ]
  },
  {
   "cell_type": "code",
   "execution_count": 33,
   "id": "da7c990d",
   "metadata": {},
   "outputs": [
    {
     "name": "stdout",
     "output_type": "stream",
     "text": [
      "1\n"
     ]
    }
   ],
   "source": [
    "\n",
    "# Creating DataFrame\n",
    "df = train_df\n",
    "\n",
    "# Adding 'label' column\n",
    "df['label'] = ((df['hd'] == 1) | (df['cv'] == 1) | (df['vo'] == 1)).astype(int)\n",
    "\n",
    "print(df['label'][29])"
   ]
  },
  {
   "cell_type": "markdown",
   "id": "c7e67290",
   "metadata": {},
   "source": [
    "# URL removal, hastags and mentions"
   ]
  },
  {
   "cell_type": "code",
   "execution_count": 34,
   "id": "e52724ed",
   "metadata": {},
   "outputs": [],
   "source": [
    "# removing urls,hastags and mentions\n",
    "def remove_urls_mentions_hashtags(text):\n",
    "    text = re.sub(r'http\\S+|www\\S+|https\\S+', '', text)\n",
    "    text = re.sub(r'\\@\\w+|\\#', '', text)\n",
    "    return text\n",
    "\n",
    "test_df['text'] = test_df['text'].apply(remove_urls_mentions_hashtags)\n",
    "train_df['text'] = train_df['text'].apply(remove_urls_mentions_hashtags)"
   ]
  },
  {
   "cell_type": "code",
   "execution_count": 35,
   "id": "58c88a45",
   "metadata": {},
   "outputs": [],
   "source": [
    "def remove_url(text):\n",
    "    return re.sub(r'http\\S+|www\\S+|https\\S+', '', text, flags=re.MULTILINE)\n",
    "\n",
    "train_df['text'] = train_df['text'].apply(remove_url)"
   ]
  },
  {
   "cell_type": "code",
   "execution_count": 36,
   "id": "1b9a3a75",
   "metadata": {},
   "outputs": [],
   "source": [
    "test_df['text'] = test_df['text'].apply(remove_url)"
   ]
  },
  {
   "cell_type": "code",
   "execution_count": 37,
   "id": "e4a0f49c",
   "metadata": {},
   "outputs": [
    {
     "data": {
      "text/html": [
       "<div>\n",
       "<style scoped>\n",
       "    .dataframe tbody tr th:only-of-type {\n",
       "        vertical-align: middle;\n",
       "    }\n",
       "\n",
       "    .dataframe tbody tr th {\n",
       "        vertical-align: top;\n",
       "    }\n",
       "\n",
       "    .dataframe thead th {\n",
       "        text-align: right;\n",
       "    }\n",
       "</style>\n",
       "<table border=\"1\" class=\"dataframe\">\n",
       "  <thead>\n",
       "    <tr style=\"text-align: right;\">\n",
       "      <th></th>\n",
       "      <th>text</th>\n",
       "      <th>hd</th>\n",
       "      <th>cv</th>\n",
       "      <th>vo</th>\n",
       "    </tr>\n",
       "  </thead>\n",
       "  <tbody>\n",
       "    <tr>\n",
       "      <th>0</th>\n",
       "      <td>A talk on natural law.</td>\n",
       "      <td>0</td>\n",
       "      <td>0</td>\n",
       "      <td>0</td>\n",
       "    </tr>\n",
       "    <tr>\n",
       "      <th>1</th>\n",
       "      <td>Very nice! I tend to get tired of the constant...</td>\n",
       "      <td>0</td>\n",
       "      <td>0</td>\n",
       "      <td>0</td>\n",
       "    </tr>\n",
       "    <tr>\n",
       "      <th>2</th>\n",
       "      <td>Watch today.</td>\n",
       "      <td>0</td>\n",
       "      <td>0</td>\n",
       "      <td>0</td>\n",
       "    </tr>\n",
       "    <tr>\n",
       "      <th>3</th>\n",
       "      <td>\" Thinking Venues \" First Color Layer blocking...</td>\n",
       "      <td>0</td>\n",
       "      <td>0</td>\n",
       "      <td>0</td>\n",
       "    </tr>\n",
       "    <tr>\n",
       "      <th>4</th>\n",
       "      <td>What about death penalty for perpetrators  and...</td>\n",
       "      <td>0</td>\n",
       "      <td>0</td>\n",
       "      <td>0</td>\n",
       "    </tr>\n",
       "  </tbody>\n",
       "</table>\n",
       "</div>"
      ],
      "text/plain": [
       "                                                text  hd  cv  vo\n",
       "0                             A talk on natural law.   0   0   0\n",
       "1  Very nice! I tend to get tired of the constant...   0   0   0\n",
       "2                                      Watch today.    0   0   0\n",
       "3  \" Thinking Venues \" First Color Layer blocking...   0   0   0\n",
       "4  What about death penalty for perpetrators  and...   0   0   0"
      ]
     },
     "execution_count": 37,
     "metadata": {},
     "output_type": "execute_result"
    }
   ],
   "source": [
    "test_df.head()"
   ]
  },
  {
   "cell_type": "code",
   "execution_count": 38,
   "id": "1965fe4f",
   "metadata": {},
   "outputs": [],
   "source": [
    "# Function to check for URLs\n",
    "def contains_url(text):\n",
    "    url_pattern = re.compile(r'http\\S+|www\\S+|https\\S+')\n",
    "    return bool(url_pattern.search(text))\n"
   ]
  },
  {
   "cell_type": "code",
   "execution_count": 39,
   "id": "aca9eb4c",
   "metadata": {},
   "outputs": [
    {
     "name": "stdout",
     "output_type": "stream",
     "text": [
      "Rows with URLs:\n",
      "Empty DataFrame\n",
      "Columns: [text, hd, cv, vo, contains_url]\n",
      "Index: []\n"
     ]
    }
   ],
   "source": [
    "# Apply the function to the text column\n",
    "test_df['contains_url'] = test_df['text'].apply(contains_url)\n",
    "\n",
    "# Filter rows that contain URLs\n",
    "rows_with_urls = test_df[test_df['contains_url']]\n",
    "\n",
    "print(\"Rows with URLs:\")\n",
    "print(rows_with_urls)\n"
   ]
  },
  {
   "cell_type": "code",
   "execution_count": 40,
   "id": "deaadba4",
   "metadata": {},
   "outputs": [
    {
     "data": {
      "text/html": [
       "<div>\n",
       "<style scoped>\n",
       "    .dataframe tbody tr th:only-of-type {\n",
       "        vertical-align: middle;\n",
       "    }\n",
       "\n",
       "    .dataframe tbody tr th {\n",
       "        vertical-align: top;\n",
       "    }\n",
       "\n",
       "    .dataframe thead th {\n",
       "        text-align: right;\n",
       "    }\n",
       "</style>\n",
       "<table border=\"1\" class=\"dataframe\">\n",
       "  <thead>\n",
       "    <tr style=\"text-align: right;\">\n",
       "      <th></th>\n",
       "      <th>text</th>\n",
       "      <th>hd</th>\n",
       "      <th>cv</th>\n",
       "      <th>vo</th>\n",
       "      <th>contains_url</th>\n",
       "    </tr>\n",
       "  </thead>\n",
       "  <tbody>\n",
       "    <tr>\n",
       "      <th>0</th>\n",
       "      <td>A talk on natural law.</td>\n",
       "      <td>0</td>\n",
       "      <td>0</td>\n",
       "      <td>0</td>\n",
       "      <td>False</td>\n",
       "    </tr>\n",
       "    <tr>\n",
       "      <th>1</th>\n",
       "      <td>Very nice! I tend to get tired of the constant...</td>\n",
       "      <td>0</td>\n",
       "      <td>0</td>\n",
       "      <td>0</td>\n",
       "      <td>False</td>\n",
       "    </tr>\n",
       "    <tr>\n",
       "      <th>2</th>\n",
       "      <td>Watch today.</td>\n",
       "      <td>0</td>\n",
       "      <td>0</td>\n",
       "      <td>0</td>\n",
       "      <td>False</td>\n",
       "    </tr>\n",
       "    <tr>\n",
       "      <th>3</th>\n",
       "      <td>\" Thinking Venues \" First Color Layer blocking...</td>\n",
       "      <td>0</td>\n",
       "      <td>0</td>\n",
       "      <td>0</td>\n",
       "      <td>False</td>\n",
       "    </tr>\n",
       "    <tr>\n",
       "      <th>4</th>\n",
       "      <td>What about death penalty for perpetrators  and...</td>\n",
       "      <td>0</td>\n",
       "      <td>0</td>\n",
       "      <td>0</td>\n",
       "      <td>False</td>\n",
       "    </tr>\n",
       "    <tr>\n",
       "      <th>5</th>\n",
       "      <td>You have insecurities? Fuck you</td>\n",
       "      <td>0</td>\n",
       "      <td>0</td>\n",
       "      <td>0</td>\n",
       "      <td>False</td>\n",
       "    </tr>\n",
       "    <tr>\n",
       "      <th>6</th>\n",
       "      <td>Powerful Truths About Donald Trump the Media D...</td>\n",
       "      <td>0</td>\n",
       "      <td>0</td>\n",
       "      <td>0</td>\n",
       "      <td>False</td>\n",
       "    </tr>\n",
       "    <tr>\n",
       "      <th>7</th>\n",
       "      <td>Just saw an Oreo cookie commercial. Drool.</td>\n",
       "      <td>0</td>\n",
       "      <td>0</td>\n",
       "      <td>0</td>\n",
       "      <td>False</td>\n",
       "    </tr>\n",
       "    <tr>\n",
       "      <th>8</th>\n",
       "      <td>I bet a neural net with half a dozen nodes co...</td>\n",
       "      <td>0</td>\n",
       "      <td>0</td>\n",
       "      <td>0</td>\n",
       "      <td>False</td>\n",
       "    </tr>\n",
       "    <tr>\n",
       "      <th>9</th>\n",
       "      <td>Country by country, the 'Prague Spring' that w...</td>\n",
       "      <td>0</td>\n",
       "      <td>0</td>\n",
       "      <td>0</td>\n",
       "      <td>False</td>\n",
       "    </tr>\n",
       "  </tbody>\n",
       "</table>\n",
       "</div>"
      ],
      "text/plain": [
       "                                                text  hd  cv  vo  contains_url\n",
       "0                             A talk on natural law.   0   0   0         False\n",
       "1  Very nice! I tend to get tired of the constant...   0   0   0         False\n",
       "2                                      Watch today.    0   0   0         False\n",
       "3  \" Thinking Venues \" First Color Layer blocking...   0   0   0         False\n",
       "4  What about death penalty for perpetrators  and...   0   0   0         False\n",
       "5                   You have insecurities? Fuck you    0   0   0         False\n",
       "6  Powerful Truths About Donald Trump the Media D...   0   0   0         False\n",
       "7         Just saw an Oreo cookie commercial. Drool.   0   0   0         False\n",
       "8   I bet a neural net with half a dozen nodes co...   0   0   0         False\n",
       "9  Country by country, the 'Prague Spring' that w...   0   0   0         False"
      ]
     },
     "execution_count": 40,
     "metadata": {},
     "output_type": "execute_result"
    }
   ],
   "source": [
    "test_df.head(10)"
   ]
  },
  {
   "cell_type": "markdown",
   "id": "65cd9e63",
   "metadata": {},
   "source": [
    "# Emoji removal"
   ]
  },
  {
   "cell_type": "code",
   "execution_count": 38,
   "id": "5e5571f3",
   "metadata": {},
   "outputs": [
    {
     "name": "stdout",
     "output_type": "stream",
     "text": [
      "Requirement already satisfied: emoji in c:\\users\\prits\\anaconda3\\lib\\site-packages (2.12.1)\n",
      "Requirement already satisfied: typing-extensions>=4.7.0 in c:\\users\\prits\\anaconda3\\lib\\site-packages (from emoji) (4.11.0)\n",
      "Note: you may need to restart the kernel to use updated packages.\n"
     ]
    }
   ],
   "source": [
    "pip install emoji"
   ]
  },
  {
   "cell_type": "code",
   "execution_count": 41,
   "id": "13e76514",
   "metadata": {},
   "outputs": [],
   "source": [
    "#emoji removal\n",
    "import pandas as pd\n",
    "import emoji\n",
    "\n",
    "# Load dataset from CSV file\n",
    "#df = pd.read_csv('your_dataset.csv')\n",
    "\n",
    "# Define a function to replace emoji codes with descriptive text\n",
    "def replace_emojis(text):\n",
    "    return emoji.demojize(text)\n",
    "\n",
    "# Replace emoji codes in a specific column (e.g., 'text_column')\n",
    "train_df['text'] = train_df['text'].apply(replace_emojis)\n",
    "test_df['text'] = test_df['text'].apply(replace_emojis)\n",
    "\n",
    "# Save the updated dataset to a new CSV file\n",
    "#df.to_csv('updated_dataset.csv', index=False)\n"
   ]
  },
  {
   "cell_type": "code",
   "execution_count": 42,
   "id": "063e925d",
   "metadata": {},
   "outputs": [
    {
     "data": {
      "text/html": [
       "<div>\n",
       "<style scoped>\n",
       "    .dataframe tbody tr th:only-of-type {\n",
       "        vertical-align: middle;\n",
       "    }\n",
       "\n",
       "    .dataframe tbody tr th {\n",
       "        vertical-align: top;\n",
       "    }\n",
       "\n",
       "    .dataframe thead th {\n",
       "        text-align: right;\n",
       "    }\n",
       "</style>\n",
       "<table border=\"1\" class=\"dataframe\">\n",
       "  <thead>\n",
       "    <tr style=\"text-align: right;\">\n",
       "      <th></th>\n",
       "      <th>text</th>\n",
       "      <th>hd</th>\n",
       "      <th>cv</th>\n",
       "      <th>vo</th>\n",
       "      <th>label</th>\n",
       "    </tr>\n",
       "  </thead>\n",
       "  <tbody>\n",
       "    <tr>\n",
       "      <th>0</th>\n",
       "      <td>He most likely converted to islam due to his n...</td>\n",
       "      <td>0</td>\n",
       "      <td>0</td>\n",
       "      <td>0</td>\n",
       "      <td>0</td>\n",
       "    </tr>\n",
       "    <tr>\n",
       "      <th>1</th>\n",
       "      <td>So Ford lied about being a psychologist. Recor...</td>\n",
       "      <td>0</td>\n",
       "      <td>0</td>\n",
       "      <td>0</td>\n",
       "      <td>0</td>\n",
       "    </tr>\n",
       "    <tr>\n",
       "      <th>2</th>\n",
       "      <td>Jobs. Education. Ending abuse of Nation. CA43.</td>\n",
       "      <td>0</td>\n",
       "      <td>0</td>\n",
       "      <td>0</td>\n",
       "      <td>0</td>\n",
       "    </tr>\n",
       "    <tr>\n",
       "      <th>3</th>\n",
       "      <td>I share a lot of your values, &amp; like many who ...</td>\n",
       "      <td>0</td>\n",
       "      <td>0</td>\n",
       "      <td>0</td>\n",
       "      <td>0</td>\n",
       "    </tr>\n",
       "    <tr>\n",
       "      <th>4</th>\n",
       "      <td>I am so ready to get back to blogging!  recipe...</td>\n",
       "      <td>0</td>\n",
       "      <td>0</td>\n",
       "      <td>0</td>\n",
       "      <td>0</td>\n",
       "    </tr>\n",
       "    <tr>\n",
       "      <th>5</th>\n",
       "      <td>taking a look at new opportunity called FX Pro...</td>\n",
       "      <td>0</td>\n",
       "      <td>0</td>\n",
       "      <td>0</td>\n",
       "      <td>0</td>\n",
       "    </tr>\n",
       "    <tr>\n",
       "      <th>6</th>\n",
       "      <td>Reflecting back when I was in school with Spec...</td>\n",
       "      <td>0</td>\n",
       "      <td>0</td>\n",
       "      <td>0</td>\n",
       "      <td>0</td>\n",
       "    </tr>\n",
       "    <tr>\n",
       "      <th>7</th>\n",
       "      <td>Let's be honest everyone, last year there were...</td>\n",
       "      <td>0</td>\n",
       "      <td>0</td>\n",
       "      <td>0</td>\n",
       "      <td>0</td>\n",
       "    </tr>\n",
       "    <tr>\n",
       "      <th>8</th>\n",
       "      <td>2007 Nuke plant in Syria</td>\n",
       "      <td>0</td>\n",
       "      <td>0</td>\n",
       "      <td>0</td>\n",
       "      <td>0</td>\n",
       "    </tr>\n",
       "    <tr>\n",
       "      <th>9</th>\n",
       "      <td>NBC's Chuck Todd Thinks He's Figured It All Ou...</td>\n",
       "      <td>0</td>\n",
       "      <td>0</td>\n",
       "      <td>0</td>\n",
       "      <td>0</td>\n",
       "    </tr>\n",
       "  </tbody>\n",
       "</table>\n",
       "</div>"
      ],
      "text/plain": [
       "                                                text  hd  cv  vo  label\n",
       "0  He most likely converted to islam due to his n...   0   0   0      0\n",
       "1  So Ford lied about being a psychologist. Recor...   0   0   0      0\n",
       "2     Jobs. Education. Ending abuse of Nation. CA43.   0   0   0      0\n",
       "3  I share a lot of your values, & like many who ...   0   0   0      0\n",
       "4  I am so ready to get back to blogging!  recipe...   0   0   0      0\n",
       "5  taking a look at new opportunity called FX Pro...   0   0   0      0\n",
       "6  Reflecting back when I was in school with Spec...   0   0   0      0\n",
       "7  Let's be honest everyone, last year there were...   0   0   0      0\n",
       "8                          2007 Nuke plant in Syria    0   0   0      0\n",
       "9  NBC's Chuck Todd Thinks He's Figured It All Ou...   0   0   0      0"
      ]
     },
     "execution_count": 42,
     "metadata": {},
     "output_type": "execute_result"
    }
   ],
   "source": [
    "train_df.head(10)"
   ]
  },
  {
   "cell_type": "code",
   "execution_count": 43,
   "id": "35d7110b",
   "metadata": {},
   "outputs": [
    {
     "name": "stdout",
     "output_type": "stream",
     "text": [
      "NBC's Chuck Todd Thinks He's Figured It All Out :grinning_squinting_face: \n"
     ]
    }
   ],
   "source": [
    "specific_text = train_df.loc[9, 'text']\n",
    "print(specific_text) "
   ]
  },
  {
   "cell_type": "code",
   "execution_count": 44,
   "id": "652769b7",
   "metadata": {},
   "outputs": [
    {
     "name": "stdout",
     "output_type": "stream",
     "text": [
      ":trophy: Precious Metals: \n"
     ]
    }
   ],
   "source": [
    "specific_text = test_df.loc[16, 'text']\n",
    "print(specific_text) "
   ]
  },
  {
   "cell_type": "code",
   "execution_count": 45,
   "id": "3e97af2a",
   "metadata": {},
   "outputs": [],
   "source": [
    "train_df['text'] = train_df['text'].str.replace('_', '  ', regex=True) "
   ]
  },
  {
   "cell_type": "code",
   "execution_count": 46,
   "id": "b5433812",
   "metadata": {},
   "outputs": [
    {
     "name": "stdout",
     "output_type": "stream",
     "text": [
      "NBC's Chuck Todd Thinks He's Figured It All Out :grinning  squinting  face: \n"
     ]
    }
   ],
   "source": [
    "specific_text = train_df.loc[9, 'text']\n",
    "print(specific_text) "
   ]
  },
  {
   "cell_type": "markdown",
   "id": "79171026",
   "metadata": {},
   "source": [
    "# ABBREVIATION TREATMENT "
   ]
  },
  {
   "cell_type": "code",
   "execution_count": 47,
   "id": "922aabf9",
   "metadata": {
    "scrolled": true
   },
   "outputs": [
    {
     "name": "stdout",
     "output_type": "stream",
     "text": [
      "                                                    text  hd  cv  vo  label\n",
      "0      He most likely converted to islam due to his n...   0   0   0      0\n",
      "1      So Ford lied about being a psychologist. Recor...   0   0   0      0\n",
      "2      Jobs. Education. Ending abuse of Nation. Calif...   0   0   0      0\n",
      "3      I share a lot of your values, & like many who ...   0   0   0      0\n",
      "4      I am so ready to get back to blogging!  recipe...   0   0   0      0\n",
      "...                                                  ...  ..  ..  ..    ...\n",
      "22031  I'm a fan of western civilization, and one bed...   0   0   0      0\n",
      "22032  Or ... is she saying that Muslims don't know h...   0   0   0      0\n",
      "22033  Thank you to all my followers that follow me e...   0   0   0      0\n",
      "22034                                  Wednesday music.    0   0   0      0\n",
      "22035                   This is a really Big Surprise!     0   0   0      0\n",
      "\n",
      "[22036 rows x 5 columns]\n"
     ]
    }
   ],
   "source": [
    "import pandas as pd\n",
    "chat_words = {\n",
    "    'AFAIK': 'As Far As I Know',\n",
    "    'CA43': 'Californias 43rd congressional district',\n",
    "    'FX': 'Foreign Exchange',\n",
    "    'A.D.D': 'Attention Deficit Disorder',\n",
    "    'NBC': 'National Broadcasting Company',\n",
    "    'FB': 'Facebook',          \n",
    "    'AFK': 'Away From Keyboard',\n",
    "    'ASAP': 'As Soon As Possible',         \n",
    "    'ATK': 'At The Keyboard',\n",
    "    'ATM': 'At The Moment',\n",
    "    'A3': 'Anytime, Anywhere, Anyplace',\n",
    "    'BAK': 'Back At Keyboard',\n",
    "    'BBL': 'Be Back Later',\n",
    "    'BBS': 'Be Back Soon',\n",
    "    'BFN': 'Bye For Now',\n",
    "    'B4N': 'Bye For Now',\n",
    "    'BRB': 'Be Right Back',\n",
    "    'BRT': 'Be Right There',\n",
    "    'BTW': 'By The Way',\n",
    "    'B4': 'Before',\n",
    "    'CU': 'See You',\n",
    "    'CUL8R': 'See You Later',\n",
    "    'CYA': 'See You',\n",
    "    'FAQ': 'Frequently Asked Questions',\n",
    "    'FC': 'Fingers Crossed',\n",
    "    'FWIW': 'For What Its Worth',\n",
    "    'FYI': 'For Your Information',\n",
    "    'GAL': 'Get A Life',\n",
    "    'GG': 'Good Game',\n",
    "    'GN': 'Good Night',\n",
    "    'GMTA': 'Great Minds Think Alike',\n",
    "    'GR8': 'Great!',\n",
    "    'G9': 'Genius',\n",
    "    'IC': 'I See',\n",
    "    'ICQ': 'I Seek you (also a chat program)',\n",
    "    'ILU': 'I Love You',\n",
    "    'IMHO': 'In My Honest/Humble Opinion',\n",
    "    'IMO': 'In My Opinion',\n",
    "    'IOW': 'In Other Words',\n",
    "    'IRL': 'In Real Life',\n",
    "    'KISS': 'Keep It Simple, Stupid',\n",
    "    'LDR': 'Long Distance Relationship',\n",
    "    'LMAO': 'Laugh My A.. Off',\n",
    "    'LOL': 'Laughing Out Loud',\n",
    "    'LTNS': 'Long Time No See',\n",
    "    'L8R': 'Later',\n",
    "    'MTE': 'My Thoughts Exactly',\n",
    "    'M8': 'Mate',\n",
    "    'NRN': 'No Reply Necessary',\n",
    "    'OIC': 'Oh I See',\n",
    "    'PITA': 'Pain In The A..',\n",
    "    'PRT': 'Party',\n",
    "    'PRW': 'Parents Are Watching',\n",
    "    'QPSA': 'Que Pasa?',\n",
    "    'ROFL': 'Rolling On The Floor Laughing',\n",
    "    'ROFLOL': 'Rolling On The Floor Laughing Out Loud',\n",
    "    'ROTFLMAO': 'Rolling On The Floor Laughing My A.. Off',\n",
    "    'SK8': 'Skate',\n",
    "    'STATS': 'Your sex and age',\n",
    "    'ASL': 'Age, Sex, Location',\n",
    "    'THX': 'Thank You',\n",
    "    'TTFN': 'Ta-Ta For Now!',\n",
    "    'TTYL': 'Talk To You Later',\n",
    "    'U': 'You',\n",
    "    'U2': 'You Too',\n",
    "    'U4E': 'Yours For Ever',\n",
    "    'WB': 'Welcome Back',\n",
    "    'WTF': 'What The Fuck',\n",
    "    'WTG': 'Way To Go!',\n",
    "    'WUF': 'Where Are You From?',\n",
    "    'W8': 'Wait...',\n",
    "    '7K': 'Sick'\n",
    "}\n",
    "\n",
    "# Function to replace chat words in text\n",
    "def replace_chat_words(text):\n",
    "    for word, full_form in chat_words.items():\n",
    "        text = text.replace(word, full_form)\n",
    "    return text\n",
    "\n",
    "# Applying the function to the 'text' column of the DataFrame\n",
    "train_df['text'] = train_df['text'].apply(replace_chat_words)\n",
    "\n",
    "# Display the updated DataFrame\n",
    "print(train_df)"
   ]
  },
  {
   "cell_type": "markdown",
   "id": "ebc54965",
   "metadata": {},
   "source": [
    "# Lowercasing"
   ]
  },
  {
   "cell_type": "code",
   "execution_count": 48,
   "id": "24fc539a",
   "metadata": {},
   "outputs": [],
   "source": [
    "train_df['text']=train_df['text'].str.lower()"
   ]
  },
  {
   "cell_type": "code",
   "execution_count": 49,
   "id": "a075d2e6",
   "metadata": {},
   "outputs": [
    {
     "data": {
      "text/html": [
       "<div>\n",
       "<style scoped>\n",
       "    .dataframe tbody tr th:only-of-type {\n",
       "        vertical-align: middle;\n",
       "    }\n",
       "\n",
       "    .dataframe tbody tr th {\n",
       "        vertical-align: top;\n",
       "    }\n",
       "\n",
       "    .dataframe thead th {\n",
       "        text-align: right;\n",
       "    }\n",
       "</style>\n",
       "<table border=\"1\" class=\"dataframe\">\n",
       "  <thead>\n",
       "    <tr style=\"text-align: right;\">\n",
       "      <th></th>\n",
       "      <th>text</th>\n",
       "      <th>hd</th>\n",
       "      <th>cv</th>\n",
       "      <th>vo</th>\n",
       "      <th>label</th>\n",
       "    </tr>\n",
       "  </thead>\n",
       "  <tbody>\n",
       "    <tr>\n",
       "      <th>22031</th>\n",
       "      <td>i'm a fan of western civilization, and one bed...</td>\n",
       "      <td>0</td>\n",
       "      <td>0</td>\n",
       "      <td>0</td>\n",
       "      <td>0</td>\n",
       "    </tr>\n",
       "    <tr>\n",
       "      <th>22032</th>\n",
       "      <td>or ... is she saying that muslims don't know h...</td>\n",
       "      <td>0</td>\n",
       "      <td>0</td>\n",
       "      <td>0</td>\n",
       "      <td>0</td>\n",
       "    </tr>\n",
       "    <tr>\n",
       "      <th>22033</th>\n",
       "      <td>thank you to all my followers that follow me e...</td>\n",
       "      <td>0</td>\n",
       "      <td>0</td>\n",
       "      <td>0</td>\n",
       "      <td>0</td>\n",
       "    </tr>\n",
       "    <tr>\n",
       "      <th>22034</th>\n",
       "      <td>wednesday music.</td>\n",
       "      <td>0</td>\n",
       "      <td>0</td>\n",
       "      <td>0</td>\n",
       "      <td>0</td>\n",
       "    </tr>\n",
       "    <tr>\n",
       "      <th>22035</th>\n",
       "      <td>this is a really big surprise!</td>\n",
       "      <td>0</td>\n",
       "      <td>0</td>\n",
       "      <td>0</td>\n",
       "      <td>0</td>\n",
       "    </tr>\n",
       "  </tbody>\n",
       "</table>\n",
       "</div>"
      ],
      "text/plain": [
       "                                                    text  hd  cv  vo  label\n",
       "22031  i'm a fan of western civilization, and one bed...   0   0   0      0\n",
       "22032  or ... is she saying that muslims don't know h...   0   0   0      0\n",
       "22033  thank you to all my followers that follow me e...   0   0   0      0\n",
       "22034                                  wednesday music.    0   0   0      0\n",
       "22035                   this is a really big surprise!     0   0   0      0"
      ]
     },
     "execution_count": 49,
     "metadata": {},
     "output_type": "execute_result"
    }
   ],
   "source": [
    "train_df.tail()"
   ]
  },
  {
   "cell_type": "code",
   "execution_count": 50,
   "id": "d231dcbb",
   "metadata": {},
   "outputs": [
    {
     "name": "stdout",
     "output_type": "stream",
     "text": [
      "text     260\n",
      "hd         0\n",
      "cv         0\n",
      "vo         0\n",
      "label      0\n",
      "dtype: int64\n"
     ]
    }
   ],
   "source": [
    "import pandas as pd\n",
    "import numpy as np\n",
    "\n",
    "train_df.replace(r'^\\s*$', np.nan, regex=True, inplace=True)\n",
    "null_counts = train_df.isnull().sum()\n",
    "\n",
    "print(null_counts)\n"
   ]
  },
  {
   "cell_type": "code",
   "execution_count": 51,
   "id": "4fd0aef6",
   "metadata": {},
   "outputs": [],
   "source": [
    "train_df = train_df.dropna().loc[(train_df['text'] != '[deleted]') & (train_df['text'] != '[removed]')]"
   ]
  },
  {
   "cell_type": "code",
   "execution_count": 52,
   "id": "25fef3a3",
   "metadata": {},
   "outputs": [
    {
     "name": "stdout",
     "output_type": "stream",
     "text": [
      "<bound method NDFrame.head of                                                     text  hd  cv  vo  label\n",
      "0      he most likely converted to islam due to his n...   0   0   0      0\n",
      "1      so ford lied about being a psychologist record...   0   0   0      0\n",
      "2      jobs education ending abuse of nation californ...   0   0   0      0\n",
      "3      i share a lot of your values  like many who do...   0   0   0      0\n",
      "4      i am so ready to get back to blogging  recipes...   0   0   0      0\n",
      "...                                                  ...  ..  ..  ..    ...\n",
      "22031  im a fan of western civilization and one bedro...   0   0   0      0\n",
      "22032  or  is she saying that muslims dont know how t...   0   0   0      0\n",
      "22033  thank you to all my followers that follow me e...   0   0   0      0\n",
      "22034                                   wednesday music    0   0   0      0\n",
      "22035                    this is a really big surprise     0   0   0      0\n",
      "\n",
      "[21776 rows x 5 columns]>\n"
     ]
    }
   ],
   "source": [
    "# Remove punctuations and symbols\n",
    "def remove_punctuation_and_special_chars(text):\n",
    "    if isinstance(text, str):\n",
    "        # Remove punctuations\n",
    "        text = text.translate(str.maketrans('', '', string.punctuation))\n",
    "        # Remove specific unwanted characters\n",
    "        special_chars = ['Â', 'â€Â', 'â€™']\n",
    "        for char in special_chars:\n",
    "            text = text.replace(char, '')\n",
    "    return text\n",
    "\n",
    "# Apply the function to all string cells in the DataFrame\n",
    "train_df = train_df.applymap( remove_punctuation_and_special_chars)\n",
    "print(train_df.head)\n"
   ]
  },
  {
   "cell_type": "code",
   "execution_count": null,
   "id": "dd612fd1",
   "metadata": {},
   "outputs": [],
   "source": []
  },
  {
   "cell_type": "code",
   "execution_count": 53,
   "id": "15fe4232",
   "metadata": {},
   "outputs": [],
   "source": [
    "cleaned_train_file_path = r'C:\\Users\\prits\\Downloads\\Data\\cleaned_ghc_train.csv'\n",
    "cleaned_test_file_path = r'C:\\Users\\prits\\Downloads\\Data\\cleaned_ghc_test.csv'\n",
    "\n",
    "train_df.to_csv(cleaned_train_file_path, sep=',', index=False)\n",
    "test_df.to_csv(cleaned_test_file_path, sep=',', index=False)"
   ]
  }
 ],
 "metadata": {
  "kernelspec": {
   "display_name": "Python 3 (ipykernel)",
   "language": "python",
   "name": "python3"
  },
  "language_info": {
   "codemirror_mode": {
    "name": "ipython",
    "version": 3
   },
   "file_extension": ".py",
   "mimetype": "text/x-python",
   "name": "python",
   "nbconvert_exporter": "python",
   "pygments_lexer": "ipython3",
   "version": "3.9.12"
  }
 },
 "nbformat": 4,
 "nbformat_minor": 5
}
