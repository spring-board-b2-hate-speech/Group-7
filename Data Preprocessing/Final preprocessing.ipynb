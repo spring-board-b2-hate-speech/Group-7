{
 "cells": [
  {
   "cell_type": "code",
   "execution_count": 26,
   "id": "19d38794-83e7-45d5-9776-736f03fb240c",
   "metadata": {},
   "outputs": [],
   "source": [
    "# Basic Python package\n",
    "import pandas as pd\n",
    "import numpy as np\n",
    "import seaborn as sns\n",
    "import matplotlib.pyplot as plt\n",
    "import string \n",
    "import re"
   ]
  },
  {
   "cell_type": "code",
   "execution_count": 2,
   "id": "b08b2d9e-b8e0-4771-a918-6ef7aac78537",
   "metadata": {},
   "outputs": [],
   "source": [
    "#importing the required file\n",
    "train_file_path = r'F:\\moVies\\Springboard\\data\\ghc_train.tsv'\n",
    "test_file_path = r'F:\\moVies\\Springboard\\data\\ghc_test.tsv'\n",
    "train_df = pd.read_csv(train_file_path, sep='\\t')\n",
    "test_df = pd.read_csv(test_file_path, sep='\\t')"
   ]
  },
  {
   "cell_type": "code",
   "execution_count": 3,
   "id": "9d075c81-5fe9-4f20-a049-94f6e94771c1",
   "metadata": {},
   "outputs": [
    {
     "data": {
      "text/plain": [
       "Index(['text', 'hd', 'cv', 'vo'], dtype='object')"
      ]
     },
     "execution_count": 3,
     "metadata": {},
     "output_type": "execute_result"
    }
   ],
   "source": [
    "#To know are the columns in our dataset\n",
    "# Columns: Assault on Human Dignity (hd), Calls for Violence (cv), Vulgarity/Offensive Language directed at an individual (vo)\n",
    "train_df.columns"
   ]
  },
  {
   "cell_type": "code",
   "execution_count": 4,
   "id": "b7750323-d67f-41a9-b0ad-083093cfb856",
   "metadata": {},
   "outputs": [
    {
     "data": {
      "text/html": [
       "<div>\n",
       "<style scoped>\n",
       "    .dataframe tbody tr th:only-of-type {\n",
       "        vertical-align: middle;\n",
       "    }\n",
       "\n",
       "    .dataframe tbody tr th {\n",
       "        vertical-align: top;\n",
       "    }\n",
       "\n",
       "    .dataframe thead th {\n",
       "        text-align: right;\n",
       "    }\n",
       "</style>\n",
       "<table border=\"1\" class=\"dataframe\">\n",
       "  <thead>\n",
       "    <tr style=\"text-align: right;\">\n",
       "      <th></th>\n",
       "      <th>text</th>\n",
       "      <th>hd</th>\n",
       "      <th>cv</th>\n",
       "      <th>vo</th>\n",
       "    </tr>\n",
       "  </thead>\n",
       "  <tbody>\n",
       "    <tr>\n",
       "      <th>0</th>\n",
       "      <td>He most likely converted to islam due to his n...</td>\n",
       "      <td>0</td>\n",
       "      <td>0</td>\n",
       "      <td>0</td>\n",
       "    </tr>\n",
       "    <tr>\n",
       "      <th>1</th>\n",
       "      <td>So Ford lied about being a psychologist. Recor...</td>\n",
       "      <td>0</td>\n",
       "      <td>0</td>\n",
       "      <td>0</td>\n",
       "    </tr>\n",
       "    <tr>\n",
       "      <th>2</th>\n",
       "      <td>Jobs. Education. Ending abuse of Nation. CA43.</td>\n",
       "      <td>0</td>\n",
       "      <td>0</td>\n",
       "      <td>0</td>\n",
       "    </tr>\n",
       "    <tr>\n",
       "      <th>3</th>\n",
       "      <td>I share a lot of your values, &amp; like many who ...</td>\n",
       "      <td>0</td>\n",
       "      <td>0</td>\n",
       "      <td>0</td>\n",
       "    </tr>\n",
       "    <tr>\n",
       "      <th>4</th>\n",
       "      <td>I am so ready to get back to blogging! www.ben...</td>\n",
       "      <td>0</td>\n",
       "      <td>0</td>\n",
       "      <td>0</td>\n",
       "    </tr>\n",
       "    <tr>\n",
       "      <th>5</th>\n",
       "      <td>taking a look at new opportunity called FX Pro...</td>\n",
       "      <td>0</td>\n",
       "      <td>0</td>\n",
       "      <td>0</td>\n",
       "    </tr>\n",
       "    <tr>\n",
       "      <th>6</th>\n",
       "      <td>Reflecting back when I was in school with Spec...</td>\n",
       "      <td>0</td>\n",
       "      <td>0</td>\n",
       "      <td>0</td>\n",
       "    </tr>\n",
       "    <tr>\n",
       "      <th>7</th>\n",
       "      <td>Let's be honest everyone, last year there were...</td>\n",
       "      <td>0</td>\n",
       "      <td>0</td>\n",
       "      <td>0</td>\n",
       "    </tr>\n",
       "    <tr>\n",
       "      <th>8</th>\n",
       "      <td>2007 Nuke plant in Syria</td>\n",
       "      <td>0</td>\n",
       "      <td>0</td>\n",
       "      <td>0</td>\n",
       "    </tr>\n",
       "    <tr>\n",
       "      <th>9</th>\n",
       "      <td>NBC's Chuck Todd Thinks He's Figured It All Ou...</td>\n",
       "      <td>0</td>\n",
       "      <td>0</td>\n",
       "      <td>0</td>\n",
       "    </tr>\n",
       "  </tbody>\n",
       "</table>\n",
       "</div>"
      ],
      "text/plain": [
       "                                                text  hd  cv  vo\n",
       "0  He most likely converted to islam due to his n...   0   0   0\n",
       "1  So Ford lied about being a psychologist. Recor...   0   0   0\n",
       "2     Jobs. Education. Ending abuse of Nation. CA43.   0   0   0\n",
       "3  I share a lot of your values, & like many who ...   0   0   0\n",
       "4  I am so ready to get back to blogging! www.ben...   0   0   0\n",
       "5  taking a look at new opportunity called FX Pro...   0   0   0\n",
       "6  Reflecting back when I was in school with Spec...   0   0   0\n",
       "7  Let's be honest everyone, last year there were...   0   0   0\n",
       "8                          2007 Nuke plant in Syria    0   0   0\n",
       "9  NBC's Chuck Todd Thinks He's Figured It All Ou...   0   0   0"
      ]
     },
     "execution_count": 4,
     "metadata": {},
     "output_type": "execute_result"
    }
   ],
   "source": [
    "#Top 10 rows in our dataset\n",
    "train_df.head(10)"
   ]
  },
  {
   "cell_type": "code",
   "execution_count": 5,
   "id": "87a867d1-be4a-49fc-9796-c1faa0330d4c",
   "metadata": {},
   "outputs": [
    {
     "data": {
      "text/html": [
       "<div>\n",
       "<style scoped>\n",
       "    .dataframe tbody tr th:only-of-type {\n",
       "        vertical-align: middle;\n",
       "    }\n",
       "\n",
       "    .dataframe tbody tr th {\n",
       "        vertical-align: top;\n",
       "    }\n",
       "\n",
       "    .dataframe thead th {\n",
       "        text-align: right;\n",
       "    }\n",
       "</style>\n",
       "<table border=\"1\" class=\"dataframe\">\n",
       "  <thead>\n",
       "    <tr style=\"text-align: right;\">\n",
       "      <th></th>\n",
       "      <th>text</th>\n",
       "      <th>hd</th>\n",
       "      <th>cv</th>\n",
       "      <th>vo</th>\n",
       "    </tr>\n",
       "  </thead>\n",
       "  <tbody>\n",
       "    <tr>\n",
       "      <th>22026</th>\n",
       "      <td>What does Gab-Pro give ya?</td>\n",
       "      <td>0</td>\n",
       "      <td>0</td>\n",
       "      <td>0</td>\n",
       "    </tr>\n",
       "    <tr>\n",
       "      <th>22027</th>\n",
       "      <td>#354 TRUMP POLLS VS MEDIA MELTDOWN! | Jordan P...</td>\n",
       "      <td>0</td>\n",
       "      <td>0</td>\n",
       "      <td>0</td>\n",
       "    </tr>\n",
       "    <tr>\n",
       "      <th>22028</th>\n",
       "      <td>The Founders never EVER dealt with a group tha...</td>\n",
       "      <td>0</td>\n",
       "      <td>0</td>\n",
       "      <td>0</td>\n",
       "    </tr>\n",
       "    <tr>\n",
       "      <th>22029</th>\n",
       "      <td>Man [homosexually] molests 15-year-old boy on ...</td>\n",
       "      <td>0</td>\n",
       "      <td>0</td>\n",
       "      <td>0</td>\n",
       "    </tr>\n",
       "    <tr>\n",
       "      <th>22030</th>\n",
       "      <td>So I saw #Skyscraper for you #GabFam. Now I ha...</td>\n",
       "      <td>0</td>\n",
       "      <td>0</td>\n",
       "      <td>0</td>\n",
       "    </tr>\n",
       "    <tr>\n",
       "      <th>22031</th>\n",
       "      <td>I'm a fan of western civilization, and one bed...</td>\n",
       "      <td>0</td>\n",
       "      <td>0</td>\n",
       "      <td>0</td>\n",
       "    </tr>\n",
       "    <tr>\n",
       "      <th>22032</th>\n",
       "      <td>Or ... is she saying that Muslims don't know h...</td>\n",
       "      <td>0</td>\n",
       "      <td>0</td>\n",
       "      <td>0</td>\n",
       "    </tr>\n",
       "    <tr>\n",
       "      <th>22033</th>\n",
       "      <td>Thank you to all my followers that follow me e...</td>\n",
       "      <td>0</td>\n",
       "      <td>0</td>\n",
       "      <td>0</td>\n",
       "    </tr>\n",
       "    <tr>\n",
       "      <th>22034</th>\n",
       "      <td>Wednesday music. https://www.youtube.com/watch...</td>\n",
       "      <td>0</td>\n",
       "      <td>0</td>\n",
       "      <td>0</td>\n",
       "    </tr>\n",
       "    <tr>\n",
       "      <th>22035</th>\n",
       "      <td>This is a really Big Surprise!  https://www.wn...</td>\n",
       "      <td>0</td>\n",
       "      <td>0</td>\n",
       "      <td>0</td>\n",
       "    </tr>\n",
       "  </tbody>\n",
       "</table>\n",
       "</div>"
      ],
      "text/plain": [
       "                                                    text  hd  cv  vo\n",
       "22026                         What does Gab-Pro give ya?   0   0   0\n",
       "22027  #354 TRUMP POLLS VS MEDIA MELTDOWN! | Jordan P...   0   0   0\n",
       "22028  The Founders never EVER dealt with a group tha...   0   0   0\n",
       "22029  Man [homosexually] molests 15-year-old boy on ...   0   0   0\n",
       "22030  So I saw #Skyscraper for you #GabFam. Now I ha...   0   0   0\n",
       "22031  I'm a fan of western civilization, and one bed...   0   0   0\n",
       "22032  Or ... is she saying that Muslims don't know h...   0   0   0\n",
       "22033  Thank you to all my followers that follow me e...   0   0   0\n",
       "22034  Wednesday music. https://www.youtube.com/watch...   0   0   0\n",
       "22035  This is a really Big Surprise!  https://www.wn...   0   0   0"
      ]
     },
     "execution_count": 5,
     "metadata": {},
     "output_type": "execute_result"
    }
   ],
   "source": [
    "#Bottom 10 rows in our dataset\n",
    "train_df.tail(10)"
   ]
  },
  {
   "cell_type": "code",
   "execution_count": 6,
   "id": "3be0f878-30ab-462c-b679-56ca38e26d7c",
   "metadata": {},
   "outputs": [
    {
     "data": {
      "text/html": [
       "<div>\n",
       "<style scoped>\n",
       "    .dataframe tbody tr th:only-of-type {\n",
       "        vertical-align: middle;\n",
       "    }\n",
       "\n",
       "    .dataframe tbody tr th {\n",
       "        vertical-align: top;\n",
       "    }\n",
       "\n",
       "    .dataframe thead th {\n",
       "        text-align: right;\n",
       "    }\n",
       "</style>\n",
       "<table border=\"1\" class=\"dataframe\">\n",
       "  <thead>\n",
       "    <tr style=\"text-align: right;\">\n",
       "      <th></th>\n",
       "      <th>hd</th>\n",
       "      <th>cv</th>\n",
       "      <th>vo</th>\n",
       "    </tr>\n",
       "  </thead>\n",
       "  <tbody>\n",
       "    <tr>\n",
       "      <th>count</th>\n",
       "      <td>22036.000000</td>\n",
       "      <td>22036.000000</td>\n",
       "      <td>22036.000000</td>\n",
       "    </tr>\n",
       "    <tr>\n",
       "      <th>mean</th>\n",
       "      <td>0.084271</td>\n",
       "      <td>0.005945</td>\n",
       "      <td>0.062579</td>\n",
       "    </tr>\n",
       "    <tr>\n",
       "      <th>std</th>\n",
       "      <td>0.277800</td>\n",
       "      <td>0.076875</td>\n",
       "      <td>0.242210</td>\n",
       "    </tr>\n",
       "    <tr>\n",
       "      <th>min</th>\n",
       "      <td>0.000000</td>\n",
       "      <td>0.000000</td>\n",
       "      <td>0.000000</td>\n",
       "    </tr>\n",
       "    <tr>\n",
       "      <th>25%</th>\n",
       "      <td>0.000000</td>\n",
       "      <td>0.000000</td>\n",
       "      <td>0.000000</td>\n",
       "    </tr>\n",
       "    <tr>\n",
       "      <th>50%</th>\n",
       "      <td>0.000000</td>\n",
       "      <td>0.000000</td>\n",
       "      <td>0.000000</td>\n",
       "    </tr>\n",
       "    <tr>\n",
       "      <th>75%</th>\n",
       "      <td>0.000000</td>\n",
       "      <td>0.000000</td>\n",
       "      <td>0.000000</td>\n",
       "    </tr>\n",
       "    <tr>\n",
       "      <th>max</th>\n",
       "      <td>1.000000</td>\n",
       "      <td>1.000000</td>\n",
       "      <td>1.000000</td>\n",
       "    </tr>\n",
       "  </tbody>\n",
       "</table>\n",
       "</div>"
      ],
      "text/plain": [
       "                 hd            cv            vo\n",
       "count  22036.000000  22036.000000  22036.000000\n",
       "mean       0.084271      0.005945      0.062579\n",
       "std        0.277800      0.076875      0.242210\n",
       "min        0.000000      0.000000      0.000000\n",
       "25%        0.000000      0.000000      0.000000\n",
       "50%        0.000000      0.000000      0.000000\n",
       "75%        0.000000      0.000000      0.000000\n",
       "max        1.000000      1.000000      1.000000"
      ]
     },
     "execution_count": 6,
     "metadata": {},
     "output_type": "execute_result"
    }
   ],
   "source": [
    "#Describe function to find total count,etc\n",
    "train_df.describe()"
   ]
  },
  {
   "cell_type": "code",
   "execution_count": 7,
   "id": "5284884b-0e9a-4274-a383-f851629f49b9",
   "metadata": {},
   "outputs": [
    {
     "name": "stdout",
     "output_type": "stream",
     "text": [
      "text    0\n",
      "hd      0\n",
      "cv      0\n",
      "vo      0\n",
      "dtype: int64\n"
     ]
    }
   ],
   "source": [
    "#how many nulls \n",
    "print(train_df.isnull().sum())"
   ]
  },
  {
   "cell_type": "code",
   "execution_count": 8,
   "id": "237a0a59-5017-43b7-84fc-510996c93756",
   "metadata": {},
   "outputs": [
    {
     "name": "stdout",
     "output_type": "stream",
     "text": [
      "(22036, 4)\n",
      "\n",
      "\n",
      "text    object\n",
      "hd       int64\n",
      "cv       int64\n",
      "vo       int64\n",
      "dtype: object\n"
     ]
    }
   ],
   "source": [
    "#in our case we have no null values as inferred from output on line 12\n",
    "#how does the data look like\n",
    "print(train_df.shape)#total rows x column count \n",
    "print(\"\\n\")\n",
    "print(train_df.dtypes)# each column data type"
   ]
  },
  {
   "cell_type": "code",
   "execution_count": 9,
   "id": "5539322d-1ff2-4979-9aa2-8e19a83d87e1",
   "metadata": {
    "scrolled": true
   },
   "outputs": [
    {
     "name": "stdout",
     "output_type": "stream",
     "text": [
      "<class 'pandas.core.frame.DataFrame'>\n",
      "RangeIndex: 22036 entries, 0 to 22035\n",
      "Data columns (total 4 columns):\n",
      " #   Column  Non-Null Count  Dtype \n",
      "---  ------  --------------  ----- \n",
      " 0   text    22036 non-null  object\n",
      " 1   hd      22036 non-null  int64 \n",
      " 2   cv      22036 non-null  int64 \n",
      " 3   vo      22036 non-null  int64 \n",
      "dtypes: int64(3), object(1)\n",
      "memory usage: 688.8+ KB\n",
      "________________________________________\n",
      "<class 'pandas.core.frame.DataFrame'>\n",
      "RangeIndex: 5510 entries, 0 to 5509\n",
      "Data columns (total 4 columns):\n",
      " #   Column  Non-Null Count  Dtype \n",
      "---  ------  --------------  ----- \n",
      " 0   text    5510 non-null   object\n",
      " 1   hd      5510 non-null   int64 \n",
      " 2   cv      5510 non-null   int64 \n",
      " 3   vo      5510 non-null   int64 \n",
      "dtypes: int64(3), object(1)\n",
      "memory usage: 172.3+ KB\n"
     ]
    }
   ],
   "source": [
    "#info gives count and datatype of it\n",
    "train_df.info()\n",
    "print('_'*40) #prints a separator line consisting of 40 underscores\n",
    "test_df.info() #displays a concise summary of DataFrame "
   ]
  },
  {
   "cell_type": "code",
   "execution_count": 10,
   "id": "165aafe7-e779-4bc2-abd9-cbda71148400",
   "metadata": {},
   "outputs": [
    {
     "data": {
      "text/plain": [
       "72"
      ]
     },
     "execution_count": 10,
     "metadata": {},
     "output_type": "execute_result"
    }
   ],
   "source": [
    "#finding duplicates\n",
    "train_df.duplicated().sum()"
   ]
  },
  {
   "cell_type": "code",
   "execution_count": 11,
   "id": "da12d793-6824-4271-8ad9-95cb087f4a91",
   "metadata": {},
   "outputs": [
    {
     "name": "stdout",
     "output_type": "stream",
     "text": [
      "                                                    text  hd  cv  vo\n",
      "3896                           I see what you did there.   0   0   0\n",
      "5426                                                Lol!   0   0   0\n",
      "5661   This is the amount of money necessary to buy t...   0   0   1\n",
      "6036   Just posted 1st of 3 final 'controversial' (in...   0   0   0\n",
      "6334                                            Maverick   0   0   0\n",
      "...                                                  ...  ..  ..  ..\n",
      "21122  GOD BLESS OUR INCREDIBLE PRESIDENT! RED TIDAL ...   0   0   0\n",
      "21407                                                  .   0   0   0\n",
      "21460                                       @Heartiste     0   0   0\n",
      "21531                   Worst. Strategic. Mistake. EVER.   0   0   0\n",
      "21976  SARA CARTER: John Kerry Officially Under Inves...   0   0   0\n",
      "\n",
      "[72 rows x 4 columns]\n"
     ]
    }
   ],
   "source": [
    "#output on line 27 shows our dataset has 72 duplicate values\n",
    "#now to see which values are duplicate \n",
    "duplicate_rows = train_df[train_df.duplicated()]\n",
    "print(duplicate_rows)\n"
   ]
  },
  {
   "cell_type": "code",
   "execution_count": 12,
   "id": "d6ea2779-87fa-4cbe-8094-935ead9165cb",
   "metadata": {},
   "outputs": [],
   "source": [
    "# removing the duplicates and keeing just the first occurrence\n",
    "train_df = train_df.drop_duplicates()\n"
   ]
  },
  {
   "cell_type": "code",
   "execution_count": 13,
   "id": "572dbe68-8e6d-4d46-bc82-4d07fea4ab8e",
   "metadata": {},
   "outputs": [
    {
     "data": {
      "text/plain": [
       "0"
      ]
     },
     "execution_count": 13,
     "metadata": {},
     "output_type": "execute_result"
    }
   ],
   "source": [
    "#again checking for duplicates \n",
    "train_df.duplicated().sum()"
   ]
  },
  {
   "cell_type": "code",
   "execution_count": 14,
   "id": "cf3c359c-1cd7-4b6a-a5a8-0ddfa9e8a7db",
   "metadata": {},
   "outputs": [
    {
     "name": "stdout",
     "output_type": "stream",
     "text": [
      "text\n",
      "'A confidential, 49-page memo for defeating Trump by working with the major social-media platforms to eliminate “right wing propaganda and fake news” was presented in January 2017  by Media Matters founder David Brock at a retreat in Florida with about 100 donors, the Washington Free Beacon reported at the time.' https://www.wnd.com/2018/08/mask-off-social-media-... #FAGS #So...    2\n",
      "He most likely converted to islam due to his nature being suitable for  islamic doctrine. \"Prophet\" Muhammad was a psychopath.                                                                                                                                                                                                                                                                   1\n",
      "The other way around! Just go to Birmingham or London!                                                                                                                                                                                                                                                                                                                                           1\n",
      "Officially official new company is Beeso. I'm really excited about what I'm working on. It's going to change how startups are done and funded. Total disruption.                                                                                                                                                                                                                                 1\n",
      "what a warm, sincere, smile                                                                                                                                                                                                                                                                                                                                                                      1\n",
      "                                                                                                                                                                                                                                                                                                                                                                                                ..\n",
      "They can take their halal and kosher back to the Middle East !                                                                                                                                                                                                                                                                                                                                   1\n",
      "Even George Bush (both of 'em) are Zionists. There are lots of people working on the Zionist agenda. CIA is Zionist. Most of the white house (hence all these wars) are Zionist.                                                                                                                                                                                                                 1\n",
      "“Amazing leadership”....BULL FUCKING SHIT!! HE is responsible FOR EVERY PERSON HE HIRES!! So rip that fuckers records apart and FIND A WAY to get him fired!!                                                                                                                                                                                                                                    1\n",
      "Women.                                                                                                                                                                                                                                                                                                                                                                                           1\n",
      "This is a really Big Surprise!  https://www.wnd.com/2018/08/mask-off-social-media-censor-king-revealed/                                                                                                                                                                                                                                                                                          1\n",
      "Name: count, Length: 21963, dtype: int64\n",
      "******************************\n"
     ]
    }
   ],
   "source": [
    "#output 0 on line 30 shows that now our dataset has no duplicate values \n",
    "#identifying garbage values (garbage values have \"object\" as their datatype)\n",
    "for i in train_df.select_dtypes(include=\"object\").columns:\n",
    "    print(train_df[i].value_counts())\n",
    "    print(\"***\"*10)"
   ]
  },
  {
   "cell_type": "code",
   "execution_count": 15,
   "id": "594001df-7d74-4754-bd44-836de1eb5f42",
   "metadata": {},
   "outputs": [
    {
     "data": {
      "text/html": [
       "<div>\n",
       "<style scoped>\n",
       "    .dataframe tbody tr th:only-of-type {\n",
       "        vertical-align: middle;\n",
       "    }\n",
       "\n",
       "    .dataframe tbody tr th {\n",
       "        vertical-align: top;\n",
       "    }\n",
       "\n",
       "    .dataframe thead th {\n",
       "        text-align: right;\n",
       "    }\n",
       "</style>\n",
       "<table border=\"1\" class=\"dataframe\">\n",
       "  <thead>\n",
       "    <tr style=\"text-align: right;\">\n",
       "      <th></th>\n",
       "      <th>count</th>\n",
       "      <th>mean</th>\n",
       "      <th>std</th>\n",
       "      <th>min</th>\n",
       "      <th>25%</th>\n",
       "      <th>50%</th>\n",
       "      <th>75%</th>\n",
       "      <th>max</th>\n",
       "    </tr>\n",
       "  </thead>\n",
       "  <tbody>\n",
       "    <tr>\n",
       "      <th>hd</th>\n",
       "      <td>21964.0</td>\n",
       "      <td>0.084456</td>\n",
       "      <td>0.278077</td>\n",
       "      <td>0.0</td>\n",
       "      <td>0.0</td>\n",
       "      <td>0.0</td>\n",
       "      <td>0.0</td>\n",
       "      <td>1.0</td>\n",
       "    </tr>\n",
       "    <tr>\n",
       "      <th>cv</th>\n",
       "      <td>21964.0</td>\n",
       "      <td>0.005964</td>\n",
       "      <td>0.077000</td>\n",
       "      <td>0.0</td>\n",
       "      <td>0.0</td>\n",
       "      <td>0.0</td>\n",
       "      <td>0.0</td>\n",
       "      <td>1.0</td>\n",
       "    </tr>\n",
       "    <tr>\n",
       "      <th>vo</th>\n",
       "      <td>21964.0</td>\n",
       "      <td>0.062693</td>\n",
       "      <td>0.242416</td>\n",
       "      <td>0.0</td>\n",
       "      <td>0.0</td>\n",
       "      <td>0.0</td>\n",
       "      <td>0.0</td>\n",
       "      <td>1.0</td>\n",
       "    </tr>\n",
       "  </tbody>\n",
       "</table>\n",
       "</div>"
      ],
      "text/plain": [
       "      count      mean       std  min  25%  50%  75%  max\n",
       "hd  21964.0  0.084456  0.278077  0.0  0.0  0.0  0.0  1.0\n",
       "cv  21964.0  0.005964  0.077000  0.0  0.0  0.0  0.0  1.0\n",
       "vo  21964.0  0.062693  0.242416  0.0  0.0  0.0  0.0  1.0"
      ]
     },
     "execution_count": 15,
     "metadata": {},
     "output_type": "execute_result"
    }
   ],
   "source": [
    "#Exploratory Data Analysis (EDA)\n",
    "#descriptive statistics \n",
    "train_df.describe().T"
   ]
  },
  {
   "cell_type": "code",
   "execution_count": 16,
   "id": "8e45bcdd-5ef3-4291-9141-d4090ca3285b",
   "metadata": {},
   "outputs": [
    {
     "data": {
      "text/html": [
       "<div>\n",
       "<style scoped>\n",
       "    .dataframe tbody tr th:only-of-type {\n",
       "        vertical-align: middle;\n",
       "    }\n",
       "\n",
       "    .dataframe tbody tr th {\n",
       "        vertical-align: top;\n",
       "    }\n",
       "\n",
       "    .dataframe thead th {\n",
       "        text-align: right;\n",
       "    }\n",
       "</style>\n",
       "<table border=\"1\" class=\"dataframe\">\n",
       "  <thead>\n",
       "    <tr style=\"text-align: right;\">\n",
       "      <th></th>\n",
       "      <th>text</th>\n",
       "    </tr>\n",
       "  </thead>\n",
       "  <tbody>\n",
       "    <tr>\n",
       "      <th>count</th>\n",
       "      <td>21964</td>\n",
       "    </tr>\n",
       "    <tr>\n",
       "      <th>unique</th>\n",
       "      <td>21963</td>\n",
       "    </tr>\n",
       "    <tr>\n",
       "      <th>top</th>\n",
       "      <td>'A confidential, 49-page memo for defeating Tr...</td>\n",
       "    </tr>\n",
       "    <tr>\n",
       "      <th>freq</th>\n",
       "      <td>2</td>\n",
       "    </tr>\n",
       "  </tbody>\n",
       "</table>\n",
       "</div>"
      ],
      "text/plain": [
       "                                                     text\n",
       "count                                               21964\n",
       "unique                                              21963\n",
       "top     'A confidential, 49-page memo for defeating Tr...\n",
       "freq                                                    2"
      ]
     },
     "execution_count": 16,
     "metadata": {},
     "output_type": "execute_result"
    }
   ],
   "source": [
    "train_df.describe(include=\"object\")"
   ]
  },
  {
   "cell_type": "code",
   "execution_count": 17,
   "id": "7ab31c52-d719-4b08-81ee-9645f84fd9c2",
   "metadata": {},
   "outputs": [
    {
     "data": {
      "image/png": "[encoded data removed]",
      "text/plain": [
       "<Figure size 640x480 with 1 Axes>"
      ]
     },
     "metadata": {},
     "output_type": "display_data"
    },
    {
     "data": {
      "image/png": "[encoded data removed]",
      "text/plain": [
       "<Figure size 640x480 with 1 Axes>"
      ]
     },
     "metadata": {},
     "output_type": "display_data"
    },
    {
     "data": {
      "image/png": "[encoded data removed]",
      "text/plain": [
       "<Figure size 640x480 with 1 Axes>"
      ]
     },
     "metadata": {},
     "output_type": "display_data"
    }
   ],
   "source": [
    "#histogram to understand the distribution of data\n",
    "import warnings\n",
    "warnings.filterwarnings(\"ignore\")\n",
    "for i in train_df.select_dtypes(include=\"number\").columns:\n",
    "    sns.histplot(data=train_df,x=i)\n",
    "    plt.show()\n"
   ]
  },
  {
   "cell_type": "code",
   "execution_count": 18,
   "id": "f61f0d84-c2ab-4a37-8eb2-4400b4a85fa0",
   "metadata": {},
   "outputs": [
    {
     "data": {
      "image/png": "[encoded data removed]",
      "text/plain": [
       "<Figure size 640x480 with 1 Axes>"
      ]
     },
     "metadata": {},
     "output_type": "display_data"
    },
    {
     "data": {
      "image/png": "[encoded data removed]",
      "text/plain": [
       "<Figure size 640x480 with 1 Axes>"
      ]
     },
     "metadata": {},
     "output_type": "display_data"
    },
    {
     "data": {
      "image/png": "[encoded data removed]",
      "text/plain": [
       "<Figure size 640x480 with 1 Axes>"
      ]
     },
     "metadata": {},
     "output_type": "display_data"
    }
   ],
   "source": [
    "#boxplot to identify outliers\n",
    "import warnings\n",
    "warnings.filterwarnings(\"ignore\")\n",
    "for i in train_df.select_dtypes(include=\"number\").columns:\n",
    "    sns.boxplot(data=train_df,x=i)\n",
    "    plt.show()\n"
   ]
  },
  {
   "cell_type": "code",
   "execution_count": 29,
   "id": "02876dc8-a81b-4c91-baf9-0aaa5b7c7be5",
   "metadata": {},
   "outputs": [
    {
     "name": "stdout",
     "output_type": "stream",
     "text": [
      "                                                text  hd  cv  vo\n",
      "0  He most likely converted to islam due to his n...   0   0   0\n",
      "1  So Ford lied about being a psychologist Record...   0   0   0\n",
      "2         Jobs Education Ending abuse of Nation CA43   0   0   0\n",
      "3  I share a lot of your values  like many who do...   0   0   0\n",
      "4  I am so ready to get back to blogging wwwbenbr...   0   0   0\n"
     ]
    }
   ],
   "source": [
    "# Remove punctuations and symbols\n",
    "def remove_punctuation(text):\n",
    "    if isinstance(text, str):\n",
    "        return text.translate(str.maketrans('', '', string.punctuation))\n",
    "    return text\n",
    "\n",
    "# Apply the function to all string cells in the DataFrame\n",
    "train_df = train_df.applymap(remove_punctuation)\n",
    "print(train_df.head())"
   ]
  },
  {
   "cell_type": "code",
   "execution_count": 31,
   "id": "df4e132d-f270-4874-ab2b-7639cf6dc1c4",
   "metadata": {},
   "outputs": [
    {
     "name": "stderr",
     "output_type": "stream",
     "text": [
      "[nltk_data] Downloading package punkt to\n",
      "[nltk_data]     C:\\Users\\DELL\\AppData\\Roaming\\nltk_data...\n",
      "[nltk_data]   Package punkt is already up-to-date!\n"
     ]
    },
    {
     "name": "stdout",
     "output_type": "stream",
     "text": [
      "                                                text  hd  cv  vo\n",
      "0  [He, most, likely, converted, to, islam, due, ...   0   0   0\n",
      "1  [So, Ford, lied, about, being, a, psychologist...   0   0   0\n",
      "2  [Jobs, Education, Ending, abuse, of, Nation, C...   0   0   0\n",
      "3  [I, share, a, lot, of, your, values, like, man...   0   0   0\n",
      "4  [I, am, so, ready, to, get, back, to, blogging...   0   0   0\n"
     ]
    }
   ],
   "source": [
    "import nltk\n",
    "from nltk.tokenize import word_tokenize\n",
    "# Download the necessary NLTK resources\n",
    "nltk.download('punkt')\n",
    "# Define a function to tokenize sentences\n",
    "def tokenize_text(text):\n",
    "    if isinstance(text, str):\n",
    "        return word_tokenize(text)\n",
    "    return text\n",
    "\n",
    "# Apply the function to all cells in the DataFrame\n",
    "train_df = train_df.applymap(tokenize_text)\n",
    "\n",
    "# Display a few rows of the tokenized DataFrame\n",
    "print(train_df.head())"
   ]
  },
  {
   "cell_type": "code",
   "execution_count": 49,
   "id": "a6687c8d-3e50-4012-9333-3621fa0d9c63",
   "metadata": {},
   "outputs": [
    {
     "name": "stderr",
     "output_type": "stream",
     "text": [
      "[nltk_data] Downloading package punkt to\n",
      "[nltk_data]     C:\\Users\\DELL\\AppData\\Roaming\\nltk_data...\n",
      "[nltk_data]   Package punkt is already up-to-date!\n",
      "[nltk_data] Downloading package stopwords to\n",
      "[nltk_data]     C:\\Users\\DELL\\AppData\\Roaming\\nltk_data...\n",
      "[nltk_data]   Package stopwords is already up-to-date!\n"
     ]
    },
    {
     "name": "stdout",
     "output_type": "stream",
     "text": [
      "{'will', 'other', 'has', 'whom', \"wasn't\", 'haven', \"couldn't\", 'we', 'as', 'she', \"doesn't\", 'while', 's', 'for', 'to', 'he', \"mustn't\", 'their', 'should', 'just', 'our', 'than', \"should've\", 'isn', 'weren', 'and', 'they', 'are', 'about', 'few', \"haven't\", 'its', 'll', \"needn't\", 'was', 'out', 'below', 'am', 'won', \"you'll\", 'further', 'no', 'ma', 'i', 'my', 'her', 'each', 'ain', 'me', \"it's\", 'does', 'now', \"that'll\", 'again', 'such', \"hadn't\", 'same', 'is', 'themselves', 'very', \"won't\", 'shouldn', 'these', 'why', 'hasn', 'itself', 'can', 'that', 'when', 'himself', \"she's\", 'too', \"aren't\", \"isn't\", 'up', 'under', 'ourselves', 'doing', 'those', 'in', 'having', 'them', 'off', 'wasn', 'who', 'there', 'from', 'which', 'have', 'ours', 'so', 'but', 'before', 'it', 'after', 'yourselves', 'because', 'or', 'the', \"hasn't\", 'shan', 'all', 'y', \"didn't\", 'then', 'against', 'not', \"shan't\", \"you're\", \"you've\", 'your', 'on', 'what', 'over', 'most', 'myself', 'being', 'here', 'been', 'down', 'couldn', 'between', 'by', 'above', 'yourself', 'hers', 'until', 'where', 'didn', 'during', 'both', 'needn', 'you', 'o', \"you'd\", 'him', 'if', 'into', \"mightn't\", 'm', 'theirs', 'only', 'at', 'wouldn', 'did', 'with', 're', 'doesn', 'yours', 'nor', \"wouldn't\", 'were', \"weren't\", 'of', 'be', 'an', 'hadn', 'through', 'a', 'any', 'mightn', 'mustn', 'd', 'don', \"don't\", 'own', 'his', 'once', 'aren', \"shouldn't\", 'some', 'do', 'herself', 'had', 've', 'more', 't', 'how', 'this'}\n",
      "Cleaned Train DataFrame:\n",
      "                                                text  hd  cv  vo\n",
      "0  likely converted islam due nature suitable isl...   0   0   0\n",
      "1  Ford lied psychologist . Records seem indicate...   0   0   0\n",
      "2    Jobs . Education . Ending abuse Nation . CA43 .   0   0   0\n",
      "3  share lot values , & like many , n't call alt ...   0   0   0\n",
      "4  ready get back blogging ! www.benbrihouse.com ...   0   0   0\n",
      "Cleaned Test DataFrame:\n",
      "                                                text  hd  cv  vo\n",
      "0  https : //www.youtube.com/watch ? v=kACWpKAKta...   0   0   0\n",
      "1  nice ! tend get tired constant stream ridiculo...   0   0   0\n",
      "2     Watch today . https : //circumcisionmovie.com/   0   0   0\n",
      "3  `` Thinking Venues `` First Color Layer blocki...   0   0   0\n",
      "4  death penalty perpetrators expelling remaining...   0   0   0\n"
     ]
    }
   ],
   "source": [
    "import nltk\n",
    "from nltk.corpus import stopwords\n",
    "from nltk.tokenize import word_tokenize\n",
    "\n",
    "#stopwords are commonly used words in a language that are often ignored  or filtered out in natural language processing\n",
    "#tasks beacuase they carry less meaningful information compared to other words\n",
    "# Download the necessary NLTK resources\n",
    "nltk.download('punkt')\n",
    "nltk.download('stopwords')\n",
    "\n",
    "# Get the list of stopwords\n",
    "stop_words = set(stopwords.words('english'))\n",
    "print(stop_words)\n",
    "\n",
    "# Define a function to remove stopwords\n",
    "def remove_stopwords(text):\n",
    "    if isinstance(text, str):\n",
    "        words = word_tokenize(text)\n",
    "        return ' '.join([word for word in words if word.lower() not in stop_words])\n",
    "    return text\n",
    "\n",
    "# Function to process a chunk\n",
    "def process_chunk(chunk):\n",
    "    return chunk.applymap(remove_stopwords)\n",
    "\n",
    "# Process the train dataset in chunks\n",
    "train_processed_chunks = []\n",
    "chunk_size = 21976\n",
    "for chunk in pd.read_csv(train_file_path, sep='\\t', chunksize=chunk_size):\n",
    "    processed_chunk = process_chunk(chunk)\n",
    "    train_processed_chunks.append(processed_chunk)\n",
    "\n",
    "# Concatenate all processed chunks into a single DataFrame for train data\n",
    "train_df_cleaned = pd.concat(train_processed_chunks, ignore_index=True)\n",
    "\n",
    "# Process the test dataset in chunks\n",
    "test_processed_chunks = []\n",
    "for chunk in pd.read_csv(test_file_path, sep='\\t', chunksize=chunk_size):\n",
    "    processed_chunk = process_chunk(chunk)\n",
    "    test_processed_chunks.append(processed_chunk)\n",
    "\n",
    "# Concatenate all processed chunks into a single DataFrame for test data\n",
    "test_df_cleaned = pd.concat(test_processed_chunks, ignore_index=True)\n",
    "\n",
    "# Display a few rows of the cleaned train DataFrame\n",
    "print(\"Cleaned Train DataFrame:\")\n",
    "print(train_df_cleaned.head())\n",
    "\n",
    "# Display a few rows of the cleaned test DataFrame\n",
    "print(\"Cleaned Test DataFrame:\")\n",
    "print(test_df_cleaned.head())\n"
   ]
  },
  {
   "cell_type": "code",
   "execution_count": 37,
   "id": "5c0ef435-d2cb-40f0-a702-6f4642b20491",
   "metadata": {},
   "outputs": [
    {
     "name": "stdout",
     "output_type": "stream",
     "text": [
      "Cleaned Train DataFrame:\n",
      "                                                text  hd  cv  vo\n",
      "0  he most like convert to islam due to hi natur ...   0   0   0\n",
      "1  so ford lie about be a psychologist . record s...   0   0   0\n",
      "2           job . educ . end abus of nation . ca43 .   0   0   0\n",
      "3  i share a lot of your valu , & like mani who d...   0   0   0\n",
      "4  i am so readi to get back to blog ! www.benbri...   0   0   0\n",
      "Cleaned Test DataFrame:\n",
      "                                                text  hd  cv  vo\n",
      "0  http : //www.youtube.com/watch ? v=kacwpkaktak...   0   0   0\n",
      "1  veri nice ! i tend to get tire of the constant...   0   0   0\n",
      "2      watch today . http : //circumcisionmovie.com/   0   0   0\n",
      "3  `` think venu `` first color layer block in fi...   0   0   0\n",
      "4  what about death penalti for perpetr and expel...   0   0   0\n"
     ]
    }
   ],
   "source": [
    "import nltk\n",
    "from nltk.stem import PorterStemmer\n",
    "from nltk.tokenize import word_tokenize\n",
    "\n",
    "#Stemming is an NLP technique used to reducce words to their base or root form. \n",
    "#for eg, the words \"running\", \"runner\", and \"ran\" can all be reduced to the stem \"run\"\n",
    "\n",
    "# Initialize the PorterStemmer\n",
    "stemmer = PorterStemmer()\n",
    "\n",
    "# Define a function to perform stemming\n",
    "def stem_text(text):\n",
    "    if isinstance(text, str):\n",
    "        words = word_tokenize(text)\n",
    "        return ' '.join([stemmer.stem(word) for word in words])\n",
    "    return text\n",
    "\n",
    "# Function to process a chunk\n",
    "def process_chunk(chunk):\n",
    "    return chunk.applymap(stem_text)\n",
    "\n",
    "# Process the train dataset in chunks\n",
    "train_processed_chunks = []\n",
    "chunk_size = 21976  \n",
    "for chunk in pd.read_csv(train_file_path, sep='\\t', chunksize=chunk_size):\n",
    "    processed_chunk = process_chunk(chunk)\n",
    "    train_processed_chunks.append(processed_chunk)\n",
    "\n",
    "# Concatenate all processed chunks into a single DataFrame for train data\n",
    "train_df= pd.concat(train_processed_chunks, ignore_index=True)\n",
    "\n",
    "# Process the test dataset in chunks\n",
    "test_processed_chunks = []\n",
    "for chunk in pd.read_csv(test_file_path, sep='\\t', chunksize=chunk_size):\n",
    "    processed_chunk = process_chunk(chunk)\n",
    "    test_processed_chunks.append(processed_chunk)\n",
    "\n",
    "# Concatenate all processed chunks into a single DataFrame for test data\n",
    "test_df = pd.concat(test_processed_chunks, ignore_index=True)\n",
    "\n",
    "# Display a few rows of the cleaned train DataFrame\n",
    "print(\"Cleaned Train DataFrame:\")\n",
    "print(train_df.head())\n",
    "\n",
    "# Display a few rows of the cleaned test DataFrame\n",
    "print(\"Cleaned Test DataFrame:\")\n",
    "print(test_df.head())\n"
   ]
  },
  {
   "cell_type": "code",
   "execution_count": 39,
   "id": "7e98fa2f-56d9-42e5-8e54-9d41d959ac01",
   "metadata": {},
   "outputs": [
    {
     "name": "stderr",
     "output_type": "stream",
     "text": [
      "[nltk_data] Downloading package punkt to\n",
      "[nltk_data]     C:\\Users\\DELL\\AppData\\Roaming\\nltk_data...\n",
      "[nltk_data]   Package punkt is already up-to-date!\n",
      "[nltk_data] Downloading package wordnet to\n",
      "[nltk_data]     C:\\Users\\DELL\\AppData\\Roaming\\nltk_data...\n",
      "[nltk_data]   Package wordnet is already up-to-date!\n"
     ]
    },
    {
     "name": "stdout",
     "output_type": "stream",
     "text": [
      "Cleaned Train DataFrame:\n",
      "                                                text  hd  cv  vo\n",
      "0  He most likely converted to islam due to his n...   0   0   0\n",
      "1  So Ford lied about being a psychologist . Reco...   0   0   0\n",
      "2  Jobs . Education . Ending abuse of Nation . CA...   0   0   0\n",
      "3  I share a lot of your value , & like many who ...   0   0   0\n",
      "4  I am so ready to get back to blogging ! www.be...   0   0   0\n",
      "Cleaned Test DataFrame:\n",
      "                                                text  hd  cv  vo\n",
      "0  http : //www.youtube.com/watch ? v=kACWpKAKtak...   0   0   0\n",
      "1  Very nice ! I tend to get tired of the constan...   0   0   0\n",
      "2      Watch today . http : //circumcisionmovie.com/   0   0   0\n",
      "3  `` Thinking Venues `` First Color Layer blocki...   0   0   0\n",
      "4  What about death penalty for perpetrator and e...   0   0   0\n"
     ]
    }
   ],
   "source": [
    "#Lemmitization ia a NLP technique that invloves reducing words to thier base or dictionary form, known as the lemma. \n",
    "#eg: words: \"running\", \"ran\", \"runs\" ..... lemma:\"run\"\n",
    "#eg: words: \"better\" (adjective).....lemma:\"good\"\n",
    "\n",
    "\n",
    "import pandas as pd\n",
    "import nltk\n",
    "from nltk.stem import WordNetLemmatizer\n",
    "from nltk.tokenize import word_tokenize\n",
    "\n",
    "# Download the necessary NLTK resources\n",
    "nltk.download('punkt')\n",
    "nltk.download('wordnet')\n",
    "\n",
    "# Initialize the WordNetLemmatizer\n",
    "lemmatizer = WordNetLemmatizer()\n",
    "\n",
    "# Define a function to perform lemmatization\n",
    "def lemmatize_text(text):\n",
    "    if isinstance(text, str):\n",
    "        words = word_tokenize(text)\n",
    "        return ' '.join([lemmatizer.lemmatize(word) for word in words])\n",
    "    return text\n",
    "\n",
    "# Function to process a chunk\n",
    "def process_chunk(chunk):\n",
    "    return chunk.applymap(lemmatize_text)\n",
    "\n",
    "# Process the train dataset in chunks\n",
    "train_processed_chunks = []\n",
    "chunk_size = 21976\n",
    "for chunk in pd.read_csv(train_file_path, sep='\\t', chunksize=chunk_size):\n",
    "    processed_chunk = process_chunk(chunk)\n",
    "    train_processed_chunks.append(processed_chunk)\n",
    "\n",
    "# Concatenate all processed chunks into a single DataFrame for train data\n",
    "train_df_cleaned = pd.concat(train_processed_chunks, ignore_index=True)\n",
    "\n",
    "# Process the test dataset in chunks\n",
    "test_processed_chunks = []\n",
    "for chunk in pd.read_csv(test_file_path, sep='\\t', chunksize=chunk_size):\n",
    "    processed_chunk = process_chunk(chunk)\n",
    "    test_processed_chunks.append(processed_chunk)\n",
    "\n",
    "# Concatenate all processed chunks into a single DataFrame for test data\n",
    "test_df_cleaned = pd.concat(test_processed_chunks, ignore_index=True)\n",
    "\n",
    "# Display a few rows of the cleaned train DataFrame\n",
    "print(\"Cleaned Train DataFrame:\")\n",
    "print(train_df_cleaned.head())\n",
    "\n",
    "# Display a few rows of the cleaned test DataFrame\n",
    "print(\"Cleaned Test DataFrame:\")\n",
    "print(test_df_cleaned.head())\n",
    "\n"
   ]
  },
  {
   "cell_type": "code",
   "execution_count": 47,
   "id": "82dc422b-74be-42a0-883a-e2a44b914f98",
   "metadata": {},
   "outputs": [
    {
     "name": "stderr",
     "output_type": "stream",
     "text": [
      "[nltk_data] Downloading package punkt to\n",
      "[nltk_data]     C:\\Users\\DELL\\AppData\\Roaming\\nltk_data...\n",
      "[nltk_data]   Package punkt is already up-to-date!\n",
      "[nltk_data] Downloading package stopwords to\n",
      "[nltk_data]     C:\\Users\\DELL\\AppData\\Roaming\\nltk_data...\n",
      "[nltk_data]   Package stopwords is already up-to-date!\n"
     ]
    },
    {
     "name": "stdout",
     "output_type": "stream",
     "text": [
      "[('’', 2117), ('like', 1832), ('people', 1743), ('one', 1485), ('get', 1367), ('dont', 1358), ('trump', 1319), ('would', 1290), ('us', 1130), ('know', 1074), ('im', 989), ('time', 989), ('good', 986), ('think', 901), ('see', 882), ('right', 807), ('new', 800), ('want', 766), ('white', 756), ('go', 720), ('need', 706), ('even', 702), ('gab', 698), ('back', 697), ('going', 684), ('make', 673), ('never', 670), ('well', 650), ('way', 621), ('still', 581), ('really', 580), ('take', 575), ('”', 572), ('got', 568), ('“', 561), ('much', 556), ('say', 553), ('day', 545), ('twitter', 532), ('great', 531), ('world', 519), ('many', 511), ('cant', 495), ('could', 494), ('thats', 493), ('free', 488), ('shit', 471), ('jews', 466), ('first', 465), ('years', 461), ('man', 459), ('left', 458), ('also', 454), ('god', 453), ('thing', 446), ('love', 441), ('look', 436), ('news', 432), ('said', 425), ('america', 424), ('every', 422), ('today', 421), ('another', 418), ('president', 414), ('country', 412), ('something', 409), ('real', 405), ('lol', 404), ('media', 398), ('ever', 395), ('nothing', 393), ('live', 385), ('use', 382), ('youre', 369), ('must', 366), ('video', 366), ('fuck', 362), ('post', 357), ('state', 357), ('work', 356), ('little', 356), ('may', 355), ('give', 354), ('anyone', 353), ('better', 352), ('always', 351), ('war', 350), ('women', 350), ('keep', 345), ('sure', 345), ('fucking', 345), ('long', 341), ('2', 340), ('maga', 340), ('black', 334), ('things', 332), ('hate', 332), ('life', 329), ('come', 328), ('read', 328)]\n"
     ]
    }
   ],
   "source": [
    "import pandas as pd\n",
    "import nltk\n",
    "from nltk.corpus import stopwords\n",
    "from nltk.tokenize import word_tokenize\n",
    "from collections import Counter\n",
    "import string\n",
    "\n",
    "# Download necessary NLTK resources\n",
    "nltk.download('punkt')\n",
    "nltk.download('stopwords')\n",
    "\n",
    "# File paths (already provided and loaded)\n",
    "train_file_path = r'F:\\moVies\\Springboard\\data\\ghc_train.tsv'\n",
    "test_file_path = r'F:\\moVies\\Springboard\\data\\ghc_test.tsv'\n",
    "train_df = pd.read_csv(train_file_path, sep='\\t')\n",
    "test_df = pd.read_csv(test_file_path, sep='\\t')\n",
    "\n",
    "# Combine train and test datasets\n",
    "combined_df = pd.concat([train_df, test_df], ignore_index=True)\n",
    "\n",
    "# Get the list of stopwords\n",
    "stop_words = set(stopwords.words('english'))\n",
    "\n",
    "# Define a function to preprocess the text\n",
    "def preprocess_text(text):\n",
    "    if isinstance(text, str):\n",
    "        # Remove punctuation\n",
    "        text = text.translate(str.maketrans('', '', string.punctuation))\n",
    "        # Tokenize the text\n",
    "        words = word_tokenize(text)\n",
    "        # Remove stopwords and convert to lowercase\n",
    "        words = [word.lower() for word in words if word.lower() not in stop_words]\n",
    "        return words\n",
    "    return []\n",
    "\n",
    "# Apply preprocessing to the text column (assuming text column is named 'text')\n",
    "combined_df['cleaned_text'] = combined_df['text'].apply(preprocess_text)\n",
    "\n",
    "# Flatten the list of words\n",
    "all_words = [word for words in combined_df['cleaned_text'] for word in words]\n",
    "\n",
    "# Calculate word frequencies\n",
    "word_freq = Counter(all_words)\n",
    "\n",
    "# Display the most common words\n",
    "common_words = word_freq.most_common(100)  # Adjust the number as needed\n",
    "print(common_words)\n"
   ]
  },
  {
   "cell_type": "code",
   "execution_count": 48,
   "id": "fecde81b-0790-4eef-936a-76d07451c335",
   "metadata": {},
   "outputs": [
    {
     "name": "stdout",
     "output_type": "stream",
     "text": [
      "Data after classification:\n",
      "                                                text label\n",
      "0  He most likely converted to islam due to his n...     h\n",
      "1  So Ford lied about being a psychologist. Recor...     h\n",
      "2     Jobs. Education. Ending abuse of Nation. CA43.    nh\n",
      "3  I share a lot of your values, & like many who ...     h\n",
      "4  I am so ready to get back to blogging! www.ben...    nh\n",
      "                                                text label\n",
      "0  https://www.youtube.com/watch?v=kACWpKAKtak A ...    nh\n",
      "1  Very nice! I tend to get tired of the constant...     h\n",
      "2        Watch today. https://circumcisionmovie.com/    nh\n",
      "3  \" Thinking Venues \" First Color Layer blocking...    nh\n",
      "4  What about death penalty for perpetrators  and...     h\n"
     ]
    }
   ],
   "source": [
    "# Define high-frequency stereotypical words list for hate speech detection\n",
    "stereotypical_words = ['fuck', 'black', 'women'] \n",
    "# Function to detect hate speech based on the provided definitions\n",
    "def detect_hate_speech(text):\n",
    "    # Initialize variables to track hate-based rhetoric\n",
    "    hate_based_rhetoric = {\n",
    "        'HD': False,  # Hate-Based Derogatory Language\n",
    "        'CV': False,  # Calls for Violence\n",
    "        'VO': False,  # Vulgarity/Offensive Language directed at an individual\n",
    "        'SXO': False, # Sexual Orientation\n",
    "        'RAE': False, # Racial or Ethnicity-based\n",
    "        'EX': False   # Expressions of Hate\n",
    "    }\n",
    "    \n",
    "    # Check for high-frequency stereotypical words\n",
    "    for word in stereotypical_words:\n",
    "        if word in text:\n",
    "            hate_based_rhetoric['HD'] = True\n",
    "            \n",
    "    # Check for unnecessary labeling (example: \"a Jew\", \"a Muslim\", etc.)\n",
    "    if re.search(r'\\ba\\s+\\w+\\b', text):\n",
    "        hate_based_rhetoric['HD'] = True\n",
    "    \n",
    "    # Check for other hate-based rhetoric\n",
    "    if re.search(r'\\b(deported|thrown off a roof)\\b', text):\n",
    "        hate_based_rhetoric['CV'] = True\n",
    "    if re.search(r'\\b(muzzie)\\b', text):\n",
    "        hate_based_rhetoric['VO'] = True\n",
    "    if re.search(r'\\b(sexual orientation)\\b', text):\n",
    "        hate_based_rhetoric['SXO'] = True\n",
    "    if re.search(r'\\b(black|Muslim|middle easterner|africans)\\b', text):\n",
    "        hate_based_rhetoric['RAE'] = True\n",
    "    if re.search(r'\\b(hate)\\b', text):\n",
    "        hate_based_rhetoric['EX'] = True\n",
    "    \n",
    "    # Classify the text based on the presence of hate-based rhetoric\n",
    "    if any(hate_based_rhetoric.values()):\n",
    "        return 'h'  # Hate speech detected\n",
    "    else:\n",
    "        return 'nh' # Not hateful\n",
    "\n",
    "# Apply text classification for hate speech detection\n",
    "train_df['label'] = train_df['text'].apply(detect_hate_speech)\n",
    "test_df['label'] = test_df['text'].apply(detect_hate_speech)\n",
    "\n",
    "# Display data after classification\n",
    "print(\"Data after classification:\")\n",
    "print(train_df[['text', 'label']].head())\n",
    "print(test_df[['text', 'label']].head())"
   ]
  },
  {
   "cell_type": "code",
   "execution_count": null,
   "id": "a04e83be-bd38-4e05-81b5-2147ce66ffbc",
   "metadata": {},
   "outputs": [],
   "source": []
  }
 ],
 "metadata": {
  "kernelspec": {
   "display_name": "Python 3 (ipykernel)",
   "language": "python",
   "name": "python3"
  },
  "language_info": {
   "codemirror_mode": {
    "name": "ipython",
    "version": 3
   },
   "file_extension": ".py",
   "mimetype": "text/x-python",
   "name": "python",
   "nbconvert_exporter": "python",
   "pygments_lexer": "ipython3",
   "version": "3.12.3"
  }
 },
 "nbformat": 4,
 "nbformat_minor": 5
}
